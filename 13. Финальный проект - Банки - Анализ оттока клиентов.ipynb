{
 "cells": [
  {
   "cell_type": "markdown",
   "id": "cd98f3de",
   "metadata": {},
   "source": [
    "### Финальный проект: Банки - Анализ оттока клиентов"
   ]
  },
  {
   "cell_type": "markdown",
   "id": "d2732bd4",
   "metadata": {},
   "source": [
    "### Задача**:**\n",
    "\n",
    "Проанализируйте клиентов регионального банка и выделить портрет клиентов, которые склонны уходить из банка.\n",
    "\n",
    "- Проведите исследовательский анализ данных,\n",
    "- Выделите портреты клиентов, которые склонны уходить из банка,\n",
    "- Сформулируйте и проверьте статистические гипотезы."
   ]
  },
  {
   "cell_type": "markdown",
   "id": "3f5d0020",
   "metadata": {},
   "source": [
    "### Описание датасетов\n",
    "\n",
    "Датасет содержит данные о клиентах банка «Метанпром». Банк располагается в Ярославле и областных городах: Ростов Великий и Рыбинск.\n",
    "\n",
    "Колонки:\n",
    "\n",
    "- `userid` — идентификатор пользователя,\n",
    "- `score` — баллы кредитного скоринга,\n",
    "- `City` — город,\n",
    "- `Gender` — пол,\n",
    "- `Age` — возраст,\n",
    "- `Objects` — количество объектов в собственности,\n",
    "- `Balance` — баланс на счёте,\n",
    "- `Products` — количество продуктов, которыми пользуется клиент,\n",
    "- `CreditCard` — есть ли кредитная карта,\n",
    "- `Loyalty` — активный клиент,\n",
    "- `estimated_salary` — заработная плата клиента,\n",
    "- `Churn` — ушёл или нет."
   ]
  },
  {
   "cell_type": "markdown",
   "id": "ea43efee",
   "metadata": {},
   "source": [
    "### Ссылка на презентацию: https://disk.yandex.ru/i/C3mRMrBkOJ3GcQ"
   ]
  },
  {
   "cell_type": "markdown",
   "id": "bd5e6f6b",
   "metadata": {},
   "source": [
    "<div class='alert alert-warning'>⚠️\n",
    "В презентации содержится базовая информация по изученным данным. Здорово что использовал дополнительные графические элементы, это облегчает восприятие информации. Но в презентации присутствует перекос в сторону текстовой информации, не хватает графиков для наглядной визуализации. "
   ]
  },
  {
   "cell_type": "markdown",
   "id": "73090781",
   "metadata": {},
   "source": [
    "<div class='alert alert-success'>👍\n",
    "Спасибо за правки, так получилось более наглядно представить информацию. В будущем стоит обращать внимание на подписи отметок на графиках. Не должно быть лишних отметок для категориальных признаков, а также лучше делать пометку со значением 0/1 для бинарных признаков."
   ]
  },
  {
   "cell_type": "markdown",
   "id": "8bb818a1",
   "metadata": {},
   "source": [
    "<span style=\"color:blue\"> **Заменил презентацию, добавил визуализации, прикрепил ссылку на дашборд**"
   ]
  },
  {
   "cell_type": "markdown",
   "id": "8cb735b0",
   "metadata": {},
   "source": [
    "### Ссылка на дашборд: https://u.to/l8kRHA"
   ]
  },
  {
   "cell_type": "markdown",
   "id": "0cb52ba3",
   "metadata": {},
   "source": [
    "<div class='alert alert-success'>👍\n",
    "Дашборд принят, все критерии соблюдены!"
   ]
  },
  {
   "cell_type": "markdown",
   "id": "32c52498",
   "metadata": {},
   "source": [
    "### 1. Загрузка данных"
   ]
  },
  {
   "cell_type": "markdown",
   "id": "71d4c480",
   "metadata": {},
   "source": [
    "**1.1 Импорт библиотек**"
   ]
  },
  {
   "cell_type": "code",
   "execution_count": 53,
   "id": "5e030761",
   "metadata": {},
   "outputs": [],
   "source": [
    "import pandas as pd\n",
    "import numpy as np\n",
    "import seaborn as sns\n",
    "import matplotlib\n",
    "import matplotlib.pyplot as plt\n",
    "from scipy import stats as st\n",
    "\n",
    "import warnings\n",
    "warnings.filterwarnings('ignore')\n",
    "pd.set_option('display.max_columns', None)\n",
    "pd.options.display.float_format = '{:,.2f}'.format"
   ]
  },
  {
   "cell_type": "markdown",
   "id": "9c7738f6",
   "metadata": {},
   "source": [
    "<div class='alert alert-success'>👍\n",
    "Отличное начало, очень круто что владеешь настройкой параметров отображения таблиц пандаса! Выглядит профессионально.\n"
   ]
  },
  {
   "cell_type": "markdown",
   "id": "9bf4044b",
   "metadata": {},
   "source": [
    "**1.2 Загрузка данных и изучение основной информации**"
   ]
  },
  {
   "cell_type": "markdown",
   "id": "e68155df",
   "metadata": {},
   "source": [
    "Загрузим датасет и посмотрим на него:"
   ]
  },
  {
   "cell_type": "code",
   "execution_count": 54,
   "id": "9aa41972",
   "metadata": {},
   "outputs": [
    {
     "data": {
      "text/html": [
       "<div>\n",
       "<style scoped>\n",
       "    .dataframe tbody tr th:only-of-type {\n",
       "        vertical-align: middle;\n",
       "    }\n",
       "\n",
       "    .dataframe tbody tr th {\n",
       "        vertical-align: top;\n",
       "    }\n",
       "\n",
       "    .dataframe thead th {\n",
       "        text-align: right;\n",
       "    }\n",
       "</style>\n",
       "<table border=\"1\" class=\"dataframe\">\n",
       "  <thead>\n",
       "    <tr style=\"text-align: right;\">\n",
       "      <th></th>\n",
       "      <th>userid</th>\n",
       "      <th>score</th>\n",
       "      <th>City</th>\n",
       "      <th>Gender</th>\n",
       "      <th>Age</th>\n",
       "      <th>Objects</th>\n",
       "      <th>Balance</th>\n",
       "      <th>Products</th>\n",
       "      <th>CreditCard</th>\n",
       "      <th>Loyalty</th>\n",
       "      <th>estimated_salary</th>\n",
       "      <th>Churn</th>\n",
       "    </tr>\n",
       "  </thead>\n",
       "  <tbody>\n",
       "    <tr>\n",
       "      <th>0</th>\n",
       "      <td>15677338</td>\n",
       "      <td>619</td>\n",
       "      <td>Ярославль</td>\n",
       "      <td>Ж</td>\n",
       "      <td>42</td>\n",
       "      <td>2</td>\n",
       "      <td>NaN</td>\n",
       "      <td>1</td>\n",
       "      <td>1</td>\n",
       "      <td>1</td>\n",
       "      <td>101,348.88</td>\n",
       "      <td>1</td>\n",
       "    </tr>\n",
       "    <tr>\n",
       "      <th>1</th>\n",
       "      <td>15690047</td>\n",
       "      <td>608</td>\n",
       "      <td>Рыбинск</td>\n",
       "      <td>Ж</td>\n",
       "      <td>41</td>\n",
       "      <td>1</td>\n",
       "      <td>83,807.86</td>\n",
       "      <td>1</td>\n",
       "      <td>0</td>\n",
       "      <td>1</td>\n",
       "      <td>112,542.58</td>\n",
       "      <td>0</td>\n",
       "    </tr>\n",
       "    <tr>\n",
       "      <th>2</th>\n",
       "      <td>15662040</td>\n",
       "      <td>502</td>\n",
       "      <td>Ярославль</td>\n",
       "      <td>Ж</td>\n",
       "      <td>42</td>\n",
       "      <td>8</td>\n",
       "      <td>159,660.80</td>\n",
       "      <td>3</td>\n",
       "      <td>1</td>\n",
       "      <td>0</td>\n",
       "      <td>113,931.57</td>\n",
       "      <td>1</td>\n",
       "    </tr>\n",
       "    <tr>\n",
       "      <th>3</th>\n",
       "      <td>15744090</td>\n",
       "      <td>699</td>\n",
       "      <td>Ярославль</td>\n",
       "      <td>Ж</td>\n",
       "      <td>39</td>\n",
       "      <td>1</td>\n",
       "      <td>NaN</td>\n",
       "      <td>2</td>\n",
       "      <td>0</td>\n",
       "      <td>0</td>\n",
       "      <td>93,826.63</td>\n",
       "      <td>0</td>\n",
       "    </tr>\n",
       "    <tr>\n",
       "      <th>4</th>\n",
       "      <td>15780624</td>\n",
       "      <td>850</td>\n",
       "      <td>Рыбинск</td>\n",
       "      <td>Ж</td>\n",
       "      <td>43</td>\n",
       "      <td>2</td>\n",
       "      <td>125,510.82</td>\n",
       "      <td>1</td>\n",
       "      <td>1</td>\n",
       "      <td>1</td>\n",
       "      <td>79,084.10</td>\n",
       "      <td>0</td>\n",
       "    </tr>\n",
       "    <tr>\n",
       "      <th>...</th>\n",
       "      <td>...</td>\n",
       "      <td>...</td>\n",
       "      <td>...</td>\n",
       "      <td>...</td>\n",
       "      <td>...</td>\n",
       "      <td>...</td>\n",
       "      <td>...</td>\n",
       "      <td>...</td>\n",
       "      <td>...</td>\n",
       "      <td>...</td>\n",
       "      <td>...</td>\n",
       "      <td>...</td>\n",
       "    </tr>\n",
       "    <tr>\n",
       "      <th>9995</th>\n",
       "      <td>15648965</td>\n",
       "      <td>771</td>\n",
       "      <td>Ярославль</td>\n",
       "      <td>М</td>\n",
       "      <td>39</td>\n",
       "      <td>5</td>\n",
       "      <td>NaN</td>\n",
       "      <td>2</td>\n",
       "      <td>1</td>\n",
       "      <td>0</td>\n",
       "      <td>96,270.64</td>\n",
       "      <td>0</td>\n",
       "    </tr>\n",
       "    <tr>\n",
       "      <th>9996</th>\n",
       "      <td>15612628</td>\n",
       "      <td>516</td>\n",
       "      <td>Ярославль</td>\n",
       "      <td>М</td>\n",
       "      <td>35</td>\n",
       "      <td>10</td>\n",
       "      <td>57,369.61</td>\n",
       "      <td>1</td>\n",
       "      <td>1</td>\n",
       "      <td>1</td>\n",
       "      <td>101,699.77</td>\n",
       "      <td>0</td>\n",
       "    </tr>\n",
       "    <tr>\n",
       "      <th>9997</th>\n",
       "      <td>15627268</td>\n",
       "      <td>709</td>\n",
       "      <td>Ярославль</td>\n",
       "      <td>Ж</td>\n",
       "      <td>36</td>\n",
       "      <td>7</td>\n",
       "      <td>NaN</td>\n",
       "      <td>1</td>\n",
       "      <td>0</td>\n",
       "      <td>1</td>\n",
       "      <td>42,085.58</td>\n",
       "      <td>1</td>\n",
       "    </tr>\n",
       "    <tr>\n",
       "      <th>9998</th>\n",
       "      <td>15725091</td>\n",
       "      <td>772</td>\n",
       "      <td>Ростов Великий</td>\n",
       "      <td>М</td>\n",
       "      <td>42</td>\n",
       "      <td>3</td>\n",
       "      <td>75,075.31</td>\n",
       "      <td>2</td>\n",
       "      <td>1</td>\n",
       "      <td>0</td>\n",
       "      <td>92,888.52</td>\n",
       "      <td>1</td>\n",
       "    </tr>\n",
       "    <tr>\n",
       "      <th>9999</th>\n",
       "      <td>15671055</td>\n",
       "      <td>792</td>\n",
       "      <td>Ярославль</td>\n",
       "      <td>Ж</td>\n",
       "      <td>28</td>\n",
       "      <td>4</td>\n",
       "      <td>130,142.79</td>\n",
       "      <td>1</td>\n",
       "      <td>1</td>\n",
       "      <td>0</td>\n",
       "      <td>38,190.78</td>\n",
       "      <td>0</td>\n",
       "    </tr>\n",
       "  </tbody>\n",
       "</table>\n",
       "<p>10000 rows × 12 columns</p>\n",
       "</div>"
      ],
      "text/plain": [
       "        userid  score            City Gender  Age  Objects    Balance  \\\n",
       "0     15677338    619       Ярославль      Ж   42        2        NaN   \n",
       "1     15690047    608         Рыбинск      Ж   41        1  83,807.86   \n",
       "2     15662040    502       Ярославль      Ж   42        8 159,660.80   \n",
       "3     15744090    699       Ярославль      Ж   39        1        NaN   \n",
       "4     15780624    850         Рыбинск      Ж   43        2 125,510.82   \n",
       "...        ...    ...             ...    ...  ...      ...        ...   \n",
       "9995  15648965    771       Ярославль      М   39        5        NaN   \n",
       "9996  15612628    516       Ярославль      М   35       10  57,369.61   \n",
       "9997  15627268    709       Ярославль      Ж   36        7        NaN   \n",
       "9998  15725091    772  Ростов Великий      М   42        3  75,075.31   \n",
       "9999  15671055    792       Ярославль      Ж   28        4 130,142.79   \n",
       "\n",
       "      Products  CreditCard  Loyalty  estimated_salary  Churn  \n",
       "0            1           1        1        101,348.88      1  \n",
       "1            1           0        1        112,542.58      0  \n",
       "2            3           1        0        113,931.57      1  \n",
       "3            2           0        0         93,826.63      0  \n",
       "4            1           1        1         79,084.10      0  \n",
       "...        ...         ...      ...               ...    ...  \n",
       "9995         2           1        0         96,270.64      0  \n",
       "9996         1           1        1        101,699.77      0  \n",
       "9997         1           0        1         42,085.58      1  \n",
       "9998         2           1        0         92,888.52      1  \n",
       "9999         1           1        0         38,190.78      0  \n",
       "\n",
       "[10000 rows x 12 columns]"
      ]
     },
     "execution_count": 54,
     "metadata": {},
     "output_type": "execute_result"
    }
   ],
   "source": [
    "data = pd.read_csv('/datasets/bank_dataset.csv')\n",
    "data"
   ]
  },
  {
   "cell_type": "markdown",
   "id": "e00fb9ce",
   "metadata": {},
   "source": [
    "<div class='alert alert-danger'>⛔️\n",
    "Данные должны открываться c сервера для воспроизводимости вычислений, данные лежат в папке datasets/\n"
   ]
  },
  {
   "cell_type": "markdown",
   "id": "0d5cd09e",
   "metadata": {},
   "source": [
    "<span style=\"color:blue\"> **Поправил (делал работу на локальном компьютере, поэтому был указан другой путь к файлу)**"
   ]
  },
  {
   "cell_type": "markdown",
   "id": "cad0e504",
   "metadata": {},
   "source": [
    "Рассмотрим основную информацию о датасете:"
   ]
  },
  {
   "cell_type": "code",
   "execution_count": 55,
   "id": "8dd863ce",
   "metadata": {},
   "outputs": [
    {
     "name": "stdout",
     "output_type": "stream",
     "text": [
      "<class 'pandas.core.frame.DataFrame'>\n",
      "RangeIndex: 10000 entries, 0 to 9999\n",
      "Data columns (total 12 columns):\n",
      " #   Column            Non-Null Count  Dtype  \n",
      "---  ------            --------------  -----  \n",
      " 0   userid            10000 non-null  int64  \n",
      " 1   score             10000 non-null  int64  \n",
      " 2   City              10000 non-null  object \n",
      " 3   Gender            10000 non-null  object \n",
      " 4   Age               10000 non-null  int64  \n",
      " 5   Objects           10000 non-null  int64  \n",
      " 6   Balance           6383 non-null   float64\n",
      " 7   Products          10000 non-null  int64  \n",
      " 8   CreditCard        10000 non-null  int64  \n",
      " 9   Loyalty           10000 non-null  int64  \n",
      " 10  estimated_salary  10000 non-null  float64\n",
      " 11  Churn             10000 non-null  int64  \n",
      "dtypes: float64(2), int64(8), object(2)\n",
      "memory usage: 937.6+ KB\n"
     ]
    }
   ],
   "source": [
    "data.info()"
   ]
  },
  {
   "cell_type": "markdown",
   "id": "f7b5e87f",
   "metadata": {},
   "source": [
    "**Вывод:**<br>\n",
    "1. В датасете 10000 строк<br>\n",
    "2. Типы данных корректны<br>\n",
    "3. В столбце Balance (остаток денежных средств на счете) 3617 пропусков (NaN) - что составляет 36,17 % от общего числа.<br>"
   ]
  },
  {
   "cell_type": "markdown",
   "id": "ccc581bc",
   "metadata": {},
   "source": [
    "### 2. Предобработка данных"
   ]
  },
  {
   "cell_type": "markdown",
   "id": "cb50fe68",
   "metadata": {},
   "source": [
    "**Подготовим предоставленные данные к дальнейшему анализу**"
   ]
  },
  {
   "cell_type": "markdown",
   "id": "10201576",
   "metadata": {},
   "source": [
    "**Приведем названия столбцов к нижнему регистру и переименуем для дальнейшего удобства:**"
   ]
  },
  {
   "cell_type": "code",
   "execution_count": 56,
   "id": "f2cc4c82",
   "metadata": {},
   "outputs": [
    {
     "data": {
      "text/html": [
       "<div>\n",
       "<style scoped>\n",
       "    .dataframe tbody tr th:only-of-type {\n",
       "        vertical-align: middle;\n",
       "    }\n",
       "\n",
       "    .dataframe tbody tr th {\n",
       "        vertical-align: top;\n",
       "    }\n",
       "\n",
       "    .dataframe thead th {\n",
       "        text-align: right;\n",
       "    }\n",
       "</style>\n",
       "<table border=\"1\" class=\"dataframe\">\n",
       "  <thead>\n",
       "    <tr style=\"text-align: right;\">\n",
       "      <th></th>\n",
       "      <th>user_id</th>\n",
       "      <th>score</th>\n",
       "      <th>city</th>\n",
       "      <th>gender</th>\n",
       "      <th>age</th>\n",
       "      <th>objects</th>\n",
       "      <th>balance</th>\n",
       "      <th>products</th>\n",
       "      <th>credit_card</th>\n",
       "      <th>loyalty</th>\n",
       "      <th>estimated_salary</th>\n",
       "      <th>churn</th>\n",
       "    </tr>\n",
       "  </thead>\n",
       "  <tbody>\n",
       "    <tr>\n",
       "      <th>0</th>\n",
       "      <td>15677338</td>\n",
       "      <td>619</td>\n",
       "      <td>Ярославль</td>\n",
       "      <td>Ж</td>\n",
       "      <td>42</td>\n",
       "      <td>2</td>\n",
       "      <td>NaN</td>\n",
       "      <td>1</td>\n",
       "      <td>1</td>\n",
       "      <td>1</td>\n",
       "      <td>101,348.88</td>\n",
       "      <td>1</td>\n",
       "    </tr>\n",
       "    <tr>\n",
       "      <th>1</th>\n",
       "      <td>15690047</td>\n",
       "      <td>608</td>\n",
       "      <td>Рыбинск</td>\n",
       "      <td>Ж</td>\n",
       "      <td>41</td>\n",
       "      <td>1</td>\n",
       "      <td>83,807.86</td>\n",
       "      <td>1</td>\n",
       "      <td>0</td>\n",
       "      <td>1</td>\n",
       "      <td>112,542.58</td>\n",
       "      <td>0</td>\n",
       "    </tr>\n",
       "    <tr>\n",
       "      <th>2</th>\n",
       "      <td>15662040</td>\n",
       "      <td>502</td>\n",
       "      <td>Ярославль</td>\n",
       "      <td>Ж</td>\n",
       "      <td>42</td>\n",
       "      <td>8</td>\n",
       "      <td>159,660.80</td>\n",
       "      <td>3</td>\n",
       "      <td>1</td>\n",
       "      <td>0</td>\n",
       "      <td>113,931.57</td>\n",
       "      <td>1</td>\n",
       "    </tr>\n",
       "    <tr>\n",
       "      <th>3</th>\n",
       "      <td>15744090</td>\n",
       "      <td>699</td>\n",
       "      <td>Ярославль</td>\n",
       "      <td>Ж</td>\n",
       "      <td>39</td>\n",
       "      <td>1</td>\n",
       "      <td>NaN</td>\n",
       "      <td>2</td>\n",
       "      <td>0</td>\n",
       "      <td>0</td>\n",
       "      <td>93,826.63</td>\n",
       "      <td>0</td>\n",
       "    </tr>\n",
       "    <tr>\n",
       "      <th>4</th>\n",
       "      <td>15780624</td>\n",
       "      <td>850</td>\n",
       "      <td>Рыбинск</td>\n",
       "      <td>Ж</td>\n",
       "      <td>43</td>\n",
       "      <td>2</td>\n",
       "      <td>125,510.82</td>\n",
       "      <td>1</td>\n",
       "      <td>1</td>\n",
       "      <td>1</td>\n",
       "      <td>79,084.10</td>\n",
       "      <td>0</td>\n",
       "    </tr>\n",
       "    <tr>\n",
       "      <th>...</th>\n",
       "      <td>...</td>\n",
       "      <td>...</td>\n",
       "      <td>...</td>\n",
       "      <td>...</td>\n",
       "      <td>...</td>\n",
       "      <td>...</td>\n",
       "      <td>...</td>\n",
       "      <td>...</td>\n",
       "      <td>...</td>\n",
       "      <td>...</td>\n",
       "      <td>...</td>\n",
       "      <td>...</td>\n",
       "    </tr>\n",
       "    <tr>\n",
       "      <th>9995</th>\n",
       "      <td>15648965</td>\n",
       "      <td>771</td>\n",
       "      <td>Ярославль</td>\n",
       "      <td>М</td>\n",
       "      <td>39</td>\n",
       "      <td>5</td>\n",
       "      <td>NaN</td>\n",
       "      <td>2</td>\n",
       "      <td>1</td>\n",
       "      <td>0</td>\n",
       "      <td>96,270.64</td>\n",
       "      <td>0</td>\n",
       "    </tr>\n",
       "    <tr>\n",
       "      <th>9996</th>\n",
       "      <td>15612628</td>\n",
       "      <td>516</td>\n",
       "      <td>Ярославль</td>\n",
       "      <td>М</td>\n",
       "      <td>35</td>\n",
       "      <td>10</td>\n",
       "      <td>57,369.61</td>\n",
       "      <td>1</td>\n",
       "      <td>1</td>\n",
       "      <td>1</td>\n",
       "      <td>101,699.77</td>\n",
       "      <td>0</td>\n",
       "    </tr>\n",
       "    <tr>\n",
       "      <th>9997</th>\n",
       "      <td>15627268</td>\n",
       "      <td>709</td>\n",
       "      <td>Ярославль</td>\n",
       "      <td>Ж</td>\n",
       "      <td>36</td>\n",
       "      <td>7</td>\n",
       "      <td>NaN</td>\n",
       "      <td>1</td>\n",
       "      <td>0</td>\n",
       "      <td>1</td>\n",
       "      <td>42,085.58</td>\n",
       "      <td>1</td>\n",
       "    </tr>\n",
       "    <tr>\n",
       "      <th>9998</th>\n",
       "      <td>15725091</td>\n",
       "      <td>772</td>\n",
       "      <td>Ростов Великий</td>\n",
       "      <td>М</td>\n",
       "      <td>42</td>\n",
       "      <td>3</td>\n",
       "      <td>75,075.31</td>\n",
       "      <td>2</td>\n",
       "      <td>1</td>\n",
       "      <td>0</td>\n",
       "      <td>92,888.52</td>\n",
       "      <td>1</td>\n",
       "    </tr>\n",
       "    <tr>\n",
       "      <th>9999</th>\n",
       "      <td>15671055</td>\n",
       "      <td>792</td>\n",
       "      <td>Ярославль</td>\n",
       "      <td>Ж</td>\n",
       "      <td>28</td>\n",
       "      <td>4</td>\n",
       "      <td>130,142.79</td>\n",
       "      <td>1</td>\n",
       "      <td>1</td>\n",
       "      <td>0</td>\n",
       "      <td>38,190.78</td>\n",
       "      <td>0</td>\n",
       "    </tr>\n",
       "  </tbody>\n",
       "</table>\n",
       "<p>10000 rows × 12 columns</p>\n",
       "</div>"
      ],
      "text/plain": [
       "       user_id  score            city gender  age  objects    balance  \\\n",
       "0     15677338    619       Ярославль      Ж   42        2        NaN   \n",
       "1     15690047    608         Рыбинск      Ж   41        1  83,807.86   \n",
       "2     15662040    502       Ярославль      Ж   42        8 159,660.80   \n",
       "3     15744090    699       Ярославль      Ж   39        1        NaN   \n",
       "4     15780624    850         Рыбинск      Ж   43        2 125,510.82   \n",
       "...        ...    ...             ...    ...  ...      ...        ...   \n",
       "9995  15648965    771       Ярославль      М   39        5        NaN   \n",
       "9996  15612628    516       Ярославль      М   35       10  57,369.61   \n",
       "9997  15627268    709       Ярославль      Ж   36        7        NaN   \n",
       "9998  15725091    772  Ростов Великий      М   42        3  75,075.31   \n",
       "9999  15671055    792       Ярославль      Ж   28        4 130,142.79   \n",
       "\n",
       "      products  credit_card  loyalty  estimated_salary  churn  \n",
       "0            1            1        1        101,348.88      1  \n",
       "1            1            0        1        112,542.58      0  \n",
       "2            3            1        0        113,931.57      1  \n",
       "3            2            0        0         93,826.63      0  \n",
       "4            1            1        1         79,084.10      0  \n",
       "...        ...          ...      ...               ...    ...  \n",
       "9995         2            1        0         96,270.64      0  \n",
       "9996         1            1        1        101,699.77      0  \n",
       "9997         1            0        1         42,085.58      1  \n",
       "9998         2            1        0         92,888.52      1  \n",
       "9999         1            1        0         38,190.78      0  \n",
       "\n",
       "[10000 rows x 12 columns]"
      ]
     },
     "execution_count": 56,
     "metadata": {},
     "output_type": "execute_result"
    }
   ],
   "source": [
    "data.columns = data.columns.str.lower()\n",
    "data = data.rename(columns = {'userid':'user_id','creditcard':'credit_card'})\n",
    "data"
   ]
  },
  {
   "cell_type": "markdown",
   "id": "0ca07c4e",
   "metadata": {},
   "source": [
    "**Проверим дубликаты, а также количество уникальных пользователей из имеющихся 10000 строк:**"
   ]
  },
  {
   "cell_type": "code",
   "execution_count": 57,
   "id": "9c4bbe46",
   "metadata": {},
   "outputs": [
    {
     "name": "stdout",
     "output_type": "stream",
     "text": [
      "Обнаружено дубликатов: 0\n",
      "Количество уникальных пользователей: 10000\n"
     ]
    }
   ],
   "source": [
    "print('Обнаружено дубликатов:', data.duplicated().sum())\n",
    "print('Количество уникальных пользователей:',len(data['user_id'].unique()))"
   ]
  },
  {
   "cell_type": "markdown",
   "id": "ba038d76",
   "metadata": {},
   "source": [
    "**Обработка пропусков в столбце Balance:**"
   ]
  },
  {
   "cell_type": "code",
   "execution_count": 58,
   "id": "45f4e731",
   "metadata": {},
   "outputs": [
    {
     "name": "stdout",
     "output_type": "stream",
     "text": [
      "Min значение Balance: 3768.69\n",
      "Max значение Balance: 250898.09\n"
     ]
    }
   ],
   "source": [
    "print('Min значение Balance:',data['balance'].min())\n",
    "print('Max значение Balance:', data['balance'].max())"
   ]
  },
  {
   "cell_type": "markdown",
   "id": "786cc68c",
   "metadata": {},
   "source": [
    "<div class='alert alert-danger'>⛔️\n",
    "Прежде чем выдвигать какие-то гипотезы необходимо проделать исследовательскую работу в этом направлении. Попробуй посмотреть на число пропусков в разрезах различных признаков. "
   ]
  },
  {
   "cell_type": "markdown",
   "id": "8ab41099",
   "metadata": {},
   "source": [
    "<span style=\"color:blue\">**UPD: Рассмотрим подробнее пропуски в столбце Balance:**"
   ]
  },
  {
   "cell_type": "markdown",
   "id": "11171213",
   "metadata": {},
   "source": [
    "**Рассмотрим таблицу клиентов с пропущенными значениями подробнее:**"
   ]
  },
  {
   "cell_type": "code",
   "execution_count": 65,
   "id": "8e06b2fc",
   "metadata": {},
   "outputs": [
    {
     "data": {
      "text/html": [
       "<div>\n",
       "<style scoped>\n",
       "    .dataframe tbody tr th:only-of-type {\n",
       "        vertical-align: middle;\n",
       "    }\n",
       "\n",
       "    .dataframe tbody tr th {\n",
       "        vertical-align: top;\n",
       "    }\n",
       "\n",
       "    .dataframe thead th {\n",
       "        text-align: right;\n",
       "    }\n",
       "</style>\n",
       "<table border=\"1\" class=\"dataframe\">\n",
       "  <thead>\n",
       "    <tr style=\"text-align: right;\">\n",
       "      <th></th>\n",
       "      <th>user_id</th>\n",
       "      <th>score</th>\n",
       "      <th>city</th>\n",
       "      <th>gender</th>\n",
       "      <th>age</th>\n",
       "      <th>objects</th>\n",
       "      <th>balance</th>\n",
       "      <th>products</th>\n",
       "      <th>credit_card</th>\n",
       "      <th>loyalty</th>\n",
       "      <th>estimated_salary</th>\n",
       "      <th>churn</th>\n",
       "    </tr>\n",
       "  </thead>\n",
       "  <tbody>\n",
       "    <tr>\n",
       "      <th>0</th>\n",
       "      <td>15677338</td>\n",
       "      <td>619</td>\n",
       "      <td>Ярославль</td>\n",
       "      <td>Ж</td>\n",
       "      <td>42</td>\n",
       "      <td>2</td>\n",
       "      <td>0.00</td>\n",
       "      <td>1</td>\n",
       "      <td>1</td>\n",
       "      <td>1</td>\n",
       "      <td>101,348.88</td>\n",
       "      <td>1</td>\n",
       "    </tr>\n",
       "    <tr>\n",
       "      <th>3</th>\n",
       "      <td>15744090</td>\n",
       "      <td>699</td>\n",
       "      <td>Ярославль</td>\n",
       "      <td>Ж</td>\n",
       "      <td>39</td>\n",
       "      <td>1</td>\n",
       "      <td>0.00</td>\n",
       "      <td>2</td>\n",
       "      <td>0</td>\n",
       "      <td>0</td>\n",
       "      <td>93,826.63</td>\n",
       "      <td>0</td>\n",
       "    </tr>\n",
       "    <tr>\n",
       "      <th>6</th>\n",
       "      <td>15635267</td>\n",
       "      <td>822</td>\n",
       "      <td>Ярославль</td>\n",
       "      <td>М</td>\n",
       "      <td>50</td>\n",
       "      <td>7</td>\n",
       "      <td>0.00</td>\n",
       "      <td>2</td>\n",
       "      <td>1</td>\n",
       "      <td>1</td>\n",
       "      <td>10,062.80</td>\n",
       "      <td>0</td>\n",
       "    </tr>\n",
       "    <tr>\n",
       "      <th>11</th>\n",
       "      <td>15779909</td>\n",
       "      <td>497</td>\n",
       "      <td>Рыбинск</td>\n",
       "      <td>М</td>\n",
       "      <td>24</td>\n",
       "      <td>3</td>\n",
       "      <td>0.00</td>\n",
       "      <td>2</td>\n",
       "      <td>1</td>\n",
       "      <td>0</td>\n",
       "      <td>76,390.01</td>\n",
       "      <td>0</td>\n",
       "    </tr>\n",
       "    <tr>\n",
       "      <th>12</th>\n",
       "      <td>15675000</td>\n",
       "      <td>476</td>\n",
       "      <td>Ярославль</td>\n",
       "      <td>Ж</td>\n",
       "      <td>34</td>\n",
       "      <td>10</td>\n",
       "      <td>0.00</td>\n",
       "      <td>2</td>\n",
       "      <td>1</td>\n",
       "      <td>0</td>\n",
       "      <td>26,260.98</td>\n",
       "      <td>0</td>\n",
       "    </tr>\n",
       "    <tr>\n",
       "      <th>...</th>\n",
       "      <td>...</td>\n",
       "      <td>...</td>\n",
       "      <td>...</td>\n",
       "      <td>...</td>\n",
       "      <td>...</td>\n",
       "      <td>...</td>\n",
       "      <td>...</td>\n",
       "      <td>...</td>\n",
       "      <td>...</td>\n",
       "      <td>...</td>\n",
       "      <td>...</td>\n",
       "      <td>...</td>\n",
       "    </tr>\n",
       "    <tr>\n",
       "      <th>9989</th>\n",
       "      <td>15648358</td>\n",
       "      <td>841</td>\n",
       "      <td>Рыбинск</td>\n",
       "      <td>М</td>\n",
       "      <td>28</td>\n",
       "      <td>4</td>\n",
       "      <td>0.00</td>\n",
       "      <td>2</td>\n",
       "      <td>1</td>\n",
       "      <td>1</td>\n",
       "      <td>179,436.60</td>\n",
       "      <td>0</td>\n",
       "    </tr>\n",
       "    <tr>\n",
       "      <th>9992</th>\n",
       "      <td>15699841</td>\n",
       "      <td>726</td>\n",
       "      <td>Рыбинск</td>\n",
       "      <td>М</td>\n",
       "      <td>36</td>\n",
       "      <td>2</td>\n",
       "      <td>0.00</td>\n",
       "      <td>1</td>\n",
       "      <td>1</td>\n",
       "      <td>0</td>\n",
       "      <td>195,192.40</td>\n",
       "      <td>0</td>\n",
       "    </tr>\n",
       "    <tr>\n",
       "      <th>9994</th>\n",
       "      <td>15762030</td>\n",
       "      <td>800</td>\n",
       "      <td>Ярославль</td>\n",
       "      <td>Ж</td>\n",
       "      <td>29</td>\n",
       "      <td>2</td>\n",
       "      <td>0.00</td>\n",
       "      <td>2</td>\n",
       "      <td>0</td>\n",
       "      <td>0</td>\n",
       "      <td>167,773.55</td>\n",
       "      <td>0</td>\n",
       "    </tr>\n",
       "    <tr>\n",
       "      <th>9995</th>\n",
       "      <td>15648965</td>\n",
       "      <td>771</td>\n",
       "      <td>Ярославль</td>\n",
       "      <td>М</td>\n",
       "      <td>39</td>\n",
       "      <td>5</td>\n",
       "      <td>0.00</td>\n",
       "      <td>2</td>\n",
       "      <td>1</td>\n",
       "      <td>0</td>\n",
       "      <td>96,270.64</td>\n",
       "      <td>0</td>\n",
       "    </tr>\n",
       "    <tr>\n",
       "      <th>9997</th>\n",
       "      <td>15627268</td>\n",
       "      <td>709</td>\n",
       "      <td>Ярославль</td>\n",
       "      <td>Ж</td>\n",
       "      <td>36</td>\n",
       "      <td>7</td>\n",
       "      <td>0.00</td>\n",
       "      <td>1</td>\n",
       "      <td>0</td>\n",
       "      <td>1</td>\n",
       "      <td>42,085.58</td>\n",
       "      <td>1</td>\n",
       "    </tr>\n",
       "  </tbody>\n",
       "</table>\n",
       "<p>3617 rows × 12 columns</p>\n",
       "</div>"
      ],
      "text/plain": [
       "       user_id  score       city gender  age  objects  balance  products  \\\n",
       "0     15677338    619  Ярославль      Ж   42        2     0.00         1   \n",
       "3     15744090    699  Ярославль      Ж   39        1     0.00         2   \n",
       "6     15635267    822  Ярославль      М   50        7     0.00         2   \n",
       "11    15779909    497    Рыбинск      М   24        3     0.00         2   \n",
       "12    15675000    476  Ярославль      Ж   34       10     0.00         2   \n",
       "...        ...    ...        ...    ...  ...      ...      ...       ...   \n",
       "9989  15648358    841    Рыбинск      М   28        4     0.00         2   \n",
       "9992  15699841    726    Рыбинск      М   36        2     0.00         1   \n",
       "9994  15762030    800  Ярославль      Ж   29        2     0.00         2   \n",
       "9995  15648965    771  Ярославль      М   39        5     0.00         2   \n",
       "9997  15627268    709  Ярославль      Ж   36        7     0.00         1   \n",
       "\n",
       "      credit_card  loyalty  estimated_salary  churn  \n",
       "0               1        1        101,348.88      1  \n",
       "3               0        0         93,826.63      0  \n",
       "6               1        1         10,062.80      0  \n",
       "11              1        0         76,390.01      0  \n",
       "12              1        0         26,260.98      0  \n",
       "...           ...      ...               ...    ...  \n",
       "9989            1        1        179,436.60      0  \n",
       "9992            1        0        195,192.40      0  \n",
       "9994            0        0        167,773.55      0  \n",
       "9995            1        0         96,270.64      0  \n",
       "9997            0        1         42,085.58      1  \n",
       "\n",
       "[3617 rows x 12 columns]"
      ]
     },
     "metadata": {},
     "output_type": "display_data"
    },
    {
     "name": "stdout",
     "output_type": "stream",
     "text": [
      "<class 'pandas.core.frame.DataFrame'>\n",
      "Int64Index: 3617 entries, 0 to 9997\n",
      "Data columns (total 12 columns):\n",
      " #   Column            Non-Null Count  Dtype  \n",
      "---  ------            --------------  -----  \n",
      " 0   user_id           3617 non-null   int64  \n",
      " 1   score             3617 non-null   int64  \n",
      " 2   city              3617 non-null   object \n",
      " 3   gender            3617 non-null   object \n",
      " 4   age               3617 non-null   int64  \n",
      " 5   objects           3617 non-null   int64  \n",
      " 6   balance           3617 non-null   float64\n",
      " 7   products          3617 non-null   int64  \n",
      " 8   credit_card       3617 non-null   int64  \n",
      " 9   loyalty           3617 non-null   int64  \n",
      " 10  estimated_salary  3617 non-null   float64\n",
      " 11  churn             3617 non-null   int64  \n",
      "dtypes: float64(2), int64(8), object(2)\n",
      "memory usage: 367.4+ KB\n"
     ]
    }
   ],
   "source": [
    "data_nan = data[data['balance']==0]\n",
    "display(data_nan)\n",
    "data_nan.info()"
   ]
  },
  {
   "cell_type": "code",
   "execution_count": 66,
   "id": "55cb99d6",
   "metadata": {},
   "outputs": [
    {
     "data": {
      "text/html": [
       "<div>\n",
       "<style scoped>\n",
       "    .dataframe tbody tr th:only-of-type {\n",
       "        vertical-align: middle;\n",
       "    }\n",
       "\n",
       "    .dataframe tbody tr th {\n",
       "        vertical-align: top;\n",
       "    }\n",
       "\n",
       "    .dataframe thead th {\n",
       "        text-align: right;\n",
       "    }\n",
       "</style>\n",
       "<table border=\"1\" class=\"dataframe\">\n",
       "  <thead>\n",
       "    <tr style=\"text-align: right;\">\n",
       "      <th></th>\n",
       "      <th>user_id</th>\n",
       "      <th>score</th>\n",
       "      <th>age</th>\n",
       "      <th>objects</th>\n",
       "      <th>balance</th>\n",
       "      <th>products</th>\n",
       "      <th>credit_card</th>\n",
       "      <th>loyalty</th>\n",
       "      <th>estimated_salary</th>\n",
       "      <th>churn</th>\n",
       "    </tr>\n",
       "  </thead>\n",
       "  <tbody>\n",
       "    <tr>\n",
       "      <th>count</th>\n",
       "      <td>3,617.00</td>\n",
       "      <td>3,617.00</td>\n",
       "      <td>3,617.00</td>\n",
       "      <td>3,617.00</td>\n",
       "      <td>3,617.00</td>\n",
       "      <td>3,617.00</td>\n",
       "      <td>3,617.00</td>\n",
       "      <td>3,617.00</td>\n",
       "      <td>3,617.00</td>\n",
       "      <td>3,617.00</td>\n",
       "    </tr>\n",
       "    <tr>\n",
       "      <th>mean</th>\n",
       "      <td>15,734,685.59</td>\n",
       "      <td>649.45</td>\n",
       "      <td>38.43</td>\n",
       "      <td>5.07</td>\n",
       "      <td>0.00</td>\n",
       "      <td>1.78</td>\n",
       "      <td>0.72</td>\n",
       "      <td>0.52</td>\n",
       "      <td>98,983.56</td>\n",
       "      <td>0.14</td>\n",
       "    </tr>\n",
       "    <tr>\n",
       "      <th>std</th>\n",
       "      <td>71,947.49</td>\n",
       "      <td>96.16</td>\n",
       "      <td>10.49</td>\n",
       "      <td>2.86</td>\n",
       "      <td>0.00</td>\n",
       "      <td>0.50</td>\n",
       "      <td>0.45</td>\n",
       "      <td>0.50</td>\n",
       "      <td>57,730.83</td>\n",
       "      <td>0.35</td>\n",
       "    </tr>\n",
       "    <tr>\n",
       "      <th>min</th>\n",
       "      <td>15,608,442.00</td>\n",
       "      <td>350.00</td>\n",
       "      <td>18.00</td>\n",
       "      <td>0.00</td>\n",
       "      <td>0.00</td>\n",
       "      <td>1.00</td>\n",
       "      <td>0.00</td>\n",
       "      <td>0.00</td>\n",
       "      <td>90.07</td>\n",
       "      <td>0.00</td>\n",
       "    </tr>\n",
       "    <tr>\n",
       "      <th>25%</th>\n",
       "      <td>15,672,255.00</td>\n",
       "      <td>583.00</td>\n",
       "      <td>31.00</td>\n",
       "      <td>3.00</td>\n",
       "      <td>0.00</td>\n",
       "      <td>1.00</td>\n",
       "      <td>0.00</td>\n",
       "      <td>0.00</td>\n",
       "      <td>49,506.82</td>\n",
       "      <td>0.00</td>\n",
       "    </tr>\n",
       "    <tr>\n",
       "      <th>50%</th>\n",
       "      <td>15,736,083.00</td>\n",
       "      <td>651.00</td>\n",
       "      <td>37.00</td>\n",
       "      <td>5.00</td>\n",
       "      <td>0.00</td>\n",
       "      <td>2.00</td>\n",
       "      <td>1.00</td>\n",
       "      <td>1.00</td>\n",
       "      <td>98,618.79</td>\n",
       "      <td>0.00</td>\n",
       "    </tr>\n",
       "    <tr>\n",
       "      <th>75%</th>\n",
       "      <td>15,796,286.00</td>\n",
       "      <td>717.00</td>\n",
       "      <td>43.00</td>\n",
       "      <td>7.00</td>\n",
       "      <td>0.00</td>\n",
       "      <td>2.00</td>\n",
       "      <td>1.00</td>\n",
       "      <td>1.00</td>\n",
       "      <td>148,330.97</td>\n",
       "      <td>0.00</td>\n",
       "    </tr>\n",
       "    <tr>\n",
       "      <th>max</th>\n",
       "      <td>15,858,100.00</td>\n",
       "      <td>850.00</td>\n",
       "      <td>88.00</td>\n",
       "      <td>10.00</td>\n",
       "      <td>0.00</td>\n",
       "      <td>4.00</td>\n",
       "      <td>1.00</td>\n",
       "      <td>1.00</td>\n",
       "      <td>199,992.48</td>\n",
       "      <td>1.00</td>\n",
       "    </tr>\n",
       "  </tbody>\n",
       "</table>\n",
       "</div>"
      ],
      "text/plain": [
       "            user_id    score      age  objects  balance  products  \\\n",
       "count      3,617.00 3,617.00 3,617.00 3,617.00 3,617.00  3,617.00   \n",
       "mean  15,734,685.59   649.45    38.43     5.07     0.00      1.78   \n",
       "std       71,947.49    96.16    10.49     2.86     0.00      0.50   \n",
       "min   15,608,442.00   350.00    18.00     0.00     0.00      1.00   \n",
       "25%   15,672,255.00   583.00    31.00     3.00     0.00      1.00   \n",
       "50%   15,736,083.00   651.00    37.00     5.00     0.00      2.00   \n",
       "75%   15,796,286.00   717.00    43.00     7.00     0.00      2.00   \n",
       "max   15,858,100.00   850.00    88.00    10.00     0.00      4.00   \n",
       "\n",
       "       credit_card  loyalty  estimated_salary    churn  \n",
       "count     3,617.00 3,617.00          3,617.00 3,617.00  \n",
       "mean          0.72     0.52         98,983.56     0.14  \n",
       "std           0.45     0.50         57,730.83     0.35  \n",
       "min           0.00     0.00             90.07     0.00  \n",
       "25%           0.00     0.00         49,506.82     0.00  \n",
       "50%           1.00     1.00         98,618.79     0.00  \n",
       "75%           1.00     1.00        148,330.97     0.00  \n",
       "max           1.00     1.00        199,992.48     1.00  "
      ]
     },
     "execution_count": 66,
     "metadata": {},
     "output_type": "execute_result"
    }
   ],
   "source": [
    "data_nan.describe()"
   ]
  },
  {
   "cell_type": "code",
   "execution_count": 67,
   "id": "d1a21127",
   "metadata": {},
   "outputs": [
    {
     "data": {
      "text/plain": [
       "'----city----'"
      ]
     },
     "metadata": {},
     "output_type": "display_data"
    },
    {
     "data": {
      "text/plain": [
       "Ярославль    2418\n",
       "Рыбинск      1199\n",
       "Name: city, dtype: int64"
      ]
     },
     "metadata": {},
     "output_type": "display_data"
    },
    {
     "data": {
      "text/plain": [
       "'----gender----'"
      ]
     },
     "metadata": {},
     "output_type": "display_data"
    },
    {
     "data": {
      "text/plain": [
       "М    1963\n",
       "Ж    1654\n",
       "Name: gender, dtype: int64"
      ]
     },
     "metadata": {},
     "output_type": "display_data"
    },
    {
     "data": {
      "text/plain": [
       "'----products----'"
      ]
     },
     "metadata": {},
     "output_type": "display_data"
    },
    {
     "data": {
      "text/plain": [
       "2    2600\n",
       "1     905\n",
       "3      98\n",
       "4      14\n",
       "Name: products, dtype: int64"
      ]
     },
     "metadata": {},
     "output_type": "display_data"
    },
    {
     "data": {
      "text/plain": [
       "'----credit_card----'"
      ]
     },
     "metadata": {},
     "output_type": "display_data"
    },
    {
     "data": {
      "text/plain": [
       "1    2592\n",
       "0    1025\n",
       "Name: credit_card, dtype: int64"
      ]
     },
     "metadata": {},
     "output_type": "display_data"
    },
    {
     "data": {
      "text/plain": [
       "'----loyalty----'"
      ]
     },
     "metadata": {},
     "output_type": "display_data"
    },
    {
     "data": {
      "text/plain": [
       "1    1873\n",
       "0    1744\n",
       "Name: loyalty, dtype: int64"
      ]
     },
     "metadata": {},
     "output_type": "display_data"
    },
    {
     "data": {
      "text/plain": [
       "'----churn----'"
      ]
     },
     "metadata": {},
     "output_type": "display_data"
    },
    {
     "data": {
      "text/plain": [
       "0    3117\n",
       "1     500\n",
       "Name: churn, dtype: int64"
      ]
     },
     "metadata": {},
     "output_type": "display_data"
    }
   ],
   "source": [
    "for column in ['city', 'gender', 'products', 'credit_card', 'loyalty', 'churn']:\n",
    "    display (\"----%s----\" %column)\n",
    "    display (data_nan[column].value_counts())"
   ]
  },
  {
   "cell_type": "markdown",
   "id": "a4af08f2",
   "metadata": {},
   "source": [
    "Рассмотрим процент пропущенных значений в разрезе значений категориальных параметров:"
   ]
  },
  {
   "cell_type": "code",
   "execution_count": 81,
   "id": "e2602e3c",
   "metadata": {},
   "outputs": [
    {
     "data": {
      "text/plain": [
       "'----city----'"
      ]
     },
     "metadata": {},
     "output_type": "display_data"
    },
    {
     "data": {
      "text/plain": [
       "Ростов Великий     NaN\n",
       "Рыбинск          48.41\n",
       "Ярославль        48.22\n",
       "Name: city, dtype: float64"
      ]
     },
     "metadata": {},
     "output_type": "display_data"
    },
    {
     "data": {
      "text/plain": [
       "'----gender----'"
      ]
     },
     "metadata": {},
     "output_type": "display_data"
    },
    {
     "data": {
      "text/plain": [
       "1   35.97\n",
       "0   36.41\n",
       "Name: gender, dtype: float64"
      ]
     },
     "metadata": {},
     "output_type": "display_data"
    },
    {
     "data": {
      "text/plain": [
       "'----objects----'"
      ]
     },
     "metadata": {},
     "output_type": "display_data"
    },
    {
     "data": {
      "text/plain": [
       "0    33.17\n",
       "1    33.72\n",
       "2    36.45\n",
       "3    34.89\n",
       "4    37.31\n",
       "5    36.96\n",
       "6    37.95\n",
       "7    37.55\n",
       "8    35.41\n",
       "9    36.59\n",
       "10   36.33\n",
       "Name: objects, dtype: float64"
      ]
     },
     "metadata": {},
     "output_type": "display_data"
    },
    {
     "data": {
      "text/plain": [
       "'----products----'"
      ]
     },
     "metadata": {},
     "output_type": "display_data"
    },
    {
     "data": {
      "text/plain": [
       "1   17.80\n",
       "2   56.64\n",
       "3   36.84\n",
       "4   23.33\n",
       "Name: products, dtype: float64"
      ]
     },
     "metadata": {},
     "output_type": "display_data"
    },
    {
     "data": {
      "text/plain": [
       "'----credit_card----'"
      ]
     },
     "metadata": {},
     "output_type": "display_data"
    },
    {
     "data": {
      "text/plain": [
       "1   36.74\n",
       "0   34.80\n",
       "Name: credit_card, dtype: float64"
      ]
     },
     "metadata": {},
     "output_type": "display_data"
    },
    {
     "data": {
      "text/plain": [
       "'----loyalty----'"
      ]
     },
     "metadata": {},
     "output_type": "display_data"
    },
    {
     "data": {
      "text/plain": [
       "1   36.36\n",
       "0   35.97\n",
       "Name: loyalty, dtype: float64"
      ]
     },
     "metadata": {},
     "output_type": "display_data"
    },
    {
     "data": {
      "text/plain": [
       "'----churn----'"
      ]
     },
     "metadata": {},
     "output_type": "display_data"
    },
    {
     "data": {
      "text/plain": [
       "0   39.14\n",
       "1   24.55\n",
       "Name: churn, dtype: float64"
      ]
     },
     "metadata": {},
     "output_type": "display_data"
    }
   ],
   "source": [
    "for column in ['city', 'gender', 'objects', 'products', 'credit_card', 'loyalty', 'churn']:\n",
    "    display (\"----%s----\" %column)\n",
    "    display ((data_nan[column].value_counts() / data[column].value_counts())*100)"
   ]
  },
  {
   "cell_type": "markdown",
   "id": "86e16fe7",
   "metadata": {},
   "source": [
    "**Вывод** по клиентам с пропущенными значениями в поле Balance:<br>\n",
    "- Ростов Великий не представлен среди таковых клиентов, в Рыбинске и Ярославле почти половина клиентов с пропусками;<br>\n",
    "- В большинстве параметров пропуски составляют 30-40%;<br>\n",
    "- Среди тех, кто пользуется одним продуктом, наиболее полные данные - пропуски в Balance составляют 17,8%, больше всего пропусков среди тех, у кого 2 продукта;<br>\n",
    "- Мужчины также преобладают - 54%;<br>\n",
    "- 71% пользуются двумя продуктами Банка, 25% - одним;<br>\n",
    "- 71% пользуются кредитной карточкой;<br>\n",
    "- 51% активных пользователей;<br>\n",
    "- отток среди пользователей с нулевым балансом составляет 13,82%;<br>\n",
    "- средняя заработная плата - 98,983.56 руб.;<br>\n",
    "- средний возраст - 38 лет<br>"
   ]
  },
  {
   "cell_type": "markdown",
   "id": "1aef0b90",
   "metadata": {},
   "source": [
    "Т.к. пропуски составляют 36% - удалить их будет нецелесообразно.<br>\n",
    "Возможные причины пропусков:<br>\n",
    "- Некорректная выгрузка из БД: возможно под пропусками подразумевается нулевой баланс, особенно учитывая, что таковых значений нет;<br>\n",
    "- Использование только кредитных продуктов Банка<br>\n",
    "\n",
    "Скорее всего пропуски - это нулевой баланс (т.к. сложно подобрать причины, почему выгрузка не смогла отразить значения от 0 до 3,768.69 руб., если это не нулевые значения) либо отсутствие дебетовой карты, \n",
    "\n",
    "Предположение, что пропуски в балансе связаны с пользованием только кредитных продуктов Банка имеет место быть, учитывая, что 71% клиентов имеют кредитку, а также более низкий уровень оттока (т.к. возможно связаны долгосрочными долговыми обязательствами) - т.е. это те, у кого кредитная карточка, потребительский кредит, ипотека, либо просто нет денег на балансе (вывели, потратили и т.д.)<br>\n",
    "**Заменим пропуски на \"0\".**<br>"
   ]
  },
  {
   "cell_type": "markdown",
   "id": "bf8ff5f8",
   "metadata": {},
   "source": [
    "<div class='alert alert-success'>👍\n",
    "Можно сделать предположение о том, что клиентов в Ростове привлекли за счет зарплатного проекта заключив договор с какой-то организацией.\n"
   ]
  },
  {
   "cell_type": "code",
   "execution_count": 59,
   "id": "50db69f0",
   "metadata": {},
   "outputs": [
    {
     "data": {
      "text/html": [
       "<div>\n",
       "<style scoped>\n",
       "    .dataframe tbody tr th:only-of-type {\n",
       "        vertical-align: middle;\n",
       "    }\n",
       "\n",
       "    .dataframe tbody tr th {\n",
       "        vertical-align: top;\n",
       "    }\n",
       "\n",
       "    .dataframe thead th {\n",
       "        text-align: right;\n",
       "    }\n",
       "</style>\n",
       "<table border=\"1\" class=\"dataframe\">\n",
       "  <thead>\n",
       "    <tr style=\"text-align: right;\">\n",
       "      <th></th>\n",
       "      <th>user_id</th>\n",
       "      <th>score</th>\n",
       "      <th>city</th>\n",
       "      <th>gender</th>\n",
       "      <th>age</th>\n",
       "      <th>objects</th>\n",
       "      <th>balance</th>\n",
       "      <th>products</th>\n",
       "      <th>credit_card</th>\n",
       "      <th>loyalty</th>\n",
       "      <th>estimated_salary</th>\n",
       "      <th>churn</th>\n",
       "    </tr>\n",
       "  </thead>\n",
       "  <tbody>\n",
       "    <tr>\n",
       "      <th>0</th>\n",
       "      <td>15677338</td>\n",
       "      <td>619</td>\n",
       "      <td>Ярославль</td>\n",
       "      <td>Ж</td>\n",
       "      <td>42</td>\n",
       "      <td>2</td>\n",
       "      <td>0.00</td>\n",
       "      <td>1</td>\n",
       "      <td>1</td>\n",
       "      <td>1</td>\n",
       "      <td>101,348.88</td>\n",
       "      <td>1</td>\n",
       "    </tr>\n",
       "    <tr>\n",
       "      <th>1</th>\n",
       "      <td>15690047</td>\n",
       "      <td>608</td>\n",
       "      <td>Рыбинск</td>\n",
       "      <td>Ж</td>\n",
       "      <td>41</td>\n",
       "      <td>1</td>\n",
       "      <td>83,807.86</td>\n",
       "      <td>1</td>\n",
       "      <td>0</td>\n",
       "      <td>1</td>\n",
       "      <td>112,542.58</td>\n",
       "      <td>0</td>\n",
       "    </tr>\n",
       "    <tr>\n",
       "      <th>2</th>\n",
       "      <td>15662040</td>\n",
       "      <td>502</td>\n",
       "      <td>Ярославль</td>\n",
       "      <td>Ж</td>\n",
       "      <td>42</td>\n",
       "      <td>8</td>\n",
       "      <td>159,660.80</td>\n",
       "      <td>3</td>\n",
       "      <td>1</td>\n",
       "      <td>0</td>\n",
       "      <td>113,931.57</td>\n",
       "      <td>1</td>\n",
       "    </tr>\n",
       "    <tr>\n",
       "      <th>3</th>\n",
       "      <td>15744090</td>\n",
       "      <td>699</td>\n",
       "      <td>Ярославль</td>\n",
       "      <td>Ж</td>\n",
       "      <td>39</td>\n",
       "      <td>1</td>\n",
       "      <td>0.00</td>\n",
       "      <td>2</td>\n",
       "      <td>0</td>\n",
       "      <td>0</td>\n",
       "      <td>93,826.63</td>\n",
       "      <td>0</td>\n",
       "    </tr>\n",
       "    <tr>\n",
       "      <th>4</th>\n",
       "      <td>15780624</td>\n",
       "      <td>850</td>\n",
       "      <td>Рыбинск</td>\n",
       "      <td>Ж</td>\n",
       "      <td>43</td>\n",
       "      <td>2</td>\n",
       "      <td>125,510.82</td>\n",
       "      <td>1</td>\n",
       "      <td>1</td>\n",
       "      <td>1</td>\n",
       "      <td>79,084.10</td>\n",
       "      <td>0</td>\n",
       "    </tr>\n",
       "    <tr>\n",
       "      <th>...</th>\n",
       "      <td>...</td>\n",
       "      <td>...</td>\n",
       "      <td>...</td>\n",
       "      <td>...</td>\n",
       "      <td>...</td>\n",
       "      <td>...</td>\n",
       "      <td>...</td>\n",
       "      <td>...</td>\n",
       "      <td>...</td>\n",
       "      <td>...</td>\n",
       "      <td>...</td>\n",
       "      <td>...</td>\n",
       "    </tr>\n",
       "    <tr>\n",
       "      <th>9995</th>\n",
       "      <td>15648965</td>\n",
       "      <td>771</td>\n",
       "      <td>Ярославль</td>\n",
       "      <td>М</td>\n",
       "      <td>39</td>\n",
       "      <td>5</td>\n",
       "      <td>0.00</td>\n",
       "      <td>2</td>\n",
       "      <td>1</td>\n",
       "      <td>0</td>\n",
       "      <td>96,270.64</td>\n",
       "      <td>0</td>\n",
       "    </tr>\n",
       "    <tr>\n",
       "      <th>9996</th>\n",
       "      <td>15612628</td>\n",
       "      <td>516</td>\n",
       "      <td>Ярославль</td>\n",
       "      <td>М</td>\n",
       "      <td>35</td>\n",
       "      <td>10</td>\n",
       "      <td>57,369.61</td>\n",
       "      <td>1</td>\n",
       "      <td>1</td>\n",
       "      <td>1</td>\n",
       "      <td>101,699.77</td>\n",
       "      <td>0</td>\n",
       "    </tr>\n",
       "    <tr>\n",
       "      <th>9997</th>\n",
       "      <td>15627268</td>\n",
       "      <td>709</td>\n",
       "      <td>Ярославль</td>\n",
       "      <td>Ж</td>\n",
       "      <td>36</td>\n",
       "      <td>7</td>\n",
       "      <td>0.00</td>\n",
       "      <td>1</td>\n",
       "      <td>0</td>\n",
       "      <td>1</td>\n",
       "      <td>42,085.58</td>\n",
       "      <td>1</td>\n",
       "    </tr>\n",
       "    <tr>\n",
       "      <th>9998</th>\n",
       "      <td>15725091</td>\n",
       "      <td>772</td>\n",
       "      <td>Ростов Великий</td>\n",
       "      <td>М</td>\n",
       "      <td>42</td>\n",
       "      <td>3</td>\n",
       "      <td>75,075.31</td>\n",
       "      <td>2</td>\n",
       "      <td>1</td>\n",
       "      <td>0</td>\n",
       "      <td>92,888.52</td>\n",
       "      <td>1</td>\n",
       "    </tr>\n",
       "    <tr>\n",
       "      <th>9999</th>\n",
       "      <td>15671055</td>\n",
       "      <td>792</td>\n",
       "      <td>Ярославль</td>\n",
       "      <td>Ж</td>\n",
       "      <td>28</td>\n",
       "      <td>4</td>\n",
       "      <td>130,142.79</td>\n",
       "      <td>1</td>\n",
       "      <td>1</td>\n",
       "      <td>0</td>\n",
       "      <td>38,190.78</td>\n",
       "      <td>0</td>\n",
       "    </tr>\n",
       "  </tbody>\n",
       "</table>\n",
       "<p>10000 rows × 12 columns</p>\n",
       "</div>"
      ],
      "text/plain": [
       "       user_id  score            city gender  age  objects    balance  \\\n",
       "0     15677338    619       Ярославль      Ж   42        2       0.00   \n",
       "1     15690047    608         Рыбинск      Ж   41        1  83,807.86   \n",
       "2     15662040    502       Ярославль      Ж   42        8 159,660.80   \n",
       "3     15744090    699       Ярославль      Ж   39        1       0.00   \n",
       "4     15780624    850         Рыбинск      Ж   43        2 125,510.82   \n",
       "...        ...    ...             ...    ...  ...      ...        ...   \n",
       "9995  15648965    771       Ярославль      М   39        5       0.00   \n",
       "9996  15612628    516       Ярославль      М   35       10  57,369.61   \n",
       "9997  15627268    709       Ярославль      Ж   36        7       0.00   \n",
       "9998  15725091    772  Ростов Великий      М   42        3  75,075.31   \n",
       "9999  15671055    792       Ярославль      Ж   28        4 130,142.79   \n",
       "\n",
       "      products  credit_card  loyalty  estimated_salary  churn  \n",
       "0            1            1        1        101,348.88      1  \n",
       "1            1            0        1        112,542.58      0  \n",
       "2            3            1        0        113,931.57      1  \n",
       "3            2            0        0         93,826.63      0  \n",
       "4            1            1        1         79,084.10      0  \n",
       "...        ...          ...      ...               ...    ...  \n",
       "9995         2            1        0         96,270.64      0  \n",
       "9996         1            1        1        101,699.77      0  \n",
       "9997         1            0        1         42,085.58      1  \n",
       "9998         2            1        0         92,888.52      1  \n",
       "9999         1            1        0         38,190.78      0  \n",
       "\n",
       "[10000 rows x 12 columns]"
      ]
     },
     "metadata": {},
     "output_type": "display_data"
    },
    {
     "name": "stdout",
     "output_type": "stream",
     "text": [
      "<class 'pandas.core.frame.DataFrame'>\n",
      "RangeIndex: 10000 entries, 0 to 9999\n",
      "Data columns (total 12 columns):\n",
      " #   Column            Non-Null Count  Dtype  \n",
      "---  ------            --------------  -----  \n",
      " 0   user_id           10000 non-null  int64  \n",
      " 1   score             10000 non-null  int64  \n",
      " 2   city              10000 non-null  object \n",
      " 3   gender            10000 non-null  object \n",
      " 4   age               10000 non-null  int64  \n",
      " 5   objects           10000 non-null  int64  \n",
      " 6   balance           10000 non-null  float64\n",
      " 7   products          10000 non-null  int64  \n",
      " 8   credit_card       10000 non-null  int64  \n",
      " 9   loyalty           10000 non-null  int64  \n",
      " 10  estimated_salary  10000 non-null  float64\n",
      " 11  churn             10000 non-null  int64  \n",
      "dtypes: float64(2), int64(8), object(2)\n",
      "memory usage: 937.6+ KB\n"
     ]
    }
   ],
   "source": [
    "data['balance'].replace(np.nan, 0, inplace=True)\n",
    "display(data)\n",
    "data.info()"
   ]
  },
  {
   "cell_type": "markdown",
   "id": "34eef014",
   "metadata": {},
   "source": [
    "**ВЫВОД:**\n",
    "\n",
    "- привели названия столбцов к нижнему регистру;<Br>\n",
    "- скорректировали названия столбцов;<Br>\n",
    "- дубликатов не обнаружено;<Br>\n",
    "- все 10000 строк - это уникальные, не повторяющиеся клиенты;<Br>\n",
    "- все данные, за исключением отсутствия нулевого баланса и необычайно низкой заработной платы являются нормальными, никаких аномалий не наблюдается;<Br>\n",
    "- заменили пропуски в столбце Balance на \"0\" - на основании предположения о том, что это ошибка при выгрузке из БД, которая подразумевает нулевой остаток на балансе, либо использвание клиентами только кредитных продуктов Банка<Br>"
   ]
  },
  {
   "cell_type": "markdown",
   "id": "4d0c7fc4",
   "metadata": {},
   "source": [
    "### 3. Исследовательский анализ данных"
   ]
  },
  {
   "cell_type": "markdown",
   "id": "9d0df4e3",
   "metadata": {},
   "source": [
    "**3.1 Анализ общих данных без разбивки по оттоку:**"
   ]
  },
  {
   "cell_type": "markdown",
   "id": "0cd7f767",
   "metadata": {},
   "source": [
    "Применим метод describe() и рассмотрим статистику по столбцам:"
   ]
  },
  {
   "cell_type": "code",
   "execution_count": 60,
   "id": "3ebebe78",
   "metadata": {},
   "outputs": [
    {
     "data": {
      "text/html": [
       "<div>\n",
       "<style scoped>\n",
       "    .dataframe tbody tr th:only-of-type {\n",
       "        vertical-align: middle;\n",
       "    }\n",
       "\n",
       "    .dataframe tbody tr th {\n",
       "        vertical-align: top;\n",
       "    }\n",
       "\n",
       "    .dataframe thead th {\n",
       "        text-align: right;\n",
       "    }\n",
       "</style>\n",
       "<table border=\"1\" class=\"dataframe\">\n",
       "  <thead>\n",
       "    <tr style=\"text-align: right;\">\n",
       "      <th></th>\n",
       "      <th>user_id</th>\n",
       "      <th>score</th>\n",
       "      <th>age</th>\n",
       "      <th>objects</th>\n",
       "      <th>balance</th>\n",
       "      <th>products</th>\n",
       "      <th>credit_card</th>\n",
       "      <th>loyalty</th>\n",
       "      <th>estimated_salary</th>\n",
       "      <th>churn</th>\n",
       "    </tr>\n",
       "  </thead>\n",
       "  <tbody>\n",
       "    <tr>\n",
       "      <th>count</th>\n",
       "      <td>10,000.00</td>\n",
       "      <td>10,000.00</td>\n",
       "      <td>10,000.00</td>\n",
       "      <td>10,000.00</td>\n",
       "      <td>10,000.00</td>\n",
       "      <td>10,000.00</td>\n",
       "      <td>10,000.00</td>\n",
       "      <td>10,000.00</td>\n",
       "      <td>10,000.00</td>\n",
       "      <td>10,000.00</td>\n",
       "    </tr>\n",
       "    <tr>\n",
       "      <th>mean</th>\n",
       "      <td>15,733,676.57</td>\n",
       "      <td>650.53</td>\n",
       "      <td>38.92</td>\n",
       "      <td>5.01</td>\n",
       "      <td>76,485.89</td>\n",
       "      <td>1.53</td>\n",
       "      <td>0.71</td>\n",
       "      <td>0.52</td>\n",
       "      <td>100,090.24</td>\n",
       "      <td>0.20</td>\n",
       "    </tr>\n",
       "    <tr>\n",
       "      <th>std</th>\n",
       "      <td>71,936.19</td>\n",
       "      <td>96.65</td>\n",
       "      <td>10.49</td>\n",
       "      <td>2.89</td>\n",
       "      <td>62,397.41</td>\n",
       "      <td>0.58</td>\n",
       "      <td>0.46</td>\n",
       "      <td>0.50</td>\n",
       "      <td>57,510.49</td>\n",
       "      <td>0.40</td>\n",
       "    </tr>\n",
       "    <tr>\n",
       "      <th>min</th>\n",
       "      <td>15,608,437.00</td>\n",
       "      <td>350.00</td>\n",
       "      <td>18.00</td>\n",
       "      <td>0.00</td>\n",
       "      <td>0.00</td>\n",
       "      <td>1.00</td>\n",
       "      <td>0.00</td>\n",
       "      <td>0.00</td>\n",
       "      <td>11.58</td>\n",
       "      <td>0.00</td>\n",
       "    </tr>\n",
       "    <tr>\n",
       "      <th>25%</th>\n",
       "      <td>15,671,264.25</td>\n",
       "      <td>584.00</td>\n",
       "      <td>32.00</td>\n",
       "      <td>3.00</td>\n",
       "      <td>0.00</td>\n",
       "      <td>1.00</td>\n",
       "      <td>0.00</td>\n",
       "      <td>0.00</td>\n",
       "      <td>51,002.11</td>\n",
       "      <td>0.00</td>\n",
       "    </tr>\n",
       "    <tr>\n",
       "      <th>50%</th>\n",
       "      <td>15,733,474.00</td>\n",
       "      <td>652.00</td>\n",
       "      <td>37.00</td>\n",
       "      <td>5.00</td>\n",
       "      <td>97,198.54</td>\n",
       "      <td>1.00</td>\n",
       "      <td>1.00</td>\n",
       "      <td>1.00</td>\n",
       "      <td>100,193.91</td>\n",
       "      <td>0.00</td>\n",
       "    </tr>\n",
       "    <tr>\n",
       "      <th>75%</th>\n",
       "      <td>15,795,969.75</td>\n",
       "      <td>718.00</td>\n",
       "      <td>44.00</td>\n",
       "      <td>7.00</td>\n",
       "      <td>127,644.24</td>\n",
       "      <td>2.00</td>\n",
       "      <td>1.00</td>\n",
       "      <td>1.00</td>\n",
       "      <td>149,388.25</td>\n",
       "      <td>0.00</td>\n",
       "    </tr>\n",
       "    <tr>\n",
       "      <th>max</th>\n",
       "      <td>15,858,426.00</td>\n",
       "      <td>850.00</td>\n",
       "      <td>92.00</td>\n",
       "      <td>10.00</td>\n",
       "      <td>250,898.09</td>\n",
       "      <td>4.00</td>\n",
       "      <td>1.00</td>\n",
       "      <td>1.00</td>\n",
       "      <td>199,992.48</td>\n",
       "      <td>1.00</td>\n",
       "    </tr>\n",
       "  </tbody>\n",
       "</table>\n",
       "</div>"
      ],
      "text/plain": [
       "            user_id     score       age   objects    balance  products  \\\n",
       "count     10,000.00 10,000.00 10,000.00 10,000.00  10,000.00 10,000.00   \n",
       "mean  15,733,676.57    650.53     38.92      5.01  76,485.89      1.53   \n",
       "std       71,936.19     96.65     10.49      2.89  62,397.41      0.58   \n",
       "min   15,608,437.00    350.00     18.00      0.00       0.00      1.00   \n",
       "25%   15,671,264.25    584.00     32.00      3.00       0.00      1.00   \n",
       "50%   15,733,474.00    652.00     37.00      5.00  97,198.54      1.00   \n",
       "75%   15,795,969.75    718.00     44.00      7.00 127,644.24      2.00   \n",
       "max   15,858,426.00    850.00     92.00     10.00 250,898.09      4.00   \n",
       "\n",
       "       credit_card   loyalty  estimated_salary     churn  \n",
       "count    10,000.00 10,000.00         10,000.00 10,000.00  \n",
       "mean          0.71      0.52        100,090.24      0.20  \n",
       "std           0.46      0.50         57,510.49      0.40  \n",
       "min           0.00      0.00             11.58      0.00  \n",
       "25%           0.00      0.00         51,002.11      0.00  \n",
       "50%           1.00      1.00        100,193.91      0.00  \n",
       "75%           1.00      1.00        149,388.25      0.00  \n",
       "max           1.00      1.00        199,992.48      1.00  "
      ]
     },
     "execution_count": 60,
     "metadata": {},
     "output_type": "execute_result"
    }
   ],
   "source": [
    "data.describe()"
   ]
  },
  {
   "cell_type": "markdown",
   "id": "2494ef77",
   "metadata": {},
   "source": [
    "Рассмотрим подробнее категориальные признаки, применим к ним функцию value_counts():"
   ]
  },
  {
   "cell_type": "code",
   "execution_count": 61,
   "id": "9a058516",
   "metadata": {},
   "outputs": [
    {
     "data": {
      "text/plain": [
       "'----city----'"
      ]
     },
     "metadata": {},
     "output_type": "display_data"
    },
    {
     "data": {
      "text/plain": [
       "Ярославль         5014\n",
       "Ростов Великий    2509\n",
       "Рыбинск           2477\n",
       "Name: city, dtype: int64"
      ]
     },
     "metadata": {},
     "output_type": "display_data"
    },
    {
     "data": {
      "text/plain": [
       "'----gender----'"
      ]
     },
     "metadata": {},
     "output_type": "display_data"
    },
    {
     "data": {
      "text/plain": [
       "М    5457\n",
       "Ж    4543\n",
       "Name: gender, dtype: int64"
      ]
     },
     "metadata": {},
     "output_type": "display_data"
    },
    {
     "data": {
      "text/plain": [
       "'----products----'"
      ]
     },
     "metadata": {},
     "output_type": "display_data"
    },
    {
     "data": {
      "text/plain": [
       "1    5084\n",
       "2    4590\n",
       "3     266\n",
       "4      60\n",
       "Name: products, dtype: int64"
      ]
     },
     "metadata": {},
     "output_type": "display_data"
    },
    {
     "data": {
      "text/plain": [
       "'----credit_card----'"
      ]
     },
     "metadata": {},
     "output_type": "display_data"
    },
    {
     "data": {
      "text/plain": [
       "1    7055\n",
       "0    2945\n",
       "Name: credit_card, dtype: int64"
      ]
     },
     "metadata": {},
     "output_type": "display_data"
    },
    {
     "data": {
      "text/plain": [
       "'----loyalty----'"
      ]
     },
     "metadata": {},
     "output_type": "display_data"
    },
    {
     "data": {
      "text/plain": [
       "1    5151\n",
       "0    4849\n",
       "Name: loyalty, dtype: int64"
      ]
     },
     "metadata": {},
     "output_type": "display_data"
    },
    {
     "data": {
      "text/plain": [
       "'----churn----'"
      ]
     },
     "metadata": {},
     "output_type": "display_data"
    },
    {
     "data": {
      "text/plain": [
       "0    7963\n",
       "1    2037\n",
       "Name: churn, dtype: int64"
      ]
     },
     "metadata": {},
     "output_type": "display_data"
    }
   ],
   "source": [
    "for column in ['city', 'gender', 'products', 'credit_card', 'loyalty', 'churn']:\n",
    "    display (\"----%s----\" %column)\n",
    "    display (data[column].value_counts())"
   ]
  },
  {
   "cell_type": "markdown",
   "id": "b04820f8",
   "metadata": {},
   "source": [
    "Выводы:<br>\n",
    "- Больше половины клиентов из Ярославля - 5014 клиентов, второй - Ростов Великий (2509), третий - Рыбинск (2477);<br>\n",
    "- Мужчины преобладают - их 54,57%;<br>\n",
    "- Активные и не активные клиенты распределны почти поровну - 5151 и 4849 соответственно;<br>\n",
    "- Клиенты, попавшие в отток составляют 20,37% от общего числа;<br>\n",
    "- Исходя из того, что минимальный скоринговый балл - 350, а максимальный - 850, применяется система скоринга FICO (применяется в НБКИ), которая принмает значения от 300 до 850 баллов. В наших данных среднее и медианное значение почти одинаково - 650 баллов, которого, как считается, достаточно для одобрения кредита;<br>\n",
    "- Средний возраст - почти 39 лет (38,92), медианный - 44 года;<br>\n",
    "- Максимальное количетсво объектов в собственности среди клиентов - 10, среднее и медианное - 5 объектов;<br>\n",
    "- Средняя сумма баланса - 119827,49 руб. Минимальная сумма на балансе - 3768,69 руб., максимальная - 250898,09 руб. Нет пользователей с нулевым балансом;<br>\n",
    "- В большинстве пользователи пользуются одним-двумя продуктами Банка, 3 и 4 продукта на клиента - редкое явление (266 и 60 клиентов соответственно);<br>\n",
    "- 70,55% клиентов имеют кредитную карту;<br>\n",
    "- Средняя зарплата - 100090,24 руб (медианная - 100193,91 руб.) - что является довольно хорошим показателем.<br>\n",
    "- Больше всего вопросов вызывает минимальная зарплата - 11,58 руб. Отсюда появляются вопросы - каким образом собираются данные по зарплате клиентов.<br>\n",
    "\n",
    "Все данные, за исключением отсутствия нулевого баланса и необычайно низкой заработной платы являются нормальными, никаких аномалий не наблюдается.<br>"
   ]
  },
  {
   "cell_type": "markdown",
   "id": "6badd484",
   "metadata": {},
   "source": [
    "**Рассмотрим более подробно клиентов с низкой зарплатой (возьмем данные с уровнем зарплаты ниже официального уровня МРОТ):**"
   ]
  },
  {
   "cell_type": "code",
   "execution_count": 62,
   "id": "defe09aa",
   "metadata": {},
   "outputs": [
    {
     "data": {
      "text/html": [
       "<div>\n",
       "<style scoped>\n",
       "    .dataframe tbody tr th:only-of-type {\n",
       "        vertical-align: middle;\n",
       "    }\n",
       "\n",
       "    .dataframe tbody tr th {\n",
       "        vertical-align: top;\n",
       "    }\n",
       "\n",
       "    .dataframe thead th {\n",
       "        text-align: right;\n",
       "    }\n",
       "</style>\n",
       "<table border=\"1\" class=\"dataframe\">\n",
       "  <thead>\n",
       "    <tr style=\"text-align: right;\">\n",
       "      <th></th>\n",
       "      <th>user_id</th>\n",
       "      <th>score</th>\n",
       "      <th>city</th>\n",
       "      <th>gender</th>\n",
       "      <th>age</th>\n",
       "      <th>objects</th>\n",
       "      <th>balance</th>\n",
       "      <th>products</th>\n",
       "      <th>credit_card</th>\n",
       "      <th>loyalty</th>\n",
       "      <th>estimated_salary</th>\n",
       "      <th>churn</th>\n",
       "    </tr>\n",
       "  </thead>\n",
       "  <tbody>\n",
       "    <tr>\n",
       "      <th>6</th>\n",
       "      <td>15635267</td>\n",
       "      <td>822</td>\n",
       "      <td>Ярославль</td>\n",
       "      <td>М</td>\n",
       "      <td>50</td>\n",
       "      <td>7</td>\n",
       "      <td>0.00</td>\n",
       "      <td>2</td>\n",
       "      <td>1</td>\n",
       "      <td>1</td>\n",
       "      <td>10,062.80</td>\n",
       "      <td>0</td>\n",
       "    </tr>\n",
       "    <tr>\n",
       "      <th>16</th>\n",
       "      <td>15780188</td>\n",
       "      <td>653</td>\n",
       "      <td>Ростов Великий</td>\n",
       "      <td>М</td>\n",
       "      <td>58</td>\n",
       "      <td>1</td>\n",
       "      <td>132,602.88</td>\n",
       "      <td>1</td>\n",
       "      <td>1</td>\n",
       "      <td>0</td>\n",
       "      <td>5,097.67</td>\n",
       "      <td>1</td>\n",
       "    </tr>\n",
       "    <tr>\n",
       "      <th>23</th>\n",
       "      <td>15768473</td>\n",
       "      <td>669</td>\n",
       "      <td>Ярославль</td>\n",
       "      <td>М</td>\n",
       "      <td>46</td>\n",
       "      <td>3</td>\n",
       "      <td>0.00</td>\n",
       "      <td>2</td>\n",
       "      <td>0</td>\n",
       "      <td>1</td>\n",
       "      <td>8,487.75</td>\n",
       "      <td>0</td>\n",
       "    </tr>\n",
       "    <tr>\n",
       "      <th>58</th>\n",
       "      <td>15666680</td>\n",
       "      <td>511</td>\n",
       "      <td>Рыбинск</td>\n",
       "      <td>Ж</td>\n",
       "      <td>66</td>\n",
       "      <td>4</td>\n",
       "      <td>0.00</td>\n",
       "      <td>1</td>\n",
       "      <td>1</td>\n",
       "      <td>0</td>\n",
       "      <td>1,643.11</td>\n",
       "      <td>1</td>\n",
       "    </tr>\n",
       "    <tr>\n",
       "      <th>84</th>\n",
       "      <td>15781487</td>\n",
       "      <td>493</td>\n",
       "      <td>Ярославль</td>\n",
       "      <td>Ж</td>\n",
       "      <td>46</td>\n",
       "      <td>4</td>\n",
       "      <td>0.00</td>\n",
       "      <td>2</td>\n",
       "      <td>1</td>\n",
       "      <td>0</td>\n",
       "      <td>1,907.66</td>\n",
       "      <td>0</td>\n",
       "    </tr>\n",
       "    <tr>\n",
       "      <th>...</th>\n",
       "      <td>...</td>\n",
       "      <td>...</td>\n",
       "      <td>...</td>\n",
       "      <td>...</td>\n",
       "      <td>...</td>\n",
       "      <td>...</td>\n",
       "      <td>...</td>\n",
       "      <td>...</td>\n",
       "      <td>...</td>\n",
       "      <td>...</td>\n",
       "      <td>...</td>\n",
       "      <td>...</td>\n",
       "    </tr>\n",
       "    <tr>\n",
       "      <th>9940</th>\n",
       "      <td>15834708</td>\n",
       "      <td>748</td>\n",
       "      <td>Ярославль</td>\n",
       "      <td>Ж</td>\n",
       "      <td>20</td>\n",
       "      <td>7</td>\n",
       "      <td>0.00</td>\n",
       "      <td>2</td>\n",
       "      <td>0</td>\n",
       "      <td>0</td>\n",
       "      <td>10,792.42</td>\n",
       "      <td>0</td>\n",
       "    </tr>\n",
       "    <tr>\n",
       "      <th>9943</th>\n",
       "      <td>15702231</td>\n",
       "      <td>784</td>\n",
       "      <td>Рыбинск</td>\n",
       "      <td>М</td>\n",
       "      <td>23</td>\n",
       "      <td>2</td>\n",
       "      <td>0.00</td>\n",
       "      <td>1</td>\n",
       "      <td>1</td>\n",
       "      <td>1</td>\n",
       "      <td>6,847.73</td>\n",
       "      <td>0</td>\n",
       "    </tr>\n",
       "    <tr>\n",
       "      <th>9954</th>\n",
       "      <td>15782586</td>\n",
       "      <td>645</td>\n",
       "      <td>Ярославль</td>\n",
       "      <td>М</td>\n",
       "      <td>45</td>\n",
       "      <td>6</td>\n",
       "      <td>155,417.61</td>\n",
       "      <td>1</td>\n",
       "      <td>0</td>\n",
       "      <td>1</td>\n",
       "      <td>3,449.22</td>\n",
       "      <td>0</td>\n",
       "    </tr>\n",
       "    <tr>\n",
       "      <th>9979</th>\n",
       "      <td>15735400</td>\n",
       "      <td>677</td>\n",
       "      <td>Ярославль</td>\n",
       "      <td>Ж</td>\n",
       "      <td>58</td>\n",
       "      <td>1</td>\n",
       "      <td>90,022.85</td>\n",
       "      <td>1</td>\n",
       "      <td>0</td>\n",
       "      <td>1</td>\n",
       "      <td>2,988.28</td>\n",
       "      <td>0</td>\n",
       "    </tr>\n",
       "    <tr>\n",
       "      <th>9987</th>\n",
       "      <td>15631575</td>\n",
       "      <td>606</td>\n",
       "      <td>Рыбинск</td>\n",
       "      <td>М</td>\n",
       "      <td>30</td>\n",
       "      <td>8</td>\n",
       "      <td>180,307.73</td>\n",
       "      <td>2</td>\n",
       "      <td>1</td>\n",
       "      <td>1</td>\n",
       "      <td>1,914.41</td>\n",
       "      <td>0</td>\n",
       "    </tr>\n",
       "  </tbody>\n",
       "</table>\n",
       "<p>640 rows × 12 columns</p>\n",
       "</div>"
      ],
      "text/plain": [
       "       user_id  score            city gender  age  objects    balance  \\\n",
       "6     15635267    822       Ярославль      М   50        7       0.00   \n",
       "16    15780188    653  Ростов Великий      М   58        1 132,602.88   \n",
       "23    15768473    669       Ярославль      М   46        3       0.00   \n",
       "58    15666680    511         Рыбинск      Ж   66        4       0.00   \n",
       "84    15781487    493       Ярославль      Ж   46        4       0.00   \n",
       "...        ...    ...             ...    ...  ...      ...        ...   \n",
       "9940  15834708    748       Ярославль      Ж   20        7       0.00   \n",
       "9943  15702231    784         Рыбинск      М   23        2       0.00   \n",
       "9954  15782586    645       Ярославль      М   45        6 155,417.61   \n",
       "9979  15735400    677       Ярославль      Ж   58        1  90,022.85   \n",
       "9987  15631575    606         Рыбинск      М   30        8 180,307.73   \n",
       "\n",
       "      products  credit_card  loyalty  estimated_salary  churn  \n",
       "6            2            1        1         10,062.80      0  \n",
       "16           1            1        0          5,097.67      1  \n",
       "23           2            0        1          8,487.75      0  \n",
       "58           1            1        0          1,643.11      1  \n",
       "84           2            1        0          1,907.66      0  \n",
       "...        ...          ...      ...               ...    ...  \n",
       "9940         2            0        0         10,792.42      0  \n",
       "9943         1            1        1          6,847.73      0  \n",
       "9954         1            0        1          3,449.22      0  \n",
       "9979         1            0        1          2,988.28      0  \n",
       "9987         2            1        1          1,914.41      0  \n",
       "\n",
       "[640 rows x 12 columns]"
      ]
     },
     "metadata": {},
     "output_type": "display_data"
    },
    {
     "name": "stdout",
     "output_type": "stream",
     "text": [
      "<class 'pandas.core.frame.DataFrame'>\n",
      "Int64Index: 640 entries, 6 to 9987\n",
      "Data columns (total 12 columns):\n",
      " #   Column            Non-Null Count  Dtype  \n",
      "---  ------            --------------  -----  \n",
      " 0   user_id           640 non-null    int64  \n",
      " 1   score             640 non-null    int64  \n",
      " 2   city              640 non-null    object \n",
      " 3   gender            640 non-null    object \n",
      " 4   age               640 non-null    int64  \n",
      " 5   objects           640 non-null    int64  \n",
      " 6   balance           640 non-null    float64\n",
      " 7   products          640 non-null    int64  \n",
      " 8   credit_card       640 non-null    int64  \n",
      " 9   loyalty           640 non-null    int64  \n",
      " 10  estimated_salary  640 non-null    float64\n",
      " 11  churn             640 non-null    int64  \n",
      "dtypes: float64(2), int64(8), object(2)\n",
      "memory usage: 65.0+ KB\n"
     ]
    }
   ],
   "source": [
    "data_mrot = data[data['estimated_salary'] < 12792]\n",
    "display(data_mrot)\n",
    "data_mrot.info()"
   ]
  },
  {
   "cell_type": "code",
   "execution_count": 63,
   "id": "6ba31282",
   "metadata": {},
   "outputs": [
    {
     "data": {
      "text/html": [
       "<div>\n",
       "<style scoped>\n",
       "    .dataframe tbody tr th:only-of-type {\n",
       "        vertical-align: middle;\n",
       "    }\n",
       "\n",
       "    .dataframe tbody tr th {\n",
       "        vertical-align: top;\n",
       "    }\n",
       "\n",
       "    .dataframe thead th {\n",
       "        text-align: right;\n",
       "    }\n",
       "</style>\n",
       "<table border=\"1\" class=\"dataframe\">\n",
       "  <thead>\n",
       "    <tr style=\"text-align: right;\">\n",
       "      <th></th>\n",
       "      <th>user_id</th>\n",
       "      <th>score</th>\n",
       "      <th>age</th>\n",
       "      <th>objects</th>\n",
       "      <th>balance</th>\n",
       "      <th>products</th>\n",
       "      <th>credit_card</th>\n",
       "      <th>loyalty</th>\n",
       "      <th>estimated_salary</th>\n",
       "      <th>churn</th>\n",
       "    </tr>\n",
       "  </thead>\n",
       "  <tbody>\n",
       "    <tr>\n",
       "      <th>count</th>\n",
       "      <td>640.00</td>\n",
       "      <td>640.00</td>\n",
       "      <td>640.00</td>\n",
       "      <td>640.00</td>\n",
       "      <td>640.00</td>\n",
       "      <td>640.00</td>\n",
       "      <td>640.00</td>\n",
       "      <td>640.00</td>\n",
       "      <td>640.00</td>\n",
       "      <td>640.00</td>\n",
       "    </tr>\n",
       "    <tr>\n",
       "      <th>mean</th>\n",
       "      <td>15,732,565.08</td>\n",
       "      <td>644.55</td>\n",
       "      <td>38.51</td>\n",
       "      <td>4.83</td>\n",
       "      <td>69,423.46</td>\n",
       "      <td>1.55</td>\n",
       "      <td>0.67</td>\n",
       "      <td>0.52</td>\n",
       "      <td>6,276.61</td>\n",
       "      <td>0.19</td>\n",
       "    </tr>\n",
       "    <tr>\n",
       "      <th>std</th>\n",
       "      <td>71,797.97</td>\n",
       "      <td>99.84</td>\n",
       "      <td>10.44</td>\n",
       "      <td>2.85</td>\n",
       "      <td>61,983.42</td>\n",
       "      <td>0.58</td>\n",
       "      <td>0.47</td>\n",
       "      <td>0.50</td>\n",
       "      <td>3,714.44</td>\n",
       "      <td>0.39</td>\n",
       "    </tr>\n",
       "    <tr>\n",
       "      <th>min</th>\n",
       "      <td>15,608,947.00</td>\n",
       "      <td>412.00</td>\n",
       "      <td>18.00</td>\n",
       "      <td>0.00</td>\n",
       "      <td>0.00</td>\n",
       "      <td>1.00</td>\n",
       "      <td>0.00</td>\n",
       "      <td>0.00</td>\n",
       "      <td>11.58</td>\n",
       "      <td>0.00</td>\n",
       "    </tr>\n",
       "    <tr>\n",
       "      <th>25%</th>\n",
       "      <td>15,673,556.00</td>\n",
       "      <td>577.75</td>\n",
       "      <td>31.00</td>\n",
       "      <td>2.00</td>\n",
       "      <td>0.00</td>\n",
       "      <td>1.00</td>\n",
       "      <td>0.00</td>\n",
       "      <td>0.00</td>\n",
       "      <td>3,153.49</td>\n",
       "      <td>0.00</td>\n",
       "    </tr>\n",
       "    <tr>\n",
       "      <th>50%</th>\n",
       "      <td>15,731,724.00</td>\n",
       "      <td>645.00</td>\n",
       "      <td>37.00</td>\n",
       "      <td>5.00</td>\n",
       "      <td>89,429.10</td>\n",
       "      <td>2.00</td>\n",
       "      <td>1.00</td>\n",
       "      <td>1.00</td>\n",
       "      <td>6,121.99</td>\n",
       "      <td>0.00</td>\n",
       "    </tr>\n",
       "    <tr>\n",
       "      <th>75%</th>\n",
       "      <td>15,792,972.00</td>\n",
       "      <td>710.00</td>\n",
       "      <td>43.00</td>\n",
       "      <td>7.00</td>\n",
       "      <td>121,816.54</td>\n",
       "      <td>2.00</td>\n",
       "      <td>1.00</td>\n",
       "      <td>1.00</td>\n",
       "      <td>9,554.05</td>\n",
       "      <td>0.00</td>\n",
       "    </tr>\n",
       "    <tr>\n",
       "      <th>max</th>\n",
       "      <td>15,858,164.00</td>\n",
       "      <td>850.00</td>\n",
       "      <td>77.00</td>\n",
       "      <td>10.00</td>\n",
       "      <td>204,510.94</td>\n",
       "      <td>4.00</td>\n",
       "      <td>1.00</td>\n",
       "      <td>1.00</td>\n",
       "      <td>12,766.74</td>\n",
       "      <td>1.00</td>\n",
       "    </tr>\n",
       "  </tbody>\n",
       "</table>\n",
       "</div>"
      ],
      "text/plain": [
       "            user_id  score    age  objects    balance  products  credit_card  \\\n",
       "count        640.00 640.00 640.00   640.00     640.00    640.00       640.00   \n",
       "mean  15,732,565.08 644.55  38.51     4.83  69,423.46      1.55         0.67   \n",
       "std       71,797.97  99.84  10.44     2.85  61,983.42      0.58         0.47   \n",
       "min   15,608,947.00 412.00  18.00     0.00       0.00      1.00         0.00   \n",
       "25%   15,673,556.00 577.75  31.00     2.00       0.00      1.00         0.00   \n",
       "50%   15,731,724.00 645.00  37.00     5.00  89,429.10      2.00         1.00   \n",
       "75%   15,792,972.00 710.00  43.00     7.00 121,816.54      2.00         1.00   \n",
       "max   15,858,164.00 850.00  77.00    10.00 204,510.94      4.00         1.00   \n",
       "\n",
       "       loyalty  estimated_salary  churn  \n",
       "count   640.00            640.00 640.00  \n",
       "mean      0.52          6,276.61   0.19  \n",
       "std       0.50          3,714.44   0.39  \n",
       "min       0.00             11.58   0.00  \n",
       "25%       0.00          3,153.49   0.00  \n",
       "50%       1.00          6,121.99   0.00  \n",
       "75%       1.00          9,554.05   0.00  \n",
       "max       1.00         12,766.74   1.00  "
      ]
     },
     "execution_count": 63,
     "metadata": {},
     "output_type": "execute_result"
    }
   ],
   "source": [
    "data_mrot.describe()"
   ]
  },
  {
   "cell_type": "code",
   "execution_count": 64,
   "id": "918c9945",
   "metadata": {},
   "outputs": [
    {
     "data": {
      "text/plain": [
       "'----city----'"
      ]
     },
     "metadata": {},
     "output_type": "display_data"
    },
    {
     "data": {
      "text/plain": [
       "Ярославль         319\n",
       "Рыбинск           164\n",
       "Ростов Великий    157\n",
       "Name: city, dtype: int64"
      ]
     },
     "metadata": {},
     "output_type": "display_data"
    },
    {
     "data": {
      "text/plain": [
       "'----gender----'"
      ]
     },
     "metadata": {},
     "output_type": "display_data"
    },
    {
     "data": {
      "text/plain": [
       "М    347\n",
       "Ж    293\n",
       "Name: gender, dtype: int64"
      ]
     },
     "metadata": {},
     "output_type": "display_data"
    },
    {
     "data": {
      "text/plain": [
       "'----products----'"
      ]
     },
     "metadata": {},
     "output_type": "display_data"
    },
    {
     "data": {
      "text/plain": [
       "1    315\n",
       "2    304\n",
       "3     18\n",
       "4      3\n",
       "Name: products, dtype: int64"
      ]
     },
     "metadata": {},
     "output_type": "display_data"
    },
    {
     "data": {
      "text/plain": [
       "'----credit_card----'"
      ]
     },
     "metadata": {},
     "output_type": "display_data"
    },
    {
     "data": {
      "text/plain": [
       "1    426\n",
       "0    214\n",
       "Name: credit_card, dtype: int64"
      ]
     },
     "metadata": {},
     "output_type": "display_data"
    },
    {
     "data": {
      "text/plain": [
       "'----loyalty----'"
      ]
     },
     "metadata": {},
     "output_type": "display_data"
    },
    {
     "data": {
      "text/plain": [
       "1    330\n",
       "0    310\n",
       "Name: loyalty, dtype: int64"
      ]
     },
     "metadata": {},
     "output_type": "display_data"
    },
    {
     "data": {
      "text/plain": [
       "'----churn----'"
      ]
     },
     "metadata": {},
     "output_type": "display_data"
    },
    {
     "data": {
      "text/plain": [
       "0    517\n",
       "1    123\n",
       "Name: churn, dtype: int64"
      ]
     },
     "metadata": {},
     "output_type": "display_data"
    }
   ],
   "source": [
    "for column in ['city', 'gender', 'products', 'credit_card', 'loyalty', 'churn']:\n",
    "    display (\"----%s----\" %column)\n",
    "    display (data_mrot[column].value_counts())"
   ]
  },
  {
   "cell_type": "markdown",
   "id": "55b7b9da",
   "metadata": {},
   "source": [
    "У 263 клиентов из 640, с зарплатой ниже МРОТ, пропущенные значения в столбце Balance (41%)."
   ]
  },
  {
   "cell_type": "markdown",
   "id": "f82dcbeb",
   "metadata": {},
   "source": [
    "Вывод по клиентам с уровнем зарплаты ниже МРОТ:<br>\n",
    "\n",
    "- данных клиентов в Ярославле (319) столько же, сколько в Рыбинске и Ростове Великом вместе взятых (164 и 157 соответственно);<br>\n",
    "- преобладают Мужчины - 347 против 293;<br>\n",
    "- активных и не активных клиентов практически поровну (330 и 310 соответственно);<br>\n",
    "- большинство пользуются кредитной картой - 426 человек, 214 - нет;<br>\n",
    "- большинство данных клиентов не попали в отток - таковых всего 123 против 517 действующих (19%);<br>\n",
    "- среднее значение зарплаты - 6276,61 руб (медиана - 6121,99 руб.), но в то же время по остальным параметрам (таким как баланс счета, количество объектов в собственности, возраст и т.д.) они практически не отличаются от остальных клиентов (у кого зарплата выше МРОТ).<br>\n",
    "\n",
    "Есть смысл в будущем уточнить у тех, кто предоставлял данные, как и на основании чего выгружаются данные в поле заработной платы и насколько актуален данный параметр (т.е. данные о з/п это данные, указанные в анкете (например, при получении кредитного продукта), либо фактические поступления з/п за определенный промежуток времени или средние значения, относятся ли к ней социальные выплаты, декретные и т.д.), т.к. есть значения меньше МРОТ (и меньше 1000 руб.) при практически идентичных значениях остальных параметров - таких как баллы кредитного скоринга, количество объектов в собственности, остаток на балансе и т.д.;<Br>"
   ]
  },
  {
   "cell_type": "markdown",
   "id": "2deee035",
   "metadata": {},
   "source": [
    "**3.2 Анализ средних и медианных значений в двух группах - тех, кто ушел, и тех, кто остался:**"
   ]
  },
  {
   "cell_type": "markdown",
   "id": "42d98015",
   "metadata": {},
   "source": [
    "Для начала заменим значения столбца Пол с \"М\" и \"Ж\" на числовые, чтобы отобразить средние значения:"
   ]
  },
  {
   "cell_type": "code",
   "execution_count": 68,
   "id": "1159ce82",
   "metadata": {},
   "outputs": [],
   "source": [
    "data['gender'] = data['gender'].replace({'Ж':0, 'М': 1})"
   ]
  },
  {
   "cell_type": "markdown",
   "id": "febd1fbf",
   "metadata": {},
   "source": [
    "Рассмотрим средние значения двух групп:"
   ]
  },
  {
   "cell_type": "code",
   "execution_count": 69,
   "id": "7aef1e40",
   "metadata": {},
   "outputs": [
    {
     "data": {
      "text/html": [
       "<div>\n",
       "<style scoped>\n",
       "    .dataframe tbody tr th:only-of-type {\n",
       "        vertical-align: middle;\n",
       "    }\n",
       "\n",
       "    .dataframe tbody tr th {\n",
       "        vertical-align: top;\n",
       "    }\n",
       "\n",
       "    .dataframe thead th {\n",
       "        text-align: right;\n",
       "    }\n",
       "</style>\n",
       "<table border=\"1\" class=\"dataframe\">\n",
       "  <thead>\n",
       "    <tr style=\"text-align: right;\">\n",
       "      <th>churn</th>\n",
       "      <th>0</th>\n",
       "      <th>1</th>\n",
       "    </tr>\n",
       "  </thead>\n",
       "  <tbody>\n",
       "    <tr>\n",
       "      <th>user_id</th>\n",
       "      <td>15,733,903.88</td>\n",
       "      <td>15,732,787.96</td>\n",
       "    </tr>\n",
       "    <tr>\n",
       "      <th>score</th>\n",
       "      <td>651.85</td>\n",
       "      <td>645.35</td>\n",
       "    </tr>\n",
       "    <tr>\n",
       "      <th>gender</th>\n",
       "      <td>0.57</td>\n",
       "      <td>0.44</td>\n",
       "    </tr>\n",
       "    <tr>\n",
       "      <th>age</th>\n",
       "      <td>37.41</td>\n",
       "      <td>44.84</td>\n",
       "    </tr>\n",
       "    <tr>\n",
       "      <th>objects</th>\n",
       "      <td>5.03</td>\n",
       "      <td>4.93</td>\n",
       "    </tr>\n",
       "    <tr>\n",
       "      <th>balance</th>\n",
       "      <td>72,745.30</td>\n",
       "      <td>91,108.54</td>\n",
       "    </tr>\n",
       "    <tr>\n",
       "      <th>products</th>\n",
       "      <td>1.54</td>\n",
       "      <td>1.48</td>\n",
       "    </tr>\n",
       "    <tr>\n",
       "      <th>credit_card</th>\n",
       "      <td>0.71</td>\n",
       "      <td>0.70</td>\n",
       "    </tr>\n",
       "    <tr>\n",
       "      <th>loyalty</th>\n",
       "      <td>0.55</td>\n",
       "      <td>0.36</td>\n",
       "    </tr>\n",
       "    <tr>\n",
       "      <th>estimated_salary</th>\n",
       "      <td>99,738.39</td>\n",
       "      <td>101,465.68</td>\n",
       "    </tr>\n",
       "  </tbody>\n",
       "</table>\n",
       "</div>"
      ],
      "text/plain": [
       "churn                        0             1\n",
       "user_id          15,733,903.88 15,732,787.96\n",
       "score                   651.85        645.35\n",
       "gender                    0.57          0.44\n",
       "age                      37.41         44.84\n",
       "objects                   5.03          4.93\n",
       "balance              72,745.30     91,108.54\n",
       "products                  1.54          1.48\n",
       "credit_card               0.71          0.70\n",
       "loyalty                   0.55          0.36\n",
       "estimated_salary     99,738.39    101,465.68"
      ]
     },
     "execution_count": 69,
     "metadata": {},
     "output_type": "execute_result"
    }
   ],
   "source": [
    "data.groupby('churn').agg('mean').T"
   ]
  },
  {
   "cell_type": "markdown",
   "id": "f4d897da",
   "metadata": {},
   "source": [
    "Рассмотрим медианные значения двух групп:"
   ]
  },
  {
   "cell_type": "code",
   "execution_count": 70,
   "id": "350cc3b3",
   "metadata": {},
   "outputs": [
    {
     "data": {
      "text/html": [
       "<div>\n",
       "<style scoped>\n",
       "    .dataframe tbody tr th:only-of-type {\n",
       "        vertical-align: middle;\n",
       "    }\n",
       "\n",
       "    .dataframe tbody tr th {\n",
       "        vertical-align: top;\n",
       "    }\n",
       "\n",
       "    .dataframe thead th {\n",
       "        text-align: right;\n",
       "    }\n",
       "</style>\n",
       "<table border=\"1\" class=\"dataframe\">\n",
       "  <thead>\n",
       "    <tr style=\"text-align: right;\">\n",
       "      <th>churn</th>\n",
       "      <th>0</th>\n",
       "      <th>1</th>\n",
       "    </tr>\n",
       "  </thead>\n",
       "  <tbody>\n",
       "    <tr>\n",
       "      <th>user_id</th>\n",
       "      <td>15,734,279.00</td>\n",
       "      <td>15,731,699.00</td>\n",
       "    </tr>\n",
       "    <tr>\n",
       "      <th>score</th>\n",
       "      <td>653.00</td>\n",
       "      <td>646.00</td>\n",
       "    </tr>\n",
       "    <tr>\n",
       "      <th>gender</th>\n",
       "      <td>1.00</td>\n",
       "      <td>0.00</td>\n",
       "    </tr>\n",
       "    <tr>\n",
       "      <th>age</th>\n",
       "      <td>36.00</td>\n",
       "      <td>45.00</td>\n",
       "    </tr>\n",
       "    <tr>\n",
       "      <th>objects</th>\n",
       "      <td>5.00</td>\n",
       "      <td>5.00</td>\n",
       "    </tr>\n",
       "    <tr>\n",
       "      <th>balance</th>\n",
       "      <td>92,072.68</td>\n",
       "      <td>109,349.29</td>\n",
       "    </tr>\n",
       "    <tr>\n",
       "      <th>products</th>\n",
       "      <td>2.00</td>\n",
       "      <td>1.00</td>\n",
       "    </tr>\n",
       "    <tr>\n",
       "      <th>credit_card</th>\n",
       "      <td>1.00</td>\n",
       "      <td>1.00</td>\n",
       "    </tr>\n",
       "    <tr>\n",
       "      <th>loyalty</th>\n",
       "      <td>1.00</td>\n",
       "      <td>0.00</td>\n",
       "    </tr>\n",
       "    <tr>\n",
       "      <th>estimated_salary</th>\n",
       "      <td>99,645.04</td>\n",
       "      <td>102,460.84</td>\n",
       "    </tr>\n",
       "  </tbody>\n",
       "</table>\n",
       "</div>"
      ],
      "text/plain": [
       "churn                        0             1\n",
       "user_id          15,734,279.00 15,731,699.00\n",
       "score                   653.00        646.00\n",
       "gender                    1.00          0.00\n",
       "age                      36.00         45.00\n",
       "objects                   5.00          5.00\n",
       "balance              92,072.68    109,349.29\n",
       "products                  2.00          1.00\n",
       "credit_card               1.00          1.00\n",
       "loyalty                   1.00          0.00\n",
       "estimated_salary     99,645.04    102,460.84"
      ]
     },
     "execution_count": 70,
     "metadata": {},
     "output_type": "execute_result"
    }
   ],
   "source": [
    "data.groupby('churn').agg('median').T"
   ]
  },
  {
   "cell_type": "markdown",
   "id": "50d744f8",
   "metadata": {},
   "source": [
    "Отличительные черты клиентов, попавших в отток:<br>\n",
    "- Чуть меньше средний балл кредитного скоринга - 645 против 651 (медианные значения - 646 против 653);<br>\n",
    "- Преобладает женский пол;<br>\n",
    "- Старше в среднем на 7 лет (по медиане - разница в 9 лет);<br>\n",
    "- Средний баланс покинувших Банк клиентов больше на 18363,24 руб. (по медиане - на 17276,61 руб);<br>\n",
    "- Активность ниже - 0.36 против 0.55 у оставшихся клиентов, т.е. по их счетам реже проводятся транзакции;<br>\n",
    "- Средняя зарплата выше на 1727,29 руб(по медиане - на 2815,80 руб).<br>\n",
    "\n",
    "По остальным критериям обе группы схожи - по количеству объектов в собственности, количеству используемых банковских продуктов, большинство имеет кредитную карточку.<br>"
   ]
  },
  {
   "cell_type": "markdown",
   "id": "e30e2ed4",
   "metadata": {},
   "source": [
    "**3.3 Визуализация данных двух групп - тех, кто ушел, и тех, кто остался:**"
   ]
  },
  {
   "cell_type": "markdown",
   "id": "8c47ede6",
   "metadata": {},
   "source": [
    "Разделим данные на категориальные и количественные:"
   ]
  },
  {
   "cell_type": "markdown",
   "id": "962d26d1",
   "metadata": {},
   "source": [
    "**Рассмотрим количественные признаки:**"
   ]
  },
  {
   "cell_type": "code",
   "execution_count": 71,
   "id": "aeb42491",
   "metadata": {
    "scrolled": false
   },
   "outputs": [
    {
     "data": {
      "image/png": "[encoded data removed]",
      "text/plain": [
       "<Figure size 1080x720 with 1 Axes>"
      ]
     },
     "metadata": {},
     "output_type": "display_data"
    },
    {
     "data": {
      "image/png": "[encoded data removed]",
      "text/plain": [
       "<Figure size 1080x720 with 1 Axes>"
      ]
     },
     "metadata": {},
     "output_type": "display_data"
    },
    {
     "data": {
      "image/png": "[encoded data removed]",
      "text/plain": [
       "<Figure size 1080x720 with 1 Axes>"
      ]
     },
     "metadata": {},
     "output_type": "display_data"
    },
    {
     "data": {
      "image/png": "[encoded data removed]",
      "text/plain": [
       "<Figure size 1080x720 with 1 Axes>"
      ]
     },
     "metadata": {},
     "output_type": "display_data"
    },
    {
     "data": {
      "image/png": "[encoded data removed]",
      "text/plain": [
       "<Figure size 1080x720 with 1 Axes>"
      ]
     },
     "metadata": {},
     "output_type": "display_data"
    }
   ],
   "source": [
    "churn_1 = data[data['churn']==1]\n",
    "churn_0 = data[data['churn']==0]\n",
    "sns.set_theme(style=\"whitegrid\")\n",
    "sns.set_palette(['blue', 'red'])\n",
    "\n",
    "\n",
    "for column in ['score', 'age', 'objects', 'balance', 'estimated_salary']:\n",
    "    plt.figure(figsize=(15, 10))\n",
    "    sns.distplot(churn_0[column], bins=50, kde=False)\n",
    "    sns.distplot(churn_1[column], bins=50, kde=False)\n",
    "    plt.title('Распределение признака '+column, fontsize=20)\n",
    "    plt.xlabel(column, fontsize=20)\n",
    "    plt.ylabel('Количество клиентов', fontsize=20)\n",
    "    plt.legend(['Оставшиеся', 'Отток'])\n",
    "    plt.show()"
   ]
  },
  {
   "cell_type": "markdown",
   "id": "276c2e20",
   "metadata": {},
   "source": [
    "**Рассмотрим категориальные признаки:**"
   ]
  },
  {
   "cell_type": "code",
   "execution_count": 72,
   "id": "5d750646",
   "metadata": {
    "scrolled": false
   },
   "outputs": [
    {
     "data": {
      "image/png": "[encoded data removed]",
      "text/plain": [
       "<Figure size 720x360 with 1 Axes>"
      ]
     },
     "metadata": {},
     "output_type": "display_data"
    },
    {
     "data": {
      "image/png": "[encoded data removed]",
      "text/plain": [
       "<Figure size 720x360 with 1 Axes>"
      ]
     },
     "metadata": {},
     "output_type": "display_data"
    },
    {
     "data": {
      "image/png": "[encoded data removed]",
      "text/plain": [
       "<Figure size 720x360 with 1 Axes>"
      ]
     },
     "metadata": {},
     "output_type": "display_data"
    },
    {
     "data": {
      "image/png": "[encoded data removed]",
      "text/plain": [
       "<Figure size 720x360 with 1 Axes>"
      ]
     },
     "metadata": {},
     "output_type": "display_data"
    },
    {
     "data": {
      "image/png": "[encoded data removed]",
      "text/plain": [
       "<Figure size 720x360 with 1 Axes>"
      ]
     },
     "metadata": {},
     "output_type": "display_data"
    },
    {
     "data": {
      "image/png": "[encoded data removed]",
      "text/plain": [
       "<Figure size 720x360 with 1 Axes>"
      ]
     },
     "metadata": {},
     "output_type": "display_data"
    }
   ],
   "source": [
    "sns.set_theme(style=\"whitegrid\")\n",
    "sns.set_palette(['blue', 'red'])\n",
    "\n",
    "for column in ['city', 'gender', 'products', 'credit_card', 'loyalty', 'churn']:\n",
    "    plt.figure(figsize=(10, 5))\n",
    "    data.groupby('churn')[column].hist()\n",
    "    plt.title('Распределение признака '+column, fontsize=18)\n",
    "    plt.xlabel(column, fontsize=18)\n",
    "    plt.ylabel('Количество клиентов', fontsize=18)\n",
    "    plt.legend(['Оставшиеся', 'Отток'])\n",
    "    plt.show()"
   ]
  },
  {
   "cell_type": "markdown",
   "id": "40a83af8",
   "metadata": {},
   "source": [
    "**Рассмотрим категориальные признаки подробнее, построив тепловые карты:**\n"
   ]
  },
  {
   "cell_type": "code",
   "execution_count": 73,
   "id": "f6b420e0",
   "metadata": {
    "scrolled": false
   },
   "outputs": [
    {
     "data": {
      "image/png": "[encoded data removed]",
      "text/plain": [
       "<Figure size 1440x360 with 2 Axes>"
      ]
     },
     "metadata": {},
     "output_type": "display_data"
    },
    {
     "data": {
      "image/png": "[encoded data removed]",
      "text/plain": [
       "<Figure size 1440x360 with 2 Axes>"
      ]
     },
     "metadata": {},
     "output_type": "display_data"
    },
    {
     "data": {
      "image/png": "[encoded data removed]",
      "text/plain": [
       "<Figure size 1440x360 with 2 Axes>"
      ]
     },
     "metadata": {},
     "output_type": "display_data"
    },
    {
     "data": {
      "image/png": "[encoded data removed]",
      "text/plain": [
       "<Figure size 1440x360 with 2 Axes>"
      ]
     },
     "metadata": {},
     "output_type": "display_data"
    },
    {
     "data": {
      "image/png": "[encoded data removed]",
      "text/plain": [
       "<Figure size 1440x360 with 2 Axes>"
      ]
     },
     "metadata": {},
     "output_type": "display_data"
    },
    {
     "data": {
      "image/png": "[encoded data removed]",
      "text/plain": [
       "<Figure size 1440x360 with 2 Axes>"
      ]
     },
     "metadata": {},
     "output_type": "display_data"
    }
   ],
   "source": [
    "for column in ['objects', 'city', 'gender', 'products', 'credit_card', 'loyalty']:\n",
    "    data_heatmap = data.pivot_table(\n",
    "        index='churn',\n",
    "        columns=column,\n",
    "        values='user_id',\n",
    "        aggfunc='count',\n",
    "        #margins=True\n",
    "    )\n",
    "    plt.figure(figsize=(20, 5))\n",
    "    sns.heatmap(data_heatmap, cmap='coolwarm', annot=True, fmt='.0f')\n",
    "    plt.title('Тепловая карта '+column, fontsize=15)\n",
    "    plt.ylabel('Отток', fontsize=15)\n",
    "    plt.show()"
   ]
  },
  {
   "cell_type": "markdown",
   "id": "931f7f83",
   "metadata": {},
   "source": [
    "**Вывод:**<br>\n",
    "- Среди лояльных Банку клиентов минимальнй балл скоринга - 400 (при нижней границе в 300 баллов), пиковые значения - от 650 до 700; у клиентов в оттоке пиковые значения от 620 до 670, далее идет спад. Наблюдается аномальный рост количества клиентов с 850 баллами в обеих группах;<br>\n",
    "- Можно сказать, что клиенты склонные к оттоку старше (примерно на 10 лет). В возрасте от 50 до 60 лет количество клиентов, склонных к оттоку, больше, чем лояльных;<br>\n",
    "- Клиентов с 0 и 10 объектами в собственности меньше всего, в целом от количества объектов отток малозависим - по всем объектам процент оттока примерно 20%, самый высокий - у владельцев 1 объекта в собственности - 23%;<br>\n",
    "- Распределнеи двух групп по количеству средств на остатке (баланс) практически одинаковое, если не брать в расчет клиентов с нулевым балансом(пропущенными значениями);<br>\n",
    "- Зарплата распределена равномерно, нет явно выделяющихся групп зарплат - обычно при рассмотрении такого параметра как зарплата, ожидается кривая - чем больше з/п, тем меньшее количество людей;<br>\n",
    "- Самые лояльные Банку клиенты проживают в Ярославле (16%), за ним следует Рыбинск(17%), более всего склонные к уходу - в Ростове Великом, 32% от всех клиентов в этом городе покинули Банк;<br>\n",
    "- Женщины более склонны к уходу из Банка - 25% попало в отток, в то время как у мужчин процент оттока составляет 16%;<br>\n",
    "- Самые лояльные Банку клиенты - те, кто пользуется 2 банковскими продуктами, у тех же, кто пользуется 3 продуктами - 83% оттока, а 4 продуктами - 100 % оттока;<br>\n",
    "- Наличие кредитки не влияет на отток - 20-21% оттока в обеих группах;<br>\n",
    "- Неактивные клиенты чаще уходят в отток - из них 27% ушли, среди активных - 14%<br>"
   ]
  },
  {
   "cell_type": "markdown",
   "id": "b6dcd78c",
   "metadata": {},
   "source": [
    "<div class='alert alert-success'>👍\n",
    "У тебя получилась весьма качественная визуализация, мне понравилось разнообразие типов графиков. Особенно круто что решил попробовать использовать тепловую карту. Также не забывай про боксплоты и графики типа виолончель. С их помощью ты сможешь более полноценно понять распределения данных. Также очень классной техникой позволяющей упростить восприятие информации является категоризация непрерывных признаков, когда разбивают на 5-10 бинов."
   ]
  },
  {
   "cell_type": "markdown",
   "id": "f6104927",
   "metadata": {},
   "source": [
    "**3.4 Корреляционный анализ**"
   ]
  },
  {
   "cell_type": "code",
   "execution_count": 74,
   "id": "f52c1da8",
   "metadata": {},
   "outputs": [
    {
     "data": {
      "text/html": [
       "<div>\n",
       "<style scoped>\n",
       "    .dataframe tbody tr th:only-of-type {\n",
       "        vertical-align: middle;\n",
       "    }\n",
       "\n",
       "    .dataframe tbody tr th {\n",
       "        vertical-align: top;\n",
       "    }\n",
       "\n",
       "    .dataframe thead th {\n",
       "        text-align: right;\n",
       "    }\n",
       "</style>\n",
       "<table border=\"1\" class=\"dataframe\">\n",
       "  <thead>\n",
       "    <tr style=\"text-align: right;\">\n",
       "      <th></th>\n",
       "      <th>user_id</th>\n",
       "      <th>score</th>\n",
       "      <th>city</th>\n",
       "      <th>gender</th>\n",
       "      <th>age</th>\n",
       "      <th>objects</th>\n",
       "      <th>balance</th>\n",
       "      <th>products</th>\n",
       "      <th>credit_card</th>\n",
       "      <th>loyalty</th>\n",
       "      <th>estimated_salary</th>\n",
       "      <th>churn</th>\n",
       "    </tr>\n",
       "  </thead>\n",
       "  <tbody>\n",
       "    <tr>\n",
       "      <th>0</th>\n",
       "      <td>15677338</td>\n",
       "      <td>619</td>\n",
       "      <td>Ярославль</td>\n",
       "      <td>0</td>\n",
       "      <td>42</td>\n",
       "      <td>2</td>\n",
       "      <td>0.00</td>\n",
       "      <td>1</td>\n",
       "      <td>1</td>\n",
       "      <td>1</td>\n",
       "      <td>101,348.88</td>\n",
       "      <td>1</td>\n",
       "    </tr>\n",
       "    <tr>\n",
       "      <th>1</th>\n",
       "      <td>15690047</td>\n",
       "      <td>608</td>\n",
       "      <td>Рыбинск</td>\n",
       "      <td>0</td>\n",
       "      <td>41</td>\n",
       "      <td>1</td>\n",
       "      <td>83,807.86</td>\n",
       "      <td>1</td>\n",
       "      <td>0</td>\n",
       "      <td>1</td>\n",
       "      <td>112,542.58</td>\n",
       "      <td>0</td>\n",
       "    </tr>\n",
       "    <tr>\n",
       "      <th>2</th>\n",
       "      <td>15662040</td>\n",
       "      <td>502</td>\n",
       "      <td>Ярославль</td>\n",
       "      <td>0</td>\n",
       "      <td>42</td>\n",
       "      <td>8</td>\n",
       "      <td>159,660.80</td>\n",
       "      <td>3</td>\n",
       "      <td>1</td>\n",
       "      <td>0</td>\n",
       "      <td>113,931.57</td>\n",
       "      <td>1</td>\n",
       "    </tr>\n",
       "    <tr>\n",
       "      <th>3</th>\n",
       "      <td>15744090</td>\n",
       "      <td>699</td>\n",
       "      <td>Ярославль</td>\n",
       "      <td>0</td>\n",
       "      <td>39</td>\n",
       "      <td>1</td>\n",
       "      <td>0.00</td>\n",
       "      <td>2</td>\n",
       "      <td>0</td>\n",
       "      <td>0</td>\n",
       "      <td>93,826.63</td>\n",
       "      <td>0</td>\n",
       "    </tr>\n",
       "    <tr>\n",
       "      <th>4</th>\n",
       "      <td>15780624</td>\n",
       "      <td>850</td>\n",
       "      <td>Рыбинск</td>\n",
       "      <td>0</td>\n",
       "      <td>43</td>\n",
       "      <td>2</td>\n",
       "      <td>125,510.82</td>\n",
       "      <td>1</td>\n",
       "      <td>1</td>\n",
       "      <td>1</td>\n",
       "      <td>79,084.10</td>\n",
       "      <td>0</td>\n",
       "    </tr>\n",
       "    <tr>\n",
       "      <th>...</th>\n",
       "      <td>...</td>\n",
       "      <td>...</td>\n",
       "      <td>...</td>\n",
       "      <td>...</td>\n",
       "      <td>...</td>\n",
       "      <td>...</td>\n",
       "      <td>...</td>\n",
       "      <td>...</td>\n",
       "      <td>...</td>\n",
       "      <td>...</td>\n",
       "      <td>...</td>\n",
       "      <td>...</td>\n",
       "    </tr>\n",
       "    <tr>\n",
       "      <th>9995</th>\n",
       "      <td>15648965</td>\n",
       "      <td>771</td>\n",
       "      <td>Ярославль</td>\n",
       "      <td>1</td>\n",
       "      <td>39</td>\n",
       "      <td>5</td>\n",
       "      <td>0.00</td>\n",
       "      <td>2</td>\n",
       "      <td>1</td>\n",
       "      <td>0</td>\n",
       "      <td>96,270.64</td>\n",
       "      <td>0</td>\n",
       "    </tr>\n",
       "    <tr>\n",
       "      <th>9996</th>\n",
       "      <td>15612628</td>\n",
       "      <td>516</td>\n",
       "      <td>Ярославль</td>\n",
       "      <td>1</td>\n",
       "      <td>35</td>\n",
       "      <td>10</td>\n",
       "      <td>57,369.61</td>\n",
       "      <td>1</td>\n",
       "      <td>1</td>\n",
       "      <td>1</td>\n",
       "      <td>101,699.77</td>\n",
       "      <td>0</td>\n",
       "    </tr>\n",
       "    <tr>\n",
       "      <th>9997</th>\n",
       "      <td>15627268</td>\n",
       "      <td>709</td>\n",
       "      <td>Ярославль</td>\n",
       "      <td>0</td>\n",
       "      <td>36</td>\n",
       "      <td>7</td>\n",
       "      <td>0.00</td>\n",
       "      <td>1</td>\n",
       "      <td>0</td>\n",
       "      <td>1</td>\n",
       "      <td>42,085.58</td>\n",
       "      <td>1</td>\n",
       "    </tr>\n",
       "    <tr>\n",
       "      <th>9998</th>\n",
       "      <td>15725091</td>\n",
       "      <td>772</td>\n",
       "      <td>Ростов Великий</td>\n",
       "      <td>1</td>\n",
       "      <td>42</td>\n",
       "      <td>3</td>\n",
       "      <td>75,075.31</td>\n",
       "      <td>2</td>\n",
       "      <td>1</td>\n",
       "      <td>0</td>\n",
       "      <td>92,888.52</td>\n",
       "      <td>1</td>\n",
       "    </tr>\n",
       "    <tr>\n",
       "      <th>9999</th>\n",
       "      <td>15671055</td>\n",
       "      <td>792</td>\n",
       "      <td>Ярославль</td>\n",
       "      <td>0</td>\n",
       "      <td>28</td>\n",
       "      <td>4</td>\n",
       "      <td>130,142.79</td>\n",
       "      <td>1</td>\n",
       "      <td>1</td>\n",
       "      <td>0</td>\n",
       "      <td>38,190.78</td>\n",
       "      <td>0</td>\n",
       "    </tr>\n",
       "  </tbody>\n",
       "</table>\n",
       "<p>10000 rows × 12 columns</p>\n",
       "</div>"
      ],
      "text/plain": [
       "       user_id  score            city  gender  age  objects    balance  \\\n",
       "0     15677338    619       Ярославль       0   42        2       0.00   \n",
       "1     15690047    608         Рыбинск       0   41        1  83,807.86   \n",
       "2     15662040    502       Ярославль       0   42        8 159,660.80   \n",
       "3     15744090    699       Ярославль       0   39        1       0.00   \n",
       "4     15780624    850         Рыбинск       0   43        2 125,510.82   \n",
       "...        ...    ...             ...     ...  ...      ...        ...   \n",
       "9995  15648965    771       Ярославль       1   39        5       0.00   \n",
       "9996  15612628    516       Ярославль       1   35       10  57,369.61   \n",
       "9997  15627268    709       Ярославль       0   36        7       0.00   \n",
       "9998  15725091    772  Ростов Великий       1   42        3  75,075.31   \n",
       "9999  15671055    792       Ярославль       0   28        4 130,142.79   \n",
       "\n",
       "      products  credit_card  loyalty  estimated_salary  churn  \n",
       "0            1            1        1        101,348.88      1  \n",
       "1            1            0        1        112,542.58      0  \n",
       "2            3            1        0        113,931.57      1  \n",
       "3            2            0        0         93,826.63      0  \n",
       "4            1            1        1         79,084.10      0  \n",
       "...        ...          ...      ...               ...    ...  \n",
       "9995         2            1        0         96,270.64      0  \n",
       "9996         1            1        1        101,699.77      0  \n",
       "9997         1            0        1         42,085.58      1  \n",
       "9998         2            1        0         92,888.52      1  \n",
       "9999         1            1        0         38,190.78      0  \n",
       "\n",
       "[10000 rows x 12 columns]"
      ]
     },
     "metadata": {},
     "output_type": "display_data"
    },
    {
     "data": {
      "image/png": "[encoded data removed]",
      "text/plain": [
       "<Figure size 1080x720 with 2 Axes>"
      ]
     },
     "metadata": {},
     "output_type": "display_data"
    }
   ],
   "source": [
    "display(data)\n",
    "corr_m = data.corr()\n",
    "plt.figure(figsize = (15,10))\n",
    "sns.heatmap(corr_m, square = True, annot = True, fmt = '0.2f', cmap= 'RdYlGn', \n",
    "            linewidths=1, linecolor='black')\n",
    "plt.show()"
   ]
  },
  {
   "cell_type": "markdown",
   "id": "19ff7d26",
   "metadata": {},
   "source": [
    "**Создадим новую таблицу City, удалив из начального датафрейма все столбцы, кроме city и churn и применим метод get_dummies:**"
   ]
  },
  {
   "cell_type": "code",
   "execution_count": 44,
   "id": "59b75f83",
   "metadata": {},
   "outputs": [
    {
     "data": {
      "text/html": [
       "<div>\n",
       "<style scoped>\n",
       "    .dataframe tbody tr th:only-of-type {\n",
       "        vertical-align: middle;\n",
       "    }\n",
       "\n",
       "    .dataframe tbody tr th {\n",
       "        vertical-align: top;\n",
       "    }\n",
       "\n",
       "    .dataframe thead th {\n",
       "        text-align: right;\n",
       "    }\n",
       "</style>\n",
       "<table border=\"1\" class=\"dataframe\">\n",
       "  <thead>\n",
       "    <tr style=\"text-align: right;\">\n",
       "      <th></th>\n",
       "      <th>churn</th>\n",
       "      <th>city_Ростов Великий</th>\n",
       "      <th>city_Рыбинск</th>\n",
       "      <th>city_Ярославль</th>\n",
       "    </tr>\n",
       "  </thead>\n",
       "  <tbody>\n",
       "    <tr>\n",
       "      <th>0</th>\n",
       "      <td>1</td>\n",
       "      <td>0</td>\n",
       "      <td>0</td>\n",
       "      <td>1</td>\n",
       "    </tr>\n",
       "    <tr>\n",
       "      <th>1</th>\n",
       "      <td>0</td>\n",
       "      <td>0</td>\n",
       "      <td>1</td>\n",
       "      <td>0</td>\n",
       "    </tr>\n",
       "    <tr>\n",
       "      <th>2</th>\n",
       "      <td>1</td>\n",
       "      <td>0</td>\n",
       "      <td>0</td>\n",
       "      <td>1</td>\n",
       "    </tr>\n",
       "    <tr>\n",
       "      <th>3</th>\n",
       "      <td>0</td>\n",
       "      <td>0</td>\n",
       "      <td>0</td>\n",
       "      <td>1</td>\n",
       "    </tr>\n",
       "    <tr>\n",
       "      <th>4</th>\n",
       "      <td>0</td>\n",
       "      <td>0</td>\n",
       "      <td>1</td>\n",
       "      <td>0</td>\n",
       "    </tr>\n",
       "    <tr>\n",
       "      <th>...</th>\n",
       "      <td>...</td>\n",
       "      <td>...</td>\n",
       "      <td>...</td>\n",
       "      <td>...</td>\n",
       "    </tr>\n",
       "    <tr>\n",
       "      <th>9995</th>\n",
       "      <td>0</td>\n",
       "      <td>0</td>\n",
       "      <td>0</td>\n",
       "      <td>1</td>\n",
       "    </tr>\n",
       "    <tr>\n",
       "      <th>9996</th>\n",
       "      <td>0</td>\n",
       "      <td>0</td>\n",
       "      <td>0</td>\n",
       "      <td>1</td>\n",
       "    </tr>\n",
       "    <tr>\n",
       "      <th>9997</th>\n",
       "      <td>1</td>\n",
       "      <td>0</td>\n",
       "      <td>0</td>\n",
       "      <td>1</td>\n",
       "    </tr>\n",
       "    <tr>\n",
       "      <th>9998</th>\n",
       "      <td>1</td>\n",
       "      <td>1</td>\n",
       "      <td>0</td>\n",
       "      <td>0</td>\n",
       "    </tr>\n",
       "    <tr>\n",
       "      <th>9999</th>\n",
       "      <td>0</td>\n",
       "      <td>0</td>\n",
       "      <td>0</td>\n",
       "      <td>1</td>\n",
       "    </tr>\n",
       "  </tbody>\n",
       "</table>\n",
       "<p>10000 rows × 4 columns</p>\n",
       "</div>"
      ],
      "text/plain": [
       "      churn  city_Ростов Великий  city_Рыбинск  city_Ярославль\n",
       "0         1                    0             0               1\n",
       "1         0                    0             1               0\n",
       "2         1                    0             0               1\n",
       "3         0                    0             0               1\n",
       "4         0                    0             1               0\n",
       "...     ...                  ...           ...             ...\n",
       "9995      0                    0             0               1\n",
       "9996      0                    0             0               1\n",
       "9997      1                    0             0               1\n",
       "9998      1                    1             0               0\n",
       "9999      0                    0             0               1\n",
       "\n",
       "[10000 rows x 4 columns]"
      ]
     },
     "metadata": {},
     "output_type": "display_data"
    }
   ],
   "source": [
    "city = data.drop(columns=['user_id', 'score', 'gender', 'age', 'objects', 'products', 'balance', 'credit_card', 'loyalty', 'estimated_salary'])\n",
    "city = pd.get_dummies(city)\n",
    "display(city)"
   ]
  },
  {
   "cell_type": "markdown",
   "id": "52c68392",
   "metadata": {},
   "source": [
    "**Построим матрицу корреляций по городам и оттоку:**"
   ]
  },
  {
   "cell_type": "code",
   "execution_count": 82,
   "id": "ecdc8395",
   "metadata": {},
   "outputs": [
    {
     "data": {
      "image/png": "[encoded data removed]",
      "text/plain": [
       "<Figure size 1080x720 with 2 Axes>"
      ]
     },
     "metadata": {},
     "output_type": "display_data"
    }
   ],
   "source": [
    "corr_m = city.corr()\n",
    "plt.figure(figsize = (15,10))\n",
    "sns.heatmap(corr_m, square = True, annot = True, fmt = '0.2f', cmap= 'RdYlGn', \n",
    "            linewidths=1, linecolor='black')\n",
    "plt.show()"
   ]
  },
  {
   "cell_type": "markdown",
   "id": "94b474b0",
   "metadata": {},
   "source": [
    "**Вывод по матрице корреляций:**<br>\n",
    "- **Нет явной зависимости оттока от какого-либо из признаков;**<br>\n",
    "- Больше всего на отток влияют: Пол клиента(-0.11), Возраст(0.29), Баланс(0.12) и Активность клиента(-0.16).<br>\n",
    "- Почти все остальные признаки имеют почти нулевую корреляцию, соответственно практически не влияют на отток - Баллы скоринга, Зарплата, Объекты в собственности, Количество банковских продуктов на клиента, пользутеся ли кредитной карточкой - у всех корреляция от -0.05 до 0.01.<br>\n",
    "- Заметна слабая корреляция между балансом и количеством используемых продуктов(-0.30);<br>\n",
    "- Из городов самая большая корреляция с оттоком у Ростова Великого (0.17), затем идут Ярославль (-0.10) и Рыбинск(-0.05)"
   ]
  },
  {
   "cell_type": "markdown",
   "id": "5849612f",
   "metadata": {},
   "source": [
    "<div class='alert alert-success'>👍\n",
    "Круто что владеешь такой мощной техникой визуализации как тепловая карта. На ней прекрасно видно что особых корреляций между признаками нет. В такой ситуации стоит подумать о том, что возможно признаки имеют нелинейные связи. Для выявления таких нелинейных взаимосвязей я рекомендую дополнительно посмотреть на корреляцию Спирмена, а в идеале познакомиться с очень продвинутым коэффициентом корреляции Phik. С его помощью можно получать адекватные значения корреляции для данных любой природы. https://phik.readthedocs.io/en/latest/introduction.html\n"
   ]
  },
  {
   "cell_type": "markdown",
   "id": "1b37db19",
   "metadata": {},
   "source": [
    "<div class='alert alert-warning'>⚠️\n",
    "На мой взгляд тут не хватает исследования зависимостей по городам, для этого тебе прежде всего необходимо закодировать данный признак. С one-hot кодировкой могут получаться правильные значения корреляции, чего не скажешь о порядковой кодировке. При ordinal кодировке значения корреляции будут получаться разными при выборе другого порядка кодирования.\n"
   ]
  },
  {
   "cell_type": "markdown",
   "id": "f5706283",
   "metadata": {},
   "source": [
    "<span style=\"color:blue\"> **Добавил матрицу корреляций по городам.**"
   ]
  },
  {
   "cell_type": "markdown",
   "id": "1cbb3280",
   "metadata": {},
   "source": [
    "### 4. Выделение портрета клиентов"
   ]
  },
  {
   "cell_type": "markdown",
   "id": "d8b5523f",
   "metadata": {},
   "source": [
    "**4.1 Портрет клиентов, склонных к уходу:**"
   ]
  },
  {
   "cell_type": "markdown",
   "id": "7aeb6a44",
   "metadata": {},
   "source": [
    "- Проживают в г. Ростов Великий;<br>\n",
    "- От 40 лет (старше в среднем на 7 лет (по медиане - разница в 9 лет);<br>\n",
    "- Пол: женский;<br>\n",
    "- Количество используемых банковских продуктов - 1, 3 или 4. Причем те, у кого 4 продукта - 100% показатель оттока;<br>\n",
    "- Не активные клиенты;<br>\n",
    "- Средний размер баланса - 91108,54 руб. (больше на 18363,24 руб.);<br>\n",
    "- Средняя зарплата - 101465,68 руб. (выше на 1727,29 руб.)<br>"
   ]
  },
  {
   "cell_type": "markdown",
   "id": "18c42f8b",
   "metadata": {},
   "source": [
    "**4.1 Портрет клиентов, не склонных к уходу:**"
   ]
  },
  {
   "cell_type": "markdown",
   "id": "08ec1155",
   "metadata": {},
   "source": [
    "- Проживают в г. Рыбинск и г. Ярославль;<br>\n",
    "- Возраст - от 30 до 40 лет;<br>\n",
    "- Пол: Мужской;<br>\n",
    "- Количество используемых банковских продуктов - 2 (92% лояльных Банку клиентов);<br>\n",
    "- Активные клиенты (86% лояльных клиентов);<br>\n",
    "- Средний размер баланса - 72748,30 руб. (меньше на 18363,24 руб.);<br>\n",
    "- Средняя зарплата - 99738,39 руб. (меньше на 1727,29 руб.)<br>"
   ]
  },
  {
   "cell_type": "markdown",
   "id": "a61d4926",
   "metadata": {},
   "source": [
    "### 5. Формулировка и проверка гипотез"
   ]
  },
  {
   "cell_type": "markdown",
   "id": "006d5ae8",
   "metadata": {},
   "source": [
    "**5.1 Гипотеза о различии доходов между двумя группами (отток и оставшиеся клиенты)**"
   ]
  },
  {
   "cell_type": "markdown",
   "id": "f22e0695",
   "metadata": {},
   "source": [
    "Построим график распределения доходов клиентов для обеих групп:"
   ]
  },
  {
   "cell_type": "code",
   "execution_count": 260,
   "id": "cb89507a",
   "metadata": {
    "scrolled": false
   },
   "outputs": [
    {
     "data": {
      "image/png": "[encoded data removed]",
      "text/plain": [
       "<Figure size 1080x720 with 1 Axes>"
      ]
     },
     "metadata": {},
     "output_type": "display_data"
    }
   ],
   "source": [
    "sns.set_theme(style=\"whitegrid\")\n",
    "sns.set_palette(['blue', 'red'])\n",
    "\n",
    "plt.figure(figsize=(15, 10))\n",
    "sns.distplot(churn_0['estimated_salary'],label='1')\n",
    "sns.distplot(churn_1['estimated_salary'],label='0')\n",
    "plt.title('Распределение признака '+column, fontsize=20)\n",
    "plt.legend(['Оставшиеся', 'Отток'])\n",
    "plt.show()"
   ]
  },
  {
   "cell_type": "markdown",
   "id": "2289ae42",
   "metadata": {},
   "source": [
    "Распределение приближено к нормальному. Проверим гипотезу о различии доходов между двумя группами (отток и оставшиеся клиенты) при помощи U-критерия Манна-Уитни."
   ]
  },
  {
   "cell_type": "markdown",
   "id": "4eed822d",
   "metadata": {},
   "source": [
    "**Сформулируем гипотезы:**<br>\n",
    "1. **Нулевая гипотеза:** Между двумя группами (отток и оставшиеся клиенты) нет статистически значимых различий в доходах<br>\n",
    "2. **Обратная гипотеза:** Между двумя группами (отток и оставшиеся клиенты) есть статистически значимые различия в доходах<br>"
   ]
  },
  {
   "cell_type": "code",
   "execution_count": 274,
   "id": "db9d2160",
   "metadata": {},
   "outputs": [
    {
     "name": "stdout",
     "output_type": "stream",
     "text": [
      "p-значение:  0.22705150930153783\n",
      "Не получилось отвергнуть нулевую гипотезу:  Между двумя группами (отток и оставшиеся клиенты) нет статистически значимых различий\n"
     ]
    }
   ],
   "source": [
    "alpha = 0.05\n",
    "\n",
    "pvalue = st.mannwhitneyu(churn_0['estimated_salary'], churn_1['estimated_salary']).pvalue\n",
    "\n",
    "print('p-значение: ', pvalue)\n",
    "\n",
    "if (pvalue < alpha):\n",
    "    print(\"Отвергаем нулевую гипотезу: Между двумя группами (отток и оставшиеся клиенты) есть статистически значимые различия\")\n",
    "else:\n",
    "    print(\"Не получилось отвергнуть нулевую гипотезу:  Между двумя группами (отток и оставшиеся клиенты) нет статистически значимых различий\")"
   ]
  },
  {
   "cell_type": "markdown",
   "id": "c4e927bb",
   "metadata": {},
   "source": [
    "**Вывод:** <br>\n",
    "Ничего нового по отношению к выводам из предыдущих этапов анализа мы не узнали - нулевую гипотезу о том, что между двумя группами (отток и оставшиеся клиенты) нет статистически значимых различий в доходах, отвергнуть не удалось."
   ]
  },
  {
   "cell_type": "markdown",
   "id": "2de44a44",
   "metadata": {},
   "source": [
    "**5.2 Гипотеза о различии в возрасте между двумя группами (отток и оставшиеся клиенты)**"
   ]
  },
  {
   "cell_type": "markdown",
   "id": "19a972d6",
   "metadata": {},
   "source": [
    "Построим график распределения возраста клиентов для обеих групп:"
   ]
  },
  {
   "cell_type": "code",
   "execution_count": 275,
   "id": "f0e025ea",
   "metadata": {},
   "outputs": [
    {
     "data": {
      "image/png": "[encoded data removed]",
      "text/plain": [
       "<Figure size 1080x720 with 1 Axes>"
      ]
     },
     "metadata": {},
     "output_type": "display_data"
    }
   ],
   "source": [
    "sns.set_theme(style=\"whitegrid\")\n",
    "sns.set_palette(['blue', 'red'])\n",
    "\n",
    "plt.figure(figsize=(15, 10))\n",
    "sns.distplot(churn_0['age'],label='1')\n",
    "sns.distplot(churn_1['age'],label='0')\n",
    "plt.title('Распределение признака '+column, fontsize=20)\n",
    "plt.legend(['Оставшиеся', 'Отток'])\n",
    "plt.show()"
   ]
  },
  {
   "cell_type": "markdown",
   "id": "ac48eb40",
   "metadata": {},
   "source": [
    "Наблюдается положительный перекос в распределении среди оставшихся - клиенты в возрасте старше 60 лет. Проверим гипотезу о различии в возрасте между двумя группами (отток и оставшиеся клиенты) также при помощи U-критерия Манна-Уитни:"
   ]
  },
  {
   "cell_type": "code",
   "execution_count": 277,
   "id": "316eace5",
   "metadata": {},
   "outputs": [
    {
     "name": "stdout",
     "output_type": "stream",
     "text": [
      "p-значение:  3.2104014319371675e-230\n",
      "Отвергаем нулевую гипотезу: Между двумя группами (отток и оставшиеся клиенты) есть статистически значимые различия\n"
     ]
    }
   ],
   "source": [
    "alpha = 0.05\n",
    "\n",
    "pvalue = st.mannwhitneyu(churn_0['age'], churn_1['age']).pvalue\n",
    "\n",
    "print('p-значение: ', pvalue)\n",
    "\n",
    "if (pvalue < alpha):\n",
    "    print(\"Отвергаем нулевую гипотезу: Между двумя группами (отток и оставшиеся клиенты) есть статистически значимые различия\")\n",
    "else:\n",
    "    print(\"Не получилось отвергнуть нулевую гипотезу:  Между двумя группами (отток и оставшиеся клиенты) нет статистически значимых различий\")"
   ]
  },
  {
   "cell_type": "markdown",
   "id": "e1b23ea0",
   "metadata": {},
   "source": [
    "**Вывод:**<br>\n",
    "Отвергаем нулевую гипотезу: Между двумя группами (отток и оставшиеся клиенты) есть статистически значимые различия в возрасте, что подтверждается в п. 3.2 настоящей работы, где: <br>\n",
    "- Средний возраст клиентов в оттоке - 44.84 года, медианный - 45 лет;<br>\n",
    "- Средний возраст оставшихся клиентов - 37.41 лет, медианный - 36 лет<br>"
   ]
  },
  {
   "cell_type": "markdown",
   "id": "9df79930",
   "metadata": {},
   "source": [
    "<div class='alert alert-success'>👍\n",
    "Отличная работа в разделе с проверкой гипотез, выглядит очень профессионально. Мне понравилось как ты сначала посмотрел на распределение данных и затем только выбрал подходящий стат критерий. "
   ]
  },
  {
   "cell_type": "markdown",
   "id": "a654dc16",
   "metadata": {},
   "source": [
    "### 6. Общие выводы и рекомендации"
   ]
  },
  {
   "cell_type": "markdown",
   "id": "40c4aff2",
   "metadata": {},
   "source": [
    "### ВЫВОД:<br>\n",
    "\n",
    "Датасет состоит из 10000 строк - каждая строка это уникальный клиент.<br>\n",
    "Типы данных корректны, заменять ничего не пришлось.<br>\n",
    "В столбце Balance (остаток денежных средств на счете) 3617 пропусков (NaN) - что составляет 36,17 % от общего числа.<br>\n",
    "<br>\n",
    "**В результате предобработки данных было сделано следующее:**<br>\n",
    "<br>\n",
    "- привели названия столбцов к нижнему регистру;<br>\n",
    "- скорректировали названия столбцов;<br>\n",
    "- дубликатов не обнаружено;<br>\n",
    "- все данные, за исключением отсутствия нулевого баланса и необычайно низкой заработной платы являются нормальными;\n",
    "- заменили пропуски в столбце Balance на \"0\" - на основании предположения о том, что это ошибка при выгрузке из БД, которая подразумевает нулевой остаток на балансе, либо использвание клиентами только кредитных продуктов Банка<br>\n",
    "<br>\n",
    "\n",
    "**На основании исследовательского анализа данных выявили портреты клиентов:**<br>\n",
    "<br>\n",
    "\n",
    "Портрет клиентов, ***склонных*** к уходу:<br>\n",
    "<br>\n",
    "- Проживают в г. Ростов Великий;<br>\n",
    "- От 40 лет (старше в среднем на 7 лет (по медиане - разница в 9 лет);<br>\n",
    "- Пол: женский;<br>\n",
    "- Количество используемых банковских продуктов - 1, 3 или 4. Причем те, у кого 4 продукта - 100% показатель оттока;<br>\n",
    "- Не активные клиенты;<br>\n",
    "- Средний размер баланса - 91108,54 руб. (больше на 18363,24 руб.);<br>\n",
    "- Средняя зарплата - 101465,68 руб. (выше на 1727,29 руб.)<br>\n",
    "<br>\n",
    "\n",
    "Портрет клиентов, ***не склонных*** к уходу:<br>\n",
    "<br>\n",
    "- Проживают в г. Рыбинск и г. Ярославль;<br>\n",
    "- Возраст - от 30 до 40 лет;<br>\n",
    "- Пол: Мужской;<br>\n",
    "- Количество используемых банковских продуктов - 2 (92% лояльных Банку клиентов);<br>\n",
    "- Активные клиенты (86% лояльных клиентов);<br>\n",
    "- Средний размер баланса - 72748,30 руб. (меньше на 18363,24 руб.);<br>\n",
    "- Средняя зарплата - 99738,39 руб. (меньше на 1727,29 руб.)<br>\n",
    "<br>\n",
    "\n",
    "**Сформулировано две гипотезы:**<br>\n",
    "<br>\n",
    "- ***Гипотеза №1*** - о различии доходов между двумя группами (отток и оставшиеся клиенты)<br>\n",
    "- ***Гипотеза №2*** - о различии в возрасте между двумя группами (отток и оставшиеся клиенты)<br>\n",
    "<br>\n",
    "\n",
    "Результат проверки **Гипотезы №1**: <br>\n",
    "При проверке гипотезы ничего нового по отношению к выводам из предыдущих этапов анализа мы не узнали - нулевую гипотезу о том, что между двумя группами (отток и оставшиеся клиенты) нет статистически значимых различий в доходах, **отвергнуть не удалось.**<br>\n",
    "<br>\n",
    "Результат проверки **Гипотезы №2**: <br>\n",
    "**Отвергли нулевую гипотезу** - между двумя группами (отток и оставшиеся клиенты) есть статистически значимые различия в возрасте, что подтверждается в п. 3.2 настоящей работы, где:<br>\n",
    "Средний возраст клиентов в оттоке - 44.84 года, медианный - 45 лет;<br>\n",
    "Средний возраст оставшихся клиентов - 37.41 лет, медианный - 36 лет<br>"
   ]
  },
  {
   "cell_type": "markdown",
   "id": "8f4c6bdc",
   "metadata": {},
   "source": [
    "### Рекомендации:"
   ]
  },
  {
   "cell_type": "markdown",
   "id": "01f38300",
   "metadata": {},
   "source": [
    "1. Уточнить корректность и принцип выгрузки данных - вопросы вызывают данные о подозрительно низких зарплатах и пропусках в столбце баланса;<Br>\n",
    "\n",
    "2. Разработка новых продуктов в г. Ростов Великий для возврата клиентов в оттоке и привлечения новых, в том числе работа с коммерческими структурами - предоставление кредитов, ипотеки, зарплатные проекты, льготные периоды в обслуживании дебетовых и кредитных карт и т.п. Разработать новые маркетинговые акции для привлечения клиентов, пересмотр действующих и запуск новых рекламных кампаний в городе.<Br> \n",
    "    \n",
    "3. Необходимо придумать акции для женщин - например, программы скидок и кешбэка для популярных среди женщин магазинов (сети магазинов косметики и парфюмерии, салоны красоты, косметологические клиники и т.п.). Таким образом можно внедрить акции для удержания женщин, без разделения по гендерному признаку.<Br>\n",
    "    \n",
    "4. Приоритизация работы с клиентами старше 40 лет;<Br>\n",
    "    \n",
    "5. Улучшение условий обслуживания для клиентов с бОльшим количеством используемых продуктов - подарки, бонусы, возможности отсрочки платежей без последствий и т.д.<Br>\n",
    "    \n",
    "6. Проанализировать работу филиалов и дополнительных офисов в Ростове Великом, в том числе качество и скорость обслуживания физлиц, факты закрытия филиалов, количество и удобность месторасположения терминалов и банкоматов - в этом городе каждый третий клиент уходит в отток;<Br>\n",
    "\n",
    "7. Провести анализ конкурентов в г. Ростов Великий - возможно, отток связан с миграцией клиентов в конкурирующий банк;<Br>\n",
    "\n",
    "8. Разработать план мероприятий, нацеленных на своевременную профилактику и предотвращение оттока клиентов из банка;<Br>\n",
    "\n",
    "5. Разработать акции, повышающие активность среди клиентов - стимулирование расчетов физическими лицами безналичным способом с помощью программ кэшбэка, призовых и бонусов на основании частоты использования банковскими продуктами и т.д.;<Br>"
   ]
  },
  {
   "cell_type": "markdown",
   "id": "0c88f32b",
   "metadata": {},
   "source": [
    "<div class='alert alert-warning'>⚠️\n",
    "Нужно сфокусироваться не на том что провести еще какую-то дополнительную аналитику, а на том какие конкретные действия можно сделать на основании тех данных которые ты имеешь. Заказчик ожидает что ты сформируешь конкретные предложения по работе с различными сегментами оттока предложив им продукт который сможет их удержать. Среди банковских продуктов могут быть: дебетовые и кредитные карты, кредит наличными и ипотека, накопительные и нвестиционные счета, сейфовые ячейки, кеш бек системы.\n"
   ]
  },
  {
   "cell_type": "markdown",
   "id": "d705f3ad",
   "metadata": {},
   "source": [
    "<span style=\"color:blue\"> **Дополнил выводы**"
   ]
  }
 ],
 "metadata": {
  "ExecuteTimeLog": [
   {
    "duration": 145,
    "start_time": "2022-03-19T17:23:46.402Z"
   },
   {
    "duration": 1409,
    "start_time": "2022-03-19T17:23:51.531Z"
   },
   {
    "duration": 147,
    "start_time": "2022-03-19T17:25:36.210Z"
   },
   {
    "duration": 206,
    "start_time": "2022-03-19T17:26:51.080Z"
   },
   {
    "duration": 138,
    "start_time": "2022-03-19T17:30:21.922Z"
   },
   {
    "duration": 174,
    "start_time": "2022-03-19T17:32:39.523Z"
   },
   {
    "duration": 45,
    "start_time": "2022-03-20T13:50:39.264Z"
   },
   {
    "duration": 1198,
    "start_time": "2022-03-20T13:50:45.288Z"
   },
   {
    "duration": 64,
    "start_time": "2022-03-20T13:50:46.976Z"
   },
   {
    "duration": 1653,
    "start_time": "2022-03-20T15:58:18.913Z"
   },
   {
    "duration": 13,
    "start_time": "2022-03-20T15:58:45.890Z"
   },
   {
    "duration": 17,
    "start_time": "2022-03-20T15:58:47.600Z"
   },
   {
    "duration": 16,
    "start_time": "2022-03-20T15:58:48.634Z"
   },
   {
    "duration": 5,
    "start_time": "2022-03-20T15:58:49.556Z"
   },
   {
    "duration": 24,
    "start_time": "2022-03-20T15:58:51.988Z"
   },
   {
    "duration": 40,
    "start_time": "2022-03-20T15:58:54.211Z"
   },
   {
    "duration": 26,
    "start_time": "2022-03-20T15:58:54.731Z"
   },
   {
    "duration": 31,
    "start_time": "2022-03-20T15:58:55.723Z"
   },
   {
    "duration": 27,
    "start_time": "2022-03-20T15:58:55.902Z"
   },
   {
    "duration": 19,
    "start_time": "2022-03-20T15:58:56.172Z"
   },
   {
    "duration": 23,
    "start_time": "2022-03-20T15:58:57.681Z"
   },
   {
    "duration": 28,
    "start_time": "2022-03-20T15:58:58.198Z"
   },
   {
    "duration": 20,
    "start_time": "2022-03-20T15:58:59.548Z"
   },
   {
    "duration": 7,
    "start_time": "2022-03-20T15:59:00.986Z"
   },
   {
    "duration": 12,
    "start_time": "2022-03-20T15:59:01.392Z"
   },
   {
    "duration": 12,
    "start_time": "2022-03-20T15:59:01.774Z"
   },
   {
    "duration": 1985,
    "start_time": "2022-03-20T15:59:02.721Z"
   },
   {
    "duration": 1250,
    "start_time": "2022-03-20T15:59:04.708Z"
   },
   {
    "duration": 1996,
    "start_time": "2022-03-20T15:59:05.960Z"
   },
   {
    "duration": 1139,
    "start_time": "2022-03-20T15:59:07.958Z"
   },
   {
    "duration": 1056,
    "start_time": "2022-03-20T16:44:10.506Z"
   },
   {
    "duration": 3,
    "start_time": "2022-03-20T16:44:22.496Z"
   },
   {
    "duration": 33,
    "start_time": "2022-03-20T16:44:23.766Z"
   },
   {
    "duration": 770,
    "start_time": "2022-03-20T16:44:31.566Z"
   },
   {
    "duration": 797,
    "start_time": "2022-03-20T16:44:58.087Z"
   },
   {
    "duration": 1988,
    "start_time": "2022-03-20T16:46:00.980Z"
   },
   {
    "duration": 893,
    "start_time": "2022-03-20T16:46:09.597Z"
   },
   {
    "duration": 3,
    "start_time": "2022-03-20T16:46:34.056Z"
   },
   {
    "duration": 33,
    "start_time": "2022-03-20T16:46:35.052Z"
   },
   {
    "duration": 11,
    "start_time": "2022-03-20T16:46:36.752Z"
   },
   {
    "duration": 17,
    "start_time": "2022-03-20T16:46:38.760Z"
   },
   {
    "duration": 11,
    "start_time": "2022-03-20T16:46:39.608Z"
   },
   {
    "duration": 6,
    "start_time": "2022-03-20T16:46:39.955Z"
   },
   {
    "duration": 24,
    "start_time": "2022-03-20T16:46:40.402Z"
   },
   {
    "duration": 31,
    "start_time": "2022-03-20T16:46:42.896Z"
   },
   {
    "duration": 23,
    "start_time": "2022-03-20T16:46:43.934Z"
   },
   {
    "duration": 23,
    "start_time": "2022-03-20T16:46:44.471Z"
   },
   {
    "duration": 29,
    "start_time": "2022-03-20T16:46:44.674Z"
   },
   {
    "duration": 21,
    "start_time": "2022-03-20T16:46:45.576Z"
   },
   {
    "duration": 25,
    "start_time": "2022-03-20T16:46:47.062Z"
   },
   {
    "duration": 30,
    "start_time": "2022-03-20T16:46:47.825Z"
   },
   {
    "duration": 20,
    "start_time": "2022-03-20T16:46:47.982Z"
   },
   {
    "duration": 8,
    "start_time": "2022-03-20T16:46:49.333Z"
   },
   {
    "duration": 12,
    "start_time": "2022-03-20T16:46:50.590Z"
   },
   {
    "duration": 11,
    "start_time": "2022-03-20T16:46:51.940Z"
   },
   {
    "duration": 1804,
    "start_time": "2022-03-20T16:46:53.404Z"
   },
   {
    "duration": 1229,
    "start_time": "2022-03-20T16:46:55.211Z"
   },
   {
    "duration": 1996,
    "start_time": "2022-03-20T16:46:56.442Z"
   },
   {
    "duration": 946,
    "start_time": "2022-03-20T16:46:58.440Z"
   },
   {
    "duration": 6,
    "start_time": "2022-03-20T16:49:34.055Z"
   },
   {
    "duration": 10,
    "start_time": "2022-03-20T16:49:54.261Z"
   },
   {
    "duration": 9,
    "start_time": "2022-03-20T16:52:52.174Z"
   },
   {
    "duration": 15,
    "start_time": "2022-03-20T16:53:16.943Z"
   },
   {
    "duration": 9,
    "start_time": "2022-03-20T16:53:34.200Z"
   },
   {
    "duration": 14,
    "start_time": "2022-03-20T16:54:15.443Z"
   },
   {
    "duration": 12,
    "start_time": "2022-03-20T16:58:25.510Z"
   },
   {
    "duration": 10,
    "start_time": "2022-03-20T16:59:06.617Z"
   },
   {
    "duration": 1840,
    "start_time": "2022-03-20T17:00:04.020Z"
   },
   {
    "duration": 89,
    "start_time": "2022-03-20T17:05:25.226Z"
   },
   {
    "duration": 77,
    "start_time": "2022-03-20T17:05:35.821Z"
   },
   {
    "duration": 75,
    "start_time": "2022-03-20T17:05:47.542Z"
   },
   {
    "duration": 12,
    "start_time": "2022-03-20T17:05:55.148Z"
   },
   {
    "duration": 13,
    "start_time": "2022-03-20T17:06:09.396Z"
   },
   {
    "duration": 15,
    "start_time": "2022-03-20T17:06:16.709Z"
   },
   {
    "duration": 53,
    "start_time": "2022-03-20T17:07:07.006Z"
   },
   {
    "duration": 8,
    "start_time": "2022-03-20T17:07:13.118Z"
   },
   {
    "duration": 1335,
    "start_time": "2022-03-20T17:07:21.376Z"
   },
   {
    "duration": 62,
    "start_time": "2022-03-20T17:07:22.713Z"
   },
   {
    "duration": 12,
    "start_time": "2022-03-20T17:07:22.845Z"
   },
   {
    "duration": 17,
    "start_time": "2022-03-20T17:07:24.033Z"
   },
   {
    "duration": 13,
    "start_time": "2022-03-20T17:07:24.321Z"
   },
   {
    "duration": 5,
    "start_time": "2022-03-20T17:07:24.564Z"
   },
   {
    "duration": 25,
    "start_time": "2022-03-20T17:07:24.905Z"
   },
   {
    "duration": 30,
    "start_time": "2022-03-20T17:07:25.884Z"
   },
   {
    "duration": 27,
    "start_time": "2022-03-20T17:07:26.189Z"
   },
   {
    "duration": 24,
    "start_time": "2022-03-20T17:07:26.649Z"
   },
   {
    "duration": 28,
    "start_time": "2022-03-20T17:07:26.773Z"
   },
   {
    "duration": 19,
    "start_time": "2022-03-20T17:07:26.940Z"
   },
   {
    "duration": 25,
    "start_time": "2022-03-20T17:07:28.102Z"
   },
   {
    "duration": 29,
    "start_time": "2022-03-20T17:07:28.280Z"
   },
   {
    "duration": 20,
    "start_time": "2022-03-20T17:07:28.470Z"
   },
   {
    "duration": 8,
    "start_time": "2022-03-20T17:07:29.133Z"
   },
   {
    "duration": 12,
    "start_time": "2022-03-20T17:07:29.767Z"
   },
   {
    "duration": 12,
    "start_time": "2022-03-20T17:07:30.096Z"
   },
   {
    "duration": 1826,
    "start_time": "2022-03-20T17:07:30.895Z"
   },
   {
    "duration": 1197,
    "start_time": "2022-03-20T17:07:32.723Z"
   },
   {
    "duration": 1986,
    "start_time": "2022-03-20T17:07:33.921Z"
   },
   {
    "duration": 980,
    "start_time": "2022-03-20T17:07:35.909Z"
   },
   {
    "duration": 3652,
    "start_time": "2022-03-20T17:07:36.891Z"
   },
   {
    "duration": 2754,
    "start_time": "2022-03-20T17:07:51.432Z"
   },
   {
    "duration": 3029,
    "start_time": "2022-03-20T17:08:28.425Z"
   },
   {
    "duration": 406,
    "start_time": "2022-03-20T17:14:36.009Z"
   },
   {
    "duration": 378,
    "start_time": "2022-03-20T17:14:51.850Z"
   },
   {
    "duration": 391,
    "start_time": "2022-03-20T17:18:28.864Z"
   },
   {
    "duration": 432,
    "start_time": "2022-03-20T17:19:17.287Z"
   },
   {
    "duration": 431,
    "start_time": "2022-03-20T17:20:01.768Z"
   },
   {
    "duration": 407,
    "start_time": "2022-03-20T17:20:17.316Z"
   },
   {
    "duration": 15,
    "start_time": "2022-03-20T17:33:28.485Z"
   },
   {
    "duration": 25,
    "start_time": "2022-03-20T17:34:14.273Z"
   },
   {
    "duration": 17,
    "start_time": "2022-03-20T17:34:35.694Z"
   },
   {
    "duration": 1895,
    "start_time": "2022-03-20T17:35:05.302Z"
   },
   {
    "duration": 18,
    "start_time": "2022-03-20T17:36:21.445Z"
   },
   {
    "duration": 19,
    "start_time": "2022-03-20T17:36:54.070Z"
   },
   {
    "duration": 119,
    "start_time": "2022-03-20T17:37:20.799Z"
   },
   {
    "duration": 15,
    "start_time": "2022-03-20T17:39:36.275Z"
   },
   {
    "duration": 392,
    "start_time": "2022-03-20T17:39:44.195Z"
   },
   {
    "duration": 15,
    "start_time": "2022-03-20T17:44:54.920Z"
   },
   {
    "duration": 16,
    "start_time": "2022-03-20T17:57:39.209Z"
   },
   {
    "duration": 335,
    "start_time": "2022-03-20T17:57:44.336Z"
   },
   {
    "duration": 903,
    "start_time": "2022-03-20T18:09:17.277Z"
   },
   {
    "duration": 10,
    "start_time": "2022-03-20T18:09:55.260Z"
   },
   {
    "duration": 938,
    "start_time": "2022-03-20T18:09:59.870Z"
   },
   {
    "duration": 21,
    "start_time": "2022-03-20T18:10:52.854Z"
   },
   {
    "duration": 890,
    "start_time": "2022-03-20T18:11:25.261Z"
   },
   {
    "duration": 1340,
    "start_time": "2022-03-20T18:11:42.969Z"
   },
   {
    "duration": 1534,
    "start_time": "2022-03-20T18:12:12.349Z"
   },
   {
    "duration": 3,
    "start_time": "2022-03-20T18:13:15.260Z"
   },
   {
    "duration": 32,
    "start_time": "2022-03-20T18:13:16.093Z"
   },
   {
    "duration": 11,
    "start_time": "2022-03-20T18:13:16.900Z"
   },
   {
    "duration": 18,
    "start_time": "2022-03-20T18:13:18.272Z"
   },
   {
    "duration": 12,
    "start_time": "2022-03-20T18:13:18.653Z"
   },
   {
    "duration": 4,
    "start_time": "2022-03-20T18:13:19.060Z"
   },
   {
    "duration": 28,
    "start_time": "2022-03-20T18:13:19.714Z"
   },
   {
    "duration": 30,
    "start_time": "2022-03-20T18:13:20.862Z"
   },
   {
    "duration": 22,
    "start_time": "2022-03-20T18:13:21.226Z"
   },
   {
    "duration": 23,
    "start_time": "2022-03-20T18:13:21.693Z"
   },
   {
    "duration": 28,
    "start_time": "2022-03-20T18:13:21.850Z"
   },
   {
    "duration": 22,
    "start_time": "2022-03-20T18:13:22.008Z"
   },
   {
    "duration": 25,
    "start_time": "2022-03-20T18:13:22.841Z"
   },
   {
    "duration": 30,
    "start_time": "2022-03-20T18:13:23.020Z"
   },
   {
    "duration": 26,
    "start_time": "2022-03-20T18:13:23.189Z"
   },
   {
    "duration": 8,
    "start_time": "2022-03-20T18:13:23.942Z"
   },
   {
    "duration": 12,
    "start_time": "2022-03-20T18:13:24.304Z"
   },
   {
    "duration": 13,
    "start_time": "2022-03-20T18:13:24.662Z"
   },
   {
    "duration": 1874,
    "start_time": "2022-03-20T18:13:25.608Z"
   },
   {
    "duration": 1183,
    "start_time": "2022-03-20T18:13:27.484Z"
   },
   {
    "duration": 1948,
    "start_time": "2022-03-20T18:13:28.668Z"
   },
   {
    "duration": 951,
    "start_time": "2022-03-20T18:13:30.617Z"
   },
   {
    "duration": 83,
    "start_time": "2022-03-20T18:15:14.330Z"
   },
   {
    "duration": 78,
    "start_time": "2022-03-20T18:21:21.465Z"
   },
   {
    "duration": 28,
    "start_time": "2022-03-20T18:31:20.713Z"
   },
   {
    "duration": 29,
    "start_time": "2022-03-20T18:32:50.616Z"
   },
   {
    "duration": 33,
    "start_time": "2022-03-20T18:35:20.272Z"
   },
   {
    "duration": 33,
    "start_time": "2022-03-20T18:38:51.664Z"
   },
   {
    "duration": 30,
    "start_time": "2022-03-20T18:49:29.875Z"
   },
   {
    "duration": 319,
    "start_time": "2022-03-20T20:11:46.462Z"
   },
   {
    "duration": 93,
    "start_time": "2022-03-20T22:41:39.102Z"
   },
   {
    "duration": 83,
    "start_time": "2022-03-20T22:53:19.350Z"
   },
   {
    "duration": 245,
    "start_time": "2022-03-21T08:45:47.868Z"
   },
   {
    "duration": 197,
    "start_time": "2022-03-21T08:46:27.784Z"
   }
  ],
  "kernelspec": {
   "display_name": "Python 3 (ipykernel)",
   "language": "python",
   "name": "python3"
  },
  "language_info": {
   "codemirror_mode": {
    "name": "ipython",
    "version": 3
   },
   "file_extension": ".py",
   "mimetype": "text/x-python",
   "name": "python",
   "nbconvert_exporter": "python",
   "pygments_lexer": "ipython3",
   "version": "3.9.5"
  },
  "toc": {
   "base_numbering": 1,
   "nav_menu": {},
   "number_sections": true,
   "sideBar": true,
   "skip_h1_title": true,
   "title_cell": "Table of Contents",
   "title_sidebar": "Contents",
   "toc_cell": false,
   "toc_position": {},
   "toc_section_display": true,
   "toc_window_display": false
  }
 },
 "nbformat": 4,
 "nbformat_minor": 5
}
