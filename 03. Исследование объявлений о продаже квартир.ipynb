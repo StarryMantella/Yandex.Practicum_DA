{
 "cells": [
  {
   "cell_type": "markdown",
   "metadata": {},
   "source": [
    "<div style=\"border:solid green 2px; padding: 20px\"> \n",
    "    \n",
    "**Комментарий ревьюера**\n",
    "\n",
    "Привет! Меня зовут Сысоева Вера.\n",
    "    \n",
    "Далее в файле мои комментарии ты сможешь найти в ячейках, аналогичных данной ( если рамки комментария зелёные - всё сделано правильно; жёлтые - есть замечания, но не критично; красные - нужно переделать). Не удаляй эти комментарии и постарайся учесть их в ходе выполнения проекта.\n",
    "    \n",
    "Я буду поддерживать версионность комментариев, и при следующих итерациях комментарии будут выделены, как \"Комментраии ревьюера - 2 (3 и.т.д.)\"\n",
    "    \n",
    "Если у тебя есть замечания, возражения и вопросы, ты можешь писать свои комментарии, по возможности выделяй их так же цветом (например, синим), чтоб их можно было легко отделить от текста проекта. \n",
    "    \n",
    "Кстати, предлагаю сразу общаться на \"ты\".\n",
    "    \n",
    "Увидев у тебя ошибку, в первый раз я лишь укажу на ее наличие и дам тебе возможность самой найти и исправить ее. На реальной работе твой начальник будет поступать так же, а я пытаюсь подготовить тебя именно к работе аналитиком. Но если ты пока не справишься с такой задачей - при следующей проверке я дам более точную подсказку.\n",
    "    \n",
    "</div>"
   ]
  },
  {
   "cell_type": "markdown",
   "metadata": {
    "toc": true
   },
   "source": [
    "<h1>Содержание<span class=\"tocSkip\"></span></h1>\n",
    "<div class=\"toc\"><ul class=\"toc-item\"><li><span><a href=\"#Изучение-данных-из-файла\" data-toc-modified-id=\"Изучение-данных-из-файла-1\"><span class=\"toc-item-num\">1&nbsp;&nbsp;</span>Изучение данных из файла</a></span><ul class=\"toc-item\"><li><span><a href=\"#Вывод\" data-toc-modified-id=\"Вывод-1.1\"><span class=\"toc-item-num\">1.1&nbsp;&nbsp;</span>Вывод</a></span></li></ul></li><li><span><a href=\"#Предобработка-данных\" data-toc-modified-id=\"Предобработка-данных-2\"><span class=\"toc-item-num\">2&nbsp;&nbsp;</span>Предобработка данных</a></span></li><li><span><a href=\"#Расчёты-и-добавление-результатов-в-таблицу\" data-toc-modified-id=\"Расчёты-и-добавление-результатов-в-таблицу-3\"><span class=\"toc-item-num\">3&nbsp;&nbsp;</span>Расчёты и добавление результатов в таблицу</a></span></li><li><span><a href=\"#Исследовательский-анализ-данных\" data-toc-modified-id=\"Исследовательский-анализ-данных-4\"><span class=\"toc-item-num\">4&nbsp;&nbsp;</span>Исследовательский анализ данных</a></span></li><li><span><a href=\"#Общий-вывод\" data-toc-modified-id=\"Общий-вывод-5\"><span class=\"toc-item-num\">5&nbsp;&nbsp;</span>Общий вывод</a></span></li><li><span><a href=\"#Чек-лист-готовности-проекта\" data-toc-modified-id=\"Чек-лист-готовности-проекта-6\"><span class=\"toc-item-num\">6&nbsp;&nbsp;</span>Чек-лист готовности проекта</a></span></li></ul></div>"
   ]
  },
  {
   "cell_type": "markdown",
   "metadata": {},
   "source": [
    "# Исследование объявлений о продаже квартир\n",
    "\n",
    "В вашем распоряжении данные сервиса Яндекс.Недвижимость — архив объявлений о продаже квартир в Санкт-Петербурге и соседних населённых пунктах за несколько лет. Нужно научиться определять рыночную стоимость объектов недвижимости. Ваша задача — установить параметры. Это позволит построить автоматизированную систему: она отследит аномалии и мошенническую деятельность. \n",
    "\n",
    "По каждой квартире на продажу доступны два вида данных. Первые вписаны пользователем, вторые получены автоматически на основе картографических данных. Например, расстояние до центра, аэропорта, ближайшего парка и водоёма. "
   ]
  },
  {
   "cell_type": "markdown",
   "metadata": {},
   "source": [
    "## Изучение данных из файла"
   ]
  },
  {
   "cell_type": "code",
   "execution_count": 2,
   "metadata": {},
   "outputs": [
    {
     "name": "stdout",
     "output_type": "stream",
     "text": [
      "<class 'pandas.core.frame.DataFrame'>\n",
      "RangeIndex: 23699 entries, 0 to 23698\n",
      "Data columns (total 22 columns):\n",
      "total_images            23699 non-null int64\n",
      "last_price              23699 non-null float64\n",
      "total_area              23699 non-null float64\n",
      "first_day_exposition    23699 non-null object\n",
      "rooms                   23699 non-null int64\n",
      "ceiling_height          14504 non-null float64\n",
      "floors_total            23613 non-null float64\n",
      "living_area             21796 non-null float64\n",
      "floor                   23699 non-null int64\n",
      "is_apartment            2775 non-null object\n",
      "studio                  23699 non-null bool\n",
      "open_plan               23699 non-null bool\n",
      "kitchen_area            21421 non-null float64\n",
      "balcony                 12180 non-null float64\n",
      "locality_name           23650 non-null object\n",
      "airports_nearest        18157 non-null float64\n",
      "cityCenters_nearest     18180 non-null float64\n",
      "parks_around3000        18181 non-null float64\n",
      "parks_nearest           8079 non-null float64\n",
      "ponds_around3000        18181 non-null float64\n",
      "ponds_nearest           9110 non-null float64\n",
      "days_exposition         20518 non-null float64\n",
      "dtypes: bool(2), float64(14), int64(3), object(3)\n",
      "memory usage: 3.7+ MB\n"
     ]
    }
   ],
   "source": [
    "import pandas as pd\n",
    "import matplotlib.pyplot as plt\n",
    "#data = pd.read_csv('/datasets/real_estate_data.csv')\n",
    "#data.info()\n",
    "data = pd.read_csv('/datasets/real_estate_data.csv', sep ='\\t')\n",
    "data.info()"
   ]
  },
  {
   "cell_type": "markdown",
   "metadata": {},
   "source": [
    "### Вывод"
   ]
  },
  {
   "cell_type": "markdown",
   "metadata": {},
   "source": [
    "**Пропущенные значения в 14 столбцах:**\n",
    "<br>\n",
    "ceiling_height<br>\n",
    "floors_total<br>\n",
    "living_area<br>\n",
    "is_apartment<br>\n",
    "kitchen_area<br>\n",
    "balcony<br>\n",
    "locality_name<br>\n",
    "airports_nearest<br>\n",
    "cityCenters_nearest<br>\n",
    "parks_around3000<br>\n",
    "parks_nearest<br>\n",
    "ponds_around3000<br>\n",
    "ponds_nearest<br>\n",
    "days_exposition<br>\n",
    "<br>\n",
    "**Неверные типы данных в следующих столбцах:<br>**\n",
    "first_day_exposition - заменить на datetime (т.к. дата публикации)<br>\n",
    "is_apartment - заменить на bool<br>\n",
    "<br>Заменить тип данных на int:<br>\n",
    "balcony<br>\n",
    "floors_total<br>\n",
    "airports_nearest<br>\n",
    "cityCenters_nearest<br>\n",
    "parks_around3000<br>\n",
    "parks_nearest<br>\n",
    "ponds_around3000<br>\n",
    "ponds_nearest<br>\n",
    "last_price<br>\n",
    "parks_around3000<br>\n",
    "ponds_around3000<br>\n",
    "days_exposition<br>"
   ]
  },
  {
   "cell_type": "markdown",
   "metadata": {},
   "source": [
    "<div style=\"border:solid green 2px; padding: 20px\"> \n",
    "    \n",
    "**Комментарий ревьюера**\n",
    "\n",
    "Ок, все верно отмечено\n",
    "    \n",
    "</div>"
   ]
  },
  {
   "cell_type": "markdown",
   "metadata": {},
   "source": [
    "## Предобработка данных"
   ]
  },
  {
   "cell_type": "markdown",
   "metadata": {},
   "source": [
    "Применим value_counts и describe ко всем столбцам:"
   ]
  },
  {
   "cell_type": "code",
   "execution_count": 3,
   "metadata": {
    "scrolled": true
   },
   "outputs": [
    {
     "data": {
      "text/plain": [
       "'----total_images----'"
      ]
     },
     "metadata": {},
     "output_type": "display_data"
    },
    {
     "data": {
      "text/plain": [
       "10    1798\n",
       "9     1725\n",
       "20    1694\n",
       "8     1585\n",
       "7     1521\n",
       "6     1482\n",
       "11    1362\n",
       "5     1301\n",
       "12    1225\n",
       "0     1059\n",
       "13    1015\n",
       "14     986\n",
       "4      986\n",
       "15     948\n",
       "1      872\n",
       "3      769\n",
       "16     761\n",
       "17     650\n",
       "18     642\n",
       "2      640\n",
       "19     603\n",
       "23      16\n",
       "21      12\n",
       "24       8\n",
       "22       8\n",
       "26       5\n",
       "28       4\n",
       "32       4\n",
       "50       3\n",
       "29       3\n",
       "31       2\n",
       "35       2\n",
       "30       2\n",
       "27       2\n",
       "37       1\n",
       "39       1\n",
       "25       1\n",
       "42       1\n",
       "Name: total_images, dtype: int64"
      ]
     },
     "metadata": {},
     "output_type": "display_data"
    },
    {
     "data": {
      "text/plain": [
       "'----last_price----'"
      ]
     },
     "metadata": {},
     "output_type": "display_data"
    },
    {
     "data": {
      "text/plain": [
       "4500000.0     342\n",
       "3500000.0     291\n",
       "4000000.0     260\n",
       "4300000.0     260\n",
       "4200000.0     259\n",
       "             ... \n",
       "4412094.0       1\n",
       "6416000.0       1\n",
       "4581000.0       1\n",
       "34551000.0      1\n",
       "6029433.0       1\n",
       "Name: last_price, Length: 2978, dtype: int64"
      ]
     },
     "metadata": {},
     "output_type": "display_data"
    },
    {
     "data": {
      "text/plain": [
       "'----total_area----'"
      ]
     },
     "metadata": {},
     "output_type": "display_data"
    },
    {
     "data": {
      "text/plain": [
       "45.00     419\n",
       "42.00     383\n",
       "60.00     347\n",
       "31.00     346\n",
       "44.00     345\n",
       "         ... \n",
       "45.85       1\n",
       "44.18       1\n",
       "59.83       1\n",
       "127.20      1\n",
       "23.55       1\n",
       "Name: total_area, Length: 2182, dtype: int64"
      ]
     },
     "metadata": {},
     "output_type": "display_data"
    },
    {
     "data": {
      "text/plain": [
       "'----first_day_exposition----'"
      ]
     },
     "metadata": {},
     "output_type": "display_data"
    },
    {
     "data": {
      "text/plain": [
       "2018-02-01T00:00:00    368\n",
       "2017-11-10T00:00:00    240\n",
       "2017-10-13T00:00:00    124\n",
       "2017-09-27T00:00:00    111\n",
       "2018-03-26T00:00:00     97\n",
       "                      ... \n",
       "2015-06-28T00:00:00      1\n",
       "2015-06-20T00:00:00      1\n",
       "2015-04-04T00:00:00      1\n",
       "2015-07-25T00:00:00      1\n",
       "2014-12-16T00:00:00      1\n",
       "Name: first_day_exposition, Length: 1491, dtype: int64"
      ]
     },
     "metadata": {},
     "output_type": "display_data"
    },
    {
     "data": {
      "text/plain": [
       "'----rooms----'"
      ]
     },
     "metadata": {},
     "output_type": "display_data"
    },
    {
     "data": {
      "text/plain": [
       "1     8047\n",
       "2     7940\n",
       "3     5814\n",
       "4     1180\n",
       "5      326\n",
       "0      197\n",
       "6      105\n",
       "7       59\n",
       "8       12\n",
       "9        8\n",
       "10       3\n",
       "14       2\n",
       "11       2\n",
       "19       1\n",
       "12       1\n",
       "16       1\n",
       "15       1\n",
       "Name: rooms, dtype: int64"
      ]
     },
     "metadata": {},
     "output_type": "display_data"
    },
    {
     "data": {
      "text/plain": [
       "'----ceiling_height----'"
      ]
     },
     "metadata": {},
     "output_type": "display_data"
    },
    {
     "data": {
      "text/plain": [
       "2.50      3515\n",
       "2.60      1646\n",
       "2.70      1574\n",
       "3.00      1112\n",
       "2.80       993\n",
       "          ... \n",
       "27.50        1\n",
       "5.00         1\n",
       "3.59         1\n",
       "4.80         1\n",
       "100.00       1\n",
       "Name: ceiling_height, Length: 183, dtype: int64"
      ]
     },
     "metadata": {},
     "output_type": "display_data"
    },
    {
     "data": {
      "text/plain": [
       "'----floors_total----'"
      ]
     },
     "metadata": {},
     "output_type": "display_data"
    },
    {
     "data": {
      "text/plain": [
       "5.0     5788\n",
       "9.0     3761\n",
       "16.0    1376\n",
       "12.0    1362\n",
       "4.0     1200\n",
       "10.0    1174\n",
       "25.0    1075\n",
       "6.0      914\n",
       "17.0     833\n",
       "3.0      668\n",
       "7.0      592\n",
       "14.0     553\n",
       "18.0     505\n",
       "24.0     469\n",
       "8.0      390\n",
       "2.0      383\n",
       "15.0     365\n",
       "23.0     352\n",
       "19.0     339\n",
       "22.0     286\n",
       "20.0     271\n",
       "13.0     229\n",
       "11.0     203\n",
       "27.0     164\n",
       "21.0     158\n",
       "26.0     124\n",
       "1.0       25\n",
       "35.0      24\n",
       "28.0      21\n",
       "36.0       3\n",
       "29.0       1\n",
       "60.0       1\n",
       "33.0       1\n",
       "52.0       1\n",
       "37.0       1\n",
       "34.0       1\n",
       "Name: floors_total, dtype: int64"
      ]
     },
     "metadata": {},
     "output_type": "display_data"
    },
    {
     "data": {
      "text/plain": [
       "'----living_area----'"
      ]
     },
     "metadata": {},
     "output_type": "display_data"
    },
    {
     "data": {
      "text/plain": [
       "18.00    882\n",
       "17.00    675\n",
       "30.00    598\n",
       "16.00    486\n",
       "20.00    481\n",
       "        ... \n",
       "20.03      1\n",
       "10.55      1\n",
       "24.83      1\n",
       "20.97      1\n",
       "15.55      1\n",
       "Name: living_area, Length: 1782, dtype: int64"
      ]
     },
     "metadata": {},
     "output_type": "display_data"
    },
    {
     "data": {
      "text/plain": [
       "'----floor----'"
      ]
     },
     "metadata": {},
     "output_type": "display_data"
    },
    {
     "data": {
      "text/plain": [
       "2     3368\n",
       "3     3073\n",
       "1     2917\n",
       "4     2804\n",
       "5     2621\n",
       "6     1305\n",
       "7     1218\n",
       "8     1083\n",
       "9     1051\n",
       "10     687\n",
       "12     526\n",
       "11     523\n",
       "13     379\n",
       "15     343\n",
       "14     337\n",
       "16     315\n",
       "17     227\n",
       "18     178\n",
       "19     147\n",
       "21     125\n",
       "22     113\n",
       "20     110\n",
       "23     100\n",
       "24      63\n",
       "25      46\n",
       "26      24\n",
       "27      10\n",
       "28       1\n",
       "33       1\n",
       "29       1\n",
       "30       1\n",
       "32       1\n",
       "31       1\n",
       "Name: floor, dtype: int64"
      ]
     },
     "metadata": {},
     "output_type": "display_data"
    },
    {
     "data": {
      "text/plain": [
       "'----is_apartment----'"
      ]
     },
     "metadata": {},
     "output_type": "display_data"
    },
    {
     "data": {
      "text/plain": [
       "False    2725\n",
       "True       50\n",
       "Name: is_apartment, dtype: int64"
      ]
     },
     "metadata": {},
     "output_type": "display_data"
    },
    {
     "data": {
      "text/plain": [
       "'----studio----'"
      ]
     },
     "metadata": {},
     "output_type": "display_data"
    },
    {
     "data": {
      "text/plain": [
       "False    23550\n",
       "True       149\n",
       "Name: studio, dtype: int64"
      ]
     },
     "metadata": {},
     "output_type": "display_data"
    },
    {
     "data": {
      "text/plain": [
       "'----open_plan----'"
      ]
     },
     "metadata": {},
     "output_type": "display_data"
    },
    {
     "data": {
      "text/plain": [
       "False    23632\n",
       "True        67\n",
       "Name: open_plan, dtype: int64"
      ]
     },
     "metadata": {},
     "output_type": "display_data"
    },
    {
     "data": {
      "text/plain": [
       "'----kitchen_area----'"
      ]
     },
     "metadata": {},
     "output_type": "display_data"
    },
    {
     "data": {
      "text/plain": [
       "6.00     1300\n",
       "10.00    1262\n",
       "8.00     1110\n",
       "9.00     1101\n",
       "7.00     1062\n",
       "         ... \n",
       "18.07       1\n",
       "28.20       1\n",
       "37.90       1\n",
       "9.51        1\n",
       "35.40       1\n",
       "Name: kitchen_area, Length: 971, dtype: int64"
      ]
     },
     "metadata": {},
     "output_type": "display_data"
    },
    {
     "data": {
      "text/plain": [
       "'----balcony----'"
      ]
     },
     "metadata": {},
     "output_type": "display_data"
    },
    {
     "data": {
      "text/plain": [
       "1.0    4195\n",
       "0.0    3758\n",
       "2.0    3659\n",
       "5.0     304\n",
       "4.0     183\n",
       "3.0      81\n",
       "Name: balcony, dtype: int64"
      ]
     },
     "metadata": {},
     "output_type": "display_data"
    },
    {
     "data": {
      "text/plain": [
       "'----locality_name----'"
      ]
     },
     "metadata": {},
     "output_type": "display_data"
    },
    {
     "data": {
      "text/plain": [
       "Санкт-Петербург                      15721\n",
       "посёлок Мурино                         522\n",
       "посёлок Шушары                         440\n",
       "Всеволожск                             398\n",
       "Пушкин                                 369\n",
       "                                     ...  \n",
       "деревня Кривко                           1\n",
       "садовое товарищество Приладожский        1\n",
       "посёлок городского типа Рябово           1\n",
       "деревня Пельгора                         1\n",
       "деревня Шпаньково                        1\n",
       "Name: locality_name, Length: 364, dtype: int64"
      ]
     },
     "metadata": {},
     "output_type": "display_data"
    },
    {
     "data": {
      "text/plain": [
       "'----airports_nearest----'"
      ]
     },
     "metadata": {},
     "output_type": "display_data"
    },
    {
     "data": {
      "text/plain": [
       "37434.0    61\n",
       "21928.0    32\n",
       "39946.0    30\n",
       "44870.0    30\n",
       "37407.0    27\n",
       "           ..\n",
       "25122.0     1\n",
       "26768.0     1\n",
       "22248.0     1\n",
       "20475.0     1\n",
       "14579.0     1\n",
       "Name: airports_nearest, Length: 8275, dtype: int64"
      ]
     },
     "metadata": {},
     "output_type": "display_data"
    },
    {
     "data": {
      "text/plain": [
       "'----cityCenters_nearest----'"
      ]
     },
     "metadata": {},
     "output_type": "display_data"
    },
    {
     "data": {
      "text/plain": [
       "8460.0     61\n",
       "20802.0    32\n",
       "10720.0    30\n",
       "8434.0     27\n",
       "20444.0    27\n",
       "           ..\n",
       "13104.0     1\n",
       "11280.0     1\n",
       "27218.0     1\n",
       "10501.0     1\n",
       "208.0       1\n",
       "Name: cityCenters_nearest, Length: 7642, dtype: int64"
      ]
     },
     "metadata": {},
     "output_type": "display_data"
    },
    {
     "data": {
      "text/plain": [
       "'----parks_around3000----'"
      ]
     },
     "metadata": {},
     "output_type": "display_data"
    },
    {
     "data": {
      "text/plain": [
       "0.0    10106\n",
       "1.0     5681\n",
       "2.0     1747\n",
       "3.0      647\n",
       "Name: parks_around3000, dtype: int64"
      ]
     },
     "metadata": {},
     "output_type": "display_data"
    },
    {
     "data": {
      "text/plain": [
       "'----parks_nearest----'"
      ]
     },
     "metadata": {},
     "output_type": "display_data"
    },
    {
     "data": {
      "text/plain": [
       "441.0     67\n",
       "173.0     41\n",
       "392.0     41\n",
       "456.0     40\n",
       "471.0     32\n",
       "          ..\n",
       "863.0      1\n",
       "2880.0     1\n",
       "969.0      1\n",
       "1011.0     1\n",
       "775.0      1\n",
       "Name: parks_nearest, Length: 995, dtype: int64"
      ]
     },
     "metadata": {},
     "output_type": "display_data"
    },
    {
     "data": {
      "text/plain": [
       "'----ponds_around3000----'"
      ]
     },
     "metadata": {},
     "output_type": "display_data"
    },
    {
     "data": {
      "text/plain": [
       "0.0    9071\n",
       "1.0    5717\n",
       "2.0    1892\n",
       "3.0    1501\n",
       "Name: ponds_around3000, dtype: int64"
      ]
     },
     "metadata": {},
     "output_type": "display_data"
    },
    {
     "data": {
      "text/plain": [
       "'----ponds_nearest----'"
      ]
     },
     "metadata": {},
     "output_type": "display_data"
    },
    {
     "data": {
      "text/plain": [
       "427.0     70\n",
       "454.0     41\n",
       "153.0     40\n",
       "433.0     39\n",
       "564.0     37\n",
       "          ..\n",
       "742.0      1\n",
       "1019.0     1\n",
       "948.0      1\n",
       "1275.0     1\n",
       "193.0      1\n",
       "Name: ponds_nearest, Length: 1096, dtype: int64"
      ]
     },
     "metadata": {},
     "output_type": "display_data"
    },
    {
     "data": {
      "text/plain": [
       "'----days_exposition----'"
      ]
     },
     "metadata": {},
     "output_type": "display_data"
    },
    {
     "data": {
      "text/plain": [
       "45.0      880\n",
       "60.0      538\n",
       "7.0       234\n",
       "30.0      208\n",
       "90.0      204\n",
       "         ... \n",
       "1110.0      1\n",
       "1049.0      1\n",
       "951.0       1\n",
       "693.0       1\n",
       "773.0       1\n",
       "Name: days_exposition, Length: 1141, dtype: int64"
      ]
     },
     "metadata": {},
     "output_type": "display_data"
    }
   ],
   "source": [
    "#value_counts:\n",
    "for col in data:\n",
    "    display (\"----%s----\" %col)\n",
    "    display (data[col].value_counts())"
   ]
  },
  {
   "cell_type": "code",
   "execution_count": 4,
   "metadata": {},
   "outputs": [
    {
     "data": {
      "text/plain": [
       "'----total_images----'"
      ]
     },
     "metadata": {},
     "output_type": "display_data"
    },
    {
     "data": {
      "text/plain": [
       "count    23699.000000\n",
       "mean         9.858475\n",
       "std          5.682529\n",
       "min          0.000000\n",
       "25%          6.000000\n",
       "50%          9.000000\n",
       "75%         14.000000\n",
       "max         50.000000\n",
       "Name: total_images, dtype: float64"
      ]
     },
     "metadata": {},
     "output_type": "display_data"
    },
    {
     "data": {
      "text/plain": [
       "'----last_price----'"
      ]
     },
     "metadata": {},
     "output_type": "display_data"
    },
    {
     "data": {
      "text/plain": [
       "count    2.369900e+04\n",
       "mean     6.541549e+06\n",
       "std      1.088701e+07\n",
       "min      1.219000e+04\n",
       "25%      3.400000e+06\n",
       "50%      4.650000e+06\n",
       "75%      6.800000e+06\n",
       "max      7.630000e+08\n",
       "Name: last_price, dtype: float64"
      ]
     },
     "metadata": {},
     "output_type": "display_data"
    },
    {
     "data": {
      "text/plain": [
       "'----total_area----'"
      ]
     },
     "metadata": {},
     "output_type": "display_data"
    },
    {
     "data": {
      "text/plain": [
       "count    23699.000000\n",
       "mean        60.348651\n",
       "std         35.654083\n",
       "min         12.000000\n",
       "25%         40.000000\n",
       "50%         52.000000\n",
       "75%         69.900000\n",
       "max        900.000000\n",
       "Name: total_area, dtype: float64"
      ]
     },
     "metadata": {},
     "output_type": "display_data"
    },
    {
     "data": {
      "text/plain": [
       "'----first_day_exposition----'"
      ]
     },
     "metadata": {},
     "output_type": "display_data"
    },
    {
     "data": {
      "text/plain": [
       "count                   23699\n",
       "unique                   1491\n",
       "top       2018-02-01T00:00:00\n",
       "freq                      368\n",
       "Name: first_day_exposition, dtype: object"
      ]
     },
     "metadata": {},
     "output_type": "display_data"
    },
    {
     "data": {
      "text/plain": [
       "'----rooms----'"
      ]
     },
     "metadata": {},
     "output_type": "display_data"
    },
    {
     "data": {
      "text/plain": [
       "count    23699.000000\n",
       "mean         2.070636\n",
       "std          1.078405\n",
       "min          0.000000\n",
       "25%          1.000000\n",
       "50%          2.000000\n",
       "75%          3.000000\n",
       "max         19.000000\n",
       "Name: rooms, dtype: float64"
      ]
     },
     "metadata": {},
     "output_type": "display_data"
    },
    {
     "data": {
      "text/plain": [
       "'----ceiling_height----'"
      ]
     },
     "metadata": {},
     "output_type": "display_data"
    },
    {
     "data": {
      "text/plain": [
       "count    14504.000000\n",
       "mean         2.771499\n",
       "std          1.261056\n",
       "min          1.000000\n",
       "25%          2.520000\n",
       "50%          2.650000\n",
       "75%          2.800000\n",
       "max        100.000000\n",
       "Name: ceiling_height, dtype: float64"
      ]
     },
     "metadata": {},
     "output_type": "display_data"
    },
    {
     "data": {
      "text/plain": [
       "'----floors_total----'"
      ]
     },
     "metadata": {},
     "output_type": "display_data"
    },
    {
     "data": {
      "text/plain": [
       "count    23613.000000\n",
       "mean        10.673824\n",
       "std          6.597173\n",
       "min          1.000000\n",
       "25%          5.000000\n",
       "50%          9.000000\n",
       "75%         16.000000\n",
       "max         60.000000\n",
       "Name: floors_total, dtype: float64"
      ]
     },
     "metadata": {},
     "output_type": "display_data"
    },
    {
     "data": {
      "text/plain": [
       "'----living_area----'"
      ]
     },
     "metadata": {},
     "output_type": "display_data"
    },
    {
     "data": {
      "text/plain": [
       "count    21796.000000\n",
       "mean        34.457852\n",
       "std         22.030445\n",
       "min          2.000000\n",
       "25%         18.600000\n",
       "50%         30.000000\n",
       "75%         42.300000\n",
       "max        409.700000\n",
       "Name: living_area, dtype: float64"
      ]
     },
     "metadata": {},
     "output_type": "display_data"
    },
    {
     "data": {
      "text/plain": [
       "'----floor----'"
      ]
     },
     "metadata": {},
     "output_type": "display_data"
    },
    {
     "data": {
      "text/plain": [
       "count    23699.000000\n",
       "mean         5.892358\n",
       "std          4.885249\n",
       "min          1.000000\n",
       "25%          2.000000\n",
       "50%          4.000000\n",
       "75%          8.000000\n",
       "max         33.000000\n",
       "Name: floor, dtype: float64"
      ]
     },
     "metadata": {},
     "output_type": "display_data"
    },
    {
     "data": {
      "text/plain": [
       "'----is_apartment----'"
      ]
     },
     "metadata": {},
     "output_type": "display_data"
    },
    {
     "data": {
      "text/plain": [
       "count      2775\n",
       "unique        2\n",
       "top       False\n",
       "freq       2725\n",
       "Name: is_apartment, dtype: object"
      ]
     },
     "metadata": {},
     "output_type": "display_data"
    },
    {
     "data": {
      "text/plain": [
       "'----studio----'"
      ]
     },
     "metadata": {},
     "output_type": "display_data"
    },
    {
     "data": {
      "text/plain": [
       "count     23699\n",
       "unique        2\n",
       "top       False\n",
       "freq      23550\n",
       "Name: studio, dtype: object"
      ]
     },
     "metadata": {},
     "output_type": "display_data"
    },
    {
     "data": {
      "text/plain": [
       "'----open_plan----'"
      ]
     },
     "metadata": {},
     "output_type": "display_data"
    },
    {
     "data": {
      "text/plain": [
       "count     23699\n",
       "unique        2\n",
       "top       False\n",
       "freq      23632\n",
       "Name: open_plan, dtype: object"
      ]
     },
     "metadata": {},
     "output_type": "display_data"
    },
    {
     "data": {
      "text/plain": [
       "'----kitchen_area----'"
      ]
     },
     "metadata": {},
     "output_type": "display_data"
    },
    {
     "data": {
      "text/plain": [
       "count    21421.000000\n",
       "mean        10.569807\n",
       "std          5.905438\n",
       "min          1.300000\n",
       "25%          7.000000\n",
       "50%          9.100000\n",
       "75%         12.000000\n",
       "max        112.000000\n",
       "Name: kitchen_area, dtype: float64"
      ]
     },
     "metadata": {},
     "output_type": "display_data"
    },
    {
     "data": {
      "text/plain": [
       "'----balcony----'"
      ]
     },
     "metadata": {},
     "output_type": "display_data"
    },
    {
     "data": {
      "text/plain": [
       "count    12180.000000\n",
       "mean         1.150082\n",
       "std          1.071300\n",
       "min          0.000000\n",
       "25%          0.000000\n",
       "50%          1.000000\n",
       "75%          2.000000\n",
       "max          5.000000\n",
       "Name: balcony, dtype: float64"
      ]
     },
     "metadata": {},
     "output_type": "display_data"
    },
    {
     "data": {
      "text/plain": [
       "'----locality_name----'"
      ]
     },
     "metadata": {},
     "output_type": "display_data"
    },
    {
     "data": {
      "text/plain": [
       "count               23650\n",
       "unique                364\n",
       "top       Санкт-Петербург\n",
       "freq                15721\n",
       "Name: locality_name, dtype: object"
      ]
     },
     "metadata": {},
     "output_type": "display_data"
    },
    {
     "data": {
      "text/plain": [
       "'----airports_nearest----'"
      ]
     },
     "metadata": {},
     "output_type": "display_data"
    },
    {
     "data": {
      "text/plain": [
       "count    18157.000000\n",
       "mean     28793.672193\n",
       "std      12630.880622\n",
       "min          0.000000\n",
       "25%      18585.000000\n",
       "50%      26726.000000\n",
       "75%      37273.000000\n",
       "max      84869.000000\n",
       "Name: airports_nearest, dtype: float64"
      ]
     },
     "metadata": {},
     "output_type": "display_data"
    },
    {
     "data": {
      "text/plain": [
       "'----cityCenters_nearest----'"
      ]
     },
     "metadata": {},
     "output_type": "display_data"
    },
    {
     "data": {
      "text/plain": [
       "count    18180.000000\n",
       "mean     14191.277833\n",
       "std       8608.386210\n",
       "min        181.000000\n",
       "25%       9238.000000\n",
       "50%      13098.500000\n",
       "75%      16293.000000\n",
       "max      65968.000000\n",
       "Name: cityCenters_nearest, dtype: float64"
      ]
     },
     "metadata": {},
     "output_type": "display_data"
    },
    {
     "data": {
      "text/plain": [
       "'----parks_around3000----'"
      ]
     },
     "metadata": {},
     "output_type": "display_data"
    },
    {
     "data": {
      "text/plain": [
       "count    18181.000000\n",
       "mean         0.611408\n",
       "std          0.802074\n",
       "min          0.000000\n",
       "25%          0.000000\n",
       "50%          0.000000\n",
       "75%          1.000000\n",
       "max          3.000000\n",
       "Name: parks_around3000, dtype: float64"
      ]
     },
     "metadata": {},
     "output_type": "display_data"
    },
    {
     "data": {
      "text/plain": [
       "'----parks_nearest----'"
      ]
     },
     "metadata": {},
     "output_type": "display_data"
    },
    {
     "data": {
      "text/plain": [
       "count    8079.000000\n",
       "mean      490.804555\n",
       "std       342.317995\n",
       "min         1.000000\n",
       "25%       288.000000\n",
       "50%       455.000000\n",
       "75%       612.000000\n",
       "max      3190.000000\n",
       "Name: parks_nearest, dtype: float64"
      ]
     },
     "metadata": {},
     "output_type": "display_data"
    },
    {
     "data": {
      "text/plain": [
       "'----ponds_around3000----'"
      ]
     },
     "metadata": {},
     "output_type": "display_data"
    },
    {
     "data": {
      "text/plain": [
       "count    18181.000000\n",
       "mean         0.770255\n",
       "std          0.938346\n",
       "min          0.000000\n",
       "25%          0.000000\n",
       "50%          1.000000\n",
       "75%          1.000000\n",
       "max          3.000000\n",
       "Name: ponds_around3000, dtype: float64"
      ]
     },
     "metadata": {},
     "output_type": "display_data"
    },
    {
     "data": {
      "text/plain": [
       "'----ponds_nearest----'"
      ]
     },
     "metadata": {},
     "output_type": "display_data"
    },
    {
     "data": {
      "text/plain": [
       "count    9110.000000\n",
       "mean      517.980900\n",
       "std       277.720643\n",
       "min        13.000000\n",
       "25%       294.000000\n",
       "50%       502.000000\n",
       "75%       729.000000\n",
       "max      1344.000000\n",
       "Name: ponds_nearest, dtype: float64"
      ]
     },
     "metadata": {},
     "output_type": "display_data"
    },
    {
     "data": {
      "text/plain": [
       "'----days_exposition----'"
      ]
     },
     "metadata": {},
     "output_type": "display_data"
    },
    {
     "data": {
      "text/plain": [
       "count    20518.000000\n",
       "mean       180.888634\n",
       "std        219.727988\n",
       "min          1.000000\n",
       "25%         45.000000\n",
       "50%         95.000000\n",
       "75%        232.000000\n",
       "max       1580.000000\n",
       "Name: days_exposition, dtype: float64"
      ]
     },
     "metadata": {},
     "output_type": "display_data"
    }
   ],
   "source": [
    "#describe:\n",
    "for col in data:\n",
    "    display (\"----%s----\" %col)\n",
    "    display (data[col].describe())"
   ]
  },
  {
   "cell_type": "code",
   "execution_count": 5,
   "metadata": {},
   "outputs": [],
   "source": [
    "#заменим тип данных в столбце с датой публикации\n",
    "data['first_day_exposition'] = pd.to_datetime(data['first_day_exposition'], format = '%Y-%m-%d')"
   ]
  },
  {
   "cell_type": "code",
   "execution_count": 6,
   "metadata": {},
   "outputs": [
    {
     "data": {
      "image/png": "[encoded data removed]",
      "text/plain": [
       "<Figure size 432x288 with 1 Axes>"
      ]
     },
     "metadata": {
      "needs_background": "light"
     },
     "output_type": "display_data"
    }
   ],
   "source": [
    "#заменим пропущенные значения в столбце \"высота потолков\"\n",
    "data['ceiling_height'].hist(bins=100, range=(1, 5))\n",
    "ceiling_height_mean = data['ceiling_height'].mean()\n",
    "ceiling_height_median = data['ceiling_height'].median()\n",
    "\n",
    "#заменим пропуски на медиану\n",
    "data['ceiling_height'] = data['ceiling_height'].fillna(ceiling_height_median)\n",
    "#data['ceiling_height'].hist(bins=10, range=(20,30))"
   ]
  },
  {
   "cell_type": "markdown",
   "metadata": {},
   "source": [
    "Большинство квартир с высотой потолков 2,5 м, но также встречается большое количество квартир высотой от 2,5 до 3 м. - заменим пропуски на медиану.<br>\n",
    "<br>В данных по высоте потолков есть аномальные значения от 20 до 100 м., но их слишком мало, и скорее всего они связаны с неправильной расстановкой разделителя (например, вместо значения 2,5 м. указана высота 25 м., т.к. высота 25 м. наблюдается у стандартных 5-этажных домов, у которых стандартная высота потолков 2,5 м.). Т.к. таких выбросов слишком мало, оставим без изменений."
   ]
  },
  {
   "cell_type": "markdown",
   "metadata": {},
   "source": [
    "<div style=\"border:solid green 2px; padding: 20px\"> \n",
    "    \n",
    "**Комментарий ревьюера**\n",
    "\n",
    "Хорошо, но старайся свои комментарии писать в текстовых блоках, а не в коде. Просто один из вариантов сохранения notebook-а - это pdf файл, в котором будут записаны все текстовые ячейки и out-ы (таблицы/графики/print), а весь код будет скрыт. Именно такие отчеты и публикуют/читают обычно\n",
    "    \n",
    "</div>"
   ]
  },
  {
   "cell_type": "code",
   "execution_count": 7,
   "metadata": {},
   "outputs": [
    {
     "data": {
      "image/png": "[encoded data removed]",
      "text/plain": [
       "<Figure size 432x288 with 1 Axes>"
      ]
     },
     "metadata": {
      "needs_background": "light"
     },
     "output_type": "display_data"
    }
   ],
   "source": [
    "#Столбец Floors_total\n",
    "data['floors_total'].hist(bins=100, range=(0,30))\n",
    "floors_total_median = data['floors_total'].median()\n",
    "data['floors_total'] = data['floors_total'].fillna(floors_total_median)\n",
    "#Заменим тип данных на int:\n",
    "data['floors_total'] = data['floors_total'].astype('int')"
   ]
  },
  {
   "cell_type": "markdown",
   "metadata": {},
   "source": [
    "Доля пропущенных значений в столбце floors_total составляет 0,36% от общего числа, поэтому просто заменим их на медианные значения.<br>\n",
    "<br>Заменил тип данных на int"
   ]
  },
  {
   "cell_type": "code",
   "execution_count": 8,
   "metadata": {},
   "outputs": [],
   "source": [
    "#Столбец Living_area:\n",
    "#заменим пропуски на средние значения:\n",
    "living_area_mean = data['living_area'].mean()\n",
    "data['living_area'] = data['living_area'].fillna(living_area_mean)"
   ]
  },
  {
   "cell_type": "markdown",
   "metadata": {},
   "source": [
    "В столбце Living_area заменили пропуски на средние значения"
   ]
  },
  {
   "cell_type": "code",
   "execution_count": 9,
   "metadata": {},
   "outputs": [],
   "source": [
    "#Столбец Is_apartment:\n",
    "#Пропуски в столбце скорее всего связаны с тем, что данные квартиры не являются апартаментами, заменим на False:\n",
    "data['is_apartment'] = data['is_apartment'].fillna(False)\n",
    "#Заменим тип данных на bool:\n",
    "data['is_apartment'] = data['is_apartment'].astype('bool')"
   ]
  },
  {
   "cell_type": "markdown",
   "metadata": {},
   "source": [
    "Столбец Is_apartment:\n",
    "Пропуски в столбце скорее всего связаны с тем, что данные квартиры не являются апартаментами, заменили пропуски на False.<br>\n",
    "<br>Заменил тип данных на bool"
   ]
  },
  {
   "cell_type": "code",
   "execution_count": 10,
   "metadata": {},
   "outputs": [],
   "source": [
    "#Столбец Kitchen_area:\n",
    "#заменим пропуски на средние значения:\n",
    "kitchen_area_mean = data['kitchen_area'].mean()\n",
    "data['kitchen_area'] = data['kitchen_area'].fillna(kitchen_area_mean)"
   ]
  },
  {
   "cell_type": "markdown",
   "metadata": {},
   "source": [
    "Столбец Kitchen_area:<br>\n",
    "<br>заменил пропуски на средние значения"
   ]
  },
  {
   "cell_type": "code",
   "execution_count": 11,
   "metadata": {},
   "outputs": [],
   "source": [
    "#Столбец Balcony:\n",
    "data['balcony'] = data['balcony'].fillna(0)\n",
    "#Заменим тип данных на int:\n",
    "data['balcony'] = data['balcony'].astype('int')"
   ]
  },
  {
   "cell_type": "markdown",
   "metadata": {},
   "source": [
    "Столбец Balcony:\n",
    "\n",
    "Заменим пропуски на 0, т.к. незаполненные значения скорее всего говорят об отсутствии балкона в квартире:\n",
    "\n",
    "\n",
    "Заменил тип данных на int"
   ]
  },
  {
   "cell_type": "markdown",
   "metadata": {},
   "source": [
    "<div style=\"border:solid green 2px; padding: 20px\"> \n",
    "    \n",
    "**Комментарий ревьюера**\n",
    "\n",
    "Все решения в этой части верны. Но вот все describe и value_counts, которые ты смотришь, читателю не видны. Это не очень хорошо, для читателя твой проект \"черный ящик\". Старайся либо делать print/display или делать такой код в отдельной ячейке.\n",
    "    \n",
    "Также например value_counts() можно посмотреть в самом начале для всех колонок\n",
    "    \n",
    "    for col in data.columns\n",
    "        print(data['col'].value_counts())\n",
    "    \n",
    "</div>"
   ]
  },
  {
   "cell_type": "code",
   "execution_count": 12,
   "metadata": {},
   "outputs": [
    {
     "name": "stdout",
     "output_type": "stream",
     "text": [
      "Уникальных значений в locality_name: 365\n"
     ]
    }
   ],
   "source": [
    "print('Уникальных значений в locality_name:', len(data['locality_name'].unique()))\n",
    "#print(data['locality_name'].unique())"
   ]
  },
  {
   "cell_type": "code",
   "execution_count": 14,
   "metadata": {},
   "outputs": [
    {
     "name": "stdout",
     "output_type": "stream",
     "text": [
      "Уникальных значений в locality_name: 315\n",
      "['санкт-петербург' ' шушары' ' янино-1' ' парголово' ' мурино' 'ломоносов'\n",
      " 'сертолово' 'петергоф' 'пушкин' ' кудрово' 'коммунар' 'колпино'\n",
      " ' красный бор' 'гатчина' ' фёдоровское' 'выборг' 'кронштадт' 'кировск'\n",
      " ' новое девяткино' ' металлострой' ' лебяжье' ' сиверский' ' молодцово'\n",
      " ' кузьмоловский' ' новая ропша' 'павловск' ' пикколово' 'всеволожск'\n",
      " 'волхов' 'кингисепп' 'приозерск' 'сестрорецк' ' куттузи' ' аннино'\n",
      " ' ефимовский' ' плодовое' ' заклинье' ' торковичи' ' первомайское'\n",
      " 'красное ' ' понтонный' 'сясьстрой' ' старая' ' лесколово' ' новый свет'\n",
      " 'сланцы' ' путилово' 'ивангород' 'мурино' 'шлиссельбург' 'никольское'\n",
      " 'зеленогорск' 'сосновый бор' ' оржицы' ' кальтино' 'кудрово' ' романовка'\n",
      " ' бугры' ' рощино' 'кириши' 'луга' 'волосово' 'отрадное' ' павлово'\n",
      " ' оредеж' ' копорье' ' молодёжное' 'тихвин' ' победа' ' нурма'\n",
      " ' синявино' 'тосно' ' стрельна' 'бокситогорск' ' александровская'\n",
      " ' лопухинка' 'пикалёво' ' терволово' ' советский' 'подпорожье'\n",
      " ' петровское' ' токсово' ' сельцо' ' вырица' ' кипень' ' келози'\n",
      " ' вартемяги' ' тельмана' ' севастьяново' 'городской  большая ижора' nan\n",
      " ' агалатово' ' новогорелово' ' лесогорский' ' лаголово' ' цвелодубово'\n",
      " ' рахья' ' белогорка' ' заводской' ' новоселье' ' большие колпаны'\n",
      " ' горбунки' ' батово' ' заневка' ' иссад' 'приморск' ' мистолово'\n",
      " 'новая ладога' ' зимитицы' ' барышево' ' разметелево' ' имени свердлова'\n",
      " ' пеники' ' рябово' ' пудомяги' ' станции корнево' ' низино' ' бегуницы'\n",
      " ' поляны' ' мга' ' елизаветино' ' кузнечное' ' колтуши' ' запорожское'\n",
      " ' гостилицы' ' малое карлино' ' мичуринское' ' имени морозова'\n",
      " ' песочный' ' сосново' ' аро' ' ильичёво' ' тайцы' ' малое верево'\n",
      " ' извара' ' станции вещево' ' паша' ' калитино' ' ульяновка'\n",
      " ' чудской бор' ' дубровка' ' мины' ' войсковицы' ' коркино' ' ропша'\n",
      " ' приладожский' ' щеглово' ' гаврилово' 'лодейное поле' ' рабитицы'\n",
      " ' никольский' ' кузьмолово' ' малые колпаны' ' петро-славянка' ' назия'\n",
      " ' репино' ' углово' ' старая малукса' ' меньково' ' старые бегуницы'\n",
      " ' сапёрный' ' семрино' ' глажево' ' кобринское' ' гарболово' ' юкки'\n",
      " ' станции приветнинское' ' мануйлово' ' пчева' ' цвылёво' ' мельниково'\n",
      " ' пудость' ' усть-луга' 'светогорск' 'любань' ' селезнёво' 'каменногорск'\n",
      " ' кривко' ' глебычево' ' парицы' ' жил' 'городской  янино-1'\n",
      " ' войскорово' ' никольское' ' стеклянный' ' важины' ' мыза-ивановка'\n",
      " ' русско-высоцкое' ' форносово' ' старая ладога' ' житково' ' виллози'\n",
      " ' лампово' ' шпаньково' ' лаврики' ' сумино' ' возрождение'\n",
      " ' старосиверская' ' кикерино' ' старое хинколово' ' пригородный'\n",
      " ' торфяное' ' будогощь' ' суходолье' ' красная долина' ' хапо-ое'\n",
      " ' дружная горка' ' лисий нос' ' яльгелево' ' рождествено' ' старополье'\n",
      " ' левашово' ' сяськелево' ' камышовка'\n",
      " 'садоводческое некоммерческое товарищество лесная поляна' ' хязельки'\n",
      " ' жилгородок' ' ялгино' ' новый учхоз' ' гончарово' ' почап' ' сапёрное'\n",
      " ' платформа 69-й километр' ' каложицы' ' фалилеево' ' пельгора'\n",
      " ' торошковичи' ' белоостров' ' алексеевка' ' серебрянский' ' лукаши'\n",
      " ' тарасово' ' кингисеппский' ' при железнодорожной станции вещево'\n",
      " ' ушаки' ' котлы' ' сижно' ' торосово' ' форт красная горка'\n",
      " ' новолисино' ' станции громово' ' глинка' ' старая пустошь' ' коммунары'\n",
      " ' починок' ' вознесенье' ' разбегаево' ' гладкое'\n",
      " ' при железнодорожной станции приветнинское' ' тёсово-4' ' бор'\n",
      " ' коробицыно' ' большая вруда' ' курковицы' ' кобралово' ' суоранда'\n",
      " ' кондратьево' 'коттеджный  счастье' ' любань' ' реброво' ' тойворово'\n",
      " ' семиозерье' ' лесное' ' совхозный' ' ленинское' ' суйда'\n",
      " ' нижние осельки' ' станции свирь' ' перово' 'высоцк' ' шум'\n",
      " ' котельский' ' станции лужайка' ' большая пустомержа' ' красносельское'\n",
      " ' вахнова кара' ' пижма' 'коттеджный  кивеннапа север' ' ромашки'\n",
      " ' каськово' ' куровицы' ' плоское' ' большая ижора' ' кирпичное'\n",
      " ' ям-тесово' ' раздолье' ' терпилицы' ' шугозеро' ' ваганово' ' пушное'\n",
      " ' садко' ' усть-ижора' ' выскатка' ' свирьстрой' ' громово' ' кисельня'\n",
      " ' трубников бор' ' высокоключевой' ' пансионат зелёный бор' ' ненимяки'\n",
      " ' снегирёвка' ' рапполово' ' пустынка' ' большой сабск' ' русско'\n",
      " ' лупполово' ' большое рейзино' ' малая романовка' ' дружноселье'\n",
      " ' пчевжа' ' володарское' ' нижняя' ' тихковицы' ' борисова грива'\n",
      " ' дзержинского']\n"
     ]
    }
   ],
   "source": [
    "#Столбец Locality_name:\n",
    "data['locality_name'] = data['locality_name'].str.lower()\n",
    "data['locality_name'] = data['locality_name'].replace('поселок городского типа', '', regex=True)\n",
    "data['locality_name'] = data['locality_name'].replace('посёлок городского типа', '', regex=True)\n",
    "data['locality_name'] = data['locality_name'].replace('городской посёлок', '', regex=True)\n",
    "data['locality_name'] = data['locality_name'].replace('коттеджный посёлок', '', regex=True)\n",
    "data['locality_name'] = data['locality_name'].replace('садовое товарищество', '', regex=True)\n",
    "data['locality_name'] = data['locality_name'].replace('посёлок', '', regex=True)\n",
    "data['locality_name'] = data['locality_name'].replace('поселок', '', regex=True)\n",
    "data['locality_name'] = data['locality_name'].replace('деревня', '', regex=True)\n",
    "data['locality_name'] = data['locality_name'].replace('село', '', regex=True)\n",
    "\n",
    "print('Уникальных значений в locality_name:', len(data['locality_name'].unique()))\n",
    "print(data['locality_name'].unique())"
   ]
  },
  {
   "cell_type": "markdown",
   "metadata": {},
   "source": [
    "Столбец Locality_name:\n",
    "\n",
    "пропущенные значения составляют 0,21%, оставим без изменений. \n",
    "\n",
    "Привел данные к нижнему регистру для удобства, а также удалил из названий населенных пунктов такие определения, как \"поселок\", \"село\" и т.д., в результате чего количество уникальных значений в стобце изменилось с 365 до 315."
   ]
  },
  {
   "cell_type": "markdown",
   "metadata": {},
   "source": [
    "<div style=\"border:solid green 2px; padding: 20px\"> \n",
    "    \n",
    "**Комментарий ревьюера**\n",
    "\n",
    "Да, перевод в нижний регистр - это важно для подобных столбцов, но не достаточно в данном случае\n",
    "    \n",
    "</div>"
   ]
  },
  {
   "cell_type": "markdown",
   "metadata": {},
   "source": [
    "Столбцы Airports_nearest, cityCenters_nearest, parks_nearest, ponds_nearest оставим без изменений, т.к. причина пропусков не ясна"
   ]
  },
  {
   "cell_type": "code",
   "execution_count": 15,
   "metadata": {},
   "outputs": [],
   "source": [
    "data['parks_around3000'] = data['parks_around3000'].fillna(0)\n",
    "data['ponds_around3000'] = data['ponds_around3000'].fillna(0)"
   ]
  },
  {
   "cell_type": "markdown",
   "metadata": {},
   "source": [
    "Столбцы parks_around3000, ponds_around3000 - замениим пропущенные значения на 0, т.к. пропуски скорее всего связаны с тем, что прудов и парков в радиусе 3 км просто нет."
   ]
  },
  {
   "cell_type": "code",
   "execution_count": 16,
   "metadata": {},
   "outputs": [],
   "source": [
    "data['days_exposition'] = data['days_exposition'].fillna(0)"
   ]
  },
  {
   "cell_type": "markdown",
   "metadata": {},
   "source": [
    "Столбец Days_exposition:\n",
    "\n",
    "Заменим пропуски на 0, т.к. пропущенные значения - непроданные квартиры и заменить их какими-лтбо данными некорректно."
   ]
  },
  {
   "cell_type": "markdown",
   "metadata": {},
   "source": [
    "<div style=\"border:solid green 2px; padding: 20px\"> \n",
    "    \n",
    "**Комментарий ревьюера**\n",
    "\n",
    "Ок, но в целом все геоданные можно оставить без заполнения\n",
    "    \n",
    "</div>"
   ]
  },
  {
   "cell_type": "code",
   "execution_count": 17,
   "metadata": {},
   "outputs": [],
   "source": [
    "#Заменим типы данных в остальных столбцах:\n",
    "data['parks_around3000'] = data['parks_around3000'].astype('int')\n",
    "data['ponds_around3000'] = data['ponds_around3000'].astype('int')\n",
    "data['last_price'] = data['last_price'].astype('int')\n",
    "data['days_exposition'] = data['days_exposition'].astype('int')"
   ]
  },
  {
   "cell_type": "code",
   "execution_count": 18,
   "metadata": {},
   "outputs": [
    {
     "name": "stdout",
     "output_type": "stream",
     "text": [
      "<class 'pandas.core.frame.DataFrame'>\n",
      "RangeIndex: 23699 entries, 0 to 23698\n",
      "Data columns (total 22 columns):\n",
      "total_images            23699 non-null int64\n",
      "last_price              23699 non-null int64\n",
      "total_area              23699 non-null float64\n",
      "first_day_exposition    23699 non-null datetime64[ns]\n",
      "rooms                   23699 non-null int64\n",
      "ceiling_height          23699 non-null float64\n",
      "floors_total            23699 non-null int64\n",
      "living_area             23699 non-null float64\n",
      "floor                   23699 non-null int64\n",
      "is_apartment            23699 non-null bool\n",
      "studio                  23699 non-null bool\n",
      "open_plan               23699 non-null bool\n",
      "kitchen_area            23699 non-null float64\n",
      "balcony                 23699 non-null int64\n",
      "locality_name           23650 non-null object\n",
      "airports_nearest        18157 non-null float64\n",
      "cityCenters_nearest     18180 non-null float64\n",
      "parks_around3000        23699 non-null int64\n",
      "parks_nearest           8079 non-null float64\n",
      "ponds_around3000        23699 non-null int64\n",
      "ponds_nearest           9110 non-null float64\n",
      "days_exposition         23699 non-null int64\n",
      "dtypes: bool(3), datetime64[ns](1), float64(8), int64(9), object(1)\n",
      "memory usage: 3.5+ MB\n"
     ]
    }
   ],
   "source": [
    "data.info()"
   ]
  },
  {
   "cell_type": "markdown",
   "metadata": {
    "scrolled": true
   },
   "source": [
    "**Вывод:**\n",
    "\n",
    "На этапе предобработки данных сделано следующее:\n",
    "<br>1)Заменены типы данных на корректные, текстовые значения приведены к нижнему регистру для удобства обработки данных в дальнейшем;<br>\n",
    "<br>2)Пропущенные значения в таких столбцах, как наличие балкона, парков и прудов в радиусе 3 км, время до продажи заменены на 0,<br>\n",
    "т.к. причина пропусков в отсутствии параметра как такового;\n",
    "<br>3)Пропущенные значения в столбце Апартаменты заменены на False, т.к. отсутствие значений связаны с тем, что квартиры не являются \n",
    "апартаментами;<br>\n",
    "<br>4)В столбцах с данными о высоте потолков, общем количестве этажей, размерах жилой площади и площади кухни заменены на средние либо \n",
    "медианные;<br>\n",
    "<br>5)Столбцы с данными о расстоянии до центра города, ближайших аэропортов, парков и т.д. оставил без изменений, т.к. эти данные \n",
    "заполняются автоматически на основе данных картографических сервисов, и вполне возможно в них присутствует ошибка в выгрузке данных, а \n",
    "также пропущенные значения в каждом из столбцов составляют более 20%, и заменить их чем-либо не представляется возможным.<br>\n",
    "<br>6)Столбец Locality_name:\n",
    "пропущенные значения составляют 0,21%, оставил без изменений. \n",
    "Привел данные к нижнему регистру для удобства, а также удалил из названий населенных пунктов такие определения, как \"поселок\", \"село\" и т.д., в результате чего количество уникальных значений в стобце изменилось с 365 до 315."
   ]
  },
  {
   "cell_type": "markdown",
   "metadata": {},
   "source": [
    "<div style=\"border:solid gold 2px; padding: 20px\"> \n",
    "    \n",
    "**Комментарий ревьюера**\n",
    "\n",
    "Лучше все же делать текстовые ячейки, а не print-ом\n",
    "    \n",
    "Также по итогу предобработки стоит вывести info, чтоб посмотреть результат.\n",
    "    \n",
    "Также можно сделать больше int столбцов. Например, все расстояния в метрах, также цена в рублях - нам не очень интересны копейки\n",
    "    \n",
    "Также не стоит забывать про дубли    \n",
    "</div>"
   ]
  },
  {
   "cell_type": "markdown",
   "metadata": {},
   "source": [
    "## Расчёты и добавление результатов в таблицу"
   ]
  },
  {
   "cell_type": "code",
   "execution_count": 19,
   "metadata": {},
   "outputs": [
    {
     "data": {
      "text/html": [
       "<div>\n",
       "<style scoped>\n",
       "    .dataframe tbody tr th:only-of-type {\n",
       "        vertical-align: middle;\n",
       "    }\n",
       "\n",
       "    .dataframe tbody tr th {\n",
       "        vertical-align: top;\n",
       "    }\n",
       "\n",
       "    .dataframe thead th {\n",
       "        text-align: right;\n",
       "    }\n",
       "</style>\n",
       "<table border=\"1\" class=\"dataframe\">\n",
       "  <thead>\n",
       "    <tr style=\"text-align: right;\">\n",
       "      <th></th>\n",
       "      <th>total_images</th>\n",
       "      <th>last_price</th>\n",
       "      <th>total_area</th>\n",
       "      <th>first_day_exposition</th>\n",
       "      <th>rooms</th>\n",
       "      <th>ceiling_height</th>\n",
       "      <th>floors_total</th>\n",
       "      <th>living_area</th>\n",
       "      <th>floor</th>\n",
       "      <th>is_apartment</th>\n",
       "      <th>...</th>\n",
       "      <th>balcony</th>\n",
       "      <th>locality_name</th>\n",
       "      <th>airports_nearest</th>\n",
       "      <th>cityCenters_nearest</th>\n",
       "      <th>parks_around3000</th>\n",
       "      <th>parks_nearest</th>\n",
       "      <th>ponds_around3000</th>\n",
       "      <th>ponds_nearest</th>\n",
       "      <th>days_exposition</th>\n",
       "      <th>price_per_meter</th>\n",
       "    </tr>\n",
       "  </thead>\n",
       "  <tbody>\n",
       "    <tr>\n",
       "      <td>0</td>\n",
       "      <td>20</td>\n",
       "      <td>13000000</td>\n",
       "      <td>108.0</td>\n",
       "      <td>2019-03-07</td>\n",
       "      <td>3</td>\n",
       "      <td>2.70</td>\n",
       "      <td>16</td>\n",
       "      <td>51.000000</td>\n",
       "      <td>8</td>\n",
       "      <td>False</td>\n",
       "      <td>...</td>\n",
       "      <td>0</td>\n",
       "      <td>санкт-петербург</td>\n",
       "      <td>18863.0</td>\n",
       "      <td>16028.0</td>\n",
       "      <td>1</td>\n",
       "      <td>482.0</td>\n",
       "      <td>2</td>\n",
       "      <td>755.0</td>\n",
       "      <td>0</td>\n",
       "      <td>120370.0</td>\n",
       "    </tr>\n",
       "    <tr>\n",
       "      <td>1</td>\n",
       "      <td>7</td>\n",
       "      <td>3350000</td>\n",
       "      <td>40.4</td>\n",
       "      <td>2018-12-04</td>\n",
       "      <td>1</td>\n",
       "      <td>2.65</td>\n",
       "      <td>11</td>\n",
       "      <td>18.600000</td>\n",
       "      <td>1</td>\n",
       "      <td>False</td>\n",
       "      <td>...</td>\n",
       "      <td>2</td>\n",
       "      <td>шушары</td>\n",
       "      <td>12817.0</td>\n",
       "      <td>18603.0</td>\n",
       "      <td>0</td>\n",
       "      <td>NaN</td>\n",
       "      <td>0</td>\n",
       "      <td>NaN</td>\n",
       "      <td>81</td>\n",
       "      <td>82921.0</td>\n",
       "    </tr>\n",
       "    <tr>\n",
       "      <td>2</td>\n",
       "      <td>10</td>\n",
       "      <td>5196000</td>\n",
       "      <td>56.0</td>\n",
       "      <td>2015-08-20</td>\n",
       "      <td>2</td>\n",
       "      <td>2.65</td>\n",
       "      <td>5</td>\n",
       "      <td>34.300000</td>\n",
       "      <td>4</td>\n",
       "      <td>False</td>\n",
       "      <td>...</td>\n",
       "      <td>0</td>\n",
       "      <td>санкт-петербург</td>\n",
       "      <td>21741.0</td>\n",
       "      <td>13933.0</td>\n",
       "      <td>1</td>\n",
       "      <td>90.0</td>\n",
       "      <td>2</td>\n",
       "      <td>574.0</td>\n",
       "      <td>558</td>\n",
       "      <td>92786.0</td>\n",
       "    </tr>\n",
       "    <tr>\n",
       "      <td>3</td>\n",
       "      <td>0</td>\n",
       "      <td>64900000</td>\n",
       "      <td>159.0</td>\n",
       "      <td>2015-07-24</td>\n",
       "      <td>3</td>\n",
       "      <td>2.65</td>\n",
       "      <td>14</td>\n",
       "      <td>34.457852</td>\n",
       "      <td>9</td>\n",
       "      <td>False</td>\n",
       "      <td>...</td>\n",
       "      <td>0</td>\n",
       "      <td>санкт-петербург</td>\n",
       "      <td>28098.0</td>\n",
       "      <td>6800.0</td>\n",
       "      <td>2</td>\n",
       "      <td>84.0</td>\n",
       "      <td>3</td>\n",
       "      <td>234.0</td>\n",
       "      <td>424</td>\n",
       "      <td>408176.0</td>\n",
       "    </tr>\n",
       "    <tr>\n",
       "      <td>4</td>\n",
       "      <td>2</td>\n",
       "      <td>10000000</td>\n",
       "      <td>100.0</td>\n",
       "      <td>2018-06-19</td>\n",
       "      <td>2</td>\n",
       "      <td>3.03</td>\n",
       "      <td>14</td>\n",
       "      <td>32.000000</td>\n",
       "      <td>13</td>\n",
       "      <td>False</td>\n",
       "      <td>...</td>\n",
       "      <td>0</td>\n",
       "      <td>санкт-петербург</td>\n",
       "      <td>31856.0</td>\n",
       "      <td>8098.0</td>\n",
       "      <td>2</td>\n",
       "      <td>112.0</td>\n",
       "      <td>1</td>\n",
       "      <td>48.0</td>\n",
       "      <td>121</td>\n",
       "      <td>100000.0</td>\n",
       "    </tr>\n",
       "  </tbody>\n",
       "</table>\n",
       "<p>5 rows × 23 columns</p>\n",
       "</div>"
      ],
      "text/plain": [
       "   total_images  last_price  total_area first_day_exposition  rooms  \\\n",
       "0            20    13000000       108.0           2019-03-07      3   \n",
       "1             7     3350000        40.4           2018-12-04      1   \n",
       "2            10     5196000        56.0           2015-08-20      2   \n",
       "3             0    64900000       159.0           2015-07-24      3   \n",
       "4             2    10000000       100.0           2018-06-19      2   \n",
       "\n",
       "   ceiling_height  floors_total  living_area  floor  is_apartment  ...  \\\n",
       "0            2.70            16    51.000000      8         False  ...   \n",
       "1            2.65            11    18.600000      1         False  ...   \n",
       "2            2.65             5    34.300000      4         False  ...   \n",
       "3            2.65            14    34.457852      9         False  ...   \n",
       "4            3.03            14    32.000000     13         False  ...   \n",
       "\n",
       "   balcony    locality_name  airports_nearest  cityCenters_nearest  \\\n",
       "0        0  санкт-петербург           18863.0              16028.0   \n",
       "1        2           шушары           12817.0              18603.0   \n",
       "2        0  санкт-петербург           21741.0              13933.0   \n",
       "3        0  санкт-петербург           28098.0               6800.0   \n",
       "4        0  санкт-петербург           31856.0               8098.0   \n",
       "\n",
       "  parks_around3000  parks_nearest  ponds_around3000  ponds_nearest  \\\n",
       "0                1          482.0                 2          755.0   \n",
       "1                0            NaN                 0            NaN   \n",
       "2                1           90.0                 2          574.0   \n",
       "3                2           84.0                 3          234.0   \n",
       "4                2          112.0                 1           48.0   \n",
       "\n",
       "   days_exposition  price_per_meter  \n",
       "0                0         120370.0  \n",
       "1               81          82921.0  \n",
       "2              558          92786.0  \n",
       "3              424         408176.0  \n",
       "4              121         100000.0  \n",
       "\n",
       "[5 rows x 23 columns]"
      ]
     },
     "metadata": {},
     "output_type": "display_data"
    }
   ],
   "source": [
    "#Посчитаем и добавим цену за кв.м.\n",
    "data['price_per_meter'] = round(data['last_price'] / data['total_area'])\n",
    "data['price_per_meter'] = data['price_per_meter'].astype('float')\n",
    "display(data.head())"
   ]
  },
  {
   "cell_type": "code",
   "execution_count": 20,
   "metadata": {},
   "outputs": [
    {
     "data": {
      "text/html": [
       "<div>\n",
       "<style scoped>\n",
       "    .dataframe tbody tr th:only-of-type {\n",
       "        vertical-align: middle;\n",
       "    }\n",
       "\n",
       "    .dataframe tbody tr th {\n",
       "        vertical-align: top;\n",
       "    }\n",
       "\n",
       "    .dataframe thead th {\n",
       "        text-align: right;\n",
       "    }\n",
       "</style>\n",
       "<table border=\"1\" class=\"dataframe\">\n",
       "  <thead>\n",
       "    <tr style=\"text-align: right;\">\n",
       "      <th></th>\n",
       "      <th>total_images</th>\n",
       "      <th>last_price</th>\n",
       "      <th>total_area</th>\n",
       "      <th>first_day_exposition</th>\n",
       "      <th>rooms</th>\n",
       "      <th>ceiling_height</th>\n",
       "      <th>floors_total</th>\n",
       "      <th>living_area</th>\n",
       "      <th>floor</th>\n",
       "      <th>is_apartment</th>\n",
       "      <th>...</th>\n",
       "      <th>cityCenters_nearest</th>\n",
       "      <th>parks_around3000</th>\n",
       "      <th>parks_nearest</th>\n",
       "      <th>ponds_around3000</th>\n",
       "      <th>ponds_nearest</th>\n",
       "      <th>days_exposition</th>\n",
       "      <th>price_per_meter</th>\n",
       "      <th>exposition_weekday</th>\n",
       "      <th>exposition_month</th>\n",
       "      <th>exposition_year</th>\n",
       "    </tr>\n",
       "  </thead>\n",
       "  <tbody>\n",
       "    <tr>\n",
       "      <td>0</td>\n",
       "      <td>20</td>\n",
       "      <td>13000000</td>\n",
       "      <td>108.0</td>\n",
       "      <td>2019-03-07</td>\n",
       "      <td>3</td>\n",
       "      <td>2.70</td>\n",
       "      <td>16</td>\n",
       "      <td>51.000000</td>\n",
       "      <td>8</td>\n",
       "      <td>False</td>\n",
       "      <td>...</td>\n",
       "      <td>16028.0</td>\n",
       "      <td>1</td>\n",
       "      <td>482.0</td>\n",
       "      <td>2</td>\n",
       "      <td>755.0</td>\n",
       "      <td>0</td>\n",
       "      <td>120370.0</td>\n",
       "      <td>3</td>\n",
       "      <td>3</td>\n",
       "      <td>2019</td>\n",
       "    </tr>\n",
       "    <tr>\n",
       "      <td>1</td>\n",
       "      <td>7</td>\n",
       "      <td>3350000</td>\n",
       "      <td>40.4</td>\n",
       "      <td>2018-12-04</td>\n",
       "      <td>1</td>\n",
       "      <td>2.65</td>\n",
       "      <td>11</td>\n",
       "      <td>18.600000</td>\n",
       "      <td>1</td>\n",
       "      <td>False</td>\n",
       "      <td>...</td>\n",
       "      <td>18603.0</td>\n",
       "      <td>0</td>\n",
       "      <td>NaN</td>\n",
       "      <td>0</td>\n",
       "      <td>NaN</td>\n",
       "      <td>81</td>\n",
       "      <td>82921.0</td>\n",
       "      <td>1</td>\n",
       "      <td>12</td>\n",
       "      <td>2018</td>\n",
       "    </tr>\n",
       "    <tr>\n",
       "      <td>2</td>\n",
       "      <td>10</td>\n",
       "      <td>5196000</td>\n",
       "      <td>56.0</td>\n",
       "      <td>2015-08-20</td>\n",
       "      <td>2</td>\n",
       "      <td>2.65</td>\n",
       "      <td>5</td>\n",
       "      <td>34.300000</td>\n",
       "      <td>4</td>\n",
       "      <td>False</td>\n",
       "      <td>...</td>\n",
       "      <td>13933.0</td>\n",
       "      <td>1</td>\n",
       "      <td>90.0</td>\n",
       "      <td>2</td>\n",
       "      <td>574.0</td>\n",
       "      <td>558</td>\n",
       "      <td>92786.0</td>\n",
       "      <td>3</td>\n",
       "      <td>8</td>\n",
       "      <td>2015</td>\n",
       "    </tr>\n",
       "    <tr>\n",
       "      <td>3</td>\n",
       "      <td>0</td>\n",
       "      <td>64900000</td>\n",
       "      <td>159.0</td>\n",
       "      <td>2015-07-24</td>\n",
       "      <td>3</td>\n",
       "      <td>2.65</td>\n",
       "      <td>14</td>\n",
       "      <td>34.457852</td>\n",
       "      <td>9</td>\n",
       "      <td>False</td>\n",
       "      <td>...</td>\n",
       "      <td>6800.0</td>\n",
       "      <td>2</td>\n",
       "      <td>84.0</td>\n",
       "      <td>3</td>\n",
       "      <td>234.0</td>\n",
       "      <td>424</td>\n",
       "      <td>408176.0</td>\n",
       "      <td>4</td>\n",
       "      <td>7</td>\n",
       "      <td>2015</td>\n",
       "    </tr>\n",
       "    <tr>\n",
       "      <td>4</td>\n",
       "      <td>2</td>\n",
       "      <td>10000000</td>\n",
       "      <td>100.0</td>\n",
       "      <td>2018-06-19</td>\n",
       "      <td>2</td>\n",
       "      <td>3.03</td>\n",
       "      <td>14</td>\n",
       "      <td>32.000000</td>\n",
       "      <td>13</td>\n",
       "      <td>False</td>\n",
       "      <td>...</td>\n",
       "      <td>8098.0</td>\n",
       "      <td>2</td>\n",
       "      <td>112.0</td>\n",
       "      <td>1</td>\n",
       "      <td>48.0</td>\n",
       "      <td>121</td>\n",
       "      <td>100000.0</td>\n",
       "      <td>1</td>\n",
       "      <td>6</td>\n",
       "      <td>2018</td>\n",
       "    </tr>\n",
       "  </tbody>\n",
       "</table>\n",
       "<p>5 rows × 26 columns</p>\n",
       "</div>"
      ],
      "text/plain": [
       "   total_images  last_price  total_area first_day_exposition  rooms  \\\n",
       "0            20    13000000       108.0           2019-03-07      3   \n",
       "1             7     3350000        40.4           2018-12-04      1   \n",
       "2            10     5196000        56.0           2015-08-20      2   \n",
       "3             0    64900000       159.0           2015-07-24      3   \n",
       "4             2    10000000       100.0           2018-06-19      2   \n",
       "\n",
       "   ceiling_height  floors_total  living_area  floor  is_apartment  ...  \\\n",
       "0            2.70            16    51.000000      8         False  ...   \n",
       "1            2.65            11    18.600000      1         False  ...   \n",
       "2            2.65             5    34.300000      4         False  ...   \n",
       "3            2.65            14    34.457852      9         False  ...   \n",
       "4            3.03            14    32.000000     13         False  ...   \n",
       "\n",
       "   cityCenters_nearest  parks_around3000  parks_nearest  ponds_around3000  \\\n",
       "0              16028.0                 1          482.0                 2   \n",
       "1              18603.0                 0            NaN                 0   \n",
       "2              13933.0                 1           90.0                 2   \n",
       "3               6800.0                 2           84.0                 3   \n",
       "4               8098.0                 2          112.0                 1   \n",
       "\n",
       "  ponds_nearest  days_exposition  price_per_meter  exposition_weekday  \\\n",
       "0         755.0                0         120370.0                   3   \n",
       "1           NaN               81          82921.0                   1   \n",
       "2         574.0              558          92786.0                   3   \n",
       "3         234.0              424         408176.0                   4   \n",
       "4          48.0              121         100000.0                   1   \n",
       "\n",
       "   exposition_month  exposition_year  \n",
       "0                 3             2019  \n",
       "1                12             2018  \n",
       "2                 8             2015  \n",
       "3                 7             2015  \n",
       "4                 6             2018  \n",
       "\n",
       "[5 rows x 26 columns]"
      ]
     },
     "metadata": {},
     "output_type": "display_data"
    }
   ],
   "source": [
    "#Добавим день недели, месяц и год публикации объявления:\n",
    "data['exposition_weekday'] = data['first_day_exposition'].dt.weekday\n",
    "data['exposition_month'] = data['first_day_exposition'].dt.month\n",
    "data['exposition_year'] = data['first_day_exposition'].dt.year\n",
    "display(data.head())"
   ]
  },
  {
   "cell_type": "code",
   "execution_count": 21,
   "metadata": {},
   "outputs": [
    {
     "data": {
      "text/html": [
       "<div>\n",
       "<style scoped>\n",
       "    .dataframe tbody tr th:only-of-type {\n",
       "        vertical-align: middle;\n",
       "    }\n",
       "\n",
       "    .dataframe tbody tr th {\n",
       "        vertical-align: top;\n",
       "    }\n",
       "\n",
       "    .dataframe thead th {\n",
       "        text-align: right;\n",
       "    }\n",
       "</style>\n",
       "<table border=\"1\" class=\"dataframe\">\n",
       "  <thead>\n",
       "    <tr style=\"text-align: right;\">\n",
       "      <th></th>\n",
       "      <th>total_images</th>\n",
       "      <th>last_price</th>\n",
       "      <th>total_area</th>\n",
       "      <th>first_day_exposition</th>\n",
       "      <th>rooms</th>\n",
       "      <th>ceiling_height</th>\n",
       "      <th>floors_total</th>\n",
       "      <th>living_area</th>\n",
       "      <th>floor</th>\n",
       "      <th>is_apartment</th>\n",
       "      <th>...</th>\n",
       "      <th>parks_around3000</th>\n",
       "      <th>parks_nearest</th>\n",
       "      <th>ponds_around3000</th>\n",
       "      <th>ponds_nearest</th>\n",
       "      <th>days_exposition</th>\n",
       "      <th>price_per_meter</th>\n",
       "      <th>exposition_weekday</th>\n",
       "      <th>exposition_month</th>\n",
       "      <th>exposition_year</th>\n",
       "      <th>floor_group</th>\n",
       "    </tr>\n",
       "  </thead>\n",
       "  <tbody>\n",
       "    <tr>\n",
       "      <td>0</td>\n",
       "      <td>20</td>\n",
       "      <td>13000000</td>\n",
       "      <td>108.0</td>\n",
       "      <td>2019-03-07</td>\n",
       "      <td>3</td>\n",
       "      <td>2.70</td>\n",
       "      <td>16</td>\n",
       "      <td>51.000000</td>\n",
       "      <td>8</td>\n",
       "      <td>False</td>\n",
       "      <td>...</td>\n",
       "      <td>1</td>\n",
       "      <td>482.0</td>\n",
       "      <td>2</td>\n",
       "      <td>755.0</td>\n",
       "      <td>0</td>\n",
       "      <td>120370.0</td>\n",
       "      <td>3</td>\n",
       "      <td>3</td>\n",
       "      <td>2019</td>\n",
       "      <td>другой</td>\n",
       "    </tr>\n",
       "    <tr>\n",
       "      <td>1</td>\n",
       "      <td>7</td>\n",
       "      <td>3350000</td>\n",
       "      <td>40.4</td>\n",
       "      <td>2018-12-04</td>\n",
       "      <td>1</td>\n",
       "      <td>2.65</td>\n",
       "      <td>11</td>\n",
       "      <td>18.600000</td>\n",
       "      <td>1</td>\n",
       "      <td>False</td>\n",
       "      <td>...</td>\n",
       "      <td>0</td>\n",
       "      <td>NaN</td>\n",
       "      <td>0</td>\n",
       "      <td>NaN</td>\n",
       "      <td>81</td>\n",
       "      <td>82921.0</td>\n",
       "      <td>1</td>\n",
       "      <td>12</td>\n",
       "      <td>2018</td>\n",
       "      <td>первый</td>\n",
       "    </tr>\n",
       "    <tr>\n",
       "      <td>2</td>\n",
       "      <td>10</td>\n",
       "      <td>5196000</td>\n",
       "      <td>56.0</td>\n",
       "      <td>2015-08-20</td>\n",
       "      <td>2</td>\n",
       "      <td>2.65</td>\n",
       "      <td>5</td>\n",
       "      <td>34.300000</td>\n",
       "      <td>4</td>\n",
       "      <td>False</td>\n",
       "      <td>...</td>\n",
       "      <td>1</td>\n",
       "      <td>90.0</td>\n",
       "      <td>2</td>\n",
       "      <td>574.0</td>\n",
       "      <td>558</td>\n",
       "      <td>92786.0</td>\n",
       "      <td>3</td>\n",
       "      <td>8</td>\n",
       "      <td>2015</td>\n",
       "      <td>другой</td>\n",
       "    </tr>\n",
       "    <tr>\n",
       "      <td>3</td>\n",
       "      <td>0</td>\n",
       "      <td>64900000</td>\n",
       "      <td>159.0</td>\n",
       "      <td>2015-07-24</td>\n",
       "      <td>3</td>\n",
       "      <td>2.65</td>\n",
       "      <td>14</td>\n",
       "      <td>34.457852</td>\n",
       "      <td>9</td>\n",
       "      <td>False</td>\n",
       "      <td>...</td>\n",
       "      <td>2</td>\n",
       "      <td>84.0</td>\n",
       "      <td>3</td>\n",
       "      <td>234.0</td>\n",
       "      <td>424</td>\n",
       "      <td>408176.0</td>\n",
       "      <td>4</td>\n",
       "      <td>7</td>\n",
       "      <td>2015</td>\n",
       "      <td>другой</td>\n",
       "    </tr>\n",
       "    <tr>\n",
       "      <td>4</td>\n",
       "      <td>2</td>\n",
       "      <td>10000000</td>\n",
       "      <td>100.0</td>\n",
       "      <td>2018-06-19</td>\n",
       "      <td>2</td>\n",
       "      <td>3.03</td>\n",
       "      <td>14</td>\n",
       "      <td>32.000000</td>\n",
       "      <td>13</td>\n",
       "      <td>False</td>\n",
       "      <td>...</td>\n",
       "      <td>2</td>\n",
       "      <td>112.0</td>\n",
       "      <td>1</td>\n",
       "      <td>48.0</td>\n",
       "      <td>121</td>\n",
       "      <td>100000.0</td>\n",
       "      <td>1</td>\n",
       "      <td>6</td>\n",
       "      <td>2018</td>\n",
       "      <td>другой</td>\n",
       "    </tr>\n",
       "  </tbody>\n",
       "</table>\n",
       "<p>5 rows × 27 columns</p>\n",
       "</div>"
      ],
      "text/plain": [
       "   total_images  last_price  total_area first_day_exposition  rooms  \\\n",
       "0            20    13000000       108.0           2019-03-07      3   \n",
       "1             7     3350000        40.4           2018-12-04      1   \n",
       "2            10     5196000        56.0           2015-08-20      2   \n",
       "3             0    64900000       159.0           2015-07-24      3   \n",
       "4             2    10000000       100.0           2018-06-19      2   \n",
       "\n",
       "   ceiling_height  floors_total  living_area  floor  is_apartment  ...  \\\n",
       "0            2.70            16    51.000000      8         False  ...   \n",
       "1            2.65            11    18.600000      1         False  ...   \n",
       "2            2.65             5    34.300000      4         False  ...   \n",
       "3            2.65            14    34.457852      9         False  ...   \n",
       "4            3.03            14    32.000000     13         False  ...   \n",
       "\n",
       "   parks_around3000  parks_nearest  ponds_around3000  ponds_nearest  \\\n",
       "0                 1          482.0                 2          755.0   \n",
       "1                 0            NaN                 0            NaN   \n",
       "2                 1           90.0                 2          574.0   \n",
       "3                 2           84.0                 3          234.0   \n",
       "4                 2          112.0                 1           48.0   \n",
       "\n",
       "  days_exposition  price_per_meter  exposition_weekday  exposition_month  \\\n",
       "0               0         120370.0                   3                 3   \n",
       "1              81          82921.0                   1                12   \n",
       "2             558          92786.0                   3                 8   \n",
       "3             424         408176.0                   4                 7   \n",
       "4             121         100000.0                   1                 6   \n",
       "\n",
       "   exposition_year  floor_group  \n",
       "0             2019       другой  \n",
       "1             2018       первый  \n",
       "2             2015       другой  \n",
       "3             2015       другой  \n",
       "4             2018       другой  \n",
       "\n",
       "[5 rows x 27 columns]"
      ]
     },
     "metadata": {},
     "output_type": "display_data"
    }
   ],
   "source": [
    "#Добавим этаж квартиры; варианты — первый, последний, другой:\n",
    "def floor_group(data):\n",
    "    if data['floor'] == 1:\n",
    "        return 'первый'\n",
    "    elif data['floor'] == data['floors_total']:\n",
    "        return 'последний'\n",
    "    else:\n",
    "        return 'другой'\n",
    "\n",
    "data['floor_group'] = data.apply(floor_group, axis=1)\n",
    "display(data.head())"
   ]
  },
  {
   "cell_type": "code",
   "execution_count": 22,
   "metadata": {},
   "outputs": [
    {
     "data": {
      "text/html": [
       "<div>\n",
       "<style scoped>\n",
       "    .dataframe tbody tr th:only-of-type {\n",
       "        vertical-align: middle;\n",
       "    }\n",
       "\n",
       "    .dataframe tbody tr th {\n",
       "        vertical-align: top;\n",
       "    }\n",
       "\n",
       "    .dataframe thead th {\n",
       "        text-align: right;\n",
       "    }\n",
       "</style>\n",
       "<table border=\"1\" class=\"dataframe\">\n",
       "  <thead>\n",
       "    <tr style=\"text-align: right;\">\n",
       "      <th></th>\n",
       "      <th>total_images</th>\n",
       "      <th>last_price</th>\n",
       "      <th>total_area</th>\n",
       "      <th>first_day_exposition</th>\n",
       "      <th>rooms</th>\n",
       "      <th>ceiling_height</th>\n",
       "      <th>floors_total</th>\n",
       "      <th>living_area</th>\n",
       "      <th>floor</th>\n",
       "      <th>is_apartment</th>\n",
       "      <th>...</th>\n",
       "      <th>ponds_around3000</th>\n",
       "      <th>ponds_nearest</th>\n",
       "      <th>days_exposition</th>\n",
       "      <th>price_per_meter</th>\n",
       "      <th>exposition_weekday</th>\n",
       "      <th>exposition_month</th>\n",
       "      <th>exposition_year</th>\n",
       "      <th>floor_group</th>\n",
       "      <th>living_area_ratio</th>\n",
       "      <th>kitchen_area_ratio</th>\n",
       "    </tr>\n",
       "  </thead>\n",
       "  <tbody>\n",
       "    <tr>\n",
       "      <td>0</td>\n",
       "      <td>20</td>\n",
       "      <td>13000000</td>\n",
       "      <td>108.0</td>\n",
       "      <td>2019-03-07</td>\n",
       "      <td>3</td>\n",
       "      <td>2.70</td>\n",
       "      <td>16</td>\n",
       "      <td>51.000000</td>\n",
       "      <td>8</td>\n",
       "      <td>False</td>\n",
       "      <td>...</td>\n",
       "      <td>2</td>\n",
       "      <td>755.0</td>\n",
       "      <td>0</td>\n",
       "      <td>120370.0</td>\n",
       "      <td>3</td>\n",
       "      <td>3</td>\n",
       "      <td>2019</td>\n",
       "      <td>другой</td>\n",
       "      <td>0.47</td>\n",
       "      <td>0.23</td>\n",
       "    </tr>\n",
       "    <tr>\n",
       "      <td>1</td>\n",
       "      <td>7</td>\n",
       "      <td>3350000</td>\n",
       "      <td>40.4</td>\n",
       "      <td>2018-12-04</td>\n",
       "      <td>1</td>\n",
       "      <td>2.65</td>\n",
       "      <td>11</td>\n",
       "      <td>18.600000</td>\n",
       "      <td>1</td>\n",
       "      <td>False</td>\n",
       "      <td>...</td>\n",
       "      <td>0</td>\n",
       "      <td>NaN</td>\n",
       "      <td>81</td>\n",
       "      <td>82921.0</td>\n",
       "      <td>1</td>\n",
       "      <td>12</td>\n",
       "      <td>2018</td>\n",
       "      <td>первый</td>\n",
       "      <td>0.46</td>\n",
       "      <td>0.27</td>\n",
       "    </tr>\n",
       "    <tr>\n",
       "      <td>2</td>\n",
       "      <td>10</td>\n",
       "      <td>5196000</td>\n",
       "      <td>56.0</td>\n",
       "      <td>2015-08-20</td>\n",
       "      <td>2</td>\n",
       "      <td>2.65</td>\n",
       "      <td>5</td>\n",
       "      <td>34.300000</td>\n",
       "      <td>4</td>\n",
       "      <td>False</td>\n",
       "      <td>...</td>\n",
       "      <td>2</td>\n",
       "      <td>574.0</td>\n",
       "      <td>558</td>\n",
       "      <td>92786.0</td>\n",
       "      <td>3</td>\n",
       "      <td>8</td>\n",
       "      <td>2015</td>\n",
       "      <td>другой</td>\n",
       "      <td>0.61</td>\n",
       "      <td>0.15</td>\n",
       "    </tr>\n",
       "    <tr>\n",
       "      <td>3</td>\n",
       "      <td>0</td>\n",
       "      <td>64900000</td>\n",
       "      <td>159.0</td>\n",
       "      <td>2015-07-24</td>\n",
       "      <td>3</td>\n",
       "      <td>2.65</td>\n",
       "      <td>14</td>\n",
       "      <td>34.457852</td>\n",
       "      <td>9</td>\n",
       "      <td>False</td>\n",
       "      <td>...</td>\n",
       "      <td>3</td>\n",
       "      <td>234.0</td>\n",
       "      <td>424</td>\n",
       "      <td>408176.0</td>\n",
       "      <td>4</td>\n",
       "      <td>7</td>\n",
       "      <td>2015</td>\n",
       "      <td>другой</td>\n",
       "      <td>0.22</td>\n",
       "      <td>0.07</td>\n",
       "    </tr>\n",
       "    <tr>\n",
       "      <td>4</td>\n",
       "      <td>2</td>\n",
       "      <td>10000000</td>\n",
       "      <td>100.0</td>\n",
       "      <td>2018-06-19</td>\n",
       "      <td>2</td>\n",
       "      <td>3.03</td>\n",
       "      <td>14</td>\n",
       "      <td>32.000000</td>\n",
       "      <td>13</td>\n",
       "      <td>False</td>\n",
       "      <td>...</td>\n",
       "      <td>1</td>\n",
       "      <td>48.0</td>\n",
       "      <td>121</td>\n",
       "      <td>100000.0</td>\n",
       "      <td>1</td>\n",
       "      <td>6</td>\n",
       "      <td>2018</td>\n",
       "      <td>другой</td>\n",
       "      <td>0.32</td>\n",
       "      <td>0.41</td>\n",
       "    </tr>\n",
       "  </tbody>\n",
       "</table>\n",
       "<p>5 rows × 29 columns</p>\n",
       "</div>"
      ],
      "text/plain": [
       "   total_images  last_price  total_area first_day_exposition  rooms  \\\n",
       "0            20    13000000       108.0           2019-03-07      3   \n",
       "1             7     3350000        40.4           2018-12-04      1   \n",
       "2            10     5196000        56.0           2015-08-20      2   \n",
       "3             0    64900000       159.0           2015-07-24      3   \n",
       "4             2    10000000       100.0           2018-06-19      2   \n",
       "\n",
       "   ceiling_height  floors_total  living_area  floor  is_apartment  ...  \\\n",
       "0            2.70            16    51.000000      8         False  ...   \n",
       "1            2.65            11    18.600000      1         False  ...   \n",
       "2            2.65             5    34.300000      4         False  ...   \n",
       "3            2.65            14    34.457852      9         False  ...   \n",
       "4            3.03            14    32.000000     13         False  ...   \n",
       "\n",
       "   ponds_around3000  ponds_nearest  days_exposition  price_per_meter  \\\n",
       "0                 2          755.0                0         120370.0   \n",
       "1                 0            NaN               81          82921.0   \n",
       "2                 2          574.0              558          92786.0   \n",
       "3                 3          234.0              424         408176.0   \n",
       "4                 1           48.0              121         100000.0   \n",
       "\n",
       "  exposition_weekday  exposition_month  exposition_year  floor_group  \\\n",
       "0                  3                 3             2019       другой   \n",
       "1                  1                12             2018       первый   \n",
       "2                  3                 8             2015       другой   \n",
       "3                  4                 7             2015       другой   \n",
       "4                  1                 6             2018       другой   \n",
       "\n",
       "   living_area_ratio  kitchen_area_ratio  \n",
       "0               0.47                0.23  \n",
       "1               0.46                0.27  \n",
       "2               0.61                0.15  \n",
       "3               0.22                0.07  \n",
       "4               0.32                0.41  \n",
       "\n",
       "[5 rows x 29 columns]"
      ]
     },
     "metadata": {},
     "output_type": "display_data"
    }
   ],
   "source": [
    "#Добавим соотношение жилой и общей площади, а также отношение площади кухни к общей:\n",
    "data['living_area_ratio'] = round(data['living_area'] / data['total_area'],2)\n",
    "data['kitchen_area_ratio'] = round(data['kitchen_area'] / data['total_area'],2)\n",
    "display(data.head())"
   ]
  },
  {
   "cell_type": "markdown",
   "metadata": {},
   "source": [
    "<div style=\"border:solid green 2px; padding: 20px\"> \n",
    "    \n",
    "**Комментарий ревьюера**\n",
    "\n",
    "Ок, данные готовы к анализу\n",
    "    \n",
    "</div>"
   ]
  },
  {
   "cell_type": "markdown",
   "metadata": {},
   "source": [
    "\n",
    "## Исследовательский анализ данных"
   ]
  },
  {
   "cell_type": "code",
   "execution_count": 124,
   "metadata": {},
   "outputs": [
    {
     "data": {
      "text/plain": [
       "count    23699.000000\n",
       "mean        60.348651\n",
       "std         35.654083\n",
       "min         12.000000\n",
       "25%         40.000000\n",
       "50%         52.000000\n",
       "75%         69.900000\n",
       "max        900.000000\n",
       "Name: total_area, dtype: float64"
      ]
     },
     "execution_count": 124,
     "metadata": {},
     "output_type": "execute_result"
    },
    {
     "data": {
      "image/png": "[encoded data removed]",
      "text/plain": [
       "<Figure size 432x288 with 1 Axes>"
      ]
     },
     "metadata": {
      "needs_background": "light"
     },
     "output_type": "display_data"
    }
   ],
   "source": [
    "#Изучите следующие параметры: площадь, цена, число комнат, высота потолков. Постройте гистограммы для каждого параметра.\n",
    "data['total_area'].hist(bins=100, range=(20, 200))\n",
    "data['total_area'].describe()"
   ]
  },
  {
   "cell_type": "code",
   "execution_count": 19,
   "metadata": {},
   "outputs": [
    {
     "data": {
      "text/plain": [
       "count    2.369900e+04\n",
       "mean     6.541549e+06\n",
       "std      1.088701e+07\n",
       "min      1.219000e+04\n",
       "25%      3.400000e+06\n",
       "50%      4.650000e+06\n",
       "75%      6.800000e+06\n",
       "max      7.630000e+08\n",
       "Name: last_price, dtype: float64"
      ]
     },
     "execution_count": 19,
     "metadata": {},
     "output_type": "execute_result"
    },
    {
     "data": {
      "image/png": "[encoded data removed]",
      "text/plain": [
       "<Figure size 432x288 with 1 Axes>"
      ]
     },
     "metadata": {
      "needs_background": "light"
     },
     "output_type": "display_data"
    }
   ],
   "source": [
    "data['last_price'] = data['last_price'].astype('int')\n",
    "data['last_price'].min()\n",
    "data['last_price'].max()\n",
    "data['last_price'].hist(bins=100, range=(100000, 20000000))\n",
    "data['last_price'].describe()"
   ]
  },
  {
   "cell_type": "code",
   "execution_count": 20,
   "metadata": {},
   "outputs": [
    {
     "data": {
      "text/plain": [
       "1     8047\n",
       "2     7940\n",
       "3     5814\n",
       "4     1180\n",
       "5      326\n",
       "0      197\n",
       "6      105\n",
       "7       59\n",
       "8       12\n",
       "9        8\n",
       "10       3\n",
       "14       2\n",
       "11       2\n",
       "19       1\n",
       "12       1\n",
       "16       1\n",
       "15       1\n",
       "Name: rooms, dtype: int64"
      ]
     },
     "execution_count": 20,
     "metadata": {},
     "output_type": "execute_result"
    },
    {
     "data": {
      "image/png": "[encoded data removed]",
      "text/plain": [
       "<Figure size 432x288 with 1 Axes>"
      ]
     },
     "metadata": {
      "needs_background": "light"
     },
     "output_type": "display_data"
    }
   ],
   "source": [
    "data['rooms'].describe()\n",
    "data['rooms'].hist(bins=100)\n",
    "data['rooms'].describe()\n",
    "data['rooms'].value_counts()"
   ]
  },
  {
   "cell_type": "code",
   "execution_count": 21,
   "metadata": {},
   "outputs": [
    {
     "data": {
      "text/plain": [
       "count    23699.000000\n",
       "mean         2.724358\n",
       "std          0.988298\n",
       "min          1.000000\n",
       "25%          2.600000\n",
       "50%          2.650000\n",
       "75%          2.700000\n",
       "max        100.000000\n",
       "Name: ceiling_height, dtype: float64"
      ]
     },
     "execution_count": 21,
     "metadata": {},
     "output_type": "execute_result"
    },
    {
     "data": {
      "image/png": "[encoded data removed]",
      "text/plain": [
       "<Figure size 432x288 with 1 Axes>"
      ]
     },
     "metadata": {
      "needs_background": "light"
     },
     "output_type": "display_data"
    }
   ],
   "source": [
    "data['ceiling_height'].value_counts()\n",
    "data['ceiling_height'].describe()\n",
    "data['ceiling_height'].hist(bins=100, range=(1,5))\n",
    "data['ceiling_height'].describe()"
   ]
  },
  {
   "cell_type": "markdown",
   "metadata": {},
   "source": [
    "<div style=\"border:solid green 2px; padding: 20px\"> \n",
    "    \n",
    "**Комментарий ревьюера**\n",
    "\n",
    "Здесь хорошо все сделано. Немного более профессионально было бы сделать функцию для отображения, в которую запаковать необходимый набор для просмотра, например, гистограмма - discribe - value_counts - boxplot. И этой фунцией пройтись по всем необходимым столбцам\n",
    "    \n",
    "</div>"
   ]
  },
  {
   "cell_type": "markdown",
   "metadata": {},
   "source": [
    "**Вывод:**<br>\n",
    "1)Минимальная площадь квартиры - 12 кв.м., а максимаальная - 900 кв.м. Средняя площадь - 60 кв.м., медиана - 52 кв.м.<br>\n",
    "2)Построил гистограмму для квартир от 20 до 200 кв.м. для лучшей наглядности, т.к. квартир меньше 20 кв.м. и больше 200 кв.м. очень мало.<br>\n",
    "3)Минимальная цена - 12190 руб, максимальная - 763000000 руб. Средняя цена - 6541549 руб., медиана - 4650000 руб.<br>\n",
    "4)Построил гистрограмму с ценами от 100 тыс руб, до 20 млн руб.\n",
    "Количество комнат колеблется от 1 до 19, больше всего 1-комнатных квартир - 8047 шт., среднее и медиана совпдаают- 2 комнаты.<br>\n",
    "5)Также присутствуют такие неверные данные, как 197 квартир, у которых 0 комнат.<br>\n",
    "6)В данных по высоте потолков есть аномальные значения от 20 до 100 м., но их слишком мало, и скорее всего они связаны с неправильной расстановкой разделителя (например, вместо значения 2,5 м. указана высота 25 м., т.к. высота 25 м. наблюдается у стандартных 5-этажных домов, у которых стандартная высота потолков 2,5 м.). Т.к. таких выбросов слишком мало, оставим без изменений.<br>\n",
    "7)Средняя высота потолков- 2,72 м., медиана - 2,65 м.\"\"\")"
   ]
  },
  {
   "cell_type": "markdown",
   "metadata": {},
   "source": [
    "**Изучите время продажи квартиры. Постройте гистограмму.<br>\n",
    "Посчитайте среднее и медиану. Опишите, сколько обычно занимает продажа.<br>\n",
    "Когда можно считать, что продажи прошли очень быстро, а когда необычно долго?**"
   ]
  },
  {
   "cell_type": "code",
   "execution_count": 35,
   "metadata": {},
   "outputs": [
    {
     "data": {
      "text/plain": [
       "45      880\n",
       "60      538\n",
       "7       234\n",
       "30      208\n",
       "90      204\n",
       "       ... \n",
       "807       1\n",
       "871       1\n",
       "951       1\n",
       "999       1\n",
       "1223      1\n",
       "Name: days_exposition, Length: 1141, dtype: int64"
      ]
     },
     "execution_count": 35,
     "metadata": {},
     "output_type": "execute_result"
    },
    {
     "data": {
      "image/png": "[encoded data removed]",
      "text/plain": [
       "<Figure size 432x288 with 1 Axes>"
      ]
     },
     "metadata": {
      "needs_background": "light"
     },
     "output_type": "display_data"
    }
   ],
   "source": [
    "#Построим гистограмму времени продажи квартиры (без нулевых значений):\n",
    "#data['days_exposition'].hist(bins=100)\n",
    "data['days_exposition'].hist(bins=100, range=(1,600))\n",
    "#data['days_exposition'].hist(bins=100, range=(1,200))\n",
    "data[data['days_exposition']!=0]['days_exposition'].value_counts()"
   ]
  },
  {
   "cell_type": "code",
   "execution_count": 44,
   "metadata": {},
   "outputs": [
    {
     "data": {
      "text/plain": [
       "count    20518.000000\n",
       "mean       180.888634\n",
       "std        219.727988\n",
       "min          1.000000\n",
       "25%         45.000000\n",
       "50%         95.000000\n",
       "75%        232.000000\n",
       "max       1580.000000\n",
       "Name: days_exposition, dtype: float64"
      ]
     },
     "execution_count": 44,
     "metadata": {},
     "output_type": "execute_result"
    },
    {
     "data": {
      "image/png": "[encoded data removed]",
      "text/plain": [
       "<Figure size 432x288 with 1 Axes>"
      ]
     },
     "metadata": {
      "needs_background": "light"
     },
     "output_type": "display_data"
    }
   ],
   "source": [
    "plt.boxplot(data[data['days_exposition']!=0]['days_exposition'])\n",
    "plt.ylim(1,600)\n",
    "data[data['days_exposition']!=0]['days_exposition'].describe()\n",
    "#Среднее значеие - 180 дней, медиана - 95 дней\n",
    "#Нормальные значения по времени продажи - от 1 до 500 дней(согласно диаграмме размаха)\n",
    "#Длительность продажи свыше 500 дней - необычно долгие значения."
   ]
  },
  {
   "cell_type": "markdown",
   "metadata": {},
   "source": [
    "<div style=\"border:solid green 2px; padding: 20px\"> \n",
    "    \n",
    "**Комментарий ревьюера**\n",
    "\n",
    "Все необходимые библиотеки лучше подгружать в свмом начале проекта. Это во-первых сразу даст понять какие быблиотеки необходимы для отработки проекта, во-вторых, исключит случайное удаление ячейки с необходимым импортом\n",
    "    \n",
    "</div>"
   ]
  },
  {
   "cell_type": "markdown",
   "metadata": {},
   "source": [
    "**Вывод:**<br>\n",
    "Среднее значеие - 180 дней<br>\n",
    "Медиана - 95 дней.<br>\n",
    "Нормальные значения по времени продажи - от 1 до 500 дней(согласно диаграмме \n",
    "размаха). Длительность продажи свыше 500 дней - необычно долгие значения."
   ]
  },
  {
   "cell_type": "code",
   "execution_count": 50,
   "metadata": {},
   "outputs": [
    {
     "data": {
      "text/plain": [
       "<matplotlib.axes._subplots.AxesSubplot at 0x7f601eff1790>"
      ]
     },
     "execution_count": 50,
     "metadata": {},
     "output_type": "execute_result"
    },
    {
     "data": {
      "image/png": "[encoded data removed]",
      "text/plain": [
       "<Figure size 432x288 with 1 Axes>"
      ]
     },
     "metadata": {
      "needs_background": "light"
     },
     "output_type": "display_data"
    }
   ],
   "source": [
    "#Уберите редкие и выбивающиеся значения. Опишите, какие особенности обнаружили.\n",
    "\n",
    "#Создадим датафрейм без аномальных значений свыше 500 дней и 0 дней:\n",
    "data_clear = data.query('days_exposition < 500 and days_exposition != 0')\n",
    "data_clear['days_exposition'].value_counts()\n",
    "data_clear['days_exposition'].hist(bins=100, range=(1,600))"
   ]
  },
  {
   "cell_type": "code",
   "execution_count": 52,
   "metadata": {},
   "outputs": [
    {
     "data": {
      "text/plain": [
       "count    18764.000000\n",
       "mean       127.045726\n",
       "std        119.120186\n",
       "min          1.000000\n",
       "25%         41.000000\n",
       "50%         84.000000\n",
       "75%        181.000000\n",
       "max        499.000000\n",
       "Name: days_exposition, dtype: float64"
      ]
     },
     "execution_count": 52,
     "metadata": {},
     "output_type": "execute_result"
    },
    {
     "data": {
      "image/png": "[encoded data removed]",
      "text/plain": [
       "<Figure size 432x288 with 1 Axes>"
      ]
     },
     "metadata": {
      "needs_background": "light"
     },
     "output_type": "display_data"
    }
   ],
   "source": [
    "#Построим диаграмму размаха и узнаем среднее, медиану:\n",
    "plt.boxplot(data_clear['days_exposition'])\n",
    "plt.ylim(1,600)\n",
    "data_clear['days_exposition'].describe()"
   ]
  },
  {
   "cell_type": "markdown",
   "metadata": {},
   "source": [
    "**Вывод:**<br>\n",
    "В данных без аномальных значений получились следующие результаты:<br>\n",
    "Среднее значение - 127 дней (было 180 дней)<br>\n",
    "Медиана - 84 дня (было 95 дней)<br>\n",
    "Соответственно поменялись и нормальные значения - от 1 до 400 дней."
   ]
  },
  {
   "cell_type": "markdown",
   "metadata": {},
   "source": [
    "<div style=\"border:solid red 2px; padding: 20px\"> \n",
    "    \n",
    "**Комментарий ревьюера**\n",
    "\n",
    "Эта часть не совсем верно сделана.\n",
    "\n",
    "Во-первых, аномалии надо удалять не только из дней публикации, а из всех столбцов\n",
    "\n",
    "Во-вторых, что касается дней - не верно удалять самые распространенные количества дней. Посмотри, какое количество данных мы удалили. Аномалии - это редкие значения, которые не вписываются в общую картину и которые зашумляют данные, искажают кореляцию. Общий процент отброшенных аномалий не должен быть более 5%\n",
    "    \n",
    "</div>"
   ]
  },
  {
   "cell_type": "markdown",
   "metadata": {},
   "source": [
    "<div style=\"border:solid green 2px; padding: 20px\"> \n",
    "    \n",
    "**Комментарий ревьюера - 2**\n",
    "\n",
    "Ок, теперь верно.\n",
    "    \n",
    "</div>"
   ]
  },
  {
   "cell_type": "markdown",
   "metadata": {},
   "source": [
    "**Какие факторы больше всего влияют на стоимость квартиры? <br>\n",
    "Изучите, зависит ли цена от площади, числа комнат, удалённости от центра. <br>\n",
    "Изучите зависимость цены от того, на каком этаже расположена квартира: первом, последнем или другом. <br>\n",
    "Также изучите зависимость от даты размещения: дня недели, месяца и года.<br>**"
   ]
  },
  {
   "cell_type": "code",
   "execution_count": 68,
   "metadata": {},
   "outputs": [
    {
     "name": "stdout",
     "output_type": "stream",
     "text": [
      "                     total_area     rooms  cityCenters_nearest  \\\n",
      "total_area             1.000000  0.755817            -0.212964   \n",
      "rooms                  0.755817  1.000000            -0.170995   \n",
      "cityCenters_nearest   -0.212964 -0.170995             1.000000   \n",
      "price_per_meter        0.285568  0.040306            -0.313847   \n",
      "\n",
      "                     price_per_meter  \n",
      "total_area                  0.285568  \n",
      "rooms                       0.040306  \n",
      "cityCenters_nearest        -0.313847  \n",
      "price_per_meter             1.000000  \n"
     ]
    },
    {
     "data": {
      "text/plain": [
       "array([[<matplotlib.axes._subplots.AxesSubplot object at 0x7f601d658d50>,\n",
       "        <matplotlib.axes._subplots.AxesSubplot object at 0x7f601d731c50>,\n",
       "        <matplotlib.axes._subplots.AxesSubplot object at 0x7f601d6a1910>,\n",
       "        <matplotlib.axes._subplots.AxesSubplot object at 0x7f601d6fac90>],\n",
       "       [<matplotlib.axes._subplots.AxesSubplot object at 0x7f601d6cb950>,\n",
       "        <matplotlib.axes._subplots.AxesSubplot object at 0x7f601d519cd0>,\n",
       "        <matplotlib.axes._subplots.AxesSubplot object at 0x7f601d4cf990>,\n",
       "        <matplotlib.axes._subplots.AxesSubplot object at 0x7f601d48c1d0>],\n",
       "       [<matplotlib.axes._subplots.AxesSubplot object at 0x7f601d48cd10>,\n",
       "        <matplotlib.axes._subplots.AxesSubplot object at 0x7f601d44e6d0>,\n",
       "        <matplotlib.axes._subplots.AxesSubplot object at 0x7f601d3b9a10>,\n",
       "        <matplotlib.axes._subplots.AxesSubplot object at 0x7f601d378d90>],\n",
       "       [<matplotlib.axes._subplots.AxesSubplot object at 0x7f601d32fa50>,\n",
       "        <matplotlib.axes._subplots.AxesSubplot object at 0x7f601d2eedd0>,\n",
       "        <matplotlib.axes._subplots.AxesSubplot object at 0x7f601d324a90>,\n",
       "        <matplotlib.axes._subplots.AxesSubplot object at 0x7f601d2e3e10>]],\n",
       "      dtype=object)"
      ]
     },
     "execution_count": 68,
     "metadata": {},
     "output_type": "execute_result"
    },
    {
     "data": {
      "image/png": "[encoded data removed]",
      "text/plain": [
       "<Figure size 576x576 with 16 Axes>"
      ]
     },
     "metadata": {
      "needs_background": "light"
     },
     "output_type": "display_data"
    }
   ],
   "source": [
    "#Изучим зависимость цены от площади, числа комнат, удаленности от центра:\n",
    "price_corr = data_clear.loc[:, ['total_area', 'rooms', 'cityCenters_nearest', 'price_per_meter']]\n",
    "print(price_corr.corr())\n",
    "pd.plotting.scatter_matrix(price_corr, figsize=(8,8))"
   ]
  },
  {
   "cell_type": "markdown",
   "metadata": {},
   "source": [
    "**Выводы:**<br>\n",
    "Зависимость цены за кв.м. от общей площади квартиры незначительна (0,28 по корреляции).<br>\n",
    "Самые дорогие квартиры - 2, 3 и 4-х и 5-комнатные, с ростом кол-ва комнат цена за кв.м. снижается.<br>\n",
    "Чем дальше квартира находится от центра города, тем ниже цена за квадратный метр."
   ]
  },
  {
   "cell_type": "code",
   "execution_count": 59,
   "metadata": {},
   "outputs": [
    {
     "name": "stdout",
     "output_type": "stream",
     "text": [
      "             price_per_meter\n",
      "floor_group                 \n",
      "другой               96939.0\n",
      "первый               80435.0\n",
      "последний            87531.5\n"
     ]
    },
    {
     "data": {
      "image/png": "[encoded data removed]",
      "text/plain": [
       "<Figure size 432x288 with 1 Axes>"
      ]
     },
     "metadata": {
      "needs_background": "light"
     },
     "output_type": "display_data"
    }
   ],
   "source": [
    "#Изучим зависимость цены от этажа:\n",
    "floor_corr = data_clear.pivot_table(index='floor_group', values='price_per_meter', aggfunc='median')\n",
    "floor_corr.plot(y='price_per_meter')\n",
    "print(floor_corr)"
   ]
  },
  {
   "cell_type": "markdown",
   "metadata": {},
   "source": [
    "**Вывод:**<br>\n",
    "Самая низкая цена за кв.м. - на первом этаже<br>\n",
    "Самые дорогие цены за кв.м. - где-то посередине, не первый и не последний этаж, что вполне логично\"\"\")"
   ]
  },
  {
   "cell_type": "code",
   "execution_count": 62,
   "metadata": {},
   "outputs": [
    {
     "name": "stdout",
     "output_type": "stream",
     "text": [
      "                    price_per_meter\n",
      "exposition_weekday                 \n",
      "0                           93911.0\n",
      "1                           94380.5\n",
      "2                           94388.0\n",
      "3                           94067.0\n",
      "4                           93257.0\n",
      "5                           93387.0\n",
      "6                           93701.0\n"
     ]
    },
    {
     "data": {
      "image/png": "[encoded data removed]",
      "text/plain": [
       "<Figure size 432x288 with 1 Axes>"
      ]
     },
     "metadata": {
      "needs_background": "light"
     },
     "output_type": "display_data"
    }
   ],
   "source": [
    "#Изучим зависимось от даты размещения объявления:\n",
    "exposition_weekday_corr = data_clear.pivot_table(index='exposition_weekday', values='price_per_meter', aggfunc='median')\n",
    "exposition_weekday_corr.plot(y='price_per_meter')\n",
    "print(exposition_weekday_corr)"
   ]
  },
  {
   "cell_type": "code",
   "execution_count": 63,
   "metadata": {},
   "outputs": [
    {
     "name": "stdout",
     "output_type": "stream",
     "text": [
      "                  price_per_meter\n",
      "exposition_month                 \n",
      "1                         94444.0\n",
      "2                         94108.0\n",
      "3                         94482.5\n",
      "4                         93093.0\n",
      "5                         91998.0\n",
      "6                         91842.0\n",
      "7                         94274.0\n",
      "8                         95402.5\n",
      "9                         95172.0\n",
      "10                        93465.0\n",
      "11                        94937.0\n",
      "12                        92275.0\n"
     ]
    },
    {
     "data": {
      "image/png": "[encoded data removed]",
      "text/plain": [
       "<Figure size 432x288 with 1 Axes>"
      ]
     },
     "metadata": {
      "needs_background": "light"
     },
     "output_type": "display_data"
    }
   ],
   "source": [
    "exposition_month_corr = data_clear.pivot_table(index='exposition_month', values='price_per_meter', aggfunc='median')\n",
    "exposition_month_corr.plot(y='price_per_meter')\n",
    "print(exposition_month_corr)"
   ]
  },
  {
   "cell_type": "code",
   "execution_count": 66,
   "metadata": {},
   "outputs": [
    {
     "name": "stdout",
     "output_type": "stream",
     "text": [
      "                 price_per_meter\n",
      "exposition_year                 \n",
      "2015                     90426.0\n",
      "2016                     91549.0\n",
      "2017                     92000.0\n",
      "2018                     95329.0\n",
      "2019                    103704.0\n"
     ]
    },
    {
     "data": {
      "image/png": "[encoded data removed]",
      "text/plain": [
       "<Figure size 432x288 with 1 Axes>"
      ]
     },
     "metadata": {
      "needs_background": "light"
     },
     "output_type": "display_data"
    }
   ],
   "source": [
    "exposition_year_corr = data_clear.pivot_table(index='exposition_year', values='price_per_meter', aggfunc='median')\n",
    "exposition_year_corr.plot(y='price_per_meter')\n",
    "print(exposition_year_corr)"
   ]
  },
  {
   "cell_type": "markdown",
   "metadata": {},
   "source": [
    "<div style=\"border:solid green 2px; padding: 20px\"> \n",
    "    \n",
    "**Комментарий ревьюера**\n",
    "\n",
    "Ок, корреляции верно рассчитаны и отображены. Можно посмотреть как они поменяются после отбрасывания аномалий\n",
    "    \n",
    "</div>"
   ]
  },
  {
   "cell_type": "markdown",
   "metadata": {},
   "source": [
    "**Выводы:**\n",
    "1. Зависимость цены от дня недели:<br>\n",
    "Цена квартир, опубликованных в выходные, ниже, чем размещенных в будни. Пик - вторник и среда.<br>\n",
    "Связано это скорее всего с тем, что в будни размещается больше всего квартир (понедельник - на раскачку, и к выходным (особенно в пятницу - самые низкие цены) активность размещений спадает:)), среди которых может быть большее кол-во более дорогих квартир, нежели размещенных в выходные.<br>\n",
    "\n",
    "2. Зависимость от месяца:<br>\n",
    "Самые дорогие квартиры размещены в Августе, за ним следует Сентябрь, Ноябрь соответственно.<br>\n",
    "Объясняется все обычной сезонностью на рынке недвижимости:<br>\n",
    "Зима: <br>\n",
    "- Рост цен в ноябре обуславливается спросом на квартиры, т.к. к концу года многие люди получают премии, финансовое стимулирование по итогам года, пресловутое желание закрыть квартирный вопрос до начала следующего года, а также всяческие скидки и акции от застройщиков;<br>\n",
    "- К декабрю активность на рынке падает (скорее всего в связи с надвигающимися праздниками), в результате чего снижаются цены;<br>\n",
    "- Январь - месяц простоя и отпусков, ипотечные сделки заморожены, людей с наличностью после новогодних праздников на рынке не так много;<br>\n",
    "Весна:<br>\n",
    "- Возрастает активность как и покупателей, так и продавцов, застройщиков, увеличивается кол-во просмотров квартир (например из-за погодного фактора, длительности светового дня, т.к. просто удобнее)<br>\n",
    "- Май - период длинных праздничных выходных, на время которых большинство уезжает в отпуск и т.п.<br>\n",
    "Лето:<br>\n",
    "- Сезон отпусков, отдых на даче и т.д. Спрос падает, за ним соответственно и цены<br>\n",
    "Осень:<br>\n",
    "- К августу и сентябрю повышается активность - большое кол-во предложений и естественное увеличение спроса после периода отдыха и отпусков<br>\n",
    "\n",
    "3. Зависимось от года:<br>\n",
    "После событий 2014 года снижение цен связано с:<br>\n",
    "- Падение цен на нефть;<br>\n",
    "- Падение курса рубля, и дальнейшая его волатильность;<br>\n",
    "- Экономические санкции и контрсанкции;<br>\n",
    "- Подорожание строительных материалов;<br>\n",
    "- Банкротство многих застройщиков;<br>\n",
    "- Падение покупательской способности в следствие снижения реальных доходов населения, сокращения накоплений;<br>\n",
    "- Падение привлекательности недвижимости как одного из видов инвестирования.<br>\n",
    "\n",
    "Постепенный рост цен с 2017 года связан с понижением ипотечных ставок, а также с господдержкой ипотеки.<br>\n",
    "Все это соответственно помогло постепенно (незначительно, т.к. продается в основном бюджетный сегмент) оживить рынок недвижимости."
   ]
  },
  {
   "cell_type": "markdown",
   "metadata": {},
   "source": [
    "**Выберите 10 населённых пунктов с наибольшим числом объявлений.<br>\n",
    "Посчитайте среднюю цену квадратного метра в этих населённых пунктах.<br> \n",
    "Выделите среди них населённые пункты с самой высокой и низкой стоимостью жилья.<br>**"
   ]
  },
  {
   "cell_type": "code",
   "execution_count": 74,
   "metadata": {},
   "outputs": [
    {
     "name": "stdout",
     "output_type": "stream",
     "text": [
      "топ-10 населенных пунктов по количеству объявлений:\n"
     ]
    },
    {
     "data": {
      "text/html": [
       "<div>\n",
       "<style scoped>\n",
       "    .dataframe tbody tr th:only-of-type {\n",
       "        vertical-align: middle;\n",
       "    }\n",
       "\n",
       "    .dataframe tbody tr th {\n",
       "        vertical-align: top;\n",
       "    }\n",
       "\n",
       "    .dataframe thead th {\n",
       "        text-align: right;\n",
       "    }\n",
       "</style>\n",
       "<table border=\"1\" class=\"dataframe\">\n",
       "  <thead>\n",
       "    <tr style=\"text-align: right;\">\n",
       "      <th></th>\n",
       "      <th>count</th>\n",
       "      <th>mean</th>\n",
       "    </tr>\n",
       "    <tr>\n",
       "      <th>locality_name</th>\n",
       "      <th></th>\n",
       "      <th></th>\n",
       "    </tr>\n",
       "  </thead>\n",
       "  <tbody>\n",
       "    <tr>\n",
       "      <td>санкт-петербург</td>\n",
       "      <td>12417</td>\n",
       "      <td>111591.474511</td>\n",
       "    </tr>\n",
       "    <tr>\n",
       "      <td>мурино</td>\n",
       "      <td>517</td>\n",
       "      <td>85983.767892</td>\n",
       "    </tr>\n",
       "    <tr>\n",
       "      <td>шушары</td>\n",
       "      <td>385</td>\n",
       "      <td>77938.498701</td>\n",
       "    </tr>\n",
       "    <tr>\n",
       "      <td>всеволожск</td>\n",
       "      <td>308</td>\n",
       "      <td>68605.626623</td>\n",
       "    </tr>\n",
       "    <tr>\n",
       "      <td>колпино</td>\n",
       "      <td>293</td>\n",
       "      <td>74779.498294</td>\n",
       "    </tr>\n",
       "    <tr>\n",
       "      <td>парголово</td>\n",
       "      <td>287</td>\n",
       "      <td>89186.205575</td>\n",
       "    </tr>\n",
       "    <tr>\n",
       "      <td>пушкин</td>\n",
       "      <td>278</td>\n",
       "      <td>101894.607914</td>\n",
       "    </tr>\n",
       "    <tr>\n",
       "      <td>кудрово</td>\n",
       "      <td>266</td>\n",
       "      <td>92657.022556</td>\n",
       "    </tr>\n",
       "    <tr>\n",
       "      <td>гатчина</td>\n",
       "      <td>244</td>\n",
       "      <td>68065.143443</td>\n",
       "    </tr>\n",
       "    <tr>\n",
       "      <td>выборг</td>\n",
       "      <td>193</td>\n",
       "      <td>57011.279793</td>\n",
       "    </tr>\n",
       "  </tbody>\n",
       "</table>\n",
       "</div>"
      ],
      "text/plain": [
       "                 count           mean\n",
       "locality_name                        \n",
       "санкт-петербург  12417  111591.474511\n",
       " мурино            517   85983.767892\n",
       " шушары            385   77938.498701\n",
       "всеволожск         308   68605.626623\n",
       "колпино            293   74779.498294\n",
       " парголово         287   89186.205575\n",
       "пушкин             278  101894.607914\n",
       " кудрово           266   92657.022556\n",
       "гатчина            244   68065.143443\n",
       "выборг             193   57011.279793"
      ]
     },
     "metadata": {},
     "output_type": "display_data"
    },
    {
     "name": "stdout",
     "output_type": "stream",
     "text": [
      "топ-10 населенных пункты по стоимости кв.м. в среднем:\n"
     ]
    },
    {
     "data": {
      "text/html": [
       "<div>\n",
       "<style scoped>\n",
       "    .dataframe tbody tr th:only-of-type {\n",
       "        vertical-align: middle;\n",
       "    }\n",
       "\n",
       "    .dataframe tbody tr th {\n",
       "        vertical-align: top;\n",
       "    }\n",
       "\n",
       "    .dataframe thead th {\n",
       "        text-align: right;\n",
       "    }\n",
       "</style>\n",
       "<table border=\"1\" class=\"dataframe\">\n",
       "  <thead>\n",
       "    <tr style=\"text-align: right;\">\n",
       "      <th></th>\n",
       "      <th>count</th>\n",
       "      <th>mean</th>\n",
       "    </tr>\n",
       "    <tr>\n",
       "      <th>locality_name</th>\n",
       "      <th></th>\n",
       "      <th></th>\n",
       "    </tr>\n",
       "  </thead>\n",
       "  <tbody>\n",
       "    <tr>\n",
       "      <td>санкт-петербург</td>\n",
       "      <td>12417</td>\n",
       "      <td>111591.474511</td>\n",
       "    </tr>\n",
       "    <tr>\n",
       "      <td>пушкин</td>\n",
       "      <td>278</td>\n",
       "      <td>101894.607914</td>\n",
       "    </tr>\n",
       "    <tr>\n",
       "      <td>кудрово</td>\n",
       "      <td>266</td>\n",
       "      <td>92657.022556</td>\n",
       "    </tr>\n",
       "    <tr>\n",
       "      <td>парголово</td>\n",
       "      <td>287</td>\n",
       "      <td>89186.205575</td>\n",
       "    </tr>\n",
       "    <tr>\n",
       "      <td>мурино</td>\n",
       "      <td>517</td>\n",
       "      <td>85983.767892</td>\n",
       "    </tr>\n",
       "    <tr>\n",
       "      <td>шушары</td>\n",
       "      <td>385</td>\n",
       "      <td>77938.498701</td>\n",
       "    </tr>\n",
       "    <tr>\n",
       "      <td>колпино</td>\n",
       "      <td>293</td>\n",
       "      <td>74779.498294</td>\n",
       "    </tr>\n",
       "    <tr>\n",
       "      <td>всеволожск</td>\n",
       "      <td>308</td>\n",
       "      <td>68605.626623</td>\n",
       "    </tr>\n",
       "    <tr>\n",
       "      <td>гатчина</td>\n",
       "      <td>244</td>\n",
       "      <td>68065.143443</td>\n",
       "    </tr>\n",
       "    <tr>\n",
       "      <td>выборг</td>\n",
       "      <td>193</td>\n",
       "      <td>57011.279793</td>\n",
       "    </tr>\n",
       "  </tbody>\n",
       "</table>\n",
       "</div>"
      ],
      "text/plain": [
       "                 count           mean\n",
       "locality_name                        \n",
       "санкт-петербург  12417  111591.474511\n",
       "пушкин             278  101894.607914\n",
       " кудрово           266   92657.022556\n",
       " парголово         287   89186.205575\n",
       " мурино            517   85983.767892\n",
       " шушары            385   77938.498701\n",
       "колпино            293   74779.498294\n",
       "всеволожск         308   68605.626623\n",
       "гатчина            244   68065.143443\n",
       "выборг             193   57011.279793"
      ]
     },
     "metadata": {},
     "output_type": "display_data"
    }
   ],
   "source": [
    "locality_name_pivot = data_clear.pivot_table(index='locality_name', values = 'price_per_meter', aggfunc=['count', 'mean'])\n",
    "locality_name_pivot.columns = ['count', 'mean']\n",
    "locality_name_pivot_cnt = locality_name_pivot.sort_values('count', ascending = False).head(10)\n",
    "print('топ-10 населенных пунктов по количеству объявлений:')\n",
    "display(locality_name_pivot_cnt)\n",
    "print('топ-10 населенных пункты по стоимости кв.м. в среднем:')\n",
    "locality_name_pivot_price = locality_name_pivot_cnt.sort_values('mean', ascending = False).head(10)\n",
    "display(locality_name_pivot_price)"
   ]
  },
  {
   "cell_type": "markdown",
   "metadata": {},
   "source": [
    "<div style=\"border:solid red 2px; padding: 20px\"> \n",
    "    \n",
    "**Комментарий ревьюера**\n",
    "\n",
    "Здесь мы не совсем полно обработали названия населенных пунктов. Посмотри, например, у нас есть поселок Шушары, а есть просто Шушары, аналогично с Кудрово и др. После правильной обработки данные немного скорректируются\n",
    "    \n",
    "</div>"
   ]
  },
  {
   "cell_type": "markdown",
   "metadata": {},
   "source": [
    "<div style=\"border:solid green 2px; padding: 20px\"> \n",
    "    \n",
    "**Комментарий ревьюера - 2**\n",
    "\n",
    "Хорошо, теперь результат точнее.\n",
    "    \n",
    "</div>"
   ]
  },
  {
   "cell_type": "code",
   "execution_count": 82,
   "metadata": {},
   "outputs": [
    {
     "name": "stderr",
     "output_type": "stream",
     "text": [
      "/opt/conda/lib/python3.7/site-packages/ipykernel_launcher.py:3: SettingWithCopyWarning: \n",
      "A value is trying to be set on a copy of a slice from a DataFrame.\n",
      "Try using .loc[row_indexer,col_indexer] = value instead\n",
      "\n",
      "See the caveats in the documentation: http://pandas.pydata.org/pandas-docs/stable/user_guide/indexing.html#returning-a-view-versus-a-copy\n",
      "  This is separate from the ipykernel package so we can avoid doing imports until\n",
      "/opt/conda/lib/python3.7/site-packages/ipykernel_launcher.py:10: SettingWithCopyWarning: \n",
      "A value is trying to be set on a copy of a slice from a DataFrame.\n",
      "Try using .loc[row_indexer,col_indexer] = value instead\n",
      "\n",
      "See the caveats in the documentation: http://pandas.pydata.org/pandas-docs/stable/user_guide/indexing.html#returning-a-view-versus-a-copy\n",
      "  # Remove the CWD from sys.path while we load stuff.\n",
      "/opt/conda/lib/python3.7/site-packages/ipykernel_launcher.py:11: SettingWithCopyWarning: \n",
      "A value is trying to be set on a copy of a slice from a DataFrame.\n",
      "Try using .loc[row_indexer,col_indexer] = value instead\n",
      "\n",
      "See the caveats in the documentation: http://pandas.pydata.org/pandas-docs/stable/user_guide/indexing.html#returning-a-view-versus-a-copy\n",
      "  # This is added back by InteractiveShellApp.init_path()\n"
     ]
    },
    {
     "data": {
      "text/html": [
       "<div>\n",
       "<style scoped>\n",
       "    .dataframe tbody tr th:only-of-type {\n",
       "        vertical-align: middle;\n",
       "    }\n",
       "\n",
       "    .dataframe tbody tr th {\n",
       "        vertical-align: top;\n",
       "    }\n",
       "\n",
       "    .dataframe thead th {\n",
       "        text-align: right;\n",
       "    }\n",
       "</style>\n",
       "<table border=\"1\" class=\"dataframe\">\n",
       "  <thead>\n",
       "    <tr style=\"text-align: right;\">\n",
       "      <th></th>\n",
       "      <th>price_per_meter</th>\n",
       "    </tr>\n",
       "    <tr>\n",
       "      <th>cityCenters_nearest_km</th>\n",
       "      <th></th>\n",
       "    </tr>\n",
       "  </thead>\n",
       "  <tbody>\n",
       "    <tr>\n",
       "      <td>0</td>\n",
       "      <td>166471.854839</td>\n",
       "    </tr>\n",
       "    <tr>\n",
       "      <td>1</td>\n",
       "      <td>162093.577922</td>\n",
       "    </tr>\n",
       "    <tr>\n",
       "      <td>2</td>\n",
       "      <td>142635.797235</td>\n",
       "    </tr>\n",
       "    <tr>\n",
       "      <td>3</td>\n",
       "      <td>126166.733894</td>\n",
       "    </tr>\n",
       "    <tr>\n",
       "      <td>4</td>\n",
       "      <td>135404.496875</td>\n",
       "    </tr>\n",
       "    <tr>\n",
       "      <td>5</td>\n",
       "      <td>142446.983666</td>\n",
       "    </tr>\n",
       "    <tr>\n",
       "      <td>6</td>\n",
       "      <td>141407.988024</td>\n",
       "    </tr>\n",
       "    <tr>\n",
       "      <td>7</td>\n",
       "      <td>140621.965625</td>\n",
       "    </tr>\n",
       "    <tr>\n",
       "      <td>8</td>\n",
       "      <td>118060.823413</td>\n",
       "    </tr>\n",
       "    <tr>\n",
       "      <td>9</td>\n",
       "      <td>108598.347368</td>\n",
       "    </tr>\n",
       "    <tr>\n",
       "      <td>10</td>\n",
       "      <td>109299.598383</td>\n",
       "    </tr>\n",
       "    <tr>\n",
       "      <td>11</td>\n",
       "      <td>104889.075850</td>\n",
       "    </tr>\n",
       "    <tr>\n",
       "      <td>12</td>\n",
       "      <td>107180.755943</td>\n",
       "    </tr>\n",
       "    <tr>\n",
       "      <td>13</td>\n",
       "      <td>105855.104167</td>\n",
       "    </tr>\n",
       "    <tr>\n",
       "      <td>14</td>\n",
       "      <td>103010.686950</td>\n",
       "    </tr>\n",
       "    <tr>\n",
       "      <td>15</td>\n",
       "      <td>99927.949955</td>\n",
       "    </tr>\n",
       "    <tr>\n",
       "      <td>16</td>\n",
       "      <td>98945.645788</td>\n",
       "    </tr>\n",
       "    <tr>\n",
       "      <td>17</td>\n",
       "      <td>93941.130435</td>\n",
       "    </tr>\n",
       "    <tr>\n",
       "      <td>18</td>\n",
       "      <td>93831.657718</td>\n",
       "    </tr>\n",
       "    <tr>\n",
       "      <td>19</td>\n",
       "      <td>96645.267606</td>\n",
       "    </tr>\n",
       "    <tr>\n",
       "      <td>20</td>\n",
       "      <td>104049.818182</td>\n",
       "    </tr>\n",
       "    <tr>\n",
       "      <td>21</td>\n",
       "      <td>91291.602484</td>\n",
       "    </tr>\n",
       "    <tr>\n",
       "      <td>22</td>\n",
       "      <td>86895.288462</td>\n",
       "    </tr>\n",
       "    <tr>\n",
       "      <td>23</td>\n",
       "      <td>91056.090909</td>\n",
       "    </tr>\n",
       "    <tr>\n",
       "      <td>24</td>\n",
       "      <td>82440.318182</td>\n",
       "    </tr>\n",
       "    <tr>\n",
       "      <td>25</td>\n",
       "      <td>91199.959459</td>\n",
       "    </tr>\n",
       "    <tr>\n",
       "      <td>26</td>\n",
       "      <td>75172.000000</td>\n",
       "    </tr>\n",
       "    <tr>\n",
       "      <td>27</td>\n",
       "      <td>132115.500000</td>\n",
       "    </tr>\n",
       "    <tr>\n",
       "      <td>28</td>\n",
       "      <td>80794.875000</td>\n",
       "    </tr>\n",
       "    <tr>\n",
       "      <td>29</td>\n",
       "      <td>65460.500000</td>\n",
       "    </tr>\n",
       "  </tbody>\n",
       "</table>\n",
       "</div>"
      ],
      "text/plain": [
       "                        price_per_meter\n",
       "cityCenters_nearest_km                 \n",
       "0                         166471.854839\n",
       "1                         162093.577922\n",
       "2                         142635.797235\n",
       "3                         126166.733894\n",
       "4                         135404.496875\n",
       "5                         142446.983666\n",
       "6                         141407.988024\n",
       "7                         140621.965625\n",
       "8                         118060.823413\n",
       "9                         108598.347368\n",
       "10                        109299.598383\n",
       "11                        104889.075850\n",
       "12                        107180.755943\n",
       "13                        105855.104167\n",
       "14                        103010.686950\n",
       "15                         99927.949955\n",
       "16                         98945.645788\n",
       "17                         93941.130435\n",
       "18                         93831.657718\n",
       "19                         96645.267606\n",
       "20                        104049.818182\n",
       "21                         91291.602484\n",
       "22                         86895.288462\n",
       "23                         91056.090909\n",
       "24                         82440.318182\n",
       "25                         91199.959459\n",
       "26                         75172.000000\n",
       "27                        132115.500000\n",
       "28                         80794.875000\n",
       "29                         65460.500000"
      ]
     },
     "execution_count": 82,
     "metadata": {},
     "output_type": "execute_result"
    },
    {
     "data": {
      "image/png": "[encoded data removed]",
      "text/plain": [
       "<Figure size 432x288 with 1 Axes>"
      ]
     },
     "metadata": {
      "needs_background": "light"
     },
     "output_type": "display_data"
    }
   ],
   "source": [
    "#Изучите предложения квартир: для каждой квартиры есть информация о расстоянии до центра.\n",
    "\n",
    "data_clear['cityCenters_nearest_km'] = data_clear['cityCenters_nearest']/1000\n",
    "data_clear['cityCenters_nearest_km'].value_counts()\n",
    "#NaN = data[data['cityCenters_nearest_km'].isnull()]\n",
    "#print(NaN)\n",
    "data_clear['cityCenters_nearest_km'].describe()\n",
    "\n",
    "#Заменим NaN на \"1000\" (т.к. макс. знач. 65,96 км)\n",
    "data_clear['cityCenters_nearest_km'] = data_clear['cityCenters_nearest_km'].fillna(1000)\n",
    "data_clear['cityCenters_nearest_km'] = data_clear['cityCenters_nearest_km'].astype('int')\n",
    "data_clear['cityCenters_nearest_km'].describe()\n",
    "#data.tail(10)\n",
    "cityCenters_nearest_km_pivot = data_clear.query('locality_name == \"санкт-петербург\" and cityCenters_nearest_km !=1000')\n",
    "cityCenters_nearest_km_pivot = cityCenters_nearest_km_pivot.pivot_table(index = 'cityCenters_nearest_km', values = 'price_per_meter', aggfunc = 'mean')\n",
    "cityCenters_nearest_km_pivot.plot()\n",
    "cityCenters_nearest_km_pivot"
   ]
  },
  {
   "cell_type": "markdown",
   "metadata": {},
   "source": [
    "**Вывод:**<br>\n",
    "    Центральным районом Санкт-Петербурга можно считать район в радиусе 8 км. от центра, что чуть отличается от фактических границ Центрального района.<br>\n",
    "    <br>Присутствует снижение цены к 3 км от центра, и обратный рост до 8 км от центра.<br>\n",
    "<br>Мои предположения: Снижение цены ближе к 3 км от центра обуславливается скорее всего тем, что там расположен старый жилой фонд (часто в плачевном состоянии, с изношенными сетями и конструкциями), коммуналки и т.п.<br>\n",
    "    <br>Ближе к 5-6 км от центра СПб цены повышаются - приблизительно в этом радиусе находятся квартиры на набережной по ту сторону Невы, Обводного канала, и т.д. а также такие дорогие районы, как Петроградский, Адмиралтейский, Василеостровский."
   ]
  },
  {
   "cell_type": "markdown",
   "metadata": {},
   "source": [
    "<div style=\"border:solid green 2px; padding: 20px\"> \n",
    "    \n",
    "**Комментарий ревьюера**\n",
    "\n",
    "Да, все верно написано, но все же центр стоит взять пошире до 8-9 км. Именно после этого расстояния видна стабилизация цены\n",
    "    \n",
    "</div>"
   ]
  },
  {
   "cell_type": "markdown",
   "metadata": {},
   "source": [
    "**Выделите сегмент квартир в центре.<br>\n",
    "Проанализируйте эту территорию и изучите следующие параметры: площадь, цена, число комнат, высота потолков. <br>\n",
    "Также выделите факторы, которые влияют на стоимость квартиры (число комнат, этаж, удалённость от центра, дата размещения объявления). <br>\n",
    "Сделайте выводы. Отличаются ли они от общих выводов по всему городу?**"
   ]
  },
  {
   "cell_type": "code",
   "execution_count": 85,
   "metadata": {},
   "outputs": [
    {
     "data": {
      "text/html": [
       "<div>\n",
       "<style scoped>\n",
       "    .dataframe tbody tr th:only-of-type {\n",
       "        vertical-align: middle;\n",
       "    }\n",
       "\n",
       "    .dataframe tbody tr th {\n",
       "        vertical-align: top;\n",
       "    }\n",
       "\n",
       "    .dataframe thead th {\n",
       "        text-align: right;\n",
       "    }\n",
       "</style>\n",
       "<table border=\"1\" class=\"dataframe\">\n",
       "  <thead>\n",
       "    <tr style=\"text-align: right;\">\n",
       "      <th></th>\n",
       "      <th>total_images</th>\n",
       "      <th>last_price</th>\n",
       "      <th>total_area</th>\n",
       "      <th>first_day_exposition</th>\n",
       "      <th>rooms</th>\n",
       "      <th>ceiling_height</th>\n",
       "      <th>floors_total</th>\n",
       "      <th>living_area</th>\n",
       "      <th>floor</th>\n",
       "      <th>is_apartment</th>\n",
       "      <th>...</th>\n",
       "      <th>ponds_nearest</th>\n",
       "      <th>days_exposition</th>\n",
       "      <th>price_per_meter</th>\n",
       "      <th>exposition_weekday</th>\n",
       "      <th>exposition_month</th>\n",
       "      <th>exposition_year</th>\n",
       "      <th>floor_group</th>\n",
       "      <th>living_area_ratio</th>\n",
       "      <th>kitchen_area_ratio</th>\n",
       "      <th>cityCenters_nearest_km</th>\n",
       "    </tr>\n",
       "  </thead>\n",
       "  <tbody>\n",
       "    <tr>\n",
       "      <td>24</td>\n",
       "      <td>8</td>\n",
       "      <td>6500000</td>\n",
       "      <td>97.2</td>\n",
       "      <td>2015-10-31</td>\n",
       "      <td>2</td>\n",
       "      <td>2.65</td>\n",
       "      <td>3</td>\n",
       "      <td>46.500000</td>\n",
       "      <td>1</td>\n",
       "      <td>False</td>\n",
       "      <td>...</td>\n",
       "      <td>124.0</td>\n",
       "      <td>265</td>\n",
       "      <td>66872.0</td>\n",
       "      <td>5</td>\n",
       "      <td>10</td>\n",
       "      <td>2015</td>\n",
       "      <td>первый</td>\n",
       "      <td>0.48</td>\n",
       "      <td>0.20</td>\n",
       "      <td>2</td>\n",
       "    </tr>\n",
       "    <tr>\n",
       "      <td>99</td>\n",
       "      <td>32</td>\n",
       "      <td>9600000</td>\n",
       "      <td>90.0</td>\n",
       "      <td>2017-09-26</td>\n",
       "      <td>4</td>\n",
       "      <td>2.65</td>\n",
       "      <td>5</td>\n",
       "      <td>67.000000</td>\n",
       "      <td>2</td>\n",
       "      <td>False</td>\n",
       "      <td>...</td>\n",
       "      <td>NaN</td>\n",
       "      <td>104</td>\n",
       "      <td>106667.0</td>\n",
       "      <td>1</td>\n",
       "      <td>9</td>\n",
       "      <td>2017</td>\n",
       "      <td>другой</td>\n",
       "      <td>0.74</td>\n",
       "      <td>0.09</td>\n",
       "      <td>2</td>\n",
       "    </tr>\n",
       "    <tr>\n",
       "      <td>136</td>\n",
       "      <td>16</td>\n",
       "      <td>6500000</td>\n",
       "      <td>51.8</td>\n",
       "      <td>2018-08-01</td>\n",
       "      <td>2</td>\n",
       "      <td>3.45</td>\n",
       "      <td>6</td>\n",
       "      <td>25.600000</td>\n",
       "      <td>2</td>\n",
       "      <td>False</td>\n",
       "      <td>...</td>\n",
       "      <td>812.0</td>\n",
       "      <td>163</td>\n",
       "      <td>125483.0</td>\n",
       "      <td>2</td>\n",
       "      <td>8</td>\n",
       "      <td>2018</td>\n",
       "      <td>другой</td>\n",
       "      <td>0.49</td>\n",
       "      <td>0.14</td>\n",
       "      <td>3</td>\n",
       "    </tr>\n",
       "    <tr>\n",
       "      <td>138</td>\n",
       "      <td>8</td>\n",
       "      <td>4800000</td>\n",
       "      <td>40.0</td>\n",
       "      <td>2017-11-18</td>\n",
       "      <td>2</td>\n",
       "      <td>2.65</td>\n",
       "      <td>3</td>\n",
       "      <td>29.000000</td>\n",
       "      <td>2</td>\n",
       "      <td>False</td>\n",
       "      <td>...</td>\n",
       "      <td>729.0</td>\n",
       "      <td>80</td>\n",
       "      <td>120000.0</td>\n",
       "      <td>5</td>\n",
       "      <td>11</td>\n",
       "      <td>2017</td>\n",
       "      <td>другой</td>\n",
       "      <td>0.72</td>\n",
       "      <td>0.15</td>\n",
       "      <td>2</td>\n",
       "    </tr>\n",
       "    <tr>\n",
       "      <td>154</td>\n",
       "      <td>1</td>\n",
       "      <td>8200000</td>\n",
       "      <td>80.0</td>\n",
       "      <td>2018-11-06</td>\n",
       "      <td>3</td>\n",
       "      <td>4.15</td>\n",
       "      <td>3</td>\n",
       "      <td>44.200000</td>\n",
       "      <td>2</td>\n",
       "      <td>False</td>\n",
       "      <td>...</td>\n",
       "      <td>838.0</td>\n",
       "      <td>38</td>\n",
       "      <td>102500.0</td>\n",
       "      <td>1</td>\n",
       "      <td>11</td>\n",
       "      <td>2018</td>\n",
       "      <td>другой</td>\n",
       "      <td>0.55</td>\n",
       "      <td>0.15</td>\n",
       "      <td>3</td>\n",
       "    </tr>\n",
       "    <tr>\n",
       "      <td>...</td>\n",
       "      <td>...</td>\n",
       "      <td>...</td>\n",
       "      <td>...</td>\n",
       "      <td>...</td>\n",
       "      <td>...</td>\n",
       "      <td>...</td>\n",
       "      <td>...</td>\n",
       "      <td>...</td>\n",
       "      <td>...</td>\n",
       "      <td>...</td>\n",
       "      <td>...</td>\n",
       "      <td>...</td>\n",
       "      <td>...</td>\n",
       "      <td>...</td>\n",
       "      <td>...</td>\n",
       "      <td>...</td>\n",
       "      <td>...</td>\n",
       "      <td>...</td>\n",
       "      <td>...</td>\n",
       "      <td>...</td>\n",
       "      <td>...</td>\n",
       "    </tr>\n",
       "    <tr>\n",
       "      <td>23399</td>\n",
       "      <td>16</td>\n",
       "      <td>15300000</td>\n",
       "      <td>97.0</td>\n",
       "      <td>2017-01-11</td>\n",
       "      <td>3</td>\n",
       "      <td>3.50</td>\n",
       "      <td>7</td>\n",
       "      <td>61.400000</td>\n",
       "      <td>2</td>\n",
       "      <td>False</td>\n",
       "      <td>...</td>\n",
       "      <td>189.0</td>\n",
       "      <td>391</td>\n",
       "      <td>157732.0</td>\n",
       "      <td>2</td>\n",
       "      <td>1</td>\n",
       "      <td>2017</td>\n",
       "      <td>другой</td>\n",
       "      <td>0.63</td>\n",
       "      <td>0.10</td>\n",
       "      <td>1</td>\n",
       "    </tr>\n",
       "    <tr>\n",
       "      <td>23400</td>\n",
       "      <td>17</td>\n",
       "      <td>30000000</td>\n",
       "      <td>213.0</td>\n",
       "      <td>2017-09-28</td>\n",
       "      <td>7</td>\n",
       "      <td>3.40</td>\n",
       "      <td>5</td>\n",
       "      <td>151.400000</td>\n",
       "      <td>5</td>\n",
       "      <td>False</td>\n",
       "      <td>...</td>\n",
       "      <td>30.0</td>\n",
       "      <td>299</td>\n",
       "      <td>140845.0</td>\n",
       "      <td>3</td>\n",
       "      <td>9</td>\n",
       "      <td>2017</td>\n",
       "      <td>последний</td>\n",
       "      <td>0.71</td>\n",
       "      <td>0.14</td>\n",
       "      <td>1</td>\n",
       "    </tr>\n",
       "    <tr>\n",
       "      <td>23427</td>\n",
       "      <td>10</td>\n",
       "      <td>7600000</td>\n",
       "      <td>104.0</td>\n",
       "      <td>2017-11-28</td>\n",
       "      <td>5</td>\n",
       "      <td>2.87</td>\n",
       "      <td>7</td>\n",
       "      <td>69.000000</td>\n",
       "      <td>7</td>\n",
       "      <td>False</td>\n",
       "      <td>...</td>\n",
       "      <td>569.0</td>\n",
       "      <td>74</td>\n",
       "      <td>73077.0</td>\n",
       "      <td>1</td>\n",
       "      <td>11</td>\n",
       "      <td>2017</td>\n",
       "      <td>последний</td>\n",
       "      <td>0.66</td>\n",
       "      <td>0.13</td>\n",
       "      <td>3</td>\n",
       "    </tr>\n",
       "    <tr>\n",
       "      <td>23430</td>\n",
       "      <td>18</td>\n",
       "      <td>5260000</td>\n",
       "      <td>38.0</td>\n",
       "      <td>2018-11-06</td>\n",
       "      <td>1</td>\n",
       "      <td>3.30</td>\n",
       "      <td>5</td>\n",
       "      <td>16.000000</td>\n",
       "      <td>1</td>\n",
       "      <td>False</td>\n",
       "      <td>...</td>\n",
       "      <td>466.0</td>\n",
       "      <td>12</td>\n",
       "      <td>138421.0</td>\n",
       "      <td>1</td>\n",
       "      <td>11</td>\n",
       "      <td>2018</td>\n",
       "      <td>первый</td>\n",
       "      <td>0.42</td>\n",
       "      <td>0.32</td>\n",
       "      <td>3</td>\n",
       "    </tr>\n",
       "    <tr>\n",
       "      <td>23602</td>\n",
       "      <td>0</td>\n",
       "      <td>8700000</td>\n",
       "      <td>73.0</td>\n",
       "      <td>2019-01-23</td>\n",
       "      <td>3</td>\n",
       "      <td>2.65</td>\n",
       "      <td>4</td>\n",
       "      <td>34.457852</td>\n",
       "      <td>4</td>\n",
       "      <td>False</td>\n",
       "      <td>...</td>\n",
       "      <td>151.0</td>\n",
       "      <td>34</td>\n",
       "      <td>119178.0</td>\n",
       "      <td>2</td>\n",
       "      <td>1</td>\n",
       "      <td>2019</td>\n",
       "      <td>последний</td>\n",
       "      <td>0.47</td>\n",
       "      <td>0.14</td>\n",
       "      <td>2</td>\n",
       "    </tr>\n",
       "  </tbody>\n",
       "</table>\n",
       "<p>790 rows × 30 columns</p>\n",
       "</div>"
      ],
      "text/plain": [
       "       total_images  last_price  total_area first_day_exposition  rooms  \\\n",
       "24                8     6500000        97.2           2015-10-31      2   \n",
       "99               32     9600000        90.0           2017-09-26      4   \n",
       "136              16     6500000        51.8           2018-08-01      2   \n",
       "138               8     4800000        40.0           2017-11-18      2   \n",
       "154               1     8200000        80.0           2018-11-06      3   \n",
       "...             ...         ...         ...                  ...    ...   \n",
       "23399            16    15300000        97.0           2017-01-11      3   \n",
       "23400            17    30000000       213.0           2017-09-28      7   \n",
       "23427            10     7600000       104.0           2017-11-28      5   \n",
       "23430            18     5260000        38.0           2018-11-06      1   \n",
       "23602             0     8700000        73.0           2019-01-23      3   \n",
       "\n",
       "       ceiling_height  floors_total  living_area  floor  is_apartment  ...  \\\n",
       "24               2.65             3    46.500000      1         False  ...   \n",
       "99               2.65             5    67.000000      2         False  ...   \n",
       "136              3.45             6    25.600000      2         False  ...   \n",
       "138              2.65             3    29.000000      2         False  ...   \n",
       "154              4.15             3    44.200000      2         False  ...   \n",
       "...               ...           ...          ...    ...           ...  ...   \n",
       "23399            3.50             7    61.400000      2         False  ...   \n",
       "23400            3.40             5   151.400000      5         False  ...   \n",
       "23427            2.87             7    69.000000      7         False  ...   \n",
       "23430            3.30             5    16.000000      1         False  ...   \n",
       "23602            2.65             4    34.457852      4         False  ...   \n",
       "\n",
       "       ponds_nearest  days_exposition  price_per_meter  exposition_weekday  \\\n",
       "24             124.0              265          66872.0                   5   \n",
       "99               NaN              104         106667.0                   1   \n",
       "136            812.0              163         125483.0                   2   \n",
       "138            729.0               80         120000.0                   5   \n",
       "154            838.0               38         102500.0                   1   \n",
       "...              ...              ...              ...                 ...   \n",
       "23399          189.0              391         157732.0                   2   \n",
       "23400           30.0              299         140845.0                   3   \n",
       "23427          569.0               74          73077.0                   1   \n",
       "23430          466.0               12         138421.0                   1   \n",
       "23602          151.0               34         119178.0                   2   \n",
       "\n",
       "      exposition_month  exposition_year  floor_group  living_area_ratio  \\\n",
       "24                  10             2015       первый               0.48   \n",
       "99                   9             2017       другой               0.74   \n",
       "136                  8             2018       другой               0.49   \n",
       "138                 11             2017       другой               0.72   \n",
       "154                 11             2018       другой               0.55   \n",
       "...                ...              ...          ...                ...   \n",
       "23399                1             2017       другой               0.63   \n",
       "23400                9             2017    последний               0.71   \n",
       "23427               11             2017    последний               0.66   \n",
       "23430               11             2018       первый               0.42   \n",
       "23602                1             2019    последний               0.47   \n",
       "\n",
       "       kitchen_area_ratio  cityCenters_nearest_km  \n",
       "24                   0.20                       2  \n",
       "99                   0.09                       2  \n",
       "136                  0.14                       3  \n",
       "138                  0.15                       2  \n",
       "154                  0.15                       3  \n",
       "...                   ...                     ...  \n",
       "23399                0.10                       1  \n",
       "23400                0.14                       1  \n",
       "23427                0.13                       3  \n",
       "23430                0.32                       3  \n",
       "23602                0.14                       2  \n",
       "\n",
       "[790 rows x 30 columns]"
      ]
     },
     "execution_count": 85,
     "metadata": {},
     "output_type": "execute_result"
    }
   ],
   "source": [
    "#Выделите сегмент квартир в центре. \n",
    "#Проанализируйте эту территорию и изучите следующие параметры: площадь, цена, число комнат, высота потолков. \n",
    "#Также выделите факторы, которые влияют на стоимость квартиры \n",
    "#(число комнат, этаж, удалённость от центра, дата размещения объявления). \n",
    "#Сделайте выводы. Отличаются ли они от общих выводов по всему городу?\n",
    "\n",
    "#Выделим квартиры в центре Санкт-Петербурга:\n",
    "spb_center = data_clear.query('locality_name == \"санкт-петербург\" and cityCenters_nearest_km <= 3')\n",
    "spb_center"
   ]
  },
  {
   "cell_type": "code",
   "execution_count": null,
   "metadata": {},
   "outputs": [],
   "source": [
    "#Проанализируем основные параметры квартир и выделим основные отличия:\n",
    "\n",
    "data_clear['total_area'].hist(bins=100, range=(20,200))\n",
    "spb_center['total_area'].hist(bins=100, range=(20,200))\n",
    "data_clear['total_area'].describe()\n",
    "#spb_center['total_area'].describe()\n",
    "print(\"\"\"Среднее по городу - 60 кв.м. Медиана - 52 кв.м.\n",
    "Среднее по центру СПб - 97 кв.м., Медиана - 84 кв.м.\n",
    "И среднее, и медиана в центре СПб по площади жилья больше на 61% по сравнению с данными в целом по городу\"\"\")"
   ]
  },
  {
   "cell_type": "code",
   "execution_count": 93,
   "metadata": {},
   "outputs": [
    {
     "data": {
      "text/plain": [
       "count    7.900000e+02\n",
       "mean     1.408572e+05\n",
       "std      1.229436e+05\n",
       "min      2.892000e+04\n",
       "25%      9.463175e+04\n",
       "50%      1.133235e+05\n",
       "75%      1.416275e+05\n",
       "max      1.907500e+06\n",
       "Name: price_per_meter, dtype: float64"
      ]
     },
     "execution_count": 93,
     "metadata": {},
     "output_type": "execute_result"
    },
    {
     "data": {
      "image/png": "[encoded data removed]",
      "text/plain": [
       "<Figure size 432x288 with 1 Axes>"
      ]
     },
     "metadata": {
      "needs_background": "light"
     },
     "output_type": "display_data"
    }
   ],
   "source": [
    "data_clear['price_per_meter'].hist(bins=100, range=(10000, 250000))\n",
    "spb_center['price_per_meter'].hist(bins=100, range=(10000, 250000))\n",
    "#data_clear['price_per_meter'].describe()\n",
    "spb_center['price_per_meter'].describe()"
   ]
  },
  {
   "cell_type": "markdown",
   "metadata": {},
   "source": [
    "Средняя цена за кв.м. в центре СПб - 140 тыс.руб, медиана - 113 тыс.руб.<br>\n",
    "Средняя цена за кв.м. по городу - 97 тыс.руб, медиана - 93 тыс.руб.<br>\n",
    "В центре средняя цена выше на 44%, а медиана - на 21%"
   ]
  },
  {
   "cell_type": "code",
   "execution_count": 97,
   "metadata": {},
   "outputs": [
    {
     "data": {
      "text/plain": [
       "count    790.000000\n",
       "mean       2.982278\n",
       "std        1.559854\n",
       "min        0.000000\n",
       "25%        2.000000\n",
       "50%        3.000000\n",
       "75%        4.000000\n",
       "max       19.000000\n",
       "Name: rooms, dtype: float64"
      ]
     },
     "execution_count": 97,
     "metadata": {},
     "output_type": "execute_result"
    },
    {
     "data": {
      "image/png": "[encoded data removed]",
      "text/plain": [
       "<Figure size 432x288 with 1 Axes>"
      ]
     },
     "metadata": {
      "needs_background": "light"
     },
     "output_type": "display_data"
    }
   ],
   "source": [
    "data_clear['rooms'].hist(bins=100)\n",
    "spb_center['rooms'].hist(bins=100)\n",
    "data_clear['rooms'].describe()\n",
    "spb_center['rooms'].describe()"
   ]
  },
  {
   "cell_type": "markdown",
   "metadata": {},
   "source": [
    "Средняя кол-во комнат в центре СПб - 3, медиана - 3;<br>\n",
    "Средняя кол-во комнат по городу - 2, медиана - 2.<br>\n",
    "В центре СПб квартиры в среднем на одну комнату больше"
   ]
  },
  {
   "cell_type": "code",
   "execution_count": 99,
   "metadata": {},
   "outputs": [
    {
     "data": {
      "text/plain": [
       "count    18764.000000\n",
       "mean         2.711200\n",
       "std          0.995003\n",
       "min          1.000000\n",
       "25%          2.600000\n",
       "50%          2.650000\n",
       "75%          2.700000\n",
       "max        100.000000\n",
       "Name: ceiling_height, dtype: float64"
      ]
     },
     "execution_count": 99,
     "metadata": {},
     "output_type": "execute_result"
    },
    {
     "data": {
      "image/png": "[encoded data removed]",
      "text/plain": [
       "<Figure size 432x288 with 1 Axes>"
      ]
     },
     "metadata": {
      "needs_background": "light"
     },
     "output_type": "display_data"
    }
   ],
   "source": [
    "data_clear['ceiling_height'].hist(bins=30, range=(2,5))\n",
    "spb_center['ceiling_height'].hist(bins=30, range=(2,5))\n",
    "spb_center['ceiling_height'].describe()\n",
    "data_clear['ceiling_height'].describe()"
   ]
  },
  {
   "cell_type": "markdown",
   "metadata": {},
   "source": [
    "Средняя высота потолков по городу - 2,7 м., медиана 2,65 м.<br>\n",
    "Средняя высота потолков в центре СПб - 3 м., медиана 2.9 м.<br>\n",
    "Потолки в центре Питера - выше"
   ]
  },
  {
   "cell_type": "markdown",
   "metadata": {},
   "source": [
    "<div style=\"border:solid green 2px; padding: 20px\"> \n",
    "    \n",
    "**Комментарий ревьюера**\n",
    "\n",
    "Отличные сравнительные гистограммы. Вот если бы мы взяли 8-9 км, то данных по центру было бы больше и гистограммы было бы более наглядными\n",
    "    \n",
    "</div>"
   ]
  },
  {
   "cell_type": "code",
   "execution_count": 209,
   "metadata": {},
   "outputs": [
    {
     "name": "stdout",
     "output_type": "stream",
     "text": [
      "                        rooms     floor  cityCenters_nearest  price_per_meter\n",
      "rooms                1.000000  0.115765            -0.050776         0.001767\n",
      "floor                0.115765  1.000000             0.085761         0.173632\n",
      "cityCenters_nearest -0.050776  0.085761             1.000000        -0.164375\n",
      "price_per_meter      0.001767  0.173632            -0.164375         1.000000\n"
     ]
    },
    {
     "data": {
      "text/plain": [
       "array([[<matplotlib.axes._subplots.AxesSubplot object at 0x7efcd296b090>,\n",
       "        <matplotlib.axes._subplots.AxesSubplot object at 0x7efcd2f068d0>,\n",
       "        <matplotlib.axes._subplots.AxesSubplot object at 0x7efcd2f24290>,\n",
       "        <matplotlib.axes._subplots.AxesSubplot object at 0x7efcd34eb790>],\n",
       "       [<matplotlib.axes._subplots.AxesSubplot object at 0x7efcd35d3f10>,\n",
       "        <matplotlib.axes._subplots.AxesSubplot object at 0x7efcd31a7750>,\n",
       "        <matplotlib.axes._subplots.AxesSubplot object at 0x7efcd3376f50>,\n",
       "        <matplotlib.axes._subplots.AxesSubplot object at 0x7efcd2f1e790>],\n",
       "       [<matplotlib.axes._subplots.AxesSubplot object at 0x7efcd2c54310>,\n",
       "        <matplotlib.axes._subplots.AxesSubplot object at 0x7efcd2d8dc90>,\n",
       "        <matplotlib.axes._subplots.AxesSubplot object at 0x7efcd3245fd0>,\n",
       "        <matplotlib.axes._subplots.AxesSubplot object at 0x7efcd33c8810>],\n",
       "       [<matplotlib.axes._subplots.AxesSubplot object at 0x7efcd2bf0f90>,\n",
       "        <matplotlib.axes._subplots.AxesSubplot object at 0x7efcd3313850>,\n",
       "        <matplotlib.axes._subplots.AxesSubplot object at 0x7efcd301ebd0>,\n",
       "        <matplotlib.axes._subplots.AxesSubplot object at 0x7efcd2f5d890>]],\n",
       "      dtype=object)"
      ]
     },
     "execution_count": 209,
     "metadata": {},
     "output_type": "execute_result"
    },
    {
     "data": {
      "image/png": "[encoded data removed]",
      "text/plain": [
       "<Figure size 720x720 with 16 Axes>"
      ]
     },
     "metadata": {
      "needs_background": "light"
     },
     "output_type": "display_data"
    }
   ],
   "source": [
    "#Выделим факторы, влияющие на стоимость квартир:\n",
    "spb_center_corr = spb_center.loc[:, ['rooms', 'floor', 'cityCenters_nearest', 'price_per_meter']]\n",
    "print(spb_center_corr.corr())\n",
    "pd.plotting.scatter_matrix(spb_center_corr, figsize=(10,10))"
   ]
  },
  {
   "cell_type": "markdown",
   "metadata": {},
   "source": [
    "Самые дорогие квартиры в центре СПб - с количеством комнат от 2 до 4, не выше 5-6 этажа(самые дорогие - не первый и не последний этажи), и расположенные как можно ближе к центру.<br>\n",
    "Объясняется это тем, что 1-комнатных квартир в центре мало, а также невысокой этажностью зданий."
   ]
  },
  {
   "cell_type": "code",
   "execution_count": 100,
   "metadata": {},
   "outputs": [
    {
     "name": "stdout",
     "output_type": "stream",
     "text": [
      "                    price_per_meter\n",
      "exposition_weekday                 \n",
      "0                          118296.0\n",
      "1                          112823.5\n",
      "2                          114818.5\n",
      "3                          105883.5\n",
      "4                          117020.0\n",
      "5                          120000.0\n",
      "6                          105263.0\n"
     ]
    },
    {
     "data": {
      "image/png": "[encoded data removed]",
      "text/plain": [
       "<Figure size 432x288 with 1 Axes>"
      ]
     },
     "metadata": {
      "needs_background": "light"
     },
     "output_type": "display_data"
    }
   ],
   "source": [
    "#Изучим зависимось от даты размещения объявления:\n",
    "spb_center_weekday_corr = spb_center.pivot_table(index='exposition_weekday', values='price_per_meter', aggfunc='median')\n",
    "spb_center_weekday_corr.plot(y='price_per_meter')\n",
    "print(spb_center_weekday_corr)"
   ]
  },
  {
   "cell_type": "code",
   "execution_count": 101,
   "metadata": {},
   "outputs": [
    {
     "name": "stdout",
     "output_type": "stream",
     "text": [
      "                  price_per_meter\n",
      "exposition_month                 \n",
      "1                        110593.5\n",
      "2                        116406.0\n",
      "3                        117409.5\n",
      "4                        110000.0\n",
      "5                        103187.5\n",
      "6                        106147.5\n",
      "7                        114655.0\n",
      "8                        110491.5\n",
      "9                        115789.0\n",
      "10                       117236.0\n",
      "11                       111642.5\n",
      "12                       118642.5\n"
     ]
    },
    {
     "data": {
      "image/png": "[encoded data removed]",
      "text/plain": [
       "<Figure size 432x288 with 1 Axes>"
      ]
     },
     "metadata": {
      "needs_background": "light"
     },
     "output_type": "display_data"
    }
   ],
   "source": [
    "spb_center_month_corr = spb_center.pivot_table(index='exposition_month', values='price_per_meter', aggfunc='median')\n",
    "spb_center_month_corr.plot(y='price_per_meter')\n",
    "print(spb_center_month_corr)"
   ]
  },
  {
   "cell_type": "code",
   "execution_count": 102,
   "metadata": {},
   "outputs": [
    {
     "name": "stdout",
     "output_type": "stream",
     "text": [
      "                 price_per_meter\n",
      "exposition_year                 \n",
      "2015                    106529.0\n",
      "2016                    108333.0\n",
      "2017                    112320.5\n",
      "2018                    116264.0\n",
      "2019                    128531.0\n"
     ]
    },
    {
     "data": {
      "image/png": "[encoded data removed]",
      "text/plain": [
       "<Figure size 432x288 with 1 Axes>"
      ]
     },
     "metadata": {
      "needs_background": "light"
     },
     "output_type": "display_data"
    }
   ],
   "source": [
    "spb_center_year_corr = spb_center.pivot_table(index='exposition_year', values='price_per_meter', aggfunc='median')\n",
    "spb_center_year_corr.plot(y='price_per_meter')\n",
    "print(spb_center_year_corr)"
   ]
  },
  {
   "cell_type": "markdown",
   "metadata": {},
   "source": [
    "**Вывод:**<br>\n",
    "    Самые дорогие квартиры в центре СПб - с количеством комнат от 2 до 4, не выше 5-6 этажа(самые дорогие - не первый и не последний этажи), и расположенные как можно ближе к центру.<br>\n",
    "    Объясняется это тем, что 1-комнатных квартир в центре мало, а также невысокой этажностью зданий.<br>\n",
    "    Цена за кв.м. в центре СПб в зависимости от дня недели отличается от общих данных - самые дорогие квартиры размещены в субботу и понедельник, а в будни - наоборот самые дешевые.<br>\n",
    "    На квартиры в центре также влияет сезонность - с небольшими отличиями от общих данных (летом самые низкие цены)<br>\n",
    "    Последствия кризиса после 2014 года ударили по ценам в центре сильнее - с 2014 по 2015 год цена за кв.м. упала приблизительно на 60%, в то же время в общем по городу - на 11-12 %.<br>"
   ]
  },
  {
   "cell_type": "markdown",
   "metadata": {},
   "source": [
    "<div style=\"border:solid green 2px; padding: 20px\"> \n",
    "    \n",
    "**Комментарий ревьюера**\n",
    "\n",
    "Центр отлично проанализирован, молодец\n",
    "</div>"
   ]
  },
  {
   "cell_type": "markdown",
   "metadata": {},
   "source": [
    "\n",
    "## Общий вывод"
   ]
  },
  {
   "cell_type": "markdown",
   "metadata": {},
   "source": [
    "    На этапе предобработки данных сделано следующее:\n",
    "1)Заменены типы данных на корректные, текстовые значения приведены к нижнему регистру для удобства обработки данных в дальнейшем;<br>\n",
    "2)Пропущенные значения в таких столбцах, как наличие балкона, парков и прудов в радиусе 3 км, время до продажи заменены на 0, т.к. причина пропусков в отсутствии параметра как такового;<br>\n",
    "3)Пропущенные значения в столбце Апартаменты заменены на False, т.к. отсутствие значений связаны с тем, что квартиры не являются апартаментами;<br>\n",
    "4)В столбцах с данными о высоте потолков, общем количестве этажей, размерах жилой площади и площади кухни заменены на средние либо медианные;<br>\n",
    "5)Столбцы с данными о расстоянии до центра города, ближайших аэропортов, парков и т.д. оставил без изменений, т.к. эти данные заполняются автоматически на основе даннхы картографических сервисов, и вполне возможно в них присутствует ошибка в выгрузке данных, а также пропущенные значения в каждом из столбцов составляют более 20%, и заменить их чем-либо не представляется возможным.<br>\n",
    "\n",
    "    Посчитано и добавлено в таблицу:\n",
    "1)Цена за квадратный метр;<br>\n",
    "2)День недели, месяц и год публикации объявления;<br>\n",
    "3)Этаж квартиры; варианты — первый, последний, другой;<br>\n",
    "4)Соотношение жилой и общей площади, а также отношение площади кухни к общей.<br>\n",
    "    \n",
    "    Выводы по общей выборке (весь Санкт-Петербург):\n",
    "1)Минимальная площадь квартиры - 12 кв.м., а максимаальная - 900 кв.м. Средняя площадь - 60 кв.м., медиана - 52 кв.м.<br>\n",
    "2)Построил гистограмму для квартир от 20 до 200 кв.м. для лучшей наглядности, т.к. квартир меньше 20 кв.м. и больше 200 кв.м. очень мало.<br>\n",
    "3)Минимальная цена - 12190 руб, максимальная - 763000000 руб. Средняя цена - 6541549 руб., медиана - 4650000 руб. Построил гистрограмму с ценами от 100 тыс руб, до 20 млн руб.<br>\n",
    "4)Количество комнат колеблется от 1 до 19, больше всего 1-комнатных квартир - 8047 шт., среднее и медиана совпдаают- 2 комнаты. Также присутствуют такие неверные данные, как 197 квартир, у которых 0 комнат.<br>\n",
    "5)В данных по высоте потолков есть аномальные значения от 20 до 100 м., но их слишком мало, и скорее всего они связаны с неправильной расстановкой разделителя (например, вместо значения 2,5 м. указана высота 25 м., т.к. высота 25 м. наблюдается у стандартных 5-этажных домов, у которых стандартная высота потолков 2,5 м.). Т.к. таких выбросов слишком мало, оставил без изменений.\n",
    "Средняя высота потолков- 2,72 м., медиана - 2,65 м.<br>\n",
    "6)Зависимость цены за кв.м. от общей площади квартиры незначительна (0,3 по корреляции) Самые дорогие квартиры - 2, 3 и 4-х комнатные, с ростом кол-ва комнат цена за кв.м. снижается Чем дальше квартира находится от центра города, тем ниже цена за квадратный метр.<br>\n",
    "7)Самая низкая цена за кв.м. - на первом этаже Самые дорогие цены за кв.м. - где-то посередине, не первый и не последний этаж, что вполне логично.<br>\n",
    "    \n",
    "   **Выводы:**\n",
    "1. Зависимость цены от дня недели:<br>\n",
    "Цена квартир, опубликованных в выходные, ниже, чем размещенных в будни. Пик - вторник и среда.<br>\n",
    "Связано это скорее всего с тем, что в будни размещается больше всего квартир (понедельник - на раскачку, и к выходным (особенно в пятницу - самые низкие цены) активность размещений спадает:)), среди которых может быть большее кол-во более дорогих квартир, нежели размещенных в выходные.<br>\n",
    "\n",
    "2. Зависимость от месяца:<br>\n",
    "Самые дорогие квартиры размещены в Августе, за ним следует Сентябрь, Ноябрь соответственно.<br>\n",
    "Объясняется все обычной сезонностью на рынке недвижимости:<br>\n",
    "Зима: <br>\n",
    "- Рост цен в ноябре обуславливается спросом на квартиры, т.к. к концу года многие люди получают премии, финансовое стимулирование по итогам года, пресловутое желание закрыть квартирный вопрос до начала следующего года, а также всяческие скидки и акции от застройщиков;<br>\n",
    "- К декабрю активность на рынке падает (скорее всего в связи с надвигающимися праздниками), в результате чего снижаются цены;<br>\n",
    "- Январь - месяц простоя и отпусков, ипотечные сделки заморожены, людей с наличностью после новогодних праздников на рынке не так много;<br>\n",
    "Весна:<br>\n",
    "- Возрастает активность как и покупателей, так и продавцов, застройщиков, увеличивается кол-во просмотров квартир (например из-за погодного фактора, длительности светового дня, т.к. просто удобнее)<br>\n",
    "- Май - период длинных праздничных выходных, на время которых большинство уезжает в отпуск и т.п.<br>\n",
    "Лето:<br>\n",
    "- Сезон отпусков, отдых на даче и т.д. Спрос падает, за ним соответственно и цены<br>\n",
    "Осень:<br>\n",
    "- К августу и сентябрю повышается активность - большое кол-во предложений и естественное увеличение спроса после периода отдыха и отпусков<br>\n",
    "\n",
    "3. Зависимось от года:<br>\n",
    "После событий 2014 года снижение цен связано с:<br>\n",
    "- Падение цен на нефть;<br>\n",
    "- Падение курса рубля, и дальнейшая его волатильность;<br>\n",
    "- Экономические санкции и контрсанкции;<br>\n",
    "- Подорожание строительных материалов;<br>\n",
    "- Банкротство многих застройщиков;<br>\n",
    "- Падение покупательской способности в следствие снижения реальных доходов населения, сокращения накоплений;<br>\n",
    "- Падение привлекательности недвижимости как одного из видов инвестирования.<br>\n",
    "\n",
    "Постепенный рост цен с 2017 года связан с понижением ипотечных ставок, а также с господдержкой ипотеки.<br>\n",
    "Все это соответственно помогло постепенно (незначительно, т.к. продается в основном бюджетный сегмент) оживить рынок недвижимости.\n",
    "\n",
    "    Выводы после анализа квартир в центре Санкт-Петербурга:\n",
    "    \n",
    "   Центральным районом Санкт-Петербурга можно считать район в радиусе 8 км. от центра, что чуть отличается от фактических границ Центрального района.<br>\n",
    "    <br>Присутствует снижение цены к 3 км от центра, и обратный рост до 8 км от центра.<br>\n",
    "<br>Мои предположения: Снижение цены ближе к 3 км от центра обуславливается скорее всего тем, что там расположен старый жилой фонд (часто в плачевном состоянии, с изношенными сетями и конструкциями), коммуналки и т.п.<br>\n",
    "    <br>Ближе к 5-6 км от центра СПб цены повышаются - приблизительно в этом радиусе находятся квартиры на набережной по ту сторону Невы, Обводного канала, и т.д. а также такие дорогие районы, как Петроградский, Адмиралтейский, Василеостровский.<br>\n",
    "    <br>Самые дорогие квартиры в центре СПб - с количеством комнат от 2 до 4, не выше 5-6 этажа(самые дорогие - не первый и не последний этажи), и расположенные как можно ближе к центру. Объясняется это тем, что 1-комнатных квартир в центре мало, а также невысокой этажностью зданий.<br> \n",
    "    <br>Цена за кв.м. в центре СПб в зависимости от дня недели отличается от общих данных - самые дорогие квартиры размещены в субботу и понедельник, а в будни - наоборот самые дешевые. На квартиры в центре также влияет сезонность - с небольшими отличиями от общих данных (летом самые низкие цены). Последствия кризиса после 2014 года ударили по ценам в центре сильнее - с 2014 по 2015 год цена за кв.м. упала приблизительно на 60%, в то же время в общем по городу - на 11-12 %.<br>"
   ]
  },
  {
   "cell_type": "markdown",
   "metadata": {},
   "source": [
    "\n",
    "<div style=\"border:solid green 2px; padding: 20px\"> \n",
    "\n",
    "**Общий комментарий по проекту**\n",
    "\n",
    "Ты отлично поработал над проектом, молодец. Все достаточно точно рассчитано, проведен правильный статистический анализ.\n",
    "    \n",
    "Постарайся немного подробнее поработать с названиями и более полно проанализировать аномалии.\n",
    "    \n",
    "Ты молодец, отлично справляешься с программой. Пострарайся немного доработать проект. Удачи.\n",
    "</div>"
   ]
  },
  {
   "cell_type": "markdown",
   "metadata": {},
   "source": [
    "<div style=\"border:solid green 2px; padding: 20px\"> \n",
    "    \n",
    "**Комментарий ревьюера - 2**\n",
    "Проект отлично доработан, молодец.\n",
    "    \n",
    "</div>"
   ]
  },
  {
   "cell_type": "markdown",
   "metadata": {},
   "source": [
    "## Чек-лист готовности проекта\n",
    "\n",
    "Поставьте 'x' в выполненных пунктах. Далее нажмите Shift+Enter."
   ]
  },
  {
   "cell_type": "markdown",
   "metadata": {},
   "source": [
    "- [x]  открыт файл\n",
    "- [x]  файлы изучены (выведены первые строки, метод info())\n",
    "- [x]  определены пропущенные значения\n",
    "- [x]  заполнены пропущенные значения\n",
    "- [x]  есть пояснение, какие пропущенные значения обнаружены\n",
    "- [x]  изменены типы данных\n",
    "- [x]  есть пояснение, в каких столбцах изменены типы и почему\n",
    "- [x]  посчитано и добавлено в таблицу: цена квадратного метра\n",
    "- [x]  посчитано и добавлено в таблицу: день недели, месяц и год публикации объявления\n",
    "- [x]  посчитано и добавлено в таблицу: этаж квартиры; варианты — первый, последний, другой\n",
    "- [x]  посчитано и добавлено в таблицу: соотношение жилой и общей площади, а также отношение площади кухни к общей\n",
    "- [x]  изучены следующие параметры: площадь, цена, число комнат, высота потолков\n",
    "- [x]  построены гистограммы для каждого параметра\n",
    "- [x]  выполнено задание: \"Изучите время продажи квартиры. Постройте гистограмму. Посчитайте среднее и медиану. Опишите, сколько обычно занимает продажа. Когда можно считать, что продажи прошли очень быстро, а когда необычно долго?\"\n",
    "- [x]  выполнено задание: \"Уберите редкие и выбивающиеся значения. Опишите, какие особенности обнаружили.\"\n",
    "- [x]  выполнено задание: \"Какие факторы больше всего влияют на стоимость квартиры? Изучите, зависит ли цена от квадратного метра, числа комнат, этажа (первого или последнего), удалённости от центра. Также изучите зависимость от даты размещения: дня недели, месяца и года. \"Выберите 10 населённых пунктов с наибольшим числом объявлений. Посчитайте среднюю цену квадратного метра в этих населённых пунктах. Выделите населённые пункты с самой высокой и низкой стоимостью жилья. Эти данные можно найти по имени в столбце '*locality_name'*. \"\n",
    "- [x]  выполнено задание: \"Изучите предложения квартир: для каждой квартиры есть информация о расстоянии до центра. Выделите квартиры в Санкт-Петербурге (*'locality_name'*). Ваша задача — выяснить, какая область входит в центр. Создайте столбец с расстоянием до центра в километрах: округлите до целых значений. После этого посчитайте среднюю цену для каждого километра. Постройте график: он должен показывать, как цена зависит от удалённости от центра. Определите границу, где график сильно меняется — это и будет центральная зона. \"\n",
    "- [x]  выполнено задание: \"Выделите сегмент квартир в центре. Проанализируйте эту территорию и изучите следующие параметры: площадь, цена, число комнат, высота потолков. Также выделите факторы, которые влияют на стоимость квартиры (число комнат, этаж, удалённость от центра, дата размещения объявления). Сделайте выводы. Отличаются ли они от общих выводов по всему городу?\"\n",
    "- [x]  в каждом этапе есть выводы\n",
    "- [x]  есть общий вывод"
   ]
  }
 ],
 "metadata": {
  "ExecuteTimeLog": [
   {
    "duration": 802,
    "start_time": "2021-07-16T12:22:58.594Z"
   },
   {
    "duration": 69,
    "start_time": "2021-07-16T12:23:04.063Z"
   },
   {
    "duration": 69,
    "start_time": "2021-07-16T12:23:14.031Z"
   },
   {
    "duration": 73,
    "start_time": "2021-07-16T12:23:44.714Z"
   },
   {
    "duration": 98,
    "start_time": "2021-07-16T12:25:11.812Z"
   },
   {
    "duration": 91,
    "start_time": "2021-07-16T15:01:08.032Z"
   },
   {
    "duration": 15,
    "start_time": "2021-07-16T15:40:27.281Z"
   },
   {
    "duration": 8,
    "start_time": "2021-07-16T15:40:39.871Z"
   },
   {
    "duration": 12,
    "start_time": "2021-07-16T15:41:08.256Z"
   },
   {
    "duration": 10,
    "start_time": "2021-07-16T15:41:28.988Z"
   },
   {
    "duration": 11,
    "start_time": "2021-07-16T15:41:38.899Z"
   },
   {
    "duration": 5,
    "start_time": "2021-07-16T15:43:11.549Z"
   },
   {
    "duration": 10,
    "start_time": "2021-07-16T15:45:36.521Z"
   },
   {
    "duration": 7,
    "start_time": "2021-07-16T15:45:45.164Z"
   },
   {
    "duration": 9,
    "start_time": "2021-07-16T15:45:49.623Z"
   },
   {
    "duration": 212,
    "start_time": "2021-07-19T21:53:14.610Z"
   },
   {
    "duration": 650,
    "start_time": "2021-07-19T21:53:29.586Z"
   },
   {
    "duration": 11,
    "start_time": "2021-07-19T21:53:35.068Z"
   },
   {
    "duration": 10,
    "start_time": "2021-07-19T21:56:06.416Z"
   },
   {
    "duration": 10,
    "start_time": "2021-07-19T21:56:13.087Z"
   },
   {
    "duration": 7,
    "start_time": "2021-07-19T21:56:20.916Z"
   },
   {
    "duration": 10,
    "start_time": "2021-07-19T21:56:54.563Z"
   },
   {
    "duration": 12,
    "start_time": "2021-07-19T21:57:24.728Z"
   },
   {
    "duration": 14,
    "start_time": "2021-07-19T21:57:36.181Z"
   },
   {
    "duration": -98,
    "start_time": "2021-07-19T22:01:16.859Z"
   },
   {
    "duration": 4,
    "start_time": "2021-07-19T22:01:21.647Z"
   },
   {
    "duration": 4,
    "start_time": "2021-07-19T22:01:40.341Z"
   },
   {
    "duration": 8,
    "start_time": "2021-07-19T22:03:20.719Z"
   },
   {
    "duration": 10,
    "start_time": "2021-07-19T22:03:55.994Z"
   },
   {
    "duration": 11,
    "start_time": "2021-07-19T22:04:10.903Z"
   },
   {
    "duration": 13,
    "start_time": "2021-07-19T22:09:43.019Z"
   },
   {
    "duration": 14,
    "start_time": "2021-07-19T22:09:53.146Z"
   },
   {
    "duration": 17,
    "start_time": "2021-07-19T22:14:01.853Z"
   },
   {
    "duration": 19,
    "start_time": "2021-07-19T22:14:24.781Z"
   },
   {
    "duration": 18,
    "start_time": "2021-07-19T22:14:40.834Z"
   },
   {
    "duration": 19,
    "start_time": "2021-07-19T22:14:54.438Z"
   },
   {
    "duration": 29,
    "start_time": "2021-07-19T22:15:06.264Z"
   },
   {
    "duration": 21,
    "start_time": "2021-07-19T22:15:09.743Z"
   },
   {
    "duration": 23,
    "start_time": "2021-07-19T22:15:23.182Z"
   },
   {
    "duration": 25,
    "start_time": "2021-07-19T22:15:34.340Z"
   },
   {
    "duration": 26,
    "start_time": "2021-07-19T22:15:45.651Z"
   },
   {
    "duration": 24,
    "start_time": "2021-07-19T22:16:17.601Z"
   },
   {
    "duration": 27,
    "start_time": "2021-07-19T22:16:29.119Z"
   },
   {
    "duration": 30,
    "start_time": "2021-07-19T22:16:46.621Z"
   },
   {
    "duration": 43,
    "start_time": "2021-07-19T22:16:53.261Z"
   },
   {
    "duration": 32,
    "start_time": "2021-07-19T22:17:02.335Z"
   },
   {
    "duration": 34,
    "start_time": "2021-07-19T22:17:12.731Z"
   },
   {
    "duration": 37,
    "start_time": "2021-07-19T22:17:25.091Z"
   },
   {
    "duration": 39,
    "start_time": "2021-07-19T22:17:34.171Z"
   },
   {
    "duration": 39,
    "start_time": "2021-07-19T22:17:43.347Z"
   },
   {
    "duration": 39,
    "start_time": "2021-07-19T22:20:32.740Z"
   },
   {
    "duration": 209,
    "start_time": "2021-07-19T22:21:08.019Z"
   },
   {
    "duration": 228,
    "start_time": "2021-07-19T22:21:18.472Z"
   },
   {
    "duration": 47,
    "start_time": "2021-07-19T22:21:35.804Z"
   },
   {
    "duration": 40,
    "start_time": "2021-07-19T22:24:30.313Z"
   },
   {
    "duration": 214,
    "start_time": "2021-07-19T22:25:43.361Z"
   },
   {
    "duration": 210,
    "start_time": "2021-07-19T22:26:04.821Z"
   },
   {
    "duration": 221,
    "start_time": "2021-07-19T22:26:41.093Z"
   },
   {
    "duration": 44,
    "start_time": "2021-07-19T22:27:24.072Z"
   },
   {
    "duration": 314,
    "start_time": "2021-07-19T22:33:42.005Z"
   },
   {
    "duration": 402,
    "start_time": "2021-07-19T22:33:59.232Z"
   },
   {
    "duration": 282,
    "start_time": "2021-07-19T22:34:09.880Z"
   },
   {
    "duration": 42,
    "start_time": "2021-07-19T22:34:24.269Z"
   },
   {
    "duration": 269,
    "start_time": "2021-07-19T22:34:34.108Z"
   },
   {
    "duration": 293,
    "start_time": "2021-07-19T22:34:38.093Z"
   },
   {
    "duration": 268,
    "start_time": "2021-07-19T22:34:42.630Z"
   },
   {
    "duration": 364,
    "start_time": "2021-07-19T22:34:53.043Z"
   },
   {
    "duration": 301,
    "start_time": "2021-07-19T22:35:13.347Z"
   },
   {
    "duration": 251,
    "start_time": "2021-07-19T22:35:20.158Z"
   },
   {
    "duration": 452,
    "start_time": "2021-07-19T22:35:57.870Z"
   },
   {
    "duration": 495,
    "start_time": "2021-07-19T22:36:18.135Z"
   },
   {
    "duration": 542,
    "start_time": "2021-07-19T22:36:28.445Z"
   },
   {
    "duration": 521,
    "start_time": "2021-07-19T22:36:37.431Z"
   },
   {
    "duration": 358,
    "start_time": "2021-07-19T22:37:02.902Z"
   },
   {
    "duration": 250,
    "start_time": "2021-07-19T22:37:13.154Z"
   },
   {
    "duration": 250,
    "start_time": "2021-07-19T22:37:25.854Z"
   },
   {
    "duration": 326,
    "start_time": "2021-07-19T22:37:32.552Z"
   },
   {
    "duration": 251,
    "start_time": "2021-07-19T22:37:36.883Z"
   },
   {
    "duration": 374,
    "start_time": "2021-07-19T22:37:45.744Z"
   },
   {
    "duration": 333,
    "start_time": "2021-07-19T22:41:40.021Z"
   },
   {
    "duration": 336,
    "start_time": "2021-07-19T22:42:00.869Z"
   },
   {
    "duration": 339,
    "start_time": "2021-07-19T22:43:12.933Z"
   },
   {
    "duration": 445,
    "start_time": "2021-07-19T22:45:11.150Z"
   },
   {
    "duration": 348,
    "start_time": "2021-07-19T22:45:29.458Z"
   },
   {
    "duration": 347,
    "start_time": "2021-07-19T22:46:20.587Z"
   },
   {
    "duration": 342,
    "start_time": "2021-07-19T22:46:35.266Z"
   },
   {
    "duration": 379,
    "start_time": "2021-07-19T22:49:05.633Z"
   },
   {
    "duration": 360,
    "start_time": "2021-07-19T22:51:06.428Z"
   },
   {
    "duration": 513,
    "start_time": "2021-07-19T22:54:22.342Z"
   },
   {
    "duration": 354,
    "start_time": "2021-07-19T22:54:49.349Z"
   },
   {
    "duration": 374,
    "start_time": "2021-07-19T22:55:31.479Z"
   },
   {
    "duration": 519,
    "start_time": "2021-07-19T22:56:12.236Z"
   },
   {
    "duration": 528,
    "start_time": "2021-07-19T22:56:24.015Z"
   },
   {
    "duration": 65,
    "start_time": "2021-07-19T22:57:02.694Z"
   },
   {
    "duration": 625,
    "start_time": "2021-07-19T22:57:09.253Z"
   },
   {
    "duration": 352,
    "start_time": "2021-07-19T22:57:18.765Z"
   },
   {
    "duration": 353,
    "start_time": "2021-07-19T22:57:29.233Z"
   },
   {
    "duration": 371,
    "start_time": "2021-07-19T22:57:35.755Z"
   },
   {
    "duration": 348,
    "start_time": "2021-07-19T22:57:47.943Z"
   },
   {
    "duration": 596,
    "start_time": "2021-07-19T22:57:51.789Z"
   },
   {
    "duration": 354,
    "start_time": "2021-07-19T22:58:07.084Z"
   },
   {
    "duration": 349,
    "start_time": "2021-07-19T22:58:12.855Z"
   },
   {
    "duration": 344,
    "start_time": "2021-07-19T22:58:31.426Z"
   },
   {
    "duration": 184,
    "start_time": "2021-07-19T22:58:35.932Z"
   },
   {
    "duration": 172,
    "start_time": "2021-07-19T22:58:39.292Z"
   },
   {
    "duration": 202,
    "start_time": "2021-07-19T22:58:44.912Z"
   },
   {
    "duration": 183,
    "start_time": "2021-07-19T22:58:51.167Z"
   },
   {
    "duration": 188,
    "start_time": "2021-07-19T23:04:18.254Z"
   },
   {
    "duration": 5,
    "start_time": "2021-07-19T23:13:01.821Z"
   },
   {
    "duration": 163,
    "start_time": "2021-07-19T23:13:10.548Z"
   },
   {
    "duration": 3,
    "start_time": "2021-07-19T23:13:40.791Z"
   },
   {
    "duration": 4,
    "start_time": "2021-07-19T23:13:43.717Z"
   },
   {
    "duration": 168,
    "start_time": "2021-07-19T23:13:48.472Z"
   },
   {
    "duration": 170,
    "start_time": "2021-07-19T23:14:09.609Z"
   },
   {
    "duration": 478,
    "start_time": "2021-07-19T23:14:27.905Z"
   },
   {
    "duration": 337,
    "start_time": "2021-07-19T23:14:34.725Z"
   },
   {
    "duration": 339,
    "start_time": "2021-07-19T23:14:45.601Z"
   },
   {
    "duration": 324,
    "start_time": "2021-07-19T23:14:48.947Z"
   },
   {
    "duration": 13,
    "start_time": "2021-07-19T23:14:58.182Z"
   },
   {
    "duration": 7,
    "start_time": "2021-07-19T23:17:54.395Z"
   },
   {
    "duration": 5,
    "start_time": "2021-07-19T23:18:06.662Z"
   },
   {
    "duration": 9,
    "start_time": "2021-07-19T23:18:54.670Z"
   },
   {
    "duration": 9,
    "start_time": "2021-07-19T23:19:08.416Z"
   },
   {
    "duration": 306,
    "start_time": "2021-07-19T23:19:12.335Z"
   },
   {
    "duration": 317,
    "start_time": "2021-07-19T23:19:32.453Z"
   },
   {
    "duration": 338,
    "start_time": "2021-07-19T23:19:49.289Z"
   },
   {
    "duration": 671,
    "start_time": "2021-07-19T23:20:03.609Z"
   },
   {
    "duration": 321,
    "start_time": "2021-07-19T23:20:13.000Z"
   },
   {
    "duration": 9,
    "start_time": "2021-07-19T23:20:26.848Z"
   },
   {
    "duration": 333,
    "start_time": "2021-07-19T23:21:00.877Z"
   },
   {
    "duration": 316,
    "start_time": "2021-07-19T23:22:28.365Z"
   },
   {
    "duration": 304,
    "start_time": "2021-07-19T23:22:51.320Z"
   },
   {
    "duration": 316,
    "start_time": "2021-07-19T23:23:03.774Z"
   },
   {
    "duration": 13,
    "start_time": "2021-07-19T23:23:51.230Z"
   },
   {
    "duration": 322,
    "start_time": "2021-07-19T23:24:14.049Z"
   },
   {
    "duration": 314,
    "start_time": "2021-07-19T23:24:29.378Z"
   },
   {
    "duration": 328,
    "start_time": "2021-07-19T23:24:44.841Z"
   },
   {
    "duration": 555,
    "start_time": "2021-07-19T23:27:22.242Z"
   },
   {
    "duration": 308,
    "start_time": "2021-07-19T23:30:41.715Z"
   },
   {
    "duration": 315,
    "start_time": "2021-07-19T23:30:47.691Z"
   },
   {
    "duration": 310,
    "start_time": "2021-07-19T23:30:52.935Z"
   },
   {
    "duration": 298,
    "start_time": "2021-07-19T23:32:33.135Z"
   },
   {
    "duration": 321,
    "start_time": "2021-07-19T23:32:44.295Z"
   },
   {
    "duration": 317,
    "start_time": "2021-07-19T23:32:49.895Z"
   },
   {
    "duration": 322,
    "start_time": "2021-07-19T23:33:26.599Z"
   },
   {
    "duration": 321,
    "start_time": "2021-07-19T23:33:33.460Z"
   },
   {
    "duration": 307,
    "start_time": "2021-07-19T23:35:38.552Z"
   },
   {
    "duration": 342,
    "start_time": "2021-07-19T23:35:44.819Z"
   },
   {
    "duration": 606,
    "start_time": "2021-07-19T23:36:02.758Z"
   },
   {
    "duration": 316,
    "start_time": "2021-07-19T23:36:44.620Z"
   },
   {
    "duration": 301,
    "start_time": "2021-07-19T23:36:54.353Z"
   },
   {
    "duration": 8,
    "start_time": "2021-07-20T00:15:21.650Z"
   },
   {
    "duration": 9,
    "start_time": "2021-07-20T00:16:58.148Z"
   },
   {
    "duration": 10,
    "start_time": "2021-07-20T00:24:32.305Z"
   },
   {
    "duration": 5,
    "start_time": "2021-07-20T00:24:40.131Z"
   },
   {
    "duration": 5,
    "start_time": "2021-07-20T00:25:47.449Z"
   },
   {
    "duration": 4547,
    "start_time": "2021-07-20T00:26:51.093Z"
   },
   {
    "duration": 321,
    "start_time": "2021-07-20T00:27:00.921Z"
   },
   {
    "duration": 325,
    "start_time": "2021-07-20T00:27:31.065Z"
   },
   {
    "duration": 10,
    "start_time": "2021-07-20T00:27:41.656Z"
   },
   {
    "duration": 10,
    "start_time": "2021-07-20T00:28:33.664Z"
   },
   {
    "duration": 6,
    "start_time": "2021-07-20T00:30:42.052Z"
   },
   {
    "duration": 7,
    "start_time": "2021-07-20T00:32:56.273Z"
   },
   {
    "duration": 7,
    "start_time": "2021-07-20T00:33:59.904Z"
   },
   {
    "duration": 10,
    "start_time": "2021-07-20T00:34:13.515Z"
   },
   {
    "duration": 7,
    "start_time": "2021-07-20T00:34:40.215Z"
   },
   {
    "duration": 214,
    "start_time": "2021-07-20T00:36:30.534Z"
   },
   {
    "duration": 6,
    "start_time": "2021-07-20T00:36:39.386Z"
   },
   {
    "duration": 12,
    "start_time": "2021-07-20T00:37:04.303Z"
   },
   {
    "duration": 10,
    "start_time": "2021-07-20T00:37:13.250Z"
   },
   {
    "duration": 11,
    "start_time": "2021-07-20T00:38:05.126Z"
   },
   {
    "duration": 12,
    "start_time": "2021-07-20T00:38:16.220Z"
   },
   {
    "duration": 9,
    "start_time": "2021-07-20T00:40:10.053Z"
   },
   {
    "duration": 10,
    "start_time": "2021-07-20T00:40:24.022Z"
   },
   {
    "duration": 11,
    "start_time": "2021-07-20T00:40:34.661Z"
   },
   {
    "duration": 322,
    "start_time": "2021-07-20T00:41:24.009Z"
   },
   {
    "duration": 324,
    "start_time": "2021-07-20T00:41:37.414Z"
   },
   {
    "duration": 10,
    "start_time": "2021-07-20T00:41:49.999Z"
   },
   {
    "duration": 9,
    "start_time": "2021-07-20T00:44:53.231Z"
   },
   {
    "duration": 14,
    "start_time": "2021-07-20T00:45:06.530Z"
   },
   {
    "duration": 8,
    "start_time": "2021-07-20T00:45:52.505Z"
   },
   {
    "duration": 15,
    "start_time": "2021-07-20T00:46:01.377Z"
   },
   {
    "duration": 197,
    "start_time": "2021-07-20T00:46:19.573Z"
   },
   {
    "duration": 16,
    "start_time": "2021-07-20T00:46:24.592Z"
   },
   {
    "duration": 8,
    "start_time": "2021-07-20T00:46:29.881Z"
   },
   {
    "duration": 9,
    "start_time": "2021-07-20T00:50:35.055Z"
   },
   {
    "duration": 7,
    "start_time": "2021-07-20T00:50:46.078Z"
   },
   {
    "duration": 6,
    "start_time": "2021-07-20T00:50:58.541Z"
   },
   {
    "duration": 7,
    "start_time": "2021-07-20T00:51:27.203Z"
   },
   {
    "duration": 8,
    "start_time": "2021-07-20T00:53:18.281Z"
   },
   {
    "duration": 8,
    "start_time": "2021-07-20T00:53:33.918Z"
   },
   {
    "duration": 6,
    "start_time": "2021-07-20T00:54:56.328Z"
   },
   {
    "duration": 187,
    "start_time": "2021-07-20T00:55:08.087Z"
   },
   {
    "duration": 9,
    "start_time": "2021-07-20T00:55:12.914Z"
   },
   {
    "duration": 12,
    "start_time": "2021-07-20T00:55:19.736Z"
   },
   {
    "duration": 5,
    "start_time": "2021-07-20T00:55:27.112Z"
   },
   {
    "duration": 9,
    "start_time": "2021-07-20T00:56:41.635Z"
   },
   {
    "duration": 7,
    "start_time": "2021-07-20T00:57:55.428Z"
   },
   {
    "duration": 8,
    "start_time": "2021-07-20T00:58:01.478Z"
   },
   {
    "duration": 10,
    "start_time": "2021-07-20T00:58:06.292Z"
   },
   {
    "duration": 10,
    "start_time": "2021-07-20T00:58:12.124Z"
   },
   {
    "duration": 14,
    "start_time": "2021-07-20T00:58:26.710Z"
   },
   {
    "duration": 8,
    "start_time": "2021-07-20T00:58:33.862Z"
   },
   {
    "duration": 10,
    "start_time": "2021-07-20T00:59:30.723Z"
   },
   {
    "duration": 6,
    "start_time": "2021-07-20T00:59:40.364Z"
   },
   {
    "duration": 8,
    "start_time": "2021-07-20T01:02:21.301Z"
   },
   {
    "duration": 15,
    "start_time": "2021-07-20T01:02:32.419Z"
   },
   {
    "duration": 5,
    "start_time": "2021-07-20T01:02:38.363Z"
   },
   {
    "duration": 9,
    "start_time": "2021-07-20T14:26:05.160Z"
   },
   {
    "duration": 6,
    "start_time": "2021-07-20T14:26:22.714Z"
   },
   {
    "duration": 8,
    "start_time": "2021-07-20T14:27:01.533Z"
   },
   {
    "duration": 8,
    "start_time": "2021-07-20T14:28:23.293Z"
   },
   {
    "duration": 8,
    "start_time": "2021-07-20T14:58:02.203Z"
   },
   {
    "duration": 5,
    "start_time": "2021-07-20T14:58:15.808Z"
   },
   {
    "duration": 5,
    "start_time": "2021-07-20T14:59:09.582Z"
   },
   {
    "duration": 5,
    "start_time": "2021-07-20T14:59:29.862Z"
   },
   {
    "duration": 5,
    "start_time": "2021-07-20T15:00:03.827Z"
   },
   {
    "duration": 8,
    "start_time": "2021-07-20T15:01:32.677Z"
   },
   {
    "duration": 9,
    "start_time": "2021-07-20T15:01:55.263Z"
   },
   {
    "duration": 7,
    "start_time": "2021-07-20T15:23:41.069Z"
   },
   {
    "duration": 5,
    "start_time": "2021-07-20T15:23:49.708Z"
   },
   {
    "duration": 3,
    "start_time": "2021-07-20T15:44:15.492Z"
   },
   {
    "duration": 4,
    "start_time": "2021-07-20T15:52:00.840Z"
   },
   {
    "duration": 14,
    "start_time": "2021-07-20T15:52:08.235Z"
   },
   {
    "duration": 5,
    "start_time": "2021-07-20T15:54:02.912Z"
   },
   {
    "duration": 4,
    "start_time": "2021-07-20T16:01:39.177Z"
   },
   {
    "duration": 10,
    "start_time": "2021-07-20T16:02:07.504Z"
   },
   {
    "duration": 4,
    "start_time": "2021-07-20T16:02:15.792Z"
   },
   {
    "duration": 15,
    "start_time": "2021-07-20T16:11:34.701Z"
   },
   {
    "duration": 23,
    "start_time": "2021-07-20T16:11:44.536Z"
   },
   {
    "duration": 16,
    "start_time": "2021-07-20T16:11:50.453Z"
   },
   {
    "duration": 4,
    "start_time": "2021-07-20T16:30:05.885Z"
   },
   {
    "duration": 4,
    "start_time": "2021-07-20T16:30:23.739Z"
   },
   {
    "duration": 3,
    "start_time": "2021-07-20T16:30:44.111Z"
   },
   {
    "duration": 3,
    "start_time": "2021-07-20T16:30:55.393Z"
   },
   {
    "duration": 3,
    "start_time": "2021-07-20T16:31:19.602Z"
   },
   {
    "duration": 446,
    "start_time": "2021-07-21T22:35:10.108Z"
   },
   {
    "duration": 466,
    "start_time": "2021-07-21T22:35:17.367Z"
   },
   {
    "duration": 882,
    "start_time": "2021-07-21T22:35:55.515Z"
   },
   {
    "duration": 15,
    "start_time": "2021-07-21T22:36:02.109Z"
   },
   {
    "duration": 100,
    "start_time": "2021-07-21T22:36:11.209Z"
   },
   {
    "duration": 11,
    "start_time": "2021-07-21T22:36:25.216Z"
   },
   {
    "duration": 691,
    "start_time": "2021-07-21T22:36:28.052Z"
   },
   {
    "duration": 602,
    "start_time": "2021-07-21T22:37:14.968Z"
   },
   {
    "duration": 563,
    "start_time": "2021-07-21T22:37:29.367Z"
   },
   {
    "duration": 575,
    "start_time": "2021-07-21T22:37:40.453Z"
   },
   {
    "duration": 551,
    "start_time": "2021-07-21T22:37:52.035Z"
   },
   {
    "duration": 643,
    "start_time": "2021-07-21T22:38:06.772Z"
   },
   {
    "duration": 549,
    "start_time": "2021-07-21T22:38:27.148Z"
   },
   {
    "duration": 13,
    "start_time": "2021-07-21T22:38:31.433Z"
   },
   {
    "duration": 12,
    "start_time": "2021-07-21T22:38:33.297Z"
   },
   {
    "duration": 12,
    "start_time": "2021-07-21T22:38:35.175Z"
   },
   {
    "duration": 10,
    "start_time": "2021-07-21T22:38:36.613Z"
   },
   {
    "duration": 10,
    "start_time": "2021-07-21T22:38:38.141Z"
   },
   {
    "duration": 23,
    "start_time": "2021-07-21T22:38:39.248Z"
   },
   {
    "duration": 3,
    "start_time": "2021-07-21T22:38:40.003Z"
   },
   {
    "duration": 5,
    "start_time": "2021-07-21T22:38:41.681Z"
   },
   {
    "duration": 4,
    "start_time": "2021-07-21T22:38:43.159Z"
   },
   {
    "duration": 5,
    "start_time": "2021-07-21T22:38:46.263Z"
   },
   {
    "duration": 120,
    "start_time": "2021-07-21T22:38:47.947Z"
   },
   {
    "duration": 37,
    "start_time": "2021-07-21T22:39:26.016Z"
   },
   {
    "duration": 37,
    "start_time": "2021-07-21T22:40:43.091Z"
   },
   {
    "duration": 72,
    "start_time": "2021-07-21T22:40:53.814Z"
   },
   {
    "duration": 37,
    "start_time": "2021-07-21T22:42:33.980Z"
   },
   {
    "duration": 36,
    "start_time": "2021-07-21T22:42:59.967Z"
   },
   {
    "duration": 39,
    "start_time": "2021-07-21T22:43:21.523Z"
   },
   {
    "duration": 37,
    "start_time": "2021-07-21T22:43:31.312Z"
   },
   {
    "duration": 45,
    "start_time": "2021-07-21T22:46:29.452Z"
   },
   {
    "duration": 770,
    "start_time": "2021-07-21T22:56:27.139Z"
   },
   {
    "duration": 1002,
    "start_time": "2021-07-21T22:57:21.884Z"
   },
   {
    "duration": 1077,
    "start_time": "2021-07-21T22:57:50.393Z"
   },
   {
    "duration": 1063,
    "start_time": "2021-07-21T22:58:01.930Z"
   },
   {
    "duration": 985,
    "start_time": "2021-07-21T22:58:32.308Z"
   },
   {
    "duration": 37,
    "start_time": "2021-07-21T23:17:24.561Z"
   },
   {
    "duration": 38,
    "start_time": "2021-07-21T23:18:31.737Z"
   },
   {
    "duration": 48,
    "start_time": "2021-07-21T23:18:45.354Z"
   },
   {
    "duration": 994,
    "start_time": "2021-07-21T23:18:49.478Z"
   },
   {
    "duration": 40,
    "start_time": "2021-07-21T23:19:15.941Z"
   },
   {
    "duration": 38,
    "start_time": "2021-07-21T23:19:51.474Z"
   },
   {
    "duration": 39,
    "start_time": "2021-07-21T23:20:00.489Z"
   },
   {
    "duration": 680,
    "start_time": "2021-07-24T07:02:40.820Z"
   },
   {
    "duration": 9,
    "start_time": "2021-07-24T07:02:47.031Z"
   },
   {
    "duration": 376,
    "start_time": "2021-07-24T07:02:47.716Z"
   },
   {
    "duration": 352,
    "start_time": "2021-07-24T07:02:48.303Z"
   },
   {
    "duration": 8,
    "start_time": "2021-07-24T07:02:49.911Z"
   },
   {
    "duration": 8,
    "start_time": "2021-07-24T07:02:51.713Z"
   },
   {
    "duration": 8,
    "start_time": "2021-07-24T07:02:52.443Z"
   },
   {
    "duration": 7,
    "start_time": "2021-07-24T07:02:53.073Z"
   },
   {
    "duration": 15,
    "start_time": "2021-07-24T07:02:54.099Z"
   },
   {
    "duration": 2,
    "start_time": "2021-07-24T07:02:54.757Z"
   },
   {
    "duration": 4,
    "start_time": "2021-07-24T07:02:55.681Z"
   },
   {
    "duration": 4,
    "start_time": "2021-07-24T07:02:57.068Z"
   },
   {
    "duration": 4,
    "start_time": "2021-07-24T07:02:57.631Z"
   },
   {
    "duration": 37,
    "start_time": "2021-07-24T07:03:00.369Z"
   },
   {
    "duration": 29,
    "start_time": "2021-07-24T07:03:01.516Z"
   },
   {
    "duration": 545,
    "start_time": "2021-07-24T07:03:02.272Z"
   },
   {
    "duration": 23,
    "start_time": "2021-07-24T07:03:02.896Z"
   },
   {
    "duration": 10,
    "start_time": "2021-07-24T07:22:30.201Z"
   },
   {
    "duration": 672,
    "start_time": "2021-07-24T07:23:46.875Z"
   },
   {
    "duration": 291,
    "start_time": "2021-07-24T07:23:59.736Z"
   },
   {
    "duration": 300,
    "start_time": "2021-07-24T07:24:23.787Z"
   },
   {
    "duration": 325,
    "start_time": "2021-07-24T07:24:30.322Z"
   },
   {
    "duration": 377,
    "start_time": "2021-07-24T07:31:59.445Z"
   },
   {
    "duration": 321,
    "start_time": "2021-07-24T07:32:24.751Z"
   },
   {
    "duration": 297,
    "start_time": "2021-07-24T07:32:36.632Z"
   },
   {
    "duration": 391,
    "start_time": "2021-07-24T07:32:45.530Z"
   },
   {
    "duration": 298,
    "start_time": "2021-07-24T07:33:17.437Z"
   },
   {
    "duration": 308,
    "start_time": "2021-07-24T07:35:07.115Z"
   },
   {
    "duration": 362,
    "start_time": "2021-07-24T07:36:49.595Z"
   },
   {
    "duration": 293,
    "start_time": "2021-07-24T07:36:58.950Z"
   },
   {
    "duration": 296,
    "start_time": "2021-07-24T07:37:17.390Z"
   },
   {
    "duration": 292,
    "start_time": "2021-07-24T07:37:23.479Z"
   },
   {
    "duration": 283,
    "start_time": "2021-07-24T07:37:29.231Z"
   },
   {
    "duration": 405,
    "start_time": "2021-07-24T07:37:44.637Z"
   },
   {
    "duration": 302,
    "start_time": "2021-07-24T07:37:51.147Z"
   },
   {
    "duration": 323,
    "start_time": "2021-07-24T07:38:45.093Z"
   },
   {
    "duration": 9,
    "start_time": "2021-07-24T07:43:40.401Z"
   },
   {
    "duration": 4,
    "start_time": "2021-07-24T07:44:09.614Z"
   },
   {
    "duration": 5,
    "start_time": "2021-07-24T07:44:34.786Z"
   },
   {
    "duration": 9,
    "start_time": "2021-07-24T07:44:44.434Z"
   },
   {
    "duration": 9,
    "start_time": "2021-07-24T07:47:30.910Z"
   },
   {
    "duration": 11,
    "start_time": "2021-07-24T07:47:44.010Z"
   },
   {
    "duration": 11,
    "start_time": "2021-07-24T07:48:27.250Z"
   },
   {
    "duration": 21,
    "start_time": "2021-07-24T07:48:47.850Z"
   },
   {
    "duration": 8,
    "start_time": "2021-07-24T07:49:02.552Z"
   },
   {
    "duration": 7,
    "start_time": "2021-07-24T07:49:56.229Z"
   },
   {
    "duration": 3,
    "start_time": "2021-07-24T07:50:07.730Z"
   },
   {
    "duration": 8,
    "start_time": "2021-07-24T07:50:24.772Z"
   },
   {
    "duration": 14,
    "start_time": "2021-07-24T07:51:34.341Z"
   },
   {
    "duration": 5,
    "start_time": "2021-07-24T07:52:11.159Z"
   },
   {
    "duration": 9,
    "start_time": "2021-07-24T07:52:25.926Z"
   },
   {
    "duration": 282,
    "start_time": "2021-07-24T07:53:02.822Z"
   },
   {
    "duration": 274,
    "start_time": "2021-07-24T07:53:15.456Z"
   },
   {
    "duration": 276,
    "start_time": "2021-07-24T07:53:29.156Z"
   },
   {
    "duration": 378,
    "start_time": "2021-07-24T07:53:42.610Z"
   },
   {
    "duration": 5,
    "start_time": "2021-07-24T07:53:49.767Z"
   },
   {
    "duration": 6,
    "start_time": "2021-07-24T07:54:03.400Z"
   },
   {
    "duration": 88,
    "start_time": "2021-07-24T07:54:45.349Z"
   },
   {
    "duration": 199,
    "start_time": "2021-07-24T07:55:05.416Z"
   },
   {
    "duration": 94,
    "start_time": "2021-07-24T07:55:24.809Z"
   },
   {
    "duration": 6,
    "start_time": "2021-07-24T07:56:59.351Z"
   },
   {
    "duration": 6,
    "start_time": "2021-07-24T07:57:05.275Z"
   },
   {
    "duration": 5,
    "start_time": "2021-07-24T07:57:31.596Z"
   },
   {
    "duration": 297,
    "start_time": "2021-07-24T07:58:04.621Z"
   },
   {
    "duration": 285,
    "start_time": "2021-07-24T07:58:28.661Z"
   },
   {
    "duration": 322,
    "start_time": "2021-07-24T07:58:45.360Z"
   },
   {
    "duration": 291,
    "start_time": "2021-07-24T08:01:11.297Z"
   },
   {
    "duration": 393,
    "start_time": "2021-07-24T08:03:41.011Z"
   },
   {
    "duration": 298,
    "start_time": "2021-07-24T08:04:17.027Z"
   },
   {
    "duration": 316,
    "start_time": "2021-07-24T08:04:23.971Z"
   },
   {
    "duration": 288,
    "start_time": "2021-07-24T08:04:41.814Z"
   },
   {
    "duration": 315,
    "start_time": "2021-07-24T08:04:58.322Z"
   },
   {
    "duration": 303,
    "start_time": "2021-07-24T08:05:20.753Z"
   },
   {
    "duration": 433,
    "start_time": "2021-07-24T08:05:27.145Z"
   },
   {
    "duration": 292,
    "start_time": "2021-07-24T08:05:42.723Z"
   },
   {
    "duration": 301,
    "start_time": "2021-07-24T08:06:00.496Z"
   },
   {
    "duration": 8,
    "start_time": "2021-07-24T08:07:10.523Z"
   },
   {
    "duration": 208,
    "start_time": "2021-07-24T08:18:18.436Z"
   },
   {
    "duration": 8,
    "start_time": "2021-07-24T08:19:02.981Z"
   },
   {
    "duration": 302,
    "start_time": "2021-07-24T08:19:07.930Z"
   },
   {
    "duration": 201,
    "start_time": "2021-07-24T08:19:31.824Z"
   },
   {
    "duration": 422,
    "start_time": "2021-07-24T08:19:40.066Z"
   },
   {
    "duration": 311,
    "start_time": "2021-07-24T08:20:05.025Z"
   },
   {
    "duration": 166,
    "start_time": "2021-07-24T08:21:28.161Z"
   },
   {
    "duration": 173,
    "start_time": "2021-07-24T08:21:35.341Z"
   },
   {
    "duration": 172,
    "start_time": "2021-07-24T08:21:46.528Z"
   },
   {
    "duration": 298,
    "start_time": "2021-07-24T08:21:52.261Z"
   },
   {
    "duration": 301,
    "start_time": "2021-07-24T08:22:12.491Z"
   },
   {
    "duration": 299,
    "start_time": "2021-07-24T08:22:39.676Z"
   },
   {
    "duration": 426,
    "start_time": "2021-07-24T08:34:18.022Z"
   },
   {
    "duration": 297,
    "start_time": "2021-07-24T08:37:08.018Z"
   },
   {
    "duration": 300,
    "start_time": "2021-07-24T08:37:16.614Z"
   },
   {
    "duration": 301,
    "start_time": "2021-07-24T08:41:47.765Z"
   },
   {
    "duration": 6,
    "start_time": "2021-07-24T08:44:13.494Z"
   },
   {
    "duration": 10,
    "start_time": "2021-07-24T08:44:37.081Z"
   },
   {
    "duration": 302,
    "start_time": "2021-07-24T08:44:59.467Z"
   },
   {
    "duration": 298,
    "start_time": "2021-07-24T08:45:53.791Z"
   },
   {
    "duration": 277,
    "start_time": "2021-07-24T08:45:58.323Z"
   },
   {
    "duration": 441,
    "start_time": "2021-07-24T08:46:02.716Z"
   },
   {
    "duration": 301,
    "start_time": "2021-07-24T08:46:41.204Z"
   },
   {
    "duration": 303,
    "start_time": "2021-07-24T08:48:50.827Z"
   },
   {
    "duration": 298,
    "start_time": "2021-07-24T08:56:04.352Z"
   },
   {
    "duration": 310,
    "start_time": "2021-07-24T08:56:25.376Z"
   },
   {
    "duration": 307,
    "start_time": "2021-07-24T08:56:34.801Z"
   },
   {
    "duration": 317,
    "start_time": "2021-07-24T08:57:05.541Z"
   },
   {
    "duration": 86,
    "start_time": "2021-07-24T08:57:09.180Z"
   },
   {
    "duration": 90,
    "start_time": "2021-07-24T08:57:17.535Z"
   },
   {
    "duration": 3,
    "start_time": "2021-07-24T08:57:29.934Z"
   },
   {
    "duration": 3,
    "start_time": "2021-07-24T08:58:10.637Z"
   },
   {
    "duration": 6,
    "start_time": "2021-07-24T17:37:32.271Z"
   },
   {
    "duration": 848,
    "start_time": "2021-07-24T17:37:38.409Z"
   },
   {
    "duration": 12,
    "start_time": "2021-07-24T17:37:40.623Z"
   },
   {
    "duration": 676,
    "start_time": "2021-07-24T17:37:41.364Z"
   },
   {
    "duration": 588,
    "start_time": "2021-07-24T17:37:42.043Z"
   },
   {
    "duration": 11,
    "start_time": "2021-07-24T17:37:43.264Z"
   },
   {
    "duration": 12,
    "start_time": "2021-07-24T17:37:43.982Z"
   },
   {
    "duration": 10,
    "start_time": "2021-07-24T17:37:44.458Z"
   },
   {
    "duration": 10,
    "start_time": "2021-07-24T17:37:45.062Z"
   },
   {
    "duration": 24,
    "start_time": "2021-07-24T17:37:45.691Z"
   },
   {
    "duration": 4,
    "start_time": "2021-07-24T17:37:46.279Z"
   },
   {
    "duration": 6,
    "start_time": "2021-07-24T17:37:46.717Z"
   },
   {
    "duration": 4,
    "start_time": "2021-07-24T17:37:47.142Z"
   },
   {
    "duration": 4,
    "start_time": "2021-07-24T17:37:47.690Z"
   },
   {
    "duration": 45,
    "start_time": "2021-07-24T17:37:51.286Z"
   },
   {
    "duration": 46,
    "start_time": "2021-07-24T17:37:52.164Z"
   },
   {
    "duration": 980,
    "start_time": "2021-07-24T17:37:52.728Z"
   },
   {
    "duration": 38,
    "start_time": "2021-07-24T17:37:53.711Z"
   },
   {
    "duration": 550,
    "start_time": "2021-07-24T17:37:54.690Z"
   },
   {
    "duration": 558,
    "start_time": "2021-07-24T17:37:55.275Z"
   },
   {
    "duration": 558,
    "start_time": "2021-07-24T17:37:55.979Z"
   },
   {
    "duration": 619,
    "start_time": "2021-07-24T17:37:56.642Z"
   },
   {
    "duration": 5,
    "start_time": "2021-07-24T17:37:58.136Z"
   },
   {
    "duration": 12,
    "start_time": "2021-07-24T17:38:15.912Z"
   },
   {
    "duration": 635,
    "start_time": "2021-07-27T09:18:08.659Z"
   },
   {
    "duration": 9,
    "start_time": "2021-07-27T09:18:14.937Z"
   },
   {
    "duration": 346,
    "start_time": "2021-07-27T09:18:16.292Z"
   },
   {
    "duration": 318,
    "start_time": "2021-07-27T09:18:17.537Z"
   },
   {
    "duration": 8,
    "start_time": "2021-07-27T09:18:21.938Z"
   },
   {
    "duration": 8,
    "start_time": "2021-07-27T09:18:22.449Z"
   },
   {
    "duration": 8,
    "start_time": "2021-07-27T09:18:22.929Z"
   },
   {
    "duration": 8,
    "start_time": "2021-07-27T09:18:24.145Z"
   },
   {
    "duration": 16,
    "start_time": "2021-07-27T09:18:24.648Z"
   },
   {
    "duration": 3,
    "start_time": "2021-07-27T09:18:25.136Z"
   },
   {
    "duration": 4,
    "start_time": "2021-07-27T09:18:25.609Z"
   },
   {
    "duration": 4,
    "start_time": "2021-07-27T09:18:26.032Z"
   },
   {
    "duration": 3,
    "start_time": "2021-07-27T09:18:27.101Z"
   },
   {
    "duration": 26,
    "start_time": "2021-07-27T09:18:31.114Z"
   },
   {
    "duration": 29,
    "start_time": "2021-07-27T09:18:33.707Z"
   },
   {
    "duration": 548,
    "start_time": "2021-07-27T09:18:34.787Z"
   },
   {
    "duration": 24,
    "start_time": "2021-07-27T09:18:40.983Z"
   },
   {
    "duration": 277,
    "start_time": "2021-07-27T09:18:46.025Z"
   },
   {
    "duration": 293,
    "start_time": "2021-07-27T09:18:47.012Z"
   },
   {
    "duration": 285,
    "start_time": "2021-07-27T09:18:52.380Z"
   },
   {
    "duration": 347,
    "start_time": "2021-07-27T09:18:54.138Z"
   },
   {
    "duration": 3,
    "start_time": "2021-07-27T09:18:58.782Z"
   },
   {
    "duration": 289,
    "start_time": "2021-07-27T09:21:32.426Z"
   },
   {
    "duration": 273,
    "start_time": "2021-07-27T09:27:23.631Z"
   },
   {
    "duration": 403,
    "start_time": "2021-07-27T09:27:48.033Z"
   },
   {
    "duration": 290,
    "start_time": "2021-07-27T09:27:58.950Z"
   },
   {
    "duration": 335,
    "start_time": "2021-07-27T09:28:11.414Z"
   },
   {
    "duration": 278,
    "start_time": "2021-07-27T09:28:23.614Z"
   },
   {
    "duration": 300,
    "start_time": "2021-07-27T09:29:11.095Z"
   },
   {
    "duration": 239,
    "start_time": "2021-07-27T09:29:26.575Z"
   },
   {
    "duration": 380,
    "start_time": "2021-07-27T09:29:45.186Z"
   },
   {
    "duration": 117,
    "start_time": "2021-07-27T09:34:03.112Z"
   },
   {
    "duration": 275,
    "start_time": "2021-07-27T09:37:34.734Z"
   },
   {
    "duration": 125,
    "start_time": "2021-07-27T10:40:08.749Z"
   },
   {
    "duration": 111,
    "start_time": "2021-07-27T10:41:46.945Z"
   },
   {
    "duration": 1371,
    "start_time": "2021-07-27T10:50:23.039Z"
   },
   {
    "duration": 108,
    "start_time": "2021-07-27T10:50:29.618Z"
   },
   {
    "duration": 260,
    "start_time": "2021-07-27T10:51:31.693Z"
   },
   {
    "duration": 113,
    "start_time": "2021-07-27T10:51:54.878Z"
   },
   {
    "duration": 281,
    "start_time": "2021-07-27T11:43:53.411Z"
   },
   {
    "duration": 292,
    "start_time": "2021-07-27T11:44:35.405Z"
   },
   {
    "duration": 422,
    "start_time": "2021-07-27T11:44:46.681Z"
   },
   {
    "duration": 320,
    "start_time": "2021-07-27T11:44:58.333Z"
   },
   {
    "duration": 442,
    "start_time": "2021-07-27T11:45:13.455Z"
   },
   {
    "duration": 296,
    "start_time": "2021-07-27T11:45:34.191Z"
   },
   {
    "duration": 341,
    "start_time": "2021-07-27T11:45:55.601Z"
   },
   {
    "duration": 420,
    "start_time": "2021-07-27T11:46:08.016Z"
   },
   {
    "duration": 283,
    "start_time": "2021-07-27T11:47:35.732Z"
   },
   {
    "duration": 112,
    "start_time": "2021-07-27T11:47:41.765Z"
   },
   {
    "duration": 76,
    "start_time": "2021-07-27T12:09:23.438Z"
   },
   {
    "duration": 110,
    "start_time": "2021-07-27T12:09:32.247Z"
   },
   {
    "duration": 111,
    "start_time": "2021-07-27T12:10:30.048Z"
   },
   {
    "duration": 117,
    "start_time": "2021-07-27T12:10:59.480Z"
   },
   {
    "duration": 114,
    "start_time": "2021-07-27T12:11:23.155Z"
   },
   {
    "duration": 119,
    "start_time": "2021-07-27T12:30:32.808Z"
   },
   {
    "duration": 120,
    "start_time": "2021-07-27T12:30:42.693Z"
   },
   {
    "duration": 0,
    "start_time": "2021-07-27T12:49:05.567Z"
   },
   {
    "duration": 277,
    "start_time": "2021-07-27T12:49:13.829Z"
   },
   {
    "duration": 282,
    "start_time": "2021-07-27T12:49:49.142Z"
   },
   {
    "duration": 118,
    "start_time": "2021-07-27T12:50:14.425Z"
   },
   {
    "duration": 722,
    "start_time": "2021-07-27T19:19:26.486Z"
   },
   {
    "duration": 274,
    "start_time": "2021-07-27T19:19:43.208Z"
   },
   {
    "duration": 9,
    "start_time": "2021-07-27T19:19:45.702Z"
   },
   {
    "duration": 353,
    "start_time": "2021-07-27T19:19:57.216Z"
   },
   {
    "duration": 327,
    "start_time": "2021-07-27T19:19:57.748Z"
   },
   {
    "duration": 8,
    "start_time": "2021-07-27T19:19:58.162Z"
   },
   {
    "duration": 10,
    "start_time": "2021-07-27T19:19:58.663Z"
   },
   {
    "duration": 10,
    "start_time": "2021-07-27T19:19:59.369Z"
   },
   {
    "duration": 8,
    "start_time": "2021-07-27T19:19:59.592Z"
   },
   {
    "duration": 18,
    "start_time": "2021-07-27T19:19:59.797Z"
   },
   {
    "duration": 2,
    "start_time": "2021-07-27T19:19:59.961Z"
   },
   {
    "duration": 5,
    "start_time": "2021-07-27T19:20:00.132Z"
   },
   {
    "duration": 4,
    "start_time": "2021-07-27T19:20:00.318Z"
   },
   {
    "duration": 4,
    "start_time": "2021-07-27T19:20:00.622Z"
   },
   {
    "duration": 105,
    "start_time": "2021-07-27T19:20:00.948Z"
   },
   {
    "duration": 40,
    "start_time": "2021-07-27T19:20:01.122Z"
   },
   {
    "duration": 714,
    "start_time": "2021-07-27T19:20:01.301Z"
   },
   {
    "duration": 41,
    "start_time": "2021-07-27T19:20:02.017Z"
   },
   {
    "duration": 313,
    "start_time": "2021-07-27T19:20:02.756Z"
   },
   {
    "duration": 314,
    "start_time": "2021-07-27T19:20:03.470Z"
   },
   {
    "duration": 334,
    "start_time": "2021-07-27T19:20:03.786Z"
   },
   {
    "duration": 331,
    "start_time": "2021-07-27T19:20:04.122Z"
   },
   {
    "duration": 3,
    "start_time": "2021-07-27T19:20:04.455Z"
   },
   {
    "duration": 396,
    "start_time": "2021-07-27T19:20:04.459Z"
   },
   {
    "duration": 140,
    "start_time": "2021-07-27T19:20:04.857Z"
   },
   {
    "duration": 160,
    "start_time": "2021-07-27T19:20:09.725Z"
   },
   {
    "duration": 330,
    "start_time": "2021-07-27T19:20:15.621Z"
   },
   {
    "duration": 3,
    "start_time": "2021-07-27T19:20:20.135Z"
   },
   {
    "duration": 326,
    "start_time": "2021-07-27T19:20:20.701Z"
   },
   {
    "duration": 457,
    "start_time": "2021-07-27T19:27:19.224Z"
   },
   {
    "duration": 517,
    "start_time": "2021-07-27T19:27:27.352Z"
   },
   {
    "duration": 304,
    "start_time": "2021-07-27T19:27:32.913Z"
   },
   {
    "duration": 325,
    "start_time": "2021-07-27T19:28:07.866Z"
   },
   {
    "duration": 451,
    "start_time": "2021-07-27T19:28:35.344Z"
   },
   {
    "duration": 126,
    "start_time": "2021-07-27T19:29:02.532Z"
   },
   {
    "duration": 191,
    "start_time": "2021-07-27T19:29:07.716Z"
   },
   {
    "duration": 602,
    "start_time": "2021-07-27T19:29:46.542Z"
   },
   {
    "duration": 309,
    "start_time": "2021-07-27T19:29:54.203Z"
   },
   {
    "duration": 587,
    "start_time": "2021-07-27T19:29:58.318Z"
   },
   {
    "duration": 294,
    "start_time": "2021-07-27T19:30:04.126Z"
   },
   {
    "duration": 455,
    "start_time": "2021-07-27T19:30:23.467Z"
   },
   {
    "duration": 361,
    "start_time": "2021-07-27T19:30:31.712Z"
   },
   {
    "duration": 450,
    "start_time": "2021-07-27T19:30:37.735Z"
   },
   {
    "duration": 628,
    "start_time": "2021-07-27T19:30:41.055Z"
   },
   {
    "duration": 535,
    "start_time": "2021-07-27T19:30:54.122Z"
   },
   {
    "duration": 455,
    "start_time": "2021-07-27T19:31:07.618Z"
   },
   {
    "duration": 437,
    "start_time": "2021-07-27T19:31:41.163Z"
   },
   {
    "duration": 447,
    "start_time": "2021-07-27T21:27:17.117Z"
   },
   {
    "duration": 121,
    "start_time": "2021-07-27T21:30:22.112Z"
   },
   {
    "duration": 96,
    "start_time": "2021-07-27T21:49:58.499Z"
   },
   {
    "duration": 14,
    "start_time": "2021-07-27T21:53:55.401Z"
   },
   {
    "duration": 24,
    "start_time": "2021-07-27T21:54:01.911Z"
   },
   {
    "duration": 24,
    "start_time": "2021-07-27T21:54:42.224Z"
   },
   {
    "duration": 25,
    "start_time": "2021-07-27T21:54:55.504Z"
   },
   {
    "duration": 338,
    "start_time": "2021-07-27T22:35:13.248Z"
   },
   {
    "duration": 306,
    "start_time": "2021-07-27T22:35:33.066Z"
   },
   {
    "duration": 15,
    "start_time": "2021-07-27T22:39:10.379Z"
   },
   {
    "duration": 13,
    "start_time": "2021-07-27T22:40:07.895Z"
   },
   {
    "duration": 13,
    "start_time": "2021-07-27T22:40:19.966Z"
   },
   {
    "duration": 14,
    "start_time": "2021-07-27T22:40:23.375Z"
   },
   {
    "duration": 12,
    "start_time": "2021-07-27T22:41:01.528Z"
   },
   {
    "duration": 122,
    "start_time": "2021-07-27T22:41:29.536Z"
   },
   {
    "duration": 13,
    "start_time": "2021-07-27T22:41:40.457Z"
   },
   {
    "duration": 13,
    "start_time": "2021-07-27T22:41:53.177Z"
   },
   {
    "duration": 13,
    "start_time": "2021-07-27T22:42:47.724Z"
   },
   {
    "duration": 318,
    "start_time": "2021-07-27T22:43:55.959Z"
   },
   {
    "duration": 14,
    "start_time": "2021-07-27T22:44:50.345Z"
   },
   {
    "duration": 13,
    "start_time": "2021-07-27T22:45:12.131Z"
   },
   {
    "duration": 9,
    "start_time": "2021-07-27T22:45:58.685Z"
   },
   {
    "duration": 13,
    "start_time": "2021-07-27T22:46:13.636Z"
   },
   {
    "duration": 11,
    "start_time": "2021-07-27T22:55:31.477Z"
   },
   {
    "duration": 13,
    "start_time": "2021-07-27T22:55:56.494Z"
   },
   {
    "duration": 14,
    "start_time": "2021-07-27T22:57:27.102Z"
   },
   {
    "duration": 12,
    "start_time": "2021-07-27T22:57:56.011Z"
   },
   {
    "duration": 330,
    "start_time": "2021-07-27T22:58:16.563Z"
   },
   {
    "duration": 15,
    "start_time": "2021-07-27T22:58:20.013Z"
   },
   {
    "duration": 13,
    "start_time": "2021-07-27T23:03:58.149Z"
   },
   {
    "duration": 14,
    "start_time": "2021-07-27T23:04:09.275Z"
   },
   {
    "duration": 121,
    "start_time": "2021-07-27T23:04:58.351Z"
   },
   {
    "duration": 13,
    "start_time": "2021-07-27T23:04:59.598Z"
   },
   {
    "duration": 13,
    "start_time": "2021-07-27T23:05:09.534Z"
   },
   {
    "duration": 13,
    "start_time": "2021-07-27T23:05:15.381Z"
   },
   {
    "duration": 13,
    "start_time": "2021-07-27T23:05:26.335Z"
   },
   {
    "duration": 4509,
    "start_time": "2021-07-27T23:05:36.143Z"
   },
   {
    "duration": 14,
    "start_time": "2021-07-27T23:05:56.668Z"
   },
   {
    "duration": 8,
    "start_time": "2021-07-27T23:06:14.339Z"
   },
   {
    "duration": 305,
    "start_time": "2021-07-27T23:06:35.947Z"
   },
   {
    "duration": 318,
    "start_time": "2021-07-27T23:08:33.624Z"
   },
   {
    "duration": 8,
    "start_time": "2021-07-27T23:08:37.760Z"
   },
   {
    "duration": 13,
    "start_time": "2021-07-27T23:08:43.432Z"
   },
   {
    "duration": 266,
    "start_time": "2021-07-27T23:09:22.410Z"
   },
   {
    "duration": 14,
    "start_time": "2021-07-27T23:09:27.329Z"
   },
   {
    "duration": 276,
    "start_time": "2021-07-27T23:27:30.754Z"
   },
   {
    "duration": 13,
    "start_time": "2021-07-27T23:27:40.122Z"
   },
   {
    "duration": 16,
    "start_time": "2021-07-27T23:28:43.579Z"
   },
   {
    "duration": 19,
    "start_time": "2021-07-27T23:29:58.141Z"
   },
   {
    "duration": 403,
    "start_time": "2021-07-27T23:30:40.280Z"
   },
   {
    "duration": 308,
    "start_time": "2021-07-27T23:30:53.217Z"
   },
   {
    "duration": 462,
    "start_time": "2021-07-27T23:31:16.733Z"
   },
   {
    "duration": 477,
    "start_time": "2021-07-27T23:31:25.266Z"
   },
   {
    "duration": 304,
    "start_time": "2021-07-27T23:31:29.266Z"
   },
   {
    "duration": 310,
    "start_time": "2021-07-27T23:33:36.132Z"
   },
   {
    "duration": 339,
    "start_time": "2021-07-27T23:41:47.104Z"
   },
   {
    "duration": 108,
    "start_time": "2021-07-27T23:42:02.304Z"
   },
   {
    "duration": 123,
    "start_time": "2021-07-27T23:42:33.840Z"
   },
   {
    "duration": 310,
    "start_time": "2021-07-27T23:45:00.566Z"
   },
   {
    "duration": 4,
    "start_time": "2021-07-27T23:48:04.105Z"
   },
   {
    "duration": 3,
    "start_time": "2021-07-27T23:48:10.942Z"
   },
   {
    "duration": 3,
    "start_time": "2021-07-27T23:50:37.183Z"
   },
   {
    "duration": 121,
    "start_time": "2021-07-27T23:51:30.127Z"
   },
   {
    "duration": 114,
    "start_time": "2021-07-27T23:51:37.287Z"
   },
   {
    "duration": 115,
    "start_time": "2021-07-27T23:52:07.050Z"
   },
   {
    "duration": 3,
    "start_time": "2021-07-27T23:53:37.919Z"
   },
   {
    "duration": 3,
    "start_time": "2021-07-27T23:54:07.384Z"
   },
   {
    "duration": 8,
    "start_time": "2021-07-28T00:27:02.372Z"
   },
   {
    "duration": 4724,
    "start_time": "2021-07-28T00:28:43.772Z"
   },
   {
    "duration": 93,
    "start_time": "2021-07-28T00:45:42.582Z"
   },
   {
    "duration": 3,
    "start_time": "2021-07-28T00:45:45.432Z"
   },
   {
    "duration": 262,
    "start_time": "2021-07-28T00:49:39.527Z"
   },
   {
    "duration": 11,
    "start_time": "2021-07-28T00:49:52.775Z"
   },
   {
    "duration": 138,
    "start_time": "2021-07-28T00:50:37.194Z"
   },
   {
    "duration": 136,
    "start_time": "2021-07-28T00:51:02.034Z"
   },
   {
    "duration": 3,
    "start_time": "2021-07-28T00:53:08.730Z"
   },
   {
    "duration": 3,
    "start_time": "2021-07-28T00:53:22.794Z"
   },
   {
    "duration": 157,
    "start_time": "2021-07-28T01:00:18.965Z"
   },
   {
    "duration": 158,
    "start_time": "2021-07-28T01:01:05.377Z"
   },
   {
    "duration": 149,
    "start_time": "2021-07-28T01:01:14.317Z"
   },
   {
    "duration": 163,
    "start_time": "2021-07-28T01:03:31.132Z"
   },
   {
    "duration": -54,
    "start_time": "2021-07-28T01:04:36.692Z"
   },
   {
    "duration": 195,
    "start_time": "2021-07-28T01:04:41.763Z"
   },
   {
    "duration": 176,
    "start_time": "2021-07-28T01:06:33.908Z"
   },
   {
    "duration": 164,
    "start_time": "2021-07-28T01:07:32.071Z"
   },
   {
    "duration": 4,
    "start_time": "2021-07-28T01:57:15.305Z"
   },
   {
    "duration": 3,
    "start_time": "2021-07-28T01:58:17.298Z"
   },
   {
    "duration": 4,
    "start_time": "2021-07-28T01:58:51.473Z"
   },
   {
    "duration": 4,
    "start_time": "2021-07-28T01:59:40.106Z"
   },
   {
    "duration": 4,
    "start_time": "2021-07-28T02:00:00.613Z"
   },
   {
    "duration": 3,
    "start_time": "2021-07-28T02:00:07.868Z"
   },
   {
    "duration": 4,
    "start_time": "2021-07-28T02:01:14.703Z"
   },
   {
    "duration": 2,
    "start_time": "2021-07-28T02:02:06.270Z"
   },
   {
    "duration": 902,
    "start_time": "2021-07-28T20:39:50.741Z"
   },
   {
    "duration": 12,
    "start_time": "2021-07-28T20:39:54.644Z"
   },
   {
    "duration": 685,
    "start_time": "2021-07-28T20:39:55.222Z"
   },
   {
    "duration": 576,
    "start_time": "2021-07-28T20:39:56.705Z"
   },
   {
    "duration": 10,
    "start_time": "2021-07-28T20:39:57.767Z"
   },
   {
    "duration": 11,
    "start_time": "2021-07-28T20:39:58.470Z"
   },
   {
    "duration": 10,
    "start_time": "2021-07-28T20:39:58.879Z"
   },
   {
    "duration": 10,
    "start_time": "2021-07-28T20:39:59.409Z"
   },
   {
    "duration": 22,
    "start_time": "2021-07-28T20:39:59.852Z"
   },
   {
    "duration": 3,
    "start_time": "2021-07-28T20:40:00.300Z"
   },
   {
    "duration": 6,
    "start_time": "2021-07-28T20:40:00.709Z"
   },
   {
    "duration": 5,
    "start_time": "2021-07-28T20:40:01.486Z"
   },
   {
    "duration": 5,
    "start_time": "2021-07-28T20:40:02.007Z"
   },
   {
    "duration": 48,
    "start_time": "2021-07-28T20:40:04.112Z"
   },
   {
    "duration": 48,
    "start_time": "2021-07-28T20:40:04.687Z"
   },
   {
    "duration": 990,
    "start_time": "2021-07-28T20:40:05.595Z"
   },
   {
    "duration": 39,
    "start_time": "2021-07-28T20:40:06.588Z"
   },
   {
    "duration": 618,
    "start_time": "2021-07-28T20:40:07.549Z"
   },
   {
    "duration": 962,
    "start_time": "2021-07-28T20:40:08.189Z"
   },
   {
    "duration": 583,
    "start_time": "2021-07-28T20:40:09.153Z"
   },
   {
    "duration": 651,
    "start_time": "2021-07-28T20:40:10.085Z"
   },
   {
    "duration": 5,
    "start_time": "2021-07-28T20:40:11.561Z"
   },
   {
    "duration": 832,
    "start_time": "2021-07-28T20:40:12.977Z"
   },
   {
    "duration": 232,
    "start_time": "2021-07-28T20:40:13.812Z"
   },
   {
    "duration": 5,
    "start_time": "2021-07-28T20:40:16.577Z"
   },
   {
    "duration": 578,
    "start_time": "2021-07-28T20:40:17.205Z"
   },
   {
    "duration": 205,
    "start_time": "2021-07-28T20:40:17.839Z"
   },
   {
    "duration": 4,
    "start_time": "2021-07-28T20:40:20.240Z"
   },
   {
    "duration": 8528,
    "start_time": "2021-07-28T20:40:20.670Z"
   },
   {
    "duration": 5,
    "start_time": "2021-07-28T20:40:29.201Z"
   },
   {
    "duration": 295,
    "start_time": "2021-07-28T20:40:29.209Z"
   },
   {
    "duration": 4,
    "start_time": "2021-07-28T20:40:29.507Z"
   },
   {
    "duration": 313,
    "start_time": "2021-07-28T20:40:29.514Z"
   },
   {
    "duration": 316,
    "start_time": "2021-07-28T20:40:29.830Z"
   },
   {
    "duration": 332,
    "start_time": "2021-07-28T20:40:30.148Z"
   },
   {
    "duration": 5,
    "start_time": "2021-07-28T20:40:30.483Z"
   },
   {
    "duration": 626,
    "start_time": "2021-07-28T21:58:40.637Z"
   },
   {
    "duration": 32,
    "start_time": "2021-07-28T21:58:52.380Z"
   },
   {
    "duration": 30,
    "start_time": "2021-07-28T21:58:57.491Z"
   },
   {
    "duration": 38,
    "start_time": "2021-07-28T21:59:04.793Z"
   },
   {
    "duration": 38,
    "start_time": "2021-07-28T21:59:31.190Z"
   },
   {
    "duration": 36,
    "start_time": "2021-07-28T21:59:51.356Z"
   },
   {
    "duration": 38,
    "start_time": "2021-07-28T22:00:38.776Z"
   },
   {
    "duration": 35,
    "start_time": "2021-07-28T22:01:40.489Z"
   },
   {
    "duration": 148,
    "start_time": "2021-07-28T22:02:32.717Z"
   },
   {
    "duration": 37,
    "start_time": "2021-07-28T22:02:45.621Z"
   },
   {
    "duration": 35,
    "start_time": "2021-07-28T22:05:14.746Z"
   },
   {
    "duration": 448,
    "start_time": "2021-07-28T22:05:49.347Z"
   },
   {
    "duration": 40,
    "start_time": "2021-07-28T22:06:22.054Z"
   },
   {
    "duration": 39,
    "start_time": "2021-07-28T22:06:54.751Z"
   },
   {
    "duration": 41,
    "start_time": "2021-07-28T22:07:03.217Z"
   },
   {
    "duration": 46,
    "start_time": "2021-07-28T22:07:09.433Z"
   },
   {
    "duration": 45,
    "start_time": "2021-07-28T22:07:19.681Z"
   },
   {
    "duration": 46,
    "start_time": "2021-07-28T22:08:35.253Z"
   },
   {
    "duration": 47,
    "start_time": "2021-07-28T22:08:42.093Z"
   },
   {
    "duration": 48,
    "start_time": "2021-07-28T22:08:48.621Z"
   },
   {
    "duration": 54,
    "start_time": "2021-07-28T22:09:31.614Z"
   },
   {
    "duration": 44,
    "start_time": "2021-07-28T22:27:35.803Z"
   },
   {
    "duration": 10,
    "start_time": "2021-07-28T23:11:44.537Z"
   },
   {
    "duration": 10,
    "start_time": "2021-07-28T23:13:12.870Z"
   },
   {
    "duration": 10,
    "start_time": "2021-07-28T23:13:40.908Z"
   },
   {
    "duration": 10,
    "start_time": "2021-07-28T23:13:46.217Z"
   },
   {
    "duration": 360,
    "start_time": "2021-07-28T23:14:14.499Z"
   },
   {
    "duration": 409,
    "start_time": "2021-07-28T23:14:41.610Z"
   },
   {
    "duration": 15,
    "start_time": "2021-07-28T23:14:53.495Z"
   },
   {
    "duration": 11,
    "start_time": "2021-07-28T23:15:08.363Z"
   },
   {
    "duration": 11,
    "start_time": "2021-07-28T23:15:26.654Z"
   },
   {
    "duration": 17,
    "start_time": "2021-07-28T23:15:54.524Z"
   },
   {
    "duration": 537,
    "start_time": "2021-07-28T23:16:11.600Z"
   },
   {
    "duration": 552,
    "start_time": "2021-07-28T23:16:24.300Z"
   },
   {
    "duration": 614,
    "start_time": "2021-07-28T23:16:29.500Z"
   },
   {
    "duration": 534,
    "start_time": "2021-07-28T23:17:13.043Z"
   },
   {
    "duration": 538,
    "start_time": "2021-07-28T23:17:21.408Z"
   },
   {
    "duration": 11,
    "start_time": "2021-07-28T23:17:29.840Z"
   },
   {
    "duration": 11,
    "start_time": "2021-07-28T23:18:57.842Z"
   },
   {
    "duration": 18,
    "start_time": "2021-07-28T23:21:01.042Z"
   },
   {
    "duration": 12,
    "start_time": "2021-07-28T23:21:24.248Z"
   },
   {
    "duration": 35,
    "start_time": "2021-07-28T23:21:37.756Z"
   },
   {
    "duration": 144,
    "start_time": "2021-07-28T23:22:44.851Z"
   },
   {
    "duration": 16,
    "start_time": "2021-07-28T23:22:52.916Z"
   },
   {
    "duration": 20,
    "start_time": "2021-07-28T23:24:06.481Z"
   },
   {
    "duration": 19,
    "start_time": "2021-07-28T23:24:31.497Z"
   },
   {
    "duration": 37,
    "start_time": "2021-07-28T23:26:52.951Z"
   },
   {
    "duration": 35,
    "start_time": "2021-07-28T23:27:21.722Z"
   },
   {
    "duration": 466,
    "start_time": "2021-07-28T23:28:19.683Z"
   },
   {
    "duration": 38,
    "start_time": "2021-07-28T23:30:06.919Z"
   },
   {
    "duration": 37,
    "start_time": "2021-07-28T23:30:37.940Z"
   },
   {
    "duration": 38,
    "start_time": "2021-07-28T23:30:40.872Z"
   },
   {
    "duration": 36,
    "start_time": "2021-07-28T23:30:45.386Z"
   },
   {
    "duration": 38,
    "start_time": "2021-07-28T23:32:28.364Z"
   },
   {
    "duration": 39,
    "start_time": "2021-07-28T23:32:38.016Z"
   },
   {
    "duration": 21,
    "start_time": "2021-07-28T23:32:54.760Z"
   },
   {
    "duration": 23,
    "start_time": "2021-07-28T23:33:13.856Z"
   },
   {
    "duration": 19,
    "start_time": "2021-07-28T23:33:24.228Z"
   },
   {
    "duration": 21,
    "start_time": "2021-07-28T23:33:29.297Z"
   },
   {
    "duration": 18,
    "start_time": "2021-07-28T23:34:25.956Z"
   },
   {
    "duration": 16,
    "start_time": "2021-07-28T23:34:33.421Z"
   },
   {
    "duration": 23,
    "start_time": "2021-07-28T23:34:45.836Z"
   },
   {
    "duration": 30,
    "start_time": "2021-07-28T23:35:05.374Z"
   },
   {
    "duration": 22,
    "start_time": "2021-07-28T23:35:14.896Z"
   },
   {
    "duration": 28,
    "start_time": "2021-07-28T23:35:42.969Z"
   },
   {
    "duration": 17,
    "start_time": "2021-07-28T23:36:09.816Z"
   },
   {
    "duration": 17,
    "start_time": "2021-07-28T23:36:18.858Z"
   },
   {
    "duration": 10,
    "start_time": "2021-07-28T23:36:52.771Z"
   },
   {
    "duration": 42,
    "start_time": "2021-07-28T23:38:00.304Z"
   },
   {
    "duration": 42,
    "start_time": "2021-07-28T23:39:10.206Z"
   },
   {
    "duration": 47,
    "start_time": "2021-07-28T23:39:31.869Z"
   },
   {
    "duration": 16,
    "start_time": "2021-07-28T23:39:36.772Z"
   },
   {
    "duration": 21,
    "start_time": "2021-07-28T23:39:52.479Z"
   },
   {
    "duration": 519,
    "start_time": "2021-07-28T23:40:01.483Z"
   },
   {
    "duration": 469,
    "start_time": "2021-07-28T23:40:18.411Z"
   },
   {
    "duration": 508,
    "start_time": "2021-07-28T23:41:11.285Z"
   },
   {
    "duration": 504,
    "start_time": "2021-07-28T23:41:48.808Z"
   },
   {
    "duration": 1094,
    "start_time": "2021-07-28T23:46:08.057Z"
   },
   {
    "duration": 308,
    "start_time": "2021-07-28T23:47:23.817Z"
   },
   {
    "duration": 343,
    "start_time": "2021-07-28T23:48:31.607Z"
   },
   {
    "duration": 16,
    "start_time": "2021-07-28T23:49:30.784Z"
   },
   {
    "duration": 402,
    "start_time": "2021-07-28T23:49:39.101Z"
   },
   {
    "duration": 438,
    "start_time": "2021-07-28T23:49:47.262Z"
   },
   {
    "duration": 16,
    "start_time": "2021-07-28T23:50:28.303Z"
   },
   {
    "duration": 16,
    "start_time": "2021-07-28T23:51:08.945Z"
   },
   {
    "duration": 17,
    "start_time": "2021-07-28T23:51:36.651Z"
   },
   {
    "duration": 47,
    "start_time": "2021-07-28T23:51:45.835Z"
   },
   {
    "duration": 16,
    "start_time": "2021-07-28T23:51:56.131Z"
   },
   {
    "duration": 22,
    "start_time": "2021-07-28T23:54:08.457Z"
   },
   {
    "duration": 77,
    "start_time": "2021-07-28T23:54:13.335Z"
   },
   {
    "duration": 153,
    "start_time": "2021-07-28T23:55:17.854Z"
   },
   {
    "duration": 420,
    "start_time": "2021-07-28T23:55:21.221Z"
   },
   {
    "duration": 76,
    "start_time": "2021-07-28T23:55:25.997Z"
   },
   {
    "duration": -109,
    "start_time": "2021-07-28T23:56:01.681Z"
   },
   {
    "duration": 24,
    "start_time": "2021-07-28T23:56:14.510Z"
   },
   {
    "duration": 308,
    "start_time": "2021-07-28T23:56:45.174Z"
   },
   {
    "duration": 316,
    "start_time": "2021-07-29T00:05:44.151Z"
   },
   {
    "duration": 4,
    "start_time": "2021-07-29T00:28:29.631Z"
   },
   {
    "duration": 5,
    "start_time": "2021-07-29T00:28:45.705Z"
   },
   {
    "duration": 4,
    "start_time": "2021-07-29T00:28:54.323Z"
   },
   {
    "duration": 4,
    "start_time": "2021-07-29T00:29:12.981Z"
   },
   {
    "duration": 4,
    "start_time": "2021-07-29T00:34:14.026Z"
   },
   {
    "duration": 5,
    "start_time": "2021-07-29T00:34:29.246Z"
   },
   {
    "duration": 6,
    "start_time": "2021-07-29T00:34:45.872Z"
   },
   {
    "duration": 3,
    "start_time": "2021-07-29T00:35:23.292Z"
   },
   {
    "duration": 5,
    "start_time": "2021-07-29T00:35:38.776Z"
   },
   {
    "duration": 4,
    "start_time": "2021-07-29T00:35:42.766Z"
   },
   {
    "duration": 4,
    "start_time": "2021-07-29T00:36:39.145Z"
   },
   {
    "duration": 153,
    "start_time": "2021-07-29T00:40:12.038Z"
   },
   {
    "duration": 10,
    "start_time": "2021-07-29T00:41:59.616Z"
   },
   {
    "duration": 11,
    "start_time": "2021-07-29T00:42:54.216Z"
   },
   {
    "duration": 10,
    "start_time": "2021-07-29T00:43:22.346Z"
   },
   {
    "duration": 10,
    "start_time": "2021-07-29T00:43:37.826Z"
   },
   {
    "duration": 821,
    "start_time": "2021-07-29T00:46:38.230Z"
   },
   {
    "duration": 822,
    "start_time": "2021-07-29T00:47:10.275Z"
   },
   {
    "duration": 838,
    "start_time": "2021-07-29T00:47:22.682Z"
   },
   {
    "duration": 567,
    "start_time": "2021-07-29T00:47:31.132Z"
   },
   {
    "duration": 678,
    "start_time": "2021-07-29T00:47:45.430Z"
   },
   {
    "duration": 842,
    "start_time": "2021-07-29T00:47:53.055Z"
   },
   {
    "duration": 831,
    "start_time": "2021-07-29T00:48:12.142Z"
   },
   {
    "duration": 834,
    "start_time": "2021-07-29T00:49:18.208Z"
   },
   {
    "duration": 980,
    "start_time": "2021-07-29T00:50:03.860Z"
   },
   {
    "duration": 818,
    "start_time": "2021-07-29T00:50:38.868Z"
   },
   {
    "duration": 826,
    "start_time": "2021-07-29T00:50:46.879Z"
   },
   {
    "duration": 1108,
    "start_time": "2021-07-29T00:51:00.815Z"
   },
   {
    "duration": 832,
    "start_time": "2021-07-29T00:54:23.344Z"
   },
   {
    "duration": 916,
    "start_time": "2021-07-29T00:54:53.190Z"
   },
   {
    "duration": 17,
    "start_time": "2021-07-29T00:56:01.874Z"
   },
   {
    "duration": 881,
    "start_time": "2021-07-29T00:56:31.068Z"
   },
   {
    "duration": 1543,
    "start_time": "2021-07-29T00:57:29.848Z"
   },
   {
    "duration": 856,
    "start_time": "2021-07-29T00:57:36.066Z"
   },
   {
    "duration": 840,
    "start_time": "2021-07-29T00:58:16.517Z"
   },
   {
    "duration": 843,
    "start_time": "2021-07-29T00:58:28.309Z"
   },
   {
    "duration": 996,
    "start_time": "2021-07-29T00:58:51.584Z"
   },
   {
    "duration": 888,
    "start_time": "2021-07-29T01:00:27.455Z"
   },
   {
    "duration": 844,
    "start_time": "2021-07-29T01:00:49.683Z"
   },
   {
    "duration": 814,
    "start_time": "2021-07-29T01:02:43.022Z"
   },
   {
    "duration": 1044,
    "start_time": "2021-07-29T01:02:51.887Z"
   },
   {
    "duration": 849,
    "start_time": "2021-07-29T01:03:38.999Z"
   },
   {
    "duration": 832,
    "start_time": "2021-07-29T01:03:46.698Z"
   },
   {
    "duration": 1023,
    "start_time": "2021-07-29T01:04:01.016Z"
   },
   {
    "duration": 825,
    "start_time": "2021-07-29T01:04:06.976Z"
   },
   {
    "duration": 918,
    "start_time": "2021-07-29T01:04:12.258Z"
   },
   {
    "duration": 1254,
    "start_time": "2021-07-29T01:04:21.200Z"
   },
   {
    "duration": 1034,
    "start_time": "2021-07-29T01:04:25.369Z"
   },
   {
    "duration": 879,
    "start_time": "2021-07-29T01:04:33.417Z"
   },
   {
    "duration": 802,
    "start_time": "2021-07-29T01:06:37.456Z"
   },
   {
    "duration": 950,
    "start_time": "2021-07-29T01:07:30.893Z"
   },
   {
    "duration": 1009,
    "start_time": "2021-07-29T01:08:51.462Z"
   },
   {
    "duration": 850,
    "start_time": "2021-07-29T01:10:18.197Z"
   },
   {
    "duration": 1229,
    "start_time": "2021-07-29T01:10:58.925Z"
   },
   {
    "duration": 826,
    "start_time": "2021-07-29T01:11:12.153Z"
   },
   {
    "duration": 131,
    "start_time": "2021-07-29T01:12:52.316Z"
   },
   {
    "duration": 1172,
    "start_time": "2021-07-29T01:13:00.599Z"
   },
   {
    "duration": 16,
    "start_time": "2021-07-29T01:13:23.163Z"
   },
   {
    "duration": 820,
    "start_time": "2021-07-29T01:13:33.428Z"
   },
   {
    "duration": 11,
    "start_time": "2021-07-29T01:13:45.262Z"
   },
   {
    "duration": 856,
    "start_time": "2021-07-29T01:14:34.983Z"
   },
   {
    "duration": 349,
    "start_time": "2021-07-29T01:14:48.933Z"
   },
   {
    "duration": 361,
    "start_time": "2021-07-29T01:15:31.319Z"
   },
   {
    "duration": 996,
    "start_time": "2021-07-29T01:15:43.993Z"
   },
   {
    "duration": 837,
    "start_time": "2021-07-29T01:15:55.930Z"
   },
   {
    "duration": 458,
    "start_time": "2021-07-29T01:16:18.879Z"
   },
   {
    "duration": 339,
    "start_time": "2021-07-29T01:16:35.636Z"
   },
   {
    "duration": 828,
    "start_time": "2021-07-29T01:16:45.396Z"
   },
   {
    "duration": 446,
    "start_time": "2021-07-29T01:16:58.131Z"
   },
   {
    "duration": 446,
    "start_time": "2021-07-29T01:18:12.148Z"
   },
   {
    "duration": 650,
    "start_time": "2021-07-29T01:18:22.505Z"
   },
   {
    "duration": 445,
    "start_time": "2021-07-29T01:19:04.986Z"
   },
   {
    "duration": 864,
    "start_time": "2021-07-29T01:20:53.195Z"
   },
   {
    "duration": 1612,
    "start_time": "2021-07-29T01:28:15.472Z"
   },
   {
    "duration": 2437,
    "start_time": "2021-07-29T01:28:35.254Z"
   },
   {
    "duration": 2383,
    "start_time": "2021-07-29T01:28:54.273Z"
   },
   {
    "duration": 4,
    "start_time": "2021-07-29T01:36:35.900Z"
   },
   {
    "duration": 4,
    "start_time": "2021-07-29T01:37:53.720Z"
   },
   {
    "duration": 296,
    "start_time": "2021-07-29T01:41:28.004Z"
   },
   {
    "duration": 333,
    "start_time": "2021-07-29T01:41:31.625Z"
   },
   {
    "duration": 297,
    "start_time": "2021-07-29T01:41:35.412Z"
   },
   {
    "duration": 4,
    "start_time": "2021-07-29T01:52:04.399Z"
   },
   {
    "duration": 4,
    "start_time": "2021-07-29T01:52:13.400Z"
   },
   {
    "duration": 4,
    "start_time": "2021-07-29T01:52:23.622Z"
   },
   {
    "duration": 5,
    "start_time": "2021-07-29T01:52:58.697Z"
   },
   {
    "duration": 4,
    "start_time": "2021-07-29T01:53:09.368Z"
   },
   {
    "duration": 4,
    "start_time": "2021-07-29T01:53:29.037Z"
   },
   {
    "duration": 4,
    "start_time": "2021-07-29T01:53:45.063Z"
   },
   {
    "duration": 831,
    "start_time": "2021-07-29T10:33:48.616Z"
   },
   {
    "duration": 12,
    "start_time": "2021-07-29T10:33:50.941Z"
   },
   {
    "duration": 659,
    "start_time": "2021-07-29T10:33:51.330Z"
   },
   {
    "duration": 593,
    "start_time": "2021-07-29T10:33:52.160Z"
   },
   {
    "duration": 11,
    "start_time": "2021-07-29T10:33:52.755Z"
   },
   {
    "duration": 12,
    "start_time": "2021-07-29T10:33:53.288Z"
   },
   {
    "duration": 10,
    "start_time": "2021-07-29T10:33:53.738Z"
   },
   {
    "duration": 10,
    "start_time": "2021-07-29T10:33:54.263Z"
   },
   {
    "duration": 23,
    "start_time": "2021-07-29T10:33:55.208Z"
   },
   {
    "duration": 3,
    "start_time": "2021-07-29T10:33:55.917Z"
   },
   {
    "duration": 6,
    "start_time": "2021-07-29T10:33:56.079Z"
   },
   {
    "duration": 6,
    "start_time": "2021-07-29T10:33:56.239Z"
   },
   {
    "duration": 5,
    "start_time": "2021-07-29T10:33:56.785Z"
   },
   {
    "duration": 16,
    "start_time": "2021-07-29T10:34:17.322Z"
   },
   {
    "duration": 941,
    "start_time": "2021-08-01T21:58:40.477Z"
   },
   {
    "duration": 11,
    "start_time": "2021-08-01T22:49:10.289Z"
   },
   {
    "duration": 131,
    "start_time": "2021-08-01T22:53:32.243Z"
   },
   {
    "duration": 154,
    "start_time": "2021-08-01T22:53:44.972Z"
   },
   {
    "duration": 8770,
    "start_time": "2021-08-01T22:53:49.629Z"
   },
   {
    "duration": 8577,
    "start_time": "2021-08-01T22:55:33.696Z"
   },
   {
    "duration": 10760,
    "start_time": "2021-08-01T22:57:32.526Z"
   },
   {
    "duration": 5,
    "start_time": "2021-08-01T22:57:57.530Z"
   },
   {
    "duration": 523,
    "start_time": "2021-08-01T22:59:24.854Z"
   },
   {
    "duration": 522,
    "start_time": "2021-08-01T22:59:32.666Z"
   },
   {
    "duration": 646,
    "start_time": "2021-08-01T22:59:53.042Z"
   },
   {
    "duration": 529,
    "start_time": "2021-08-01T23:00:21.612Z"
   },
   {
    "duration": 505,
    "start_time": "2021-08-01T23:01:15.435Z"
   },
   {
    "duration": 13,
    "start_time": "2021-08-01T23:01:36.532Z"
   },
   {
    "duration": 14,
    "start_time": "2021-08-01T23:02:22.367Z"
   },
   {
    "duration": 14,
    "start_time": "2021-08-01T23:02:38.562Z"
   },
   {
    "duration": 13,
    "start_time": "2021-08-01T23:02:59.543Z"
   },
   {
    "duration": 98,
    "start_time": "2021-08-01T23:06:35.052Z"
   },
   {
    "duration": 97,
    "start_time": "2021-08-01T23:06:55.962Z"
   },
   {
    "duration": 111,
    "start_time": "2021-08-01T23:07:23.078Z"
   },
   {
    "duration": 126,
    "start_time": "2021-08-01T23:07:33.076Z"
   },
   {
    "duration": 176,
    "start_time": "2021-08-01T23:07:36.913Z"
   },
   {
    "duration": 73,
    "start_time": "2021-08-01T23:07:44.546Z"
   },
   {
    "duration": 187,
    "start_time": "2021-08-01T23:08:48.232Z"
   },
   {
    "duration": 312,
    "start_time": "2021-08-01T23:10:15.499Z"
   },
   {
    "duration": 240,
    "start_time": "2021-08-01T23:10:43.475Z"
   },
   {
    "duration": 283,
    "start_time": "2021-08-01T23:11:07.329Z"
   },
   {
    "duration": 650,
    "start_time": "2021-08-01T23:11:51.788Z"
   },
   {
    "duration": 520,
    "start_time": "2021-08-01T23:12:31.962Z"
   },
   {
    "duration": 7,
    "start_time": "2021-08-01T23:14:09.979Z"
   },
   {
    "duration": 118,
    "start_time": "2021-08-01T23:14:54.195Z"
   },
   {
    "duration": 6,
    "start_time": "2021-08-01T23:15:03.867Z"
   },
   {
    "duration": 6,
    "start_time": "2021-08-01T23:17:58.741Z"
   },
   {
    "duration": 6,
    "start_time": "2021-08-01T23:18:01.281Z"
   },
   {
    "duration": 6,
    "start_time": "2021-08-01T23:19:34.703Z"
   },
   {
    "duration": 121,
    "start_time": "2021-08-01T23:20:09.128Z"
   },
   {
    "duration": 17,
    "start_time": "2021-08-01T23:20:33.460Z"
   },
   {
    "duration": 26,
    "start_time": "2021-08-01T23:21:00.347Z"
   },
   {
    "duration": 55,
    "start_time": "2021-08-01T23:24:36.435Z"
   },
   {
    "duration": 33,
    "start_time": "2021-08-01T23:30:00.185Z"
   },
   {
    "duration": 22,
    "start_time": "2021-08-01T23:43:19.058Z"
   },
   {
    "duration": 21,
    "start_time": "2021-08-01T23:43:39.334Z"
   },
   {
    "duration": 21,
    "start_time": "2021-08-01T23:47:00.647Z"
   },
   {
    "duration": 62,
    "start_time": "2021-08-01T23:47:48.911Z"
   },
   {
    "duration": 78,
    "start_time": "2021-08-01T23:53:41.034Z"
   },
   {
    "duration": 80,
    "start_time": "2021-08-01T23:53:48.624Z"
   },
   {
    "duration": 71,
    "start_time": "2021-08-01T23:54:05.274Z"
   },
   {
    "duration": 72,
    "start_time": "2021-08-01T23:54:14.234Z"
   },
   {
    "duration": 72,
    "start_time": "2021-08-01T23:54:20.570Z"
   },
   {
    "duration": 65,
    "start_time": "2021-08-01T23:54:36.839Z"
   },
   {
    "duration": 66,
    "start_time": "2021-08-01T23:54:55.112Z"
   },
   {
    "duration": 11,
    "start_time": "2021-08-01T23:55:26.154Z"
   },
   {
    "duration": 11,
    "start_time": "2021-08-01T23:55:34.121Z"
   },
   {
    "duration": 8240,
    "start_time": "2021-08-01T23:55:59.322Z"
   },
   {
    "duration": 8336,
    "start_time": "2021-08-01T23:56:15.519Z"
   },
   {
    "duration": 398,
    "start_time": "2021-08-01T23:56:47.700Z"
   },
   {
    "duration": 487,
    "start_time": "2021-08-01T23:57:14.881Z"
   },
   {
    "duration": 29,
    "start_time": "2021-08-02T00:32:07.389Z"
   },
   {
    "duration": 32,
    "start_time": "2021-08-02T00:36:19.024Z"
   },
   {
    "duration": 46,
    "start_time": "2021-08-02T00:36:39.978Z"
   },
   {
    "duration": 48,
    "start_time": "2021-08-02T00:38:39.387Z"
   },
   {
    "duration": 88,
    "start_time": "2021-08-02T00:40:13.428Z"
   },
   {
    "duration": 27,
    "start_time": "2021-08-02T00:40:38.810Z"
   },
   {
    "duration": 6,
    "start_time": "2021-08-02T00:40:48.337Z"
   },
   {
    "duration": 9,
    "start_time": "2021-08-02T00:41:04.973Z"
   },
   {
    "duration": 89,
    "start_time": "2021-08-02T00:42:12.897Z"
   },
   {
    "duration": 228,
    "start_time": "2021-08-02T00:42:19.665Z"
   },
   {
    "duration": 238,
    "start_time": "2021-08-02T00:42:42.348Z"
   },
   {
    "duration": 11,
    "start_time": "2021-08-02T00:42:45.955Z"
   },
   {
    "duration": 574,
    "start_time": "2021-08-02T00:42:46.417Z"
   },
   {
    "duration": 506,
    "start_time": "2021-08-02T00:42:49.279Z"
   },
   {
    "duration": 6,
    "start_time": "2021-08-02T00:42:51.985Z"
   },
   {
    "duration": 8,
    "start_time": "2021-08-02T00:42:52.690Z"
   },
   {
    "duration": 6,
    "start_time": "2021-08-02T00:42:54.482Z"
   },
   {
    "duration": 6,
    "start_time": "2021-08-02T00:42:54.872Z"
   },
   {
    "duration": 3,
    "start_time": "2021-08-02T00:42:57.340Z"
   },
   {
    "duration": 9,
    "start_time": "2021-08-02T00:43:05.578Z"
   },
   {
    "duration": 10,
    "start_time": "2021-08-02T00:44:29.086Z"
   },
   {
    "duration": 11,
    "start_time": "2021-08-02T00:44:36.806Z"
   },
   {
    "duration": 8,
    "start_time": "2021-08-02T01:00:00.756Z"
   },
   {
    "duration": 140,
    "start_time": "2021-08-02T01:00:19.450Z"
   },
   {
    "duration": 146,
    "start_time": "2021-08-02T01:00:36.959Z"
   },
   {
    "duration": 132,
    "start_time": "2021-08-02T01:00:48.173Z"
   },
   {
    "duration": 142,
    "start_time": "2021-08-02T01:01:44.054Z"
   },
   {
    "duration": 7,
    "start_time": "2021-08-02T01:02:44.941Z"
   },
   {
    "duration": 130,
    "start_time": "2021-08-02T01:02:49.630Z"
   },
   {
    "duration": 86,
    "start_time": "2021-08-02T01:03:04.215Z"
   },
   {
    "duration": 7,
    "start_time": "2021-08-02T01:03:11.890Z"
   },
   {
    "duration": 139,
    "start_time": "2021-08-02T01:03:17.737Z"
   },
   {
    "duration": 114,
    "start_time": "2021-08-02T01:06:35.885Z"
   },
   {
    "duration": 5,
    "start_time": "2021-08-02T01:06:50.504Z"
   },
   {
    "duration": 16,
    "start_time": "2021-08-02T01:10:09.476Z"
   },
   {
    "duration": 89,
    "start_time": "2021-08-02T01:10:35.702Z"
   },
   {
    "duration": 250,
    "start_time": "2021-08-02T01:10:52.474Z"
   },
   {
    "duration": 275,
    "start_time": "2021-08-02T01:10:55.360Z"
   },
   {
    "duration": 12,
    "start_time": "2021-08-02T01:11:03.300Z"
   },
   {
    "duration": 520,
    "start_time": "2021-08-02T01:11:05.180Z"
   },
   {
    "duration": 475,
    "start_time": "2021-08-02T01:11:08.789Z"
   },
   {
    "duration": 5,
    "start_time": "2021-08-02T01:11:11.381Z"
   },
   {
    "duration": 9,
    "start_time": "2021-08-02T01:11:12.357Z"
   },
   {
    "duration": 6,
    "start_time": "2021-08-02T01:11:13.749Z"
   },
   {
    "duration": 7,
    "start_time": "2021-08-02T01:11:15.303Z"
   },
   {
    "duration": 7,
    "start_time": "2021-08-02T01:11:21.318Z"
   },
   {
    "duration": 143,
    "start_time": "2021-08-02T01:11:23.346Z"
   },
   {
    "duration": 6,
    "start_time": "2021-08-02T01:11:29.317Z"
   },
   {
    "duration": 5,
    "start_time": "2021-08-02T01:11:30.187Z"
   },
   {
    "duration": 15,
    "start_time": "2021-08-02T01:11:34.047Z"
   },
   {
    "duration": 13,
    "start_time": "2021-08-02T01:18:12.814Z"
   },
   {
    "duration": 17,
    "start_time": "2021-08-02T01:18:15.296Z"
   },
   {
    "duration": 11,
    "start_time": "2021-08-02T01:19:46.013Z"
   },
   {
    "duration": 17,
    "start_time": "2021-08-02T01:19:48.156Z"
   },
   {
    "duration": 13,
    "start_time": "2021-08-02T01:19:59.379Z"
   },
   {
    "duration": 425,
    "start_time": "2021-08-02T01:20:25.142Z"
   },
   {
    "duration": 398,
    "start_time": "2021-08-02T01:20:29.869Z"
   },
   {
    "duration": 8,
    "start_time": "2021-08-02T01:20:35.949Z"
   },
   {
    "duration": 14,
    "start_time": "2021-08-02T01:21:02.811Z"
   },
   {
    "duration": 34,
    "start_time": "2021-08-02T01:22:22.066Z"
   },
   {
    "duration": 41,
    "start_time": "2021-08-02T01:22:25.522Z"
   },
   {
    "duration": 926,
    "start_time": "2021-08-02T01:22:27.786Z"
   },
   {
    "duration": 1002,
    "start_time": "2021-08-02T01:22:33.284Z"
   },
   {
    "duration": 38,
    "start_time": "2021-08-02T01:22:38.131Z"
   },
   {
    "duration": 928,
    "start_time": "2021-08-02T01:22:39.925Z"
   },
   {
    "duration": 37,
    "start_time": "2021-08-02T01:22:44.350Z"
   },
   {
    "duration": 498,
    "start_time": "2021-08-02T01:28:46.899Z"
   },
   {
    "duration": 94,
    "start_time": "2021-08-02T01:29:30.789Z"
   },
   {
    "duration": 203,
    "start_time": "2021-08-02T01:29:37.408Z"
   },
   {
    "duration": 231,
    "start_time": "2021-08-02T01:29:38.408Z"
   },
   {
    "duration": 11,
    "start_time": "2021-08-02T01:29:53.287Z"
   },
   {
    "duration": 500,
    "start_time": "2021-08-02T01:29:55.827Z"
   },
   {
    "duration": 489,
    "start_time": "2021-08-02T01:29:59.446Z"
   },
   {
    "duration": 6,
    "start_time": "2021-08-02T01:30:00.967Z"
   },
   {
    "duration": 8,
    "start_time": "2021-08-02T01:30:01.605Z"
   },
   {
    "duration": 5,
    "start_time": "2021-08-02T01:30:03.024Z"
   },
   {
    "duration": 6,
    "start_time": "2021-08-02T01:30:05.311Z"
   },
   {
    "duration": 6,
    "start_time": "2021-08-02T01:30:10.122Z"
   },
   {
    "duration": 134,
    "start_time": "2021-08-02T01:30:14.232Z"
   },
   {
    "duration": 6,
    "start_time": "2021-08-02T01:30:21.263Z"
   },
   {
    "duration": 5,
    "start_time": "2021-08-02T01:30:22.565Z"
   },
   {
    "duration": 363,
    "start_time": "2021-08-02T01:31:22.945Z"
   },
   {
    "duration": 333,
    "start_time": "2021-08-02T01:32:16.596Z"
   },
   {
    "duration": 357,
    "start_time": "2021-08-02T01:33:11.786Z"
   },
   {
    "duration": 10,
    "start_time": "2021-08-02T01:33:48.535Z"
   },
   {
    "duration": 16,
    "start_time": "2021-08-02T01:33:55.232Z"
   },
   {
    "duration": 8,
    "start_time": "2021-08-02T01:35:17.820Z"
   },
   {
    "duration": 14,
    "start_time": "2021-08-02T01:35:19.508Z"
   },
   {
    "duration": 37,
    "start_time": "2021-08-02T01:35:29.214Z"
   },
   {
    "duration": 278,
    "start_time": "2021-08-02T17:42:22.160Z"
   },
   {
    "duration": 734,
    "start_time": "2021-08-02T17:43:01.521Z"
   },
   {
    "duration": 83,
    "start_time": "2021-08-02T17:43:10.100Z"
   },
   {
    "duration": 131,
    "start_time": "2021-08-02T17:43:11.058Z"
   },
   {
    "duration": 8,
    "start_time": "2021-08-02T17:43:12.487Z"
   },
   {
    "duration": 302,
    "start_time": "2021-08-02T17:43:13.255Z"
   },
   {
    "duration": 291,
    "start_time": "2021-08-02T17:43:15.369Z"
   },
   {
    "duration": 4,
    "start_time": "2021-08-02T17:43:15.874Z"
   },
   {
    "duration": 5,
    "start_time": "2021-08-02T17:43:16.155Z"
   },
   {
    "duration": 5,
    "start_time": "2021-08-02T17:43:16.404Z"
   },
   {
    "duration": 7,
    "start_time": "2021-08-02T17:43:16.728Z"
   },
   {
    "duration": 4,
    "start_time": "2021-08-02T17:43:17.169Z"
   },
   {
    "duration": 132,
    "start_time": "2021-08-02T17:43:17.380Z"
   },
   {
    "duration": 85,
    "start_time": "2021-08-02T17:44:40.109Z"
   },
   {
    "duration": 5,
    "start_time": "2021-08-02T17:45:49.103Z"
   },
   {
    "duration": 4,
    "start_time": "2021-08-02T17:45:49.830Z"
   },
   {
    "duration": 8,
    "start_time": "2021-08-02T17:45:53.462Z"
   },
   {
    "duration": 10,
    "start_time": "2021-08-02T17:45:54.286Z"
   },
   {
    "duration": 27,
    "start_time": "2021-08-02T17:46:19.691Z"
   },
   {
    "duration": 28,
    "start_time": "2021-08-02T17:46:22.903Z"
   },
   {
    "duration": 638,
    "start_time": "2021-08-02T17:46:26.727Z"
   },
   {
    "duration": 22,
    "start_time": "2021-08-02T17:46:31.563Z"
   },
   {
    "duration": 301,
    "start_time": "2021-08-02T18:32:10.893Z"
   },
   {
    "duration": 281,
    "start_time": "2021-08-02T18:33:55.017Z"
   },
   {
    "duration": 120,
    "start_time": "2021-08-02T18:34:05.008Z"
   },
   {
    "duration": 119,
    "start_time": "2021-08-02T18:34:37.058Z"
   },
   {
    "duration": 127,
    "start_time": "2021-08-02T18:34:46.813Z"
   },
   {
    "duration": 435,
    "start_time": "2021-08-02T18:36:34.646Z"
   },
   {
    "duration": 115,
    "start_time": "2021-08-02T18:37:03.065Z"
   },
   {
    "duration": 113,
    "start_time": "2021-08-02T18:37:18.193Z"
   },
   {
    "duration": 113,
    "start_time": "2021-08-02T18:37:24.615Z"
   },
   {
    "duration": 301,
    "start_time": "2021-08-02T18:37:49.612Z"
   },
   {
    "duration": 449,
    "start_time": "2021-08-02T18:37:53.610Z"
   },
   {
    "duration": 314,
    "start_time": "2021-08-02T18:38:06.482Z"
   },
   {
    "duration": 373,
    "start_time": "2021-08-02T18:51:11.247Z"
   },
   {
    "duration": 298,
    "start_time": "2021-08-02T18:53:28.323Z"
   },
   {
    "duration": 95,
    "start_time": "2021-08-02T18:56:41.185Z"
   },
   {
    "duration": 258,
    "start_time": "2021-08-02T18:56:59.235Z"
   },
   {
    "duration": 236,
    "start_time": "2021-08-02T18:57:18.159Z"
   },
   {
    "duration": 83,
    "start_time": "2021-08-02T18:58:47.905Z"
   },
   {
    "duration": 265,
    "start_time": "2021-08-02T18:58:54.705Z"
   },
   {
    "duration": 270,
    "start_time": "2021-08-02T19:01:40.657Z"
   },
   {
    "duration": 78,
    "start_time": "2021-08-02T19:04:40.945Z"
   },
   {
    "duration": 124,
    "start_time": "2021-08-02T19:05:24.523Z"
   },
   {
    "duration": 80,
    "start_time": "2021-08-02T19:06:36.665Z"
   },
   {
    "duration": 10,
    "start_time": "2021-08-02T19:07:47.017Z"
   },
   {
    "duration": 11,
    "start_time": "2021-08-02T19:07:56.537Z"
   },
   {
    "duration": 513,
    "start_time": "2021-08-02T19:09:02.243Z"
   },
   {
    "duration": 308,
    "start_time": "2021-08-02T19:09:11.445Z"
   },
   {
    "duration": 304,
    "start_time": "2021-08-02T19:09:53.928Z"
   },
   {
    "duration": 116,
    "start_time": "2021-08-02T19:10:14.982Z"
   },
   {
    "duration": 132,
    "start_time": "2021-08-02T19:12:42.084Z"
   },
   {
    "duration": 21,
    "start_time": "2021-08-02T19:14:10.778Z"
   },
   {
    "duration": 10,
    "start_time": "2021-08-02T19:14:28.267Z"
   },
   {
    "duration": 77,
    "start_time": "2021-08-02T19:15:43.136Z"
   },
   {
    "duration": 10,
    "start_time": "2021-08-02T19:16:06.767Z"
   },
   {
    "duration": 10,
    "start_time": "2021-08-02T19:16:24.472Z"
   },
   {
    "duration": 4040,
    "start_time": "2021-08-02T19:20:21.261Z"
   },
   {
    "duration": 174,
    "start_time": "2021-08-02T19:22:43.889Z"
   },
   {
    "duration": 164,
    "start_time": "2021-08-02T19:23:29.149Z"
   },
   {
    "duration": 160,
    "start_time": "2021-08-02T19:23:53.107Z"
   },
   {
    "duration": 181,
    "start_time": "2021-08-02T19:24:01.781Z"
   },
   {
    "duration": 172,
    "start_time": "2021-08-02T19:25:44.586Z"
   },
   {
    "duration": 249,
    "start_time": "2021-08-02T19:26:19.490Z"
   },
   {
    "duration": 173,
    "start_time": "2021-08-02T19:26:29.675Z"
   },
   {
    "duration": 179,
    "start_time": "2021-08-02T19:26:37.705Z"
   },
   {
    "duration": 30,
    "start_time": "2021-08-02T19:31:47.254Z"
   },
   {
    "duration": 5115,
    "start_time": "2021-08-02T19:33:45.121Z"
   },
   {
    "duration": 35,
    "start_time": "2021-08-02T19:34:23.532Z"
   },
   {
    "duration": 191,
    "start_time": "2021-08-02T19:36:55.316Z"
   },
   {
    "duration": 11,
    "start_time": "2021-08-02T19:37:55.652Z"
   },
   {
    "duration": -68,
    "start_time": "2021-08-02T19:38:25.926Z"
   },
   {
    "duration": 12,
    "start_time": "2021-08-02T19:38:56.083Z"
   },
   {
    "duration": 29,
    "start_time": "2021-08-02T19:40:05.295Z"
   },
   {
    "duration": 9,
    "start_time": "2021-08-02T19:40:38.259Z"
   },
   {
    "duration": 36,
    "start_time": "2021-08-02T19:41:15.158Z"
   },
   {
    "duration": 281,
    "start_time": "2021-08-02T19:41:56.803Z"
   },
   {
    "duration": 11,
    "start_time": "2021-08-02T19:42:15.891Z"
   },
   {
    "duration": 306,
    "start_time": "2021-08-02T19:42:33.311Z"
   },
   {
    "duration": 12,
    "start_time": "2021-08-02T19:43:00.294Z"
   },
   {
    "duration": 22,
    "start_time": "2021-08-02T19:43:36.500Z"
   },
   {
    "duration": 206,
    "start_time": "2021-08-02T19:44:15.418Z"
   },
   {
    "duration": 125,
    "start_time": "2021-08-02T19:48:18.423Z"
   },
   {
    "duration": 276,
    "start_time": "2021-08-02T19:48:25.581Z"
   },
   {
    "duration": 38,
    "start_time": "2021-08-02T19:48:40.983Z"
   },
   {
    "duration": 504,
    "start_time": "2021-08-02T19:49:41.976Z"
   },
   {
    "duration": 82,
    "start_time": "2021-08-02T19:50:00.156Z"
   },
   {
    "duration": 970,
    "start_time": "2021-08-02T19:50:26.590Z"
   },
   {
    "duration": 983,
    "start_time": "2021-08-02T19:50:32.272Z"
   },
   {
    "duration": 918,
    "start_time": "2021-08-02T19:50:35.594Z"
   },
   {
    "duration": 513,
    "start_time": "2021-08-02T19:50:42.650Z"
   },
   {
    "duration": 539,
    "start_time": "2021-08-02T19:51:21.806Z"
   },
   {
    "duration": 561,
    "start_time": "2021-08-02T19:54:55.902Z"
   },
   {
    "duration": 779,
    "start_time": "2021-08-02T19:55:08.804Z"
   },
   {
    "duration": 538,
    "start_time": "2021-08-02T19:55:38.592Z"
   },
   {
    "duration": 472,
    "start_time": "2021-08-02T19:55:58.671Z"
   },
   {
    "duration": 611,
    "start_time": "2021-08-02T19:56:10.513Z"
   },
   {
    "duration": 249,
    "start_time": "2021-08-02T19:57:14.671Z"
   },
   {
    "duration": 243,
    "start_time": "2021-08-02T19:57:49.819Z"
   },
   {
    "duration": 191,
    "start_time": "2021-08-02T19:59:03.009Z"
   },
   {
    "duration": 170,
    "start_time": "2021-08-02T19:59:07.040Z"
   },
   {
    "duration": 170,
    "start_time": "2021-08-02T19:59:09.777Z"
   },
   {
    "duration": 94,
    "start_time": "2021-08-03T03:59:59.625Z"
   },
   {
    "duration": 91,
    "start_time": "2021-08-03T04:00:33.452Z"
   },
   {
    "duration": 97,
    "start_time": "2021-08-03T04:01:20.972Z"
   }
  ],
  "kernelspec": {
   "display_name": "Python 3 (ipykernel)",
   "language": "python",
   "name": "python3"
  },
  "language_info": {
   "codemirror_mode": {
    "name": "ipython",
    "version": 3
   },
   "file_extension": ".py",
   "mimetype": "text/x-python",
   "name": "python",
   "nbconvert_exporter": "python",
   "pygments_lexer": "ipython3",
   "version": "3.9.12"
  },
  "toc": {
   "base_numbering": 1,
   "nav_menu": {},
   "number_sections": true,
   "sideBar": true,
   "skip_h1_title": true,
   "title_cell": "Содержание",
   "title_sidebar": "Contents",
   "toc_cell": true,
   "toc_position": {
    "height": "calc(100% - 180px)",
    "left": "10px",
    "top": "150px",
    "width": "165px"
   },
   "toc_section_display": true,
   "toc_window_display": true
  }
 },
 "nbformat": 4,
 "nbformat_minor": 2
}
