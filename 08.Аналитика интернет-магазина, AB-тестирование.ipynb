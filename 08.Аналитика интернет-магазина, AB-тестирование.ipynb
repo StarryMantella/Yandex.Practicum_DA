{
 "cells": [
  {
   "cell_type": "markdown",
   "metadata": {},
   "source": [
    "Привет! Ты теперь находишься на территории код-ревьюеров. У нас тут своя атмосфера и правила:  \n",
    "1. Меня зовут Алексей Свирин. Я работаю продуктовым аналитиком, поэтому мои комментарии больше ориентированы на визуальную и смысловую часть проекта, которая предназначена для внешних пользователей твоего проекта, и меньше на сам код, его чистоту и оптимизацию.  \n",
    "2. Общаемся на ты.  \n",
    "3. Хочешь мне написать — пиши. Только нужно выбрать свой цвет для комментария.  \n",
    "4. Это учебный проект, тут можно не бояться сделать ошибку, но все остальное как в жизни, может быть сложно.  \n",
    "5. У тебя бесконечное количество ~~жизней~~ попыток для сдачи проекта.  \n",
    "6. Поехали!  \n",
    "\n",
    "---\n",
    "\n",
    "Я буду красить комментарии цветом, пожалуйста, не удаляй их:\n",
    "\n",
    "<div class=\"alert alert-block alert-danger\">\n",
    "    \n",
    "\n",
    "__Комментарий от ревьюера №1__\n",
    "\n",
    "Такой комментарий нужно исправить обязательно, он критически влияет на удачное выполнение проекта.\n",
    "</div>\n",
    "    \n",
    "---\n",
    "\n",
    "<div class=\"alert alert-block alert-warning\">\n",
    "    \n",
    "\n",
    "__Комментарий от ревьюера №1__\n",
    "\n",
    "\n",
    "Такой комментарий является рекомендацией или советом. Можешь использовать их на своё усмотрение.\n",
    "</div>\n",
    "\n",
    "---\n",
    "\n",
    "<div class=\"alert alert-block alert-success\">\n",
    "    \n",
    "\n",
    "__Комментарий от ревьюера №1__\n",
    "\n",
    "Такой комментарий  говорит о том, что было сделано что-то качественное и правильное =)\n",
    "</div>\n",
    "\n",
    "---"
   ]
  },
  {
   "cell_type": "markdown",
   "metadata": {},
   "source": [
    "<div class=\"alert alert-block alert-info\">\n",
    "    \n",
    "\n",
    "__Комментарий от ревьюера №1__\n",
    "\n",
    "В проекте нужно будет поработать над графиками, выводами, описанием проекта и поискать еще проблемы в наших данных.\n",
    "</div>"
   ]
  },
  {
   "cell_type": "markdown",
   "metadata": {},
   "source": [
    "<div class=\"alert alert-block alert-info\">\n",
    "    \n",
    "\n",
    "__Комментарий от ревьюера №2__\n",
    "\n",
    "Привет, проект хорошо поправлен, правильно проведен А/Б-тест, найдены самые интересные гипотезы и аномальные значения, построены кумулятивные метрики и графики. По выводам тоже всё хорошо. Проект принят!\n",
    "</div>"
   ]
  },
  {
   "cell_type": "markdown",
   "metadata": {},
   "source": [
    "<div class=\"alert alert-block alert-info\">\n",
    "    \n",
    "\n",
    "__Комментарий от ревьюера по новому проекту__\n",
    "\n",
    "Следующий проект будет связан с геоданными. До него мы можешь изучить/покрутить/посмотреть разные модули, которые смогут помочь в выполнении работы:  \n",
    "— модуль folium для визуализации геоданных на карте — https://dev-gang.ru/article/interaktivnaja-vizualizacija-geo-dannyh-na-python-9yqzq8qlud/  \n",
    "— модуль для сервиса Геокодер от Яндекса: https://pypi.org/project/yandex-geocoder/  \n",
    "— модуль для сервиса замечательной российской компании Dadata: https://pypi.org/project/dadata/  \n",
    "    \n",
    "Так же в новом проекте будет задание по составлению презентации, для него ты можешь пройти новый бесплатный курс от Яндекс.Практикума — https://praktikum.yandex.ru/profile/visual-presentation/  \n",
    "</div>"
   ]
  },
  {
   "cell_type": "markdown",
   "metadata": {},
   "source": [
    "<div class=\"alert alert-block alert-warning\">\n",
    "    \n",
    "\n",
    "__Комментарий от ревьюера №1 (нужно доделать)__\n",
    "\n",
    "Напиши, пожалуйста, название проекта, о чем он, зачем мы его делаем, какие в нем есть данные.\n",
    "\n",
    "</div>"
   ]
  },
  {
   "cell_type": "markdown",
   "metadata": {},
   "source": [
    "<div class=\"alert alert-block alert-success\">\n",
    "    \n",
    "\n",
    "__Комментарий от ревьюера №2 (OK)__\n",
    "\n",
    "👍\n",
    "</div>"
   ]
  },
  {
   "cell_type": "markdown",
   "metadata": {},
   "source": [
    "**АНАЛИТИКА ИНТЕРНЕТ-МАГАЗИНА**"
   ]
  },
  {
   "cell_type": "markdown",
   "metadata": {},
   "source": [
    "**Описание проекта:<br>**\n",
    "**Вы — аналитик крупного интернет-магазина. Вместе с отделом маркетинга вы подготовили список гипотез для увеличения выручки.<br>\n",
    "Приоритизируйте гипотезы, запустите A/B-тест и проанализируйте результаты.**<br>"
   ]
  },
  {
   "cell_type": "markdown",
   "metadata": {},
   "source": [
    "**Описание данных:**<br>\n",
    "\n",
    "**Файл /datasets/hypothesis.csv**:<br>\n",
    "В файле 9 гипотез по увеличению выручки интернет-магазина с указанными параметрами Reach, Impact, Confidence, Effort.<br>\n",
    "\n",
    "Hypothesis — краткое описание гипотезы;<br>\n",
    "Reach — охват пользователей по 10-балльной шкале;<br>\n",
    "Impact — влияние на пользователей по 10-балльной шкале;<br>\n",
    "Confidence — уверенность в гипотезе по 10-балльной шкале;<br>\n",
    "Efforts — затраты ресурсов на проверку гипотезы по 10-балльной шкале. Чем больше значение Efforts, тем дороже проверка гипотезы.<br>\n",
    "\n",
    "**Файл /datasets/orders.csv**:<br>\n",
    "\n",
    "transactionId — идентификатор заказа;<br>\n",
    "visitorId — идентификатор пользователя, совершившего заказ;<br>\n",
    "date — дата, когда был совершён заказ;<br>\n",
    "revenue — выручка заказа;<br>\n",
    "group — группа A/B-теста, в которую попал заказ.<br>\n",
    "\n",
    "**Файл /datasets/visitors.csv**:<br>\n",
    "\n",
    "date — дата;<br>\n",
    "group — группа A/B-теста;<br>\n",
    "visitors — количество пользователей в указанную дату в указанной группе A/B-теста"
   ]
  },
  {
   "cell_type": "markdown",
   "metadata": {},
   "source": [
    "**Импорт библиотек:**"
   ]
  },
  {
   "cell_type": "code",
   "execution_count": 189,
   "metadata": {},
   "outputs": [],
   "source": [
    "import pandas as pd\n",
    "import datetime as dt\n",
    "import numpy as np\n",
    "import matplotlib.pyplot as plt\n",
    "import scipy.stats as stats\n",
    "import seaborn as sns"
   ]
  },
  {
   "cell_type": "markdown",
   "metadata": {},
   "source": [
    "<span style=\"color:blue\"> **Загрузка файлов, их просмотр и проверка на наличие дублей:**"
   ]
  },
  {
   "cell_type": "code",
   "execution_count": 191,
   "metadata": {},
   "outputs": [],
   "source": [
    "hypothesis, orders, visitors = (\n",
    "    pd.read_csv('/datasets/hypothesis.csv'),\n",
    "    pd.read_csv('/datasets/orders.csv'),\n",
    "    pd.read_csv('/datasets/visitors.csv'),\n",
    ")\n",
    "pd.set_option('max_colwidth', 1)"
   ]
  },
  {
   "cell_type": "code",
   "execution_count": 192,
   "metadata": {},
   "outputs": [
    {
     "data": {
      "text/html": [
       "<div>\n",
       "<style scoped>\n",
       "    .dataframe tbody tr th:only-of-type {\n",
       "        vertical-align: middle;\n",
       "    }\n",
       "\n",
       "    .dataframe tbody tr th {\n",
       "        vertical-align: top;\n",
       "    }\n",
       "\n",
       "    .dataframe thead th {\n",
       "        text-align: right;\n",
       "    }\n",
       "</style>\n",
       "<table border=\"1\" class=\"dataframe\">\n",
       "  <thead>\n",
       "    <tr style=\"text-align: right;\">\n",
       "      <th></th>\n",
       "      <th>Hypothesis</th>\n",
       "      <th>Reach</th>\n",
       "      <th>Impact</th>\n",
       "      <th>Confidence</th>\n",
       "      <th>Efforts</th>\n",
       "    </tr>\n",
       "  </thead>\n",
       "  <tbody>\n",
       "    <tr>\n",
       "      <td>0</td>\n",
       "      <td>Добавить два новых канала привлечения трафика, что позволит привлекать на 30% больше пользователей</td>\n",
       "      <td>3</td>\n",
       "      <td>10</td>\n",
       "      <td>8</td>\n",
       "      <td>6</td>\n",
       "    </tr>\n",
       "    <tr>\n",
       "      <td>1</td>\n",
       "      <td>Запустить собственную службу доставки, что сократит срок доставки заказов</td>\n",
       "      <td>2</td>\n",
       "      <td>5</td>\n",
       "      <td>4</td>\n",
       "      <td>10</td>\n",
       "    </tr>\n",
       "    <tr>\n",
       "      <td>2</td>\n",
       "      <td>Добавить блоки рекомендаций товаров на сайт интернет магазина, чтобы повысить конверсию и средний чек заказа</td>\n",
       "      <td>8</td>\n",
       "      <td>3</td>\n",
       "      <td>7</td>\n",
       "      <td>3</td>\n",
       "    </tr>\n",
       "    <tr>\n",
       "      <td>3</td>\n",
       "      <td>Изменить структура категорий, что увеличит конверсию, т.к. пользователи быстрее найдут нужный товар</td>\n",
       "      <td>8</td>\n",
       "      <td>3</td>\n",
       "      <td>3</td>\n",
       "      <td>8</td>\n",
       "    </tr>\n",
       "    <tr>\n",
       "      <td>4</td>\n",
       "      <td>Изменить цвет фона главной страницы, чтобы увеличить вовлеченность пользователей</td>\n",
       "      <td>3</td>\n",
       "      <td>1</td>\n",
       "      <td>1</td>\n",
       "      <td>1</td>\n",
       "    </tr>\n",
       "    <tr>\n",
       "      <td>5</td>\n",
       "      <td>Добавить страницу отзывов клиентов о магазине, что позволит увеличить количество заказов</td>\n",
       "      <td>3</td>\n",
       "      <td>2</td>\n",
       "      <td>2</td>\n",
       "      <td>3</td>\n",
       "    </tr>\n",
       "    <tr>\n",
       "      <td>6</td>\n",
       "      <td>Показать на главной странице баннеры с актуальными акциями и распродажами, чтобы увеличить конверсию</td>\n",
       "      <td>5</td>\n",
       "      <td>3</td>\n",
       "      <td>8</td>\n",
       "      <td>3</td>\n",
       "    </tr>\n",
       "    <tr>\n",
       "      <td>7</td>\n",
       "      <td>Добавить форму подписки на все основные страницы, чтобы собрать базу клиентов для email-рассылок</td>\n",
       "      <td>10</td>\n",
       "      <td>7</td>\n",
       "      <td>8</td>\n",
       "      <td>5</td>\n",
       "    </tr>\n",
       "    <tr>\n",
       "      <td>8</td>\n",
       "      <td>Запустить акцию, дающую скидку на товар в день рождения</td>\n",
       "      <td>1</td>\n",
       "      <td>9</td>\n",
       "      <td>9</td>\n",
       "      <td>5</td>\n",
       "    </tr>\n",
       "  </tbody>\n",
       "</table>\n",
       "</div>"
      ],
      "text/plain": [
       "                                                                                                     Hypothesis  \\\n",
       "0  Добавить два новых канала привлечения трафика, что позволит привлекать на 30% больше пользователей             \n",
       "1  Запустить собственную службу доставки, что сократит срок доставки заказов                                      \n",
       "2  Добавить блоки рекомендаций товаров на сайт интернет магазина, чтобы повысить конверсию и средний чек заказа   \n",
       "3  Изменить структура категорий, что увеличит конверсию, т.к. пользователи быстрее найдут нужный товар            \n",
       "4  Изменить цвет фона главной страницы, чтобы увеличить вовлеченность пользователей                               \n",
       "5  Добавить страницу отзывов клиентов о магазине, что позволит увеличить количество заказов                       \n",
       "6  Показать на главной странице баннеры с актуальными акциями и распродажами, чтобы увеличить конверсию           \n",
       "7  Добавить форму подписки на все основные страницы, чтобы собрать базу клиентов для email-рассылок               \n",
       "8  Запустить акцию, дающую скидку на товар в день рождения                                                        \n",
       "\n",
       "   Reach  Impact  Confidence  Efforts  \n",
       "0  3      10      8           6        \n",
       "1  2      5       4           10       \n",
       "2  8      3       7           3        \n",
       "3  8      3       3           8        \n",
       "4  3      1       1           1        \n",
       "5  3      2       2           3        \n",
       "6  5      3       8           3        \n",
       "7  10     7       8           5        \n",
       "8  1      9       9           5        "
      ]
     },
     "metadata": {},
     "output_type": "display_data"
    },
    {
     "name": "stdout",
     "output_type": "stream",
     "text": [
      "<class 'pandas.core.frame.DataFrame'>\n",
      "RangeIndex: 9 entries, 0 to 8\n",
      "Data columns (total 5 columns):\n",
      "Hypothesis    9 non-null object\n",
      "Reach         9 non-null int64\n",
      "Impact        9 non-null int64\n",
      "Confidence    9 non-null int64\n",
      "Efforts       9 non-null int64\n",
      "dtypes: int64(4), object(1)\n",
      "memory usage: 488.0+ bytes\n",
      "Количество дублей: 0\n"
     ]
    }
   ],
   "source": [
    "display(hypothesis)\n",
    "hypothesis.info()\n",
    "print('Количество дублей:', hypothesis.duplicated().sum())"
   ]
  },
  {
   "cell_type": "code",
   "execution_count": 193,
   "metadata": {},
   "outputs": [
    {
     "data": {
      "text/html": [
       "<div>\n",
       "<style scoped>\n",
       "    .dataframe tbody tr th:only-of-type {\n",
       "        vertical-align: middle;\n",
       "    }\n",
       "\n",
       "    .dataframe tbody tr th {\n",
       "        vertical-align: top;\n",
       "    }\n",
       "\n",
       "    .dataframe thead th {\n",
       "        text-align: right;\n",
       "    }\n",
       "</style>\n",
       "<table border=\"1\" class=\"dataframe\">\n",
       "  <thead>\n",
       "    <tr style=\"text-align: right;\">\n",
       "      <th></th>\n",
       "      <th>transactionId</th>\n",
       "      <th>visitorId</th>\n",
       "      <th>date</th>\n",
       "      <th>revenue</th>\n",
       "      <th>group</th>\n",
       "    </tr>\n",
       "  </thead>\n",
       "  <tbody>\n",
       "    <tr>\n",
       "      <td>0</td>\n",
       "      <td>3667963787</td>\n",
       "      <td>3312258926</td>\n",
       "      <td>2019-08-15</td>\n",
       "      <td>1650</td>\n",
       "      <td>B</td>\n",
       "    </tr>\n",
       "    <tr>\n",
       "      <td>1</td>\n",
       "      <td>2804400009</td>\n",
       "      <td>3642806036</td>\n",
       "      <td>2019-08-15</td>\n",
       "      <td>730</td>\n",
       "      <td>B</td>\n",
       "    </tr>\n",
       "    <tr>\n",
       "      <td>2</td>\n",
       "      <td>2961555356</td>\n",
       "      <td>4069496402</td>\n",
       "      <td>2019-08-15</td>\n",
       "      <td>400</td>\n",
       "      <td>A</td>\n",
       "    </tr>\n",
       "    <tr>\n",
       "      <td>3</td>\n",
       "      <td>3797467345</td>\n",
       "      <td>1196621759</td>\n",
       "      <td>2019-08-15</td>\n",
       "      <td>9759</td>\n",
       "      <td>B</td>\n",
       "    </tr>\n",
       "    <tr>\n",
       "      <td>4</td>\n",
       "      <td>2282983706</td>\n",
       "      <td>2322279887</td>\n",
       "      <td>2019-08-15</td>\n",
       "      <td>2308</td>\n",
       "      <td>B</td>\n",
       "    </tr>\n",
       "    <tr>\n",
       "      <td>...</td>\n",
       "      <td>...</td>\n",
       "      <td>...</td>\n",
       "      <td>...</td>\n",
       "      <td>...</td>\n",
       "      <td>...</td>\n",
       "    </tr>\n",
       "    <tr>\n",
       "      <td>1192</td>\n",
       "      <td>2662137336</td>\n",
       "      <td>3733762160</td>\n",
       "      <td>2019-08-14</td>\n",
       "      <td>6490</td>\n",
       "      <td>B</td>\n",
       "    </tr>\n",
       "    <tr>\n",
       "      <td>1193</td>\n",
       "      <td>2203539145</td>\n",
       "      <td>370388673</td>\n",
       "      <td>2019-08-14</td>\n",
       "      <td>3190</td>\n",
       "      <td>A</td>\n",
       "    </tr>\n",
       "    <tr>\n",
       "      <td>1194</td>\n",
       "      <td>1807773912</td>\n",
       "      <td>573423106</td>\n",
       "      <td>2019-08-14</td>\n",
       "      <td>10550</td>\n",
       "      <td>A</td>\n",
       "    </tr>\n",
       "    <tr>\n",
       "      <td>1195</td>\n",
       "      <td>1947021204</td>\n",
       "      <td>1614305549</td>\n",
       "      <td>2019-08-14</td>\n",
       "      <td>100</td>\n",
       "      <td>A</td>\n",
       "    </tr>\n",
       "    <tr>\n",
       "      <td>1196</td>\n",
       "      <td>3936777065</td>\n",
       "      <td>2108080724</td>\n",
       "      <td>2019-08-15</td>\n",
       "      <td>202740</td>\n",
       "      <td>B</td>\n",
       "    </tr>\n",
       "  </tbody>\n",
       "</table>\n",
       "<p>1197 rows × 5 columns</p>\n",
       "</div>"
      ],
      "text/plain": [
       "      transactionId   visitorId        date  revenue group\n",
       "0     3667963787     3312258926  2019-08-15  1650     B   \n",
       "1     2804400009     3642806036  2019-08-15  730      B   \n",
       "2     2961555356     4069496402  2019-08-15  400      A   \n",
       "3     3797467345     1196621759  2019-08-15  9759     B   \n",
       "4     2282983706     2322279887  2019-08-15  2308     B   \n",
       "...          ...            ...         ...   ...    ..   \n",
       "1192  2662137336     3733762160  2019-08-14  6490     B   \n",
       "1193  2203539145     370388673   2019-08-14  3190     A   \n",
       "1194  1807773912     573423106   2019-08-14  10550    A   \n",
       "1195  1947021204     1614305549  2019-08-14  100      A   \n",
       "1196  3936777065     2108080724  2019-08-15  202740   B   \n",
       "\n",
       "[1197 rows x 5 columns]"
      ]
     },
     "metadata": {},
     "output_type": "display_data"
    },
    {
     "name": "stdout",
     "output_type": "stream",
     "text": [
      "<class 'pandas.core.frame.DataFrame'>\n",
      "RangeIndex: 1197 entries, 0 to 1196\n",
      "Data columns (total 5 columns):\n",
      "transactionId    1197 non-null int64\n",
      "visitorId        1197 non-null int64\n",
      "date             1197 non-null object\n",
      "revenue          1197 non-null int64\n",
      "group            1197 non-null object\n",
      "dtypes: int64(3), object(2)\n",
      "memory usage: 46.9+ KB\n",
      "Количество дублей: 0\n"
     ]
    }
   ],
   "source": [
    "display(orders)\n",
    "orders.info()\n",
    "print('Количество дублей:', orders.duplicated().sum())"
   ]
  },
  {
   "cell_type": "code",
   "execution_count": 194,
   "metadata": {},
   "outputs": [
    {
     "data": {
      "text/html": [
       "<div>\n",
       "<style scoped>\n",
       "    .dataframe tbody tr th:only-of-type {\n",
       "        vertical-align: middle;\n",
       "    }\n",
       "\n",
       "    .dataframe tbody tr th {\n",
       "        vertical-align: top;\n",
       "    }\n",
       "\n",
       "    .dataframe thead th {\n",
       "        text-align: right;\n",
       "    }\n",
       "</style>\n",
       "<table border=\"1\" class=\"dataframe\">\n",
       "  <thead>\n",
       "    <tr style=\"text-align: right;\">\n",
       "      <th></th>\n",
       "      <th>date</th>\n",
       "      <th>group</th>\n",
       "      <th>visitors</th>\n",
       "    </tr>\n",
       "  </thead>\n",
       "  <tbody>\n",
       "    <tr>\n",
       "      <td>0</td>\n",
       "      <td>2019-08-01</td>\n",
       "      <td>A</td>\n",
       "      <td>719</td>\n",
       "    </tr>\n",
       "    <tr>\n",
       "      <td>1</td>\n",
       "      <td>2019-08-02</td>\n",
       "      <td>A</td>\n",
       "      <td>619</td>\n",
       "    </tr>\n",
       "    <tr>\n",
       "      <td>2</td>\n",
       "      <td>2019-08-03</td>\n",
       "      <td>A</td>\n",
       "      <td>507</td>\n",
       "    </tr>\n",
       "    <tr>\n",
       "      <td>3</td>\n",
       "      <td>2019-08-04</td>\n",
       "      <td>A</td>\n",
       "      <td>717</td>\n",
       "    </tr>\n",
       "    <tr>\n",
       "      <td>4</td>\n",
       "      <td>2019-08-05</td>\n",
       "      <td>A</td>\n",
       "      <td>756</td>\n",
       "    </tr>\n",
       "    <tr>\n",
       "      <td>...</td>\n",
       "      <td>...</td>\n",
       "      <td>...</td>\n",
       "      <td>...</td>\n",
       "    </tr>\n",
       "    <tr>\n",
       "      <td>57</td>\n",
       "      <td>2019-08-27</td>\n",
       "      <td>B</td>\n",
       "      <td>720</td>\n",
       "    </tr>\n",
       "    <tr>\n",
       "      <td>58</td>\n",
       "      <td>2019-08-28</td>\n",
       "      <td>B</td>\n",
       "      <td>654</td>\n",
       "    </tr>\n",
       "    <tr>\n",
       "      <td>59</td>\n",
       "      <td>2019-08-29</td>\n",
       "      <td>B</td>\n",
       "      <td>531</td>\n",
       "    </tr>\n",
       "    <tr>\n",
       "      <td>60</td>\n",
       "      <td>2019-08-30</td>\n",
       "      <td>B</td>\n",
       "      <td>490</td>\n",
       "    </tr>\n",
       "    <tr>\n",
       "      <td>61</td>\n",
       "      <td>2019-08-31</td>\n",
       "      <td>B</td>\n",
       "      <td>718</td>\n",
       "    </tr>\n",
       "  </tbody>\n",
       "</table>\n",
       "<p>62 rows × 3 columns</p>\n",
       "</div>"
      ],
      "text/plain": [
       "          date group  visitors\n",
       "0   2019-08-01  A     719     \n",
       "1   2019-08-02  A     619     \n",
       "2   2019-08-03  A     507     \n",
       "3   2019-08-04  A     717     \n",
       "4   2019-08-05  A     756     \n",
       "..         ... ..     ...     \n",
       "57  2019-08-27  B     720     \n",
       "58  2019-08-28  B     654     \n",
       "59  2019-08-29  B     531     \n",
       "60  2019-08-30  B     490     \n",
       "61  2019-08-31  B     718     \n",
       "\n",
       "[62 rows x 3 columns]"
      ]
     },
     "metadata": {},
     "output_type": "display_data"
    },
    {
     "name": "stdout",
     "output_type": "stream",
     "text": [
      "<class 'pandas.core.frame.DataFrame'>\n",
      "RangeIndex: 62 entries, 0 to 61\n",
      "Data columns (total 3 columns):\n",
      "date        62 non-null object\n",
      "group       62 non-null object\n",
      "visitors    62 non-null int64\n",
      "dtypes: int64(1), object(2)\n",
      "memory usage: 1.6+ KB\n",
      "Количество дублей: 0\n"
     ]
    }
   ],
   "source": [
    "display(visitors)\n",
    "visitors.info()\n",
    "print('Количество дублей:', visitors.duplicated().sum())"
   ]
  },
  {
   "cell_type": "markdown",
   "metadata": {},
   "source": [
    "<span style=\"color:blue\"> **Дубликаты в предоставленных данных не обнаружены, неверный тип данных у столбцов 'date' в таблицах Orders и Visitors.**"
   ]
  },
  {
   "cell_type": "markdown",
   "metadata": {},
   "source": [
    "**Приведем названия столбцов к нижнему регистру**"
   ]
  },
  {
   "cell_type": "code",
   "execution_count": 195,
   "metadata": {},
   "outputs": [],
   "source": [
    "hypothesis.columns = hypothesis.columns.str.lower()\n",
    "orders.columns = orders.columns.str.lower()\n",
    "visitors.columns = visitors.columns.str.lower()"
   ]
  },
  {
   "cell_type": "markdown",
   "metadata": {},
   "source": [
    "**Проверим пропуски и наличие нулевых данных, а также заменим тип данных в нужных столбцах:**"
   ]
  },
  {
   "cell_type": "code",
   "execution_count": 196,
   "metadata": {},
   "outputs": [
    {
     "name": "stdout",
     "output_type": "stream",
     "text": [
      "hypothesis    0\n",
      "reach         0\n",
      "impact        0\n",
      "confidence    0\n",
      "efforts       0\n",
      "dtype: int64\n",
      "hypothesis    0\n",
      "reach         0\n",
      "impact        0\n",
      "confidence    0\n",
      "efforts       0\n",
      "dtype: int64\n"
     ]
    }
   ],
   "source": [
    "print(hypothesis.isnull().sum())\n",
    "print(hypothesis.isna().sum())"
   ]
  },
  {
   "cell_type": "code",
   "execution_count": 197,
   "metadata": {},
   "outputs": [
    {
     "name": "stdout",
     "output_type": "stream",
     "text": [
      "transactionid    0\n",
      "visitorid        0\n",
      "date             0\n",
      "revenue          0\n",
      "group            0\n",
      "dtype: int64\n",
      "transactionid    0\n",
      "visitorid        0\n",
      "date             0\n",
      "revenue          0\n",
      "group            0\n",
      "dtype: int64\n"
     ]
    }
   ],
   "source": [
    "print(orders.isnull().sum())\n",
    "print(orders.isna().sum())"
   ]
  },
  {
   "cell_type": "code",
   "execution_count": 198,
   "metadata": {},
   "outputs": [
    {
     "name": "stdout",
     "output_type": "stream",
     "text": [
      "date        0\n",
      "group       0\n",
      "visitors    0\n",
      "dtype: int64\n",
      "date        0\n",
      "group       0\n",
      "visitors    0\n",
      "dtype: int64\n"
     ]
    }
   ],
   "source": [
    "print(visitors.isnull().sum())\n",
    "print(visitors.isna().sum())"
   ]
  },
  {
   "cell_type": "code",
   "execution_count": 199,
   "metadata": {},
   "outputs": [],
   "source": [
    "time_format = '%Y.%m.%d %H:%M'"
   ]
  },
  {
   "cell_type": "code",
   "execution_count": 200,
   "metadata": {},
   "outputs": [],
   "source": [
    "orders['date'] = pd.to_datetime(orders['date'], format=time_format)\n",
    "visitors['date'] = pd.to_datetime(visitors['date'], format=time_format)"
   ]
  },
  {
   "cell_type": "markdown",
   "metadata": {},
   "source": [
    "<span style=\"color:blue\"> **Проверим, есть ли пользователи, которые входят в обе группы:**"
   ]
  },
  {
   "cell_type": "code",
   "execution_count": 201,
   "metadata": {},
   "outputs": [
    {
     "name": "stdout",
     "output_type": "stream",
     "text": [
      "visitorid\n",
      "5114589       1\n",
      "6958315       1\n",
      "8300375       2\n",
      "11685486      1\n",
      "39475350      1\n",
      "             ..\n",
      "4266935830    2\n",
      "4278982564    1\n",
      "4279090005    1\n",
      "4281247801    1\n",
      "4283872382    1\n",
      "Name: group, Length: 1031, dtype: int64\n"
     ]
    },
    {
     "data": {
      "text/plain": [
       "1    973\n",
       "2    58 \n",
       "Name: group, dtype: int64"
      ]
     },
     "execution_count": 201,
     "metadata": {},
     "output_type": "execute_result"
    }
   ],
   "source": [
    "orders_groups = orders.groupby('visitorid')['group'].nunique()\n",
    "print(orders_groups)\n",
    "orders_groups.value_counts()"
   ]
  },
  {
   "cell_type": "markdown",
   "metadata": {},
   "source": [
    "<span style=\"color:blue\"> **Вывод: 58 пользователей входят в обе группы**"
   ]
  },
  {
   "cell_type": "markdown",
   "metadata": {},
   "source": [
    "<span style=\"color:blue\"> **Удалим пользователей, входящих в обе группы, для того, чтобы при проведении тестирования не было искажений:**"
   ]
  },
  {
   "cell_type": "code",
   "execution_count": 202,
   "metadata": {},
   "outputs": [
    {
     "data": {
      "text/html": [
       "<div>\n",
       "<style scoped>\n",
       "    .dataframe tbody tr th:only-of-type {\n",
       "        vertical-align: middle;\n",
       "    }\n",
       "\n",
       "    .dataframe tbody tr th {\n",
       "        vertical-align: top;\n",
       "    }\n",
       "\n",
       "    .dataframe thead th {\n",
       "        text-align: right;\n",
       "    }\n",
       "</style>\n",
       "<table border=\"1\" class=\"dataframe\">\n",
       "  <thead>\n",
       "    <tr style=\"text-align: right;\">\n",
       "      <th></th>\n",
       "      <th>transactionid</th>\n",
       "      <th>visitorid</th>\n",
       "      <th>date</th>\n",
       "      <th>revenue</th>\n",
       "      <th>group_x</th>\n",
       "      <th>group_y</th>\n",
       "    </tr>\n",
       "  </thead>\n",
       "  <tbody>\n",
       "    <tr>\n",
       "      <td>0</td>\n",
       "      <td>3667963787</td>\n",
       "      <td>3312258926</td>\n",
       "      <td>2019-08-15</td>\n",
       "      <td>1650</td>\n",
       "      <td>B</td>\n",
       "      <td>1</td>\n",
       "    </tr>\n",
       "    <tr>\n",
       "      <td>1</td>\n",
       "      <td>2804400009</td>\n",
       "      <td>3642806036</td>\n",
       "      <td>2019-08-15</td>\n",
       "      <td>730</td>\n",
       "      <td>B</td>\n",
       "      <td>1</td>\n",
       "    </tr>\n",
       "    <tr>\n",
       "      <td>2</td>\n",
       "      <td>2961555356</td>\n",
       "      <td>4069496402</td>\n",
       "      <td>2019-08-15</td>\n",
       "      <td>400</td>\n",
       "      <td>A</td>\n",
       "      <td>2</td>\n",
       "    </tr>\n",
       "    <tr>\n",
       "      <td>3</td>\n",
       "      <td>1473132782</td>\n",
       "      <td>4069496402</td>\n",
       "      <td>2019-08-12</td>\n",
       "      <td>640</td>\n",
       "      <td>B</td>\n",
       "      <td>2</td>\n",
       "    </tr>\n",
       "    <tr>\n",
       "      <td>4</td>\n",
       "      <td>3797467345</td>\n",
       "      <td>1196621759</td>\n",
       "      <td>2019-08-15</td>\n",
       "      <td>9759</td>\n",
       "      <td>B</td>\n",
       "      <td>1</td>\n",
       "    </tr>\n",
       "    <tr>\n",
       "      <td>...</td>\n",
       "      <td>...</td>\n",
       "      <td>...</td>\n",
       "      <td>...</td>\n",
       "      <td>...</td>\n",
       "      <td>...</td>\n",
       "      <td>...</td>\n",
       "    </tr>\n",
       "    <tr>\n",
       "      <td>1192</td>\n",
       "      <td>3592955527</td>\n",
       "      <td>608641596</td>\n",
       "      <td>2019-08-14</td>\n",
       "      <td>16490</td>\n",
       "      <td>B</td>\n",
       "      <td>1</td>\n",
       "    </tr>\n",
       "    <tr>\n",
       "      <td>1193</td>\n",
       "      <td>2662137336</td>\n",
       "      <td>3733762160</td>\n",
       "      <td>2019-08-14</td>\n",
       "      <td>6490</td>\n",
       "      <td>B</td>\n",
       "      <td>1</td>\n",
       "    </tr>\n",
       "    <tr>\n",
       "      <td>1194</td>\n",
       "      <td>2203539145</td>\n",
       "      <td>370388673</td>\n",
       "      <td>2019-08-14</td>\n",
       "      <td>3190</td>\n",
       "      <td>A</td>\n",
       "      <td>1</td>\n",
       "    </tr>\n",
       "    <tr>\n",
       "      <td>1195</td>\n",
       "      <td>1807773912</td>\n",
       "      <td>573423106</td>\n",
       "      <td>2019-08-14</td>\n",
       "      <td>10550</td>\n",
       "      <td>A</td>\n",
       "      <td>1</td>\n",
       "    </tr>\n",
       "    <tr>\n",
       "      <td>1196</td>\n",
       "      <td>3936777065</td>\n",
       "      <td>2108080724</td>\n",
       "      <td>2019-08-15</td>\n",
       "      <td>202740</td>\n",
       "      <td>B</td>\n",
       "      <td>1</td>\n",
       "    </tr>\n",
       "  </tbody>\n",
       "</table>\n",
       "<p>1197 rows × 6 columns</p>\n",
       "</div>"
      ],
      "text/plain": [
       "      transactionid   visitorid       date  revenue group_x  group_y\n",
       "0     3667963787     3312258926 2019-08-15  1650     B       1      \n",
       "1     2804400009     3642806036 2019-08-15  730      B       1      \n",
       "2     2961555356     4069496402 2019-08-15  400      A       2      \n",
       "3     1473132782     4069496402 2019-08-12  640      B       2      \n",
       "4     3797467345     1196621759 2019-08-15  9759     B       1      \n",
       "...          ...            ...        ...   ...    ..      ..      \n",
       "1192  3592955527     608641596  2019-08-14  16490    B       1      \n",
       "1193  2662137336     3733762160 2019-08-14  6490     B       1      \n",
       "1194  2203539145     370388673  2019-08-14  3190     A       1      \n",
       "1195  1807773912     573423106  2019-08-14  10550    A       1      \n",
       "1196  3936777065     2108080724 2019-08-15  202740   B       1      \n",
       "\n",
       "[1197 rows x 6 columns]"
      ]
     },
     "metadata": {},
     "output_type": "display_data"
    }
   ],
   "source": [
    "orders = orders.merge(orders_groups, on=['visitorid'])\n",
    "display(orders)"
   ]
  },
  {
   "cell_type": "code",
   "execution_count": 203,
   "metadata": {},
   "outputs": [
    {
     "data": {
      "text/html": [
       "<div>\n",
       "<style scoped>\n",
       "    .dataframe tbody tr th:only-of-type {\n",
       "        vertical-align: middle;\n",
       "    }\n",
       "\n",
       "    .dataframe tbody tr th {\n",
       "        vertical-align: top;\n",
       "    }\n",
       "\n",
       "    .dataframe thead th {\n",
       "        text-align: right;\n",
       "    }\n",
       "</style>\n",
       "<table border=\"1\" class=\"dataframe\">\n",
       "  <thead>\n",
       "    <tr style=\"text-align: right;\">\n",
       "      <th></th>\n",
       "      <th>transactionid</th>\n",
       "      <th>visitorid</th>\n",
       "      <th>date</th>\n",
       "      <th>revenue</th>\n",
       "      <th>group_x</th>\n",
       "      <th>group_y</th>\n",
       "    </tr>\n",
       "  </thead>\n",
       "  <tbody>\n",
       "  </tbody>\n",
       "</table>\n",
       "</div>"
      ],
      "text/plain": [
       "Empty DataFrame\n",
       "Columns: [transactionid, visitorid, date, revenue, group_x, group_y]\n",
       "Index: []"
      ]
     },
     "execution_count": 203,
     "metadata": {},
     "output_type": "execute_result"
    }
   ],
   "source": [
    "orders = orders.drop(np.where(orders['group_y'] == 2)[0]).reset_index(drop=True)\n",
    "#Проверяем:\n",
    "orders.query('group_y == \"2\"')"
   ]
  },
  {
   "cell_type": "markdown",
   "metadata": {},
   "source": [
    "<span style=\"color:blue\"> Пользователи, встречающиеся в обеих группах, удалены.<br>\n",
    "Удалим столбец group_y и переименуем столбец group_x обратно в \"group\":"
   ]
  },
  {
   "cell_type": "code",
   "execution_count": 204,
   "metadata": {},
   "outputs": [],
   "source": [
    "orders = orders.drop('group_y', 1)\n",
    "orders = orders.rename(columns={'group_x': 'group'})"
   ]
  },
  {
   "cell_type": "markdown",
   "metadata": {},
   "source": [
    "**Проверим корректность проведенных изменений:**"
   ]
  },
  {
   "cell_type": "code",
   "execution_count": 207,
   "metadata": {
    "scrolled": false
   },
   "outputs": [
    {
     "data": {
      "text/html": [
       "<div>\n",
       "<style scoped>\n",
       "    .dataframe tbody tr th:only-of-type {\n",
       "        vertical-align: middle;\n",
       "    }\n",
       "\n",
       "    .dataframe tbody tr th {\n",
       "        vertical-align: top;\n",
       "    }\n",
       "\n",
       "    .dataframe thead th {\n",
       "        text-align: right;\n",
       "    }\n",
       "</style>\n",
       "<table border=\"1\" class=\"dataframe\">\n",
       "  <thead>\n",
       "    <tr style=\"text-align: right;\">\n",
       "      <th></th>\n",
       "      <th>hypothesis</th>\n",
       "      <th>reach</th>\n",
       "      <th>impact</th>\n",
       "      <th>confidence</th>\n",
       "      <th>efforts</th>\n",
       "    </tr>\n",
       "  </thead>\n",
       "  <tbody>\n",
       "    <tr>\n",
       "      <td>0</td>\n",
       "      <td>Добавить два новых канала привлечения трафика, что позволит привлекать на 30% больше пользователей</td>\n",
       "      <td>3</td>\n",
       "      <td>10</td>\n",
       "      <td>8</td>\n",
       "      <td>6</td>\n",
       "    </tr>\n",
       "    <tr>\n",
       "      <td>1</td>\n",
       "      <td>Запустить собственную службу доставки, что сократит срок доставки заказов</td>\n",
       "      <td>2</td>\n",
       "      <td>5</td>\n",
       "      <td>4</td>\n",
       "      <td>10</td>\n",
       "    </tr>\n",
       "    <tr>\n",
       "      <td>2</td>\n",
       "      <td>Добавить блоки рекомендаций товаров на сайт интернет магазина, чтобы повысить конверсию и средний чек заказа</td>\n",
       "      <td>8</td>\n",
       "      <td>3</td>\n",
       "      <td>7</td>\n",
       "      <td>3</td>\n",
       "    </tr>\n",
       "    <tr>\n",
       "      <td>3</td>\n",
       "      <td>Изменить структура категорий, что увеличит конверсию, т.к. пользователи быстрее найдут нужный товар</td>\n",
       "      <td>8</td>\n",
       "      <td>3</td>\n",
       "      <td>3</td>\n",
       "      <td>8</td>\n",
       "    </tr>\n",
       "    <tr>\n",
       "      <td>4</td>\n",
       "      <td>Изменить цвет фона главной страницы, чтобы увеличить вовлеченность пользователей</td>\n",
       "      <td>3</td>\n",
       "      <td>1</td>\n",
       "      <td>1</td>\n",
       "      <td>1</td>\n",
       "    </tr>\n",
       "    <tr>\n",
       "      <td>5</td>\n",
       "      <td>Добавить страницу отзывов клиентов о магазине, что позволит увеличить количество заказов</td>\n",
       "      <td>3</td>\n",
       "      <td>2</td>\n",
       "      <td>2</td>\n",
       "      <td>3</td>\n",
       "    </tr>\n",
       "    <tr>\n",
       "      <td>6</td>\n",
       "      <td>Показать на главной странице баннеры с актуальными акциями и распродажами, чтобы увеличить конверсию</td>\n",
       "      <td>5</td>\n",
       "      <td>3</td>\n",
       "      <td>8</td>\n",
       "      <td>3</td>\n",
       "    </tr>\n",
       "    <tr>\n",
       "      <td>7</td>\n",
       "      <td>Добавить форму подписки на все основные страницы, чтобы собрать базу клиентов для email-рассылок</td>\n",
       "      <td>10</td>\n",
       "      <td>7</td>\n",
       "      <td>8</td>\n",
       "      <td>5</td>\n",
       "    </tr>\n",
       "    <tr>\n",
       "      <td>8</td>\n",
       "      <td>Запустить акцию, дающую скидку на товар в день рождения</td>\n",
       "      <td>1</td>\n",
       "      <td>9</td>\n",
       "      <td>9</td>\n",
       "      <td>5</td>\n",
       "    </tr>\n",
       "  </tbody>\n",
       "</table>\n",
       "</div>"
      ],
      "text/plain": [
       "                                                                                                     hypothesis  \\\n",
       "0  Добавить два новых канала привлечения трафика, что позволит привлекать на 30% больше пользователей             \n",
       "1  Запустить собственную службу доставки, что сократит срок доставки заказов                                      \n",
       "2  Добавить блоки рекомендаций товаров на сайт интернет магазина, чтобы повысить конверсию и средний чек заказа   \n",
       "3  Изменить структура категорий, что увеличит конверсию, т.к. пользователи быстрее найдут нужный товар            \n",
       "4  Изменить цвет фона главной страницы, чтобы увеличить вовлеченность пользователей                               \n",
       "5  Добавить страницу отзывов клиентов о магазине, что позволит увеличить количество заказов                       \n",
       "6  Показать на главной странице баннеры с актуальными акциями и распродажами, чтобы увеличить конверсию           \n",
       "7  Добавить форму подписки на все основные страницы, чтобы собрать базу клиентов для email-рассылок               \n",
       "8  Запустить акцию, дающую скидку на товар в день рождения                                                        \n",
       "\n",
       "   reach  impact  confidence  efforts  \n",
       "0  3      10      8           6        \n",
       "1  2      5       4           10       \n",
       "2  8      3       7           3        \n",
       "3  8      3       3           8        \n",
       "4  3      1       1           1        \n",
       "5  3      2       2           3        \n",
       "6  5      3       8           3        \n",
       "7  10     7       8           5        \n",
       "8  1      9       9           5        "
      ]
     },
     "metadata": {},
     "output_type": "display_data"
    },
    {
     "name": "stdout",
     "output_type": "stream",
     "text": [
      "<class 'pandas.core.frame.DataFrame'>\n",
      "RangeIndex: 9 entries, 0 to 8\n",
      "Data columns (total 5 columns):\n",
      "hypothesis    9 non-null object\n",
      "reach         9 non-null int64\n",
      "impact        9 non-null int64\n",
      "confidence    9 non-null int64\n",
      "efforts       9 non-null int64\n",
      "dtypes: int64(4), object(1)\n",
      "memory usage: 488.0+ bytes\n"
     ]
    },
    {
     "data": {
      "text/html": [
       "<div>\n",
       "<style scoped>\n",
       "    .dataframe tbody tr th:only-of-type {\n",
       "        vertical-align: middle;\n",
       "    }\n",
       "\n",
       "    .dataframe tbody tr th {\n",
       "        vertical-align: top;\n",
       "    }\n",
       "\n",
       "    .dataframe thead th {\n",
       "        text-align: right;\n",
       "    }\n",
       "</style>\n",
       "<table border=\"1\" class=\"dataframe\">\n",
       "  <thead>\n",
       "    <tr style=\"text-align: right;\">\n",
       "      <th></th>\n",
       "      <th>transactionid</th>\n",
       "      <th>visitorid</th>\n",
       "      <th>date</th>\n",
       "      <th>revenue</th>\n",
       "      <th>group</th>\n",
       "    </tr>\n",
       "  </thead>\n",
       "  <tbody>\n",
       "    <tr>\n",
       "      <td>0</td>\n",
       "      <td>3667963787</td>\n",
       "      <td>3312258926</td>\n",
       "      <td>2019-08-15</td>\n",
       "      <td>1650</td>\n",
       "      <td>B</td>\n",
       "    </tr>\n",
       "    <tr>\n",
       "      <td>1</td>\n",
       "      <td>2804400009</td>\n",
       "      <td>3642806036</td>\n",
       "      <td>2019-08-15</td>\n",
       "      <td>730</td>\n",
       "      <td>B</td>\n",
       "    </tr>\n",
       "    <tr>\n",
       "      <td>2</td>\n",
       "      <td>3797467345</td>\n",
       "      <td>1196621759</td>\n",
       "      <td>2019-08-15</td>\n",
       "      <td>9759</td>\n",
       "      <td>B</td>\n",
       "    </tr>\n",
       "    <tr>\n",
       "      <td>3</td>\n",
       "      <td>2282983706</td>\n",
       "      <td>2322279887</td>\n",
       "      <td>2019-08-15</td>\n",
       "      <td>2308</td>\n",
       "      <td>B</td>\n",
       "    </tr>\n",
       "    <tr>\n",
       "      <td>4</td>\n",
       "      <td>182168103</td>\n",
       "      <td>935554773</td>\n",
       "      <td>2019-08-15</td>\n",
       "      <td>2210</td>\n",
       "      <td>B</td>\n",
       "    </tr>\n",
       "    <tr>\n",
       "      <td>...</td>\n",
       "      <td>...</td>\n",
       "      <td>...</td>\n",
       "      <td>...</td>\n",
       "      <td>...</td>\n",
       "      <td>...</td>\n",
       "    </tr>\n",
       "    <tr>\n",
       "      <td>1011</td>\n",
       "      <td>3592955527</td>\n",
       "      <td>608641596</td>\n",
       "      <td>2019-08-14</td>\n",
       "      <td>16490</td>\n",
       "      <td>B</td>\n",
       "    </tr>\n",
       "    <tr>\n",
       "      <td>1012</td>\n",
       "      <td>2662137336</td>\n",
       "      <td>3733762160</td>\n",
       "      <td>2019-08-14</td>\n",
       "      <td>6490</td>\n",
       "      <td>B</td>\n",
       "    </tr>\n",
       "    <tr>\n",
       "      <td>1013</td>\n",
       "      <td>2203539145</td>\n",
       "      <td>370388673</td>\n",
       "      <td>2019-08-14</td>\n",
       "      <td>3190</td>\n",
       "      <td>A</td>\n",
       "    </tr>\n",
       "    <tr>\n",
       "      <td>1014</td>\n",
       "      <td>1807773912</td>\n",
       "      <td>573423106</td>\n",
       "      <td>2019-08-14</td>\n",
       "      <td>10550</td>\n",
       "      <td>A</td>\n",
       "    </tr>\n",
       "    <tr>\n",
       "      <td>1015</td>\n",
       "      <td>3936777065</td>\n",
       "      <td>2108080724</td>\n",
       "      <td>2019-08-15</td>\n",
       "      <td>202740</td>\n",
       "      <td>B</td>\n",
       "    </tr>\n",
       "  </tbody>\n",
       "</table>\n",
       "<p>1016 rows × 5 columns</p>\n",
       "</div>"
      ],
      "text/plain": [
       "      transactionid   visitorid       date  revenue group\n",
       "0     3667963787     3312258926 2019-08-15  1650     B   \n",
       "1     2804400009     3642806036 2019-08-15  730      B   \n",
       "2     3797467345     1196621759 2019-08-15  9759     B   \n",
       "3     2282983706     2322279887 2019-08-15  2308     B   \n",
       "4     182168103      935554773  2019-08-15  2210     B   \n",
       "...         ...            ...         ...   ...    ..   \n",
       "1011  3592955527     608641596  2019-08-14  16490    B   \n",
       "1012  2662137336     3733762160 2019-08-14  6490     B   \n",
       "1013  2203539145     370388673  2019-08-14  3190     A   \n",
       "1014  1807773912     573423106  2019-08-14  10550    A   \n",
       "1015  3936777065     2108080724 2019-08-15  202740   B   \n",
       "\n",
       "[1016 rows x 5 columns]"
      ]
     },
     "metadata": {},
     "output_type": "display_data"
    },
    {
     "name": "stdout",
     "output_type": "stream",
     "text": [
      "<class 'pandas.core.frame.DataFrame'>\n",
      "RangeIndex: 1016 entries, 0 to 1015\n",
      "Data columns (total 5 columns):\n",
      "transactionid    1016 non-null int64\n",
      "visitorid        1016 non-null int64\n",
      "date             1016 non-null datetime64[ns]\n",
      "revenue          1016 non-null int64\n",
      "group            1016 non-null object\n",
      "dtypes: datetime64[ns](1), int64(3), object(1)\n",
      "memory usage: 39.8+ KB\n"
     ]
    },
    {
     "data": {
      "text/html": [
       "<div>\n",
       "<style scoped>\n",
       "    .dataframe tbody tr th:only-of-type {\n",
       "        vertical-align: middle;\n",
       "    }\n",
       "\n",
       "    .dataframe tbody tr th {\n",
       "        vertical-align: top;\n",
       "    }\n",
       "\n",
       "    .dataframe thead th {\n",
       "        text-align: right;\n",
       "    }\n",
       "</style>\n",
       "<table border=\"1\" class=\"dataframe\">\n",
       "  <thead>\n",
       "    <tr style=\"text-align: right;\">\n",
       "      <th></th>\n",
       "      <th>date</th>\n",
       "      <th>group</th>\n",
       "      <th>visitors</th>\n",
       "    </tr>\n",
       "  </thead>\n",
       "  <tbody>\n",
       "    <tr>\n",
       "      <td>0</td>\n",
       "      <td>2019-08-01</td>\n",
       "      <td>A</td>\n",
       "      <td>719</td>\n",
       "    </tr>\n",
       "    <tr>\n",
       "      <td>1</td>\n",
       "      <td>2019-08-02</td>\n",
       "      <td>A</td>\n",
       "      <td>619</td>\n",
       "    </tr>\n",
       "    <tr>\n",
       "      <td>2</td>\n",
       "      <td>2019-08-03</td>\n",
       "      <td>A</td>\n",
       "      <td>507</td>\n",
       "    </tr>\n",
       "    <tr>\n",
       "      <td>3</td>\n",
       "      <td>2019-08-04</td>\n",
       "      <td>A</td>\n",
       "      <td>717</td>\n",
       "    </tr>\n",
       "    <tr>\n",
       "      <td>4</td>\n",
       "      <td>2019-08-05</td>\n",
       "      <td>A</td>\n",
       "      <td>756</td>\n",
       "    </tr>\n",
       "    <tr>\n",
       "      <td>...</td>\n",
       "      <td>...</td>\n",
       "      <td>...</td>\n",
       "      <td>...</td>\n",
       "    </tr>\n",
       "    <tr>\n",
       "      <td>57</td>\n",
       "      <td>2019-08-27</td>\n",
       "      <td>B</td>\n",
       "      <td>720</td>\n",
       "    </tr>\n",
       "    <tr>\n",
       "      <td>58</td>\n",
       "      <td>2019-08-28</td>\n",
       "      <td>B</td>\n",
       "      <td>654</td>\n",
       "    </tr>\n",
       "    <tr>\n",
       "      <td>59</td>\n",
       "      <td>2019-08-29</td>\n",
       "      <td>B</td>\n",
       "      <td>531</td>\n",
       "    </tr>\n",
       "    <tr>\n",
       "      <td>60</td>\n",
       "      <td>2019-08-30</td>\n",
       "      <td>B</td>\n",
       "      <td>490</td>\n",
       "    </tr>\n",
       "    <tr>\n",
       "      <td>61</td>\n",
       "      <td>2019-08-31</td>\n",
       "      <td>B</td>\n",
       "      <td>718</td>\n",
       "    </tr>\n",
       "  </tbody>\n",
       "</table>\n",
       "<p>62 rows × 3 columns</p>\n",
       "</div>"
      ],
      "text/plain": [
       "         date group  visitors\n",
       "0  2019-08-01  A     719     \n",
       "1  2019-08-02  A     619     \n",
       "2  2019-08-03  A     507     \n",
       "3  2019-08-04  A     717     \n",
       "4  2019-08-05  A     756     \n",
       "..        ... ..     ...     \n",
       "57 2019-08-27  B     720     \n",
       "58 2019-08-28  B     654     \n",
       "59 2019-08-29  B     531     \n",
       "60 2019-08-30  B     490     \n",
       "61 2019-08-31  B     718     \n",
       "\n",
       "[62 rows x 3 columns]"
      ]
     },
     "metadata": {},
     "output_type": "display_data"
    },
    {
     "name": "stdout",
     "output_type": "stream",
     "text": [
      "<class 'pandas.core.frame.DataFrame'>\n",
      "RangeIndex: 62 entries, 0 to 61\n",
      "Data columns (total 3 columns):\n",
      "date        62 non-null datetime64[ns]\n",
      "group       62 non-null object\n",
      "visitors    62 non-null int64\n",
      "dtypes: datetime64[ns](1), int64(1), object(1)\n",
      "memory usage: 1.6+ KB\n"
     ]
    }
   ],
   "source": [
    "display(hypothesis)\n",
    "hypothesis.info()\n",
    "display(orders)\n",
    "orders.info()\n",
    "display(visitors)\n",
    "visitors.info()"
   ]
  },
  {
   "cell_type": "markdown",
   "metadata": {},
   "source": [
    "<span style=\"color:blue\"> **Вывод:**<br>\n",
    "<span style=\"color:blue\">1. Дубликаты, пропуски, нулевые значения в предоставленных данных не обнаружены<br>\n",
    "2. Заменен тип данных столбцов date на datetime<br>\n",
    "3. Обнаружены и удалены 58 пользователей, встречающихся в обеих группах<br>\n",
    "\n",
    "<span style=\"color:blue\">**Данные готовы к дальнейшему анализу.**"
   ]
  },
  {
   "cell_type": "markdown",
   "metadata": {},
   "source": [
    "<div class=\"alert alert-block alert-warning\">\n",
    "    \n",
    "\n",
    "__Комментарий от ревьюера №1 (нужно доделать)__\n",
    "\n",
    "А какой общий вывод о качестве данных? Если у нас проблемы? Пропуски и дубликаты? Если пользователи, которые попали в две группы одновременно?\n",
    "\n",
    "</div>"
   ]
  },
  {
   "cell_type": "markdown",
   "metadata": {},
   "source": [
    "<div class=\"alert alert-block alert-success\">\n",
    "    \n",
    "\n",
    "__Комментарий от ревьюера №2 (OK)__\n",
    "\n",
    "Первый раздел сделан очень хорошо.\n",
    "</div>"
   ]
  },
  {
   "cell_type": "markdown",
   "metadata": {},
   "source": [
    "**Часть 1. Приоритизация гипотез**"
   ]
  },
  {
   "cell_type": "markdown",
   "metadata": {},
   "source": [
    "**Примените фреймворк ICE для приоритизации гипотез. Отсортируйте их по убыванию приоритета**"
   ]
  },
  {
   "cell_type": "markdown",
   "metadata": {},
   "source": [
    "**ICE = impact * confidence / efforts<br>**"
   ]
  },
  {
   "cell_type": "code",
   "execution_count": 208,
   "metadata": {},
   "outputs": [
    {
     "data": {
      "text/html": [
       "<div>\n",
       "<style scoped>\n",
       "    .dataframe tbody tr th:only-of-type {\n",
       "        vertical-align: middle;\n",
       "    }\n",
       "\n",
       "    .dataframe tbody tr th {\n",
       "        vertical-align: top;\n",
       "    }\n",
       "\n",
       "    .dataframe thead th {\n",
       "        text-align: right;\n",
       "    }\n",
       "</style>\n",
       "<table border=\"1\" class=\"dataframe\">\n",
       "  <thead>\n",
       "    <tr style=\"text-align: right;\">\n",
       "      <th></th>\n",
       "      <th>hypothesis</th>\n",
       "      <th>reach</th>\n",
       "      <th>impact</th>\n",
       "      <th>confidence</th>\n",
       "      <th>efforts</th>\n",
       "      <th>ice</th>\n",
       "    </tr>\n",
       "  </thead>\n",
       "  <tbody>\n",
       "    <tr>\n",
       "      <td>8</td>\n",
       "      <td>Запустить акцию, дающую скидку на товар в день рождения</td>\n",
       "      <td>1</td>\n",
       "      <td>9</td>\n",
       "      <td>9</td>\n",
       "      <td>5</td>\n",
       "      <td>16.20</td>\n",
       "    </tr>\n",
       "    <tr>\n",
       "      <td>0</td>\n",
       "      <td>Добавить два новых канала привлечения трафика, что позволит привлекать на 30% больше пользователей</td>\n",
       "      <td>3</td>\n",
       "      <td>10</td>\n",
       "      <td>8</td>\n",
       "      <td>6</td>\n",
       "      <td>13.33</td>\n",
       "    </tr>\n",
       "    <tr>\n",
       "      <td>7</td>\n",
       "      <td>Добавить форму подписки на все основные страницы, чтобы собрать базу клиентов для email-рассылок</td>\n",
       "      <td>10</td>\n",
       "      <td>7</td>\n",
       "      <td>8</td>\n",
       "      <td>5</td>\n",
       "      <td>11.20</td>\n",
       "    </tr>\n",
       "    <tr>\n",
       "      <td>6</td>\n",
       "      <td>Показать на главной странице баннеры с актуальными акциями и распродажами, чтобы увеличить конверсию</td>\n",
       "      <td>5</td>\n",
       "      <td>3</td>\n",
       "      <td>8</td>\n",
       "      <td>3</td>\n",
       "      <td>8.00</td>\n",
       "    </tr>\n",
       "    <tr>\n",
       "      <td>2</td>\n",
       "      <td>Добавить блоки рекомендаций товаров на сайт интернет магазина, чтобы повысить конверсию и средний чек заказа</td>\n",
       "      <td>8</td>\n",
       "      <td>3</td>\n",
       "      <td>7</td>\n",
       "      <td>3</td>\n",
       "      <td>7.00</td>\n",
       "    </tr>\n",
       "    <tr>\n",
       "      <td>1</td>\n",
       "      <td>Запустить собственную службу доставки, что сократит срок доставки заказов</td>\n",
       "      <td>2</td>\n",
       "      <td>5</td>\n",
       "      <td>4</td>\n",
       "      <td>10</td>\n",
       "      <td>2.00</td>\n",
       "    </tr>\n",
       "    <tr>\n",
       "      <td>5</td>\n",
       "      <td>Добавить страницу отзывов клиентов о магазине, что позволит увеличить количество заказов</td>\n",
       "      <td>3</td>\n",
       "      <td>2</td>\n",
       "      <td>2</td>\n",
       "      <td>3</td>\n",
       "      <td>1.33</td>\n",
       "    </tr>\n",
       "    <tr>\n",
       "      <td>3</td>\n",
       "      <td>Изменить структура категорий, что увеличит конверсию, т.к. пользователи быстрее найдут нужный товар</td>\n",
       "      <td>8</td>\n",
       "      <td>3</td>\n",
       "      <td>3</td>\n",
       "      <td>8</td>\n",
       "      <td>1.12</td>\n",
       "    </tr>\n",
       "    <tr>\n",
       "      <td>4</td>\n",
       "      <td>Изменить цвет фона главной страницы, чтобы увеличить вовлеченность пользователей</td>\n",
       "      <td>3</td>\n",
       "      <td>1</td>\n",
       "      <td>1</td>\n",
       "      <td>1</td>\n",
       "      <td>1.00</td>\n",
       "    </tr>\n",
       "  </tbody>\n",
       "</table>\n",
       "</div>"
      ],
      "text/plain": [
       "                                                                                                     hypothesis  \\\n",
       "8  Запустить акцию, дающую скидку на товар в день рождения                                                        \n",
       "0  Добавить два новых канала привлечения трафика, что позволит привлекать на 30% больше пользователей             \n",
       "7  Добавить форму подписки на все основные страницы, чтобы собрать базу клиентов для email-рассылок               \n",
       "6  Показать на главной странице баннеры с актуальными акциями и распродажами, чтобы увеличить конверсию           \n",
       "2  Добавить блоки рекомендаций товаров на сайт интернет магазина, чтобы повысить конверсию и средний чек заказа   \n",
       "1  Запустить собственную службу доставки, что сократит срок доставки заказов                                      \n",
       "5  Добавить страницу отзывов клиентов о магазине, что позволит увеличить количество заказов                       \n",
       "3  Изменить структура категорий, что увеличит конверсию, т.к. пользователи быстрее найдут нужный товар            \n",
       "4  Изменить цвет фона главной страницы, чтобы увеличить вовлеченность пользователей                               \n",
       "\n",
       "   reach  impact  confidence  efforts    ice  \n",
       "8  1      9       9           5        16.20  \n",
       "0  3      10      8           6        13.33  \n",
       "7  10     7       8           5        11.20  \n",
       "6  5      3       8           3        8.00   \n",
       "2  8      3       7           3        7.00   \n",
       "1  2      5       4           10       2.00   \n",
       "5  3      2       2           3        1.33   \n",
       "3  8      3       3           8        1.12   \n",
       "4  3      1       1           1        1.00   "
      ]
     },
     "execution_count": 208,
     "metadata": {},
     "output_type": "execute_result"
    }
   ],
   "source": [
    "hypothesis['ice'] = (hypothesis['impact'] * hypothesis['confidence']) / hypothesis['efforts']\n",
    "round(hypothesis.sort_values('ice', ascending=False),2)"
   ]
  },
  {
   "cell_type": "markdown",
   "metadata": {},
   "source": [
    "**Примените фреймворк RICE для приоритизации гипотез. Отсортируйте их по убыванию приоритета**"
   ]
  },
  {
   "cell_type": "markdown",
   "metadata": {},
   "source": [
    "**RICE = reach * impact * confidence / efforts**"
   ]
  },
  {
   "cell_type": "code",
   "execution_count": 209,
   "metadata": {},
   "outputs": [
    {
     "data": {
      "text/html": [
       "<div>\n",
       "<style scoped>\n",
       "    .dataframe tbody tr th:only-of-type {\n",
       "        vertical-align: middle;\n",
       "    }\n",
       "\n",
       "    .dataframe tbody tr th {\n",
       "        vertical-align: top;\n",
       "    }\n",
       "\n",
       "    .dataframe thead th {\n",
       "        text-align: right;\n",
       "    }\n",
       "</style>\n",
       "<table border=\"1\" class=\"dataframe\">\n",
       "  <thead>\n",
       "    <tr style=\"text-align: right;\">\n",
       "      <th></th>\n",
       "      <th>hypothesis</th>\n",
       "      <th>reach</th>\n",
       "      <th>impact</th>\n",
       "      <th>confidence</th>\n",
       "      <th>efforts</th>\n",
       "      <th>ice</th>\n",
       "      <th>rice</th>\n",
       "    </tr>\n",
       "  </thead>\n",
       "  <tbody>\n",
       "    <tr>\n",
       "      <td>7</td>\n",
       "      <td>Добавить форму подписки на все основные страницы, чтобы собрать базу клиентов для email-рассылок</td>\n",
       "      <td>10</td>\n",
       "      <td>7</td>\n",
       "      <td>8</td>\n",
       "      <td>5</td>\n",
       "      <td>11.20</td>\n",
       "      <td>112.0</td>\n",
       "    </tr>\n",
       "    <tr>\n",
       "      <td>2</td>\n",
       "      <td>Добавить блоки рекомендаций товаров на сайт интернет магазина, чтобы повысить конверсию и средний чек заказа</td>\n",
       "      <td>8</td>\n",
       "      <td>3</td>\n",
       "      <td>7</td>\n",
       "      <td>3</td>\n",
       "      <td>7.00</td>\n",
       "      <td>56.0</td>\n",
       "    </tr>\n",
       "    <tr>\n",
       "      <td>0</td>\n",
       "      <td>Добавить два новых канала привлечения трафика, что позволит привлекать на 30% больше пользователей</td>\n",
       "      <td>3</td>\n",
       "      <td>10</td>\n",
       "      <td>8</td>\n",
       "      <td>6</td>\n",
       "      <td>13.33</td>\n",
       "      <td>40.0</td>\n",
       "    </tr>\n",
       "    <tr>\n",
       "      <td>6</td>\n",
       "      <td>Показать на главной странице баннеры с актуальными акциями и распродажами, чтобы увеличить конверсию</td>\n",
       "      <td>5</td>\n",
       "      <td>3</td>\n",
       "      <td>8</td>\n",
       "      <td>3</td>\n",
       "      <td>8.00</td>\n",
       "      <td>40.0</td>\n",
       "    </tr>\n",
       "    <tr>\n",
       "      <td>8</td>\n",
       "      <td>Запустить акцию, дающую скидку на товар в день рождения</td>\n",
       "      <td>1</td>\n",
       "      <td>9</td>\n",
       "      <td>9</td>\n",
       "      <td>5</td>\n",
       "      <td>16.20</td>\n",
       "      <td>16.2</td>\n",
       "    </tr>\n",
       "    <tr>\n",
       "      <td>3</td>\n",
       "      <td>Изменить структура категорий, что увеличит конверсию, т.к. пользователи быстрее найдут нужный товар</td>\n",
       "      <td>8</td>\n",
       "      <td>3</td>\n",
       "      <td>3</td>\n",
       "      <td>8</td>\n",
       "      <td>1.12</td>\n",
       "      <td>9.0</td>\n",
       "    </tr>\n",
       "    <tr>\n",
       "      <td>1</td>\n",
       "      <td>Запустить собственную службу доставки, что сократит срок доставки заказов</td>\n",
       "      <td>2</td>\n",
       "      <td>5</td>\n",
       "      <td>4</td>\n",
       "      <td>10</td>\n",
       "      <td>2.00</td>\n",
       "      <td>4.0</td>\n",
       "    </tr>\n",
       "    <tr>\n",
       "      <td>5</td>\n",
       "      <td>Добавить страницу отзывов клиентов о магазине, что позволит увеличить количество заказов</td>\n",
       "      <td>3</td>\n",
       "      <td>2</td>\n",
       "      <td>2</td>\n",
       "      <td>3</td>\n",
       "      <td>1.33</td>\n",
       "      <td>4.0</td>\n",
       "    </tr>\n",
       "    <tr>\n",
       "      <td>4</td>\n",
       "      <td>Изменить цвет фона главной страницы, чтобы увеличить вовлеченность пользователей</td>\n",
       "      <td>3</td>\n",
       "      <td>1</td>\n",
       "      <td>1</td>\n",
       "      <td>1</td>\n",
       "      <td>1.00</td>\n",
       "      <td>3.0</td>\n",
       "    </tr>\n",
       "  </tbody>\n",
       "</table>\n",
       "</div>"
      ],
      "text/plain": [
       "                                                                                                     hypothesis  \\\n",
       "7  Добавить форму подписки на все основные страницы, чтобы собрать базу клиентов для email-рассылок               \n",
       "2  Добавить блоки рекомендаций товаров на сайт интернет магазина, чтобы повысить конверсию и средний чек заказа   \n",
       "0  Добавить два новых канала привлечения трафика, что позволит привлекать на 30% больше пользователей             \n",
       "6  Показать на главной странице баннеры с актуальными акциями и распродажами, чтобы увеличить конверсию           \n",
       "8  Запустить акцию, дающую скидку на товар в день рождения                                                        \n",
       "3  Изменить структура категорий, что увеличит конверсию, т.к. пользователи быстрее найдут нужный товар            \n",
       "1  Запустить собственную службу доставки, что сократит срок доставки заказов                                      \n",
       "5  Добавить страницу отзывов клиентов о магазине, что позволит увеличить количество заказов                       \n",
       "4  Изменить цвет фона главной страницы, чтобы увеличить вовлеченность пользователей                               \n",
       "\n",
       "   reach  impact  confidence  efforts    ice   rice  \n",
       "7  10     7       8           5        11.20  112.0  \n",
       "2  8      3       7           3        7.00   56.0   \n",
       "0  3      10      8           6        13.33  40.0   \n",
       "6  5      3       8           3        8.00   40.0   \n",
       "8  1      9       9           5        16.20  16.2   \n",
       "3  8      3       3           8        1.12   9.0    \n",
       "1  2      5       4           10       2.00   4.0    \n",
       "5  3      2       2           3        1.33   4.0    \n",
       "4  3      1       1           1        1.00   3.0    "
      ]
     },
     "execution_count": 209,
     "metadata": {},
     "output_type": "execute_result"
    }
   ],
   "source": [
    "hypothesis['rice'] = (hypothesis['reach'] * hypothesis['impact'] * hypothesis['confidence'])/hypothesis['efforts']\n",
    "round(hypothesis.sort_values('rice', ascending=False),2)"
   ]
  },
  {
   "cell_type": "markdown",
   "metadata": {},
   "source": [
    "<div class=\"alert alert-block alert-warning\">\n",
    "    \n",
    "\n",
    "__Комментарий от ревьюера №1 (можно лучше)__\n",
    "\n",
    "Результаты можно было бы проранжировать и выделить цветом — https://pandas.pydata.org/pandas-docs/stable/user_guide/style.html\n",
    "\n",
    "</div>"
   ]
  },
  {
   "cell_type": "markdown",
   "metadata": {},
   "source": [
    "**Укажите, как изменилась приоритизация гипотез при применении RICE вместо ICE. Объясните, почему так произошло.**"
   ]
  },
  {
   "cell_type": "markdown",
   "metadata": {},
   "source": [
    "При применени фреймворка **ICE** **наиболее приоритетной гипотезой является №8** (или 9, если считать 0 за 1) - \"Запустить акцию, дающую скидку на товар в день рождения\", **на втором месте** - № 0 (Добавить два новых канала привлечения трафика, что позволит привлекать на 30% больше пользователей), **на третьем** - №7 (Добавить форму подписки на все основные страницы, чтобы собрать базу клиентов для email-рассылок).<br>\n",
    "После применения фреймворка **RICE** чуть другая картина - **1 место** за № 7 (Добавить форму подписки на все основные страницы, чтобы собрать базу клиентов для email-рассылок), за ней идут гипотезы № 2 и 0 соответственно.<br>\n",
    "Объясняется это тем, что при применении RICE учитывается **охват** (reach)."
   ]
  },
  {
   "cell_type": "markdown",
   "metadata": {},
   "source": [
    "<div class=\"alert alert-block alert-success\">\n",
    "    \n",
    "\n",
    "__Комментарий от ревьюера №1 (OK)__\n",
    "\n",
    "Раздел сделан верно и хорошо.\n",
    "</div>"
   ]
  },
  {
   "cell_type": "markdown",
   "metadata": {},
   "source": [
    "**Часть 2. Анализ A/B-теста**"
   ]
  },
  {
   "cell_type": "markdown",
   "metadata": {},
   "source": [
    "**1. Постройте график кумулятивной выручки по группам. Сделайте выводы и предположения.**"
   ]
  },
  {
   "cell_type": "code",
   "execution_count": 210,
   "metadata": {},
   "outputs": [
    {
     "data": {
      "text/html": [
       "<div>\n",
       "<style scoped>\n",
       "    .dataframe tbody tr th:only-of-type {\n",
       "        vertical-align: middle;\n",
       "    }\n",
       "\n",
       "    .dataframe tbody tr th {\n",
       "        vertical-align: top;\n",
       "    }\n",
       "\n",
       "    .dataframe thead th {\n",
       "        text-align: right;\n",
       "    }\n",
       "</style>\n",
       "<table border=\"1\" class=\"dataframe\">\n",
       "  <thead>\n",
       "    <tr style=\"text-align: right;\">\n",
       "      <th></th>\n",
       "      <th>date</th>\n",
       "      <th>group</th>\n",
       "      <th>orders</th>\n",
       "      <th>buyers</th>\n",
       "      <th>revenue</th>\n",
       "      <th>visitors</th>\n",
       "    </tr>\n",
       "  </thead>\n",
       "  <tbody>\n",
       "    <tr>\n",
       "      <td>0</td>\n",
       "      <td>2019-08-01</td>\n",
       "      <td>A</td>\n",
       "      <td>23</td>\n",
       "      <td>19</td>\n",
       "      <td>142779</td>\n",
       "      <td>719</td>\n",
       "    </tr>\n",
       "    <tr>\n",
       "      <td>1</td>\n",
       "      <td>2019-08-01</td>\n",
       "      <td>B</td>\n",
       "      <td>17</td>\n",
       "      <td>17</td>\n",
       "      <td>59758</td>\n",
       "      <td>713</td>\n",
       "    </tr>\n",
       "    <tr>\n",
       "      <td>2</td>\n",
       "      <td>2019-08-02</td>\n",
       "      <td>A</td>\n",
       "      <td>42</td>\n",
       "      <td>36</td>\n",
       "      <td>234381</td>\n",
       "      <td>1338</td>\n",
       "    </tr>\n",
       "    <tr>\n",
       "      <td>3</td>\n",
       "      <td>2019-08-02</td>\n",
       "      <td>B</td>\n",
       "      <td>40</td>\n",
       "      <td>39</td>\n",
       "      <td>221801</td>\n",
       "      <td>1294</td>\n",
       "    </tr>\n",
       "    <tr>\n",
       "      <td>4</td>\n",
       "      <td>2019-08-03</td>\n",
       "      <td>A</td>\n",
       "      <td>66</td>\n",
       "      <td>60</td>\n",
       "      <td>346854</td>\n",
       "      <td>1845</td>\n",
       "    </tr>\n",
       "  </tbody>\n",
       "</table>\n",
       "</div>"
      ],
      "text/plain": [
       "        date group  orders  buyers  revenue  visitors\n",
       "0 2019-08-01  A     23      19      142779   719     \n",
       "1 2019-08-01  B     17      17      59758    713     \n",
       "2 2019-08-02  A     42      36      234381   1338    \n",
       "3 2019-08-02  B     40      39      221801   1294    \n",
       "4 2019-08-03  A     66      60      346854   1845    "
      ]
     },
     "metadata": {},
     "output_type": "display_data"
    }
   ],
   "source": [
    "# создаем массив уникальных пар значений дат и групп теста\n",
    "datesGroups = orders[['date','group']].drop_duplicates()\n",
    "\n",
    "# получаем агрегированные кумулятивные по дням данные о заказах \n",
    "ordersAggregated = datesGroups.apply(lambda x: orders[np.logical_and(orders['date'] <= x['date'], orders['group'] == x['group'])].agg({'date' : 'max', 'group' : 'max', 'transactionid' : 'nunique', 'visitorid' : 'nunique', 'revenue' : 'sum'}), axis=1).sort_values(by=['date','group'])\n",
    "\n",
    "# получаем агрегированные кумулятивные по дням данные о посетителях интернет-магазина \n",
    "visitorsAggregated = datesGroups.apply(lambda x: visitors[np.logical_and(visitors['date'] <= x['date'], visitors['group'] == x['group'])].agg({'date' : 'max', 'group' : 'max', 'visitors' : 'sum'}), axis=1).sort_values(by=['date','group'])\n",
    "\n",
    "# объединяем кумулятивные данные в одной таблице и присваиваем ее столбцам понятные названия\n",
    "cumulativeData = ordersAggregated.merge(visitorsAggregated, left_on=['date', 'group'], right_on=['date', 'group'])\n",
    "cumulativeData.columns = ['date', 'group', 'orders', 'buyers', 'revenue', 'visitors']\n",
    "\n",
    "display(cumulativeData.head(5))"
   ]
  },
  {
   "cell_type": "markdown",
   "metadata": {},
   "source": [
    "**Построим графики кумулятивной выручки по дням и группам A/B-тестирования:**"
   ]
  },
  {
   "cell_type": "code",
   "execution_count": 219,
   "metadata": {},
   "outputs": [
    {
     "data": {
      "image/png": "[encoded data removed]",
      "text/plain": [
       "<Figure size 432x288 with 1 Axes>"
      ]
     },
     "metadata": {
      "needs_background": "light"
     },
     "output_type": "display_data"
    }
   ],
   "source": [
    "import matplotlib.pyplot as plt\n",
    "\n",
    "# датафрейм с кумулятивным количеством заказов и кумулятивной выручкой по дням в группе А\n",
    "cumulativeRevenueA = cumulativeData[cumulativeData['group']=='A'][['date','revenue', 'orders']]\n",
    "\n",
    "# датафрейм с кумулятивным количеством заказов и кумулятивной выручкой по дням в группе B\n",
    "cumulativeRevenueB = cumulativeData[cumulativeData['group']=='B'][['date','revenue', 'orders']]\n",
    "\n",
    "# Строим график выручки группы А\n",
    "plt.plot(cumulativeRevenueA['date'], cumulativeRevenueA['revenue'], label='A')\n",
    "\n",
    "# Строим график выручки группы B\n",
    "plt.plot(cumulativeRevenueB['date'], cumulativeRevenueB['revenue'], label='B')\n",
    "\n",
    "plt.title('График кумулятивной выручки по дням и группам A/B-тестирования')\n",
    "plt.legend()\n",
    "plt.grid(True)\n",
    "plt.ylabel('Выручка')\n",
    "plt.xlabel('Дата')\n",
    "plt.xticks(rotation=90)\n",
    "plt.annotate('скачок', xy=('2019-08-18', 2200000), xytext=('2019-08-10', 3500000),\n",
    "            arrowprops=dict(facecolor='g'))\n",
    "plt.annotate('отрыв', xy=('2019-08-05', 800000), xytext=('2019-08-05', 2000000),\n",
    "            arrowprops=dict(facecolor='g')) \n",
    "plt.show()"
   ]
  },
  {
   "cell_type": "markdown",
   "metadata": {},
   "source": [
    "<div class=\"alert alert-block alert-warning\">\n",
    "    \n",
    "\n",
    "__Комментарий от ревьюера №1 (нужно доделать)__\n",
    "\n",
    "Проверь, пожалуйста, на всех графиках в проекте наличие заголовков и подписей осей. Не забудь давать заголовкам и подписям осознанные и понятные значения с указанием размерности (шт., млн. и т.д.). Желательно, чтобы заголовок и название осей были на одном языке.\n",
    "\n",
    "</div>"
   ]
  },
  {
   "cell_type": "markdown",
   "metadata": {},
   "source": [
    "**Вывод:**<br>\n",
    "Группа А - выручка увеличивается равномерно.<br>\n",
    "Группа В - выручка увеличивается, но после 17.08.2019 наблюдается резкий скачок - выброс в данных, рост цены или заказов.<br>"
   ]
  },
  {
   "cell_type": "markdown",
   "metadata": {},
   "source": [
    "<span style=\"color:blue\"> Добавил заголовки, подписи осей, а также аннотации"
   ]
  },
  {
   "cell_type": "markdown",
   "metadata": {},
   "source": [
    "<div class=\"alert alert-block alert-success\">\n",
    "    \n",
    "\n",
    "__Комментарий от ревьюера №2 (OK)__\n",
    "\n",
    "👍\n",
    "</div>"
   ]
  },
  {
   "cell_type": "markdown",
   "metadata": {},
   "source": [
    "<div class=\"alert alert-block alert-warning\">\n",
    "    \n",
    "\n",
    "__Комментарий от ревьюера №1 (можно лучше)__\n",
    "\n",
    "На график можно было добавить аннотации для наглядности через такой код:  \n",
    "<code>plt.annotate('скачок', xy=('2019-08-17', 2800000), xytext=('2019-08-10', 3500000),\n",
    "            arrowprops=dict(facecolor='g'))\n",
    "plt.annotate('отрыв', xy=('2019-08-05', 800000), xytext=('2019-08-05', 2000000),\n",
    "            arrowprops=dict(facecolor='g')) </code>\n",
    "</div>"
   ]
  },
  {
   "cell_type": "markdown",
   "metadata": {},
   "source": [
    "**2. Постройте график кумулятивного среднего чека по группам. Сделайте выводы и предположения.**"
   ]
  },
  {
   "cell_type": "code",
   "execution_count": 225,
   "metadata": {},
   "outputs": [
    {
     "data": {
      "image/png": "[encoded data removed]",
      "text/plain": [
       "<Figure size 432x288 with 1 Axes>"
      ]
     },
     "metadata": {
      "needs_background": "light"
     },
     "output_type": "display_data"
    }
   ],
   "source": [
    "plt.plot(cumulativeRevenueA['date'], cumulativeRevenueA['revenue']/cumulativeRevenueA['orders'], label='A')\n",
    "plt.plot(cumulativeRevenueB['date'], cumulativeRevenueB['revenue']/cumulativeRevenueB['orders'], label='B')\n",
    "\n",
    "plt.title('График кумулятивного среднего чека по группам')\n",
    "plt.legend()\n",
    "plt.grid(True)\n",
    "plt.ylabel('Чек')\n",
    "plt.xlabel('Дата')\n",
    "plt.xticks(rotation=90)\n",
    "plt.annotate('скачок', xy=('2019-08-18', 7500), xytext=('2019-08-09', 8000),\n",
    "            arrowprops=dict(facecolor='g'))\n",
    "plt.show()"
   ]
  },
  {
   "cell_type": "markdown",
   "metadata": {},
   "source": [
    "<div class=\"alert alert-block alert-warning\">\n",
    "    \n",
    "\n",
    "__Комментарий от ревьюера №1 (можно лучше)__\n",
    "\n",
    "Чтобы убрать вывод текста перед графиком, можно использовать метод plt.show()\n",
    "\n",
    "</div>"
   ]
  },
  {
   "cell_type": "markdown",
   "metadata": {},
   "source": [
    "<span style=\"color:blue\"> Исправил"
   ]
  },
  {
   "cell_type": "markdown",
   "metadata": {},
   "source": [
    "**Вывод:**<br>\n",
    "**Группа А:** в самом начале после 05.08.2019 заметен резкий спад, после которого наблюдается стремительный подъем, который достигает пика 13.08.2019. После этого средний чек стабилизировался на отметке +/- 7000.<br>\n",
    "**Группа В:** резких спадов нет, средний чек растет скачками, но после 17.08.2019 также наблюдается резкий подъем с 7000 до 10000, после которого наблюдается падение до отметки приблизительно 9000."
   ]
  },
  {
   "cell_type": "markdown",
   "metadata": {},
   "source": [
    "**3. Постройте график относительного изменения кумулятивного среднего чека группы B к группе A. Сделайте выводы и предположения**"
   ]
  },
  {
   "cell_type": "code",
   "execution_count": 229,
   "metadata": {},
   "outputs": [
    {
     "data": {
      "image/png": "[encoded data removed]",
      "text/plain": [
       "<Figure size 432x288 with 1 Axes>"
      ]
     },
     "metadata": {
      "needs_background": "light"
     },
     "output_type": "display_data"
    }
   ],
   "source": [
    "# собираем данные в одном датафрейме\n",
    "mergedCumulativeRevenue = cumulativeRevenueA.merge(cumulativeRevenueB, left_on='date', right_on='date', how='left', suffixes=['A', 'B'])\n",
    "\n",
    "# cтроим отношение средних чеков\n",
    "plt.plot(mergedCumulativeRevenue['date'], (mergedCumulativeRevenue['revenueB']/mergedCumulativeRevenue['ordersB'])/(mergedCumulativeRevenue['revenueA']/mergedCumulativeRevenue['ordersA'])-1)\n",
    "\n",
    "# добавляем ось X\n",
    "plt.axhline(y=0, color='black', linestyle='--')\n",
    "plt.grid(True)\n",
    "plt.xticks(rotation=90)\n",
    "\n",
    "plt.title('График относительного изменения кумулятивного среднего чека группы B к группе A')\n",
    "plt.grid(True)\n",
    "plt.ylabel('Изменение')\n",
    "plt.xlabel('Дата')\n",
    "plt.xticks(rotation=90)\n",
    "plt.show()"
   ]
  },
  {
   "cell_type": "markdown",
   "metadata": {},
   "source": [
    "**Вывод:**<br>\n",
    "Все три графика выше имеют общую картину.<br>\n",
    "График скачет в нескольких точках, скорее всего именно в эти даты присутствуют выбросы или необычно крупные заказы."
   ]
  },
  {
   "cell_type": "markdown",
   "metadata": {},
   "source": [
    "**4. Постройте график кумулятивной конверсии по группам. Сделайте выводы и предположения.**"
   ]
  },
  {
   "cell_type": "code",
   "execution_count": 231,
   "metadata": {},
   "outputs": [
    {
     "data": {
      "image/png": "[encoded data removed]",
      "text/plain": [
       "<Figure size 432x288 with 1 Axes>"
      ]
     },
     "metadata": {
      "needs_background": "light"
     },
     "output_type": "display_data"
    }
   ],
   "source": [
    "# считаем кумулятивную конверсию\n",
    "cumulativeData['conversion'] = cumulativeData['orders']/cumulativeData['visitors']\n",
    "\n",
    "# отделяем данные по группе A\n",
    "cumulativeDataA = cumulativeData[cumulativeData['group']=='A']\n",
    "\n",
    "# отделяем данные по группе B\n",
    "cumulativeDataB = cumulativeData[cumulativeData['group']=='B']\n",
    "\n",
    "# строим графики\n",
    "plt.plot(cumulativeDataA['date'], cumulativeDataA['conversion'], label='A')\n",
    "plt.plot(cumulativeDataB['date'], cumulativeDataB['conversion'], label='B')\n",
    "plt.legend()\n",
    "plt.title('График кумулятивной конверсии по группам')\n",
    "plt.ylabel('конверсия')\n",
    "plt.xlabel('дата')\n",
    "plt.grid(True)\n",
    "plt.xticks(rotation=90)\n",
    "plt.show()"
   ]
  },
  {
   "cell_type": "markdown",
   "metadata": {},
   "source": [
    "**Вывод:**\n",
    "Обе группы в начале показывают резкий скачок, но после этого конверсии стабилизировались на следующих уровнях:<br>\n",
    "Группа А - на уровне 0.029 - 0.031<br>\n",
    "Группа В - на уровне 0.033 - 0.036, она в отличие от группы А показала рост после снижения."
   ]
  },
  {
   "cell_type": "markdown",
   "metadata": {},
   "source": [
    "**5. Постройте график относительного изменения кумулятивной конверсии группы B к группе A. Сделайте выводы и предположения**"
   ]
  },
  {
   "cell_type": "code",
   "execution_count": 234,
   "metadata": {},
   "outputs": [
    {
     "data": {
      "image/png": "[encoded data removed]",
      "text/plain": [
       "<Figure size 432x288 with 1 Axes>"
      ]
     },
     "metadata": {
      "needs_background": "light"
     },
     "output_type": "display_data"
    }
   ],
   "source": [
    "mergedCumulativeConversions = cumulativeDataA[['date','conversion']].merge(cumulativeDataB[['date','conversion']], left_on='date', right_on='date', how='left', suffixes=['A', 'B'])\n",
    "\n",
    "plt.plot(mergedCumulativeConversions['date'], mergedCumulativeConversions['conversionB']/mergedCumulativeConversions['conversionA']-1)\n",
    "\n",
    "plt.axhline(y=0, color='black', linestyle='--')\n",
    "plt.axhline(y=-0.1, color='grey', linestyle='--')\n",
    "plt.axis([\"2019-08-01\", '2019-09-01', -0.6, 0.6])\n",
    "plt.title(\"Относительный прирост конверсии группы B относительно группы A\")\n",
    "plt.ylabel('изменение')\n",
    "plt.xlabel('дата')\n",
    "plt.grid(True)\n",
    "plt.xticks(rotation=90)\n",
    "plt.show()"
   ]
  },
  {
   "cell_type": "markdown",
   "metadata": {},
   "source": [
    "<div class=\"alert alert-block alert-warning\">\n",
    "    \n",
    "\n",
    "__Комментарий от ревьюера №1 (можно лучше)__\n",
    "\n",
    "Вот тут показывается ошибка из-за того, что в коде заявлена легенда, а ее на самом деле нет. Можно просто убрать строчку по легенде и ошибка пропадет.\n",
    "</div>"
   ]
  },
  {
   "cell_type": "markdown",
   "metadata": {},
   "source": [
    "<span style=\"color:blue\"> Исправил"
   ]
  },
  {
   "cell_type": "markdown",
   "metadata": {},
   "source": [
    "<div class=\"alert alert-block alert-success\">\n",
    "    \n",
    "\n",
    "__Комментарий от ревьюера №2 (OK)__\n",
    "\n",
    "👍\n",
    "</div>"
   ]
  },
  {
   "cell_type": "markdown",
   "metadata": {},
   "source": [
    "**Группа В показывает прирост до 20% относительно группы А по конверсии.**"
   ]
  },
  {
   "cell_type": "markdown",
   "metadata": {},
   "source": [
    "<div class=\"alert alert-block alert-success\">\n",
    "    \n",
    "\n",
    "__Комментарий от ревьюера №1 (OK)__\n",
    "\n",
    "В целом задания по кумулятивным метрикам сделаны хорошо. Получены правильные выводы. Нужно только доделать визуализацию.\n",
    "</div>"
   ]
  },
  {
   "cell_type": "markdown",
   "metadata": {},
   "source": [
    "**6. Постройте точечный график количества заказов по пользователям. Сделайте выводы и предположения**"
   ]
  },
  {
   "cell_type": "code",
   "execution_count": 235,
   "metadata": {},
   "outputs": [
    {
     "data": {
      "text/html": [
       "<div>\n",
       "<style scoped>\n",
       "    .dataframe tbody tr th:only-of-type {\n",
       "        vertical-align: middle;\n",
       "    }\n",
       "\n",
       "    .dataframe tbody tr th {\n",
       "        vertical-align: top;\n",
       "    }\n",
       "\n",
       "    .dataframe thead th {\n",
       "        text-align: right;\n",
       "    }\n",
       "</style>\n",
       "<table border=\"1\" class=\"dataframe\">\n",
       "  <thead>\n",
       "    <tr style=\"text-align: right;\">\n",
       "      <th></th>\n",
       "      <th>userId</th>\n",
       "      <th>group</th>\n",
       "      <th>orders</th>\n",
       "    </tr>\n",
       "  </thead>\n",
       "  <tbody>\n",
       "    <tr>\n",
       "      <td>908</td>\n",
       "      <td>3967698036</td>\n",
       "      <td>A</td>\n",
       "      <td>3</td>\n",
       "    </tr>\n",
       "    <tr>\n",
       "      <td>55</td>\n",
       "      <td>249864742</td>\n",
       "      <td>B</td>\n",
       "      <td>3</td>\n",
       "    </tr>\n",
       "    <tr>\n",
       "      <td>478</td>\n",
       "      <td>2108163459</td>\n",
       "      <td>A</td>\n",
       "      <td>3</td>\n",
       "    </tr>\n",
       "    <tr>\n",
       "      <td>687</td>\n",
       "      <td>2988190573</td>\n",
       "      <td>A</td>\n",
       "      <td>3</td>\n",
       "    </tr>\n",
       "    <tr>\n",
       "      <td>890</td>\n",
       "      <td>3908431265</td>\n",
       "      <td>A</td>\n",
       "      <td>3</td>\n",
       "    </tr>\n",
       "    <tr>\n",
       "      <td>138</td>\n",
       "      <td>611059232</td>\n",
       "      <td>A</td>\n",
       "      <td>3</td>\n",
       "    </tr>\n",
       "    <tr>\n",
       "      <td>632</td>\n",
       "      <td>2742574263</td>\n",
       "      <td>B</td>\n",
       "      <td>3</td>\n",
       "    </tr>\n",
       "    <tr>\n",
       "      <td>157</td>\n",
       "      <td>678354126</td>\n",
       "      <td>A</td>\n",
       "      <td>2</td>\n",
       "    </tr>\n",
       "    <tr>\n",
       "      <td>323</td>\n",
       "      <td>1404560065</td>\n",
       "      <td>B</td>\n",
       "      <td>2</td>\n",
       "    </tr>\n",
       "    <tr>\n",
       "      <td>452</td>\n",
       "      <td>1985475298</td>\n",
       "      <td>B</td>\n",
       "      <td>2</td>\n",
       "    </tr>\n",
       "  </tbody>\n",
       "</table>\n",
       "</div>"
      ],
      "text/plain": [
       "         userId group  orders\n",
       "908  3967698036  A     3     \n",
       "55   249864742   B     3     \n",
       "478  2108163459  A     3     \n",
       "687  2988190573  A     3     \n",
       "890  3908431265  A     3     \n",
       "138  611059232   A     3     \n",
       "632  2742574263  B     3     \n",
       "157  678354126   A     2     \n",
       "323  1404560065  B     2     \n",
       "452  1985475298  B     2     "
      ]
     },
     "metadata": {},
     "output_type": "display_data"
    }
   ],
   "source": [
    "ordersByUsers = (\n",
    "    orders.groupby(['visitorid', 'group'], as_index=False)\n",
    "    .agg({'transactionid': pd.Series.nunique})\n",
    ")\n",
    "\n",
    "ordersByUsers.columns = ['userId', 'group', 'orders']\n",
    "display(ordersByUsers.sort_values(by='orders', ascending=False).head(10))"
   ]
  },
  {
   "cell_type": "code",
   "execution_count": 238,
   "metadata": {},
   "outputs": [
    {
     "data": {
      "image/png": "[encoded data removed]",
      "text/plain": [
       "<Figure size 432x288 with 1 Axes>"
      ]
     },
     "metadata": {
      "needs_background": "light"
     },
     "output_type": "display_data"
    }
   ],
   "source": [
    "x_values = pd.Series(range(0,len(ordersByUsers)))\n",
    "\n",
    "plt.scatter(x_values, ordersByUsers['orders'])\n",
    "plt.title('График количества заказов по пользователям')\n",
    "plt.ylabel('Кол-во заказов')\n",
    "plt.show()"
   ]
  },
  {
   "cell_type": "markdown",
   "metadata": {},
   "source": [
    "**Вывод:**\n",
    "Большинство покупателей совершают один заказ, но также много пользователей с 2-3 заказами."
   ]
  },
  {
   "cell_type": "markdown",
   "metadata": {},
   "source": [
    "**7. Посчитайте 95-й и 99-й перцентили количества заказов на пользователя. Выберите границу для определения аномальных пользователей**"
   ]
  },
  {
   "cell_type": "code",
   "execution_count": 239,
   "metadata": {},
   "outputs": [
    {
     "name": "stdout",
     "output_type": "stream",
     "text": [
      "95-й и 99-й перцентили количества заказов на пользователя: [1. 2.]\n"
     ]
    }
   ],
   "source": [
    "print('95-й и 99-й перцентили количества заказов на пользователя:', np.percentile(ordersByUsers['orders'], [95, 99]))"
   ]
  },
  {
   "cell_type": "code",
   "execution_count": 242,
   "metadata": {},
   "outputs": [
    {
     "name": "stdout",
     "output_type": "stream",
     "text": [
      "Максимальное кол-во заказов: 3\n"
     ]
    }
   ],
   "source": [
    "print('Максимальное кол-во заказов:', ordersByUsers['orders'].max())"
   ]
  },
  {
   "cell_type": "markdown",
   "metadata": {},
   "source": [
    "<span style=\"color:blue\"> После удаления пользователей, входящих в обе группы, расчеты изменились"
   ]
  },
  {
   "cell_type": "markdown",
   "metadata": {},
   "source": [
    "**Вывод:**<br>\n",
    "Не более 5% пользователей оформляли больше 1-го заказа. И только 1% пользователей заказывали более двух раз.<br>\n",
    "Границей для определения аномальных пользователей выберем 3 заказа."
   ]
  },
  {
   "cell_type": "markdown",
   "metadata": {},
   "source": [
    "**8. Постройте точечный график стоимостей заказов. Сделайте выводы и предположения.**"
   ]
  },
  {
   "cell_type": "code",
   "execution_count": 244,
   "metadata": {},
   "outputs": [
    {
     "data": {
      "image/png": "[encoded data removed]",
      "text/plain": [
       "<Figure size 432x288 with 1 Axes>"
      ]
     },
     "metadata": {
      "needs_background": "light"
     },
     "output_type": "display_data"
    }
   ],
   "source": [
    "x_values = pd.Series(range(0,len(orders['revenue'])))\n",
    "plt.scatter(x_values, orders['revenue'])\n",
    "plt.title('График стоимостей заказов')\n",
    "plt.ylabel('Стоимость')\n",
    "plt.show()"
   ]
  },
  {
   "cell_type": "markdown",
   "metadata": {},
   "source": [
    "**Вывод:**\n",
    "На графике видны два аномальных заказа - на суммы свыше 1 200 000 и 200 000, большинство же заказов до 100 000.<br>\n",
    "Возможно эти едининчные выбросы являются оптовыми заказами от юр.лиц, которые и вызвали скачки на предыдущих рассмотренных графиках.<br>\n",
    "Рассмотрим график стоимостей заказов, отсеяв заказы свыше 200 000."
   ]
  },
  {
   "cell_type": "code",
   "execution_count": 246,
   "metadata": {},
   "outputs": [
    {
     "data": {
      "image/png": "[encoded data removed]",
      "text/plain": [
       "<Figure size 432x288 with 1 Axes>"
      ]
     },
     "metadata": {
      "needs_background": "light"
     },
     "output_type": "display_data"
    }
   ],
   "source": [
    "orders_1 = orders.query('revenue < 200000')\n",
    "x_values = pd.Series(range(0,len(orders_1['revenue'])))\n",
    "plt.scatter(x_values, orders_1['revenue'])\n",
    "plt.title('График стоимостей заказов')\n",
    "plt.ylabel('Стоимость')\n",
    "plt.show()"
   ]
  },
  {
   "cell_type": "markdown",
   "metadata": {},
   "source": [
    "**На графике без аномалий видно, что большинство заказов и вовсе на сумму не более 20000**"
   ]
  },
  {
   "cell_type": "markdown",
   "metadata": {},
   "source": [
    "**9. Посчитайте 95-й и 99-й перцентили стоимости заказов. Выберите границу для определения аномальных заказов**"
   ]
  },
  {
   "cell_type": "code",
   "execution_count": 247,
   "metadata": {},
   "outputs": [
    {
     "name": "stdout",
     "output_type": "stream",
     "text": [
      "95-й и 99-й перцентили стоимости заказов: [26785. 53904.]\n"
     ]
    }
   ],
   "source": [
    "print('95-й и 99-й перцентили стоимости заказов:', np.percentile(orders['revenue'], [95, 99]))"
   ]
  },
  {
   "cell_type": "markdown",
   "metadata": {},
   "source": [
    "**Вывод:**<br>\n",
    "Не более 5% пользователей оформляли на сумму более чем 26 785. И только 1% пользователей заказывали более, чем на 53 904.<br>\n",
    "Границей для определения аномальных пользователей выберем 30 000."
   ]
  },
  {
   "cell_type": "markdown",
   "metadata": {},
   "source": [
    "<div class=\"alert alert-block alert-success\">\n",
    "    \n",
    "\n",
    "__Комментарий от ревьюера №1 (OK)__\n",
    "\n",
    "Аномальные значения найдены верно.\n",
    "</div>"
   ]
  },
  {
   "cell_type": "markdown",
   "metadata": {},
   "source": [
    "**10. Посчитайте статистическую значимость различий в конверсии между группами по «сырым» данным. Сделайте выводы и предположения.**"
   ]
  },
  {
   "cell_type": "markdown",
   "metadata": {},
   "source": [
    "Посчитаем статистическую значимость различий в конверсии и среднем чеке между группами по «сырым» данным — без удаления аномальных пользователей.\n",
    "Начнём с подготовки данных:"
   ]
  },
  {
   "cell_type": "code",
   "execution_count": 248,
   "metadata": {},
   "outputs": [
    {
     "data": {
      "text/html": [
       "<div>\n",
       "<style scoped>\n",
       "    .dataframe tbody tr th:only-of-type {\n",
       "        vertical-align: middle;\n",
       "    }\n",
       "\n",
       "    .dataframe tbody tr th {\n",
       "        vertical-align: top;\n",
       "    }\n",
       "\n",
       "    .dataframe thead th {\n",
       "        text-align: right;\n",
       "    }\n",
       "</style>\n",
       "<table border=\"1\" class=\"dataframe\">\n",
       "  <thead>\n",
       "    <tr style=\"text-align: right;\">\n",
       "      <th></th>\n",
       "      <th>date</th>\n",
       "      <th>ordersPerDateA</th>\n",
       "      <th>revenuePerDateA</th>\n",
       "      <th>ordersPerDateB</th>\n",
       "      <th>revenuePerDateB</th>\n",
       "      <th>ordersCummulativeA</th>\n",
       "      <th>revenueCummulativeA</th>\n",
       "      <th>ordersCummulativeB</th>\n",
       "      <th>revenueCummulativeB</th>\n",
       "      <th>visitorsPerDateA</th>\n",
       "      <th>visitorsPerDateB</th>\n",
       "      <th>visitorsCummulativeA</th>\n",
       "      <th>visitorsCummulativeB</th>\n",
       "    </tr>\n",
       "  </thead>\n",
       "  <tbody>\n",
       "    <tr>\n",
       "      <td>0</td>\n",
       "      <td>2019-08-01</td>\n",
       "      <td>23</td>\n",
       "      <td>142779</td>\n",
       "      <td>17</td>\n",
       "      <td>59758</td>\n",
       "      <td>23</td>\n",
       "      <td>142779</td>\n",
       "      <td>17</td>\n",
       "      <td>59758</td>\n",
       "      <td>719</td>\n",
       "      <td>713</td>\n",
       "      <td>719</td>\n",
       "      <td>713</td>\n",
       "    </tr>\n",
       "    <tr>\n",
       "      <td>1</td>\n",
       "      <td>2019-08-02</td>\n",
       "      <td>19</td>\n",
       "      <td>91602</td>\n",
       "      <td>23</td>\n",
       "      <td>162043</td>\n",
       "      <td>42</td>\n",
       "      <td>234381</td>\n",
       "      <td>40</td>\n",
       "      <td>221801</td>\n",
       "      <td>619</td>\n",
       "      <td>581</td>\n",
       "      <td>1338</td>\n",
       "      <td>1294</td>\n",
       "    </tr>\n",
       "    <tr>\n",
       "      <td>2</td>\n",
       "      <td>2019-08-03</td>\n",
       "      <td>24</td>\n",
       "      <td>112473</td>\n",
       "      <td>14</td>\n",
       "      <td>67049</td>\n",
       "      <td>66</td>\n",
       "      <td>346854</td>\n",
       "      <td>54</td>\n",
       "      <td>288850</td>\n",
       "      <td>507</td>\n",
       "      <td>509</td>\n",
       "      <td>1845</td>\n",
       "      <td>1803</td>\n",
       "    </tr>\n",
       "    <tr>\n",
       "      <td>3</td>\n",
       "      <td>2019-08-04</td>\n",
       "      <td>11</td>\n",
       "      <td>41176</td>\n",
       "      <td>14</td>\n",
       "      <td>96890</td>\n",
       "      <td>77</td>\n",
       "      <td>388030</td>\n",
       "      <td>68</td>\n",
       "      <td>385740</td>\n",
       "      <td>717</td>\n",
       "      <td>770</td>\n",
       "      <td>2562</td>\n",
       "      <td>2573</td>\n",
       "    </tr>\n",
       "    <tr>\n",
       "      <td>4</td>\n",
       "      <td>2019-08-05</td>\n",
       "      <td>22</td>\n",
       "      <td>86383</td>\n",
       "      <td>21</td>\n",
       "      <td>89908</td>\n",
       "      <td>99</td>\n",
       "      <td>474413</td>\n",
       "      <td>89</td>\n",
       "      <td>475648</td>\n",
       "      <td>756</td>\n",
       "      <td>707</td>\n",
       "      <td>3318</td>\n",
       "      <td>3280</td>\n",
       "    </tr>\n",
       "    <tr>\n",
       "      <td>5</td>\n",
       "      <td>2019-08-06</td>\n",
       "      <td>15</td>\n",
       "      <td>40919</td>\n",
       "      <td>23</td>\n",
       "      <td>214842</td>\n",
       "      <td>114</td>\n",
       "      <td>515332</td>\n",
       "      <td>112</td>\n",
       "      <td>690490</td>\n",
       "      <td>667</td>\n",
       "      <td>655</td>\n",
       "      <td>3985</td>\n",
       "      <td>3935</td>\n",
       "    </tr>\n",
       "    <tr>\n",
       "      <td>6</td>\n",
       "      <td>2019-08-07</td>\n",
       "      <td>16</td>\n",
       "      <td>123248</td>\n",
       "      <td>23</td>\n",
       "      <td>219164</td>\n",
       "      <td>130</td>\n",
       "      <td>638580</td>\n",
       "      <td>135</td>\n",
       "      <td>909654</td>\n",
       "      <td>644</td>\n",
       "      <td>709</td>\n",
       "      <td>4629</td>\n",
       "      <td>4644</td>\n",
       "    </tr>\n",
       "    <tr>\n",
       "      <td>7</td>\n",
       "      <td>2019-08-08</td>\n",
       "      <td>14</td>\n",
       "      <td>88639</td>\n",
       "      <td>22</td>\n",
       "      <td>150141</td>\n",
       "      <td>144</td>\n",
       "      <td>727219</td>\n",
       "      <td>157</td>\n",
       "      <td>1059795</td>\n",
       "      <td>610</td>\n",
       "      <td>654</td>\n",
       "      <td>5239</td>\n",
       "      <td>5298</td>\n",
       "    </tr>\n",
       "    <tr>\n",
       "      <td>8</td>\n",
       "      <td>2019-08-09</td>\n",
       "      <td>11</td>\n",
       "      <td>134237</td>\n",
       "      <td>19</td>\n",
       "      <td>103166</td>\n",
       "      <td>155</td>\n",
       "      <td>861456</td>\n",
       "      <td>176</td>\n",
       "      <td>1162961</td>\n",
       "      <td>617</td>\n",
       "      <td>610</td>\n",
       "      <td>5856</td>\n",
       "      <td>5908</td>\n",
       "    </tr>\n",
       "    <tr>\n",
       "      <td>9</td>\n",
       "      <td>2019-08-10</td>\n",
       "      <td>15</td>\n",
       "      <td>152275</td>\n",
       "      <td>22</td>\n",
       "      <td>105162</td>\n",
       "      <td>170</td>\n",
       "      <td>1013731</td>\n",
       "      <td>198</td>\n",
       "      <td>1268123</td>\n",
       "      <td>406</td>\n",
       "      <td>369</td>\n",
       "      <td>6262</td>\n",
       "      <td>6277</td>\n",
       "    </tr>\n",
       "  </tbody>\n",
       "</table>\n",
       "</div>"
      ],
      "text/plain": [
       "        date  ordersPerDateA  revenuePerDateA  ordersPerDateB  \\\n",
       "0 2019-08-01  23              142779           17               \n",
       "1 2019-08-02  19              91602            23               \n",
       "2 2019-08-03  24              112473           14               \n",
       "3 2019-08-04  11              41176            14               \n",
       "4 2019-08-05  22              86383            21               \n",
       "5 2019-08-06  15              40919            23               \n",
       "6 2019-08-07  16              123248           23               \n",
       "7 2019-08-08  14              88639            22               \n",
       "8 2019-08-09  11              134237           19               \n",
       "9 2019-08-10  15              152275           22               \n",
       "\n",
       "   revenuePerDateB  ordersCummulativeA  revenueCummulativeA  \\\n",
       "0  59758            23                  142779                \n",
       "1  162043           42                  234381                \n",
       "2  67049            66                  346854                \n",
       "3  96890            77                  388030                \n",
       "4  89908            99                  474413                \n",
       "5  214842           114                 515332                \n",
       "6  219164           130                 638580                \n",
       "7  150141           144                 727219                \n",
       "8  103166           155                 861456                \n",
       "9  105162           170                 1013731               \n",
       "\n",
       "   ordersCummulativeB  revenueCummulativeB  visitorsPerDateA  \\\n",
       "0  17                  59758                719                \n",
       "1  40                  221801               619                \n",
       "2  54                  288850               507                \n",
       "3  68                  385740               717                \n",
       "4  89                  475648               756                \n",
       "5  112                 690490               667                \n",
       "6  135                 909654               644                \n",
       "7  157                 1059795              610                \n",
       "8  176                 1162961              617                \n",
       "9  198                 1268123              406                \n",
       "\n",
       "   visitorsPerDateB  visitorsCummulativeA  visitorsCummulativeB  \n",
       "0  713               719                   713                   \n",
       "1  581               1338                  1294                  \n",
       "2  509               1845                  1803                  \n",
       "3  770               2562                  2573                  \n",
       "4  707               3318                  3280                  \n",
       "5  655               3985                  3935                  \n",
       "6  709               4629                  4644                  \n",
       "7  654               5239                  5298                  \n",
       "8  610               5856                  5908                  \n",
       "9  369               6262                  6277                  "
      ]
     },
     "metadata": {},
     "output_type": "display_data"
    }
   ],
   "source": [
    "visitorsADaily = visitors[visitors['group'] == 'A'][['date', 'visitors']]\n",
    "visitorsADaily.columns = ['date', 'visitorsPerDateA']\n",
    "\n",
    "visitorsACummulative = visitorsADaily.apply(\n",
    "    lambda x: visitorsADaily[visitorsADaily['date'] <= x['date']].agg(\n",
    "        {'date': 'max', 'visitorsPerDateA': 'sum'}\n",
    "    ),\n",
    "    axis=1,\n",
    ")\n",
    "visitorsACummulative.columns = ['date', 'visitorsCummulativeA']\n",
    "\n",
    "visitorsBDaily = visitors[visitors['group'] == 'B'][['date', 'visitors']]\n",
    "visitorsBDaily.columns = ['date', 'visitorsPerDateB']\n",
    "\n",
    "visitorsBCummulative = visitorsBDaily.apply(\n",
    "    lambda x: visitorsBDaily[visitorsBDaily['date'] <= x['date']].agg(\n",
    "        {'date': 'max', 'visitorsPerDateB': 'sum'}\n",
    "    ),\n",
    "    axis=1,\n",
    ")\n",
    "visitorsBCummulative.columns = ['date', 'visitorsCummulativeB']\n",
    "\n",
    "ordersADaily = (\n",
    "    orders[orders['group'] == 'A'][['date', 'transactionid', 'visitorid', 'revenue']]\n",
    "    .groupby('date', as_index=False)\n",
    "    .agg({'transactionid': pd.Series.nunique, 'revenue': 'sum'})\n",
    ")\n",
    "ordersADaily.columns = ['date', 'ordersPerDateA', 'revenuePerDateA']\n",
    "\n",
    "ordersACummulative = ordersADaily.apply(\n",
    "    lambda x: ordersADaily[ordersADaily['date'] <= x['date']].agg(\n",
    "        {'date': 'max', 'ordersPerDateA': 'sum', 'revenuePerDateA': 'sum'}\n",
    "    ),\n",
    "    axis=1,\n",
    ").sort_values(by=['date'])\n",
    "ordersACummulative.columns = [\n",
    "    'date',\n",
    "    'ordersCummulativeA',\n",
    "    'revenueCummulativeA',\n",
    "]\n",
    "\n",
    "ordersBDaily = (\n",
    "    orders[orders['group'] == 'B'][['date', 'transactionid', 'visitorid', 'revenue']]\n",
    "    .groupby('date', as_index=False)\n",
    "    .agg({'transactionid': pd.Series.nunique, 'revenue': 'sum'})\n",
    ")\n",
    "ordersBDaily.columns = ['date', 'ordersPerDateB', 'revenuePerDateB']\n",
    "\n",
    "ordersBCummulative = ordersBDaily.apply(\n",
    "    lambda x: ordersBDaily[ordersBDaily['date'] <= x['date']].agg(\n",
    "        {'date': 'max', 'ordersPerDateB': 'sum', 'revenuePerDateB': 'sum'}\n",
    "    ),\n",
    "    axis=1,\n",
    ").sort_values(by=['date'])\n",
    "ordersBCummulative.columns = [\n",
    "    'date',\n",
    "    'ordersCummulativeB',\n",
    "    'revenueCummulativeB',\n",
    "]\n",
    "\n",
    "data = (\n",
    "    ordersADaily.merge(\n",
    "        ordersBDaily, left_on='date', right_on='date', how='left'\n",
    "    )\n",
    "    .merge(ordersACummulative, left_on='date', right_on='date', how='left')\n",
    "    .merge(ordersBCummulative, left_on='date', right_on='date', how='left')\n",
    "    .merge(visitorsADaily, left_on='date', right_on='date', how='left')\n",
    "    .merge(visitorsBDaily, left_on='date', right_on='date', how='left')\n",
    "    .merge(visitorsACummulative, left_on='date', right_on='date', how='left')\n",
    "    .merge(visitorsBCummulative, left_on='date', right_on='date', how='left')\n",
    ")\n",
    "\n",
    "display(data.head(10))"
   ]
  },
  {
   "cell_type": "markdown",
   "metadata": {},
   "source": [
    "**Названия столбцов данных:**<br>\n",
    "date — дата;<br>\n",
    "ordersPerDateA — количество заказов в выбранную дату в группе A;<br>\n",
    "revenuePerDateA — суммарная выручка в выбранную дату в группе A;<br>\n",
    "ordersPerDateB — количество заказов в выбранную дату в группе B;<br>\n",
    "revenuePerDateB — суммарная выручка в выбранную дату в группе B;<br>\n",
    "ordersCummulativeA — суммарное число заказов до выбранной даты включительно в группе A;<br>\n",
    "revenueCummulativeA — суммарная выручка до выбранной даты включительно в группе A;<br>\n",
    "ordersCummulativeB — суммарное количество заказов до выбранной даты включительно в группе B;<br>\n",
    "revenueCummulativeB — суммарная выручка до выбранной даты включительно в группе B;<br>\n",
    "visitorsPerDateA — количество пользователей в выбранную дату в группе A;<br>\n",
    "visitorsPerDateB — количество пользователей в выбранную дату в группе B;<br>\n",
    "visitorsCummulativeA — количество пользователей до выбранной даты включительно в группе A;<br>\n",
    "visitorsCummulativeB — количество пользователей до выбранной даты включительно в группе B.<br>"
   ]
  },
  {
   "cell_type": "markdown",
   "metadata": {},
   "source": [
    "Посчитаем статистическую значимость различия в конверсии между группами.<br>\n",
    "Создадим переменные ordersByUsersA и ordersByUsersB со столбцами ['userId', 'orders']. В них для пользователей, которые заказывали хотя бы 1 раз, укажем число совершённых заказов."
   ]
  },
  {
   "cell_type": "code",
   "execution_count": 249,
   "metadata": {},
   "outputs": [],
   "source": [
    "ordersByUsersA = (\n",
    "    orders[orders['group'] == 'A']\n",
    "    .groupby('visitorid', as_index=False)\n",
    "    .agg({'transactionid': pd.Series.nunique})\n",
    ")\n",
    "ordersByUsersA.columns = ['userId', 'orders']\n",
    "\n",
    "ordersByUsersB = (\n",
    "    orders[orders['group'] == 'B']\n",
    "    .groupby('visitorid', as_index=False)\n",
    "    .agg({'transactionid': pd.Series.nunique})\n",
    ")\n",
    "ordersByUsersB.columns = ['userId', 'orders']"
   ]
  },
  {
   "cell_type": "markdown",
   "metadata": {},
   "source": [
    "Объявим переменные sampleA и sampleB, в которых пользователям из разных групп будет соответствовать количество заказов.<br> Тем, кто ничего не заказал, будут соответствовать нули."
   ]
  },
  {
   "cell_type": "code",
   "execution_count": 250,
   "metadata": {},
   "outputs": [],
   "source": [
    "sampleA = pd.concat([ordersByUsersA['orders'],pd.Series(0, index=np.arange(data['visitorsPerDateA'].sum() - len(ordersByUsersA['orders'])), name='orders')],axis=0)\n",
    "\n",
    "sampleB = pd.concat([ordersByUsersB['orders'],pd.Series(0, index=np.arange(data['visitorsPerDateB'].sum() - len(ordersByUsersB['orders'])), name='orders')],axis=0)"
   ]
  },
  {
   "cell_type": "markdown",
   "metadata": {},
   "source": [
    "<div class=\"alert alert-block alert-warning\">\n",
    "    \n",
    "\n",
    "__Комментарий от ревьюера №1 (нужно доделать)__\n",
    "\n",
    "Нужно сформулировать гипотезы перед каждым тестом, иначе что мы проверяем? Примерно так:  \n",
    "1. Нулевая гипотеза: ...  \n",
    "2. Обратная гипотеза: ...  \n",
    "    \n",
    "Так сторонний наблюдатель поймет что ты проверяешь.\n",
    "    \n",
    "А вот в [этой статье](https://ru.qwe.wiki/wiki/Null_hypothesis) можно почитать в целом о формулировании гипотез и как всё это дело началось)\n",
    "\n",
    "</div>"
   ]
  },
  {
   "cell_type": "markdown",
   "metadata": {},
   "source": [
    "<span style=\"color:blue\">Сформулируем гипотезы:<br>\n",
    "<span style=\"color:blue\">1. Нулевая гипотеза: Конверсия между группам А и В не имеет статистически значимых различий<br>\n",
    "2. Обратная гипотеза: Конверсия между группам А и В имеет статистически значимые различия"
   ]
  },
  {
   "cell_type": "markdown",
   "metadata": {},
   "source": [
    "<div class=\"alert alert-block alert-warning\">\n",
    "    \n",
    "\n",
    "__Комментарий от ревьюера №2 (можно лучше)__\n",
    "\n",
    "Обрати внимание на формулировку твоих гипотез. Ты же проверяешь не просто конверсию в тестах, а средние значения конверсии в группах или медианы конверсии в группах, но в случае теста Манна-Уитни все немного сложнее.\n",
    "    \n",
    "Ты сравниваешь ранги каких-то значений между собой и это не конверсия и не средняя/медианная конверсия в группе. И в итоге нулевая гипотеза у тебя такая: Вероятность того, что наблюдение из популяции X превышает наблюдение из популяции Y равна 50%. А обратная гипотеза, что такая вероятность не равна 50%.\n",
    "\n",
    "</div>"
   ]
  },
  {
   "cell_type": "code",
   "execution_count": 251,
   "metadata": {},
   "outputs": [
    {
     "name": "stdout",
     "output_type": "stream",
     "text": [
      "0.011\n",
      "0.160\n"
     ]
    }
   ],
   "source": [
    "print(\"{0:.3f}\".format(stats.mannwhitneyu(sampleA, sampleB, alternative='two-sided')[1]))\n",
    "print(\"{0:.3f}\".format(sampleB.mean() / sampleA.mean() - 1))"
   ]
  },
  {
   "cell_type": "markdown",
   "metadata": {},
   "source": [
    "**Вывод:**<br>\n",
    "Первое число — p-value = 0.011 меньше 0.05. Значит, нулевую гипотезу о том, что статистически значимых различий в конверсии между группами нет, отвергаем.<br>\n",
    "Относительный выигрыш группы B равен 16% — второе число в выводе.<br>\n",
    "Есть различия в конверсии по сырым данным между группами А и В."
   ]
  },
  {
   "cell_type": "markdown",
   "metadata": {},
   "source": [
    "**11. Посчитайте статистическую значимость различий в среднем чеке заказа между группами по «сырым» данным. Сделайте выводы и предположения**"
   ]
  },
  {
   "cell_type": "markdown",
   "metadata": {},
   "source": [
    "<span style=\"color:blue\">Сформулируем гипотезы:<br>\n",
    "<span style=\"color:blue\">1. Нулевая гипотеза: Средний чек между группам А и В не имеет статистически значимых различий<br>\n",
    "2. Обратная гипотеза: Средний чек между группами А и В имеет статистически значимые различия"
   ]
  },
  {
   "cell_type": "markdown",
   "metadata": {},
   "source": [
    "Чтобы рассчитать статистическую значимость различий в среднем чеке между сегментами, передадим критерию mannwhitneyu() данные о выручке с заказов.<br>\n",
    "Найдём относительные различия в среднем чеке между группами:"
   ]
  },
  {
   "cell_type": "code",
   "execution_count": 252,
   "metadata": {},
   "outputs": [
    {
     "name": "stdout",
     "output_type": "stream",
     "text": [
      "0.829\n",
      "0.287\n"
     ]
    }
   ],
   "source": [
    "print('{0:.3f}'.format(stats.mannwhitneyu(orders[orders['group']=='A']['revenue'], orders[orders['group']=='B']['revenue'], alternative='two-sided')[1]))\n",
    "print('{0:.3f}'.format(orders[orders['group']=='B']['revenue'].mean()/orders[orders['group']=='A']['revenue'].mean()-1))"
   ]
  },
  {
   "cell_type": "markdown",
   "metadata": {},
   "source": [
    "**Вывод:**<br>\n",
    "P-value = 0.829, что больше 0.05. Не получилось отвергнуть нулевую гипотезу.<br>\n",
    "Средний чек группы B выше среднего чека группы A - на 28,7%."
   ]
  },
  {
   "cell_type": "markdown",
   "metadata": {},
   "source": [
    "**12. Посчитайте статистическую значимость различий в конверсии между группами по «очищенным» данным. Сделайте выводы и предположения**"
   ]
  },
  {
   "cell_type": "markdown",
   "metadata": {},
   "source": [
    "Примем за аномальных пользователей тех, кто совершил от 3 заказов или совершил заказ дороже 30 000 рублей.<br>\n",
    "Так мы уберём пользователей с наибольшим числом заказов и пользователей с дорогими заказами.<br>\n",
    "\n",
    "Сделаем срезы пользователей с числом заказов больше 3 — usersWithManyOrders и пользователей, совершивших заказы дороже 30 000 — usersWithExpensiveOrders. Объединим их в таблице abnormalUsers.<br>\n",
    "\n",
    "Узнаем, сколько всего аномальных пользователей методом shape()."
   ]
  },
  {
   "cell_type": "code",
   "execution_count": 253,
   "metadata": {},
   "outputs": [
    {
     "name": "stdout",
     "output_type": "stream",
     "text": [
      "939    148427295\n",
      "798    204675465\n",
      "599    358944393\n",
      "570    382846391\n",
      "652    689129267\n",
      "dtype: int64\n"
     ]
    }
   ],
   "source": [
    "usersWithManyOrders = pd.concat(\n",
    "    [\n",
    "        ordersByUsersA[ordersByUsersA['orders'] > 3]['userId'],\n",
    "        ordersByUsersB[ordersByUsersB['orders'] > 3]['userId'],\n",
    "    ],\n",
    "    axis=0,\n",
    ")\n",
    "usersWithExpensiveOrders = orders[orders['revenue'] > 30000]['visitorid']\n",
    "abnormalUsers = (\n",
    "    pd.concat([usersWithManyOrders, usersWithExpensiveOrders], axis=0)\n",
    "    .drop_duplicates()\n",
    "    .sort_values()\n",
    ")\n",
    "print(abnormalUsers.head(5))"
   ]
  },
  {
   "cell_type": "code",
   "execution_count": 254,
   "metadata": {},
   "outputs": [
    {
     "name": "stdout",
     "output_type": "stream",
     "text": [
      "(42,)\n"
     ]
    }
   ],
   "source": [
    "print(abnormalUsers.shape)"
   ]
  },
  {
   "cell_type": "markdown",
   "metadata": {},
   "source": [
    "Всего 42 аномальных пользователя.<br>\n",
    "Узнаем, как их действия повлияли на результаты теста. Посчитаем статистическую значимость различий в конверсии между группами теста по очищенным данным.<br>\n",
    "Сначала подготовим выборки количества заказов по пользователям по группам теста:"
   ]
  },
  {
   "cell_type": "code",
   "execution_count": 255,
   "metadata": {},
   "outputs": [],
   "source": [
    "sampleAFiltered = pd.concat(\n",
    "    [\n",
    "        ordersByUsersA[\n",
    "            np.logical_not(ordersByUsersA['userId'].isin(abnormalUsers))\n",
    "        ]['orders'],\n",
    "        pd.Series(\n",
    "            0,\n",
    "            index=np.arange(\n",
    "                data['visitorsPerDateA'].sum() - len(ordersByUsersA['orders'])\n",
    "            ),\n",
    "            name='orders',\n",
    "        ),\n",
    "    ],\n",
    "    axis=0,\n",
    ")\n",
    "\n",
    "sampleBFiltered = pd.concat(\n",
    "    [\n",
    "        ordersByUsersB[\n",
    "            np.logical_not(ordersByUsersB['userId'].isin(abnormalUsers))\n",
    "        ]['orders'],\n",
    "        pd.Series(\n",
    "            0,\n",
    "            index=np.arange(\n",
    "                data['visitorsPerDateB'].sum() - len(ordersByUsersB['orders'])\n",
    "            ),\n",
    "            name='orders',\n",
    "        ),\n",
    "    ],\n",
    "    axis=0,\n",
    ")"
   ]
  },
  {
   "cell_type": "markdown",
   "metadata": {},
   "source": [
    "<span style=\"color:blue\">Сформулируем гипотезы:<br>\n",
    "<span style=\"color:blue\">1. Нулевая гипотеза: Конверсия между группами А и В по \"очищенным данным\" не имеет статистически значимых различий<br>\n",
    "2. Обратная гипотеза: Конверсия между группам А и В имеет статистически значимые различия"
   ]
  },
  {
   "cell_type": "markdown",
   "metadata": {},
   "source": [
    "Применим статистический критерий Манна-Уитни к полученным выборкам:"
   ]
  },
  {
   "cell_type": "code",
   "execution_count": 256,
   "metadata": {},
   "outputs": [
    {
     "name": "stdout",
     "output_type": "stream",
     "text": [
      "0.013\n",
      "0.161\n"
     ]
    }
   ],
   "source": [
    "print('{0:.3f}'.format(stats.mannwhitneyu(sampleAFiltered, sampleBFiltered, alternative='two-sided')[1]))\n",
    "print('{0:.3f}'.format(sampleBFiltered.mean()/sampleAFiltered.mean()-1))"
   ]
  },
  {
   "cell_type": "markdown",
   "metadata": {},
   "source": [
    "**Вывод:**<br>\n",
    "Результаты по конверсии практически не изменились."
   ]
  },
  {
   "cell_type": "markdown",
   "metadata": {},
   "source": [
    "**13. Посчитайте статистическую значимость различий в среднем чеке заказа между группами по «очищенным» данным. Сделайте выводы и предположения**"
   ]
  },
  {
   "cell_type": "markdown",
   "metadata": {},
   "source": [
    "<span style=\"color:blue\">Сформулируем гипотезы:<br>\n",
    "<span style=\"color:blue\">1. Нулевая гипотеза: Средний чек между группам А и В по «очищенным» данным не имеет статистически значимых различий<br>\n",
    "2. Обратная гипотеза: Средний чек между группами А и В по «очищенным» данным имеет статистически значимые различия"
   ]
  },
  {
   "cell_type": "code",
   "execution_count": 257,
   "metadata": {},
   "outputs": [
    {
     "name": "stdout",
     "output_type": "stream",
     "text": [
      "0.842\n",
      "-0.031\n"
     ]
    }
   ],
   "source": [
    "print(\n",
    "    '{0:.3f}'.format(\n",
    "        stats.mannwhitneyu(\n",
    "            orders[\n",
    "                np.logical_and(\n",
    "                    orders['group'] == 'A',\n",
    "                    np.logical_not(orders['visitorid'].isin(abnormalUsers)),\n",
    "                )\n",
    "            ]['revenue'],\n",
    "            orders[\n",
    "                np.logical_and(\n",
    "                    orders['group'] == 'B',\n",
    "                    np.logical_not(orders['visitorid'].isin(abnormalUsers)),\n",
    "                )\n",
    "            ]['revenue'], alternative='two-sided',\n",
    "        )[1]\n",
    "    )\n",
    ")\n",
    "\n",
    "print(\n",
    "    \"{0:.3f}\".format(\n",
    "        orders[\n",
    "            np.logical_and(\n",
    "                orders['group'] == 'B',\n",
    "                np.logical_not(orders['visitorid'].isin(abnormalUsers)),\n",
    "            )\n",
    "        ]['revenue'].mean()\n",
    "        / orders[\n",
    "            np.logical_and(\n",
    "                orders['group'] == 'A',\n",
    "                np.logical_not(orders['visitorid'].isin(abnormalUsers)),\n",
    "            )\n",
    "        ]['revenue'].mean()\n",
    "        - 1\n",
    "    )\n",
    ")"
   ]
  },
  {
   "cell_type": "markdown",
   "metadata": {},
   "source": [
    "**Вывод:**<br>\n",
    "P-value увеличился до 0.842. Не получилось отвергнуть нулевую гипотезу.<br>\n",
    "Разница между сегментами изменилась - если раньше средний чек группы B был выше среднего чека группы A на 25,9%, **то теперь средний чек группы А выше среднего чека группы В на 3,1%.**"
   ]
  },
  {
   "cell_type": "markdown",
   "metadata": {},
   "source": [
    "<div class=\"alert alert-block alert-warning\">\n",
    "    \n",
    "\n",
    "__Комментарий от ревьюера №1 (можно лучше)__\n",
    "\n",
    "Сделана хорошая работа в А/Б-тесте, но текущая версия библиотеки в проекте не поддерживает автоматическую проверку двухсторонней гипотезы. Для корректной работы метода необходимо задать его параметр alternative = 'two-sided'.\n",
    "\n",
    "Подробнее о проверках можно почитать вот в этой [статье](http://www.stat.yale.edu/Courses/1997-98/101/sigtest.htm#:~:text=An%20alternative%20hypothesis%20may%20be,the%20direction%20does%20not%20matter.) \n",
    "</div>"
   ]
  },
  {
   "cell_type": "markdown",
   "metadata": {},
   "source": [
    "<span style=\"color:blue\"> Исправил."
   ]
  },
  {
   "cell_type": "markdown",
   "metadata": {},
   "source": [
    "**14. Примите решение по результатам теста и объясните его. Варианты решений: 1. Остановить тест, зафиксировать победу одной из групп. 2. Остановить тест, зафиксировать отсутствие различий между группами. 3. Продолжить тест.**<br>\n",
    "**ОБЩИЙ ВЫВОД**"
   ]
  },
  {
   "cell_type": "markdown",
   "metadata": {},
   "source": [
    "На этапе предобработки данных сделаны следующие выводы:<br>\n",
    "1. Дубликаты, пропуски, нулевые значения в предоставленных данных не обнаружены<br>\n",
    "2. Заменен тип данных столбцов date на datetime<br>\n",
    "3. Обнаружены и удалены 58 пользователей, встречающихся в обеих группах<br>\n",
    "\n",
    "Данные были подготовлены к дальнейшему анализу.<br>\n",
    "\n",
    "При применени фреймворка ICE наиболее приоритетной гипотезой является №8 (или 9, если считать 0 за 1) - \"Запустить акцию, дающую скидку на товар в день рождения\", на втором месте - № 0 (Добавить два новых канала привлечения трафика, что позволит привлекать на 30% больше пользователей), на третьем - №7 (Добавить форму подписки на все основные страницы, чтобы собрать базу клиентов для email-рассылок).<br>\n",
    "После применения фреймворка RICE чуть другая картина - 1 место за № 7 (Добавить форму подписки на все основные страницы, чтобы собрать базу клиентов для email-рассылок), за ней идут гипотезы № 2 и 0 соответственно.<br>\n",
    "Объясняется это тем, что при применении RICE учитывается охват (reach).<br>\n",
    "<br>\n",
    "Построив графики кумулятивной выручки, можно сделать вывод, что у Группы А - выручка увеличивается равномерно, а у Группы В - выручка также увеличивается, но после 17.08.2019 наблюдается резкий скачок - выброс в данных, рост цены или заказов.<br>\n",
    "\n",
    "Построив графики кумулятивного среднего чека и график относительного изменения кумулятивного среднего чека группы B к группе A, можно сделать вывод, что все три графика имеют общую картину: график скачет в нескольких точках, скорее всего именно в эти даты присутствуют выбросы или необычно крупные заказы.<br>\n",
    "\n",
    "Построив график относительного изменения кумулятивной конверсии группы B к группе A, видно, что Группа В показывает прирост до 20% относительно группы А по конверсии.<br>\n",
    "Большинство покупателей совершают один заказ, но также много пользователей с 2-3 заказами.<br>\n",
    "\n",
    "Посчитав 95-й и 99-й перцентили количества заказов на пользователя, получается что не более 5% пользователей оформляли больее **одного** заказа. И только 1% пользователей заказывали более двух раз. Границей для определения аномальных пользователей решено было выбрать 3 заказа.<br>\n",
    "\n",
    "В данных присутствуют два аномальных заказа - на суммы свыше 1 200 000 и 200 000, большинство же заказов до 100 000. Возможно эти едининчные выбросы являются оптовыми заказами от юр.лиц, которые и вызвали скачки на предыдущих рассмотренных графиках. Отсеяв заказы свыше 200 000(без аномалий) можно сделать вывод, что большинство заказов и вовсе на сумму не более 20000.<br>\n",
    "Посчитав 95-й и 99-й перцентили стоимости заказов, выбрали границу для определения аномальных заказов - 30 000, т.к. не более 5% пользователей оформляли на сумму более чем 26 785. И только 1% пользователей заказывали более, чем на 53 904.<br>\n",
    "\n",
    "Посчитав статистическую значимость различий в конверсии между группами по «сырым» данным, сделали вывод, что есть различия в конверсии по сырым данным между группами А и В. (Относительный выигрыш группы B равен 16%). При аналогичном анализе по \"очищенным\" данным, результаты по конверсии практически не поменялись, а также обнаружены 42 аномальных пользователя.<br>\n",
    "\n",
    "Статистическая значимость различий по среднему чеку:<br>\n",
    "Сырые данные: Средний чек группы B выше среднего чека группы A - на 28,7%.<br>\n",
    "Очищенные данные: Средний чек группы А выше среднего чека группы В на 3,1%.<br>\n",
    "Связано такие изменение в среднем чеке с аномальными заказами в группе В - те самые на суммы 1200000 и 200000, т.к. результат изменился именно после того, как отфилтровали аномальные данные, что наглядно показывает влияние аномалий на результаты теста.<br>\n",
    "\n",
    "**По результатам теста можно сделать следующие выводы:<br>**\n",
    "\n",
    "**Тест можно остановить и зафиксировать победу группы В, т.к. у группы B больше конверсия и больше кумулятивная выручка.**<br>\n",
    "**Но в то же время, у обеих групп после очистки данных от аномалий - практический одинаковый средний чек, это говорит о влиянии аномалий на результаты теста.**"
   ]
  },
  {
   "cell_type": "markdown",
   "metadata": {},
   "source": [
    "<div class=\"alert alert-block alert-warning\">\n",
    "    \n",
    "\n",
    "__Комментарий от ревьюера №1 (можно лучше)__\n",
    "\n",
    "А почему ты делаешь вывод, что у группы B ниже средний чек? По результатам проверок найдены статистически значимые различия?\n",
    "</div>"
   ]
  },
  {
   "cell_type": "markdown",
   "metadata": {},
   "source": [
    "<span style=\"color:blue\"> Пропустил 0 после запятой в результате и не перепроверил средний чек :) Исправил общий вывод."
   ]
  },
  {
   "cell_type": "markdown",
   "metadata": {},
   "source": [
    "<div class=\"alert alert-block alert-success\">\n",
    "    \n",
    "\n",
    "__Комментарий от ревьюера №2 (OK)__\n",
    "\n",
    "👍\n",
    "</div>"
   ]
  },
  {
   "cell_type": "markdown",
   "metadata": {},
   "source": [
    "<div class=\"alert alert-block alert-success\">\n",
    "\n",
    "__Комментарий от ревьюера по общему выводу №1 (можно лучше)__\n",
    "\n",
    "Что сделано хорошо:  \n",
    "— представлены основные выводы с этапов анализа;  \n",
    "— выделены основные гипотезы для проверки;  \n",
    "— есть вывод про А/Б-тест и победившую группу.  \n",
    "\n",
    "Что можно было сделать лучше:  \n",
    "— написать в выводе информацию с этапа предобработки, в каком у нас состоянии данные, всё ли с ними изначально было в порядке;    \n",
    "</div>"
   ]
  },
  {
   "cell_type": "code",
   "execution_count": null,
   "metadata": {},
   "outputs": [],
   "source": []
  }
 ],
 "metadata": {
  "ExecuteTimeLog": [
   {
    "duration": 987,
    "start_time": "2022-01-15T18:32:09.048Z"
   },
   {
    "duration": 87,
    "start_time": "2022-01-15T18:35:16.079Z"
   },
   {
    "duration": 73,
    "start_time": "2022-01-15T18:35:31.658Z"
   },
   {
    "duration": 49,
    "start_time": "2022-01-15T18:35:44.048Z"
   },
   {
    "duration": 15,
    "start_time": "2022-01-15T18:36:25.033Z"
   },
   {
    "duration": 53,
    "start_time": "2022-01-15T19:01:06.285Z"
   },
   {
    "duration": 10,
    "start_time": "2022-01-15T19:01:07.448Z"
   },
   {
    "duration": 14,
    "start_time": "2022-01-15T19:08:21.565Z"
   },
   {
    "duration": 310,
    "start_time": "2022-01-15T19:36:20.467Z"
   },
   {
    "duration": 13,
    "start_time": "2022-01-15T19:36:45.092Z"
   },
   {
    "duration": 229,
    "start_time": "2022-01-15T19:40:04.098Z"
   },
   {
    "duration": 4,
    "start_time": "2022-01-15T19:40:46.194Z"
   },
   {
    "duration": 3,
    "start_time": "2022-01-15T19:43:06.081Z"
   },
   {
    "duration": 73,
    "start_time": "2022-01-15T19:43:22.193Z"
   },
   {
    "duration": 6,
    "start_time": "2022-01-15T19:43:55.389Z"
   },
   {
    "duration": 5,
    "start_time": "2022-01-15T19:44:44.561Z"
   },
   {
    "duration": 7,
    "start_time": "2022-01-15T19:45:08.823Z"
   },
   {
    "duration": 269,
    "start_time": "2022-01-15T19:50:23.075Z"
   },
   {
    "duration": 2,
    "start_time": "2022-01-15T19:50:26.778Z"
   },
   {
    "duration": 6,
    "start_time": "2022-01-15T19:50:27.242Z"
   },
   {
    "duration": 30,
    "start_time": "2022-01-15T19:51:17.999Z"
   },
   {
    "duration": 16,
    "start_time": "2022-01-15T19:55:58.350Z"
   },
   {
    "duration": 6668,
    "start_time": "2022-01-15T20:17:54.756Z"
   },
   {
    "duration": 4,
    "start_time": "2022-01-15T20:18:09.363Z"
   },
   {
    "duration": 223,
    "start_time": "2022-01-15T20:18:57.123Z"
   },
   {
    "duration": 17,
    "start_time": "2022-01-15T20:19:03.655Z"
   },
   {
    "duration": 597,
    "start_time": "2022-01-15T20:21:39.661Z"
   },
   {
    "duration": 12,
    "start_time": "2022-01-15T20:21:57.258Z"
   },
   {
    "duration": 5,
    "start_time": "2022-01-15T20:22:56.343Z"
   },
   {
    "duration": 13,
    "start_time": "2022-01-15T20:23:10.111Z"
   },
   {
    "duration": 18,
    "start_time": "2022-01-15T20:26:22.965Z"
   },
   {
    "duration": 1447,
    "start_time": "2022-01-16T18:11:25.817Z"
   },
   {
    "duration": 54,
    "start_time": "2022-01-16T18:11:27.267Z"
   },
   {
    "duration": 23,
    "start_time": "2022-01-16T18:11:27.324Z"
   },
   {
    "duration": 27,
    "start_time": "2022-01-16T18:11:28.522Z"
   },
   {
    "duration": 21,
    "start_time": "2022-01-16T18:11:29.223Z"
   },
   {
    "duration": 5,
    "start_time": "2022-01-16T18:11:32.929Z"
   },
   {
    "duration": 9,
    "start_time": "2022-01-16T18:11:33.698Z"
   },
   {
    "duration": 9,
    "start_time": "2022-01-16T18:11:34.919Z"
   },
   {
    "duration": 8,
    "start_time": "2022-01-16T18:11:35.499Z"
   },
   {
    "duration": 4,
    "start_time": "2022-01-16T18:11:38.495Z"
   },
   {
    "duration": 10,
    "start_time": "2022-01-16T18:11:38.782Z"
   },
   {
    "duration": 53,
    "start_time": "2022-01-16T18:11:39.597Z"
   },
   {
    "duration": 25,
    "start_time": "2022-01-16T18:11:45.516Z"
   },
   {
    "duration": 22,
    "start_time": "2022-01-16T18:11:50.850Z"
   },
   {
    "duration": 109,
    "start_time": "2022-01-16T18:26:01.423Z"
   },
   {
    "duration": 542,
    "start_time": "2022-01-16T18:41:08.407Z"
   },
   {
    "duration": 551,
    "start_time": "2022-01-16T18:41:17.159Z"
   },
   {
    "duration": 471,
    "start_time": "2022-01-16T18:42:57.033Z"
   },
   {
    "duration": 325,
    "start_time": "2022-01-16T18:43:31.585Z"
   },
   {
    "duration": 341,
    "start_time": "2022-01-16T18:44:16.412Z"
   },
   {
    "duration": 337,
    "start_time": "2022-01-16T18:44:35.829Z"
   },
   {
    "duration": 341,
    "start_time": "2022-01-16T18:44:40.719Z"
   },
   {
    "duration": 1012,
    "start_time": "2022-01-16T18:51:44.119Z"
   },
   {
    "duration": 284,
    "start_time": "2022-01-16T18:52:28.873Z"
   },
   {
    "duration": 907,
    "start_time": "2022-01-16T18:52:38.755Z"
   },
   {
    "duration": 405,
    "start_time": "2022-01-16T18:52:58.145Z"
   },
   {
    "duration": 396,
    "start_time": "2022-01-16T19:08:13.721Z"
   },
   {
    "duration": 425,
    "start_time": "2022-01-16T19:08:34.098Z"
   },
   {
    "duration": 166,
    "start_time": "2022-01-16T19:12:03.903Z"
   },
   {
    "duration": 342,
    "start_time": "2022-01-16T20:03:50.543Z"
   },
   {
    "duration": 354,
    "start_time": "2022-01-16T20:04:13.707Z"
   },
   {
    "duration": 369,
    "start_time": "2022-01-16T20:06:06.163Z"
   },
   {
    "duration": 417,
    "start_time": "2022-01-16T20:17:03.664Z"
   },
   {
    "duration": 431,
    "start_time": "2022-01-16T20:18:18.926Z"
   },
   {
    "duration": 452,
    "start_time": "2022-01-16T20:19:37.992Z"
   },
   {
    "duration": 651,
    "start_time": "2022-01-16T20:19:58.700Z"
   },
   {
    "duration": 461,
    "start_time": "2022-01-16T20:20:05.626Z"
   },
   {
    "duration": 522,
    "start_time": "2022-01-16T20:21:05.471Z"
   },
   {
    "duration": 451,
    "start_time": "2022-01-16T20:21:11.939Z"
   },
   {
    "duration": 440,
    "start_time": "2022-01-16T20:22:09.757Z"
   },
   {
    "duration": 434,
    "start_time": "2022-01-16T20:22:36.760Z"
   },
   {
    "duration": 384,
    "start_time": "2022-01-16T20:38:05.232Z"
   },
   {
    "duration": 325,
    "start_time": "2022-01-16T20:38:27.384Z"
   },
   {
    "duration": -97,
    "start_time": "2022-01-16T20:39:19.143Z"
   },
   {
    "duration": 16,
    "start_time": "2022-01-16T20:39:29.033Z"
   },
   {
    "duration": 115,
    "start_time": "2022-01-16T20:45:32.409Z"
   },
   {
    "duration": 183,
    "start_time": "2022-01-16T20:45:43.902Z"
   },
   {
    "duration": 313,
    "start_time": "2022-01-16T20:46:44.488Z"
   },
   {
    "duration": 200,
    "start_time": "2022-01-16T20:46:57.247Z"
   },
   {
    "duration": 376,
    "start_time": "2022-01-16T20:47:32.968Z"
   },
   {
    "duration": 6,
    "start_time": "2022-01-16T20:56:51.432Z"
   },
   {
    "duration": 11,
    "start_time": "2022-01-16T20:57:16.460Z"
   },
   {
    "duration": 8,
    "start_time": "2022-01-16T20:57:28.489Z"
   },
   {
    "duration": 111,
    "start_time": "2022-01-16T21:02:16.053Z"
   },
   {
    "duration": 368,
    "start_time": "2022-01-16T21:04:01.059Z"
   },
   {
    "duration": 8701,
    "start_time": "2022-01-16T21:11:10.148Z"
   },
   {
    "duration": 338,
    "start_time": "2022-01-16T21:11:46.264Z"
   },
   {
    "duration": 402,
    "start_time": "2022-01-16T21:12:33.129Z"
   },
   {
    "duration": 397,
    "start_time": "2022-01-16T21:13:15.610Z"
   },
   {
    "duration": 412,
    "start_time": "2022-01-16T21:13:20.083Z"
   },
   {
    "duration": 6,
    "start_time": "2022-01-16T21:15:18.896Z"
   },
   {
    "duration": 481,
    "start_time": "2022-01-16T21:42:02.376Z"
   },
   {
    "duration": 444,
    "start_time": "2022-01-16T21:42:17.081Z"
   },
   {
    "duration": 201,
    "start_time": "2022-01-16T22:00:56.269Z"
   },
   {
    "duration": 8,
    "start_time": "2022-01-16T22:03:55.605Z"
   },
   {
    "duration": 11,
    "start_time": "2022-01-16T22:07:14.157Z"
   },
   {
    "duration": 15,
    "start_time": "2022-01-16T22:34:01.360Z"
   },
   {
    "duration": -44,
    "start_time": "2022-01-16T22:50:23.936Z"
   },
   {
    "duration": 8079,
    "start_time": "2022-01-16T22:51:39.961Z"
   },
   {
    "duration": 8984,
    "start_time": "2022-01-16T22:52:01.255Z"
   },
   {
    "duration": 8,
    "start_time": "2022-01-16T22:53:44.832Z"
   },
   {
    "duration": 15,
    "start_time": "2022-01-16T22:53:58.640Z"
   },
   {
    "duration": 21,
    "start_time": "2022-01-16T22:54:08.192Z"
   },
   {
    "duration": 5,
    "start_time": "2022-01-16T22:54:10.279Z"
   },
   {
    "duration": 12,
    "start_time": "2022-01-16T22:56:23.350Z"
   },
   {
    "duration": 9,
    "start_time": "2022-01-16T22:57:19.211Z"
   },
   {
    "duration": 9600,
    "start_time": "2022-01-16T23:01:57.753Z"
   },
   {
    "duration": 10380,
    "start_time": "2022-01-16T23:02:19.449Z"
   },
   {
    "duration": 21,
    "start_time": "2022-01-16T23:02:35.368Z"
   },
   {
    "duration": 352,
    "start_time": "2022-01-17T19:55:53.578Z"
   },
   {
    "duration": 339,
    "start_time": "2022-01-17T22:51:13.605Z"
   },
   {
    "duration": 1443,
    "start_time": "2022-01-17T22:51:22.257Z"
   },
   {
    "duration": 57,
    "start_time": "2022-01-17T22:51:23.703Z"
   },
   {
    "duration": 22,
    "start_time": "2022-01-17T22:51:23.763Z"
   },
   {
    "duration": 28,
    "start_time": "2022-01-17T22:51:23.788Z"
   },
   {
    "duration": 25,
    "start_time": "2022-01-17T22:51:25.428Z"
   },
   {
    "duration": 6,
    "start_time": "2022-01-17T22:51:30.113Z"
   },
   {
    "duration": 8,
    "start_time": "2022-01-17T22:51:31.147Z"
   },
   {
    "duration": 9,
    "start_time": "2022-01-17T22:51:31.667Z"
   },
   {
    "duration": 9,
    "start_time": "2022-01-17T22:51:32.411Z"
   },
   {
    "duration": 4,
    "start_time": "2022-01-17T22:51:33.759Z"
   },
   {
    "duration": 8,
    "start_time": "2022-01-17T22:51:34.500Z"
   },
   {
    "duration": 363,
    "start_time": "2022-01-17T22:51:34.949Z"
   },
   {
    "duration": 292,
    "start_time": "2022-01-17T22:51:45.085Z"
   },
   {
    "duration": 300,
    "start_time": "2022-01-17T22:52:35.846Z"
   },
   {
    "duration": 359,
    "start_time": "2022-01-17T22:52:43.245Z"
   },
   {
    "duration": 334,
    "start_time": "2022-01-17T22:56:34.892Z"
   },
   {
    "duration": 6,
    "start_time": "2022-01-17T22:57:00.659Z"
   },
   {
    "duration": 9,
    "start_time": "2022-01-17T22:57:13.829Z"
   },
   {
    "duration": 9,
    "start_time": "2022-01-17T22:59:24.200Z"
   },
   {
    "duration": 25,
    "start_time": "2022-01-17T22:59:33.432Z"
   },
   {
    "duration": 27,
    "start_time": "2022-01-17T23:00:53.973Z"
   },
   {
    "duration": 29,
    "start_time": "2022-01-17T23:01:05.460Z"
   },
   {
    "duration": 37,
    "start_time": "2022-01-17T23:01:17.057Z"
   },
   {
    "duration": 4,
    "start_time": "2022-01-17T23:01:52.573Z"
   },
   {
    "duration": 54,
    "start_time": "2022-01-17T23:01:52.855Z"
   },
   {
    "duration": 19,
    "start_time": "2022-01-17T23:01:53.319Z"
   },
   {
    "duration": 24,
    "start_time": "2022-01-17T23:01:53.968Z"
   },
   {
    "duration": 20,
    "start_time": "2022-01-17T23:01:54.594Z"
   },
   {
    "duration": 6,
    "start_time": "2022-01-17T23:02:01.725Z"
   },
   {
    "duration": 8,
    "start_time": "2022-01-17T23:02:02.536Z"
   },
   {
    "duration": 9,
    "start_time": "2022-01-17T23:02:03.032Z"
   },
   {
    "duration": 9,
    "start_time": "2022-01-17T23:02:03.638Z"
   },
   {
    "duration": 3,
    "start_time": "2022-01-17T23:02:04.688Z"
   },
   {
    "duration": 9,
    "start_time": "2022-01-17T23:02:05.060Z"
   },
   {
    "duration": 9,
    "start_time": "2022-01-17T23:02:05.536Z"
   },
   {
    "duration": 25,
    "start_time": "2022-01-17T23:02:39.953Z"
   },
   {
    "duration": 23,
    "start_time": "2022-01-17T23:03:57.511Z"
   },
   {
    "duration": 283,
    "start_time": "2022-01-17T23:05:33.660Z"
   },
   {
    "duration": 22,
    "start_time": "2022-01-17T23:05:58.255Z"
   },
   {
    "duration": 324,
    "start_time": "2022-01-17T23:06:54.759Z"
   },
   {
    "duration": 320,
    "start_time": "2022-01-17T23:07:02.055Z"
   },
   {
    "duration": 14,
    "start_time": "2022-01-17T23:07:21.593Z"
   },
   {
    "duration": 15,
    "start_time": "2022-01-17T23:09:41.780Z"
   },
   {
    "duration": 313,
    "start_time": "2022-01-17T23:11:39.153Z"
   },
   {
    "duration": 4,
    "start_time": "2022-01-17T23:11:55.449Z"
   },
   {
    "duration": 53,
    "start_time": "2022-01-17T23:11:55.858Z"
   },
   {
    "duration": 19,
    "start_time": "2022-01-17T23:11:56.082Z"
   },
   {
    "duration": 27,
    "start_time": "2022-01-17T23:11:56.568Z"
   },
   {
    "duration": 20,
    "start_time": "2022-01-17T23:11:58.409Z"
   },
   {
    "duration": 5,
    "start_time": "2022-01-17T23:12:01.193Z"
   },
   {
    "duration": 9,
    "start_time": "2022-01-17T23:12:02.665Z"
   },
   {
    "duration": 9,
    "start_time": "2022-01-17T23:12:03.345Z"
   },
   {
    "duration": 9,
    "start_time": "2022-01-17T23:12:05.771Z"
   },
   {
    "duration": 4,
    "start_time": "2022-01-17T23:12:06.553Z"
   },
   {
    "duration": 9,
    "start_time": "2022-01-17T23:12:07.889Z"
   },
   {
    "duration": 3722,
    "start_time": "2022-01-17T23:12:08.393Z"
   },
   {
    "duration": 334,
    "start_time": "2022-01-17T23:12:23.994Z"
   },
   {
    "duration": 3736,
    "start_time": "2022-01-17T23:12:42.641Z"
   },
   {
    "duration": 4084,
    "start_time": "2022-01-17T23:13:05.986Z"
   },
   {
    "duration": 307,
    "start_time": "2022-01-17T23:13:48.662Z"
   },
   {
    "duration": 343,
    "start_time": "2022-01-17T23:14:23.663Z"
   },
   {
    "duration": 8,
    "start_time": "2022-01-17T23:14:35.441Z"
   },
   {
    "duration": 3728,
    "start_time": "2022-01-17T23:16:05.439Z"
   },
   {
    "duration": 3628,
    "start_time": "2022-01-17T23:18:00.766Z"
   },
   {
    "duration": 8,
    "start_time": "2022-01-17T23:18:17.994Z"
   },
   {
    "duration": 355,
    "start_time": "2022-01-17T23:18:30.322Z"
   },
   {
    "duration": 8,
    "start_time": "2022-01-17T23:18:51.874Z"
   },
   {
    "duration": 113,
    "start_time": "2022-01-17T23:23:43.668Z"
   },
   {
    "duration": 303,
    "start_time": "2022-01-17T23:23:50.888Z"
   },
   {
    "duration": 25,
    "start_time": "2022-01-17T23:24:02.272Z"
   },
   {
    "duration": 24,
    "start_time": "2022-01-17T23:24:06.066Z"
   },
   {
    "duration": 282,
    "start_time": "2022-01-17T23:28:35.132Z"
   },
   {
    "duration": 4,
    "start_time": "2022-01-17T23:30:56.329Z"
   },
   {
    "duration": 54,
    "start_time": "2022-01-17T23:30:56.545Z"
   },
   {
    "duration": 18,
    "start_time": "2022-01-17T23:30:56.708Z"
   },
   {
    "duration": 26,
    "start_time": "2022-01-17T23:30:56.897Z"
   },
   {
    "duration": 20,
    "start_time": "2022-01-17T23:30:57.700Z"
   },
   {
    "duration": 6,
    "start_time": "2022-01-17T23:31:01.205Z"
   },
   {
    "duration": 8,
    "start_time": "2022-01-17T23:31:02.922Z"
   },
   {
    "duration": 8,
    "start_time": "2022-01-17T23:31:03.122Z"
   },
   {
    "duration": 9,
    "start_time": "2022-01-17T23:31:03.700Z"
   },
   {
    "duration": 4,
    "start_time": "2022-01-17T23:31:04.539Z"
   },
   {
    "duration": 11,
    "start_time": "2022-01-17T23:31:05.252Z"
   },
   {
    "duration": 319,
    "start_time": "2022-01-17T23:31:09.714Z"
   },
   {
    "duration": 4657,
    "start_time": "2022-01-17T23:31:41.180Z"
   },
   {
    "duration": 3884,
    "start_time": "2022-01-17T23:32:50.121Z"
   },
   {
    "duration": 14,
    "start_time": "2022-01-17T23:33:35.927Z"
   },
   {
    "duration": 4,
    "start_time": "2022-01-17T23:35:39.048Z"
   },
   {
    "duration": 56,
    "start_time": "2022-01-17T23:35:39.493Z"
   },
   {
    "duration": 20,
    "start_time": "2022-01-17T23:35:40.416Z"
   },
   {
    "duration": 34,
    "start_time": "2022-01-17T23:35:59.087Z"
   },
   {
    "duration": 33,
    "start_time": "2022-01-17T23:39:16.337Z"
   },
   {
    "duration": 32,
    "start_time": "2022-01-17T23:39:21.995Z"
   },
   {
    "duration": 19,
    "start_time": "2022-01-17T23:40:03.138Z"
   },
   {
    "duration": 7,
    "start_time": "2022-01-17T23:40:05.874Z"
   },
   {
    "duration": 8,
    "start_time": "2022-01-17T23:40:06.202Z"
   },
   {
    "duration": 8,
    "start_time": "2022-01-17T23:40:06.410Z"
   },
   {
    "duration": 8,
    "start_time": "2022-01-17T23:40:06.650Z"
   },
   {
    "duration": 4,
    "start_time": "2022-01-17T23:40:07.666Z"
   },
   {
    "duration": 8,
    "start_time": "2022-01-17T23:40:08.370Z"
   },
   {
    "duration": 11,
    "start_time": "2022-01-17T23:40:16.645Z"
   },
   {
    "duration": 25,
    "start_time": "2022-01-17T23:41:06.800Z"
   },
   {
    "duration": 22,
    "start_time": "2022-01-17T23:41:11.384Z"
   },
   {
    "duration": 330,
    "start_time": "2022-01-17T23:42:13.833Z"
   },
   {
    "duration": 17,
    "start_time": "2022-01-17T23:42:23.761Z"
   },
   {
    "duration": 5,
    "start_time": "2022-01-17T23:50:25.421Z"
   },
   {
    "duration": 53,
    "start_time": "2022-01-17T23:50:25.808Z"
   },
   {
    "duration": 21,
    "start_time": "2022-01-17T23:50:29.334Z"
   },
   {
    "duration": 32,
    "start_time": "2022-01-17T23:50:30.270Z"
   },
   {
    "duration": 23,
    "start_time": "2022-01-17T23:50:31.302Z"
   },
   {
    "duration": 5,
    "start_time": "2022-01-17T23:50:35.540Z"
   },
   {
    "duration": 8,
    "start_time": "2022-01-17T23:50:39.572Z"
   },
   {
    "duration": 9,
    "start_time": "2022-01-17T23:50:40.031Z"
   },
   {
    "duration": 9,
    "start_time": "2022-01-17T23:50:42.524Z"
   },
   {
    "duration": 3,
    "start_time": "2022-01-17T23:50:42.807Z"
   },
   {
    "duration": 9,
    "start_time": "2022-01-17T23:50:44.095Z"
   },
   {
    "duration": 13,
    "start_time": "2022-01-17T23:50:45.156Z"
   },
   {
    "duration": 26,
    "start_time": "2022-01-17T23:56:53.249Z"
   },
   {
    "duration": 315,
    "start_time": "2022-01-17T23:57:31.784Z"
   },
   {
    "duration": 26,
    "start_time": "2022-01-17T23:57:43.376Z"
   },
   {
    "duration": 314,
    "start_time": "2022-01-17T23:57:49.339Z"
   },
   {
    "duration": 325,
    "start_time": "2022-01-17T23:58:13.873Z"
   },
   {
    "duration": 4,
    "start_time": "2022-01-17T23:58:19.776Z"
   },
   {
    "duration": 54,
    "start_time": "2022-01-17T23:58:20.017Z"
   },
   {
    "duration": 19,
    "start_time": "2022-01-17T23:58:20.211Z"
   },
   {
    "duration": 30,
    "start_time": "2022-01-17T23:58:20.411Z"
   },
   {
    "duration": 20,
    "start_time": "2022-01-17T23:58:20.913Z"
   },
   {
    "duration": 5,
    "start_time": "2022-01-17T23:58:22.169Z"
   },
   {
    "duration": 9,
    "start_time": "2022-01-17T23:58:23.056Z"
   },
   {
    "duration": 9,
    "start_time": "2022-01-17T23:58:23.784Z"
   },
   {
    "duration": 8,
    "start_time": "2022-01-17T23:58:24.219Z"
   },
   {
    "duration": 4,
    "start_time": "2022-01-17T23:58:24.861Z"
   },
   {
    "duration": 10,
    "start_time": "2022-01-17T23:58:25.249Z"
   },
   {
    "duration": 12,
    "start_time": "2022-01-17T23:58:26.137Z"
   },
   {
    "duration": 28,
    "start_time": "2022-01-17T23:58:30.981Z"
   },
   {
    "duration": 287,
    "start_time": "2022-01-17T23:59:55.327Z"
   },
   {
    "duration": 7,
    "start_time": "2022-01-18T00:00:40.090Z"
   },
   {
    "duration": 21,
    "start_time": "2022-01-18T00:00:49.472Z"
   },
   {
    "duration": 14,
    "start_time": "2022-01-18T00:01:28.861Z"
   },
   {
    "duration": 26,
    "start_time": "2022-01-18T00:03:03.009Z"
   },
   {
    "duration": 16,
    "start_time": "2022-01-18T00:03:29.215Z"
   },
   {
    "duration": 18,
    "start_time": "2022-01-18T00:04:35.002Z"
   },
   {
    "duration": 18,
    "start_time": "2022-01-18T00:04:40.609Z"
   },
   {
    "duration": 1907,
    "start_time": "2022-01-18T00:04:55.980Z"
   },
   {
    "duration": 2084,
    "start_time": "2022-01-18T00:05:20.902Z"
   },
   {
    "duration": 284,
    "start_time": "2022-01-18T00:31:02.343Z"
   },
   {
    "duration": 120,
    "start_time": "2022-01-18T00:31:24.837Z"
   },
   {
    "duration": 343,
    "start_time": "2022-01-18T00:31:30.728Z"
   },
   {
    "duration": 299,
    "start_time": "2022-01-18T00:31:54.962Z"
   },
   {
    "duration": 18,
    "start_time": "2022-01-18T00:32:08.906Z"
   },
   {
    "duration": 5,
    "start_time": "2022-01-18T00:32:22.530Z"
   },
   {
    "duration": 58,
    "start_time": "2022-01-18T00:32:23.155Z"
   },
   {
    "duration": 19,
    "start_time": "2022-01-18T00:32:23.811Z"
   },
   {
    "duration": 31,
    "start_time": "2022-01-18T00:32:24.500Z"
   },
   {
    "duration": 21,
    "start_time": "2022-01-18T00:32:27.212Z"
   },
   {
    "duration": 5,
    "start_time": "2022-01-18T00:32:29.762Z"
   },
   {
    "duration": 9,
    "start_time": "2022-01-18T00:32:30.696Z"
   },
   {
    "duration": 8,
    "start_time": "2022-01-18T00:32:31.217Z"
   },
   {
    "duration": 9,
    "start_time": "2022-01-18T00:32:31.433Z"
   },
   {
    "duration": 3,
    "start_time": "2022-01-18T00:32:32.409Z"
   },
   {
    "duration": 8,
    "start_time": "2022-01-18T00:32:33.018Z"
   },
   {
    "duration": 13,
    "start_time": "2022-01-18T00:32:39.261Z"
   },
   {
    "duration": 25,
    "start_time": "2022-01-18T00:32:41.939Z"
   },
   {
    "duration": 16,
    "start_time": "2022-01-18T00:34:49.464Z"
   },
   {
    "duration": 14,
    "start_time": "2022-01-18T00:36:54.439Z"
   },
   {
    "duration": 15,
    "start_time": "2022-01-18T00:38:08.027Z"
   },
   {
    "duration": 6,
    "start_time": "2022-01-18T00:40:56.243Z"
   },
   {
    "duration": 9,
    "start_time": "2022-01-18T00:40:56.903Z"
   },
   {
    "duration": 324,
    "start_time": "2022-01-18T00:43:01.212Z"
   },
   {
    "duration": 9,
    "start_time": "2022-01-18T00:43:01.643Z"
   },
   {
    "duration": 4,
    "start_time": "2022-01-18T00:43:30.726Z"
   },
   {
    "duration": 55,
    "start_time": "2022-01-18T00:43:31.078Z"
   },
   {
    "duration": 18,
    "start_time": "2022-01-18T00:43:31.369Z"
   },
   {
    "duration": 30,
    "start_time": "2022-01-18T00:43:31.760Z"
   },
   {
    "duration": 18,
    "start_time": "2022-01-18T00:43:32.249Z"
   },
   {
    "duration": 5,
    "start_time": "2022-01-18T00:43:32.814Z"
   },
   {
    "duration": 9,
    "start_time": "2022-01-18T00:43:33.582Z"
   },
   {
    "duration": 8,
    "start_time": "2022-01-18T00:43:33.982Z"
   },
   {
    "duration": 8,
    "start_time": "2022-01-18T00:43:34.470Z"
   },
   {
    "duration": 3,
    "start_time": "2022-01-18T00:43:34.935Z"
   },
   {
    "duration": 9,
    "start_time": "2022-01-18T00:43:35.399Z"
   },
   {
    "duration": 12,
    "start_time": "2022-01-18T00:43:35.975Z"
   },
   {
    "duration": 24,
    "start_time": "2022-01-18T00:43:40.159Z"
   },
   {
    "duration": 16,
    "start_time": "2022-01-18T00:43:42.065Z"
   },
   {
    "duration": 7,
    "start_time": "2022-01-18T00:43:45.305Z"
   },
   {
    "duration": 9,
    "start_time": "2022-01-18T00:43:45.366Z"
   },
   {
    "duration": 53,
    "start_time": "2022-01-18T00:44:05.850Z"
   },
   {
    "duration": 4,
    "start_time": "2022-01-18T00:46:00.841Z"
   },
   {
    "duration": 55,
    "start_time": "2022-01-18T00:46:03.584Z"
   },
   {
    "duration": 55,
    "start_time": "2022-01-18T00:46:28.743Z"
   },
   {
    "duration": 18,
    "start_time": "2022-01-18T00:46:30.238Z"
   },
   {
    "duration": 25,
    "start_time": "2022-01-18T00:46:36.473Z"
   },
   {
    "duration": 19,
    "start_time": "2022-01-18T00:46:38.439Z"
   },
   {
    "duration": 6,
    "start_time": "2022-01-18T00:48:50.550Z"
   },
   {
    "duration": 9,
    "start_time": "2022-01-18T00:49:08.158Z"
   },
   {
    "duration": 10,
    "start_time": "2022-01-18T00:49:08.605Z"
   },
   {
    "duration": 8,
    "start_time": "2022-01-18T00:49:09.006Z"
   },
   {
    "duration": 4,
    "start_time": "2022-01-18T00:49:11.533Z"
   },
   {
    "duration": 9,
    "start_time": "2022-01-18T00:49:15.551Z"
   },
   {
    "duration": 13,
    "start_time": "2022-01-18T00:51:02.845Z"
   },
   {
    "duration": 25,
    "start_time": "2022-01-18T00:51:05.395Z"
   },
   {
    "duration": 16,
    "start_time": "2022-01-18T00:51:10.338Z"
   },
   {
    "duration": 7,
    "start_time": "2022-01-18T00:52:41.676Z"
   },
   {
    "duration": 9,
    "start_time": "2022-01-18T00:52:42.175Z"
   },
   {
    "duration": 52,
    "start_time": "2022-01-18T00:53:05.246Z"
   },
   {
    "duration": 53,
    "start_time": "2022-01-18T00:59:41.218Z"
   },
   {
    "duration": 21,
    "start_time": "2022-01-18T00:59:50.619Z"
   },
   {
    "duration": 22,
    "start_time": "2022-01-18T00:59:52.937Z"
   },
   {
    "duration": 547,
    "start_time": "2022-01-18T01:00:01.742Z"
   },
   {
    "duration": 327,
    "start_time": "2022-01-18T01:00:13.540Z"
   },
   {
    "duration": 334,
    "start_time": "2022-01-18T01:02:34.107Z"
   },
   {
    "duration": 461,
    "start_time": "2022-01-18T01:03:50.765Z"
   },
   {
    "duration": 340,
    "start_time": "2022-01-18T01:04:20.215Z"
   },
   {
    "duration": 423,
    "start_time": "2022-01-18T01:04:27.304Z"
   },
   {
    "duration": 500,
    "start_time": "2022-01-18T01:04:35.470Z"
   },
   {
    "duration": 434,
    "start_time": "2022-01-18T01:04:41.528Z"
   },
   {
    "duration": 422,
    "start_time": "2022-01-18T01:04:51.528Z"
   },
   {
    "duration": 435,
    "start_time": "2022-01-18T01:04:56.734Z"
   },
   {
    "duration": 299,
    "start_time": "2022-01-18T01:09:08.083Z"
   },
   {
    "duration": 354,
    "start_time": "2022-01-18T01:09:34.228Z"
   },
   {
    "duration": 372,
    "start_time": "2022-01-18T01:09:46.067Z"
   },
   {
    "duration": 365,
    "start_time": "2022-01-18T01:09:53.179Z"
   },
   {
    "duration": 402,
    "start_time": "2022-01-18T01:10:05.838Z"
   },
   {
    "duration": 379,
    "start_time": "2022-01-18T01:10:27.839Z"
   },
   {
    "duration": 110,
    "start_time": "2022-01-18T01:10:57.798Z"
   },
   {
    "duration": 416,
    "start_time": "2022-01-18T01:12:19.149Z"
   },
   {
    "duration": 542,
    "start_time": "2022-01-18T01:12:27.716Z"
   },
   {
    "duration": 437,
    "start_time": "2022-01-18T01:12:38.213Z"
   },
   {
    "duration": 343,
    "start_time": "2022-01-18T01:13:31.840Z"
   },
   {
    "duration": 337,
    "start_time": "2022-01-18T01:13:38.456Z"
   },
   {
    "duration": 444,
    "start_time": "2022-01-18T01:14:32.800Z"
   },
   {
    "duration": 419,
    "start_time": "2022-01-18T01:14:38.531Z"
   },
   {
    "duration": 432,
    "start_time": "2022-01-18T01:15:41.781Z"
   },
   {
    "duration": 197,
    "start_time": "2022-01-18T01:15:50.637Z"
   },
   {
    "duration": 378,
    "start_time": "2022-01-18T01:15:54.939Z"
   },
   {
    "duration": 375,
    "start_time": "2022-01-18T01:17:09.438Z"
   },
   {
    "duration": 372,
    "start_time": "2022-01-18T01:18:22.157Z"
   },
   {
    "duration": 6,
    "start_time": "2022-01-18T01:18:38.412Z"
   },
   {
    "duration": 7,
    "start_time": "2022-01-18T01:24:44.458Z"
   },
   {
    "duration": 6,
    "start_time": "2022-01-18T01:24:50.365Z"
   },
   {
    "duration": 5,
    "start_time": "2022-01-18T01:24:56.971Z"
   },
   {
    "duration": 111,
    "start_time": "2022-01-18T01:26:31.559Z"
   },
   {
    "duration": 398,
    "start_time": "2022-01-18T01:27:46.915Z"
   },
   {
    "duration": 462,
    "start_time": "2022-01-18T01:28:31.405Z"
   },
   {
    "duration": 361,
    "start_time": "2022-01-18T01:29:04.646Z"
   },
   {
    "duration": 7,
    "start_time": "2022-01-18T01:29:06.798Z"
   },
   {
    "duration": 473,
    "start_time": "2022-01-18T01:30:32.278Z"
   },
   {
    "duration": 224,
    "start_time": "2022-01-18T01:32:07.964Z"
   },
   {
    "duration": 8,
    "start_time": "2022-01-18T01:32:29.852Z"
   },
   {
    "duration": 10,
    "start_time": "2022-01-18T01:35:28.368Z"
   },
   {
    "duration": 16,
    "start_time": "2022-01-18T01:38:51.400Z"
   },
   {
    "duration": 14,
    "start_time": "2022-01-18T01:41:32.868Z"
   },
   {
    "duration": 5,
    "start_time": "2022-01-18T01:41:33.582Z"
   },
   {
    "duration": 12,
    "start_time": "2022-01-18T01:41:59.104Z"
   },
   {
    "duration": 9,
    "start_time": "2022-01-18T01:45:08.415Z"
   },
   {
    "duration": 20,
    "start_time": "2022-01-18T01:49:03.172Z"
   },
   {
    "duration": 94,
    "start_time": "2022-01-18T01:53:28.801Z"
   },
   {
    "duration": 10,
    "start_time": "2022-01-18T02:08:23.432Z"
   },
   {
    "duration": 14,
    "start_time": "2022-01-18T02:08:49.647Z"
   },
   {
    "duration": 9,
    "start_time": "2022-01-18T02:09:05.639Z"
   },
   {
    "duration": 9,
    "start_time": "2022-01-18T02:09:07.238Z"
   },
   {
    "duration": 9,
    "start_time": "2022-01-18T02:10:46.581Z"
   },
   {
    "duration": 8,
    "start_time": "2022-01-18T02:10:52.516Z"
   },
   {
    "duration": 102,
    "start_time": "2022-01-18T02:26:06.815Z"
   }
  ],
  "kernelspec": {
   "display_name": "Python 3 (ipykernel)",
   "language": "python",
   "name": "python3"
  },
  "language_info": {
   "codemirror_mode": {
    "name": "ipython",
    "version": 3
   },
   "file_extension": ".py",
   "mimetype": "text/x-python",
   "name": "python",
   "nbconvert_exporter": "python",
   "pygments_lexer": "ipython3",
   "version": "3.9.7"
  },
  "toc": {
   "base_numbering": 1,
   "nav_menu": {},
   "number_sections": true,
   "sideBar": true,
   "skip_h1_title": true,
   "title_cell": "Table of Contents",
   "title_sidebar": "Contents",
   "toc_cell": false,
   "toc_position": {},
   "toc_section_display": true,
   "toc_window_display": false
  }
 },
 "nbformat": 4,
 "nbformat_minor": 2
}
