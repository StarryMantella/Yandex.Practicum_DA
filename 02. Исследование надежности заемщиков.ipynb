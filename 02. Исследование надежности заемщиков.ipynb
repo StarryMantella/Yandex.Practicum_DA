{
 "cells": [
  {
   "cell_type": "markdown",
   "metadata": {},
   "source": [
    "# Исследование надёжности заёмщиков\n",
    "\n",
    "Заказчик — кредитный отдел банка. Нужно разобраться, влияет ли семейное положение и количество детей клиента на факт погашения кредита в срок. Входные данные от банка — статистика о платёжеспособности клиентов.\n",
    "\n",
    "Результаты исследования будут учтены при построении модели **кредитного скоринга** — специальной системы, которая оценивает способность потенциального заёмщика вернуть кредит банку."
   ]
  },
  {
   "cell_type": "markdown",
   "metadata": {},
   "source": [
    "**Описание данных:**<br>\n",
    "\n",
    "- children — количество детей в семье<br>\n",
    "- days_employed — общий трудовой стаж в днях<br>\n",
    "- dob_years — возраст клиента в годах<br>\n",
    "- education — уровень образования клиента<br>\n",
    "- education_id — идентификатор уровня образования<br>\n",
    "- family_status — семейное положение<br>\n",
    "- family_status_id — идентификатор семейного положения<br>\n",
    "- gender — пол клиента<br>\n",
    "- income_type — тип занятости<br>\n",
    "- debt — имел ли задолженность по возврату кредитов<br>\n",
    "- total_income — ежемесячный доход<br>\n",
    "- purpose — цель получения кредита<br>"
   ]
  },
  {
   "cell_type": "markdown",
   "metadata": {},
   "source": [
    "## Шаг 1. Откройте файл с данными и изучите общую информацию"
   ]
  },
  {
   "cell_type": "code",
   "execution_count": 12,
   "metadata": {},
   "outputs": [
    {
     "name": "stdout",
     "output_type": "stream",
     "text": [
      "<class 'pandas.core.frame.DataFrame'>\n",
      "RangeIndex: 21525 entries, 0 to 21524\n",
      "Data columns (total 12 columns):\n",
      " #   Column            Non-Null Count  Dtype  \n",
      "---  ------            --------------  -----  \n",
      " 0   children          21525 non-null  int64  \n",
      " 1   days_employed     19351 non-null  float64\n",
      " 2   dob_years         21525 non-null  int64  \n",
      " 3   education         21525 non-null  object \n",
      " 4   education_id      21525 non-null  int64  \n",
      " 5   family_status     21525 non-null  object \n",
      " 6   family_status_id  21525 non-null  int64  \n",
      " 7   gender            21525 non-null  object \n",
      " 8   income_type       21525 non-null  object \n",
      " 9   debt              21525 non-null  int64  \n",
      " 10  total_income      19351 non-null  float64\n",
      " 11  purpose           21525 non-null  object \n",
      "dtypes: float64(2), int64(5), object(5)\n",
      "memory usage: 2.0+ MB\n"
     ]
    },
    {
     "data": {
      "text/html": [
       "<div>\n",
       "<style scoped>\n",
       "    .dataframe tbody tr th:only-of-type {\n",
       "        vertical-align: middle;\n",
       "    }\n",
       "\n",
       "    .dataframe tbody tr th {\n",
       "        vertical-align: top;\n",
       "    }\n",
       "\n",
       "    .dataframe thead th {\n",
       "        text-align: right;\n",
       "    }\n",
       "</style>\n",
       "<table border=\"1\" class=\"dataframe\">\n",
       "  <thead>\n",
       "    <tr style=\"text-align: right;\">\n",
       "      <th></th>\n",
       "      <th>children</th>\n",
       "      <th>days_employed</th>\n",
       "      <th>dob_years</th>\n",
       "      <th>education</th>\n",
       "      <th>education_id</th>\n",
       "      <th>family_status</th>\n",
       "      <th>family_status_id</th>\n",
       "      <th>gender</th>\n",
       "      <th>income_type</th>\n",
       "      <th>debt</th>\n",
       "      <th>total_income</th>\n",
       "      <th>purpose</th>\n",
       "    </tr>\n",
       "  </thead>\n",
       "  <tbody>\n",
       "    <tr>\n",
       "      <th>0</th>\n",
       "      <td>1</td>\n",
       "      <td>-8437.673028</td>\n",
       "      <td>42</td>\n",
       "      <td>высшее</td>\n",
       "      <td>0</td>\n",
       "      <td>женат / замужем</td>\n",
       "      <td>0</td>\n",
       "      <td>F</td>\n",
       "      <td>сотрудник</td>\n",
       "      <td>0</td>\n",
       "      <td>253875.639453</td>\n",
       "      <td>покупка жилья</td>\n",
       "    </tr>\n",
       "    <tr>\n",
       "      <th>1</th>\n",
       "      <td>1</td>\n",
       "      <td>-4024.803754</td>\n",
       "      <td>36</td>\n",
       "      <td>среднее</td>\n",
       "      <td>1</td>\n",
       "      <td>женат / замужем</td>\n",
       "      <td>0</td>\n",
       "      <td>F</td>\n",
       "      <td>сотрудник</td>\n",
       "      <td>0</td>\n",
       "      <td>112080.014102</td>\n",
       "      <td>приобретение автомобиля</td>\n",
       "    </tr>\n",
       "    <tr>\n",
       "      <th>2</th>\n",
       "      <td>0</td>\n",
       "      <td>-5623.422610</td>\n",
       "      <td>33</td>\n",
       "      <td>Среднее</td>\n",
       "      <td>1</td>\n",
       "      <td>женат / замужем</td>\n",
       "      <td>0</td>\n",
       "      <td>M</td>\n",
       "      <td>сотрудник</td>\n",
       "      <td>0</td>\n",
       "      <td>145885.952297</td>\n",
       "      <td>покупка жилья</td>\n",
       "    </tr>\n",
       "    <tr>\n",
       "      <th>3</th>\n",
       "      <td>3</td>\n",
       "      <td>-4124.747207</td>\n",
       "      <td>32</td>\n",
       "      <td>среднее</td>\n",
       "      <td>1</td>\n",
       "      <td>женат / замужем</td>\n",
       "      <td>0</td>\n",
       "      <td>M</td>\n",
       "      <td>сотрудник</td>\n",
       "      <td>0</td>\n",
       "      <td>267628.550329</td>\n",
       "      <td>дополнительное образование</td>\n",
       "    </tr>\n",
       "    <tr>\n",
       "      <th>4</th>\n",
       "      <td>0</td>\n",
       "      <td>340266.072047</td>\n",
       "      <td>53</td>\n",
       "      <td>среднее</td>\n",
       "      <td>1</td>\n",
       "      <td>гражданский брак</td>\n",
       "      <td>1</td>\n",
       "      <td>F</td>\n",
       "      <td>пенсионер</td>\n",
       "      <td>0</td>\n",
       "      <td>158616.077870</td>\n",
       "      <td>сыграть свадьбу</td>\n",
       "    </tr>\n",
       "    <tr>\n",
       "      <th>5</th>\n",
       "      <td>0</td>\n",
       "      <td>-926.185831</td>\n",
       "      <td>27</td>\n",
       "      <td>высшее</td>\n",
       "      <td>0</td>\n",
       "      <td>гражданский брак</td>\n",
       "      <td>1</td>\n",
       "      <td>M</td>\n",
       "      <td>компаньон</td>\n",
       "      <td>0</td>\n",
       "      <td>255763.565419</td>\n",
       "      <td>покупка жилья</td>\n",
       "    </tr>\n",
       "    <tr>\n",
       "      <th>6</th>\n",
       "      <td>0</td>\n",
       "      <td>-2879.202052</td>\n",
       "      <td>43</td>\n",
       "      <td>высшее</td>\n",
       "      <td>0</td>\n",
       "      <td>женат / замужем</td>\n",
       "      <td>0</td>\n",
       "      <td>F</td>\n",
       "      <td>компаньон</td>\n",
       "      <td>0</td>\n",
       "      <td>240525.971920</td>\n",
       "      <td>операции с жильем</td>\n",
       "    </tr>\n",
       "    <tr>\n",
       "      <th>7</th>\n",
       "      <td>0</td>\n",
       "      <td>-152.779569</td>\n",
       "      <td>50</td>\n",
       "      <td>СРЕДНЕЕ</td>\n",
       "      <td>1</td>\n",
       "      <td>женат / замужем</td>\n",
       "      <td>0</td>\n",
       "      <td>M</td>\n",
       "      <td>сотрудник</td>\n",
       "      <td>0</td>\n",
       "      <td>135823.934197</td>\n",
       "      <td>образование</td>\n",
       "    </tr>\n",
       "    <tr>\n",
       "      <th>8</th>\n",
       "      <td>2</td>\n",
       "      <td>-6929.865299</td>\n",
       "      <td>35</td>\n",
       "      <td>ВЫСШЕЕ</td>\n",
       "      <td>0</td>\n",
       "      <td>гражданский брак</td>\n",
       "      <td>1</td>\n",
       "      <td>F</td>\n",
       "      <td>сотрудник</td>\n",
       "      <td>0</td>\n",
       "      <td>95856.832424</td>\n",
       "      <td>на проведение свадьбы</td>\n",
       "    </tr>\n",
       "    <tr>\n",
       "      <th>9</th>\n",
       "      <td>0</td>\n",
       "      <td>-2188.756445</td>\n",
       "      <td>41</td>\n",
       "      <td>среднее</td>\n",
       "      <td>1</td>\n",
       "      <td>женат / замужем</td>\n",
       "      <td>0</td>\n",
       "      <td>M</td>\n",
       "      <td>сотрудник</td>\n",
       "      <td>0</td>\n",
       "      <td>144425.938277</td>\n",
       "      <td>покупка жилья для семьи</td>\n",
       "    </tr>\n",
       "  </tbody>\n",
       "</table>\n",
       "</div>"
      ],
      "text/plain": [
       "   children  days_employed  dob_years education  education_id  \\\n",
       "0         1   -8437.673028         42    высшее             0   \n",
       "1         1   -4024.803754         36   среднее             1   \n",
       "2         0   -5623.422610         33   Среднее             1   \n",
       "3         3   -4124.747207         32   среднее             1   \n",
       "4         0  340266.072047         53   среднее             1   \n",
       "5         0    -926.185831         27    высшее             0   \n",
       "6         0   -2879.202052         43    высшее             0   \n",
       "7         0    -152.779569         50   СРЕДНЕЕ             1   \n",
       "8         2   -6929.865299         35    ВЫСШЕЕ             0   \n",
       "9         0   -2188.756445         41   среднее             1   \n",
       "\n",
       "      family_status  family_status_id gender income_type  debt   total_income  \\\n",
       "0   женат / замужем                 0      F   сотрудник     0  253875.639453   \n",
       "1   женат / замужем                 0      F   сотрудник     0  112080.014102   \n",
       "2   женат / замужем                 0      M   сотрудник     0  145885.952297   \n",
       "3   женат / замужем                 0      M   сотрудник     0  267628.550329   \n",
       "4  гражданский брак                 1      F   пенсионер     0  158616.077870   \n",
       "5  гражданский брак                 1      M   компаньон     0  255763.565419   \n",
       "6   женат / замужем                 0      F   компаньон     0  240525.971920   \n",
       "7   женат / замужем                 0      M   сотрудник     0  135823.934197   \n",
       "8  гражданский брак                 1      F   сотрудник     0   95856.832424   \n",
       "9   женат / замужем                 0      M   сотрудник     0  144425.938277   \n",
       "\n",
       "                      purpose  \n",
       "0               покупка жилья  \n",
       "1     приобретение автомобиля  \n",
       "2               покупка жилья  \n",
       "3  дополнительное образование  \n",
       "4             сыграть свадьбу  \n",
       "5               покупка жилья  \n",
       "6           операции с жильем  \n",
       "7                 образование  \n",
       "8       на проведение свадьбы  \n",
       "9     покупка жилья для семьи  "
      ]
     },
     "metadata": {},
     "output_type": "display_data"
    }
   ],
   "source": [
    "import pandas as pd\n",
    "data = pd.read_csv('/Users/batorashaev/Desktop/data.csv')\n",
    "#Изучим общую информацию о файле\n",
    "data.info() \n",
    "display(data.head(10))\n",
    "#print(data.tail(10))"
   ]
  },
  {
   "cell_type": "markdown",
   "metadata": {},
   "source": [
    "**Вывод**"
   ]
  },
  {
   "cell_type": "markdown",
   "metadata": {},
   "source": [
    "Обнаружены пропущенные значения в стоблцах \"Общий трудовой стаж в днях\" и \"Ежемесячный доход\""
   ]
  },
  {
   "cell_type": "markdown",
   "metadata": {},
   "source": [
    "## Шаг 2. Предобработка данных"
   ]
  },
  {
   "cell_type": "markdown",
   "metadata": {},
   "source": [
    "### Обработка пропусков"
   ]
  },
  {
   "cell_type": "code",
   "execution_count": 13,
   "metadata": {},
   "outputs": [
    {
     "data": {
      "text/html": [
       "<div>\n",
       "<style scoped>\n",
       "    .dataframe tbody tr th:only-of-type {\n",
       "        vertical-align: middle;\n",
       "    }\n",
       "\n",
       "    .dataframe tbody tr th {\n",
       "        vertical-align: top;\n",
       "    }\n",
       "\n",
       "    .dataframe thead tr th {\n",
       "        text-align: left;\n",
       "    }\n",
       "\n",
       "    .dataframe thead tr:last-of-type th {\n",
       "        text-align: right;\n",
       "    }\n",
       "</style>\n",
       "<table border=\"1\" class=\"dataframe\">\n",
       "  <thead>\n",
       "    <tr>\n",
       "      <th></th>\n",
       "      <th></th>\n",
       "      <th>total_income</th>\n",
       "    </tr>\n",
       "    <tr>\n",
       "      <th></th>\n",
       "      <th></th>\n",
       "      <th>median</th>\n",
       "    </tr>\n",
       "    <tr>\n",
       "      <th>income_type</th>\n",
       "      <th>education</th>\n",
       "      <th></th>\n",
       "    </tr>\n",
       "  </thead>\n",
       "  <tbody>\n",
       "    <tr>\n",
       "      <th rowspan=\"2\" valign=\"top\">безработный</th>\n",
       "      <th>высшее</th>\n",
       "      <td>202722.511368</td>\n",
       "    </tr>\n",
       "    <tr>\n",
       "      <th>среднее</th>\n",
       "      <td>59956.991984</td>\n",
       "    </tr>\n",
       "    <tr>\n",
       "      <th>в декрете</th>\n",
       "      <th>среднее</th>\n",
       "      <td>53829.130729</td>\n",
       "    </tr>\n",
       "    <tr>\n",
       "      <th rowspan=\"5\" valign=\"top\">госслужащий</th>\n",
       "      <th>высшее</th>\n",
       "      <td>172511.107016</td>\n",
       "    </tr>\n",
       "    <tr>\n",
       "      <th>начальное</th>\n",
       "      <td>148339.290825</td>\n",
       "    </tr>\n",
       "    <tr>\n",
       "      <th>неоконченное высшее</th>\n",
       "      <td>160592.345303</td>\n",
       "    </tr>\n",
       "    <tr>\n",
       "      <th>среднее</th>\n",
       "      <td>136652.970357</td>\n",
       "    </tr>\n",
       "    <tr>\n",
       "      <th>ученая степень</th>\n",
       "      <td>111392.231107</td>\n",
       "    </tr>\n",
       "    <tr>\n",
       "      <th rowspan=\"4\" valign=\"top\">компаньон</th>\n",
       "      <th>высшее</th>\n",
       "      <td>201785.400018</td>\n",
       "    </tr>\n",
       "    <tr>\n",
       "      <th>начальное</th>\n",
       "      <td>136798.905143</td>\n",
       "    </tr>\n",
       "    <tr>\n",
       "      <th>неоконченное высшее</th>\n",
       "      <td>179867.152890</td>\n",
       "    </tr>\n",
       "    <tr>\n",
       "      <th>среднее</th>\n",
       "      <td>159070.690289</td>\n",
       "    </tr>\n",
       "    <tr>\n",
       "      <th rowspan=\"5\" valign=\"top\">пенсионер</th>\n",
       "      <th>высшее</th>\n",
       "      <td>144240.768611</td>\n",
       "    </tr>\n",
       "    <tr>\n",
       "      <th>начальное</th>\n",
       "      <td>102598.653164</td>\n",
       "    </tr>\n",
       "    <tr>\n",
       "      <th>неоконченное высшее</th>\n",
       "      <td>120136.896353</td>\n",
       "    </tr>\n",
       "    <tr>\n",
       "      <th>среднее</th>\n",
       "      <td>114842.854099</td>\n",
       "    </tr>\n",
       "    <tr>\n",
       "      <th>ученая степень</th>\n",
       "      <td>177088.845999</td>\n",
       "    </tr>\n",
       "    <tr>\n",
       "      <th>предприниматель</th>\n",
       "      <th>высшее</th>\n",
       "      <td>499163.144947</td>\n",
       "    </tr>\n",
       "    <tr>\n",
       "      <th rowspan=\"5\" valign=\"top\">сотрудник</th>\n",
       "      <th>высшее</th>\n",
       "      <td>165640.744634</td>\n",
       "    </tr>\n",
       "    <tr>\n",
       "      <th>начальное</th>\n",
       "      <td>125994.910603</td>\n",
       "    </tr>\n",
       "    <tr>\n",
       "      <th>неоконченное высшее</th>\n",
       "      <td>151308.937846</td>\n",
       "    </tr>\n",
       "    <tr>\n",
       "      <th>среднее</th>\n",
       "      <td>136555.108821</td>\n",
       "    </tr>\n",
       "    <tr>\n",
       "      <th>ученая степень</th>\n",
       "      <td>198570.757322</td>\n",
       "    </tr>\n",
       "    <tr>\n",
       "      <th>студент</th>\n",
       "      <th>высшее</th>\n",
       "      <td>98201.625314</td>\n",
       "    </tr>\n",
       "  </tbody>\n",
       "</table>\n",
       "</div>"
      ],
      "text/plain": [
       "                                      total_income\n",
       "                                            median\n",
       "income_type     education                         \n",
       "безработный     высшее               202722.511368\n",
       "                среднее               59956.991984\n",
       "в декрете       среднее               53829.130729\n",
       "госслужащий     высшее               172511.107016\n",
       "                начальное            148339.290825\n",
       "                неоконченное высшее  160592.345303\n",
       "                среднее              136652.970357\n",
       "                ученая степень       111392.231107\n",
       "компаньон       высшее               201785.400018\n",
       "                начальное            136798.905143\n",
       "                неоконченное высшее  179867.152890\n",
       "                среднее              159070.690289\n",
       "пенсионер       высшее               144240.768611\n",
       "                начальное            102598.653164\n",
       "                неоконченное высшее  120136.896353\n",
       "                среднее              114842.854099\n",
       "                ученая степень       177088.845999\n",
       "предприниматель высшее               499163.144947\n",
       "сотрудник       высшее               165640.744634\n",
       "                начальное            125994.910603\n",
       "                неоконченное высшее  151308.937846\n",
       "                среднее              136555.108821\n",
       "                ученая степень       198570.757322\n",
       "студент         высшее                98201.625314"
      ]
     },
     "metadata": {},
     "output_type": "display_data"
    },
    {
     "name": "stdout",
     "output_type": "stream",
     "text": [
      "children            0\n",
      "days_employed       0\n",
      "dob_years           0\n",
      "education           0\n",
      "education_id        0\n",
      "family_status       0\n",
      "family_status_id    0\n",
      "gender              0\n",
      "income_type         0\n",
      "debt                0\n",
      "total_income        0\n",
      "purpose             0\n",
      "dtype: int64\n"
     ]
    }
   ],
   "source": [
    "data['education'] = data['education'].str.lower()\n",
    "\n",
    "#Высчитаем медианы по каждому типу занятости клиентов в зависимости от уровня образования:\n",
    "#Для начала приведем столбец \"Образование\" к нижнему регистру:\n",
    "data['education'] = data['education'].str.lower()\n",
    "#Высчитаем медианы:\n",
    "display(data.groupby(['income_type','education'])[['total_income']].agg(['median']))\n",
    "#Заменим пустые значения на медианные:\n",
    "data['total_income'] = data.groupby(['income_type','education'])['total_income'].apply(lambda x: x.fillna(x.median()))\n",
    "#Заменим пропуски в столбце \"Трудовой стаж\" на \"0\", т.к. его значение не влияет на выдачу кредита:\n",
    "data['days_employed'] = data['days_employed'].fillna(0) \n",
    "#Проверим, есть ли пропуски в столбцах:\n",
    "print(data.isna().sum())\n",
    "\n",
    "#display(data.head(20))\n",
    "#data.info()"
   ]
  },
  {
   "cell_type": "code",
   "execution_count": 14,
   "metadata": {},
   "outputs": [
    {
     "data": {
      "text/html": [
       "<div>\n",
       "<style scoped>\n",
       "    .dataframe tbody tr th:only-of-type {\n",
       "        vertical-align: middle;\n",
       "    }\n",
       "\n",
       "    .dataframe tbody tr th {\n",
       "        vertical-align: top;\n",
       "    }\n",
       "\n",
       "    .dataframe thead th {\n",
       "        text-align: right;\n",
       "    }\n",
       "</style>\n",
       "<table border=\"1\" class=\"dataframe\">\n",
       "  <thead>\n",
       "    <tr style=\"text-align: right;\">\n",
       "      <th></th>\n",
       "      <th>total_income</th>\n",
       "    </tr>\n",
       "    <tr>\n",
       "      <th>income_type</th>\n",
       "      <th></th>\n",
       "    </tr>\n",
       "  </thead>\n",
       "  <tbody>\n",
       "    <tr>\n",
       "      <th>безработный</th>\n",
       "      <td>131339.751676</td>\n",
       "    </tr>\n",
       "    <tr>\n",
       "      <th>в декрете</th>\n",
       "      <td>53829.130729</td>\n",
       "    </tr>\n",
       "    <tr>\n",
       "      <th>госслужащий</th>\n",
       "      <td>148978.800029</td>\n",
       "    </tr>\n",
       "    <tr>\n",
       "      <th>компаньон</th>\n",
       "      <td>170155.716801</td>\n",
       "    </tr>\n",
       "    <tr>\n",
       "      <th>пенсионер</th>\n",
       "      <td>114842.854099</td>\n",
       "    </tr>\n",
       "    <tr>\n",
       "      <th>предприниматель</th>\n",
       "      <td>499163.144947</td>\n",
       "    </tr>\n",
       "    <tr>\n",
       "      <th>сотрудник</th>\n",
       "      <td>138068.631966</td>\n",
       "    </tr>\n",
       "    <tr>\n",
       "      <th>студент</th>\n",
       "      <td>98201.625314</td>\n",
       "    </tr>\n",
       "  </tbody>\n",
       "</table>\n",
       "</div>"
      ],
      "text/plain": [
       "                  total_income\n",
       "income_type                   \n",
       "безработный      131339.751676\n",
       "в декрете         53829.130729\n",
       "госслужащий      148978.800029\n",
       "компаньон        170155.716801\n",
       "пенсионер        114842.854099\n",
       "предприниматель  499163.144947\n",
       "сотрудник        138068.631966\n",
       "студент           98201.625314"
      ]
     },
     "execution_count": 14,
     "metadata": {},
     "output_type": "execute_result"
    }
   ],
   "source": [
    "data.groupby('income_type').agg({'total_income':'median'})"
   ]
  },
  {
   "cell_type": "code",
   "execution_count": 15,
   "metadata": {},
   "outputs": [
    {
     "data": {
      "text/plain": [
       "131339.7516762103"
      ]
     },
     "execution_count": 15,
     "metadata": {},
     "output_type": "execute_result"
    }
   ],
   "source": [
    "data.groupby('income_type').agg({'total_income':'median'}).loc['безработный'][0]"
   ]
  },
  {
   "cell_type": "markdown",
   "metadata": {},
   "source": [
    "**Вывод**"
   ]
  },
  {
   "cell_type": "markdown",
   "metadata": {},
   "source": [
    "Количетсво пропущенных значений по типу занятости:\n",
    "\n",
    "Сотрудник: 1105 из 11119\n",
    "\n",
    "Пенсионер: 413 из 3856\n",
    "\n",
    "Компаньон: 508 из 5085\n",
    "\n",
    "Госслужащий: 147 из 1459\n",
    "\n",
    "Безработный: 0 из 2\n",
    "\n",
    "Предприниматель: 1 из 2\n",
    "\n",
    "Студент: 0 из 1\n",
    "\n",
    "В декрете: 0 из 1\n",
    "\n",
    "Исходя из полученных данных можно сделать вывод:\n",
    "\n",
    "1)Одинковое количество пропусков в обеих столбцах (Общий трудовой стаж и Ежемесячный доход) - либо это \"студенты\", которые слишком молоды для работы, либо \"Безработные\" - безработные на самом деле, или официально нетрудоустроенные или имеющие иные способы заработка, либо это люди, только устроившиеся на работу.\n",
    "2)пропущенные значения не связаны непосредственно с типом занятости, как например с типом \"Безработный\" или \"Студент\"(у которых нет ни стажа, ни дохода), а были либо не указаны, либо утеряны(т.к. пропущенные значения имеются у таких категорий, как \"Сотрудник\", \"Госслужащий\" и т.д.). \n",
    "3)Заменять пропущенные значения на медианные либо средние некорректно, так как это может повлиять на результат одобрения кредита, и в следствие этого, возомжность его невозврата в дальнейшем.\n",
    "4)Решено заменить проущенные значения на \"0\".\n",
    "\n",
    "UPD:\n",
    "\n",
    "1) Высчитал медианные значения в столбце \"Total Income\" для каждого типа занятости клиентов (сотрудник, пенсионер и т.д.)\n",
    "\n",
    "2) Заменил пустые значения на медианные\n",
    "\n",
    "UPD2:\n",
    "\n",
    "1) Высчитал медианные значения в столбце \"Total Income\" для каждого типа занятости клиентов в зависимости от образования\n",
    "\n",
    "2) Заменил пустые значения на медианные"
   ]
  },
  {
   "cell_type": "markdown",
   "metadata": {},
   "source": [
    "### Замена типа данных"
   ]
  },
  {
   "cell_type": "code",
   "execution_count": 16,
   "metadata": {},
   "outputs": [
    {
     "name": "stdout",
     "output_type": "stream",
     "text": [
      "Отрицательных значений: 15906\n",
      "Максимальное отрицательное значение: -24 в годах: -0.06575342465753424\n",
      "Минимальное отрицательное значение: -18388 в годах: -50.37808219178082\n",
      "Положительных значений: 3445\n",
      "Максимальное положительное значение: 401755 , в годах: 1100.6986301369864\n",
      "Максимальное положительное значение: 328728 , в годах: 900.6246575342466\n",
      "   children  days_employed  dob_years education  education_id  \\\n",
      "0         1           8437         42    высшее             0   \n",
      "1         1           4024         36   среднее             1   \n",
      "2         0           5623         33   среднее             1   \n",
      "3         3           4124         32   среднее             1   \n",
      "4         0         340266         53   среднее             1   \n",
      "5         0            926         27    высшее             0   \n",
      "6         0           2879         43    высшее             0   \n",
      "7         0            152         50   среднее             1   \n",
      "8         2           6929         35    высшее             0   \n",
      "9         0           2188         41   среднее             1   \n",
      "\n",
      "      family_status  family_status_id gender income_type  debt  total_income  \\\n",
      "0   женат / замужем                 0      F   сотрудник     0        253875   \n",
      "1   женат / замужем                 0      F   сотрудник     0        112080   \n",
      "2   женат / замужем                 0      M   сотрудник     0        145885   \n",
      "3   женат / замужем                 0      M   сотрудник     0        267628   \n",
      "4  гражданский брак                 1      F   пенсионер     0        158616   \n",
      "5  гражданский брак                 1      M   компаньон     0        255763   \n",
      "6   женат / замужем                 0      F   компаньон     0        240525   \n",
      "7   женат / замужем                 0      M   сотрудник     0        135823   \n",
      "8  гражданский брак                 1      F   сотрудник     0         95856   \n",
      "9   женат / замужем                 0      M   сотрудник     0        144425   \n",
      "\n",
      "                      purpose  \n",
      "0               покупка жилья  \n",
      "1     приобретение автомобиля  \n",
      "2               покупка жилья  \n",
      "3  дополнительное образование  \n",
      "4             сыграть свадьбу  \n",
      "5               покупка жилья  \n",
      "6           операции с жильем  \n",
      "7                 образование  \n",
      "8       на проведение свадьбы  \n",
      "9     покупка жилья для семьи  \n",
      "<class 'pandas.core.frame.DataFrame'>\n",
      "RangeIndex: 21525 entries, 0 to 21524\n",
      "Data columns (total 12 columns):\n",
      " #   Column            Non-Null Count  Dtype \n",
      "---  ------            --------------  ----- \n",
      " 0   children          21525 non-null  int64 \n",
      " 1   days_employed     21525 non-null  int64 \n",
      " 2   dob_years         21525 non-null  int64 \n",
      " 3   education         21525 non-null  object\n",
      " 4   education_id      21525 non-null  int64 \n",
      " 5   family_status     21525 non-null  object\n",
      " 6   family_status_id  21525 non-null  int64 \n",
      " 7   gender            21525 non-null  object\n",
      " 8   income_type       21525 non-null  object\n",
      " 9   debt              21525 non-null  int64 \n",
      " 10  total_income      21525 non-null  int64 \n",
      " 11  purpose           21525 non-null  object\n",
      "dtypes: int64(7), object(5)\n",
      "memory usage: 2.0+ MB\n"
     ]
    }
   ],
   "source": [
    "data['days_employed'] = data['days_employed'].astype('int')\n",
    "data['total_income'] = data['total_income'].astype('int')\n",
    "#data.info()\n",
    "#print(data.head(10))\n",
    "#Обнаружены отрицательные значения в столбце \"Общий трудовой стаж в днях\", а положительные значения являются некорректными \n",
    "data_days_plus = data[data['days_employed'] > 0]\n",
    "data_days_minus = data[data['days_employed'] < 0]\n",
    "#print(data_days_plus)\n",
    "#print(data_days_minus)\n",
    "#Данные с отрицательными значениями выглядят правдоподобнее, выясним количество отрицательных и положительных данных:\n",
    "\n",
    "print('Отрицательных значений:', data_days_minus['days_employed'].count())\n",
    "print('Максимальное отрицательное значение:', data_days_minus['days_employed'].max(), 'в годах:', (data_days_minus['days_employed'].max() / 365))\n",
    "print('Минимальное отрицательное значение:',data_days_minus['days_employed'].min(), 'в годах:', (data_days_minus['days_employed'].min() / 365)) \n",
    "print('Положительных значений:', data_days_plus['days_employed'].count())\n",
    "print('Максимальное положительное значение:',data_days_plus['days_employed'].max(), ', ' 'в годах:', (data_days_plus['days_employed'].max() / 365))\n",
    "print('Максимальное положительное значение:',data_days_plus['days_employed'].min(), ', ' 'в годах:', (data_days_plus['days_employed'].min() / 365)) \n",
    "\n",
    "#Заменим отрицательные значения на полоительные методом abs\n",
    "data['days_employed'] = data['days_employed'].abs()\n",
    "print(data.head(10))\n",
    "data.info()"
   ]
  },
  {
   "cell_type": "markdown",
   "metadata": {},
   "source": [
    "**Вывод**"
   ]
  },
  {
   "cell_type": "markdown",
   "metadata": {},
   "source": [
    "Заменил вещественный тип данных на целочисленный.\n",
    "Обнаружены отрицательные значения в стольце \"Общий трудовой стаж в днях\", а положительные значения являются некорректными, т.к. в пересчете получаются не реалистичные цифры.\n",
    "Данные с отрицательными значениями выглядят правдоподобнее, выяснил количество отрицательных и положительных данных - отриательных большинство.\n",
    "Заменил отрицательные значения на положительные методом abs, теперь в таблице нет отрицательных значений."
   ]
  },
  {
   "cell_type": "markdown",
   "metadata": {},
   "source": [
    "### Обработка дубликатов"
   ]
  },
  {
   "cell_type": "code",
   "execution_count": 123,
   "metadata": {},
   "outputs": [],
   "source": [
    "#print(data.duplicated().sum())\n",
    "#print(data['education'].value_counts())\n",
    "#print(data['family_status'].value_counts())\n",
    "#print(data['gender'].value_counts())\n",
    "#print(data['income_type'].value_counts())\n",
    "#print(data['purpose'].value_counts())\n",
    "\n",
    "#приведем данные к единому регистру\n",
    "data['education'] = data['education'].str.lower()\n",
    "data['family_status'] = data['family_status'].str.lower()\n",
    "data['gender'] = data['gender'].str.lower()\n",
    "data['income_type'] = data['income_type'].str.lower()\n",
    "data['purpose'] = data['purpose'].str.lower()\n",
    "#проверим еще раз\n",
    "#print(data.duplicated().sum())\n",
    "#print(data['education'].value_counts())\n",
    "#print(data['family_status'].value_counts())\n",
    "#print(data['gender'].value_counts())\n",
    "#print(data['income_type'].value_counts())\n",
    "#print(data['purpose'].value_counts()) \n",
    "\n",
    "#print(data.duplicated().sum())\n",
    "#print('Уникальные значения в Children:', data['children'].unique())\n",
    "#print('Уникальные значения в Days Employed:', data['days_employed'].unique())\n",
    "#print('Уникальные значения в Dob Years:', data['dob_years'].unique())\n",
    "#print('Уникальные значения в Education:', data['education'].unique())\n",
    "#print('Уникальные значения в Education ID:', data['education_id'].unique())\n",
    "#print('Уникальные значения в Family Status:', data['family_status'].unique())\n",
    "#print('Уникальные значения в Family Status ID:', data['family_status_id'].unique())\n",
    "#print('Уникальные значения в Gender:', data['gender'].unique())\n",
    "#print('Уникальные значения в Debt:', data['debt'].unique())\n",
    "#print('Уникальные значения в Income Type:', data['income_type'].unique())\n",
    "#print('Уникальные значения в Total Income:', data['total_income'].unique())\n",
    "#print('Уникальные значения в Purpose:', data['purpose'].unique())\n",
    "#print('Количество дубликатов:', data.duplicated().sum())\n",
    "#data[data['children'] == -1]['children'].count()\n",
    "#data[data['children'] == 20]['children'].count()\n",
    "data['children'] = data['children'].replace(-1, 1)\n",
    "#data[data['children'] == -1]['children'].count()\n",
    "data['children'] = data['children'].replace(20, 2)\n",
    "#data[data['children'] == 20]['children'].count()\n",
    "#data['children'].value_counts()\n",
    "#data[data['dob_years'] == 0]['dob_years'].count()\n",
    "#data[data['gender'] == 'xna'].count()"
   ]
  },
  {
   "cell_type": "markdown",
   "metadata": {},
   "source": [
    "**Вывод**"
   ]
  },
  {
   "cell_type": "markdown",
   "metadata": {},
   "source": [
    "Был обнаружен 71 дубликат, удалять их не стал, т.к. дубликаты в столбцах могут являться совпадением для двух разных лиц\n",
    "\n",
    "В столбце Children обнаружены значения \"-1\"(47 раз) и \"20\"(76 раз), -1 заменил на 1, 20 скорее всего опечатка(т.к. трудно представить 76 заявителей с количеством детей равным 20), заменил на \"2\"\n",
    "\n",
    "В стоблце Dob Years есть значения возраста \"0\", встречаются 101 раз\n",
    "\n",
    "В столбце Gender присутствует странное значение \"xna\"\n",
    "Уникальные значения в столбцах Eduaction и Education ID стали равны, т.к. привел значения к единому нижнему регистру\n",
    "\n",
    "В столбце Purpose много взаимозаменяемых значений"
   ]
  },
  {
   "cell_type": "markdown",
   "metadata": {},
   "source": [
    "### Лемматизация"
   ]
  },
  {
   "cell_type": "code",
   "execution_count": 125,
   "metadata": {},
   "outputs": [
    {
     "name": "stdout",
     "output_type": "stream",
     "text": [
      "   children  days_employed  dob_years education  education_id  \\\n",
      "0         1           8437         42    высшее             0   \n",
      "1         1           4024         36   среднее             1   \n",
      "2         0           5623         33   среднее             1   \n",
      "3         3           4124         32   среднее             1   \n",
      "4         0         340266         53   среднее             1   \n",
      "5         0            926         27    высшее             0   \n",
      "6         0           2879         43    высшее             0   \n",
      "7         0            152         50   среднее             1   \n",
      "8         2           6929         35    высшее             0   \n",
      "9         0           2188         41   среднее             1   \n",
      "\n",
      "      family_status  family_status_id gender income_type  debt  total_income  \\\n",
      "0   женат / замужем                 0      f   сотрудник     0        253875   \n",
      "1   женат / замужем                 0      f   сотрудник     0        112080   \n",
      "2   женат / замужем                 0      m   сотрудник     0        145885   \n",
      "3   женат / замужем                 0      m   сотрудник     0        267628   \n",
      "4  гражданский брак                 1      f   пенсионер     0        158616   \n",
      "5  гражданский брак                 1      m   компаньон     0        255763   \n",
      "6   женат / замужем                 0      f   компаньон     0        240525   \n",
      "7   женат / замужем                 0      m   сотрудник     0        135823   \n",
      "8  гражданский брак                 1      f   сотрудник     0         95856   \n",
      "9   женат / замужем                 0      m   сотрудник     0        144425   \n",
      "\n",
      "                      purpose                              purpose_lemma  \n",
      "0               покупка жилья                    [покупка,  , жилье, \\n]  \n",
      "1     приобретение автомобиля          [приобретение,  , автомобиль, \\n]  \n",
      "2               покупка жилья                    [покупка,  , жилье, \\n]  \n",
      "3  дополнительное образование       [дополнительный,  , образование, \\n]  \n",
      "4             сыграть свадьбу                  [сыграть,  , свадьба, \\n]  \n",
      "5               покупка жилья                    [покупка,  , жилье, \\n]  \n",
      "6           операции с жильем             [операция,  , с,  , жилье, \\n]  \n",
      "7                 образование                          [образование, \\n]  \n",
      "8       на проведение свадьбы        [на,  , проведение,  , свадьба, \\n]  \n",
      "9     покупка жилья для семьи  [покупка,  , жилье,  , для,  , семья, \\n]  \n"
     ]
    }
   ],
   "source": [
    "#Импорт библиотек\n",
    "from nltk.stem import SnowballStemmer \n",
    "russian_stemmer = SnowballStemmer('russian')\n",
    "from pymystem3 import Mystem\n",
    "m = Mystem()\n",
    "#Печатем лемматизированный список уникальных значений, выделили 4 категории\n",
    "purpose_unique = data['purpose'].unique()\n",
    "lemmas = []\n",
    "for string in purpose_unique:\n",
    "    lemma = m.lemmatize(string)\n",
    "    lemmas.append(lemma)\n",
    "#print(lemmas, '\\n')\n",
    "\n",
    "data['purpose_lemma'] = data['purpose'].apply(m.lemmatize)\n",
    "\n",
    "print(data.head(10))"
   ]
  },
  {
   "cell_type": "markdown",
   "metadata": {},
   "source": [
    "**Вывод**"
   ]
  },
  {
   "cell_type": "markdown",
   "metadata": {},
   "source": [
    "Создан новый столбец purpose_lemma - с леммитизированными целями."
   ]
  },
  {
   "cell_type": "markdown",
   "metadata": {},
   "source": [
    "### Категоризация данных"
   ]
  },
  {
   "cell_type": "code",
   "execution_count": 126,
   "metadata": {},
   "outputs": [
    {
     "name": "stdout",
     "output_type": "stream",
     "text": [
      "   children  days_employed  dob_years education  education_id  \\\n",
      "0         1           8437         42    высшее             0   \n",
      "1         1           4024         36   среднее             1   \n",
      "2         0           5623         33   среднее             1   \n",
      "3         3           4124         32   среднее             1   \n",
      "4         0         340266         53   среднее             1   \n",
      "5         0            926         27    высшее             0   \n",
      "6         0           2879         43    высшее             0   \n",
      "7         0            152         50   среднее             1   \n",
      "8         2           6929         35    высшее             0   \n",
      "9         0           2188         41   среднее             1   \n",
      "\n",
      "      family_status  family_status_id gender income_type  debt  total_income  \\\n",
      "0   женат / замужем                 0      f   сотрудник     0        253875   \n",
      "1   женат / замужем                 0      f   сотрудник     0        112080   \n",
      "2   женат / замужем                 0      m   сотрудник     0        145885   \n",
      "3   женат / замужем                 0      m   сотрудник     0        267628   \n",
      "4  гражданский брак                 1      f   пенсионер     0        158616   \n",
      "5  гражданский брак                 1      m   компаньон     0        255763   \n",
      "6   женат / замужем                 0      f   компаньон     0        240525   \n",
      "7   женат / замужем                 0      m   сотрудник     0        135823   \n",
      "8  гражданский брак                 1      f   сотрудник     0         95856   \n",
      "9   женат / замужем                 0      m   сотрудник     0        144425   \n",
      "\n",
      "                      purpose                              purpose_lemma  \\\n",
      "0               покупка жилья                    [покупка,  , жилье, \\n]   \n",
      "1     приобретение автомобиля          [приобретение,  , автомобиль, \\n]   \n",
      "2               покупка жилья                    [покупка,  , жилье, \\n]   \n",
      "3  дополнительное образование       [дополнительный,  , образование, \\n]   \n",
      "4             сыграть свадьбу                  [сыграть,  , свадьба, \\n]   \n",
      "5               покупка жилья                    [покупка,  , жилье, \\n]   \n",
      "6           операции с жильем             [операция,  , с,  , жилье, \\n]   \n",
      "7                 образование                          [образование, \\n]   \n",
      "8       на проведение свадьбы        [на,  , проведение,  , свадьба, \\n]   \n",
      "9     покупка жилья для семьи  [покупка,  , жилье,  , для,  , семья, \\n]   \n",
      "\n",
      "  purpose_category  \n",
      "0     недвижимость  \n",
      "1       автомобиль  \n",
      "2     недвижимость  \n",
      "3      образование  \n",
      "4          свадьба  \n",
      "5     недвижимость  \n",
      "6     недвижимость  \n",
      "7      образование  \n",
      "8          свадьба  \n",
      "9     недвижимость  \n"
     ]
    }
   ],
   "source": [
    "#Пропишем функцию для категоризации целей кредита\n",
    "def change_purpose(purpose):\n",
    "    if ('жилье' in purpose) or ('недвижимость' in purpose):\n",
    "        return 'недвижимость'\n",
    "    if 'автомобиль' in purpose:\n",
    "        return 'автомобиль'\n",
    "    if 'образование' in purpose:\n",
    "        return 'образование'\n",
    "    if 'свадьба' in purpose:\n",
    "        return 'свадьба'\n",
    "#Создан новый столбец с получившимися данными по категориям\n",
    "data['purpose_category'] = data['purpose_lemma'].apply(change_purpose)\n",
    "print(data.head(10))"
   ]
  },
  {
   "cell_type": "markdown",
   "metadata": {},
   "source": [
    "**Вывод**"
   ]
  },
  {
   "cell_type": "markdown",
   "metadata": {},
   "source": [
    "Цели получения кредита были поделены на 4 основные категории: Недвижимость, Образование, Автомобиль, Свадьба.\n",
    "Создан новый столбец purpose_category - в нем каждой заявке присвоена определенная категория."
   ]
  },
  {
   "cell_type": "markdown",
   "metadata": {},
   "source": [
    "## Шаг 3. Ответьте на вопросы"
   ]
  },
  {
   "cell_type": "markdown",
   "metadata": {},
   "source": [
    "- Есть ли зависимость между наличием детей и возвратом кредита в срок?"
   ]
  },
  {
   "cell_type": "code",
   "execution_count": 127,
   "metadata": {},
   "outputs": [
    {
     "name": "stdout",
     "output_type": "stream",
     "text": [
      "Процент должников среди людей с детьми: 9.2%\n",
      "Процент должников среди людей без детей: 7.5%\n"
     ]
    }
   ],
   "source": [
    "#data.loc[(data['children']==0)&(data['debt']==0), 'debt'].count()\n",
    "#data.loc[(data['children']>0)&(data['debt']==0), 'debt'].count()\n",
    "#data.loc[(data['children']==0)&(data['debt']==1), 'debt'].count()\n",
    "#data.loc[(data['children']>0)&(data['debt']==1), 'debt'].count()\n",
    "data_w_children = data[data['children'] != 0]\n",
    "data_no_children = data[data['children'] == 0]\n",
    "#data_w_children.info()\n",
    "#data_no_children.info()\n",
    "data_w_children_debt = data_w_children['debt'].sum() / len(data_w_children)\n",
    "data_no_children_debt = data_no_children['debt'].sum() / len(data_no_children)\n",
    "print('Процент должников среди людей с детьми: {:.1%}'.format(data_w_children_debt))\n",
    "print('Процент должников среди людей без детей: {:.1%}'.format(data_no_children_debt))"
   ]
  },
  {
   "cell_type": "markdown",
   "metadata": {},
   "source": [
    "**Вывод**"
   ]
  },
  {
   "cell_type": "markdown",
   "metadata": {},
   "source": [
    "Процент должников среди людей с детьми: 9.2%\n",
    "\n",
    "Процент должников среди людей без детей: 7.5%\n",
    "\n",
    "Люди с детьми платят кредиты хуже, но в целом - на одном уровне (разница 1,7%)"
   ]
  },
  {
   "cell_type": "markdown",
   "metadata": {},
   "source": [
    "- Есть ли зависимость между семейным положением и возвратом кредита в срок?"
   ]
  },
  {
   "cell_type": "code",
   "execution_count": 128,
   "metadata": {},
   "outputs": [
    {
     "name": "stdout",
     "output_type": "stream",
     "text": [
      "debt                       0    1  ratio в %\n",
      "family_status                               \n",
      "в разводе               1110   85        7.1\n",
      "вдовец / вдова           897   63        6.6\n",
      "гражданский брак        3789  388        9.3\n",
      "женат / замужем        11449  931        7.5\n",
      "не женат / не замужем   2539  274        9.7\n"
     ]
    }
   ],
   "source": [
    "#family_status_debt = data.groupby('family_status')['debt'].sum() / data.groupby('family_status')['debt'].count() * 100\n",
    "#print(family_status_debt)\n",
    "data_pivot_family_status = data.pivot_table(index='family_status', columns='debt', values='family_status_id', aggfunc='count')\n",
    "data_pivot_family_status['ratio в %'] = round((data_pivot_family_status[1] / (data_pivot_family_status[0] + data_pivot_family_status[1]) * 100), 1)\n",
    "\n",
    "#data_pivot_family_status['ratio'] = data_pivot_family_status['ratio'].astype('int')\n",
    "print(data_pivot_family_status)"
   ]
  },
  {
   "cell_type": "markdown",
   "metadata": {},
   "source": [
    "**Вывод**"
   ]
  },
  {
   "cell_type": "markdown",
   "metadata": {},
   "source": [
    "Можно сделать вывод, что не состоящие в официальном браке люди более склонны к образованию задолженностей по кредитам."
   ]
  },
  {
   "cell_type": "markdown",
   "metadata": {},
   "source": [
    "\n",
    "- Есть ли зависимость между уровнем дохода и возвратом кредита в срок?"
   ]
  },
  {
   "cell_type": "code",
   "execution_count": 129,
   "metadata": {},
   "outputs": [
    {
     "name": "stdout",
     "output_type": "stream",
     "text": [
      "debt                      0    1  ratio в %\n",
      "income_total_category                      \n",
      "0-30                     20    2        9.1\n",
      "100-150                6413  616        8.8\n",
      "150-300                7885  665        7.8\n",
      "30-50                   329   21        6.0\n",
      "300-500                1169   92        7.3\n",
      "50-100                 3760  331        8.1\n",
      "500+                    208   14        6.3\n"
     ]
    }
   ],
   "source": [
    "#print(data['total_income'].min())\n",
    "#print(data['total_income'].max())\n",
    "#print(data['total_income'].median())\n",
    "#print(data['total_income'].mean())\n",
    "def income_total(data):\n",
    "    if data == 0:\n",
    "        return '0'\n",
    "    elif data <= 30000:\n",
    "        return '0-30'\n",
    "    elif data <= 50000:\n",
    "        return '30-50'\n",
    "    elif data <= 100000:\n",
    "        return '50-100'\n",
    "    elif data <= 150000:\n",
    "        return '100-150'\n",
    "    elif data <= 300000:\n",
    "        return '150-300'\n",
    "    elif data <= 500000:\n",
    "        return '300-500'\n",
    "    else:\n",
    "        return '500+'\n",
    "data['income_total_category'] = data['total_income'].apply(income_total)\n",
    "#print(data)\n",
    "data_pivot_income_total = data.pivot_table(index='income_total_category', columns='debt', values='total_income', aggfunc='count')\n",
    "data_pivot_income_total['ratio в %'] = round((data_pivot_income_total[1] / (data_pivot_income_total[0] + data_pivot_income_total[1]) * 100), 1)\n",
    "print(data_pivot_income_total)"
   ]
  },
  {
   "cell_type": "markdown",
   "metadata": {},
   "source": [
    "**Вывод**"
   ]
  },
  {
   "cell_type": "markdown",
   "metadata": {},
   "source": [
    "Лучше всего показатели среди следующих категорий зарплат:\n",
    "30-50 - 6.0 %;\n",
    "500+ - 6.3 %;\n",
    "150-300 - 7.8 %;\n",
    "300-500 - 7.3 %;\n",
    "\n",
    "Чаще всего имеют проблемы со своевременной оплатой следующий категории:\n",
    "0-30 - 9.1 %;\n",
    "100-150 - 8.8 %;\n",
    "50-100 - 8.1 %\n",
    "\n",
    "Можно сделать вывод, что лучше всего выплачивают кредиты люди с доходом 30-50 тыс.руб. и высокими (от 150 тыс.руб.) доходами.\n",
    "Хуже всего дела обстоят у среднего класса (50-150 тыс.руб.). Категорию 0 и 0-30 не беру в расчет, ввиду неверных данных либо маленькой выборки."
   ]
  },
  {
   "cell_type": "markdown",
   "metadata": {},
   "source": [
    "- Как разные цели кредита влияют на его возврат в срок?"
   ]
  },
  {
   "cell_type": "code",
   "execution_count": 130,
   "metadata": {},
   "outputs": [
    {
     "name": "stdout",
     "output_type": "stream",
     "text": [
      "debt                  0    1  ratio в %\n",
      "purpose_category                       \n",
      "автомобиль         3912  403        9.3\n",
      "недвижимость      10058  782        7.2\n",
      "образование        3652  370        9.2\n",
      "свадьба            2162  186        7.9\n"
     ]
    }
   ],
   "source": [
    "data_pivot_purpose = data.pivot_table(index='purpose_category', columns='debt', values='purpose', aggfunc='count')\n",
    "data_pivot_purpose['ratio в %'] = round((data_pivot_purpose[1] / (data_pivot_purpose[0] + data_pivot_purpose[1]) * 100), 1)\n",
    "#data_pivot_purpose['ratio в %'] = data_pivot_purpose['ratio в %'].astype('int64')\n",
    "print(data_pivot_purpose)"
   ]
  },
  {
   "cell_type": "markdown",
   "metadata": {},
   "source": [
    "**Вывод**"
   ]
  },
  {
   "cell_type": "markdown",
   "metadata": {},
   "source": [
    "Кредиты на меньшие(маленькие) суммы больше подвержены риску несвоевременной выплаты:\n",
    "\n",
    "Автомобиль и образование - 9.3%\n",
    "\n",
    "Кредиты на приобретение недвижимости и проведение свадьбы с наименьшим процентом невыплат - 7.2 и 7.9 соответственно%\n",
    "\n",
    "Лучшая ситуация с оплатой кредитов на недвижимость(в большинстве случаев, скорее всего, ипотека) обуславилвается тем, что такие кредиты берут более осознанно, нежели чем автомобиль или образование, бОльшими штрафными санкциями и суммой платежа(и самого кредита) забыть про который сложнее, нежели маленькую сумму.\n",
    "\n",
    "Меньший процент невыплат среди кредитов на свадьбу по сравнению с кредитами на автомобиль и образование скорее всего обуславливается быстрой окупаемостью(свадьбы)."
   ]
  },
  {
   "cell_type": "markdown",
   "metadata": {},
   "source": [
    "## Шаг 4. Общий вывод"
   ]
  },
  {
   "cell_type": "markdown",
   "metadata": {},
   "source": [
    "Процент должников среди людей с детьми: 9.2%\n",
    "Процент должников среди людей без детей: 7.5%\n",
    "Люди с детьми платят кредиты хуже, но в целом - на одном уровне (разница 1,7%)\n",
    "\n",
    "Не состоящие в официальном браке люди более склонны к образованию задолженностей по кредитам - гражданский брак 9.3 %, а не состоящие в браке - 9.7 % должников, что почти на 2% выше, чем у женатых/замужних.\n",
    "\n",
    "Лучше всего показатели по задолженности среди следующих категорий зарплат:\n",
    "\n",
    "30-50 - 6.0 %;\n",
    "\n",
    "500+ - 6.3 %;\n",
    "\n",
    "150-300 - 7.8 %;\n",
    "\n",
    "300-500 - 7.3 %;\n",
    "\n",
    "Чаще всего имеют проблемы со своевременной оплатой следующий категории:\n",
    "\n",
    "0-30 - 9.1 %;\n",
    "\n",
    "100-150 - 8.8 %;\n",
    "\n",
    "50-100 - 8.1 %\n",
    "\n",
    "Можно сделать вывод, что лучше всего выплачивают кредиты люди с доходом 30-50 тыс.руб. и высокими (от 150 тыс.руб.) доходами.\n",
    "Хуже всего дела обстоят у среднего класса (50-150 тыс.руб.). Категорию 0 и 0-30 не беру в расчет, ввиду неверных данных либо маленькой выборки.\n",
    "\n",
    "Кредиты на меньшие(маленькие) суммы больше подвержены риску несвоевременной выплаты:\n",
    "\n",
    "Автомобиль и образование - 9.3%\n",
    "\n",
    "Кредиты на приобретение недвижимости и проведение свадьбы с наименьшим процентом невыплат - 7.2 и 7.9 соответственно%\n",
    "\n",
    "Лучшая ситуация с оплатой кредитов на недвижимость(в большинстве случаев, скорее всего, ипотека) обуславилвается тем, что такие кредиты берут более осознанно, нежели чем автомобиль или образование, бОльшими штрафными санкциями и суммой платежа(и самого кредита) забыть про который сложнее, нежели маленькую сумму.\n",
    "\n",
    "Меньший процент невыплат среди кредитов на свадьбу по сравнению с кредитами на автомобиль и образование скорее всего обуславливается быстрой окупаемостью(свадьбы)."
   ]
  }
 ],
 "metadata": {
  "kernelspec": {
   "display_name": "Python 3 (ipykernel)",
   "language": "python",
   "name": "python3"
  },
  "language_info": {
   "codemirror_mode": {
    "name": "ipython",
    "version": 3
   },
   "file_extension": ".py",
   "mimetype": "text/x-python",
   "name": "python",
   "nbconvert_exporter": "python",
   "pygments_lexer": "ipython3",
   "version": "3.9.12"
  },
  "toc": {
   "base_numbering": 1,
   "nav_menu": {},
   "number_sections": true,
   "sideBar": true,
   "skip_h1_title": true,
   "title_cell": "Table of Contents",
   "title_sidebar": "Contents",
   "toc_cell": false,
   "toc_position": {},
   "toc_section_display": true,
   "toc_window_display": true
  }
 },
 "nbformat": 4,
 "nbformat_minor": 2
}
