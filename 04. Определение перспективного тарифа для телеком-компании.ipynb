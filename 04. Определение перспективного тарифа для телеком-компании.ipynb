{
 "cells": [
  {
   "cell_type": "markdown",
   "metadata": {},
   "source": [
    "<div class=\"alert alert-success\">\n",
    "<h2>Комментарий ревьюера V.2</h2>\n",
    "\n",
    "Спасибо, что поправил. Удачи в следующих спринтах ✌\n",
    "</div>"
   ]
  },
  {
   "cell_type": "markdown",
   "metadata": {},
   "source": [
    "<div class=\"alert alert-success\">\n",
    "<h2> Комментарий ревьюера</h2>\n",
    "    \n",
    "Привет! Меня зовут Алексей Тюрин, я буду делать ревью твоей работы. Давай будем общаться на «ты».\n",
    "\n",
    "У тебя хорошая, аккуратная работа 👍. Есть небольшая неточность с округлением интернет-трафика, и в конце надо дополнить вывод. В остальном всё здорово, можешь посмотреть комментарии и задать вопросы, если есть :)\n",
    "\n",
    "\n",
    "Зелёным цветом отмечены комментарии, формально не требующие правки, но правки приветствуются. Жёлтым цветом выделено то, что в следующий раз можно сделать по-другому или можно поправить прямо сейчас.\n",
    "\n",
    "Давай работать над проектом в диалоге: если ты **что-то меняешь** в проекте по моим рекомендациям — **пиши об этом**. Выбери для своих комментариев какой-то заметный цвет, так мне будет легче отследить изменения. Пожалуйста, **не перемещай, не изменяй и не удаляй мои комментарии**. Всё это поможет выполнить повторную проверку твоего проекта оперативнее». Если оставляешь комментарии на какой-то итерации ревью, пиши что-то вроде `комментарий студента V.номер итерации`\n",
    "</div>\n",
    "\n",
    "Цвет можно сделать, например, так\n",
    "\n",
    "<div class = \"alert alert-info\" >\n",
    "<h2>Комментарий студента</h2>\n",
    "Ревьюер душнила :)\n",
    "</div>\n",
    "\n",
    "Или так:\n",
    "    \n",
    "<div class=\"alert alert-info\" style=\"background:pink;color:#A91E69\">\n",
    "<h2>Комментарий студента </h2>\n",
    "    ...\n",
    "</div>"
   ]
  },
  {
   "cell_type": "code",
   "execution_count": 1,
   "metadata": {},
   "outputs": [],
   "source": [
    "import pandas as pd\n",
    "import numpy as np\n",
    "import matplotlib.pyplot as plt\n",
    "from scipy import stats as st"
   ]
  },
  {
   "cell_type": "markdown",
   "metadata": {},
   "source": [
    "**Шаг 1. Откройте файл с данными и изучите общую информацию**"
   ]
  },
  {
   "cell_type": "code",
   "execution_count": 2,
   "metadata": {},
   "outputs": [],
   "source": [
    "calls = pd.read_csv('/datasets/calls.csv')\n",
    "internet = pd.read_csv('/datasets/internet.csv', index_col=0)\n",
    "messages = pd.read_csv('/datasets/messages.csv')\n",
    "tariffs = pd.read_csv('/datasets/tariffs.csv')\n",
    "users = pd.read_csv('/datasets/users.csv')"
   ]
  },
  {
   "cell_type": "markdown",
   "metadata": {},
   "source": [
    "**Calls**"
   ]
  },
  {
   "cell_type": "code",
   "execution_count": 3,
   "metadata": {},
   "outputs": [
    {
     "name": "stdout",
     "output_type": "stream",
     "text": [
      "<class 'pandas.core.frame.DataFrame'>\n",
      "RangeIndex: 202607 entries, 0 to 202606\n",
      "Data columns (total 4 columns):\n",
      "id           202607 non-null object\n",
      "call_date    202607 non-null object\n",
      "duration     202607 non-null float64\n",
      "user_id      202607 non-null int64\n",
      "dtypes: float64(1), int64(1), object(2)\n",
      "memory usage: 6.2+ MB\n"
     ]
    },
    {
     "data": {
      "text/html": [
       "<div>\n",
       "<style scoped>\n",
       "    .dataframe tbody tr th:only-of-type {\n",
       "        vertical-align: middle;\n",
       "    }\n",
       "\n",
       "    .dataframe tbody tr th {\n",
       "        vertical-align: top;\n",
       "    }\n",
       "\n",
       "    .dataframe thead th {\n",
       "        text-align: right;\n",
       "    }\n",
       "</style>\n",
       "<table border=\"1\" class=\"dataframe\">\n",
       "  <thead>\n",
       "    <tr style=\"text-align: right;\">\n",
       "      <th></th>\n",
       "      <th>id</th>\n",
       "      <th>call_date</th>\n",
       "      <th>duration</th>\n",
       "      <th>user_id</th>\n",
       "    </tr>\n",
       "  </thead>\n",
       "  <tbody>\n",
       "    <tr>\n",
       "      <td>0</td>\n",
       "      <td>1000_0</td>\n",
       "      <td>2018-07-25</td>\n",
       "      <td>0.00</td>\n",
       "      <td>1000</td>\n",
       "    </tr>\n",
       "    <tr>\n",
       "      <td>1</td>\n",
       "      <td>1000_1</td>\n",
       "      <td>2018-08-17</td>\n",
       "      <td>0.00</td>\n",
       "      <td>1000</td>\n",
       "    </tr>\n",
       "    <tr>\n",
       "      <td>2</td>\n",
       "      <td>1000_2</td>\n",
       "      <td>2018-06-11</td>\n",
       "      <td>2.85</td>\n",
       "      <td>1000</td>\n",
       "    </tr>\n",
       "    <tr>\n",
       "      <td>3</td>\n",
       "      <td>1000_3</td>\n",
       "      <td>2018-09-21</td>\n",
       "      <td>13.80</td>\n",
       "      <td>1000</td>\n",
       "    </tr>\n",
       "    <tr>\n",
       "      <td>4</td>\n",
       "      <td>1000_4</td>\n",
       "      <td>2018-12-15</td>\n",
       "      <td>5.18</td>\n",
       "      <td>1000</td>\n",
       "    </tr>\n",
       "    <tr>\n",
       "      <td>...</td>\n",
       "      <td>...</td>\n",
       "      <td>...</td>\n",
       "      <td>...</td>\n",
       "      <td>...</td>\n",
       "    </tr>\n",
       "    <tr>\n",
       "      <td>202602</td>\n",
       "      <td>1499_215</td>\n",
       "      <td>2018-12-26</td>\n",
       "      <td>0.76</td>\n",
       "      <td>1499</td>\n",
       "    </tr>\n",
       "    <tr>\n",
       "      <td>202603</td>\n",
       "      <td>1499_216</td>\n",
       "      <td>2018-10-18</td>\n",
       "      <td>18.83</td>\n",
       "      <td>1499</td>\n",
       "    </tr>\n",
       "    <tr>\n",
       "      <td>202604</td>\n",
       "      <td>1499_217</td>\n",
       "      <td>2018-11-10</td>\n",
       "      <td>10.81</td>\n",
       "      <td>1499</td>\n",
       "    </tr>\n",
       "    <tr>\n",
       "      <td>202605</td>\n",
       "      <td>1499_218</td>\n",
       "      <td>2018-10-06</td>\n",
       "      <td>4.27</td>\n",
       "      <td>1499</td>\n",
       "    </tr>\n",
       "    <tr>\n",
       "      <td>202606</td>\n",
       "      <td>1499_219</td>\n",
       "      <td>2018-12-14</td>\n",
       "      <td>19.62</td>\n",
       "      <td>1499</td>\n",
       "    </tr>\n",
       "  </tbody>\n",
       "</table>\n",
       "<p>202607 rows × 4 columns</p>\n",
       "</div>"
      ],
      "text/plain": [
       "              id   call_date  duration  user_id\n",
       "0         1000_0  2018-07-25      0.00     1000\n",
       "1         1000_1  2018-08-17      0.00     1000\n",
       "2         1000_2  2018-06-11      2.85     1000\n",
       "3         1000_3  2018-09-21     13.80     1000\n",
       "4         1000_4  2018-12-15      5.18     1000\n",
       "...          ...         ...       ...      ...\n",
       "202602  1499_215  2018-12-26      0.76     1499\n",
       "202603  1499_216  2018-10-18     18.83     1499\n",
       "202604  1499_217  2018-11-10     10.81     1499\n",
       "202605  1499_218  2018-10-06      4.27     1499\n",
       "202606  1499_219  2018-12-14     19.62     1499\n",
       "\n",
       "[202607 rows x 4 columns]"
      ]
     },
     "execution_count": 3,
     "metadata": {},
     "output_type": "execute_result"
    }
   ],
   "source": [
    "calls.info()\n",
    "calls"
   ]
  },
  {
   "cell_type": "markdown",
   "metadata": {},
   "source": [
    "**Internet**"
   ]
  },
  {
   "cell_type": "code",
   "execution_count": 4,
   "metadata": {},
   "outputs": [
    {
     "name": "stdout",
     "output_type": "stream",
     "text": [
      "<class 'pandas.core.frame.DataFrame'>\n",
      "Int64Index: 149396 entries, 0 to 149395\n",
      "Data columns (total 4 columns):\n",
      "id              149396 non-null object\n",
      "mb_used         149396 non-null float64\n",
      "session_date    149396 non-null object\n",
      "user_id         149396 non-null int64\n",
      "dtypes: float64(1), int64(1), object(2)\n",
      "memory usage: 5.7+ MB\n"
     ]
    },
    {
     "data": {
      "text/html": [
       "<div>\n",
       "<style scoped>\n",
       "    .dataframe tbody tr th:only-of-type {\n",
       "        vertical-align: middle;\n",
       "    }\n",
       "\n",
       "    .dataframe tbody tr th {\n",
       "        vertical-align: top;\n",
       "    }\n",
       "\n",
       "    .dataframe thead th {\n",
       "        text-align: right;\n",
       "    }\n",
       "</style>\n",
       "<table border=\"1\" class=\"dataframe\">\n",
       "  <thead>\n",
       "    <tr style=\"text-align: right;\">\n",
       "      <th></th>\n",
       "      <th>id</th>\n",
       "      <th>mb_used</th>\n",
       "      <th>session_date</th>\n",
       "      <th>user_id</th>\n",
       "    </tr>\n",
       "  </thead>\n",
       "  <tbody>\n",
       "    <tr>\n",
       "      <td>0</td>\n",
       "      <td>1000_0</td>\n",
       "      <td>112.95</td>\n",
       "      <td>2018-11-25</td>\n",
       "      <td>1000</td>\n",
       "    </tr>\n",
       "    <tr>\n",
       "      <td>1</td>\n",
       "      <td>1000_1</td>\n",
       "      <td>1052.81</td>\n",
       "      <td>2018-09-07</td>\n",
       "      <td>1000</td>\n",
       "    </tr>\n",
       "    <tr>\n",
       "      <td>2</td>\n",
       "      <td>1000_2</td>\n",
       "      <td>1197.26</td>\n",
       "      <td>2018-06-25</td>\n",
       "      <td>1000</td>\n",
       "    </tr>\n",
       "    <tr>\n",
       "      <td>3</td>\n",
       "      <td>1000_3</td>\n",
       "      <td>550.27</td>\n",
       "      <td>2018-08-22</td>\n",
       "      <td>1000</td>\n",
       "    </tr>\n",
       "    <tr>\n",
       "      <td>4</td>\n",
       "      <td>1000_4</td>\n",
       "      <td>302.56</td>\n",
       "      <td>2018-09-24</td>\n",
       "      <td>1000</td>\n",
       "    </tr>\n",
       "    <tr>\n",
       "      <td>...</td>\n",
       "      <td>...</td>\n",
       "      <td>...</td>\n",
       "      <td>...</td>\n",
       "      <td>...</td>\n",
       "    </tr>\n",
       "    <tr>\n",
       "      <td>149391</td>\n",
       "      <td>1499_152</td>\n",
       "      <td>318.90</td>\n",
       "      <td>2018-10-03</td>\n",
       "      <td>1499</td>\n",
       "    </tr>\n",
       "    <tr>\n",
       "      <td>149392</td>\n",
       "      <td>1499_153</td>\n",
       "      <td>490.13</td>\n",
       "      <td>2018-12-14</td>\n",
       "      <td>1499</td>\n",
       "    </tr>\n",
       "    <tr>\n",
       "      <td>149393</td>\n",
       "      <td>1499_154</td>\n",
       "      <td>0.00</td>\n",
       "      <td>2018-10-27</td>\n",
       "      <td>1499</td>\n",
       "    </tr>\n",
       "    <tr>\n",
       "      <td>149394</td>\n",
       "      <td>1499_155</td>\n",
       "      <td>1246.32</td>\n",
       "      <td>2018-11-26</td>\n",
       "      <td>1499</td>\n",
       "    </tr>\n",
       "    <tr>\n",
       "      <td>149395</td>\n",
       "      <td>1499_156</td>\n",
       "      <td>544.37</td>\n",
       "      <td>2018-10-26</td>\n",
       "      <td>1499</td>\n",
       "    </tr>\n",
       "  </tbody>\n",
       "</table>\n",
       "<p>149396 rows × 4 columns</p>\n",
       "</div>"
      ],
      "text/plain": [
       "              id  mb_used session_date  user_id\n",
       "0         1000_0   112.95   2018-11-25     1000\n",
       "1         1000_1  1052.81   2018-09-07     1000\n",
       "2         1000_2  1197.26   2018-06-25     1000\n",
       "3         1000_3   550.27   2018-08-22     1000\n",
       "4         1000_4   302.56   2018-09-24     1000\n",
       "...          ...      ...          ...      ...\n",
       "149391  1499_152   318.90   2018-10-03     1499\n",
       "149392  1499_153   490.13   2018-12-14     1499\n",
       "149393  1499_154     0.00   2018-10-27     1499\n",
       "149394  1499_155  1246.32   2018-11-26     1499\n",
       "149395  1499_156   544.37   2018-10-26     1499\n",
       "\n",
       "[149396 rows x 4 columns]"
      ]
     },
     "execution_count": 4,
     "metadata": {},
     "output_type": "execute_result"
    }
   ],
   "source": [
    "internet.info()\n",
    "internet"
   ]
  },
  {
   "cell_type": "markdown",
   "metadata": {},
   "source": [
    "<div class=\"alert alert-success\">\n",
    "<h2>Комментарий ревьюера</h2>\n",
    "\n",
    "Тут можно заметить столбец `Unnamed: 0`, он возникает, когда данные сохраняют с указанием индекса `pd.DataFrame().to_csv(..., index=column)`. Если при чтении указать этот столбец `pd.read_csv(..., index_col=0)` - данные сразу прочитаются корректно.\n",
    "</div>"
   ]
  },
  {
   "cell_type": "markdown",
   "metadata": {},
   "source": [
    "**Messages**"
   ]
  },
  {
   "cell_type": "code",
   "execution_count": 5,
   "metadata": {},
   "outputs": [
    {
     "name": "stdout",
     "output_type": "stream",
     "text": [
      "<class 'pandas.core.frame.DataFrame'>\n",
      "RangeIndex: 123036 entries, 0 to 123035\n",
      "Data columns (total 3 columns):\n",
      "id              123036 non-null object\n",
      "message_date    123036 non-null object\n",
      "user_id         123036 non-null int64\n",
      "dtypes: int64(1), object(2)\n",
      "memory usage: 2.8+ MB\n"
     ]
    },
    {
     "data": {
      "text/html": [
       "<div>\n",
       "<style scoped>\n",
       "    .dataframe tbody tr th:only-of-type {\n",
       "        vertical-align: middle;\n",
       "    }\n",
       "\n",
       "    .dataframe tbody tr th {\n",
       "        vertical-align: top;\n",
       "    }\n",
       "\n",
       "    .dataframe thead th {\n",
       "        text-align: right;\n",
       "    }\n",
       "</style>\n",
       "<table border=\"1\" class=\"dataframe\">\n",
       "  <thead>\n",
       "    <tr style=\"text-align: right;\">\n",
       "      <th></th>\n",
       "      <th>id</th>\n",
       "      <th>message_date</th>\n",
       "      <th>user_id</th>\n",
       "    </tr>\n",
       "  </thead>\n",
       "  <tbody>\n",
       "    <tr>\n",
       "      <td>0</td>\n",
       "      <td>1000_0</td>\n",
       "      <td>2018-06-27</td>\n",
       "      <td>1000</td>\n",
       "    </tr>\n",
       "    <tr>\n",
       "      <td>1</td>\n",
       "      <td>1000_1</td>\n",
       "      <td>2018-10-08</td>\n",
       "      <td>1000</td>\n",
       "    </tr>\n",
       "    <tr>\n",
       "      <td>2</td>\n",
       "      <td>1000_2</td>\n",
       "      <td>2018-08-04</td>\n",
       "      <td>1000</td>\n",
       "    </tr>\n",
       "    <tr>\n",
       "      <td>3</td>\n",
       "      <td>1000_3</td>\n",
       "      <td>2018-06-16</td>\n",
       "      <td>1000</td>\n",
       "    </tr>\n",
       "    <tr>\n",
       "      <td>4</td>\n",
       "      <td>1000_4</td>\n",
       "      <td>2018-12-05</td>\n",
       "      <td>1000</td>\n",
       "    </tr>\n",
       "    <tr>\n",
       "      <td>...</td>\n",
       "      <td>...</td>\n",
       "      <td>...</td>\n",
       "      <td>...</td>\n",
       "    </tr>\n",
       "    <tr>\n",
       "      <td>123031</td>\n",
       "      <td>1499_179</td>\n",
       "      <td>2018-12-12</td>\n",
       "      <td>1499</td>\n",
       "    </tr>\n",
       "    <tr>\n",
       "      <td>123032</td>\n",
       "      <td>1499_180</td>\n",
       "      <td>2018-09-28</td>\n",
       "      <td>1499</td>\n",
       "    </tr>\n",
       "    <tr>\n",
       "      <td>123033</td>\n",
       "      <td>1499_181</td>\n",
       "      <td>2018-09-27</td>\n",
       "      <td>1499</td>\n",
       "    </tr>\n",
       "    <tr>\n",
       "      <td>123034</td>\n",
       "      <td>1499_182</td>\n",
       "      <td>2018-11-15</td>\n",
       "      <td>1499</td>\n",
       "    </tr>\n",
       "    <tr>\n",
       "      <td>123035</td>\n",
       "      <td>1499_183</td>\n",
       "      <td>2018-11-16</td>\n",
       "      <td>1499</td>\n",
       "    </tr>\n",
       "  </tbody>\n",
       "</table>\n",
       "<p>123036 rows × 3 columns</p>\n",
       "</div>"
      ],
      "text/plain": [
       "              id message_date  user_id\n",
       "0         1000_0   2018-06-27     1000\n",
       "1         1000_1   2018-10-08     1000\n",
       "2         1000_2   2018-08-04     1000\n",
       "3         1000_3   2018-06-16     1000\n",
       "4         1000_4   2018-12-05     1000\n",
       "...          ...          ...      ...\n",
       "123031  1499_179   2018-12-12     1499\n",
       "123032  1499_180   2018-09-28     1499\n",
       "123033  1499_181   2018-09-27     1499\n",
       "123034  1499_182   2018-11-15     1499\n",
       "123035  1499_183   2018-11-16     1499\n",
       "\n",
       "[123036 rows x 3 columns]"
      ]
     },
     "execution_count": 5,
     "metadata": {},
     "output_type": "execute_result"
    }
   ],
   "source": [
    "messages.info()\n",
    "messages"
   ]
  },
  {
   "cell_type": "markdown",
   "metadata": {},
   "source": [
    "**Tariffs**"
   ]
  },
  {
   "cell_type": "code",
   "execution_count": 6,
   "metadata": {},
   "outputs": [
    {
     "name": "stdout",
     "output_type": "stream",
     "text": [
      "<class 'pandas.core.frame.DataFrame'>\n",
      "RangeIndex: 2 entries, 0 to 1\n",
      "Data columns (total 8 columns):\n",
      "messages_included        2 non-null int64\n",
      "mb_per_month_included    2 non-null int64\n",
      "minutes_included         2 non-null int64\n",
      "rub_monthly_fee          2 non-null int64\n",
      "rub_per_gb               2 non-null int64\n",
      "rub_per_message          2 non-null int64\n",
      "rub_per_minute           2 non-null int64\n",
      "tariff_name              2 non-null object\n",
      "dtypes: int64(7), object(1)\n",
      "memory usage: 256.0+ bytes\n"
     ]
    },
    {
     "data": {
      "text/html": [
       "<div>\n",
       "<style scoped>\n",
       "    .dataframe tbody tr th:only-of-type {\n",
       "        vertical-align: middle;\n",
       "    }\n",
       "\n",
       "    .dataframe tbody tr th {\n",
       "        vertical-align: top;\n",
       "    }\n",
       "\n",
       "    .dataframe thead th {\n",
       "        text-align: right;\n",
       "    }\n",
       "</style>\n",
       "<table border=\"1\" class=\"dataframe\">\n",
       "  <thead>\n",
       "    <tr style=\"text-align: right;\">\n",
       "      <th></th>\n",
       "      <th>messages_included</th>\n",
       "      <th>mb_per_month_included</th>\n",
       "      <th>minutes_included</th>\n",
       "      <th>rub_monthly_fee</th>\n",
       "      <th>rub_per_gb</th>\n",
       "      <th>rub_per_message</th>\n",
       "      <th>rub_per_minute</th>\n",
       "      <th>tariff_name</th>\n",
       "    </tr>\n",
       "  </thead>\n",
       "  <tbody>\n",
       "    <tr>\n",
       "      <td>0</td>\n",
       "      <td>50</td>\n",
       "      <td>15360</td>\n",
       "      <td>500</td>\n",
       "      <td>550</td>\n",
       "      <td>200</td>\n",
       "      <td>3</td>\n",
       "      <td>3</td>\n",
       "      <td>smart</td>\n",
       "    </tr>\n",
       "    <tr>\n",
       "      <td>1</td>\n",
       "      <td>1000</td>\n",
       "      <td>30720</td>\n",
       "      <td>3000</td>\n",
       "      <td>1950</td>\n",
       "      <td>150</td>\n",
       "      <td>1</td>\n",
       "      <td>1</td>\n",
       "      <td>ultra</td>\n",
       "    </tr>\n",
       "  </tbody>\n",
       "</table>\n",
       "</div>"
      ],
      "text/plain": [
       "   messages_included  mb_per_month_included  minutes_included  \\\n",
       "0                 50                  15360               500   \n",
       "1               1000                  30720              3000   \n",
       "\n",
       "   rub_monthly_fee  rub_per_gb  rub_per_message  rub_per_minute tariff_name  \n",
       "0              550         200                3               3       smart  \n",
       "1             1950         150                1               1       ultra  "
      ]
     },
     "execution_count": 6,
     "metadata": {},
     "output_type": "execute_result"
    }
   ],
   "source": [
    "tariffs.info()\n",
    "tariffs"
   ]
  },
  {
   "cell_type": "markdown",
   "metadata": {},
   "source": [
    "**Users**"
   ]
  },
  {
   "cell_type": "code",
   "execution_count": 7,
   "metadata": {},
   "outputs": [
    {
     "name": "stdout",
     "output_type": "stream",
     "text": [
      "<class 'pandas.core.frame.DataFrame'>\n",
      "RangeIndex: 500 entries, 0 to 499\n",
      "Data columns (total 8 columns):\n",
      "user_id       500 non-null int64\n",
      "age           500 non-null int64\n",
      "churn_date    38 non-null object\n",
      "city          500 non-null object\n",
      "first_name    500 non-null object\n",
      "last_name     500 non-null object\n",
      "reg_date      500 non-null object\n",
      "tariff        500 non-null object\n",
      "dtypes: int64(2), object(6)\n",
      "memory usage: 31.4+ KB\n"
     ]
    },
    {
     "data": {
      "text/html": [
       "<div>\n",
       "<style scoped>\n",
       "    .dataframe tbody tr th:only-of-type {\n",
       "        vertical-align: middle;\n",
       "    }\n",
       "\n",
       "    .dataframe tbody tr th {\n",
       "        vertical-align: top;\n",
       "    }\n",
       "\n",
       "    .dataframe thead th {\n",
       "        text-align: right;\n",
       "    }\n",
       "</style>\n",
       "<table border=\"1\" class=\"dataframe\">\n",
       "  <thead>\n",
       "    <tr style=\"text-align: right;\">\n",
       "      <th></th>\n",
       "      <th>user_id</th>\n",
       "      <th>age</th>\n",
       "      <th>churn_date</th>\n",
       "      <th>city</th>\n",
       "      <th>first_name</th>\n",
       "      <th>last_name</th>\n",
       "      <th>reg_date</th>\n",
       "      <th>tariff</th>\n",
       "    </tr>\n",
       "  </thead>\n",
       "  <tbody>\n",
       "    <tr>\n",
       "      <td>0</td>\n",
       "      <td>1000</td>\n",
       "      <td>52</td>\n",
       "      <td>NaN</td>\n",
       "      <td>Краснодар</td>\n",
       "      <td>Рафаил</td>\n",
       "      <td>Верещагин</td>\n",
       "      <td>2018-05-25</td>\n",
       "      <td>ultra</td>\n",
       "    </tr>\n",
       "    <tr>\n",
       "      <td>1</td>\n",
       "      <td>1001</td>\n",
       "      <td>41</td>\n",
       "      <td>NaN</td>\n",
       "      <td>Москва</td>\n",
       "      <td>Иван</td>\n",
       "      <td>Ежов</td>\n",
       "      <td>2018-11-01</td>\n",
       "      <td>smart</td>\n",
       "    </tr>\n",
       "    <tr>\n",
       "      <td>2</td>\n",
       "      <td>1002</td>\n",
       "      <td>59</td>\n",
       "      <td>NaN</td>\n",
       "      <td>Стерлитамак</td>\n",
       "      <td>Евгений</td>\n",
       "      <td>Абрамович</td>\n",
       "      <td>2018-06-17</td>\n",
       "      <td>smart</td>\n",
       "    </tr>\n",
       "    <tr>\n",
       "      <td>3</td>\n",
       "      <td>1003</td>\n",
       "      <td>23</td>\n",
       "      <td>NaN</td>\n",
       "      <td>Москва</td>\n",
       "      <td>Белла</td>\n",
       "      <td>Белякова</td>\n",
       "      <td>2018-08-17</td>\n",
       "      <td>ultra</td>\n",
       "    </tr>\n",
       "    <tr>\n",
       "      <td>4</td>\n",
       "      <td>1004</td>\n",
       "      <td>68</td>\n",
       "      <td>NaN</td>\n",
       "      <td>Новокузнецк</td>\n",
       "      <td>Татьяна</td>\n",
       "      <td>Авдеенко</td>\n",
       "      <td>2018-05-14</td>\n",
       "      <td>ultra</td>\n",
       "    </tr>\n",
       "    <tr>\n",
       "      <td>...</td>\n",
       "      <td>...</td>\n",
       "      <td>...</td>\n",
       "      <td>...</td>\n",
       "      <td>...</td>\n",
       "      <td>...</td>\n",
       "      <td>...</td>\n",
       "      <td>...</td>\n",
       "      <td>...</td>\n",
       "    </tr>\n",
       "    <tr>\n",
       "      <td>495</td>\n",
       "      <td>1495</td>\n",
       "      <td>65</td>\n",
       "      <td>NaN</td>\n",
       "      <td>Иркутск</td>\n",
       "      <td>Авксентий</td>\n",
       "      <td>Фокин</td>\n",
       "      <td>2018-08-28</td>\n",
       "      <td>ultra</td>\n",
       "    </tr>\n",
       "    <tr>\n",
       "      <td>496</td>\n",
       "      <td>1496</td>\n",
       "      <td>36</td>\n",
       "      <td>NaN</td>\n",
       "      <td>Вологда</td>\n",
       "      <td>Трифон</td>\n",
       "      <td>Блохин</td>\n",
       "      <td>2018-01-27</td>\n",
       "      <td>smart</td>\n",
       "    </tr>\n",
       "    <tr>\n",
       "      <td>497</td>\n",
       "      <td>1497</td>\n",
       "      <td>32</td>\n",
       "      <td>NaN</td>\n",
       "      <td>Челябинск</td>\n",
       "      <td>Каролина</td>\n",
       "      <td>Агеева</td>\n",
       "      <td>2018-10-09</td>\n",
       "      <td>smart</td>\n",
       "    </tr>\n",
       "    <tr>\n",
       "      <td>498</td>\n",
       "      <td>1498</td>\n",
       "      <td>68</td>\n",
       "      <td>2018-10-25</td>\n",
       "      <td>Владикавказ</td>\n",
       "      <td>Всеволод</td>\n",
       "      <td>Акимчин</td>\n",
       "      <td>2018-07-19</td>\n",
       "      <td>smart</td>\n",
       "    </tr>\n",
       "    <tr>\n",
       "      <td>499</td>\n",
       "      <td>1499</td>\n",
       "      <td>35</td>\n",
       "      <td>NaN</td>\n",
       "      <td>Пермь</td>\n",
       "      <td>Гектор</td>\n",
       "      <td>Корнилов</td>\n",
       "      <td>2018-09-27</td>\n",
       "      <td>smart</td>\n",
       "    </tr>\n",
       "  </tbody>\n",
       "</table>\n",
       "<p>500 rows × 8 columns</p>\n",
       "</div>"
      ],
      "text/plain": [
       "     user_id  age  churn_date         city first_name  last_name    reg_date  \\\n",
       "0       1000   52         NaN    Краснодар     Рафаил  Верещагин  2018-05-25   \n",
       "1       1001   41         NaN       Москва       Иван       Ежов  2018-11-01   \n",
       "2       1002   59         NaN  Стерлитамак    Евгений  Абрамович  2018-06-17   \n",
       "3       1003   23         NaN       Москва      Белла   Белякова  2018-08-17   \n",
       "4       1004   68         NaN  Новокузнецк    Татьяна   Авдеенко  2018-05-14   \n",
       "..       ...  ...         ...          ...        ...        ...         ...   \n",
       "495     1495   65         NaN      Иркутск  Авксентий      Фокин  2018-08-28   \n",
       "496     1496   36         NaN      Вологда     Трифон     Блохин  2018-01-27   \n",
       "497     1497   32         NaN    Челябинск   Каролина     Агеева  2018-10-09   \n",
       "498     1498   68  2018-10-25  Владикавказ   Всеволод    Акимчин  2018-07-19   \n",
       "499     1499   35         NaN        Пермь     Гектор   Корнилов  2018-09-27   \n",
       "\n",
       "    tariff  \n",
       "0    ultra  \n",
       "1    smart  \n",
       "2    smart  \n",
       "3    ultra  \n",
       "4    ultra  \n",
       "..     ...  \n",
       "495  ultra  \n",
       "496  smart  \n",
       "497  smart  \n",
       "498  smart  \n",
       "499  smart  \n",
       "\n",
       "[500 rows x 8 columns]"
      ]
     },
     "execution_count": 7,
     "metadata": {},
     "output_type": "execute_result"
    }
   ],
   "source": [
    "users.info()\n",
    "users"
   ]
  },
  {
   "cell_type": "markdown",
   "metadata": {},
   "source": [
    "**Шаг 2. Подготовьте данные**"
   ]
  },
  {
   "cell_type": "markdown",
   "metadata": {},
   "source": [
    "**Приведем даты к правильному типу данных:**"
   ]
  },
  {
   "cell_type": "code",
   "execution_count": 8,
   "metadata": {},
   "outputs": [],
   "source": [
    "calls['call_date'] = pd.to_datetime(calls['call_date'], format='%Y-%m-%d')\n",
    "internet['session_date'] = pd.to_datetime(internet['session_date'], format='%Y-%m-%d')\n",
    "messages['message_date'] = pd.to_datetime(messages['message_date'], format='%Y-%m-%d')\n",
    "users['churn_date'] = pd.to_datetime(users['churn_date'], format='%Y-%m-%d')\n",
    "users['reg_date'] = pd.to_datetime(users['reg_date'], format='%Y-%m-%d')"
   ]
  },
  {
   "cell_type": "markdown",
   "metadata": {},
   "source": [
    "**Добавим столбец Month в файлы Calls, Internet, Messages**"
   ]
  },
  {
   "cell_type": "code",
   "execution_count": 9,
   "metadata": {},
   "outputs": [],
   "source": [
    "calls['month'] = pd.DatetimeIndex(calls['call_date']).month\n",
    "internet['month'] = pd.DatetimeIndex(internet['session_date']).month\n",
    "messages['month'] = pd.DatetimeIndex(messages['message_date']).month"
   ]
  },
  {
   "cell_type": "markdown",
   "metadata": {},
   "source": [
    "<div class=\"alert alert-success\">\n",
    "<h2>Комментарий ревьюера</h2>\n",
    "\n",
    "Чтобы так выделять месяц, надо быть уверенным, что все сессии были в пределах одного года, иначе метод склеит месяцы для разных лет в один. Можно либо руками проверить, что всё ок, либо пользоваться `astype('datetime64[M]')` -- он вернёт месяц вместе с годом\n",
    "</div>"
   ]
  },
  {
   "cell_type": "code",
   "execution_count": 10,
   "metadata": {},
   "outputs": [
    {
     "data": {
      "text/html": [
       "<div>\n",
       "<style scoped>\n",
       "    .dataframe tbody tr th:only-of-type {\n",
       "        vertical-align: middle;\n",
       "    }\n",
       "\n",
       "    .dataframe tbody tr th {\n",
       "        vertical-align: top;\n",
       "    }\n",
       "\n",
       "    .dataframe thead th {\n",
       "        text-align: right;\n",
       "    }\n",
       "</style>\n",
       "<table border=\"1\" class=\"dataframe\">\n",
       "  <thead>\n",
       "    <tr style=\"text-align: right;\">\n",
       "      <th></th>\n",
       "      <th>id</th>\n",
       "      <th>call_date</th>\n",
       "      <th>duration</th>\n",
       "      <th>user_id</th>\n",
       "      <th>month</th>\n",
       "    </tr>\n",
       "  </thead>\n",
       "  <tbody>\n",
       "    <tr>\n",
       "      <td>0</td>\n",
       "      <td>1000_0</td>\n",
       "      <td>2018-07-25</td>\n",
       "      <td>0.00</td>\n",
       "      <td>1000</td>\n",
       "      <td>7</td>\n",
       "    </tr>\n",
       "    <tr>\n",
       "      <td>1</td>\n",
       "      <td>1000_1</td>\n",
       "      <td>2018-08-17</td>\n",
       "      <td>0.00</td>\n",
       "      <td>1000</td>\n",
       "      <td>8</td>\n",
       "    </tr>\n",
       "    <tr>\n",
       "      <td>2</td>\n",
       "      <td>1000_2</td>\n",
       "      <td>2018-06-11</td>\n",
       "      <td>2.85</td>\n",
       "      <td>1000</td>\n",
       "      <td>6</td>\n",
       "    </tr>\n",
       "    <tr>\n",
       "      <td>3</td>\n",
       "      <td>1000_3</td>\n",
       "      <td>2018-09-21</td>\n",
       "      <td>13.80</td>\n",
       "      <td>1000</td>\n",
       "      <td>9</td>\n",
       "    </tr>\n",
       "    <tr>\n",
       "      <td>4</td>\n",
       "      <td>1000_4</td>\n",
       "      <td>2018-12-15</td>\n",
       "      <td>5.18</td>\n",
       "      <td>1000</td>\n",
       "      <td>12</td>\n",
       "    </tr>\n",
       "    <tr>\n",
       "      <td>...</td>\n",
       "      <td>...</td>\n",
       "      <td>...</td>\n",
       "      <td>...</td>\n",
       "      <td>...</td>\n",
       "      <td>...</td>\n",
       "    </tr>\n",
       "    <tr>\n",
       "      <td>202602</td>\n",
       "      <td>1499_215</td>\n",
       "      <td>2018-12-26</td>\n",
       "      <td>0.76</td>\n",
       "      <td>1499</td>\n",
       "      <td>12</td>\n",
       "    </tr>\n",
       "    <tr>\n",
       "      <td>202603</td>\n",
       "      <td>1499_216</td>\n",
       "      <td>2018-10-18</td>\n",
       "      <td>18.83</td>\n",
       "      <td>1499</td>\n",
       "      <td>10</td>\n",
       "    </tr>\n",
       "    <tr>\n",
       "      <td>202604</td>\n",
       "      <td>1499_217</td>\n",
       "      <td>2018-11-10</td>\n",
       "      <td>10.81</td>\n",
       "      <td>1499</td>\n",
       "      <td>11</td>\n",
       "    </tr>\n",
       "    <tr>\n",
       "      <td>202605</td>\n",
       "      <td>1499_218</td>\n",
       "      <td>2018-10-06</td>\n",
       "      <td>4.27</td>\n",
       "      <td>1499</td>\n",
       "      <td>10</td>\n",
       "    </tr>\n",
       "    <tr>\n",
       "      <td>202606</td>\n",
       "      <td>1499_219</td>\n",
       "      <td>2018-12-14</td>\n",
       "      <td>19.62</td>\n",
       "      <td>1499</td>\n",
       "      <td>12</td>\n",
       "    </tr>\n",
       "  </tbody>\n",
       "</table>\n",
       "<p>202607 rows × 5 columns</p>\n",
       "</div>"
      ],
      "text/plain": [
       "              id  call_date  duration  user_id  month\n",
       "0         1000_0 2018-07-25      0.00     1000      7\n",
       "1         1000_1 2018-08-17      0.00     1000      8\n",
       "2         1000_2 2018-06-11      2.85     1000      6\n",
       "3         1000_3 2018-09-21     13.80     1000      9\n",
       "4         1000_4 2018-12-15      5.18     1000     12\n",
       "...          ...        ...       ...      ...    ...\n",
       "202602  1499_215 2018-12-26      0.76     1499     12\n",
       "202603  1499_216 2018-10-18     18.83     1499     10\n",
       "202604  1499_217 2018-11-10     10.81     1499     11\n",
       "202605  1499_218 2018-10-06      4.27     1499     10\n",
       "202606  1499_219 2018-12-14     19.62     1499     12\n",
       "\n",
       "[202607 rows x 5 columns]"
      ]
     },
     "execution_count": 10,
     "metadata": {},
     "output_type": "execute_result"
    }
   ],
   "source": [
    "calls"
   ]
  },
  {
   "cell_type": "code",
   "execution_count": 11,
   "metadata": {},
   "outputs": [
    {
     "data": {
      "text/html": [
       "<div>\n",
       "<style scoped>\n",
       "    .dataframe tbody tr th:only-of-type {\n",
       "        vertical-align: middle;\n",
       "    }\n",
       "\n",
       "    .dataframe tbody tr th {\n",
       "        vertical-align: top;\n",
       "    }\n",
       "\n",
       "    .dataframe thead th {\n",
       "        text-align: right;\n",
       "    }\n",
       "</style>\n",
       "<table border=\"1\" class=\"dataframe\">\n",
       "  <thead>\n",
       "    <tr style=\"text-align: right;\">\n",
       "      <th></th>\n",
       "      <th>id</th>\n",
       "      <th>mb_used</th>\n",
       "      <th>session_date</th>\n",
       "      <th>user_id</th>\n",
       "      <th>month</th>\n",
       "    </tr>\n",
       "  </thead>\n",
       "  <tbody>\n",
       "    <tr>\n",
       "      <td>0</td>\n",
       "      <td>1000_0</td>\n",
       "      <td>112.95</td>\n",
       "      <td>2018-11-25</td>\n",
       "      <td>1000</td>\n",
       "      <td>11</td>\n",
       "    </tr>\n",
       "    <tr>\n",
       "      <td>1</td>\n",
       "      <td>1000_1</td>\n",
       "      <td>1052.81</td>\n",
       "      <td>2018-09-07</td>\n",
       "      <td>1000</td>\n",
       "      <td>9</td>\n",
       "    </tr>\n",
       "    <tr>\n",
       "      <td>2</td>\n",
       "      <td>1000_2</td>\n",
       "      <td>1197.26</td>\n",
       "      <td>2018-06-25</td>\n",
       "      <td>1000</td>\n",
       "      <td>6</td>\n",
       "    </tr>\n",
       "    <tr>\n",
       "      <td>3</td>\n",
       "      <td>1000_3</td>\n",
       "      <td>550.27</td>\n",
       "      <td>2018-08-22</td>\n",
       "      <td>1000</td>\n",
       "      <td>8</td>\n",
       "    </tr>\n",
       "    <tr>\n",
       "      <td>4</td>\n",
       "      <td>1000_4</td>\n",
       "      <td>302.56</td>\n",
       "      <td>2018-09-24</td>\n",
       "      <td>1000</td>\n",
       "      <td>9</td>\n",
       "    </tr>\n",
       "    <tr>\n",
       "      <td>...</td>\n",
       "      <td>...</td>\n",
       "      <td>...</td>\n",
       "      <td>...</td>\n",
       "      <td>...</td>\n",
       "      <td>...</td>\n",
       "    </tr>\n",
       "    <tr>\n",
       "      <td>149391</td>\n",
       "      <td>1499_152</td>\n",
       "      <td>318.90</td>\n",
       "      <td>2018-10-03</td>\n",
       "      <td>1499</td>\n",
       "      <td>10</td>\n",
       "    </tr>\n",
       "    <tr>\n",
       "      <td>149392</td>\n",
       "      <td>1499_153</td>\n",
       "      <td>490.13</td>\n",
       "      <td>2018-12-14</td>\n",
       "      <td>1499</td>\n",
       "      <td>12</td>\n",
       "    </tr>\n",
       "    <tr>\n",
       "      <td>149393</td>\n",
       "      <td>1499_154</td>\n",
       "      <td>0.00</td>\n",
       "      <td>2018-10-27</td>\n",
       "      <td>1499</td>\n",
       "      <td>10</td>\n",
       "    </tr>\n",
       "    <tr>\n",
       "      <td>149394</td>\n",
       "      <td>1499_155</td>\n",
       "      <td>1246.32</td>\n",
       "      <td>2018-11-26</td>\n",
       "      <td>1499</td>\n",
       "      <td>11</td>\n",
       "    </tr>\n",
       "    <tr>\n",
       "      <td>149395</td>\n",
       "      <td>1499_156</td>\n",
       "      <td>544.37</td>\n",
       "      <td>2018-10-26</td>\n",
       "      <td>1499</td>\n",
       "      <td>10</td>\n",
       "    </tr>\n",
       "  </tbody>\n",
       "</table>\n",
       "<p>149396 rows × 5 columns</p>\n",
       "</div>"
      ],
      "text/plain": [
       "              id  mb_used session_date  user_id  month\n",
       "0         1000_0   112.95   2018-11-25     1000     11\n",
       "1         1000_1  1052.81   2018-09-07     1000      9\n",
       "2         1000_2  1197.26   2018-06-25     1000      6\n",
       "3         1000_3   550.27   2018-08-22     1000      8\n",
       "4         1000_4   302.56   2018-09-24     1000      9\n",
       "...          ...      ...          ...      ...    ...\n",
       "149391  1499_152   318.90   2018-10-03     1499     10\n",
       "149392  1499_153   490.13   2018-12-14     1499     12\n",
       "149393  1499_154     0.00   2018-10-27     1499     10\n",
       "149394  1499_155  1246.32   2018-11-26     1499     11\n",
       "149395  1499_156   544.37   2018-10-26     1499     10\n",
       "\n",
       "[149396 rows x 5 columns]"
      ]
     },
     "execution_count": 11,
     "metadata": {},
     "output_type": "execute_result"
    }
   ],
   "source": [
    "internet"
   ]
  },
  {
   "cell_type": "code",
   "execution_count": 12,
   "metadata": {},
   "outputs": [
    {
     "data": {
      "text/html": [
       "<div>\n",
       "<style scoped>\n",
       "    .dataframe tbody tr th:only-of-type {\n",
       "        vertical-align: middle;\n",
       "    }\n",
       "\n",
       "    .dataframe tbody tr th {\n",
       "        vertical-align: top;\n",
       "    }\n",
       "\n",
       "    .dataframe thead th {\n",
       "        text-align: right;\n",
       "    }\n",
       "</style>\n",
       "<table border=\"1\" class=\"dataframe\">\n",
       "  <thead>\n",
       "    <tr style=\"text-align: right;\">\n",
       "      <th></th>\n",
       "      <th>id</th>\n",
       "      <th>message_date</th>\n",
       "      <th>user_id</th>\n",
       "      <th>month</th>\n",
       "    </tr>\n",
       "  </thead>\n",
       "  <tbody>\n",
       "    <tr>\n",
       "      <td>0</td>\n",
       "      <td>1000_0</td>\n",
       "      <td>2018-06-27</td>\n",
       "      <td>1000</td>\n",
       "      <td>6</td>\n",
       "    </tr>\n",
       "    <tr>\n",
       "      <td>1</td>\n",
       "      <td>1000_1</td>\n",
       "      <td>2018-10-08</td>\n",
       "      <td>1000</td>\n",
       "      <td>10</td>\n",
       "    </tr>\n",
       "    <tr>\n",
       "      <td>2</td>\n",
       "      <td>1000_2</td>\n",
       "      <td>2018-08-04</td>\n",
       "      <td>1000</td>\n",
       "      <td>8</td>\n",
       "    </tr>\n",
       "    <tr>\n",
       "      <td>3</td>\n",
       "      <td>1000_3</td>\n",
       "      <td>2018-06-16</td>\n",
       "      <td>1000</td>\n",
       "      <td>6</td>\n",
       "    </tr>\n",
       "    <tr>\n",
       "      <td>4</td>\n",
       "      <td>1000_4</td>\n",
       "      <td>2018-12-05</td>\n",
       "      <td>1000</td>\n",
       "      <td>12</td>\n",
       "    </tr>\n",
       "    <tr>\n",
       "      <td>...</td>\n",
       "      <td>...</td>\n",
       "      <td>...</td>\n",
       "      <td>...</td>\n",
       "      <td>...</td>\n",
       "    </tr>\n",
       "    <tr>\n",
       "      <td>123031</td>\n",
       "      <td>1499_179</td>\n",
       "      <td>2018-12-12</td>\n",
       "      <td>1499</td>\n",
       "      <td>12</td>\n",
       "    </tr>\n",
       "    <tr>\n",
       "      <td>123032</td>\n",
       "      <td>1499_180</td>\n",
       "      <td>2018-09-28</td>\n",
       "      <td>1499</td>\n",
       "      <td>9</td>\n",
       "    </tr>\n",
       "    <tr>\n",
       "      <td>123033</td>\n",
       "      <td>1499_181</td>\n",
       "      <td>2018-09-27</td>\n",
       "      <td>1499</td>\n",
       "      <td>9</td>\n",
       "    </tr>\n",
       "    <tr>\n",
       "      <td>123034</td>\n",
       "      <td>1499_182</td>\n",
       "      <td>2018-11-15</td>\n",
       "      <td>1499</td>\n",
       "      <td>11</td>\n",
       "    </tr>\n",
       "    <tr>\n",
       "      <td>123035</td>\n",
       "      <td>1499_183</td>\n",
       "      <td>2018-11-16</td>\n",
       "      <td>1499</td>\n",
       "      <td>11</td>\n",
       "    </tr>\n",
       "  </tbody>\n",
       "</table>\n",
       "<p>123036 rows × 4 columns</p>\n",
       "</div>"
      ],
      "text/plain": [
       "              id message_date  user_id  month\n",
       "0         1000_0   2018-06-27     1000      6\n",
       "1         1000_1   2018-10-08     1000     10\n",
       "2         1000_2   2018-08-04     1000      8\n",
       "3         1000_3   2018-06-16     1000      6\n",
       "4         1000_4   2018-12-05     1000     12\n",
       "...          ...          ...      ...    ...\n",
       "123031  1499_179   2018-12-12     1499     12\n",
       "123032  1499_180   2018-09-28     1499      9\n",
       "123033  1499_181   2018-09-27     1499      9\n",
       "123034  1499_182   2018-11-15     1499     11\n",
       "123035  1499_183   2018-11-16     1499     11\n",
       "\n",
       "[123036 rows x 4 columns]"
      ]
     },
     "execution_count": 12,
     "metadata": {},
     "output_type": "execute_result"
    }
   ],
   "source": [
    "messages"
   ]
  },
  {
   "cell_type": "code",
   "execution_count": 13,
   "metadata": {},
   "outputs": [
    {
     "data": {
      "text/html": [
       "<div>\n",
       "<style scoped>\n",
       "    .dataframe tbody tr th:only-of-type {\n",
       "        vertical-align: middle;\n",
       "    }\n",
       "\n",
       "    .dataframe tbody tr th {\n",
       "        vertical-align: top;\n",
       "    }\n",
       "\n",
       "    .dataframe thead th {\n",
       "        text-align: right;\n",
       "    }\n",
       "</style>\n",
       "<table border=\"1\" class=\"dataframe\">\n",
       "  <thead>\n",
       "    <tr style=\"text-align: right;\">\n",
       "      <th></th>\n",
       "      <th>user_id</th>\n",
       "      <th>age</th>\n",
       "      <th>churn_date</th>\n",
       "      <th>city</th>\n",
       "      <th>first_name</th>\n",
       "      <th>last_name</th>\n",
       "      <th>reg_date</th>\n",
       "      <th>tariff</th>\n",
       "    </tr>\n",
       "  </thead>\n",
       "  <tbody>\n",
       "    <tr>\n",
       "      <td>0</td>\n",
       "      <td>1000</td>\n",
       "      <td>52</td>\n",
       "      <td>NaT</td>\n",
       "      <td>Краснодар</td>\n",
       "      <td>Рафаил</td>\n",
       "      <td>Верещагин</td>\n",
       "      <td>2018-05-25</td>\n",
       "      <td>ultra</td>\n",
       "    </tr>\n",
       "    <tr>\n",
       "      <td>1</td>\n",
       "      <td>1001</td>\n",
       "      <td>41</td>\n",
       "      <td>NaT</td>\n",
       "      <td>Москва</td>\n",
       "      <td>Иван</td>\n",
       "      <td>Ежов</td>\n",
       "      <td>2018-11-01</td>\n",
       "      <td>smart</td>\n",
       "    </tr>\n",
       "    <tr>\n",
       "      <td>2</td>\n",
       "      <td>1002</td>\n",
       "      <td>59</td>\n",
       "      <td>NaT</td>\n",
       "      <td>Стерлитамак</td>\n",
       "      <td>Евгений</td>\n",
       "      <td>Абрамович</td>\n",
       "      <td>2018-06-17</td>\n",
       "      <td>smart</td>\n",
       "    </tr>\n",
       "    <tr>\n",
       "      <td>3</td>\n",
       "      <td>1003</td>\n",
       "      <td>23</td>\n",
       "      <td>NaT</td>\n",
       "      <td>Москва</td>\n",
       "      <td>Белла</td>\n",
       "      <td>Белякова</td>\n",
       "      <td>2018-08-17</td>\n",
       "      <td>ultra</td>\n",
       "    </tr>\n",
       "    <tr>\n",
       "      <td>4</td>\n",
       "      <td>1004</td>\n",
       "      <td>68</td>\n",
       "      <td>NaT</td>\n",
       "      <td>Новокузнецк</td>\n",
       "      <td>Татьяна</td>\n",
       "      <td>Авдеенко</td>\n",
       "      <td>2018-05-14</td>\n",
       "      <td>ultra</td>\n",
       "    </tr>\n",
       "    <tr>\n",
       "      <td>...</td>\n",
       "      <td>...</td>\n",
       "      <td>...</td>\n",
       "      <td>...</td>\n",
       "      <td>...</td>\n",
       "      <td>...</td>\n",
       "      <td>...</td>\n",
       "      <td>...</td>\n",
       "      <td>...</td>\n",
       "    </tr>\n",
       "    <tr>\n",
       "      <td>495</td>\n",
       "      <td>1495</td>\n",
       "      <td>65</td>\n",
       "      <td>NaT</td>\n",
       "      <td>Иркутск</td>\n",
       "      <td>Авксентий</td>\n",
       "      <td>Фокин</td>\n",
       "      <td>2018-08-28</td>\n",
       "      <td>ultra</td>\n",
       "    </tr>\n",
       "    <tr>\n",
       "      <td>496</td>\n",
       "      <td>1496</td>\n",
       "      <td>36</td>\n",
       "      <td>NaT</td>\n",
       "      <td>Вологда</td>\n",
       "      <td>Трифон</td>\n",
       "      <td>Блохин</td>\n",
       "      <td>2018-01-27</td>\n",
       "      <td>smart</td>\n",
       "    </tr>\n",
       "    <tr>\n",
       "      <td>497</td>\n",
       "      <td>1497</td>\n",
       "      <td>32</td>\n",
       "      <td>NaT</td>\n",
       "      <td>Челябинск</td>\n",
       "      <td>Каролина</td>\n",
       "      <td>Агеева</td>\n",
       "      <td>2018-10-09</td>\n",
       "      <td>smart</td>\n",
       "    </tr>\n",
       "    <tr>\n",
       "      <td>498</td>\n",
       "      <td>1498</td>\n",
       "      <td>68</td>\n",
       "      <td>2018-10-25</td>\n",
       "      <td>Владикавказ</td>\n",
       "      <td>Всеволод</td>\n",
       "      <td>Акимчин</td>\n",
       "      <td>2018-07-19</td>\n",
       "      <td>smart</td>\n",
       "    </tr>\n",
       "    <tr>\n",
       "      <td>499</td>\n",
       "      <td>1499</td>\n",
       "      <td>35</td>\n",
       "      <td>NaT</td>\n",
       "      <td>Пермь</td>\n",
       "      <td>Гектор</td>\n",
       "      <td>Корнилов</td>\n",
       "      <td>2018-09-27</td>\n",
       "      <td>smart</td>\n",
       "    </tr>\n",
       "  </tbody>\n",
       "</table>\n",
       "<p>500 rows × 8 columns</p>\n",
       "</div>"
      ],
      "text/plain": [
       "     user_id  age churn_date         city first_name  last_name   reg_date  \\\n",
       "0       1000   52        NaT    Краснодар     Рафаил  Верещагин 2018-05-25   \n",
       "1       1001   41        NaT       Москва       Иван       Ежов 2018-11-01   \n",
       "2       1002   59        NaT  Стерлитамак    Евгений  Абрамович 2018-06-17   \n",
       "3       1003   23        NaT       Москва      Белла   Белякова 2018-08-17   \n",
       "4       1004   68        NaT  Новокузнецк    Татьяна   Авдеенко 2018-05-14   \n",
       "..       ...  ...        ...          ...        ...        ...        ...   \n",
       "495     1495   65        NaT      Иркутск  Авксентий      Фокин 2018-08-28   \n",
       "496     1496   36        NaT      Вологда     Трифон     Блохин 2018-01-27   \n",
       "497     1497   32        NaT    Челябинск   Каролина     Агеева 2018-10-09   \n",
       "498     1498   68 2018-10-25  Владикавказ   Всеволод    Акимчин 2018-07-19   \n",
       "499     1499   35        NaT        Пермь     Гектор   Корнилов 2018-09-27   \n",
       "\n",
       "    tariff  \n",
       "0    ultra  \n",
       "1    smart  \n",
       "2    smart  \n",
       "3    ultra  \n",
       "4    ultra  \n",
       "..     ...  \n",
       "495  ultra  \n",
       "496  smart  \n",
       "497  smart  \n",
       "498  smart  \n",
       "499  smart  \n",
       "\n",
       "[500 rows x 8 columns]"
      ]
     },
     "execution_count": 13,
     "metadata": {},
     "output_type": "execute_result"
    }
   ],
   "source": [
    "users"
   ]
  },
  {
   "cell_type": "markdown",
   "metadata": {},
   "source": [
    "Добавим столбец включенных Гб в месяц:"
   ]
  },
  {
   "cell_type": "code",
   "execution_count": 14,
   "metadata": {},
   "outputs": [
    {
     "data": {
      "text/html": [
       "<div>\n",
       "<style scoped>\n",
       "    .dataframe tbody tr th:only-of-type {\n",
       "        vertical-align: middle;\n",
       "    }\n",
       "\n",
       "    .dataframe tbody tr th {\n",
       "        vertical-align: top;\n",
       "    }\n",
       "\n",
       "    .dataframe thead th {\n",
       "        text-align: right;\n",
       "    }\n",
       "</style>\n",
       "<table border=\"1\" class=\"dataframe\">\n",
       "  <thead>\n",
       "    <tr style=\"text-align: right;\">\n",
       "      <th></th>\n",
       "      <th>messages_included</th>\n",
       "      <th>mb_per_month_included</th>\n",
       "      <th>minutes_included</th>\n",
       "      <th>rub_monthly_fee</th>\n",
       "      <th>rub_per_gb</th>\n",
       "      <th>rub_per_message</th>\n",
       "      <th>rub_per_minute</th>\n",
       "      <th>tariff_name</th>\n",
       "      <th>gb_per_month_included</th>\n",
       "    </tr>\n",
       "  </thead>\n",
       "  <tbody>\n",
       "    <tr>\n",
       "      <td>0</td>\n",
       "      <td>50</td>\n",
       "      <td>15360</td>\n",
       "      <td>500</td>\n",
       "      <td>550</td>\n",
       "      <td>200</td>\n",
       "      <td>3</td>\n",
       "      <td>3</td>\n",
       "      <td>smart</td>\n",
       "      <td>15.0</td>\n",
       "    </tr>\n",
       "    <tr>\n",
       "      <td>1</td>\n",
       "      <td>1000</td>\n",
       "      <td>30720</td>\n",
       "      <td>3000</td>\n",
       "      <td>1950</td>\n",
       "      <td>150</td>\n",
       "      <td>1</td>\n",
       "      <td>1</td>\n",
       "      <td>ultra</td>\n",
       "      <td>30.0</td>\n",
       "    </tr>\n",
       "  </tbody>\n",
       "</table>\n",
       "</div>"
      ],
      "text/plain": [
       "   messages_included  mb_per_month_included  minutes_included  \\\n",
       "0                 50                  15360               500   \n",
       "1               1000                  30720              3000   \n",
       "\n",
       "   rub_monthly_fee  rub_per_gb  rub_per_message  rub_per_minute tariff_name  \\\n",
       "0              550         200                3               3       smart   \n",
       "1             1950         150                1               1       ultra   \n",
       "\n",
       "   gb_per_month_included  \n",
       "0                   15.0  \n",
       "1                   30.0  "
      ]
     },
     "execution_count": 14,
     "metadata": {},
     "output_type": "execute_result"
    }
   ],
   "source": [
    "tariffs['gb_per_month_included'] = tariffs['mb_per_month_included'] /1024\n",
    "tariffs"
   ]
  },
  {
   "cell_type": "markdown",
   "metadata": {},
   "source": [
    "**Рассмотрим данные о звонках и интернет-трафике - их нужно округлить до большего значения**"
   ]
  },
  {
   "cell_type": "markdown",
   "metadata": {},
   "source": [
    "<div class=\"alert alert-success\">\n",
    "<h2>Комментарий ревьюера</h2>\n",
    "\n",
    "Все графики лучше подписывать, как названия так и оси\n",
    "</div>"
   ]
  },
  {
   "cell_type": "code",
   "execution_count": 15,
   "metadata": {},
   "outputs": [
    {
     "data": {
      "text/plain": [
       "<matplotlib.axes._subplots.AxesSubplot at 0x7efc5c752bd0>"
      ]
     },
     "execution_count": 15,
     "metadata": {},
     "output_type": "execute_result"
    },
    {
     "data": {
      "image/png": "[encoded data removed]",
      "text/plain": [
       "<Figure size 432x288 with 1 Axes>"
      ]
     },
     "metadata": {
      "needs_background": "light"
     },
     "output_type": "display_data"
    }
   ],
   "source": [
    "calls['duration'].hist(bins=100)"
   ]
  },
  {
   "cell_type": "markdown",
   "metadata": {},
   "source": [
    "<div class=\"alert alert-success\">\n",
    "<h2>Комментарий ревьюера</h2>\n",
    "\n",
    "`np.ceil`, кстати, можно применять сразу к столбцу\n",
    "</div>"
   ]
  },
  {
   "cell_type": "code",
   "execution_count": 16,
   "metadata": {},
   "outputs": [
    {
     "data": {
      "text/html": [
       "<div>\n",
       "<style scoped>\n",
       "    .dataframe tbody tr th:only-of-type {\n",
       "        vertical-align: middle;\n",
       "    }\n",
       "\n",
       "    .dataframe tbody tr th {\n",
       "        vertical-align: top;\n",
       "    }\n",
       "\n",
       "    .dataframe thead th {\n",
       "        text-align: right;\n",
       "    }\n",
       "</style>\n",
       "<table border=\"1\" class=\"dataframe\">\n",
       "  <thead>\n",
       "    <tr style=\"text-align: right;\">\n",
       "      <th></th>\n",
       "      <th>id</th>\n",
       "      <th>call_date</th>\n",
       "      <th>duration</th>\n",
       "      <th>user_id</th>\n",
       "      <th>month</th>\n",
       "    </tr>\n",
       "  </thead>\n",
       "  <tbody>\n",
       "    <tr>\n",
       "      <td>0</td>\n",
       "      <td>1000_0</td>\n",
       "      <td>2018-07-25</td>\n",
       "      <td>0.0</td>\n",
       "      <td>1000</td>\n",
       "      <td>7</td>\n",
       "    </tr>\n",
       "    <tr>\n",
       "      <td>1</td>\n",
       "      <td>1000_1</td>\n",
       "      <td>2018-08-17</td>\n",
       "      <td>0.0</td>\n",
       "      <td>1000</td>\n",
       "      <td>8</td>\n",
       "    </tr>\n",
       "    <tr>\n",
       "      <td>2</td>\n",
       "      <td>1000_2</td>\n",
       "      <td>2018-06-11</td>\n",
       "      <td>3.0</td>\n",
       "      <td>1000</td>\n",
       "      <td>6</td>\n",
       "    </tr>\n",
       "    <tr>\n",
       "      <td>3</td>\n",
       "      <td>1000_3</td>\n",
       "      <td>2018-09-21</td>\n",
       "      <td>14.0</td>\n",
       "      <td>1000</td>\n",
       "      <td>9</td>\n",
       "    </tr>\n",
       "    <tr>\n",
       "      <td>4</td>\n",
       "      <td>1000_4</td>\n",
       "      <td>2018-12-15</td>\n",
       "      <td>6.0</td>\n",
       "      <td>1000</td>\n",
       "      <td>12</td>\n",
       "    </tr>\n",
       "    <tr>\n",
       "      <td>...</td>\n",
       "      <td>...</td>\n",
       "      <td>...</td>\n",
       "      <td>...</td>\n",
       "      <td>...</td>\n",
       "      <td>...</td>\n",
       "    </tr>\n",
       "    <tr>\n",
       "      <td>202602</td>\n",
       "      <td>1499_215</td>\n",
       "      <td>2018-12-26</td>\n",
       "      <td>1.0</td>\n",
       "      <td>1499</td>\n",
       "      <td>12</td>\n",
       "    </tr>\n",
       "    <tr>\n",
       "      <td>202603</td>\n",
       "      <td>1499_216</td>\n",
       "      <td>2018-10-18</td>\n",
       "      <td>19.0</td>\n",
       "      <td>1499</td>\n",
       "      <td>10</td>\n",
       "    </tr>\n",
       "    <tr>\n",
       "      <td>202604</td>\n",
       "      <td>1499_217</td>\n",
       "      <td>2018-11-10</td>\n",
       "      <td>11.0</td>\n",
       "      <td>1499</td>\n",
       "      <td>11</td>\n",
       "    </tr>\n",
       "    <tr>\n",
       "      <td>202605</td>\n",
       "      <td>1499_218</td>\n",
       "      <td>2018-10-06</td>\n",
       "      <td>5.0</td>\n",
       "      <td>1499</td>\n",
       "      <td>10</td>\n",
       "    </tr>\n",
       "    <tr>\n",
       "      <td>202606</td>\n",
       "      <td>1499_219</td>\n",
       "      <td>2018-12-14</td>\n",
       "      <td>20.0</td>\n",
       "      <td>1499</td>\n",
       "      <td>12</td>\n",
       "    </tr>\n",
       "  </tbody>\n",
       "</table>\n",
       "<p>202607 rows × 5 columns</p>\n",
       "</div>"
      ],
      "text/plain": [
       "              id  call_date  duration  user_id  month\n",
       "0         1000_0 2018-07-25       0.0     1000      7\n",
       "1         1000_1 2018-08-17       0.0     1000      8\n",
       "2         1000_2 2018-06-11       3.0     1000      6\n",
       "3         1000_3 2018-09-21      14.0     1000      9\n",
       "4         1000_4 2018-12-15       6.0     1000     12\n",
       "...          ...        ...       ...      ...    ...\n",
       "202602  1499_215 2018-12-26       1.0     1499     12\n",
       "202603  1499_216 2018-10-18      19.0     1499     10\n",
       "202604  1499_217 2018-11-10      11.0     1499     11\n",
       "202605  1499_218 2018-10-06       5.0     1499     10\n",
       "202606  1499_219 2018-12-14      20.0     1499     12\n",
       "\n",
       "[202607 rows x 5 columns]"
      ]
     },
     "metadata": {},
     "output_type": "display_data"
    },
    {
     "data": {
      "text/plain": [
       "<matplotlib.axes._subplots.AxesSubplot at 0x7efc5dc44b10>"
      ]
     },
     "execution_count": 16,
     "metadata": {},
     "output_type": "execute_result"
    },
    {
     "data": {
      "image/png": "[encoded data removed]",
      "text/plain": [
       "<Figure size 432x288 with 1 Axes>"
      ]
     },
     "metadata": {
      "needs_background": "light"
     },
     "output_type": "display_data"
    }
   ],
   "source": [
    "#Округлим нулевые значения, нулевые значения в звонках удалять нельзя - согласно заданию это недозвон:\n",
    "calls['duration'] = calls['duration'].apply(np.ceil)\n",
    "display(calls)\n",
    "calls['duration'].hist(bins=100)"
   ]
  },
  {
   "cell_type": "code",
   "execution_count": 17,
   "metadata": {},
   "outputs": [
    {
     "data": {
      "text/html": [
       "<div>\n",
       "<style scoped>\n",
       "    .dataframe tbody tr th:only-of-type {\n",
       "        vertical-align: middle;\n",
       "    }\n",
       "\n",
       "    .dataframe tbody tr th {\n",
       "        vertical-align: top;\n",
       "    }\n",
       "\n",
       "    .dataframe thead th {\n",
       "        text-align: right;\n",
       "    }\n",
       "</style>\n",
       "<table border=\"1\" class=\"dataframe\">\n",
       "  <thead>\n",
       "    <tr style=\"text-align: right;\">\n",
       "      <th></th>\n",
       "      <th>id</th>\n",
       "      <th>call_date</th>\n",
       "      <th>duration</th>\n",
       "      <th>user_id</th>\n",
       "      <th>month</th>\n",
       "    </tr>\n",
       "  </thead>\n",
       "  <tbody>\n",
       "    <tr>\n",
       "      <td>0</td>\n",
       "      <td>1000_0</td>\n",
       "      <td>2018-07-25</td>\n",
       "      <td>0.0</td>\n",
       "      <td>1000</td>\n",
       "      <td>7</td>\n",
       "    </tr>\n",
       "    <tr>\n",
       "      <td>1</td>\n",
       "      <td>1000_1</td>\n",
       "      <td>2018-08-17</td>\n",
       "      <td>0.0</td>\n",
       "      <td>1000</td>\n",
       "      <td>8</td>\n",
       "    </tr>\n",
       "    <tr>\n",
       "      <td>5</td>\n",
       "      <td>1000_5</td>\n",
       "      <td>2018-11-02</td>\n",
       "      <td>0.0</td>\n",
       "      <td>1000</td>\n",
       "      <td>11</td>\n",
       "    </tr>\n",
       "    <tr>\n",
       "      <td>6</td>\n",
       "      <td>1000_6</td>\n",
       "      <td>2018-10-18</td>\n",
       "      <td>0.0</td>\n",
       "      <td>1000</td>\n",
       "      <td>10</td>\n",
       "    </tr>\n",
       "    <tr>\n",
       "      <td>9</td>\n",
       "      <td>1000_9</td>\n",
       "      <td>2018-08-15</td>\n",
       "      <td>0.0</td>\n",
       "      <td>1000</td>\n",
       "      <td>8</td>\n",
       "    </tr>\n",
       "    <tr>\n",
       "      <td>...</td>\n",
       "      <td>...</td>\n",
       "      <td>...</td>\n",
       "      <td>...</td>\n",
       "      <td>...</td>\n",
       "      <td>...</td>\n",
       "    </tr>\n",
       "    <tr>\n",
       "      <td>202590</td>\n",
       "      <td>1499_203</td>\n",
       "      <td>2018-12-03</td>\n",
       "      <td>0.0</td>\n",
       "      <td>1499</td>\n",
       "      <td>12</td>\n",
       "    </tr>\n",
       "    <tr>\n",
       "      <td>202592</td>\n",
       "      <td>1499_205</td>\n",
       "      <td>2018-10-13</td>\n",
       "      <td>0.0</td>\n",
       "      <td>1499</td>\n",
       "      <td>10</td>\n",
       "    </tr>\n",
       "    <tr>\n",
       "      <td>202593</td>\n",
       "      <td>1499_206</td>\n",
       "      <td>2018-12-26</td>\n",
       "      <td>0.0</td>\n",
       "      <td>1499</td>\n",
       "      <td>12</td>\n",
       "    </tr>\n",
       "    <tr>\n",
       "      <td>202594</td>\n",
       "      <td>1499_207</td>\n",
       "      <td>2018-10-28</td>\n",
       "      <td>0.0</td>\n",
       "      <td>1499</td>\n",
       "      <td>10</td>\n",
       "    </tr>\n",
       "    <tr>\n",
       "      <td>202596</td>\n",
       "      <td>1499_209</td>\n",
       "      <td>2018-12-16</td>\n",
       "      <td>0.0</td>\n",
       "      <td>1499</td>\n",
       "      <td>12</td>\n",
       "    </tr>\n",
       "  </tbody>\n",
       "</table>\n",
       "<p>39613 rows × 5 columns</p>\n",
       "</div>"
      ],
      "text/plain": [
       "              id  call_date  duration  user_id  month\n",
       "0         1000_0 2018-07-25       0.0     1000      7\n",
       "1         1000_1 2018-08-17       0.0     1000      8\n",
       "5         1000_5 2018-11-02       0.0     1000     11\n",
       "6         1000_6 2018-10-18       0.0     1000     10\n",
       "9         1000_9 2018-08-15       0.0     1000      8\n",
       "...          ...        ...       ...      ...    ...\n",
       "202590  1499_203 2018-12-03       0.0     1499     12\n",
       "202592  1499_205 2018-10-13       0.0     1499     10\n",
       "202593  1499_206 2018-12-26       0.0     1499     12\n",
       "202594  1499_207 2018-10-28       0.0     1499     10\n",
       "202596  1499_209 2018-12-16       0.0     1499     12\n",
       "\n",
       "[39613 rows x 5 columns]"
      ]
     },
     "execution_count": 17,
     "metadata": {},
     "output_type": "execute_result"
    }
   ],
   "source": [
    "calls.query('duration == 0.0')"
   ]
  },
  {
   "cell_type": "markdown",
   "metadata": {},
   "source": [
    "39613 неудавшихся звонков (пропущенные, недозвонишвиеся, занято и т.п.)"
   ]
  },
  {
   "cell_type": "code",
   "execution_count": 18,
   "metadata": {},
   "outputs": [
    {
     "data": {
      "text/plain": [
       "<matplotlib.axes._subplots.AxesSubplot at 0x7efc5dbf99d0>"
      ]
     },
     "execution_count": 18,
     "metadata": {},
     "output_type": "execute_result"
    },
    {
     "data": {
      "image/png": "[encoded data removed]",
      "text/plain": [
       "<Figure size 432x288 with 1 Axes>"
      ]
     },
     "metadata": {
      "needs_background": "light"
     },
     "output_type": "display_data"
    }
   ],
   "source": [
    "#Построим более наглядную гистограмму без пропущенных звонков:\n",
    "calls['duration'].hist(bins=100, range = (1,50))"
   ]
  },
  {
   "cell_type": "code",
   "execution_count": 19,
   "metadata": {},
   "outputs": [
    {
     "data": {
      "text/plain": [
       "<matplotlib.axes._subplots.AxesSubplot at 0x7efc5c4c3d10>"
      ]
     },
     "execution_count": 19,
     "metadata": {},
     "output_type": "execute_result"
    },
    {
     "data": {
      "image/png": "[encoded data removed]",
      "text/plain": [
       "<Figure size 432x288 with 1 Axes>"
      ]
     },
     "metadata": {
      "needs_background": "light"
     },
     "output_type": "display_data"
    }
   ],
   "source": [
    "internet['mb_used'].hist(bins=100)"
   ]
  },
  {
   "cell_type": "markdown",
   "metadata": {},
   "source": [
    "<div class=\"alert alert-danger\">\n",
    "<h2>Комментарий ревьюера</h2>\n",
    "\n",
    "\"Для веб-трафика отдельные сессии не считаются. Вместо этого общая сумма за месяц округляется в бо́льшую сторону. Если абонент использует 1025 мегабайт в этом месяце, с него возьмут плату за 2 гигабайта.\"\n",
    "    \n",
    "Т.е. сначала надо сложить, потом поделить на 1024 и округлить вверх\n",
    "\n",
    "</div>"
   ]
  },
  {
   "cell_type": "markdown",
   "metadata": {},
   "source": [
    "<div class=\"alert alert-info\" style=\"background:pink;color:#A91E69\">\n",
    "<h2>Комментарий студента </h2>\n",
    "    Добавил Гб в объединенной таблице\n",
    "</div>"
   ]
  },
  {
   "cell_type": "markdown",
   "metadata": {},
   "source": [
    "<div class=\"alert alert-success\">\n",
    "<h2>Комментарий ревьюера V.2</h2>\n",
    "\n",
    "👍\n",
    "</div>"
   ]
  },
  {
   "cell_type": "code",
   "execution_count": 20,
   "metadata": {},
   "outputs": [
    {
     "data": {
      "text/html": [
       "<div>\n",
       "<style scoped>\n",
       "    .dataframe tbody tr th:only-of-type {\n",
       "        vertical-align: middle;\n",
       "    }\n",
       "\n",
       "    .dataframe tbody tr th {\n",
       "        vertical-align: top;\n",
       "    }\n",
       "\n",
       "    .dataframe thead th {\n",
       "        text-align: right;\n",
       "    }\n",
       "</style>\n",
       "<table border=\"1\" class=\"dataframe\">\n",
       "  <thead>\n",
       "    <tr style=\"text-align: right;\">\n",
       "      <th></th>\n",
       "      <th>id</th>\n",
       "      <th>mb_used</th>\n",
       "      <th>session_date</th>\n",
       "      <th>user_id</th>\n",
       "      <th>month</th>\n",
       "    </tr>\n",
       "  </thead>\n",
       "  <tbody>\n",
       "    <tr>\n",
       "      <td>0</td>\n",
       "      <td>1000_0</td>\n",
       "      <td>113.0</td>\n",
       "      <td>2018-11-25</td>\n",
       "      <td>1000</td>\n",
       "      <td>11</td>\n",
       "    </tr>\n",
       "    <tr>\n",
       "      <td>1</td>\n",
       "      <td>1000_1</td>\n",
       "      <td>1053.0</td>\n",
       "      <td>2018-09-07</td>\n",
       "      <td>1000</td>\n",
       "      <td>9</td>\n",
       "    </tr>\n",
       "    <tr>\n",
       "      <td>2</td>\n",
       "      <td>1000_2</td>\n",
       "      <td>1198.0</td>\n",
       "      <td>2018-06-25</td>\n",
       "      <td>1000</td>\n",
       "      <td>6</td>\n",
       "    </tr>\n",
       "    <tr>\n",
       "      <td>3</td>\n",
       "      <td>1000_3</td>\n",
       "      <td>551.0</td>\n",
       "      <td>2018-08-22</td>\n",
       "      <td>1000</td>\n",
       "      <td>8</td>\n",
       "    </tr>\n",
       "    <tr>\n",
       "      <td>4</td>\n",
       "      <td>1000_4</td>\n",
       "      <td>303.0</td>\n",
       "      <td>2018-09-24</td>\n",
       "      <td>1000</td>\n",
       "      <td>9</td>\n",
       "    </tr>\n",
       "    <tr>\n",
       "      <td>...</td>\n",
       "      <td>...</td>\n",
       "      <td>...</td>\n",
       "      <td>...</td>\n",
       "      <td>...</td>\n",
       "      <td>...</td>\n",
       "    </tr>\n",
       "    <tr>\n",
       "      <td>149391</td>\n",
       "      <td>1499_152</td>\n",
       "      <td>319.0</td>\n",
       "      <td>2018-10-03</td>\n",
       "      <td>1499</td>\n",
       "      <td>10</td>\n",
       "    </tr>\n",
       "    <tr>\n",
       "      <td>149392</td>\n",
       "      <td>1499_153</td>\n",
       "      <td>491.0</td>\n",
       "      <td>2018-12-14</td>\n",
       "      <td>1499</td>\n",
       "      <td>12</td>\n",
       "    </tr>\n",
       "    <tr>\n",
       "      <td>149393</td>\n",
       "      <td>1499_154</td>\n",
       "      <td>0.0</td>\n",
       "      <td>2018-10-27</td>\n",
       "      <td>1499</td>\n",
       "      <td>10</td>\n",
       "    </tr>\n",
       "    <tr>\n",
       "      <td>149394</td>\n",
       "      <td>1499_155</td>\n",
       "      <td>1247.0</td>\n",
       "      <td>2018-11-26</td>\n",
       "      <td>1499</td>\n",
       "      <td>11</td>\n",
       "    </tr>\n",
       "    <tr>\n",
       "      <td>149395</td>\n",
       "      <td>1499_156</td>\n",
       "      <td>545.0</td>\n",
       "      <td>2018-10-26</td>\n",
       "      <td>1499</td>\n",
       "      <td>10</td>\n",
       "    </tr>\n",
       "  </tbody>\n",
       "</table>\n",
       "<p>149396 rows × 5 columns</p>\n",
       "</div>"
      ],
      "text/plain": [
       "              id  mb_used session_date  user_id  month\n",
       "0         1000_0    113.0   2018-11-25     1000     11\n",
       "1         1000_1   1053.0   2018-09-07     1000      9\n",
       "2         1000_2   1198.0   2018-06-25     1000      6\n",
       "3         1000_3    551.0   2018-08-22     1000      8\n",
       "4         1000_4    303.0   2018-09-24     1000      9\n",
       "...          ...      ...          ...      ...    ...\n",
       "149391  1499_152    319.0   2018-10-03     1499     10\n",
       "149392  1499_153    491.0   2018-12-14     1499     12\n",
       "149393  1499_154      0.0   2018-10-27     1499     10\n",
       "149394  1499_155   1247.0   2018-11-26     1499     11\n",
       "149395  1499_156    545.0   2018-10-26     1499     10\n",
       "\n",
       "[149396 rows x 5 columns]"
      ]
     },
     "metadata": {},
     "output_type": "display_data"
    },
    {
     "data": {
      "text/plain": [
       "<matplotlib.axes._subplots.AxesSubplot at 0x7efc5c245b10>"
      ]
     },
     "execution_count": 20,
     "metadata": {},
     "output_type": "execute_result"
    },
    {
     "data": {
      "image/png": "[encoded data removed]",
      "text/plain": [
       "<Figure size 432x288 with 1 Axes>"
      ]
     },
     "metadata": {
      "needs_background": "light"
     },
     "output_type": "display_data"
    }
   ],
   "source": [
    "#Округляем данные по израсходованному трафику в мегабайтах:\n",
    "internet['mb_used'] = internet['mb_used'].apply(np.ceil)\n",
    "display(internet)\n",
    "internet['mb_used'].hist(bins=100)"
   ]
  },
  {
   "cell_type": "code",
   "execution_count": 21,
   "metadata": {},
   "outputs": [
    {
     "data": {
      "text/html": [
       "<div>\n",
       "<style scoped>\n",
       "    .dataframe tbody tr th:only-of-type {\n",
       "        vertical-align: middle;\n",
       "    }\n",
       "\n",
       "    .dataframe tbody tr th {\n",
       "        vertical-align: top;\n",
       "    }\n",
       "\n",
       "    .dataframe thead th {\n",
       "        text-align: right;\n",
       "    }\n",
       "</style>\n",
       "<table border=\"1\" class=\"dataframe\">\n",
       "  <thead>\n",
       "    <tr style=\"text-align: right;\">\n",
       "      <th></th>\n",
       "      <th>id</th>\n",
       "      <th>mb_used</th>\n",
       "      <th>session_date</th>\n",
       "      <th>user_id</th>\n",
       "      <th>month</th>\n",
       "    </tr>\n",
       "  </thead>\n",
       "  <tbody>\n",
       "    <tr>\n",
       "      <td>11</td>\n",
       "      <td>1000_11</td>\n",
       "      <td>0.0</td>\n",
       "      <td>2018-08-28</td>\n",
       "      <td>1000</td>\n",
       "      <td>8</td>\n",
       "    </tr>\n",
       "    <tr>\n",
       "      <td>38</td>\n",
       "      <td>1000_38</td>\n",
       "      <td>0.0</td>\n",
       "      <td>2018-11-27</td>\n",
       "      <td>1000</td>\n",
       "      <td>11</td>\n",
       "    </tr>\n",
       "    <tr>\n",
       "      <td>46</td>\n",
       "      <td>1000_46</td>\n",
       "      <td>0.0</td>\n",
       "      <td>2018-06-30</td>\n",
       "      <td>1000</td>\n",
       "      <td>6</td>\n",
       "    </tr>\n",
       "    <tr>\n",
       "      <td>67</td>\n",
       "      <td>1000_67</td>\n",
       "      <td>0.0</td>\n",
       "      <td>2018-06-16</td>\n",
       "      <td>1000</td>\n",
       "      <td>6</td>\n",
       "    </tr>\n",
       "    <tr>\n",
       "      <td>72</td>\n",
       "      <td>1000_72</td>\n",
       "      <td>0.0</td>\n",
       "      <td>2018-06-15</td>\n",
       "      <td>1000</td>\n",
       "      <td>6</td>\n",
       "    </tr>\n",
       "    <tr>\n",
       "      <td>...</td>\n",
       "      <td>...</td>\n",
       "      <td>...</td>\n",
       "      <td>...</td>\n",
       "      <td>...</td>\n",
       "      <td>...</td>\n",
       "    </tr>\n",
       "    <tr>\n",
       "      <td>149380</td>\n",
       "      <td>1499_141</td>\n",
       "      <td>0.0</td>\n",
       "      <td>2018-12-11</td>\n",
       "      <td>1499</td>\n",
       "      <td>12</td>\n",
       "    </tr>\n",
       "    <tr>\n",
       "      <td>149381</td>\n",
       "      <td>1499_142</td>\n",
       "      <td>0.0</td>\n",
       "      <td>2018-11-01</td>\n",
       "      <td>1499</td>\n",
       "      <td>11</td>\n",
       "    </tr>\n",
       "    <tr>\n",
       "      <td>149383</td>\n",
       "      <td>1499_144</td>\n",
       "      <td>0.0</td>\n",
       "      <td>2018-11-27</td>\n",
       "      <td>1499</td>\n",
       "      <td>11</td>\n",
       "    </tr>\n",
       "    <tr>\n",
       "      <td>149386</td>\n",
       "      <td>1499_147</td>\n",
       "      <td>0.0</td>\n",
       "      <td>2018-10-21</td>\n",
       "      <td>1499</td>\n",
       "      <td>10</td>\n",
       "    </tr>\n",
       "    <tr>\n",
       "      <td>149393</td>\n",
       "      <td>1499_154</td>\n",
       "      <td>0.0</td>\n",
       "      <td>2018-10-27</td>\n",
       "      <td>1499</td>\n",
       "      <td>10</td>\n",
       "    </tr>\n",
       "  </tbody>\n",
       "</table>\n",
       "<p>19598 rows × 5 columns</p>\n",
       "</div>"
      ],
      "text/plain": [
       "              id  mb_used session_date  user_id  month\n",
       "11       1000_11      0.0   2018-08-28     1000      8\n",
       "38       1000_38      0.0   2018-11-27     1000     11\n",
       "46       1000_46      0.0   2018-06-30     1000      6\n",
       "67       1000_67      0.0   2018-06-16     1000      6\n",
       "72       1000_72      0.0   2018-06-15     1000      6\n",
       "...          ...      ...          ...      ...    ...\n",
       "149380  1499_141      0.0   2018-12-11     1499     12\n",
       "149381  1499_142      0.0   2018-11-01     1499     11\n",
       "149383  1499_144      0.0   2018-11-27     1499     11\n",
       "149386  1499_147      0.0   2018-10-21     1499     10\n",
       "149393  1499_154      0.0   2018-10-27     1499     10\n",
       "\n",
       "[19598 rows x 5 columns]"
      ]
     },
     "execution_count": 21,
     "metadata": {},
     "output_type": "execute_result"
    }
   ],
   "source": [
    "internet.query('mb_used == 0')"
   ]
  },
  {
   "cell_type": "markdown",
   "metadata": {},
   "source": [
    "19598 строк с нулевым значением, удалим их, т.к. они не нужны для дальнейшего анализа (за них не взимается плата по тарифу, и в описании к проекту по поводу нулевых значений в трафике ничего не сказано)"
   ]
  },
  {
   "cell_type": "code",
   "execution_count": 22,
   "metadata": {},
   "outputs": [
    {
     "data": {
      "text/html": [
       "<div>\n",
       "<style scoped>\n",
       "    .dataframe tbody tr th:only-of-type {\n",
       "        vertical-align: middle;\n",
       "    }\n",
       "\n",
       "    .dataframe tbody tr th {\n",
       "        vertical-align: top;\n",
       "    }\n",
       "\n",
       "    .dataframe thead th {\n",
       "        text-align: right;\n",
       "    }\n",
       "</style>\n",
       "<table border=\"1\" class=\"dataframe\">\n",
       "  <thead>\n",
       "    <tr style=\"text-align: right;\">\n",
       "      <th></th>\n",
       "      <th>id</th>\n",
       "      <th>mb_used</th>\n",
       "      <th>session_date</th>\n",
       "      <th>user_id</th>\n",
       "      <th>month</th>\n",
       "    </tr>\n",
       "  </thead>\n",
       "  <tbody>\n",
       "    <tr>\n",
       "      <td>0</td>\n",
       "      <td>1000_0</td>\n",
       "      <td>113.0</td>\n",
       "      <td>2018-11-25</td>\n",
       "      <td>1000</td>\n",
       "      <td>11</td>\n",
       "    </tr>\n",
       "    <tr>\n",
       "      <td>1</td>\n",
       "      <td>1000_1</td>\n",
       "      <td>1053.0</td>\n",
       "      <td>2018-09-07</td>\n",
       "      <td>1000</td>\n",
       "      <td>9</td>\n",
       "    </tr>\n",
       "    <tr>\n",
       "      <td>2</td>\n",
       "      <td>1000_2</td>\n",
       "      <td>1198.0</td>\n",
       "      <td>2018-06-25</td>\n",
       "      <td>1000</td>\n",
       "      <td>6</td>\n",
       "    </tr>\n",
       "    <tr>\n",
       "      <td>3</td>\n",
       "      <td>1000_3</td>\n",
       "      <td>551.0</td>\n",
       "      <td>2018-08-22</td>\n",
       "      <td>1000</td>\n",
       "      <td>8</td>\n",
       "    </tr>\n",
       "    <tr>\n",
       "      <td>4</td>\n",
       "      <td>1000_4</td>\n",
       "      <td>303.0</td>\n",
       "      <td>2018-09-24</td>\n",
       "      <td>1000</td>\n",
       "      <td>9</td>\n",
       "    </tr>\n",
       "    <tr>\n",
       "      <td>...</td>\n",
       "      <td>...</td>\n",
       "      <td>...</td>\n",
       "      <td>...</td>\n",
       "      <td>...</td>\n",
       "      <td>...</td>\n",
       "    </tr>\n",
       "    <tr>\n",
       "      <td>149390</td>\n",
       "      <td>1499_151</td>\n",
       "      <td>753.0</td>\n",
       "      <td>2018-10-11</td>\n",
       "      <td>1499</td>\n",
       "      <td>10</td>\n",
       "    </tr>\n",
       "    <tr>\n",
       "      <td>149391</td>\n",
       "      <td>1499_152</td>\n",
       "      <td>319.0</td>\n",
       "      <td>2018-10-03</td>\n",
       "      <td>1499</td>\n",
       "      <td>10</td>\n",
       "    </tr>\n",
       "    <tr>\n",
       "      <td>149392</td>\n",
       "      <td>1499_153</td>\n",
       "      <td>491.0</td>\n",
       "      <td>2018-12-14</td>\n",
       "      <td>1499</td>\n",
       "      <td>12</td>\n",
       "    </tr>\n",
       "    <tr>\n",
       "      <td>149394</td>\n",
       "      <td>1499_155</td>\n",
       "      <td>1247.0</td>\n",
       "      <td>2018-11-26</td>\n",
       "      <td>1499</td>\n",
       "      <td>11</td>\n",
       "    </tr>\n",
       "    <tr>\n",
       "      <td>149395</td>\n",
       "      <td>1499_156</td>\n",
       "      <td>545.0</td>\n",
       "      <td>2018-10-26</td>\n",
       "      <td>1499</td>\n",
       "      <td>10</td>\n",
       "    </tr>\n",
       "  </tbody>\n",
       "</table>\n",
       "<p>129798 rows × 5 columns</p>\n",
       "</div>"
      ],
      "text/plain": [
       "              id  mb_used session_date  user_id  month\n",
       "0         1000_0    113.0   2018-11-25     1000     11\n",
       "1         1000_1   1053.0   2018-09-07     1000      9\n",
       "2         1000_2   1198.0   2018-06-25     1000      6\n",
       "3         1000_3    551.0   2018-08-22     1000      8\n",
       "4         1000_4    303.0   2018-09-24     1000      9\n",
       "...          ...      ...          ...      ...    ...\n",
       "149390  1499_151    753.0   2018-10-11     1499     10\n",
       "149391  1499_152    319.0   2018-10-03     1499     10\n",
       "149392  1499_153    491.0   2018-12-14     1499     12\n",
       "149394  1499_155   1247.0   2018-11-26     1499     11\n",
       "149395  1499_156    545.0   2018-10-26     1499     10\n",
       "\n",
       "[129798 rows x 5 columns]"
      ]
     },
     "metadata": {},
     "output_type": "display_data"
    },
    {
     "data": {
      "image/png": "[encoded data removed]",
      "text/plain": [
       "<Figure size 432x288 with 1 Axes>"
      ]
     },
     "metadata": {
      "needs_background": "light"
     },
     "output_type": "display_data"
    }
   ],
   "source": [
    "internet['mb_used'] = internet['mb_used'].replace(0, np.NaN)\n",
    "internet = internet.dropna()\n",
    "internet['mb_used'].hist(bins=100, range=(1, 1500))\n",
    "display(internet)"
   ]
  },
  {
   "cell_type": "markdown",
   "metadata": {},
   "source": [
    "Добавим столбец Name в файл Users"
   ]
  },
  {
   "cell_type": "markdown",
   "metadata": {},
   "source": [
    "<div class=\"alert alert-success\">\n",
    "<h2>Комментарий ревьюера</h2>\n",
    "\n",
    "Пробелов можно было бы добавить для читаемости :)\n",
    "</div>"
   ]
  },
  {
   "cell_type": "code",
   "execution_count": 23,
   "metadata": {},
   "outputs": [
    {
     "data": {
      "text/html": [
       "<div>\n",
       "<style scoped>\n",
       "    .dataframe tbody tr th:only-of-type {\n",
       "        vertical-align: middle;\n",
       "    }\n",
       "\n",
       "    .dataframe tbody tr th {\n",
       "        vertical-align: top;\n",
       "    }\n",
       "\n",
       "    .dataframe thead th {\n",
       "        text-align: right;\n",
       "    }\n",
       "</style>\n",
       "<table border=\"1\" class=\"dataframe\">\n",
       "  <thead>\n",
       "    <tr style=\"text-align: right;\">\n",
       "      <th></th>\n",
       "      <th>user_id</th>\n",
       "      <th>age</th>\n",
       "      <th>churn_date</th>\n",
       "      <th>city</th>\n",
       "      <th>first_name</th>\n",
       "      <th>last_name</th>\n",
       "      <th>reg_date</th>\n",
       "      <th>tariff</th>\n",
       "      <th>name</th>\n",
       "    </tr>\n",
       "  </thead>\n",
       "  <tbody>\n",
       "    <tr>\n",
       "      <td>0</td>\n",
       "      <td>1000</td>\n",
       "      <td>52</td>\n",
       "      <td>NaT</td>\n",
       "      <td>Краснодар</td>\n",
       "      <td>Рафаил</td>\n",
       "      <td>Верещагин</td>\n",
       "      <td>2018-05-25</td>\n",
       "      <td>ultra</td>\n",
       "      <td>Краснодар Рафаил Верещагин</td>\n",
       "    </tr>\n",
       "    <tr>\n",
       "      <td>1</td>\n",
       "      <td>1001</td>\n",
       "      <td>41</td>\n",
       "      <td>NaT</td>\n",
       "      <td>Москва</td>\n",
       "      <td>Иван</td>\n",
       "      <td>Ежов</td>\n",
       "      <td>2018-11-01</td>\n",
       "      <td>smart</td>\n",
       "      <td>Москва Иван Ежов</td>\n",
       "    </tr>\n",
       "    <tr>\n",
       "      <td>2</td>\n",
       "      <td>1002</td>\n",
       "      <td>59</td>\n",
       "      <td>NaT</td>\n",
       "      <td>Стерлитамак</td>\n",
       "      <td>Евгений</td>\n",
       "      <td>Абрамович</td>\n",
       "      <td>2018-06-17</td>\n",
       "      <td>smart</td>\n",
       "      <td>Стерлитамак Евгений Абрамович</td>\n",
       "    </tr>\n",
       "    <tr>\n",
       "      <td>3</td>\n",
       "      <td>1003</td>\n",
       "      <td>23</td>\n",
       "      <td>NaT</td>\n",
       "      <td>Москва</td>\n",
       "      <td>Белла</td>\n",
       "      <td>Белякова</td>\n",
       "      <td>2018-08-17</td>\n",
       "      <td>ultra</td>\n",
       "      <td>Москва Белла Белякова</td>\n",
       "    </tr>\n",
       "    <tr>\n",
       "      <td>4</td>\n",
       "      <td>1004</td>\n",
       "      <td>68</td>\n",
       "      <td>NaT</td>\n",
       "      <td>Новокузнецк</td>\n",
       "      <td>Татьяна</td>\n",
       "      <td>Авдеенко</td>\n",
       "      <td>2018-05-14</td>\n",
       "      <td>ultra</td>\n",
       "      <td>Новокузнецк Татьяна Авдеенко</td>\n",
       "    </tr>\n",
       "    <tr>\n",
       "      <td>...</td>\n",
       "      <td>...</td>\n",
       "      <td>...</td>\n",
       "      <td>...</td>\n",
       "      <td>...</td>\n",
       "      <td>...</td>\n",
       "      <td>...</td>\n",
       "      <td>...</td>\n",
       "      <td>...</td>\n",
       "      <td>...</td>\n",
       "    </tr>\n",
       "    <tr>\n",
       "      <td>495</td>\n",
       "      <td>1495</td>\n",
       "      <td>65</td>\n",
       "      <td>NaT</td>\n",
       "      <td>Иркутск</td>\n",
       "      <td>Авксентий</td>\n",
       "      <td>Фокин</td>\n",
       "      <td>2018-08-28</td>\n",
       "      <td>ultra</td>\n",
       "      <td>Иркутск Авксентий Фокин</td>\n",
       "    </tr>\n",
       "    <tr>\n",
       "      <td>496</td>\n",
       "      <td>1496</td>\n",
       "      <td>36</td>\n",
       "      <td>NaT</td>\n",
       "      <td>Вологда</td>\n",
       "      <td>Трифон</td>\n",
       "      <td>Блохин</td>\n",
       "      <td>2018-01-27</td>\n",
       "      <td>smart</td>\n",
       "      <td>Вологда Трифон Блохин</td>\n",
       "    </tr>\n",
       "    <tr>\n",
       "      <td>497</td>\n",
       "      <td>1497</td>\n",
       "      <td>32</td>\n",
       "      <td>NaT</td>\n",
       "      <td>Челябинск</td>\n",
       "      <td>Каролина</td>\n",
       "      <td>Агеева</td>\n",
       "      <td>2018-10-09</td>\n",
       "      <td>smart</td>\n",
       "      <td>Челябинск Каролина Агеева</td>\n",
       "    </tr>\n",
       "    <tr>\n",
       "      <td>498</td>\n",
       "      <td>1498</td>\n",
       "      <td>68</td>\n",
       "      <td>2018-10-25</td>\n",
       "      <td>Владикавказ</td>\n",
       "      <td>Всеволод</td>\n",
       "      <td>Акимчин</td>\n",
       "      <td>2018-07-19</td>\n",
       "      <td>smart</td>\n",
       "      <td>Владикавказ Всеволод Акимчин</td>\n",
       "    </tr>\n",
       "    <tr>\n",
       "      <td>499</td>\n",
       "      <td>1499</td>\n",
       "      <td>35</td>\n",
       "      <td>NaT</td>\n",
       "      <td>Пермь</td>\n",
       "      <td>Гектор</td>\n",
       "      <td>Корнилов</td>\n",
       "      <td>2018-09-27</td>\n",
       "      <td>smart</td>\n",
       "      <td>Пермь Гектор Корнилов</td>\n",
       "    </tr>\n",
       "  </tbody>\n",
       "</table>\n",
       "<p>500 rows × 9 columns</p>\n",
       "</div>"
      ],
      "text/plain": [
       "     user_id  age churn_date         city first_name  last_name   reg_date  \\\n",
       "0       1000   52        NaT    Краснодар     Рафаил  Верещагин 2018-05-25   \n",
       "1       1001   41        NaT       Москва       Иван       Ежов 2018-11-01   \n",
       "2       1002   59        NaT  Стерлитамак    Евгений  Абрамович 2018-06-17   \n",
       "3       1003   23        NaT       Москва      Белла   Белякова 2018-08-17   \n",
       "4       1004   68        NaT  Новокузнецк    Татьяна   Авдеенко 2018-05-14   \n",
       "..       ...  ...        ...          ...        ...        ...        ...   \n",
       "495     1495   65        NaT      Иркутск  Авксентий      Фокин 2018-08-28   \n",
       "496     1496   36        NaT      Вологда     Трифон     Блохин 2018-01-27   \n",
       "497     1497   32        NaT    Челябинск   Каролина     Агеева 2018-10-09   \n",
       "498     1498   68 2018-10-25  Владикавказ   Всеволод    Акимчин 2018-07-19   \n",
       "499     1499   35        NaT        Пермь     Гектор   Корнилов 2018-09-27   \n",
       "\n",
       "    tariff                           name  \n",
       "0    ultra     Краснодар Рафаил Верещагин  \n",
       "1    smart               Москва Иван Ежов  \n",
       "2    smart  Стерлитамак Евгений Абрамович  \n",
       "3    ultra          Москва Белла Белякова  \n",
       "4    ultra   Новокузнецк Татьяна Авдеенко  \n",
       "..     ...                            ...  \n",
       "495  ultra        Иркутск Авксентий Фокин  \n",
       "496  smart          Вологда Трифон Блохин  \n",
       "497  smart      Челябинск Каролина Агеева  \n",
       "498  smart   Владикавказ Всеволод Акимчин  \n",
       "499  smart          Пермь Гектор Корнилов  \n",
       "\n",
       "[500 rows x 9 columns]"
      ]
     },
     "execution_count": 23,
     "metadata": {},
     "output_type": "execute_result"
    }
   ],
   "source": [
    "users['name'] = users['city'] + ' ' + users['first_name'] + ' ' + users['last_name']\n",
    "users"
   ]
  },
  {
   "cell_type": "markdown",
   "metadata": {},
   "source": [
    "<div class=\"alert alert-info\" style=\"background:pink;color:#A91E69\">\n",
    "<h2>Комментарий студента </h2>\n",
    "    Добавил пробелы\n",
    "</div>"
   ]
  },
  {
   "cell_type": "markdown",
   "metadata": {},
   "source": [
    "<div class=\"alert alert-success\">\n",
    "<h2>Комментарий ревьюера V.2</h2>\n",
    "\n",
    "👍\n",
    "</div>"
   ]
  },
  {
   "cell_type": "markdown",
   "metadata": {},
   "source": [
    "Создадим сводные таблицы по звонкам, смс, интернет-трафику"
   ]
  },
  {
   "cell_type": "code",
   "execution_count": 24,
   "metadata": {},
   "outputs": [
    {
     "data": {
      "text/html": [
       "<div>\n",
       "<style scoped>\n",
       "    .dataframe tbody tr th:only-of-type {\n",
       "        vertical-align: middle;\n",
       "    }\n",
       "\n",
       "    .dataframe tbody tr th {\n",
       "        vertical-align: top;\n",
       "    }\n",
       "\n",
       "    .dataframe thead th {\n",
       "        text-align: right;\n",
       "    }\n",
       "</style>\n",
       "<table border=\"1\" class=\"dataframe\">\n",
       "  <thead>\n",
       "    <tr style=\"text-align: right;\">\n",
       "      <th></th>\n",
       "      <th></th>\n",
       "      <th>duration</th>\n",
       "      <th>calls</th>\n",
       "    </tr>\n",
       "    <tr>\n",
       "      <th>user_id</th>\n",
       "      <th>month</th>\n",
       "      <th></th>\n",
       "      <th></th>\n",
       "    </tr>\n",
       "  </thead>\n",
       "  <tbody>\n",
       "    <tr>\n",
       "      <td rowspan=\"5\" valign=\"top\">1000</td>\n",
       "      <td>5.0</td>\n",
       "      <td>159.0</td>\n",
       "      <td>22</td>\n",
       "    </tr>\n",
       "    <tr>\n",
       "      <td>6.0</td>\n",
       "      <td>172.0</td>\n",
       "      <td>43</td>\n",
       "    </tr>\n",
       "    <tr>\n",
       "      <td>7.0</td>\n",
       "      <td>340.0</td>\n",
       "      <td>47</td>\n",
       "    </tr>\n",
       "    <tr>\n",
       "      <td>8.0</td>\n",
       "      <td>408.0</td>\n",
       "      <td>52</td>\n",
       "    </tr>\n",
       "    <tr>\n",
       "      <td>9.0</td>\n",
       "      <td>466.0</td>\n",
       "      <td>58</td>\n",
       "    </tr>\n",
       "    <tr>\n",
       "      <td>...</td>\n",
       "      <td>...</td>\n",
       "      <td>...</td>\n",
       "      <td>...</td>\n",
       "    </tr>\n",
       "    <tr>\n",
       "      <td>1498</td>\n",
       "      <td>10.0</td>\n",
       "      <td>247.0</td>\n",
       "      <td>41</td>\n",
       "    </tr>\n",
       "    <tr>\n",
       "      <td rowspan=\"4\" valign=\"top\">1499</td>\n",
       "      <td>9.0</td>\n",
       "      <td>70.0</td>\n",
       "      <td>9</td>\n",
       "    </tr>\n",
       "    <tr>\n",
       "      <td>10.0</td>\n",
       "      <td>449.0</td>\n",
       "      <td>68</td>\n",
       "    </tr>\n",
       "    <tr>\n",
       "      <td>11.0</td>\n",
       "      <td>612.0</td>\n",
       "      <td>74</td>\n",
       "    </tr>\n",
       "    <tr>\n",
       "      <td>12.0</td>\n",
       "      <td>492.0</td>\n",
       "      <td>69</td>\n",
       "    </tr>\n",
       "  </tbody>\n",
       "</table>\n",
       "<p>3174 rows × 2 columns</p>\n",
       "</div>"
      ],
      "text/plain": [
       "               duration  calls\n",
       "user_id month                 \n",
       "1000    5.0       159.0     22\n",
       "        6.0       172.0     43\n",
       "        7.0       340.0     47\n",
       "        8.0       408.0     52\n",
       "        9.0       466.0     58\n",
       "...                 ...    ...\n",
       "1498    10.0      247.0     41\n",
       "1499    9.0        70.0      9\n",
       "        10.0      449.0     68\n",
       "        11.0      612.0     74\n",
       "        12.0      492.0     69\n",
       "\n",
       "[3174 rows x 2 columns]"
      ]
     },
     "execution_count": 24,
     "metadata": {},
     "output_type": "execute_result"
    }
   ],
   "source": [
    "calls_t = calls.merge(users, on='user_id', how='outer')\n",
    "calls_grpd = calls_t.pivot_table(values=['name', 'duration'], \n",
    "                       index=['user_id', 'month'], \n",
    "                       aggfunc={'name': 'count', 'duration': 'sum'})\n",
    "calls_grpd.columns = ['duration', 'calls'] \n",
    "calls_grpd"
   ]
  },
  {
   "cell_type": "code",
   "execution_count": 25,
   "metadata": {},
   "outputs": [
    {
     "data": {
      "text/html": [
       "<div>\n",
       "<style scoped>\n",
       "    .dataframe tbody tr th:only-of-type {\n",
       "        vertical-align: middle;\n",
       "    }\n",
       "\n",
       "    .dataframe tbody tr th {\n",
       "        vertical-align: top;\n",
       "    }\n",
       "\n",
       "    .dataframe thead th {\n",
       "        text-align: right;\n",
       "    }\n",
       "</style>\n",
       "<table border=\"1\" class=\"dataframe\">\n",
       "  <thead>\n",
       "    <tr style=\"text-align: right;\">\n",
       "      <th></th>\n",
       "      <th></th>\n",
       "      <th>messages</th>\n",
       "    </tr>\n",
       "    <tr>\n",
       "      <th>user_id</th>\n",
       "      <th>month</th>\n",
       "      <th></th>\n",
       "    </tr>\n",
       "  </thead>\n",
       "  <tbody>\n",
       "    <tr>\n",
       "      <td rowspan=\"5\" valign=\"top\">1000</td>\n",
       "      <td>5.0</td>\n",
       "      <td>22</td>\n",
       "    </tr>\n",
       "    <tr>\n",
       "      <td>6.0</td>\n",
       "      <td>60</td>\n",
       "    </tr>\n",
       "    <tr>\n",
       "      <td>7.0</td>\n",
       "      <td>75</td>\n",
       "    </tr>\n",
       "    <tr>\n",
       "      <td>8.0</td>\n",
       "      <td>81</td>\n",
       "    </tr>\n",
       "    <tr>\n",
       "      <td>9.0</td>\n",
       "      <td>57</td>\n",
       "    </tr>\n",
       "    <tr>\n",
       "      <td>...</td>\n",
       "      <td>...</td>\n",
       "      <td>...</td>\n",
       "    </tr>\n",
       "    <tr>\n",
       "      <td>1498</td>\n",
       "      <td>10.0</td>\n",
       "      <td>42</td>\n",
       "    </tr>\n",
       "    <tr>\n",
       "      <td rowspan=\"4\" valign=\"top\">1499</td>\n",
       "      <td>9.0</td>\n",
       "      <td>11</td>\n",
       "    </tr>\n",
       "    <tr>\n",
       "      <td>10.0</td>\n",
       "      <td>48</td>\n",
       "    </tr>\n",
       "    <tr>\n",
       "      <td>11.0</td>\n",
       "      <td>59</td>\n",
       "    </tr>\n",
       "    <tr>\n",
       "      <td>12.0</td>\n",
       "      <td>66</td>\n",
       "    </tr>\n",
       "  </tbody>\n",
       "</table>\n",
       "<p>2717 rows × 1 columns</p>\n",
       "</div>"
      ],
      "text/plain": [
       "               messages\n",
       "user_id month          \n",
       "1000    5.0          22\n",
       "        6.0          60\n",
       "        7.0          75\n",
       "        8.0          81\n",
       "        9.0          57\n",
       "...                 ...\n",
       "1498    10.0         42\n",
       "1499    9.0          11\n",
       "        10.0         48\n",
       "        11.0         59\n",
       "        12.0         66\n",
       "\n",
       "[2717 rows x 1 columns]"
      ]
     },
     "execution_count": 25,
     "metadata": {},
     "output_type": "execute_result"
    }
   ],
   "source": [
    "messages_t = messages.merge(users, on='user_id', how='outer')\n",
    "messages_grpd = messages_t.pivot_table(values='name', \n",
    "                       index=['user_id', 'month'], \n",
    "                       aggfunc={'name': 'count'})\n",
    "messages_grpd.columns = ['messages']\n",
    "messages_grpd"
   ]
  },
  {
   "cell_type": "code",
   "execution_count": 26,
   "metadata": {},
   "outputs": [
    {
     "data": {
      "text/html": [
       "<div>\n",
       "<style scoped>\n",
       "    .dataframe tbody tr th:only-of-type {\n",
       "        vertical-align: middle;\n",
       "    }\n",
       "\n",
       "    .dataframe tbody tr th {\n",
       "        vertical-align: top;\n",
       "    }\n",
       "\n",
       "    .dataframe thead th {\n",
       "        text-align: right;\n",
       "    }\n",
       "</style>\n",
       "<table border=\"1\" class=\"dataframe\">\n",
       "  <thead>\n",
       "    <tr style=\"text-align: right;\">\n",
       "      <th></th>\n",
       "      <th></th>\n",
       "      <th>mb_used</th>\n",
       "    </tr>\n",
       "    <tr>\n",
       "      <th>user_id</th>\n",
       "      <th>month</th>\n",
       "      <th></th>\n",
       "    </tr>\n",
       "  </thead>\n",
       "  <tbody>\n",
       "    <tr>\n",
       "      <td rowspan=\"5\" valign=\"top\">1000</td>\n",
       "      <td>5.0</td>\n",
       "      <td>2256.0</td>\n",
       "    </tr>\n",
       "    <tr>\n",
       "      <td>6.0</td>\n",
       "      <td>23257.0</td>\n",
       "    </tr>\n",
       "    <tr>\n",
       "      <td>7.0</td>\n",
       "      <td>14016.0</td>\n",
       "    </tr>\n",
       "    <tr>\n",
       "      <td>8.0</td>\n",
       "      <td>14070.0</td>\n",
       "    </tr>\n",
       "    <tr>\n",
       "      <td>9.0</td>\n",
       "      <td>14581.0</td>\n",
       "    </tr>\n",
       "    <tr>\n",
       "      <td>...</td>\n",
       "      <td>...</td>\n",
       "      <td>...</td>\n",
       "    </tr>\n",
       "    <tr>\n",
       "      <td>1498</td>\n",
       "      <td>10.0</td>\n",
       "      <td>20604.0</td>\n",
       "    </tr>\n",
       "    <tr>\n",
       "      <td rowspan=\"4\" valign=\"top\">1499</td>\n",
       "      <td>9.0</td>\n",
       "      <td>1848.0</td>\n",
       "    </tr>\n",
       "    <tr>\n",
       "      <td>10.0</td>\n",
       "      <td>17809.0</td>\n",
       "    </tr>\n",
       "    <tr>\n",
       "      <td>11.0</td>\n",
       "      <td>17984.0</td>\n",
       "    </tr>\n",
       "    <tr>\n",
       "      <td>12.0</td>\n",
       "      <td>13077.0</td>\n",
       "    </tr>\n",
       "  </tbody>\n",
       "</table>\n",
       "<p>3201 rows × 1 columns</p>\n",
       "</div>"
      ],
      "text/plain": [
       "               mb_used\n",
       "user_id month         \n",
       "1000    5.0     2256.0\n",
       "        6.0    23257.0\n",
       "        7.0    14016.0\n",
       "        8.0    14070.0\n",
       "        9.0    14581.0\n",
       "...                ...\n",
       "1498    10.0   20604.0\n",
       "1499    9.0     1848.0\n",
       "        10.0   17809.0\n",
       "        11.0   17984.0\n",
       "        12.0   13077.0\n",
       "\n",
       "[3201 rows x 1 columns]"
      ]
     },
     "execution_count": 26,
     "metadata": {},
     "output_type": "execute_result"
    }
   ],
   "source": [
    "internet_t = internet.merge(users, on='user_id', how='outer')\n",
    "internet_grpd = internet_t.pivot_table(values='mb_used', \n",
    "                       index=['user_id', 'month'], \n",
    "                       aggfunc={'mb_used': 'sum'})\n",
    "internet_grpd.columns = ['mb_used']\n",
    "internet_grpd"
   ]
  },
  {
   "cell_type": "markdown",
   "metadata": {},
   "source": [
    "<div class=\"alert alert-success\">\n",
    "<h2>Комментарий ревьюера</h2>\n",
    "\n",
    "А зачем мержить с пользователями через `outer`? Так получаются пропуски в месяцах, которые ты потом всё равно неявно удаляешь, т.к. `groupby` по пропускам не группирует\n",
    "</div>"
   ]
  },
  {
   "cell_type": "code",
   "execution_count": 27,
   "metadata": {},
   "outputs": [
    {
     "data": {
      "text/plain": [
       "[]"
      ]
     },
     "execution_count": 27,
     "metadata": {},
     "output_type": "execute_result"
    }
   ],
   "source": [
    "# Код ревьюера\n",
    "list(filter(lambda xy : pd.isna(xy[1]), internet_grpd.index))"
   ]
  },
  {
   "cell_type": "markdown",
   "metadata": {},
   "source": [
    "Объединим все таблицы в одну общую:"
   ]
  },
  {
   "cell_type": "code",
   "execution_count": 28,
   "metadata": {},
   "outputs": [
    {
     "data": {
      "text/html": [
       "<div>\n",
       "<style scoped>\n",
       "    .dataframe tbody tr th:only-of-type {\n",
       "        vertical-align: middle;\n",
       "    }\n",
       "\n",
       "    .dataframe tbody tr th {\n",
       "        vertical-align: top;\n",
       "    }\n",
       "\n",
       "    .dataframe thead th {\n",
       "        text-align: right;\n",
       "    }\n",
       "</style>\n",
       "<table border=\"1\" class=\"dataframe\">\n",
       "  <thead>\n",
       "    <tr style=\"text-align: right;\">\n",
       "      <th></th>\n",
       "      <th></th>\n",
       "      <th>duration</th>\n",
       "      <th>calls</th>\n",
       "      <th>messages</th>\n",
       "      <th>mb_used</th>\n",
       "      <th>tariff</th>\n",
       "      <th>gb_used</th>\n",
       "    </tr>\n",
       "    <tr>\n",
       "      <th>user_id</th>\n",
       "      <th>month</th>\n",
       "      <th></th>\n",
       "      <th></th>\n",
       "      <th></th>\n",
       "      <th></th>\n",
       "      <th></th>\n",
       "      <th></th>\n",
       "    </tr>\n",
       "  </thead>\n",
       "  <tbody>\n",
       "    <tr>\n",
       "      <td rowspan=\"5\" valign=\"top\">1000</td>\n",
       "      <td>5.0</td>\n",
       "      <td>159.0</td>\n",
       "      <td>22.0</td>\n",
       "      <td>22.0</td>\n",
       "      <td>2256.0</td>\n",
       "      <td>ultra</td>\n",
       "      <td>3.0</td>\n",
       "    </tr>\n",
       "    <tr>\n",
       "      <td>6.0</td>\n",
       "      <td>172.0</td>\n",
       "      <td>43.0</td>\n",
       "      <td>60.0</td>\n",
       "      <td>23257.0</td>\n",
       "      <td>ultra</td>\n",
       "      <td>23.0</td>\n",
       "    </tr>\n",
       "    <tr>\n",
       "      <td>7.0</td>\n",
       "      <td>340.0</td>\n",
       "      <td>47.0</td>\n",
       "      <td>75.0</td>\n",
       "      <td>14016.0</td>\n",
       "      <td>ultra</td>\n",
       "      <td>14.0</td>\n",
       "    </tr>\n",
       "    <tr>\n",
       "      <td>8.0</td>\n",
       "      <td>408.0</td>\n",
       "      <td>52.0</td>\n",
       "      <td>81.0</td>\n",
       "      <td>14070.0</td>\n",
       "      <td>ultra</td>\n",
       "      <td>14.0</td>\n",
       "    </tr>\n",
       "    <tr>\n",
       "      <td>9.0</td>\n",
       "      <td>466.0</td>\n",
       "      <td>58.0</td>\n",
       "      <td>57.0</td>\n",
       "      <td>14581.0</td>\n",
       "      <td>ultra</td>\n",
       "      <td>15.0</td>\n",
       "    </tr>\n",
       "    <tr>\n",
       "      <td>...</td>\n",
       "      <td>...</td>\n",
       "      <td>...</td>\n",
       "      <td>...</td>\n",
       "      <td>...</td>\n",
       "      <td>...</td>\n",
       "      <td>...</td>\n",
       "      <td>...</td>\n",
       "    </tr>\n",
       "    <tr>\n",
       "      <td rowspan=\"4\" valign=\"top\">1489</td>\n",
       "      <td>9.0</td>\n",
       "      <td>NaN</td>\n",
       "      <td>NaN</td>\n",
       "      <td>32.0</td>\n",
       "      <td>17232.0</td>\n",
       "      <td>smart</td>\n",
       "      <td>17.0</td>\n",
       "    </tr>\n",
       "    <tr>\n",
       "      <td>10.0</td>\n",
       "      <td>NaN</td>\n",
       "      <td>NaN</td>\n",
       "      <td>21.0</td>\n",
       "      <td>19588.0</td>\n",
       "      <td>smart</td>\n",
       "      <td>20.0</td>\n",
       "    </tr>\n",
       "    <tr>\n",
       "      <td>11.0</td>\n",
       "      <td>NaN</td>\n",
       "      <td>NaN</td>\n",
       "      <td>20.0</td>\n",
       "      <td>17516.0</td>\n",
       "      <td>smart</td>\n",
       "      <td>18.0</td>\n",
       "    </tr>\n",
       "    <tr>\n",
       "      <td>12.0</td>\n",
       "      <td>NaN</td>\n",
       "      <td>NaN</td>\n",
       "      <td>35.0</td>\n",
       "      <td>17341.0</td>\n",
       "      <td>smart</td>\n",
       "      <td>17.0</td>\n",
       "    </tr>\n",
       "    <tr>\n",
       "      <td>1476</td>\n",
       "      <td>4.0</td>\n",
       "      <td>NaN</td>\n",
       "      <td>NaN</td>\n",
       "      <td>NaN</td>\n",
       "      <td>531.0</td>\n",
       "      <td>ultra</td>\n",
       "      <td>1.0</td>\n",
       "    </tr>\n",
       "  </tbody>\n",
       "</table>\n",
       "<p>3214 rows × 6 columns</p>\n",
       "</div>"
      ],
      "text/plain": [
       "               duration  calls  messages  mb_used tariff  gb_used\n",
       "user_id month                                                    \n",
       "1000    5.0       159.0   22.0      22.0   2256.0  ultra      3.0\n",
       "        6.0       172.0   43.0      60.0  23257.0  ultra     23.0\n",
       "        7.0       340.0   47.0      75.0  14016.0  ultra     14.0\n",
       "        8.0       408.0   52.0      81.0  14070.0  ultra     14.0\n",
       "        9.0       466.0   58.0      57.0  14581.0  ultra     15.0\n",
       "...                 ...    ...       ...      ...    ...      ...\n",
       "1489    9.0         NaN    NaN      32.0  17232.0  smart     17.0\n",
       "        10.0        NaN    NaN      21.0  19588.0  smart     20.0\n",
       "        11.0        NaN    NaN      20.0  17516.0  smart     18.0\n",
       "        12.0        NaN    NaN      35.0  17341.0  smart     17.0\n",
       "1476    4.0         NaN    NaN       NaN    531.0  ultra      1.0\n",
       "\n",
       "[3214 rows x 6 columns]"
      ]
     },
     "execution_count": 28,
     "metadata": {},
     "output_type": "execute_result"
    }
   ],
   "source": [
    "data_grpd = calls_grpd.merge(messages_grpd,  how = 'outer', on = ['user_id', 'month']).merge(internet_grpd,  how = 'outer', on = ['user_id', 'month'])\n",
    "\n",
    "for user in data_grpd.index:\n",
    "    data_grpd.loc[user, 'tariff'] = users.loc[user[0]-1000, 'tariff']\n",
    "    \n",
    "data_grpd['gb_used'] = data_grpd['mb_used'] / 1024\n",
    "data_grpd['gb_used'] = data_grpd['gb_used'].apply(np.ceil)\n",
    "data_grpd"
   ]
  },
  {
   "cell_type": "markdown",
   "metadata": {},
   "source": [
    "<div class=\"alert alert-success\">\n",
    "<h2>Комментарий ревьюера</h2>\n",
    "\n",
    "В общем я не очень понял идею с мержем с `users`, если бы ты смержитл с этой таблицей `data_grpd`, то тебе не пришлось бы добавлять столбец с тарифом, он бы появился после мержа\n",
    "</div>"
   ]
  },
  {
   "cell_type": "markdown",
   "metadata": {},
   "source": [
    "Заменим пропуски в данных на 0:"
   ]
  },
  {
   "cell_type": "code",
   "execution_count": 29,
   "metadata": {},
   "outputs": [
    {
     "data": {
      "text/html": [
       "<div>\n",
       "<style scoped>\n",
       "    .dataframe tbody tr th:only-of-type {\n",
       "        vertical-align: middle;\n",
       "    }\n",
       "\n",
       "    .dataframe tbody tr th {\n",
       "        vertical-align: top;\n",
       "    }\n",
       "\n",
       "    .dataframe thead th {\n",
       "        text-align: right;\n",
       "    }\n",
       "</style>\n",
       "<table border=\"1\" class=\"dataframe\">\n",
       "  <thead>\n",
       "    <tr style=\"text-align: right;\">\n",
       "      <th></th>\n",
       "      <th></th>\n",
       "      <th>duration</th>\n",
       "      <th>calls</th>\n",
       "      <th>messages</th>\n",
       "      <th>mb_used</th>\n",
       "      <th>tariff</th>\n",
       "      <th>gb_used</th>\n",
       "    </tr>\n",
       "    <tr>\n",
       "      <th>user_id</th>\n",
       "      <th>month</th>\n",
       "      <th></th>\n",
       "      <th></th>\n",
       "      <th></th>\n",
       "      <th></th>\n",
       "      <th></th>\n",
       "      <th></th>\n",
       "    </tr>\n",
       "  </thead>\n",
       "  <tbody>\n",
       "    <tr>\n",
       "      <td rowspan=\"5\" valign=\"top\">1000</td>\n",
       "      <td>5.0</td>\n",
       "      <td>159.0</td>\n",
       "      <td>22.0</td>\n",
       "      <td>22.0</td>\n",
       "      <td>2256.0</td>\n",
       "      <td>ultra</td>\n",
       "      <td>3.0</td>\n",
       "    </tr>\n",
       "    <tr>\n",
       "      <td>6.0</td>\n",
       "      <td>172.0</td>\n",
       "      <td>43.0</td>\n",
       "      <td>60.0</td>\n",
       "      <td>23257.0</td>\n",
       "      <td>ultra</td>\n",
       "      <td>23.0</td>\n",
       "    </tr>\n",
       "    <tr>\n",
       "      <td>7.0</td>\n",
       "      <td>340.0</td>\n",
       "      <td>47.0</td>\n",
       "      <td>75.0</td>\n",
       "      <td>14016.0</td>\n",
       "      <td>ultra</td>\n",
       "      <td>14.0</td>\n",
       "    </tr>\n",
       "    <tr>\n",
       "      <td>8.0</td>\n",
       "      <td>408.0</td>\n",
       "      <td>52.0</td>\n",
       "      <td>81.0</td>\n",
       "      <td>14070.0</td>\n",
       "      <td>ultra</td>\n",
       "      <td>14.0</td>\n",
       "    </tr>\n",
       "    <tr>\n",
       "      <td>9.0</td>\n",
       "      <td>466.0</td>\n",
       "      <td>58.0</td>\n",
       "      <td>57.0</td>\n",
       "      <td>14581.0</td>\n",
       "      <td>ultra</td>\n",
       "      <td>15.0</td>\n",
       "    </tr>\n",
       "    <tr>\n",
       "      <td>...</td>\n",
       "      <td>...</td>\n",
       "      <td>...</td>\n",
       "      <td>...</td>\n",
       "      <td>...</td>\n",
       "      <td>...</td>\n",
       "      <td>...</td>\n",
       "      <td>...</td>\n",
       "    </tr>\n",
       "    <tr>\n",
       "      <td rowspan=\"4\" valign=\"top\">1489</td>\n",
       "      <td>9.0</td>\n",
       "      <td>0.0</td>\n",
       "      <td>0.0</td>\n",
       "      <td>32.0</td>\n",
       "      <td>17232.0</td>\n",
       "      <td>smart</td>\n",
       "      <td>17.0</td>\n",
       "    </tr>\n",
       "    <tr>\n",
       "      <td>10.0</td>\n",
       "      <td>0.0</td>\n",
       "      <td>0.0</td>\n",
       "      <td>21.0</td>\n",
       "      <td>19588.0</td>\n",
       "      <td>smart</td>\n",
       "      <td>20.0</td>\n",
       "    </tr>\n",
       "    <tr>\n",
       "      <td>11.0</td>\n",
       "      <td>0.0</td>\n",
       "      <td>0.0</td>\n",
       "      <td>20.0</td>\n",
       "      <td>17516.0</td>\n",
       "      <td>smart</td>\n",
       "      <td>18.0</td>\n",
       "    </tr>\n",
       "    <tr>\n",
       "      <td>12.0</td>\n",
       "      <td>0.0</td>\n",
       "      <td>0.0</td>\n",
       "      <td>35.0</td>\n",
       "      <td>17341.0</td>\n",
       "      <td>smart</td>\n",
       "      <td>17.0</td>\n",
       "    </tr>\n",
       "    <tr>\n",
       "      <td>1476</td>\n",
       "      <td>4.0</td>\n",
       "      <td>0.0</td>\n",
       "      <td>0.0</td>\n",
       "      <td>0.0</td>\n",
       "      <td>531.0</td>\n",
       "      <td>ultra</td>\n",
       "      <td>1.0</td>\n",
       "    </tr>\n",
       "  </tbody>\n",
       "</table>\n",
       "<p>3214 rows × 6 columns</p>\n",
       "</div>"
      ],
      "text/plain": [
       "               duration  calls  messages  mb_used tariff  gb_used\n",
       "user_id month                                                    \n",
       "1000    5.0       159.0   22.0      22.0   2256.0  ultra      3.0\n",
       "        6.0       172.0   43.0      60.0  23257.0  ultra     23.0\n",
       "        7.0       340.0   47.0      75.0  14016.0  ultra     14.0\n",
       "        8.0       408.0   52.0      81.0  14070.0  ultra     14.0\n",
       "        9.0       466.0   58.0      57.0  14581.0  ultra     15.0\n",
       "...                 ...    ...       ...      ...    ...      ...\n",
       "1489    9.0         0.0    0.0      32.0  17232.0  smart     17.0\n",
       "        10.0        0.0    0.0      21.0  19588.0  smart     20.0\n",
       "        11.0        0.0    0.0      20.0  17516.0  smart     18.0\n",
       "        12.0        0.0    0.0      35.0  17341.0  smart     17.0\n",
       "1476    4.0         0.0    0.0       0.0    531.0  ultra      1.0\n",
       "\n",
       "[3214 rows x 6 columns]"
      ]
     },
     "execution_count": 29,
     "metadata": {},
     "output_type": "execute_result"
    }
   ],
   "source": [
    "data_grpd = data_grpd.fillna(0)\n",
    "data_grpd"
   ]
  },
  {
   "cell_type": "markdown",
   "metadata": {},
   "source": [
    "Расчет помесячной выручки:"
   ]
  },
  {
   "cell_type": "code",
   "execution_count": 30,
   "metadata": {},
   "outputs": [
    {
     "data": {
      "text/html": [
       "<div>\n",
       "<style scoped>\n",
       "    .dataframe tbody tr th:only-of-type {\n",
       "        vertical-align: middle;\n",
       "    }\n",
       "\n",
       "    .dataframe tbody tr th {\n",
       "        vertical-align: top;\n",
       "    }\n",
       "\n",
       "    .dataframe thead th {\n",
       "        text-align: right;\n",
       "    }\n",
       "</style>\n",
       "<table border=\"1\" class=\"dataframe\">\n",
       "  <thead>\n",
       "    <tr style=\"text-align: right;\">\n",
       "      <th></th>\n",
       "      <th></th>\n",
       "      <th>duration</th>\n",
       "      <th>calls</th>\n",
       "      <th>messages</th>\n",
       "      <th>mb_used</th>\n",
       "      <th>tariff</th>\n",
       "      <th>gb_used</th>\n",
       "      <th>revenue</th>\n",
       "    </tr>\n",
       "    <tr>\n",
       "      <th>user_id</th>\n",
       "      <th>month</th>\n",
       "      <th></th>\n",
       "      <th></th>\n",
       "      <th></th>\n",
       "      <th></th>\n",
       "      <th></th>\n",
       "      <th></th>\n",
       "      <th></th>\n",
       "    </tr>\n",
       "  </thead>\n",
       "  <tbody>\n",
       "    <tr>\n",
       "      <td rowspan=\"5\" valign=\"top\">1000</td>\n",
       "      <td>5.0</td>\n",
       "      <td>159.0</td>\n",
       "      <td>22.0</td>\n",
       "      <td>22.0</td>\n",
       "      <td>2256.0</td>\n",
       "      <td>ultra</td>\n",
       "      <td>3.0</td>\n",
       "      <td>1950.0</td>\n",
       "    </tr>\n",
       "    <tr>\n",
       "      <td>6.0</td>\n",
       "      <td>172.0</td>\n",
       "      <td>43.0</td>\n",
       "      <td>60.0</td>\n",
       "      <td>23257.0</td>\n",
       "      <td>ultra</td>\n",
       "      <td>23.0</td>\n",
       "      <td>1950.0</td>\n",
       "    </tr>\n",
       "    <tr>\n",
       "      <td>7.0</td>\n",
       "      <td>340.0</td>\n",
       "      <td>47.0</td>\n",
       "      <td>75.0</td>\n",
       "      <td>14016.0</td>\n",
       "      <td>ultra</td>\n",
       "      <td>14.0</td>\n",
       "      <td>1950.0</td>\n",
       "    </tr>\n",
       "    <tr>\n",
       "      <td>8.0</td>\n",
       "      <td>408.0</td>\n",
       "      <td>52.0</td>\n",
       "      <td>81.0</td>\n",
       "      <td>14070.0</td>\n",
       "      <td>ultra</td>\n",
       "      <td>14.0</td>\n",
       "      <td>1950.0</td>\n",
       "    </tr>\n",
       "    <tr>\n",
       "      <td>9.0</td>\n",
       "      <td>466.0</td>\n",
       "      <td>58.0</td>\n",
       "      <td>57.0</td>\n",
       "      <td>14581.0</td>\n",
       "      <td>ultra</td>\n",
       "      <td>15.0</td>\n",
       "      <td>1950.0</td>\n",
       "    </tr>\n",
       "    <tr>\n",
       "      <td>...</td>\n",
       "      <td>...</td>\n",
       "      <td>...</td>\n",
       "      <td>...</td>\n",
       "      <td>...</td>\n",
       "      <td>...</td>\n",
       "      <td>...</td>\n",
       "      <td>...</td>\n",
       "      <td>...</td>\n",
       "    </tr>\n",
       "    <tr>\n",
       "      <td rowspan=\"4\" valign=\"top\">1489</td>\n",
       "      <td>9.0</td>\n",
       "      <td>0.0</td>\n",
       "      <td>0.0</td>\n",
       "      <td>32.0</td>\n",
       "      <td>17232.0</td>\n",
       "      <td>smart</td>\n",
       "      <td>17.0</td>\n",
       "      <td>950.0</td>\n",
       "    </tr>\n",
       "    <tr>\n",
       "      <td>10.0</td>\n",
       "      <td>0.0</td>\n",
       "      <td>0.0</td>\n",
       "      <td>21.0</td>\n",
       "      <td>19588.0</td>\n",
       "      <td>smart</td>\n",
       "      <td>20.0</td>\n",
       "      <td>1550.0</td>\n",
       "    </tr>\n",
       "    <tr>\n",
       "      <td>11.0</td>\n",
       "      <td>0.0</td>\n",
       "      <td>0.0</td>\n",
       "      <td>20.0</td>\n",
       "      <td>17516.0</td>\n",
       "      <td>smart</td>\n",
       "      <td>18.0</td>\n",
       "      <td>1150.0</td>\n",
       "    </tr>\n",
       "    <tr>\n",
       "      <td>12.0</td>\n",
       "      <td>0.0</td>\n",
       "      <td>0.0</td>\n",
       "      <td>35.0</td>\n",
       "      <td>17341.0</td>\n",
       "      <td>smart</td>\n",
       "      <td>17.0</td>\n",
       "      <td>950.0</td>\n",
       "    </tr>\n",
       "    <tr>\n",
       "      <td>1476</td>\n",
       "      <td>4.0</td>\n",
       "      <td>0.0</td>\n",
       "      <td>0.0</td>\n",
       "      <td>0.0</td>\n",
       "      <td>531.0</td>\n",
       "      <td>ultra</td>\n",
       "      <td>1.0</td>\n",
       "      <td>1950.0</td>\n",
       "    </tr>\n",
       "  </tbody>\n",
       "</table>\n",
       "<p>3214 rows × 7 columns</p>\n",
       "</div>"
      ],
      "text/plain": [
       "               duration  calls  messages  mb_used tariff  gb_used  revenue\n",
       "user_id month                                                             \n",
       "1000    5.0       159.0   22.0      22.0   2256.0  ultra      3.0   1950.0\n",
       "        6.0       172.0   43.0      60.0  23257.0  ultra     23.0   1950.0\n",
       "        7.0       340.0   47.0      75.0  14016.0  ultra     14.0   1950.0\n",
       "        8.0       408.0   52.0      81.0  14070.0  ultra     14.0   1950.0\n",
       "        9.0       466.0   58.0      57.0  14581.0  ultra     15.0   1950.0\n",
       "...                 ...    ...       ...      ...    ...      ...      ...\n",
       "1489    9.0         0.0    0.0      32.0  17232.0  smart     17.0    950.0\n",
       "        10.0        0.0    0.0      21.0  19588.0  smart     20.0   1550.0\n",
       "        11.0        0.0    0.0      20.0  17516.0  smart     18.0   1150.0\n",
       "        12.0        0.0    0.0      35.0  17341.0  smart     17.0    950.0\n",
       "1476    4.0         0.0    0.0       0.0    531.0  ultra      1.0   1950.0\n",
       "\n",
       "[3214 rows x 7 columns]"
      ]
     },
     "execution_count": 30,
     "metadata": {},
     "output_type": "execute_result"
    }
   ],
   "source": [
    "def over_tariff(row):\n",
    "    messages = row['messages']\n",
    "    gb_used = row['gb_used']\n",
    "    tariff = row['tariff']\n",
    "    duration = row['duration']\n",
    "    \n",
    "    if tariff == 'smart':\n",
    "        over_duration = duration - tariffs.loc[0, 'minutes_included']\n",
    "        over_gb = gb_used - tariffs.loc[0, 'gb_per_month_included']\n",
    "        over_messages = messages - tariffs.loc[0, 'messages_included']\n",
    "        \n",
    "        if over_duration < 0: over_duration = 0\n",
    "        if over_gb < 0: over_gb = 0\n",
    "        if over_messages < 0: over_messages = 0\n",
    "        \n",
    "        return (tariffs.loc[0, 'rub_per_message'] * over_messages + \n",
    "                   tariffs.loc[0, 'rub_per_gb'] * over_gb + \n",
    "                   tariffs.loc[0, 'rub_per_minute'] * over_duration + \n",
    "                   tariffs.loc[0, 'rub_monthly_fee']\n",
    "                  ) \n",
    "    else:\n",
    "        over_duration = duration - tariffs.loc[1, 'minutes_included']\n",
    "        over_gb = gb_used - tariffs.loc[1, 'gb_per_month_included']\n",
    "        over_messages = messages - tariffs.loc[1, 'messages_included']\n",
    "        \n",
    "        if over_duration < 0: over_duration = 0\n",
    "        if over_gb < 0: over_gb = 0\n",
    "        if over_messages < 0: over_messages = 0\n",
    "        \n",
    "        return (tariffs.loc[1, 'rub_per_message'] * over_messages + \n",
    "                   tariffs.loc[1, 'rub_per_gb'] * over_gb + \n",
    "                   tariffs.loc[1, 'rub_per_minute'] * over_duration + \n",
    "                   tariffs.loc[1, 'rub_monthly_fee']\n",
    "                  )\n",
    "\n",
    "data_grpd['revenue'] = data_grpd.apply(over_tariff, axis=1)\n",
    "data_grpd['revenue'] = round(data_grpd['revenue'],2)\n",
    "data_grpd"
   ]
  },
  {
   "cell_type": "markdown",
   "metadata": {},
   "source": [
    "<div class=\"alert alert-danger\">\n",
    "<h2>Комментарий ревьюера</h2>\n",
    "\n",
    "В целом верно, единственное, что ты не сделал, это не округлил трафик до ГБ вверх: \"Для веб-трафика отдельные сессии не считаются. Вместо этого общая сумма за месяц округляется в бо́льшую сторону. Если абонент использует 1025 мегабайт в этом месяце, с него возьмут плату за 2 гигабайта.\"\n",
    "\n",
    "Чтобы не лазить в таблицу `tarrifs`, можно было с ней смержить и тогда не надо бы было `if/else` и вся информация бы была в одной таблице    \n",
    "</div>"
   ]
  },
  {
   "cell_type": "markdown",
   "metadata": {},
   "source": [
    "**Шаг 3. Проанализируйте данные**"
   ]
  },
  {
   "cell_type": "code",
   "execution_count": 31,
   "metadata": {},
   "outputs": [],
   "source": [
    "monthly_smart = data_grpd[data_grpd['tariff'] == 'smart']\n",
    "monthly_ultra = data_grpd[data_grpd['tariff'] == 'ultra']"
   ]
  },
  {
   "cell_type": "markdown",
   "metadata": {},
   "source": [
    "**Рассмотрим данные об интернет-трафике:**"
   ]
  },
  {
   "cell_type": "code",
   "execution_count": 32,
   "metadata": {},
   "outputs": [
    {
     "name": "stdout",
     "output_type": "stream",
     "text": [
      "34530412.73703965\n",
      "101832133.10806875\n"
     ]
    },
    {
     "data": {
      "text/plain": [
       "count      985.000000\n",
       "mean     19486.901523\n",
       "std      10096.317202\n",
       "min          0.000000\n",
       "25%      11785.000000\n",
       "50%      19324.000000\n",
       "75%      26863.000000\n",
       "max      49789.000000\n",
       "Name: mb_used, dtype: float64"
      ]
     },
     "execution_count": 32,
     "metadata": {},
     "output_type": "execute_result"
    },
    {
     "data": {
      "image/png": "[encoded data removed]",
      "text/plain": [
       "<Figure size 432x288 with 1 Axes>"
      ]
     },
     "metadata": {
      "needs_background": "light"
     },
     "output_type": "display_data"
    }
   ],
   "source": [
    "print(np.var(monthly_smart['mb_used']))\n",
    "monthly_smart['mb_used'].hist(bins=100)\n",
    "monthly_smart['mb_used'].describe()\n",
    "\n",
    "print(np.var(monthly_ultra['mb_used']))\n",
    "monthly_ultra['mb_used'].hist(bins=100)\n",
    "monthly_ultra['mb_used'].describe()"
   ]
  },
  {
   "cell_type": "markdown",
   "metadata": {},
   "source": [
    "**Тариф Смарт:**\n",
    "Среднее кол-во мб/мес: 16229,18\n",
    "<br>Медиана мб/мес: 16531\n",
    "<br>Дисперсия мб/мес: 34530412,73\n",
    "<br>Стандартное отклонение мб/мес: 5877,57\n",
    "\n",
    "**Тариф Ультра:**\n",
    "Среднее кол-во мб/мес: 19486,90\n",
    "<br>Медиана мб/мес: 19324\n",
    "<br>Дисперсия мб/мес: 101832133,10\n",
    "<br>Стандартное отклонение мб/мес: 10096,31"
   ]
  },
  {
   "cell_type": "markdown",
   "metadata": {},
   "source": [
    "**Рассмотрим данные о смс:**"
   ]
  },
  {
   "cell_type": "code",
   "execution_count": 33,
   "metadata": {},
   "outputs": [
    {
     "name": "stdout",
     "output_type": "stream",
     "text": [
      "796.455482917076\n",
      "2282.946075394882\n"
     ]
    },
    {
     "data": {
      "text/plain": [
       "count    985.000000\n",
       "mean      49.363452\n",
       "std       47.804457\n",
       "min        0.000000\n",
       "25%        6.000000\n",
       "50%       38.000000\n",
       "75%       79.000000\n",
       "max      224.000000\n",
       "Name: messages, dtype: float64"
      ]
     },
     "execution_count": 33,
     "metadata": {},
     "output_type": "execute_result"
    },
    {
     "data": {
      "image/png": "[encoded data removed]",
      "text/plain": [
       "<Figure size 432x288 with 1 Axes>"
      ]
     },
     "metadata": {
      "needs_background": "light"
     },
     "output_type": "display_data"
    }
   ],
   "source": [
    "print(np.var(monthly_smart['messages']))\n",
    "monthly_smart['messages'].hist(bins=100)\n",
    "monthly_smart['messages'].describe()\n",
    "\n",
    "print(np.var(monthly_ultra['messages']))\n",
    "monthly_ultra['messages'].hist(bins=100)\n",
    "monthly_ultra['messages'].describe()"
   ]
  },
  {
   "cell_type": "markdown",
   "metadata": {},
   "source": [
    "<div class=\"alert alert-success\">\n",
    "<h2>Комментарий ревьюера</h2>\n",
    "\n",
    "Если интересно, то это распределение Пуассона\n",
    "</div>"
   ]
  },
  {
   "cell_type": "markdown",
   "metadata": {},
   "source": [
    "**Тариф Смарт:**\n",
    "Среднее кол-во смс/мес: 33\n",
    "<br>Медиана смс/мес: 28\n",
    "<br>Дисперсия смс/мес: 796,45\n",
    "<br>Стандартное отклонение смс/мес: 28,22\n",
    "\n",
    "**Тариф Ультра:**\n",
    "Среднее кол-во смс/мес: 49.36\n",
    "<br>Медиана смс/мес: 38\n",
    "<br>Дисперсия смс/мес: 2282.94\n",
    "<br>Стандартное отклонение смс/мес: 47.80"
   ]
  },
  {
   "cell_type": "markdown",
   "metadata": {},
   "source": [
    "**Рассмотрм данные о минутах разговора:**"
   ]
  },
  {
   "cell_type": "code",
   "execution_count": 34,
   "metadata": {},
   "outputs": [
    {
     "name": "stdout",
     "output_type": "stream",
     "text": [
      "36203.06665209469\n",
      "100771.2236172022\n"
     ]
    },
    {
     "data": {
      "text/plain": [
       "count     985.000000\n",
       "mean      526.623350\n",
       "std       317.606098\n",
       "min         0.000000\n",
       "25%       284.000000\n",
       "50%       518.000000\n",
       "75%       752.000000\n",
       "max      1673.000000\n",
       "Name: duration, dtype: float64"
      ]
     },
     "execution_count": 34,
     "metadata": {},
     "output_type": "execute_result"
    },
    {
     "data": {
      "image/png": "[encoded data removed]",
      "text/plain": [
       "<Figure size 432x288 with 1 Axes>"
      ]
     },
     "metadata": {
      "needs_background": "light"
     },
     "output_type": "display_data"
    }
   ],
   "source": [
    "print(np.var(monthly_smart['duration']))\n",
    "monthly_smart['duration'].hist(bins=100)\n",
    "monthly_smart['duration'].describe()\n",
    "\n",
    "print(np.var(monthly_ultra['duration']))\n",
    "monthly_ultra['duration'].hist(bins=100)\n",
    "monthly_ultra['duration'].describe()"
   ]
  },
  {
   "cell_type": "markdown",
   "metadata": {},
   "source": [
    "**Тариф Смарт:**\n",
    "Среднее кол-во мин/мес: 417,93\n",
    "<br>Медиана мин/мес: 422\n",
    "<br>Дисперсия мин/мес: 36203\n",
    "<br>Стандартное отклонение мин/мес: 190,31\n",
    "\n",
    "**Тариф Ультра:**\n",
    "Среднее кол-во мин/мес: 526.62\n",
    "<br>Медиана мин/мес: 518\n",
    "<br>Дисперсия мин/мес: 100771.22\n",
    "<br>Стандартное отклонение мин/мес: 317.60"
   ]
  },
  {
   "cell_type": "markdown",
   "metadata": {},
   "source": [
    "**Вывод:**\n",
    "\n",
    "<br>Пользователи тарифа Смарт используют почти все предоставленные им пакеты минут и интернета, причем иногда приходится докупать дополнительные пакеты минут/гигабайт интернета, в связи с превышением лимитов по тарифу.\n",
    "\n",
    "<br>Смс редко пользуются представители обоих тарифов - т.к. существует множество мессенджеров, позволяющее не пользоваться смс-сообщениями.\n",
    "\n",
    "<br>У пользователей тарифа Ультра показатели больше по всем пакетам - минуты, смс, интернет-трафик, при этом им почти не приходится прибегать к покупке дополнительных пакетов услуг."
   ]
  },
  {
   "cell_type": "markdown",
   "metadata": {},
   "source": [
    "**Шаг 4. Проверьте гипотезы**"
   ]
  },
  {
   "cell_type": "markdown",
   "metadata": {},
   "source": [
    "**1. средняя выручка пользователей тарифов «Ультра» и «Смарт» различаются**"
   ]
  },
  {
   "cell_type": "markdown",
   "metadata": {},
   "source": [
    "Нулевая гиптеза - средняя выручка пользователей тарифов \"Ультра\" и \"Смарт\" равна\n",
    "\n",
    "Альтернативная гипотеза - средняя выручка пользователей обоих тарифов различается"
   ]
  },
  {
   "cell_type": "code",
   "execution_count": 35,
   "metadata": {},
   "outputs": [
    {
     "name": "stdout",
     "output_type": "stream",
     "text": [
      "p-значение: 2.7240946993530856e-246\n",
      "Отвергаем нулевую гипотезу\n"
     ]
    }
   ],
   "source": [
    "ultra = data_grpd.query('tariff == \"ultra\"')['revenue']\n",
    "smart = data_grpd.query('tariff == \"smart\"')['revenue']\n",
    "\n",
    "alpha = 0.05\n",
    "\n",
    "results = st.ttest_ind(ultra, smart, equal_var=False)\n",
    "\n",
    "print('p-значение:', results.pvalue)\n",
    "\n",
    "if (results.pvalue < alpha):\n",
    "    print('Отвергаем нулевую гипотезу')\n",
    "else:\n",
    "    print('Не получилось отвергнуть нулевую гипотезу')"
   ]
  },
  {
   "cell_type": "code",
   "execution_count": 36,
   "metadata": {},
   "outputs": [
    {
     "data": {
      "text/plain": [
       "1038.0"
      ]
     },
     "execution_count": 36,
     "metadata": {},
     "output_type": "execute_result"
    }
   ],
   "source": [
    "data_grpd[data_grpd['tariff'] == 'smart']['revenue'].median()"
   ]
  },
  {
   "cell_type": "code",
   "execution_count": 37,
   "metadata": {},
   "outputs": [
    {
     "data": {
      "text/plain": [
       "1294.6393001345896"
      ]
     },
     "execution_count": 37,
     "metadata": {},
     "output_type": "execute_result"
    }
   ],
   "source": [
    "data_grpd[data_grpd['tariff'] == 'smart']['revenue'].mean()"
   ]
  },
  {
   "cell_type": "code",
   "execution_count": 38,
   "metadata": {},
   "outputs": [
    {
     "data": {
      "text/plain": [
       "1950.0"
      ]
     },
     "execution_count": 38,
     "metadata": {},
     "output_type": "execute_result"
    }
   ],
   "source": [
    "data_grpd[data_grpd['tariff'] == 'ultra']['revenue'].median()"
   ]
  },
  {
   "cell_type": "code",
   "execution_count": 39,
   "metadata": {},
   "outputs": [
    {
     "data": {
      "text/plain": [
       "2071.0659898477156"
      ]
     },
     "execution_count": 39,
     "metadata": {},
     "output_type": "execute_result"
    }
   ],
   "source": [
    "data_grpd[data_grpd['tariff'] == 'ultra']['revenue'].mean()"
   ]
  },
  {
   "cell_type": "markdown",
   "metadata": {},
   "source": [
    "По тарифу Смарт: \n",
    "<br>Среднее: 1294,63 руб.\n",
    "<br>Медиана: 1038 руб.\n",
    "\n",
    "<br>По тарифу Ультра:\n",
    "<br>Среднее: 2071,06 руб.\n",
    "<br>Медиана: 1950 руб.\n",
    "\n",
    "**Вывод:**<br>\n",
    "<br>Среднее и медиана по выручкам различаются почти в два раза, пользователи тарифа \"Смарт\" при абонентской плате в 550 руб. заплатит почти в два раза больше за счет подключения дополнительных пакетов услуг, что редкость для абонентов тарифа \"Ультра\".\n",
    "<br>Средняя выручка пользователей тарифов **различается**."
   ]
  },
  {
   "cell_type": "markdown",
   "metadata": {},
   "source": [
    "<div class=\"alert alert-success\">\n",
    "<h2>Комментарий ревьюера</h2>\n",
    "\n",
    "Верно, здорвоо, что указываешь `False` для `equal_var`, с ним метод ведёт себя в среднем лучше: https://en.wikipedia.org/wiki/Welch%27s_t-test\n",
    "    \n",
    "    \n",
    "Ниже опять же, если бы ты смержил с пользователями, то так делать бы не пришлось\n",
    "</div>"
   ]
  },
  {
   "cell_type": "markdown",
   "metadata": {},
   "source": [
    "**2. средняя выручка пользователи из Москвы отличается от выручки пользователей из других регионов.**"
   ]
  },
  {
   "cell_type": "code",
   "execution_count": 40,
   "metadata": {},
   "outputs": [
    {
     "data": {
      "text/html": [
       "<div>\n",
       "<style scoped>\n",
       "    .dataframe tbody tr th:only-of-type {\n",
       "        vertical-align: middle;\n",
       "    }\n",
       "\n",
       "    .dataframe tbody tr th {\n",
       "        vertical-align: top;\n",
       "    }\n",
       "\n",
       "    .dataframe thead th {\n",
       "        text-align: right;\n",
       "    }\n",
       "</style>\n",
       "<table border=\"1\" class=\"dataframe\">\n",
       "  <thead>\n",
       "    <tr style=\"text-align: right;\">\n",
       "      <th></th>\n",
       "      <th></th>\n",
       "      <th>duration</th>\n",
       "      <th>calls</th>\n",
       "      <th>messages</th>\n",
       "      <th>mb_used</th>\n",
       "      <th>tariff</th>\n",
       "      <th>gb_used</th>\n",
       "      <th>revenue</th>\n",
       "      <th>city</th>\n",
       "    </tr>\n",
       "    <tr>\n",
       "      <th>user_id</th>\n",
       "      <th>month</th>\n",
       "      <th></th>\n",
       "      <th></th>\n",
       "      <th></th>\n",
       "      <th></th>\n",
       "      <th></th>\n",
       "      <th></th>\n",
       "      <th></th>\n",
       "      <th></th>\n",
       "    </tr>\n",
       "  </thead>\n",
       "  <tbody>\n",
       "    <tr>\n",
       "      <td rowspan=\"5\" valign=\"top\">1000</td>\n",
       "      <td>5.0</td>\n",
       "      <td>159.0</td>\n",
       "      <td>22.0</td>\n",
       "      <td>22.0</td>\n",
       "      <td>2256.0</td>\n",
       "      <td>ultra</td>\n",
       "      <td>3.0</td>\n",
       "      <td>1950.0</td>\n",
       "      <td>Краснодар</td>\n",
       "    </tr>\n",
       "    <tr>\n",
       "      <td>6.0</td>\n",
       "      <td>172.0</td>\n",
       "      <td>43.0</td>\n",
       "      <td>60.0</td>\n",
       "      <td>23257.0</td>\n",
       "      <td>ultra</td>\n",
       "      <td>23.0</td>\n",
       "      <td>1950.0</td>\n",
       "      <td>Краснодар</td>\n",
       "    </tr>\n",
       "    <tr>\n",
       "      <td>7.0</td>\n",
       "      <td>340.0</td>\n",
       "      <td>47.0</td>\n",
       "      <td>75.0</td>\n",
       "      <td>14016.0</td>\n",
       "      <td>ultra</td>\n",
       "      <td>14.0</td>\n",
       "      <td>1950.0</td>\n",
       "      <td>Краснодар</td>\n",
       "    </tr>\n",
       "    <tr>\n",
       "      <td>8.0</td>\n",
       "      <td>408.0</td>\n",
       "      <td>52.0</td>\n",
       "      <td>81.0</td>\n",
       "      <td>14070.0</td>\n",
       "      <td>ultra</td>\n",
       "      <td>14.0</td>\n",
       "      <td>1950.0</td>\n",
       "      <td>Краснодар</td>\n",
       "    </tr>\n",
       "    <tr>\n",
       "      <td>9.0</td>\n",
       "      <td>466.0</td>\n",
       "      <td>58.0</td>\n",
       "      <td>57.0</td>\n",
       "      <td>14581.0</td>\n",
       "      <td>ultra</td>\n",
       "      <td>15.0</td>\n",
       "      <td>1950.0</td>\n",
       "      <td>Краснодар</td>\n",
       "    </tr>\n",
       "    <tr>\n",
       "      <td>...</td>\n",
       "      <td>...</td>\n",
       "      <td>...</td>\n",
       "      <td>...</td>\n",
       "      <td>...</td>\n",
       "      <td>...</td>\n",
       "      <td>...</td>\n",
       "      <td>...</td>\n",
       "      <td>...</td>\n",
       "      <td>...</td>\n",
       "    </tr>\n",
       "    <tr>\n",
       "      <td rowspan=\"4\" valign=\"top\">1489</td>\n",
       "      <td>9.0</td>\n",
       "      <td>0.0</td>\n",
       "      <td>0.0</td>\n",
       "      <td>32.0</td>\n",
       "      <td>17232.0</td>\n",
       "      <td>smart</td>\n",
       "      <td>17.0</td>\n",
       "      <td>950.0</td>\n",
       "      <td>Санкт-Петербург</td>\n",
       "    </tr>\n",
       "    <tr>\n",
       "      <td>10.0</td>\n",
       "      <td>0.0</td>\n",
       "      <td>0.0</td>\n",
       "      <td>21.0</td>\n",
       "      <td>19588.0</td>\n",
       "      <td>smart</td>\n",
       "      <td>20.0</td>\n",
       "      <td>1550.0</td>\n",
       "      <td>Санкт-Петербург</td>\n",
       "    </tr>\n",
       "    <tr>\n",
       "      <td>11.0</td>\n",
       "      <td>0.0</td>\n",
       "      <td>0.0</td>\n",
       "      <td>20.0</td>\n",
       "      <td>17516.0</td>\n",
       "      <td>smart</td>\n",
       "      <td>18.0</td>\n",
       "      <td>1150.0</td>\n",
       "      <td>Санкт-Петербург</td>\n",
       "    </tr>\n",
       "    <tr>\n",
       "      <td>12.0</td>\n",
       "      <td>0.0</td>\n",
       "      <td>0.0</td>\n",
       "      <td>35.0</td>\n",
       "      <td>17341.0</td>\n",
       "      <td>smart</td>\n",
       "      <td>17.0</td>\n",
       "      <td>950.0</td>\n",
       "      <td>Санкт-Петербург</td>\n",
       "    </tr>\n",
       "    <tr>\n",
       "      <td>1476</td>\n",
       "      <td>4.0</td>\n",
       "      <td>0.0</td>\n",
       "      <td>0.0</td>\n",
       "      <td>0.0</td>\n",
       "      <td>531.0</td>\n",
       "      <td>ultra</td>\n",
       "      <td>1.0</td>\n",
       "      <td>1950.0</td>\n",
       "      <td>Москва</td>\n",
       "    </tr>\n",
       "  </tbody>\n",
       "</table>\n",
       "<p>3214 rows × 8 columns</p>\n",
       "</div>"
      ],
      "text/plain": [
       "               duration  calls  messages  mb_used tariff  gb_used  revenue  \\\n",
       "user_id month                                                                \n",
       "1000    5.0       159.0   22.0      22.0   2256.0  ultra      3.0   1950.0   \n",
       "        6.0       172.0   43.0      60.0  23257.0  ultra     23.0   1950.0   \n",
       "        7.0       340.0   47.0      75.0  14016.0  ultra     14.0   1950.0   \n",
       "        8.0       408.0   52.0      81.0  14070.0  ultra     14.0   1950.0   \n",
       "        9.0       466.0   58.0      57.0  14581.0  ultra     15.0   1950.0   \n",
       "...                 ...    ...       ...      ...    ...      ...      ...   \n",
       "1489    9.0         0.0    0.0      32.0  17232.0  smart     17.0    950.0   \n",
       "        10.0        0.0    0.0      21.0  19588.0  smart     20.0   1550.0   \n",
       "        11.0        0.0    0.0      20.0  17516.0  smart     18.0   1150.0   \n",
       "        12.0        0.0    0.0      35.0  17341.0  smart     17.0    950.0   \n",
       "1476    4.0         0.0    0.0       0.0    531.0  ultra      1.0   1950.0   \n",
       "\n",
       "                          city  \n",
       "user_id month                   \n",
       "1000    5.0          Краснодар  \n",
       "        6.0          Краснодар  \n",
       "        7.0          Краснодар  \n",
       "        8.0          Краснодар  \n",
       "        9.0          Краснодар  \n",
       "...                        ...  \n",
       "1489    9.0    Санкт-Петербург  \n",
       "        10.0   Санкт-Петербург  \n",
       "        11.0   Санкт-Петербург  \n",
       "        12.0   Санкт-Петербург  \n",
       "1476    4.0             Москва  \n",
       "\n",
       "[3214 rows x 8 columns]"
      ]
     },
     "execution_count": 40,
     "metadata": {},
     "output_type": "execute_result"
    }
   ],
   "source": [
    "for user in data_grpd.index:\n",
    "    data_grpd.loc[user, 'city'] = users.loc[user[0]-1000, 'city']\n",
    "    \n",
    "data_grpd"
   ]
  },
  {
   "cell_type": "markdown",
   "metadata": {},
   "source": [
    "Нулевая гипотеза - средняя выручка пользователей из Москвы равна выручке пользователей из других регионов.\n",
    "\n",
    "Альтернативная гипотеза - средняя выручка пользователей из Москвы отличается от выручки пользователей из других регионов."
   ]
  },
  {
   "cell_type": "code",
   "execution_count": 41,
   "metadata": {},
   "outputs": [
    {
     "name": "stdout",
     "output_type": "stream",
     "text": [
      "p-значение: 0.5126564657748214\n",
      "Не получилось отвергнуть нулевую гипотезу\n"
     ]
    }
   ],
   "source": [
    "msc = data_grpd.query('city == \"Москва\"')['revenue']\n",
    "not_msc = data_grpd.query('city != \"Москва\"')['revenue']\n",
    "\n",
    "alpha = 0.05\n",
    "\n",
    "results = st.ttest_ind(msc, not_msc, equal_var=False)\n",
    "\n",
    "print('p-значение:', results.pvalue)\n",
    "\n",
    "if (results.pvalue < alpha):\n",
    "    print('Отвергаем нулевую гипотезу')\n",
    "else:\n",
    "    print('Не получилось отвергнуть нулевую гипотезу')"
   ]
  },
  {
   "cell_type": "code",
   "execution_count": 42,
   "metadata": {},
   "outputs": [
    {
     "data": {
      "text/plain": [
       "1750.0"
      ]
     },
     "execution_count": 42,
     "metadata": {},
     "output_type": "execute_result"
    }
   ],
   "source": [
    "data_grpd[data_grpd['city'] == 'Москва']['revenue'].median()"
   ]
  },
  {
   "cell_type": "code",
   "execution_count": 43,
   "metadata": {},
   "outputs": [
    {
     "data": {
      "text/plain": [
       "1550.8052373158755"
      ]
     },
     "execution_count": 43,
     "metadata": {},
     "output_type": "execute_result"
    }
   ],
   "source": [
    "data_grpd[data_grpd['city'] == 'Москва']['revenue'].mean()"
   ]
  },
  {
   "cell_type": "code",
   "execution_count": 44,
   "metadata": {},
   "outputs": [
    {
     "data": {
      "text/plain": [
       "1587.0"
      ]
     },
     "execution_count": 44,
     "metadata": {},
     "output_type": "execute_result"
    }
   ],
   "source": [
    "data_grpd[data_grpd['city'] != 'Москва']['revenue'].median()"
   ]
  },
  {
   "cell_type": "code",
   "execution_count": 45,
   "metadata": {},
   "outputs": [
    {
     "data": {
      "text/plain": [
       "1528.3169419900116"
      ]
     },
     "execution_count": 45,
     "metadata": {},
     "output_type": "execute_result"
    }
   ],
   "source": [
    "data_grpd[data_grpd['city'] != 'Москва']['revenue'].mean()"
   ]
  },
  {
   "cell_type": "markdown",
   "metadata": {},
   "source": [
    "По Москве: \n",
    "<br>Среднее: 1550,80 руб.\n",
    "<br>Медиана: 1750 руб.\n",
    "\n",
    "<br>По регионам:\n",
    "<br>Среднее: 1528,31 руб.\n",
    "<br>Медиана: 1587 руб.\n",
    "\n",
    "**Вывод:**<br>\n",
    "<br>Среднее и медиана в Москве практически не отличается от данных в регионах.\n",
    "<br>Нулевую гипотезу о том, что выручка пользователей из Москвы равна выручке пользователей из регионов, отвергнуть не удалось."
   ]
  },
  {
   "cell_type": "markdown",
   "metadata": {},
   "source": [
    "**Общий вывод:**<br>\n",
    "<br>Пользователи тарифа Смарт используют практически все предоставленные им пакеты услуг и в большинстве случаев им не хватает предоставленных лимитов, что приводит в итоге к покупке дополнительных пакетов услуг. В результате этого они переплачивают почти в два раза относительно изначальной цены тарифа.\n",
    "<br>Пользователи тарифа Ультра переплачивают за тариф, т.к. в большинстве случаев они не ипользуют большую часть предоставленных им лимитов по тарифу.\n",
    "<br>Нет существенной разницы между пользователями из Москвы и пользователями других регионов - в среднем все платят одинаково.\n",
    "\n",
    "<br>По поводу того, какой тариф лучше, на мой взгляд для оператора лучше Ультра - т.к. больше абонентская плата, а пользователи неполностью пользуются всеми предоставленными пакетами услуг, а также не так ограничены и более свободны в использовании различных услуг. Но все-таки мое мнение, что лучше разработать третий тариф, который будет представлять что-то среднее между Ультра и Смарт, т.к. судя по данным, в этом есть потребность - пользователи Смарта все равно в итоге переплачивают, а пользователи Ультра не пользуются на полную всеми предоставленными возможностями и платят больше, чем фактически пользовались. Это поможет привлечь и новых клиентов, и удержать уже существующих, которые по вышеперечисленным причинам могут задуматься о смене оператора с более гибким тарифным планом."
   ]
  },
  {
   "cell_type": "markdown",
   "metadata": {},
   "source": [
    "<div class=\"alert alert-warning\">\n",
    "<h2>Комментарий ревьюера</h2>\n",
    "\n",
    "Верно, но условный заказчик хотел, чтобы ему определили наиболее перспективный тариф :) \"Нужно проанализировать поведение клиентов и сделать вывод — какой тариф лучше.\"\n",
    "</div>"
   ]
  },
  {
   "cell_type": "markdown",
   "metadata": {},
   "source": [
    "<div class=\"alert alert-success\">\n",
    "<h2>Комментарий ревьюера V.2</h2>\n",
    "\n",
    "👍 Да, третий тариф это хорошая идея, ну и формально не зная затраты оператора на тарифы тяжело судить какой для него лучше, но по среднему доходу получается ультра, да, но на практике не только средних доход интересует\n",
    "</div>"
   ]
  }
 ],
 "metadata": {
  "ExecuteTimeLog": [
   {
    "duration": 675,
    "start_time": "2021-08-12T23:41:54.038Z"
   },
   {
    "duration": 714,
    "start_time": "2021-08-13T00:01:20.416Z"
   },
   {
    "duration": 21,
    "start_time": "2021-08-13T00:01:30.059Z"
   },
   {
    "duration": 30,
    "start_time": "2021-08-13T00:01:42.695Z"
   },
   {
    "duration": 21,
    "start_time": "2021-08-13T00:02:35.745Z"
   },
   {
    "duration": 25,
    "start_time": "2021-08-13T00:02:40.142Z"
   },
   {
    "duration": 19,
    "start_time": "2021-08-13T00:03:36.858Z"
   },
   {
    "duration": 324,
    "start_time": "2021-08-13T00:03:49.148Z"
   },
   {
    "duration": 12,
    "start_time": "2021-08-13T00:04:00.139Z"
   },
   {
    "duration": 15,
    "start_time": "2021-08-13T00:04:09.615Z"
   },
   {
    "duration": 97,
    "start_time": "2021-08-13T00:04:59.334Z"
   },
   {
    "duration": 109,
    "start_time": "2021-08-13T00:05:16.454Z"
   },
   {
    "duration": 121,
    "start_time": "2021-08-13T00:05:45.588Z"
   },
   {
    "duration": 68,
    "start_time": "2021-08-13T00:36:45.970Z"
   },
   {
    "duration": 56,
    "start_time": "2021-08-13T00:39:27.416Z"
   },
   {
    "duration": 58,
    "start_time": "2021-08-13T00:39:35.740Z"
   },
   {
    "duration": 45,
    "start_time": "2021-08-13T00:39:49.863Z"
   },
   {
    "duration": 14,
    "start_time": "2021-08-13T00:39:54.609Z"
   },
   {
    "duration": 15,
    "start_time": "2021-08-13T00:40:03.509Z"
   },
   {
    "duration": 11,
    "start_time": "2021-08-13T00:40:13.076Z"
   },
   {
    "duration": 17,
    "start_time": "2021-08-13T00:46:04.497Z"
   },
   {
    "duration": 303,
    "start_time": "2021-08-13T00:52:35.473Z"
   },
   {
    "duration": 218,
    "start_time": "2021-08-13T00:53:13.142Z"
   },
   {
    "duration": 355,
    "start_time": "2021-08-13T00:53:26.038Z"
   },
   {
    "duration": 13,
    "start_time": "2021-08-13T01:03:03.329Z"
   },
   {
    "duration": 303,
    "start_time": "2021-08-13T01:03:27.586Z"
   },
   {
    "duration": 311,
    "start_time": "2021-08-13T01:04:51.180Z"
   },
   {
    "duration": 301,
    "start_time": "2021-08-13T01:04:57.758Z"
   },
   {
    "duration": 295,
    "start_time": "2021-08-13T01:07:39.747Z"
   },
   {
    "duration": 17,
    "start_time": "2021-08-13T01:07:45.755Z"
   },
   {
    "duration": 306,
    "start_time": "2021-08-13T01:10:03.165Z"
   },
   {
    "duration": 291,
    "start_time": "2021-08-13T01:11:08.910Z"
   },
   {
    "duration": 399,
    "start_time": "2021-08-13T01:14:20.885Z"
   },
   {
    "duration": 306,
    "start_time": "2021-08-13T01:15:29.694Z"
   },
   {
    "duration": 425,
    "start_time": "2021-08-13T01:15:50.249Z"
   },
   {
    "duration": 24,
    "start_time": "2021-08-13T01:17:23.322Z"
   },
   {
    "duration": 237,
    "start_time": "2021-08-13T01:17:43.079Z"
   },
   {
    "duration": 314,
    "start_time": "2021-08-13T01:17:49.607Z"
   },
   {
    "duration": 1118,
    "start_time": "2021-08-13T01:26:51.802Z"
   },
   {
    "duration": 348,
    "start_time": "2021-08-13T01:27:16.747Z"
   },
   {
    "duration": 326,
    "start_time": "2021-08-13T01:27:48.048Z"
   },
   {
    "duration": 435,
    "start_time": "2021-08-14T02:45:16.699Z"
   },
   {
    "duration": 1016,
    "start_time": "2021-08-14T02:45:34.362Z"
   },
   {
    "duration": 522,
    "start_time": "2021-08-14T02:45:35.381Z"
   },
   {
    "duration": 43,
    "start_time": "2021-08-14T02:45:35.906Z"
   },
   {
    "duration": 38,
    "start_time": "2021-08-14T02:45:35.951Z"
   },
   {
    "duration": 28,
    "start_time": "2021-08-14T02:45:35.992Z"
   },
   {
    "duration": 17,
    "start_time": "2021-08-14T02:45:36.290Z"
   },
   {
    "duration": 24,
    "start_time": "2021-08-14T02:45:36.590Z"
   },
   {
    "duration": 102,
    "start_time": "2021-08-14T02:45:37.071Z"
   },
   {
    "duration": 76,
    "start_time": "2021-08-14T02:45:37.400Z"
   },
   {
    "duration": 20,
    "start_time": "2021-08-14T02:45:37.562Z"
   },
   {
    "duration": 24,
    "start_time": "2021-08-14T02:45:37.737Z"
   },
   {
    "duration": 19,
    "start_time": "2021-08-14T02:45:37.910Z"
   },
   {
    "duration": 25,
    "start_time": "2021-08-14T02:45:38.071Z"
   },
   {
    "duration": 562,
    "start_time": "2021-08-14T02:45:38.419Z"
   },
   {
    "duration": 593,
    "start_time": "2021-08-14T02:45:38.985Z"
   },
   {
    "duration": 37,
    "start_time": "2021-08-14T02:45:39.583Z"
   },
   {
    "duration": 614,
    "start_time": "2021-08-14T02:45:39.623Z"
   },
   {
    "duration": 577,
    "start_time": "2021-08-14T02:45:40.239Z"
   },
   {
    "duration": 616,
    "start_time": "2021-08-14T02:45:40.818Z"
   },
   {
    "duration": 46,
    "start_time": "2021-08-14T02:45:41.437Z"
   },
   {
    "duration": 697,
    "start_time": "2021-08-14T02:45:41.485Z"
   },
   {
    "duration": 30,
    "start_time": "2021-08-14T06:23:32.978Z"
   },
   {
    "duration": 5,
    "start_time": "2021-08-14T06:35:37.183Z"
   },
   {
    "duration": 653,
    "start_time": "2021-08-14T06:35:59.333Z"
   },
   {
    "duration": 556,
    "start_time": "2021-08-14T06:36:10.960Z"
   },
   {
    "duration": 215,
    "start_time": "2021-08-14T06:36:17.535Z"
   },
   {
    "duration": 104,
    "start_time": "2021-08-14T06:36:38.314Z"
   },
   {
    "duration": 127,
    "start_time": "2021-08-14T06:36:56.466Z"
   },
   {
    "duration": 56,
    "start_time": "2021-08-14T06:42:07.302Z"
   },
   {
    "duration": 24,
    "start_time": "2021-08-14T06:54:28.135Z"
   },
   {
    "duration": 377,
    "start_time": "2021-08-14T06:56:47.524Z"
   },
   {
    "duration": 47,
    "start_time": "2021-08-14T07:00:14.488Z"
   },
   {
    "duration": 399,
    "start_time": "2021-08-14T07:03:21.738Z"
   },
   {
    "duration": 50,
    "start_time": "2021-08-14T07:03:43.055Z"
   },
   {
    "duration": 353,
    "start_time": "2021-08-14T07:14:21.940Z"
   },
   {
    "duration": 50,
    "start_time": "2021-08-14T07:14:58.265Z"
   },
   {
    "duration": 120,
    "start_time": "2021-08-14T07:16:41.785Z"
   },
   {
    "duration": 141,
    "start_time": "2021-08-14T07:16:46.254Z"
   },
   {
    "duration": 123,
    "start_time": "2021-08-14T07:17:11.059Z"
   },
   {
    "duration": 359,
    "start_time": "2021-08-14T07:19:13.154Z"
   },
   {
    "duration": 364,
    "start_time": "2021-08-14T07:19:37.800Z"
   },
   {
    "duration": 347,
    "start_time": "2021-08-14T07:19:49.289Z"
   },
   {
    "duration": 58,
    "start_time": "2021-08-14T07:20:57.354Z"
   },
   {
    "duration": 950,
    "start_time": "2021-08-14T07:21:14.775Z"
   },
   {
    "duration": 44,
    "start_time": "2021-08-14T07:22:38.527Z"
   },
   {
    "duration": 26,
    "start_time": "2021-08-14T07:23:57.999Z"
   },
   {
    "duration": 45,
    "start_time": "2021-08-14T07:24:02.770Z"
   },
   {
    "duration": 40,
    "start_time": "2021-08-14T07:24:17.263Z"
   },
   {
    "duration": 39,
    "start_time": "2021-08-14T07:24:28.696Z"
   },
   {
    "duration": 38,
    "start_time": "2021-08-14T07:25:11.776Z"
   },
   {
    "duration": 43,
    "start_time": "2021-08-14T07:25:18.582Z"
   },
   {
    "duration": 43,
    "start_time": "2021-08-14T07:25:25.856Z"
   },
   {
    "duration": 47,
    "start_time": "2021-08-14T07:25:34.409Z"
   },
   {
    "duration": 122,
    "start_time": "2021-08-14T07:34:00.973Z"
   },
   {
    "duration": 111,
    "start_time": "2021-08-14T07:34:28.124Z"
   },
   {
    "duration": 367,
    "start_time": "2021-08-14T07:34:54.924Z"
   },
   {
    "duration": 440,
    "start_time": "2021-08-14T07:35:19.772Z"
   },
   {
    "duration": 121,
    "start_time": "2021-08-14T07:36:19.790Z"
   },
   {
    "duration": 47,
    "start_time": "2021-08-14T07:36:25.116Z"
   },
   {
    "duration": 381,
    "start_time": "2021-08-14T07:39:09.891Z"
   },
   {
    "duration": 9791,
    "start_time": "2021-08-14T07:39:39.054Z"
   },
   {
    "duration": 38,
    "start_time": "2021-08-14T07:40:02.022Z"
   },
   {
    "duration": 419,
    "start_time": "2021-08-14T07:40:50.825Z"
   },
   {
    "duration": 436,
    "start_time": "2021-08-14T07:41:20.898Z"
   },
   {
    "duration": 326,
    "start_time": "2021-08-14T07:45:22.223Z"
   },
   {
    "duration": 385,
    "start_time": "2021-08-14T07:46:37.073Z"
   },
   {
    "duration": 447,
    "start_time": "2021-08-14T07:46:44.880Z"
   },
   {
    "duration": 356,
    "start_time": "2021-08-14T07:47:25.754Z"
   },
   {
    "duration": 400,
    "start_time": "2021-08-14T07:48:18.947Z"
   },
   {
    "duration": 31,
    "start_time": "2021-08-14T07:48:30.852Z"
   },
   {
    "duration": 33,
    "start_time": "2021-08-14T07:49:43.436Z"
   },
   {
    "duration": 38,
    "start_time": "2021-08-14T07:50:40.466Z"
   },
   {
    "duration": 30,
    "start_time": "2021-08-14T07:51:00.052Z"
   },
   {
    "duration": 29,
    "start_time": "2021-08-14T07:51:11.636Z"
   },
   {
    "duration": 337,
    "start_time": "2021-08-14T07:51:21.664Z"
   },
   {
    "duration": 31,
    "start_time": "2021-08-14T07:51:30.684Z"
   },
   {
    "duration": 369,
    "start_time": "2021-08-14T07:53:40.690Z"
   },
   {
    "duration": 8676,
    "start_time": "2021-08-14T07:54:14.460Z"
   },
   {
    "duration": 97,
    "start_time": "2021-08-14T07:54:36.631Z"
   },
   {
    "duration": 67,
    "start_time": "2021-08-14T07:54:55.002Z"
   },
   {
    "duration": 9427,
    "start_time": "2021-08-14T07:55:09.487Z"
   },
   {
    "duration": 417,
    "start_time": "2021-08-14T07:55:36.983Z"
   },
   {
    "duration": 406,
    "start_time": "2021-08-14T07:55:57.751Z"
   },
   {
    "duration": 48,
    "start_time": "2021-08-14T07:56:10.593Z"
   },
   {
    "duration": 48,
    "start_time": "2021-08-14T07:57:44.956Z"
   },
   {
    "duration": 52,
    "start_time": "2021-08-14T07:57:55.444Z"
   },
   {
    "duration": 403,
    "start_time": "2021-08-14T07:58:06.181Z"
   },
   {
    "duration": 50,
    "start_time": "2021-08-14T07:58:15.154Z"
   },
   {
    "duration": 399,
    "start_time": "2021-08-14T08:00:00.802Z"
   },
   {
    "duration": 52,
    "start_time": "2021-08-14T08:00:10.417Z"
   },
   {
    "duration": 654,
    "start_time": "2021-08-14T08:00:35.301Z"
   },
   {
    "duration": 69,
    "start_time": "2021-08-14T08:00:58.328Z"
   },
   {
    "duration": 401,
    "start_time": "2021-08-14T08:01:31.143Z"
   },
   {
    "duration": 69,
    "start_time": "2021-08-14T08:02:23.172Z"
   },
   {
    "duration": 70,
    "start_time": "2021-08-14T08:02:33.747Z"
   },
   {
    "duration": 8,
    "start_time": "2021-08-14T08:05:26.622Z"
   },
   {
    "duration": 358,
    "start_time": "2021-08-14T08:07:53.442Z"
   },
   {
    "duration": 385,
    "start_time": "2021-08-14T08:08:30.508Z"
   },
   {
    "duration": 367,
    "start_time": "2021-08-14T08:08:44.396Z"
   },
   {
    "duration": 36,
    "start_time": "2021-08-14T08:09:08.405Z"
   },
   {
    "duration": 53,
    "start_time": "2021-08-14T08:10:07.460Z"
   },
   {
    "duration": 338,
    "start_time": "2021-08-14T08:13:26.048Z"
   },
   {
    "duration": 33,
    "start_time": "2021-08-14T08:14:01.327Z"
   },
   {
    "duration": 49,
    "start_time": "2021-08-14T08:14:26.997Z"
   },
   {
    "duration": 3,
    "start_time": "2021-08-14T08:17:45.157Z"
   },
   {
    "duration": 121,
    "start_time": "2021-08-14T08:17:47.811Z"
   },
   {
    "duration": 51,
    "start_time": "2021-08-14T08:17:51.712Z"
   },
   {
    "duration": 48,
    "start_time": "2021-08-14T08:18:12.219Z"
   },
   {
    "duration": 46,
    "start_time": "2021-08-14T08:20:01.120Z"
   },
   {
    "duration": 3449,
    "start_time": "2021-08-14T08:20:43.457Z"
   },
   {
    "duration": 3335,
    "start_time": "2021-08-14T08:20:52.298Z"
   },
   {
    "duration": 3227,
    "start_time": "2021-08-14T08:42:30.363Z"
   },
   {
    "duration": 3310,
    "start_time": "2021-08-14T08:42:51.171Z"
   },
   {
    "duration": 388,
    "start_time": "2021-08-14T09:11:23.519Z"
   },
   {
    "duration": 3290,
    "start_time": "2021-08-14T09:11:35.807Z"
   },
   {
    "duration": 7,
    "start_time": "2021-08-14T09:18:19.321Z"
   },
   {
    "duration": 28,
    "start_time": "2021-08-14T09:18:26.560Z"
   },
   {
    "duration": 340,
    "start_time": "2021-08-14T09:20:49.755Z"
   },
   {
    "duration": 3244,
    "start_time": "2021-08-14T09:21:06.352Z"
   },
   {
    "duration": 4,
    "start_time": "2021-08-14T09:36:19.937Z"
   },
   {
    "duration": 494,
    "start_time": "2021-08-14T09:36:20.319Z"
   },
   {
    "duration": 39,
    "start_time": "2021-08-14T09:36:20.816Z"
   },
   {
    "duration": 39,
    "start_time": "2021-08-14T09:36:23.787Z"
   },
   {
    "duration": 29,
    "start_time": "2021-08-14T09:36:24.163Z"
   },
   {
    "duration": 16,
    "start_time": "2021-08-14T09:36:25.681Z"
   },
   {
    "duration": 25,
    "start_time": "2021-08-14T09:36:27.992Z"
   },
   {
    "duration": 94,
    "start_time": "2021-08-14T09:36:33.311Z"
   },
   {
    "duration": 68,
    "start_time": "2021-08-14T09:36:34.540Z"
   },
   {
    "duration": 20,
    "start_time": "2021-08-14T09:36:34.769Z"
   },
   {
    "duration": 22,
    "start_time": "2021-08-14T09:36:35.123Z"
   },
   {
    "duration": 18,
    "start_time": "2021-08-14T09:36:35.746Z"
   },
   {
    "duration": 27,
    "start_time": "2021-08-14T09:36:37.114Z"
   },
   {
    "duration": 13,
    "start_time": "2021-08-14T09:36:47.007Z"
   },
   {
    "duration": 552,
    "start_time": "2021-08-14T09:36:54.302Z"
   },
   {
    "duration": 578,
    "start_time": "2021-08-14T09:36:54.857Z"
   },
   {
    "duration": 38,
    "start_time": "2021-08-14T09:36:55.438Z"
   },
   {
    "duration": 542,
    "start_time": "2021-08-14T09:36:55.479Z"
   },
   {
    "duration": 581,
    "start_time": "2021-08-14T09:36:56.024Z"
   },
   {
    "duration": 575,
    "start_time": "2021-08-14T09:36:56.607Z"
   },
   {
    "duration": 28,
    "start_time": "2021-08-14T09:36:57.185Z"
   },
   {
    "duration": 689,
    "start_time": "2021-08-14T09:36:57.216Z"
   },
   {
    "duration": 7,
    "start_time": "2021-08-14T09:36:57.909Z"
   },
   {
    "duration": 231,
    "start_time": "2021-08-14T09:36:57.919Z"
   },
   {
    "duration": 125,
    "start_time": "2021-08-14T09:36:58.153Z"
   },
   {
    "duration": 127,
    "start_time": "2021-08-14T09:36:58.281Z"
   },
   {
    "duration": 3369,
    "start_time": "2021-08-14T09:36:58.411Z"
   },
   {
    "duration": 416,
    "start_time": "2021-08-14T09:44:48.533Z"
   },
   {
    "duration": 6,
    "start_time": "2021-08-14T09:44:55.773Z"
   },
   {
    "duration": 26,
    "start_time": "2021-08-14T09:45:02.351Z"
   },
   {
    "duration": 1235,
    "start_time": "2021-08-14T13:31:55.856Z"
   },
   {
    "duration": 793,
    "start_time": "2021-08-14T13:31:57.095Z"
   },
   {
    "duration": 71,
    "start_time": "2021-08-14T13:31:57.893Z"
   },
   {
    "duration": 62,
    "start_time": "2021-08-14T13:31:57.968Z"
   },
   {
    "duration": 50,
    "start_time": "2021-08-14T13:31:58.033Z"
   },
   {
    "duration": 18,
    "start_time": "2021-08-14T13:31:58.085Z"
   },
   {
    "duration": 23,
    "start_time": "2021-08-14T13:31:58.176Z"
   },
   {
    "duration": 164,
    "start_time": "2021-08-14T13:32:00.220Z"
   },
   {
    "duration": 90,
    "start_time": "2021-08-14T13:32:01.254Z"
   },
   {
    "duration": 19,
    "start_time": "2021-08-14T13:32:01.832Z"
   },
   {
    "duration": 20,
    "start_time": "2021-08-14T13:32:02.816Z"
   },
   {
    "duration": 18,
    "start_time": "2021-08-14T13:32:03.422Z"
   },
   {
    "duration": 28,
    "start_time": "2021-08-14T13:32:03.912Z"
   },
   {
    "duration": 12,
    "start_time": "2021-08-14T13:32:04.286Z"
   },
   {
    "duration": 596,
    "start_time": "2021-08-14T13:32:04.582Z"
   },
   {
    "duration": 607,
    "start_time": "2021-08-14T13:32:05.181Z"
   },
   {
    "duration": 34,
    "start_time": "2021-08-14T13:32:05.791Z"
   },
   {
    "duration": 659,
    "start_time": "2021-08-14T13:32:05.828Z"
   },
   {
    "duration": 599,
    "start_time": "2021-08-14T13:32:06.489Z"
   },
   {
    "duration": 637,
    "start_time": "2021-08-14T13:32:07.091Z"
   },
   {
    "duration": 45,
    "start_time": "2021-08-14T13:32:07.730Z"
   },
   {
    "duration": 806,
    "start_time": "2021-08-14T13:32:07.779Z"
   },
   {
    "duration": 6,
    "start_time": "2021-08-14T13:32:08.587Z"
   },
   {
    "duration": 240,
    "start_time": "2021-08-14T13:32:08.596Z"
   },
   {
    "duration": 139,
    "start_time": "2021-08-14T13:32:08.838Z"
   },
   {
    "duration": 140,
    "start_time": "2021-08-14T13:32:08.979Z"
   },
   {
    "duration": 3359,
    "start_time": "2021-08-14T13:32:09.121Z"
   },
   {
    "duration": 28,
    "start_time": "2021-08-14T13:32:12.483Z"
   },
   {
    "duration": 785,
    "start_time": "2021-08-14T15:21:25.496Z"
   },
   {
    "duration": 578,
    "start_time": "2021-08-14T15:22:48.054Z"
   },
   {
    "duration": 512,
    "start_time": "2021-08-14T15:25:42.690Z"
   },
   {
    "duration": 8259,
    "start_time": "2021-08-14T15:26:38.287Z"
   },
   {
    "duration": 1096,
    "start_time": "2021-08-14T15:26:59.561Z"
   },
   {
    "duration": 596,
    "start_time": "2021-08-14T15:28:23.677Z"
   },
   {
    "duration": 1125,
    "start_time": "2021-08-14T15:29:52.365Z"
   },
   {
    "duration": 1076,
    "start_time": "2021-08-14T15:31:53.896Z"
   },
   {
    "duration": 558,
    "start_time": "2021-08-14T15:32:18.239Z"
   },
   {
    "duration": 1132,
    "start_time": "2021-08-14T15:34:11.819Z"
   },
   {
    "duration": 1076,
    "start_time": "2021-08-14T15:34:18.369Z"
   },
   {
    "duration": 1084,
    "start_time": "2021-08-14T15:47:02.567Z"
   },
   {
    "duration": 534,
    "start_time": "2021-08-14T15:48:21.159Z"
   },
   {
    "duration": 529,
    "start_time": "2021-08-14T15:49:04.545Z"
   },
   {
    "duration": 6,
    "start_time": "2021-08-14T15:58:08.518Z"
   },
   {
    "duration": 30,
    "start_time": "2021-08-14T15:58:16.391Z"
   },
   {
    "duration": 7884,
    "start_time": "2021-08-14T15:59:29.668Z"
   },
   {
    "duration": 9,
    "start_time": "2021-08-14T15:59:46.412Z"
   },
   {
    "duration": 10,
    "start_time": "2021-08-14T16:01:36.497Z"
   },
   {
    "duration": 10,
    "start_time": "2021-08-14T16:03:49.100Z"
   },
   {
    "duration": 10,
    "start_time": "2021-08-14T16:08:55.847Z"
   },
   {
    "duration": 16,
    "start_time": "2021-08-14T16:09:57.960Z"
   },
   {
    "duration": 15,
    "start_time": "2021-08-14T16:11:11.060Z"
   },
   {
    "duration": 114,
    "start_time": "2021-08-14T16:11:50.941Z"
   },
   {
    "duration": 13,
    "start_time": "2021-08-14T16:12:25.392Z"
   },
   {
    "duration": 12,
    "start_time": "2021-08-14T16:13:24.937Z"
   },
   {
    "duration": 15,
    "start_time": "2021-08-14T16:14:07.810Z"
   },
   {
    "duration": 17,
    "start_time": "2021-08-14T16:14:12.156Z"
   },
   {
    "duration": 15,
    "start_time": "2021-08-14T16:14:20.223Z"
   },
   {
    "duration": 12,
    "start_time": "2021-08-14T16:18:11.230Z"
   },
   {
    "duration": 12,
    "start_time": "2021-08-14T16:22:34.996Z"
   },
   {
    "duration": 98,
    "start_time": "2021-08-14T16:25:42.418Z"
   },
   {
    "duration": 564,
    "start_time": "2021-08-14T16:26:15.742Z"
   },
   {
    "duration": 584,
    "start_time": "2021-08-14T16:26:28.028Z"
   },
   {
    "duration": 303,
    "start_time": "2021-08-14T16:27:11.230Z"
   },
   {
    "duration": 643,
    "start_time": "2021-08-14T16:27:23.071Z"
   },
   {
    "duration": 591,
    "start_time": "2021-08-14T16:27:44.108Z"
   },
   {
    "duration": 564,
    "start_time": "2021-08-14T16:28:08.825Z"
   },
   {
    "duration": 562,
    "start_time": "2021-08-14T16:28:27.456Z"
   },
   {
    "duration": 552,
    "start_time": "2021-08-14T16:29:37.317Z"
   },
   {
    "duration": 540,
    "start_time": "2021-08-14T16:30:11.744Z"
   },
   {
    "duration": 657,
    "start_time": "2021-08-14T16:30:40.391Z"
   },
   {
    "duration": 127,
    "start_time": "2021-08-14T16:33:36.057Z"
   },
   {
    "duration": 7,
    "start_time": "2021-08-14T16:34:53.787Z"
   },
   {
    "duration": 934,
    "start_time": "2021-08-14T16:35:28.950Z"
   },
   {
    "duration": 835,
    "start_time": "2021-08-14T16:37:19.851Z"
   },
   {
    "duration": 1032,
    "start_time": "2021-08-14T16:38:24.915Z"
   },
   {
    "duration": 697,
    "start_time": "2021-08-14T16:45:18.387Z"
   },
   {
    "duration": 946,
    "start_time": "2021-08-14T16:45:26.357Z"
   },
   {
    "duration": 385,
    "start_time": "2021-08-14T17:53:31.707Z"
   },
   {
    "duration": 414,
    "start_time": "2021-08-14T17:53:52.772Z"
   },
   {
    "duration": 496,
    "start_time": "2021-08-14T17:53:54.656Z"
   },
   {
    "duration": 39,
    "start_time": "2021-08-14T17:53:55.154Z"
   },
   {
    "duration": 39,
    "start_time": "2021-08-14T17:53:55.288Z"
   },
   {
    "duration": 30,
    "start_time": "2021-08-14T17:53:55.572Z"
   },
   {
    "duration": 17,
    "start_time": "2021-08-14T17:53:55.870Z"
   },
   {
    "duration": 25,
    "start_time": "2021-08-14T17:53:56.172Z"
   },
   {
    "duration": 94,
    "start_time": "2021-08-14T17:53:56.611Z"
   },
   {
    "duration": 71,
    "start_time": "2021-08-14T17:53:56.906Z"
   },
   {
    "duration": 19,
    "start_time": "2021-08-14T17:53:57.084Z"
   },
   {
    "duration": 22,
    "start_time": "2021-08-14T17:53:57.256Z"
   },
   {
    "duration": 17,
    "start_time": "2021-08-14T17:53:57.392Z"
   },
   {
    "duration": 25,
    "start_time": "2021-08-14T17:53:57.505Z"
   },
   {
    "duration": 13,
    "start_time": "2021-08-14T17:53:57.653Z"
   },
   {
    "duration": 687,
    "start_time": "2021-08-14T17:53:57.920Z"
   },
   {
    "duration": 614,
    "start_time": "2021-08-14T17:53:58.610Z"
   },
   {
    "duration": 46,
    "start_time": "2021-08-14T17:53:59.228Z"
   },
   {
    "duration": 581,
    "start_time": "2021-08-14T17:53:59.277Z"
   },
   {
    "duration": 588,
    "start_time": "2021-08-14T17:53:59.861Z"
   },
   {
    "duration": 625,
    "start_time": "2021-08-14T17:54:00.452Z"
   },
   {
    "duration": 27,
    "start_time": "2021-08-14T17:54:01.080Z"
   },
   {
    "duration": 662,
    "start_time": "2021-08-14T17:54:01.110Z"
   },
   {
    "duration": 8,
    "start_time": "2021-08-14T17:54:01.775Z"
   },
   {
    "duration": 263,
    "start_time": "2021-08-14T17:54:01.785Z"
   },
   {
    "duration": 130,
    "start_time": "2021-08-14T17:54:02.050Z"
   },
   {
    "duration": 248,
    "start_time": "2021-08-14T17:54:02.182Z"
   },
   {
    "duration": 3311,
    "start_time": "2021-08-14T17:54:02.432Z"
   },
   {
    "duration": 34,
    "start_time": "2021-08-14T17:54:05.745Z"
   },
   {
    "duration": 1088,
    "start_time": "2021-08-14T17:54:05.782Z"
   },
   {
    "duration": 8,
    "start_time": "2021-08-14T17:54:06.872Z"
   },
   {
    "duration": 867,
    "start_time": "2021-08-14T17:54:06.882Z"
   },
   {
    "duration": 847,
    "start_time": "2021-08-14T17:54:07.751Z"
   },
   {
    "duration": 878,
    "start_time": "2021-08-14T17:54:08.600Z"
   },
   {
    "duration": 371,
    "start_time": "2021-08-14T17:54:09.481Z"
   },
   {
    "duration": 15,
    "start_time": "2021-08-14T17:54:19.231Z"
   },
   {
    "duration": 15,
    "start_time": "2021-08-14T17:56:33.691Z"
   },
   {
    "duration": 15,
    "start_time": "2021-08-14T17:56:42.106Z"
   },
   {
    "duration": 25,
    "start_time": "2021-08-14T17:58:58.815Z"
   },
   {
    "duration": 16,
    "start_time": "2021-08-14T18:02:41.576Z"
   },
   {
    "duration": 21,
    "start_time": "2021-08-14T18:03:22.987Z"
   },
   {
    "duration": 18,
    "start_time": "2021-08-14T18:08:13.732Z"
   },
   {
    "duration": 18,
    "start_time": "2021-08-14T18:08:55.315Z"
   },
   {
    "duration": 15,
    "start_time": "2021-08-14T18:09:21.693Z"
   },
   {
    "duration": 10,
    "start_time": "2021-08-14T18:10:31.078Z"
   },
   {
    "duration": 8,
    "start_time": "2021-08-14T18:10:41.098Z"
   },
   {
    "duration": 9,
    "start_time": "2021-08-14T18:10:57.145Z"
   },
   {
    "duration": 8,
    "start_time": "2021-08-14T18:11:05.320Z"
   },
   {
    "duration": 3366,
    "start_time": "2021-08-14T18:23:07.130Z"
   },
   {
    "duration": 3360,
    "start_time": "2021-08-14T18:23:19.849Z"
   },
   {
    "duration": 15,
    "start_time": "2021-08-14T18:26:41.391Z"
   },
   {
    "duration": 9,
    "start_time": "2021-08-14T18:28:52.318Z"
   },
   {
    "duration": 8,
    "start_time": "2021-08-14T18:29:05.102Z"
   },
   {
    "duration": 7,
    "start_time": "2021-08-14T18:29:12.273Z"
   },
   {
    "duration": 7,
    "start_time": "2021-08-14T18:29:21.279Z"
   },
   {
    "duration": 317,
    "start_time": "2021-08-15T10:03:40.948Z"
   },
   {
    "duration": 1283,
    "start_time": "2021-08-15T10:03:44.982Z"
   },
   {
    "duration": 521,
    "start_time": "2021-08-15T10:03:46.268Z"
   },
   {
    "duration": 43,
    "start_time": "2021-08-15T10:03:46.791Z"
   },
   {
    "duration": 36,
    "start_time": "2021-08-15T10:03:46.837Z"
   },
   {
    "duration": 48,
    "start_time": "2021-08-15T10:03:46.875Z"
   },
   {
    "duration": 16,
    "start_time": "2021-08-15T10:03:46.925Z"
   },
   {
    "duration": 39,
    "start_time": "2021-08-15T10:03:46.943Z"
   },
   {
    "duration": 111,
    "start_time": "2021-08-15T10:03:47.000Z"
   },
   {
    "duration": 66,
    "start_time": "2021-08-15T10:03:47.117Z"
   },
   {
    "duration": 21,
    "start_time": "2021-08-15T10:03:47.199Z"
   },
   {
    "duration": 23,
    "start_time": "2021-08-15T10:03:47.223Z"
   },
   {
    "duration": 54,
    "start_time": "2021-08-15T10:03:47.249Z"
   },
   {
    "duration": 27,
    "start_time": "2021-08-15T10:03:47.306Z"
   },
   {
    "duration": 16,
    "start_time": "2021-08-15T10:03:47.336Z"
   },
   {
    "duration": 595,
    "start_time": "2021-08-15T10:03:47.355Z"
   },
   {
    "duration": 601,
    "start_time": "2021-08-15T10:03:47.953Z"
   },
   {
    "duration": 44,
    "start_time": "2021-08-15T10:03:48.557Z"
   },
   {
    "duration": 541,
    "start_time": "2021-08-15T10:03:48.604Z"
   },
   {
    "duration": 574,
    "start_time": "2021-08-15T10:03:49.148Z"
   },
   {
    "duration": 671,
    "start_time": "2021-08-15T10:03:49.724Z"
   },
   {
    "duration": 31,
    "start_time": "2021-08-15T10:03:50.397Z"
   },
   {
    "duration": 603,
    "start_time": "2021-08-15T10:03:50.431Z"
   },
   {
    "duration": 7,
    "start_time": "2021-08-15T10:03:51.036Z"
   },
   {
    "duration": 233,
    "start_time": "2021-08-15T10:03:51.045Z"
   },
   {
    "duration": 135,
    "start_time": "2021-08-15T10:03:51.282Z"
   },
   {
    "duration": 136,
    "start_time": "2021-08-15T10:03:51.420Z"
   },
   {
    "duration": 54,
    "start_time": "2021-08-15T10:03:51.563Z"
   },
   {
    "duration": 3407,
    "start_time": "2021-08-15T10:03:51.621Z"
   },
   {
    "duration": 27,
    "start_time": "2021-08-15T10:03:55.031Z"
   },
   {
    "duration": 1133,
    "start_time": "2021-08-15T10:03:55.061Z"
   },
   {
    "duration": 8,
    "start_time": "2021-08-15T10:03:56.196Z"
   },
   {
    "duration": 846,
    "start_time": "2021-08-15T10:03:56.206Z"
   },
   {
    "duration": 846,
    "start_time": "2021-08-15T10:03:57.054Z"
   },
   {
    "duration": 972,
    "start_time": "2021-08-15T10:03:57.903Z"
   },
   {
    "duration": 15,
    "start_time": "2021-08-15T10:03:58.877Z"
   },
   {
    "duration": 12,
    "start_time": "2021-08-15T10:03:58.894Z"
   },
   {
    "duration": 8,
    "start_time": "2021-08-15T10:03:58.908Z"
   },
   {
    "duration": 10,
    "start_time": "2021-08-15T10:03:58.918Z"
   },
   {
    "duration": 8,
    "start_time": "2021-08-15T10:03:58.930Z"
   },
   {
    "duration": 3574,
    "start_time": "2021-08-15T10:03:58.941Z"
   },
   {
    "duration": 15,
    "start_time": "2021-08-15T10:04:02.517Z"
   },
   {
    "duration": 16,
    "start_time": "2021-08-15T10:04:02.534Z"
   },
   {
    "duration": 17,
    "start_time": "2021-08-15T10:04:02.553Z"
   },
   {
    "duration": 31,
    "start_time": "2021-08-15T10:04:02.572Z"
   },
   {
    "duration": 9,
    "start_time": "2021-08-15T10:04:02.605Z"
   },
   {
    "duration": 92,
    "start_time": "2021-08-15T10:05:18.534Z"
   },
   {
    "duration": 343,
    "start_time": "2021-08-15T10:07:10.461Z"
   },
   {
    "duration": 19,
    "start_time": "2021-08-15T10:07:14.904Z"
   },
   {
    "duration": 5,
    "start_time": "2021-08-15T10:07:18.719Z"
   },
   {
    "duration": 8,
    "start_time": "2021-08-15T10:07:24.806Z"
   },
   {
    "duration": 100,
    "start_time": "2021-08-15T10:07:58.209Z"
   },
   {
    "duration": 99,
    "start_time": "2021-08-15T10:08:10.952Z"
   },
   {
    "duration": 97,
    "start_time": "2021-08-15T10:08:19.185Z"
   },
   {
    "duration": 92,
    "start_time": "2021-08-15T10:08:33.935Z"
   },
   {
    "duration": 125,
    "start_time": "2021-08-15T10:08:45.876Z"
   },
   {
    "duration": 12,
    "start_time": "2021-08-15T10:09:27.226Z"
   },
   {
    "duration": 1045,
    "start_time": "2021-08-15T14:48:11.523Z"
   },
   {
    "duration": 402,
    "start_time": "2021-08-15T14:48:27.863Z"
   },
   {
    "duration": 51,
    "start_time": "2021-08-15T14:49:48.283Z"
   },
   {
    "duration": 28,
    "start_time": "2021-08-15T14:49:53.342Z"
   },
   {
    "duration": 37,
    "start_time": "2021-08-15T14:50:03.064Z"
   },
   {
    "duration": 16,
    "start_time": "2021-08-15T14:50:06.096Z"
   },
   {
    "duration": 22,
    "start_time": "2021-08-15T14:50:09.094Z"
   },
   {
    "duration": 8,
    "start_time": "2021-08-15T14:53:21.854Z"
   },
   {
    "duration": 387,
    "start_time": "2021-08-15T14:53:23.581Z"
   },
   {
    "duration": 371,
    "start_time": "2021-08-15T14:53:26.020Z"
   },
   {
    "duration": 18,
    "start_time": "2021-08-15T14:53:35.193Z"
   },
   {
    "duration": 404,
    "start_time": "2021-08-15T14:55:08.883Z"
   },
   {
    "duration": 16,
    "start_time": "2021-08-15T14:55:09.289Z"
   },
   {
    "duration": 358,
    "start_time": "2021-08-15T14:55:12.206Z"
   },
   {
    "duration": 445,
    "start_time": "2021-08-15T14:55:13.069Z"
   },
   {
    "duration": 387,
    "start_time": "2021-08-15T14:55:19.713Z"
   },
   {
    "duration": 361,
    "start_time": "2021-08-15T15:07:59.501Z"
   },
   {
    "duration": 16,
    "start_time": "2021-08-15T15:11:58.321Z"
   },
   {
    "duration": 383,
    "start_time": "2021-08-15T15:12:05.502Z"
   },
   {
    "duration": 16,
    "start_time": "2021-08-15T15:13:36.722Z"
   },
   {
    "duration": 18,
    "start_time": "2021-08-15T15:13:56.298Z"
   },
   {
    "duration": 16,
    "start_time": "2021-08-15T15:14:07.836Z"
   },
   {
    "duration": 59,
    "start_time": "2021-08-15T15:16:40.891Z"
   },
   {
    "duration": 257,
    "start_time": "2021-08-15T15:20:28.990Z"
   },
   {
    "duration": 367,
    "start_time": "2021-08-15T15:20:44.629Z"
   },
   {
    "duration": 8,
    "start_time": "2021-08-15T15:20:44.998Z"
   },
   {
    "duration": 4,
    "start_time": "2021-08-15T15:21:08.417Z"
   },
   {
    "duration": 4,
    "start_time": "2021-08-15T15:21:13.691Z"
   },
   {
    "duration": 434,
    "start_time": "2021-08-15T15:21:14.351Z"
   },
   {
    "duration": 35,
    "start_time": "2021-08-15T15:21:14.787Z"
   },
   {
    "duration": 46,
    "start_time": "2021-08-15T15:21:15.140Z"
   },
   {
    "duration": 21,
    "start_time": "2021-08-15T15:21:16.129Z"
   },
   {
    "duration": 12,
    "start_time": "2021-08-15T15:21:17.035Z"
   },
   {
    "duration": 18,
    "start_time": "2021-08-15T15:21:18.502Z"
   },
   {
    "duration": 69,
    "start_time": "2021-08-15T15:21:20.534Z"
   },
   {
    "duration": 52,
    "start_time": "2021-08-15T15:21:21.273Z"
   },
   {
    "duration": 15,
    "start_time": "2021-08-15T15:21:22.282Z"
   },
   {
    "duration": 14,
    "start_time": "2021-08-15T15:21:23.119Z"
   },
   {
    "duration": 14,
    "start_time": "2021-08-15T15:21:23.868Z"
   },
   {
    "duration": 16,
    "start_time": "2021-08-15T15:21:25.022Z"
   },
   {
    "duration": 7,
    "start_time": "2021-08-15T15:21:26.934Z"
   },
   {
    "duration": 354,
    "start_time": "2021-08-15T15:21:29.110Z"
   },
   {
    "duration": 453,
    "start_time": "2021-08-15T15:21:31.105Z"
   },
   {
    "duration": 32,
    "start_time": "2021-08-15T15:21:32.670Z"
   },
   {
    "duration": 340,
    "start_time": "2021-08-15T15:21:34.670Z"
   },
   {
    "duration": 356,
    "start_time": "2021-08-15T15:21:35.980Z"
   },
   {
    "duration": 364,
    "start_time": "2021-08-15T15:21:38.428Z"
   },
   {
    "duration": 18,
    "start_time": "2021-08-15T15:21:41.109Z"
   },
   {
    "duration": 365,
    "start_time": "2021-08-15T15:21:51.260Z"
   },
   {
    "duration": 20,
    "start_time": "2021-08-15T15:21:54.210Z"
   },
   {
    "duration": 144,
    "start_time": "2021-08-15T15:21:57.111Z"
   },
   {
    "duration": 83,
    "start_time": "2021-08-15T15:21:57.555Z"
   },
   {
    "duration": 88,
    "start_time": "2021-08-15T15:21:58.278Z"
   },
   {
    "duration": 2203,
    "start_time": "2021-08-15T15:22:05.737Z"
   },
   {
    "duration": 2215,
    "start_time": "2021-08-15T15:23:17.266Z"
   },
   {
    "duration": 2056,
    "start_time": "2021-08-15T15:24:18.064Z"
   },
   {
    "duration": 2205,
    "start_time": "2021-08-15T15:35:35.046Z"
   },
   {
    "duration": 1970,
    "start_time": "2021-08-15T15:35:44.409Z"
   },
   {
    "duration": 1946,
    "start_time": "2021-08-15T15:35:54.614Z"
   },
   {
    "duration": 1998,
    "start_time": "2021-08-15T15:37:20.216Z"
   },
   {
    "duration": 339,
    "start_time": "2021-08-15T15:38:30.062Z"
   },
   {
    "duration": 20,
    "start_time": "2021-08-15T15:38:57.498Z"
   },
   {
    "duration": 10,
    "start_time": "2021-08-15T15:44:28.772Z"
   },
   {
    "duration": 10,
    "start_time": "2021-08-15T15:45:40.053Z"
   },
   {
    "duration": 371,
    "start_time": "2021-08-15T15:45:41.880Z"
   },
   {
    "duration": 372,
    "start_time": "2021-08-15T15:45:42.253Z"
   },
   {
    "duration": 18,
    "start_time": "2021-08-15T15:45:42.626Z"
   },
   {
    "duration": 364,
    "start_time": "2021-08-15T15:45:42.645Z"
   },
   {
    "duration": 375,
    "start_time": "2021-08-15T15:45:43.011Z"
   },
   {
    "duration": 377,
    "start_time": "2021-08-15T15:45:44.038Z"
   },
   {
    "duration": 9,
    "start_time": "2021-08-15T15:45:44.416Z"
   },
   {
    "duration": 3,
    "start_time": "2021-08-15T15:45:59.352Z"
   },
   {
    "duration": 429,
    "start_time": "2021-08-15T15:45:59.734Z"
   },
   {
    "duration": 27,
    "start_time": "2021-08-15T15:46:00.164Z"
   },
   {
    "duration": 25,
    "start_time": "2021-08-15T15:46:00.332Z"
   },
   {
    "duration": 21,
    "start_time": "2021-08-15T15:46:00.774Z"
   },
   {
    "duration": 13,
    "start_time": "2021-08-15T15:46:01.044Z"
   },
   {
    "duration": 16,
    "start_time": "2021-08-15T15:46:01.377Z"
   },
   {
    "duration": 63,
    "start_time": "2021-08-15T15:46:01.889Z"
   },
   {
    "duration": 49,
    "start_time": "2021-08-15T15:46:02.230Z"
   },
   {
    "duration": 13,
    "start_time": "2021-08-15T15:46:02.586Z"
   },
   {
    "duration": 14,
    "start_time": "2021-08-15T15:46:02.788Z"
   },
   {
    "duration": 12,
    "start_time": "2021-08-15T15:46:02.970Z"
   },
   {
    "duration": 16,
    "start_time": "2021-08-15T15:46:03.150Z"
   },
   {
    "duration": 10,
    "start_time": "2021-08-15T15:46:04.648Z"
   },
   {
    "duration": 481,
    "start_time": "2021-08-15T15:46:09.002Z"
   },
   {
    "duration": 371,
    "start_time": "2021-08-15T15:46:09.669Z"
   },
   {
    "duration": 21,
    "start_time": "2021-08-15T15:46:10.042Z"
   },
   {
    "duration": 339,
    "start_time": "2021-08-15T15:46:10.250Z"
   },
   {
    "duration": 355,
    "start_time": "2021-08-15T15:46:10.590Z"
   },
   {
    "duration": 361,
    "start_time": "2021-08-15T15:46:13.795Z"
   },
   {
    "duration": 19,
    "start_time": "2021-08-15T15:46:14.555Z"
   },
   {
    "duration": 366,
    "start_time": "2021-08-15T15:46:16.053Z"
   },
   {
    "duration": 19,
    "start_time": "2021-08-15T15:46:19.006Z"
   },
   {
    "duration": 143,
    "start_time": "2021-08-15T15:46:19.778Z"
   },
   {
    "duration": 74,
    "start_time": "2021-08-15T15:46:19.970Z"
   },
   {
    "duration": 72,
    "start_time": "2021-08-15T15:46:20.178Z"
   },
   {
    "duration": 7,
    "start_time": "2021-08-15T15:46:21.333Z"
   },
   {
    "duration": 1970,
    "start_time": "2021-08-15T15:46:30.015Z"
   },
   {
    "duration": 33,
    "start_time": "2021-08-15T15:46:35.391Z"
   },
   {
    "duration": 309,
    "start_time": "2021-08-15T15:48:08.405Z"
   },
   {
    "duration": 539,
    "start_time": "2021-08-15T15:48:32.401Z"
   },
   {
    "duration": 549,
    "start_time": "2021-08-15T15:50:17.273Z"
   },
   {
    "duration": 545,
    "start_time": "2021-08-15T15:51:39.677Z"
   },
   {
    "duration": 6,
    "start_time": "2021-08-15T15:53:05.123Z"
   },
   {
    "duration": 683,
    "start_time": "2021-08-15T15:53:30.980Z"
   },
   {
    "duration": 523,
    "start_time": "2021-08-15T15:53:34.681Z"
   },
   {
    "duration": 536,
    "start_time": "2021-08-15T15:54:20.439Z"
   },
   {
    "duration": 11,
    "start_time": "2021-08-15T15:54:39.655Z"
   },
   {
    "duration": 7,
    "start_time": "2021-08-15T15:54:45.159Z"
   },
   {
    "duration": 6,
    "start_time": "2021-08-15T15:54:46.492Z"
   },
   {
    "duration": 7,
    "start_time": "2021-08-15T15:54:52.035Z"
   },
   {
    "duration": 6,
    "start_time": "2021-08-15T15:54:52.787Z"
   },
   {
    "duration": 1955,
    "start_time": "2021-08-15T15:55:56.588Z"
   },
   {
    "duration": 12,
    "start_time": "2021-08-15T15:56:07.142Z"
   },
   {
    "duration": 7,
    "start_time": "2021-08-15T15:56:17.709Z"
   },
   {
    "duration": 7,
    "start_time": "2021-08-15T15:56:17.939Z"
   },
   {
    "duration": 7,
    "start_time": "2021-08-15T15:56:18.295Z"
   },
   {
    "duration": 7,
    "start_time": "2021-08-15T15:56:18.858Z"
   },
   {
    "duration": 1291,
    "start_time": "2021-08-16T10:20:06.764Z"
   },
   {
    "duration": 477,
    "start_time": "2021-08-16T10:20:08.058Z"
   },
   {
    "duration": 43,
    "start_time": "2021-08-16T10:20:08.538Z"
   },
   {
    "duration": 33,
    "start_time": "2021-08-16T10:20:08.584Z"
   },
   {
    "duration": 62,
    "start_time": "2021-08-16T10:20:08.620Z"
   },
   {
    "duration": 16,
    "start_time": "2021-08-16T10:20:08.684Z"
   },
   {
    "duration": 24,
    "start_time": "2021-08-16T10:20:08.702Z"
   },
   {
    "duration": 131,
    "start_time": "2021-08-16T10:20:08.728Z"
   },
   {
    "duration": 80,
    "start_time": "2021-08-16T10:20:08.863Z"
   },
   {
    "duration": 17,
    "start_time": "2021-08-16T10:20:08.947Z"
   },
   {
    "duration": 28,
    "start_time": "2021-08-16T10:20:08.967Z"
   },
   {
    "duration": 15,
    "start_time": "2021-08-16T10:20:08.998Z"
   },
   {
    "duration": 68,
    "start_time": "2021-08-16T10:20:09.015Z"
   },
   {
    "duration": 17,
    "start_time": "2021-08-16T10:20:09.086Z"
   },
   {
    "duration": 570,
    "start_time": "2021-08-16T10:20:09.106Z"
   },
   {
    "duration": 570,
    "start_time": "2021-08-16T10:20:09.682Z"
   },
   {
    "duration": 43,
    "start_time": "2021-08-16T10:20:10.254Z"
   },
   {
    "duration": 799,
    "start_time": "2021-08-16T10:20:10.300Z"
   },
   {
    "duration": 573,
    "start_time": "2021-08-16T10:20:11.103Z"
   },
   {
    "duration": 625,
    "start_time": "2021-08-16T10:20:11.678Z"
   },
   {
    "duration": 25,
    "start_time": "2021-08-16T10:20:12.305Z"
   },
   {
    "duration": 600,
    "start_time": "2021-08-16T10:20:12.333Z"
   },
   {
    "duration": 46,
    "start_time": "2021-08-16T10:20:12.936Z"
   },
   {
    "duration": 212,
    "start_time": "2021-08-16T10:20:12.985Z"
   },
   {
    "duration": 122,
    "start_time": "2021-08-16T10:20:13.200Z"
   },
   {
    "duration": 126,
    "start_time": "2021-08-16T10:20:13.325Z"
   },
   {
    "duration": 9,
    "start_time": "2021-08-16T10:20:13.457Z"
   },
   {
    "duration": 3252,
    "start_time": "2021-08-16T10:20:13.468Z"
   },
   {
    "duration": 28,
    "start_time": "2021-08-16T10:20:16.723Z"
   },
   {
    "duration": 1173,
    "start_time": "2021-08-16T10:20:16.753Z"
   },
   {
    "duration": 7,
    "start_time": "2021-08-16T10:20:17.929Z"
   },
   {
    "duration": 865,
    "start_time": "2021-08-16T10:20:17.938Z"
   },
   {
    "duration": 945,
    "start_time": "2021-08-16T10:20:18.805Z"
   },
   {
    "duration": 935,
    "start_time": "2021-08-16T10:20:19.753Z"
   },
   {
    "duration": 16,
    "start_time": "2021-08-16T10:20:20.691Z"
   },
   {
    "duration": 24,
    "start_time": "2021-08-16T10:20:20.710Z"
   },
   {
    "duration": 14,
    "start_time": "2021-08-16T10:20:20.736Z"
   },
   {
    "duration": 33,
    "start_time": "2021-08-16T10:20:20.752Z"
   },
   {
    "duration": 8,
    "start_time": "2021-08-16T10:20:20.787Z"
   },
   {
    "duration": 3252,
    "start_time": "2021-08-16T10:20:20.797Z"
   },
   {
    "duration": 15,
    "start_time": "2021-08-16T10:20:24.051Z"
   },
   {
    "duration": 9,
    "start_time": "2021-08-16T10:20:24.083Z"
   },
   {
    "duration": 10,
    "start_time": "2021-08-16T10:20:24.095Z"
   },
   {
    "duration": 12,
    "start_time": "2021-08-16T10:20:24.108Z"
   },
   {
    "duration": 10,
    "start_time": "2021-08-16T10:20:24.123Z"
   },
   {
    "duration": 136,
    "start_time": "2021-08-16T10:21:23.266Z"
   }
  ],
  "kernelspec": {
   "display_name": "Python 3",
   "language": "python",
   "name": "python3"
  },
  "language_info": {
   "codemirror_mode": {
    "name": "ipython",
    "version": 3
   },
   "file_extension": ".py",
   "mimetype": "text/x-python",
   "name": "python",
   "nbconvert_exporter": "python",
   "pygments_lexer": "ipython3",
   "version": "3.7.8"
  },
  "toc": {
   "base_numbering": 1,
   "nav_menu": {},
   "number_sections": true,
   "sideBar": true,
   "skip_h1_title": true,
   "title_cell": "Table of Contents",
   "title_sidebar": "Contents",
   "toc_cell": false,
   "toc_position": {},
   "toc_section_display": true,
   "toc_window_display": false
  }
 },
 "nbformat": 4,
 "nbformat_minor": 2
}
